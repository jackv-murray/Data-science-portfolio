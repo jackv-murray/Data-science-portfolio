{
 "cells": [
  {
   "cell_type": "markdown",
   "id": "84f45cc8",
   "metadata": {
    "papermill": {
     "duration": 0.023832,
     "end_time": "2022-02-24T21:29:01.367191",
     "exception": false,
     "start_time": "2022-02-24T21:29:01.343359",
     "status": "completed"
    },
    "tags": []
   },
   "source": [
    "What I aim to demonstrate:\n",
    "- date and time manipulation by datetime methods and classes\n",
    "- isolating relevant columns/rows from large datasets\n",
    "- basic calculations such as average number of posts per hour\n",
    "- format information for easier presentation with str.format and sorted()"
   ]
  },
  {
   "cell_type": "code",
   "execution_count": 1,
   "id": "bae24609",
   "metadata": {
    "execution": {
     "iopub.execute_input": "2022-02-24T21:29:01.418605Z",
     "iopub.status.busy": "2022-02-24T21:29:01.416929Z",
     "iopub.status.idle": "2022-02-24T21:29:02.872651Z",
     "shell.execute_reply": "2022-02-24T21:29:02.873241Z",
     "shell.execute_reply.started": "2022-02-24T21:20:04.663645Z"
    },
    "papermill": {
     "duration": 1.482354,
     "end_time": "2022-02-24T21:29:02.873559",
     "exception": false,
     "start_time": "2022-02-24T21:29:01.391205",
     "status": "completed"
    },
    "tags": []
   },
   "outputs": [],
   "source": [
    "from csv import reader\n",
    "open_file = open('../input/hacker-news-posts/HN_posts_year_to_Sep_26_2016.csv')\n",
    "read_file = reader(open_file)\n",
    "hn = list(read_file)"
   ]
  },
  {
   "cell_type": "code",
   "execution_count": 2,
   "id": "ee7c356f",
   "metadata": {
    "execution": {
     "iopub.execute_input": "2022-02-24T21:29:02.922069Z",
     "iopub.status.busy": "2022-02-24T21:29:02.921461Z",
     "iopub.status.idle": "2022-02-24T21:29:02.924565Z",
     "shell.execute_reply": "2022-02-24T21:29:02.924997Z",
     "shell.execute_reply.started": "2022-02-24T21:20:06.165886Z"
    },
    "papermill": {
     "duration": 0.029648,
     "end_time": "2022-02-24T21:29:02.925173",
     "exception": false,
     "start_time": "2022-02-24T21:29:02.895525",
     "status": "completed"
    },
    "tags": []
   },
   "outputs": [
    {
     "name": "stdout",
     "output_type": "stream",
     "text": [
      "[['id', 'title', 'url', 'num_points', 'num_comments', 'author', 'created_at'], ['12579008', 'You have two days to comment if you want stem cells to be classified as your own', 'http://www.regulations.gov/document?D=FDA-2015-D-3719-0018', '1', '0', 'altstar', '9/26/2016 3:26'], ['12579005', 'SQLAR  the SQLite Archiver', 'https://www.sqlite.org/sqlar/doc/trunk/README.md', '1', '0', 'blacksqr', '9/26/2016 3:24'], ['12578997', 'What if we just printed a flatscreen television on the side of our boxes?', 'https://medium.com/vanmoof/our-secrets-out-f21c1f03fdc8#.ietxmez43', '1', '0', 'pavel_lishin', '9/26/2016 3:19'], ['12578989', 'algorithmic music', 'http://cacm.acm.org/magazines/2011/7/109891-algorithmic-composition/fulltext', '1', '0', 'poindontcare', '9/26/2016 3:16']]\n"
     ]
    }
   ],
   "source": [
    "print(hn[:5])"
   ]
  },
  {
   "cell_type": "code",
   "execution_count": 3,
   "id": "09febbc6",
   "metadata": {
    "execution": {
     "iopub.execute_input": "2022-02-24T21:29:02.991988Z",
     "iopub.status.busy": "2022-02-24T21:29:02.988244Z",
     "iopub.status.idle": "2022-02-24T21:29:02.996108Z",
     "shell.execute_reply": "2022-02-24T21:29:02.995355Z",
     "shell.execute_reply.started": "2022-02-24T21:20:06.172459Z"
    },
    "papermill": {
     "duration": 0.048011,
     "end_time": "2022-02-24T21:29:02.996281",
     "exception": false,
     "start_time": "2022-02-24T21:29:02.948270",
     "status": "completed"
    },
    "tags": []
   },
   "outputs": [],
   "source": [
    "headers = hn[0]\n",
    "    \n",
    "hn = hn[1:]\n"
   ]
  },
  {
   "cell_type": "code",
   "execution_count": 4,
   "id": "552bd113",
   "metadata": {
    "execution": {
     "iopub.execute_input": "2022-02-24T21:29:03.047286Z",
     "iopub.status.busy": "2022-02-24T21:29:03.045603Z",
     "iopub.status.idle": "2022-02-24T21:29:03.050165Z",
     "shell.execute_reply": "2022-02-24T21:29:03.050883Z",
     "shell.execute_reply.started": "2022-02-24T21:20:06.192000Z"
    },
    "papermill": {
     "duration": 0.031586,
     "end_time": "2022-02-24T21:29:03.051094",
     "exception": false,
     "start_time": "2022-02-24T21:29:03.019508",
     "status": "completed"
    },
    "tags": []
   },
   "outputs": [
    {
     "name": "stdout",
     "output_type": "stream",
     "text": [
      "[['12579008', 'You have two days to comment if you want stem cells to be classified as your own', 'http://www.regulations.gov/document?D=FDA-2015-D-3719-0018', '1', '0', 'altstar', '9/26/2016 3:26'], ['12579005', 'SQLAR  the SQLite Archiver', 'https://www.sqlite.org/sqlar/doc/trunk/README.md', '1', '0', 'blacksqr', '9/26/2016 3:24'], ['12578997', 'What if we just printed a flatscreen television on the side of our boxes?', 'https://medium.com/vanmoof/our-secrets-out-f21c1f03fdc8#.ietxmez43', '1', '0', 'pavel_lishin', '9/26/2016 3:19'], ['12578989', 'algorithmic music', 'http://cacm.acm.org/magazines/2011/7/109891-algorithmic-composition/fulltext', '1', '0', 'poindontcare', '9/26/2016 3:16'], ['12578979', 'How the Data Vault Enables the Next-Gen Data Warehouse and Data Lake', 'https://www.talend.com/blog/2016/05/12/talend-and-Â\\x93the-data-vaultÂ\\x94', '1', '0', 'markgainor1', '9/26/2016 3:14']]\n",
      "\n",
      "\n",
      "['id', 'title', 'url', 'num_points', 'num_comments', 'author', 'created_at']\n"
     ]
    }
   ],
   "source": [
    "print(hn[:5])\n",
    "print('\\n')\n",
    "print(headers)"
   ]
  },
  {
   "cell_type": "code",
   "execution_count": 5,
   "id": "ab0e68ac",
   "metadata": {
    "execution": {
     "iopub.execute_input": "2022-02-24T21:29:03.103241Z",
     "iopub.status.busy": "2022-02-24T21:29:03.102641Z",
     "iopub.status.idle": "2022-02-24T21:29:03.105414Z",
     "shell.execute_reply": "2022-02-24T21:29:03.105826Z",
     "shell.execute_reply.started": "2022-02-24T21:20:06.205006Z"
    },
    "papermill": {
     "duration": 0.030431,
     "end_time": "2022-02-24T21:29:03.105975",
     "exception": false,
     "start_time": "2022-02-24T21:29:03.075544",
     "status": "completed"
    },
    "tags": []
   },
   "outputs": [],
   "source": [
    "ask_posts = []\n",
    "show_posts = []\n",
    "other_posts = []"
   ]
  },
  {
   "cell_type": "markdown",
   "id": "03738627",
   "metadata": {
    "papermill": {
     "duration": 0.024724,
     "end_time": "2022-02-24T21:29:03.154124",
     "exception": false,
     "start_time": "2022-02-24T21:29:03.129400",
     "status": "completed"
    },
    "tags": []
   },
   "source": [
    "## Filter Data - filtering posts beginning with either Ask HN or Show HN"
   ]
  },
  {
   "cell_type": "code",
   "execution_count": 6,
   "id": "bfdba43f",
   "metadata": {
    "execution": {
     "iopub.execute_input": "2022-02-24T21:29:03.202441Z",
     "iopub.status.busy": "2022-02-24T21:29:03.201829Z",
     "iopub.status.idle": "2022-02-24T21:29:03.385777Z",
     "shell.execute_reply": "2022-02-24T21:29:03.386277Z",
     "shell.execute_reply.started": "2022-02-24T21:20:06.215848Z"
    },
    "papermill": {
     "duration": 0.209783,
     "end_time": "2022-02-24T21:29:03.386456",
     "exception": false,
     "start_time": "2022-02-24T21:29:03.176673",
     "status": "completed"
    },
    "tags": []
   },
   "outputs": [],
   "source": [
    "for row in hn:\n",
    "    title = row[1] \n",
    "    if title.lower().startswith('ask hn'): #to control for case, convert string to lower first\n",
    "        ask_posts.append(row) #the entire row, not just 'title' must be appended\n",
    "    elif title.lower().startswith('show hn'):\n",
    "        show_posts.append(row)\n",
    "    else:\n",
    "        other_posts.append(row)\n",
    "    \n",
    "    "
   ]
  },
  {
   "cell_type": "markdown",
   "id": "34078596",
   "metadata": {
    "execution": {
     "iopub.execute_input": "2022-02-24T21:20:06.412951Z",
     "iopub.status.busy": "2022-02-24T21:20:06.412727Z",
     "iopub.status.idle": "2022-02-24T21:20:07.593984Z",
     "shell.execute_reply": "2022-02-24T21:20:07.593191Z",
     "shell.execute_reply.started": "2022-02-24T21:20:06.412924Z"
    },
    "papermill": {
     "duration": 0.022431,
     "end_time": "2022-02-24T21:29:03.431758",
     "exception": false,
     "start_time": "2022-02-24T21:29:03.409327",
     "status": "completed"
    },
    "tags": []
   },
   "source": [
    "for i in ask_posts:\n",
    "    print(i[4])"
   ]
  },
  {
   "cell_type": "markdown",
   "id": "19fc3cec",
   "metadata": {
    "papermill": {
     "duration": 0.022218,
     "end_time": "2022-02-24T21:29:03.476622",
     "exception": false,
     "start_time": "2022-02-24T21:29:03.454404",
     "status": "completed"
    },
    "tags": []
   },
   "source": [
    "Checking the number of posts:"
   ]
  },
  {
   "cell_type": "code",
   "execution_count": 7,
   "id": "03c7c765",
   "metadata": {
    "execution": {
     "iopub.execute_input": "2022-02-24T21:29:03.542336Z",
     "iopub.status.busy": "2022-02-24T21:29:03.523919Z",
     "iopub.status.idle": "2022-02-24T21:29:03.546468Z",
     "shell.execute_reply": "2022-02-24T21:29:03.546929Z",
     "shell.execute_reply.started": "2022-02-24T21:20:07.595334Z"
    },
    "papermill": {
     "duration": 0.048007,
     "end_time": "2022-02-24T21:29:03.547090",
     "exception": false,
     "start_time": "2022-02-24T21:29:03.499083",
     "status": "completed"
    },
    "tags": []
   },
   "outputs": [
    {
     "name": "stdout",
     "output_type": "stream",
     "text": [
      "Ask posts count: 9139\n",
      "\n",
      "\n",
      "Show posts count: 10158\n",
      "\n",
      "\n",
      "Other posts count: 273822\n"
     ]
    }
   ],
   "source": [
    "print('Ask posts count:' + \" \" + str(len(ask_posts)))\n",
    "print('\\n')\n",
    "print('Show posts count:' + \" \" + str(len(show_posts)))\n",
    "print('\\n')\n",
    "print('Other posts count:' + \" \" + str(len(other_posts))) \n"
   ]
  },
  {
   "cell_type": "markdown",
   "id": "5ed3441e",
   "metadata": {
    "papermill": {
     "duration": 0.022827,
     "end_time": "2022-02-24T21:29:03.592791",
     "exception": false,
     "start_time": "2022-02-24T21:29:03.569964",
     "status": "completed"
    },
    "tags": []
   },
   "source": [
    "## Finding the total number of comments within ask and show posts"
   ]
  },
  {
   "cell_type": "code",
   "execution_count": 8,
   "id": "6bd258f0",
   "metadata": {
    "execution": {
     "iopub.execute_input": "2022-02-24T21:29:03.650849Z",
     "iopub.status.busy": "2022-02-24T21:29:03.650185Z",
     "iopub.status.idle": "2022-02-24T21:29:03.652915Z",
     "shell.execute_reply": "2022-02-24T21:29:03.653413Z",
     "shell.execute_reply.started": "2022-02-24T21:20:07.602847Z"
    },
    "papermill": {
     "duration": 0.037279,
     "end_time": "2022-02-24T21:29:03.653579",
     "exception": false,
     "start_time": "2022-02-24T21:29:03.616300",
     "status": "completed"
    },
    "tags": []
   },
   "outputs": [
    {
     "name": "stdout",
     "output_type": "stream",
     "text": [
      "94986\n"
     ]
    }
   ],
   "source": [
    "total_ask_comments = 0\n",
    "\n",
    "for row in ask_posts:\n",
    "    num_comments = row[4]\n",
    "    num_comments = int(num_comments)\n",
    "    total_ask_comments = total_ask_comments + num_comments #assign back to total_ask_comments\n",
    "    \n",
    "print (total_ask_comments)"
   ]
  },
  {
   "cell_type": "code",
   "execution_count": 9,
   "id": "11b1c05a",
   "metadata": {
    "execution": {
     "iopub.execute_input": "2022-02-24T21:29:03.705442Z",
     "iopub.status.busy": "2022-02-24T21:29:03.704850Z",
     "iopub.status.idle": "2022-02-24T21:29:03.707533Z",
     "shell.execute_reply": "2022-02-24T21:29:03.708181Z",
     "shell.execute_reply.started": "2022-02-24T21:20:07.620887Z"
    },
    "papermill": {
     "duration": 0.031605,
     "end_time": "2022-02-24T21:29:03.708388",
     "exception": false,
     "start_time": "2022-02-24T21:29:03.676783",
     "status": "completed"
    },
    "tags": []
   },
   "outputs": [
    {
     "name": "stdout",
     "output_type": "stream",
     "text": [
      "10.393478498741656\n"
     ]
    }
   ],
   "source": [
    "avg_ask_comments = total_ask_comments / len(ask_posts)\n",
    "print(avg_ask_comments)"
   ]
  },
  {
   "cell_type": "code",
   "execution_count": 10,
   "id": "f3e40be7",
   "metadata": {
    "execution": {
     "iopub.execute_input": "2022-02-24T21:29:03.768241Z",
     "iopub.status.busy": "2022-02-24T21:29:03.767596Z",
     "iopub.status.idle": "2022-02-24T21:29:03.770335Z",
     "shell.execute_reply": "2022-02-24T21:29:03.770801Z",
     "shell.execute_reply.started": "2022-02-24T21:20:07.629794Z"
    },
    "papermill": {
     "duration": 0.037622,
     "end_time": "2022-02-24T21:29:03.770961",
     "exception": false,
     "start_time": "2022-02-24T21:29:03.733339",
     "status": "completed"
    },
    "tags": []
   },
   "outputs": [
    {
     "name": "stdout",
     "output_type": "stream",
     "text": [
      "49633\n"
     ]
    }
   ],
   "source": [
    "total_show_comments = 0\n",
    "\n",
    "for row in show_posts:\n",
    "    num_comments = row[4]\n",
    "    num_comments = int(num_comments)\n",
    "    total_show_comments = total_show_comments + num_comments #assign back to total_ask_comments\n",
    "    \n",
    "print (total_show_comments)"
   ]
  },
  {
   "cell_type": "code",
   "execution_count": 11,
   "id": "05084971",
   "metadata": {
    "execution": {
     "iopub.execute_input": "2022-02-24T21:29:03.823588Z",
     "iopub.status.busy": "2022-02-24T21:29:03.822871Z",
     "iopub.status.idle": "2022-02-24T21:29:03.826583Z",
     "shell.execute_reply": "2022-02-24T21:29:03.825888Z",
     "shell.execute_reply.started": "2022-02-24T21:20:07.648566Z"
    },
    "papermill": {
     "duration": 0.0316,
     "end_time": "2022-02-24T21:29:03.826761",
     "exception": false,
     "start_time": "2022-02-24T21:29:03.795161",
     "status": "completed"
    },
    "tags": []
   },
   "outputs": [
    {
     "name": "stdout",
     "output_type": "stream",
     "text": [
      "4.886099625910612\n"
     ]
    }
   ],
   "source": [
    "avg_show_comments = total_show_comments / len(show_posts)\n",
    "print(avg_show_comments)"
   ]
  },
  {
   "cell_type": "markdown",
   "id": "2cf5a001",
   "metadata": {
    "papermill": {
     "duration": 0.023947,
     "end_time": "2022-02-24T21:29:03.876490",
     "exception": false,
     "start_time": "2022-02-24T21:29:03.852543",
     "status": "completed"
    },
    "tags": []
   },
   "source": [
    "On average, Ask HN posts tend to have more comments on average. Since ask posts receive more comments than show posts, the focus on the analysis will be on ask posts.\n",
    "\n",
    "Next, I aim to caclulate:\n",
    "- the number of ask posts created in each hour of the day, along with the number of comments received\n",
    "- the average number of comments ask posts received by hour created"
   ]
  },
  {
   "cell_type": "code",
   "execution_count": 12,
   "id": "0d16bf85",
   "metadata": {
    "execution": {
     "iopub.execute_input": "2022-02-24T21:29:03.928912Z",
     "iopub.status.busy": "2022-02-24T21:29:03.928009Z",
     "iopub.status.idle": "2022-02-24T21:29:03.930170Z",
     "shell.execute_reply": "2022-02-24T21:29:03.930559Z",
     "shell.execute_reply.started": "2022-02-24T21:20:07.659774Z"
    },
    "papermill": {
     "duration": 0.030393,
     "end_time": "2022-02-24T21:29:03.930731",
     "exception": false,
     "start_time": "2022-02-24T21:29:03.900338",
     "status": "completed"
    },
    "tags": []
   },
   "outputs": [],
   "source": [
    "import datetime as dt"
   ]
  },
  {
   "cell_type": "code",
   "execution_count": 13,
   "id": "c459c834",
   "metadata": {
    "execution": {
     "iopub.execute_input": "2022-02-24T21:29:03.983822Z",
     "iopub.status.busy": "2022-02-24T21:29:03.982907Z",
     "iopub.status.idle": "2022-02-24T21:29:03.985473Z",
     "shell.execute_reply": "2022-02-24T21:29:03.984916Z",
     "shell.execute_reply.started": "2022-02-24T21:20:07.669046Z"
    },
    "papermill": {
     "duration": 0.031148,
     "end_time": "2022-02-24T21:29:03.985603",
     "exception": false,
     "start_time": "2022-02-24T21:29:03.954455",
     "status": "completed"
    },
    "tags": []
   },
   "outputs": [],
   "source": [
    "results_list = []"
   ]
  },
  {
   "cell_type": "code",
   "execution_count": 14,
   "id": "14786ec1",
   "metadata": {
    "execution": {
     "iopub.execute_input": "2022-02-24T21:29:04.055390Z",
     "iopub.status.busy": "2022-02-24T21:29:04.040506Z",
     "iopub.status.idle": "2022-02-24T21:29:04.058807Z",
     "shell.execute_reply": "2022-02-24T21:29:04.059508Z",
     "shell.execute_reply.started": "2022-02-24T21:20:07.677838Z"
    },
    "papermill": {
     "duration": 0.047573,
     "end_time": "2022-02-24T21:29:04.059758",
     "exception": false,
     "start_time": "2022-02-24T21:29:04.012185",
     "status": "completed"
    },
    "tags": []
   },
   "outputs": [],
   "source": [
    "for row in ask_posts:\n",
    "    created_at = row[6]\n",
    "    num_comments = row[4]\n",
    "    num_comments = int(num_comments)\n",
    "    results_list.append([created_at, num_comments]) #appended this way to create a list of lists\n",
    "    #if appended separately, wouldn't be able to access correct index[0] for time, and [1] for comments for each item\n",
    "    "
   ]
  },
  {
   "cell_type": "code",
   "execution_count": 15,
   "id": "2b0fc51b",
   "metadata": {
    "execution": {
     "iopub.execute_input": "2022-02-24T21:29:04.135447Z",
     "iopub.status.busy": "2022-02-24T21:29:04.134520Z",
     "iopub.status.idle": "2022-02-24T21:29:04.137508Z",
     "shell.execute_reply": "2022-02-24T21:29:04.136008Z",
     "shell.execute_reply.started": "2022-02-24T21:20:49.703619Z"
    },
    "papermill": {
     "duration": 0.044157,
     "end_time": "2022-02-24T21:29:04.137658",
     "exception": false,
     "start_time": "2022-02-24T21:29:04.093501",
     "status": "completed"
    },
    "tags": []
   },
   "outputs": [
    {
     "name": "stdout",
     "output_type": "stream",
     "text": [
      "[['9/26/2016 2:53', 7], ['9/26/2016 1:17', 3], ['9/25/2016 22:57', 0], ['9/25/2016 22:48', 3], ['9/25/2016 21:50', 2]]\n"
     ]
    }
   ],
   "source": [
    "print(results_list[:5])"
   ]
  },
  {
   "cell_type": "code",
   "execution_count": 16,
   "id": "0285d5b3",
   "metadata": {
    "execution": {
     "iopub.execute_input": "2022-02-24T21:29:04.202621Z",
     "iopub.status.busy": "2022-02-24T21:29:04.201694Z",
     "iopub.status.idle": "2022-02-24T21:29:04.203941Z",
     "shell.execute_reply": "2022-02-24T21:29:04.204541Z",
     "shell.execute_reply.started": "2022-02-24T21:20:07.730787Z"
    },
    "papermill": {
     "duration": 0.034975,
     "end_time": "2022-02-24T21:29:04.204707",
     "exception": false,
     "start_time": "2022-02-24T21:29:04.169732",
     "status": "completed"
    },
    "tags": []
   },
   "outputs": [],
   "source": [
    "counts_by_hour = {} #this will be the number of ask posts created during each hour of the day\n",
    "comments_by_hour = {} #and this will be the corresponding number of *comments* ask posts created at each hour received"
   ]
  },
  {
   "cell_type": "code",
   "execution_count": 17,
   "id": "e9f21da6",
   "metadata": {
    "execution": {
     "iopub.execute_input": "2022-02-24T21:29:04.258651Z",
     "iopub.status.busy": "2022-02-24T21:29:04.257712Z",
     "iopub.status.idle": "2022-02-24T21:29:04.398332Z",
     "shell.execute_reply": "2022-02-24T21:29:04.398802Z",
     "shell.execute_reply.started": "2022-02-24T21:20:07.735462Z"
    },
    "papermill": {
     "duration": 0.169297,
     "end_time": "2022-02-24T21:29:04.398980",
     "exception": false,
     "start_time": "2022-02-24T21:29:04.229683",
     "status": "completed"
    },
    "tags": []
   },
   "outputs": [],
   "source": [
    "for row in results_list:\n",
    "    hour = row[0]\n",
    "    comment = row[1]\n",
    "    hour_time = dt.datetime.strptime(hour, \"%m/%d/%Y %H:%M\").strftime('%H') #to first convert hour str into a datetime class, then isolate the hour\n",
    "    if hour_time not in counts_by_hour:\n",
    "        counts_by_hour[hour_time] = 1 #creates a key in counts by hour if it's not arleady there\n",
    "        comments_by_hour[hour_time] = comment #creates a key, which will be 'hour_time' with its value being 'comment'\n",
    "    else:\n",
    "        counts_by_hour[hour_time] += 1\n",
    "        comments_by_hour[hour_time] += comment\n",
    "        \n",
    "#this creates frequency table with the number of ask posts created during each hour and number of comments received    "
   ]
  },
  {
   "cell_type": "code",
   "execution_count": 18,
   "id": "604a1380",
   "metadata": {
    "execution": {
     "iopub.execute_input": "2022-02-24T21:29:04.453228Z",
     "iopub.status.busy": "2022-02-24T21:29:04.452265Z",
     "iopub.status.idle": "2022-02-24T21:29:04.457010Z",
     "shell.execute_reply": "2022-02-24T21:29:04.457563Z",
     "shell.execute_reply.started": "2022-02-24T21:20:07.864037Z"
    },
    "papermill": {
     "duration": 0.033876,
     "end_time": "2022-02-24T21:29:04.457732",
     "exception": false,
     "start_time": "2022-02-24T21:29:04.423856",
     "status": "completed"
    },
    "tags": []
   },
   "outputs": [
    {
     "name": "stdout",
     "output_type": "stream",
     "text": [
      "{'02': 2996, '01': 2089, '22': 3372, '21': 4500, '19': 3954, '17': 5547, '15': 18525, '14': 4972, '13': 7245, '11': 2797, '10': 3013, '09': 1477, '07': 1585, '03': 2154, '23': 2297, '20': 4462, '16': 4466, '08': 2362, '00': 2277, '18': 4877, '12': 4234, '04': 2360, '06': 1587, '05': 1838}\n"
     ]
    }
   ],
   "source": [
    "print(comments_by_hour)\n",
    "   "
   ]
  },
  {
   "cell_type": "code",
   "execution_count": 19,
   "id": "b90ee407",
   "metadata": {
    "execution": {
     "iopub.execute_input": "2022-02-24T21:29:04.512741Z",
     "iopub.status.busy": "2022-02-24T21:29:04.512118Z",
     "iopub.status.idle": "2022-02-24T21:29:04.514873Z",
     "shell.execute_reply": "2022-02-24T21:29:04.515334Z",
     "shell.execute_reply.started": "2022-02-24T21:20:07.870257Z"
    },
    "papermill": {
     "duration": 0.032639,
     "end_time": "2022-02-24T21:29:04.515493",
     "exception": false,
     "start_time": "2022-02-24T21:29:04.482854",
     "status": "completed"
    },
    "tags": []
   },
   "outputs": [
    {
     "name": "stdout",
     "output_type": "stream",
     "text": [
      "{'02': 269, '01': 282, '22': 383, '21': 518, '19': 552, '17': 587, '15': 646, '14': 513, '13': 444, '11': 312, '10': 282, '09': 222, '07': 226, '03': 271, '23': 343, '20': 510, '16': 579, '08': 257, '00': 301, '18': 614, '12': 342, '04': 243, '06': 234, '05': 209}\n"
     ]
    }
   ],
   "source": [
    "print(counts_by_hour)"
   ]
  },
  {
   "cell_type": "markdown",
   "id": "8c317f38",
   "metadata": {
    "papermill": {
     "duration": 0.024747,
     "end_time": "2022-02-24T21:29:04.565459",
     "exception": false,
     "start_time": "2022-02-24T21:29:04.540712",
     "status": "completed"
    },
    "tags": []
   },
   "source": [
    "### Calculating average number of comments per post, for posts created during each hour of the day"
   ]
  },
  {
   "cell_type": "code",
   "execution_count": 20,
   "id": "c85c9c1a",
   "metadata": {
    "execution": {
     "iopub.execute_input": "2022-02-24T21:29:04.618747Z",
     "iopub.status.busy": "2022-02-24T21:29:04.617866Z",
     "iopub.status.idle": "2022-02-24T21:29:04.622325Z",
     "shell.execute_reply": "2022-02-24T21:29:04.622786Z",
     "shell.execute_reply.started": "2022-02-24T21:20:07.882213Z"
    },
    "papermill": {
     "duration": 0.032623,
     "end_time": "2022-02-24T21:29:04.622945",
     "exception": false,
     "start_time": "2022-02-24T21:29:04.590322",
     "status": "completed"
    },
    "tags": []
   },
   "outputs": [],
   "source": [
    "avg_by_hour = []\n",
    "\n",
    "for i in counts_by_hour:\n",
    "    avg_by_hour.append([i,  comments_by_hour[i] / counts_by_hour[i]])\n",
    "\n",
    "#to append first the key of the dictionary, i.e. hour, and the second element of the list being the amount of comments per hour \n",
    "#divided by the number of posts, i.e. total comments in an hour / total posts per hour\n",
    "# = average number of comments per post"
   ]
  },
  {
   "cell_type": "code",
   "execution_count": 21,
   "id": "74049134",
   "metadata": {
    "execution": {
     "iopub.execute_input": "2022-02-24T21:29:04.678698Z",
     "iopub.status.busy": "2022-02-24T21:29:04.677803Z",
     "iopub.status.idle": "2022-02-24T21:29:04.680587Z",
     "shell.execute_reply": "2022-02-24T21:29:04.681000Z",
     "shell.execute_reply.started": "2022-02-24T21:20:07.893330Z"
    },
    "papermill": {
     "duration": 0.033122,
     "end_time": "2022-02-24T21:29:04.681176",
     "exception": false,
     "start_time": "2022-02-24T21:29:04.648054",
     "status": "completed"
    },
    "tags": []
   },
   "outputs": [
    {
     "name": "stdout",
     "output_type": "stream",
     "text": [
      "[['02', 11.137546468401487], ['01', 7.407801418439717], ['22', 8.804177545691905], ['21', 8.687258687258687], ['19', 7.163043478260869], ['17', 9.449744463373083], ['15', 28.676470588235293], ['14', 9.692007797270955], ['13', 16.31756756756757], ['11', 8.96474358974359], ['10', 10.684397163120567], ['09', 6.653153153153153], ['07', 7.013274336283186], ['03', 7.948339483394834], ['23', 6.696793002915452], ['20', 8.749019607843136], ['16', 7.713298791018998], ['08', 9.190661478599221], ['00', 7.5647840531561465], ['18', 7.94299674267101], ['12', 12.380116959064328], ['04', 9.7119341563786], ['06', 6.782051282051282], ['05', 8.794258373205741]]\n"
     ]
    }
   ],
   "source": [
    "print(avg_by_hour)"
   ]
  },
  {
   "cell_type": "markdown",
   "id": "083a40e8",
   "metadata": {
    "papermill": {
     "duration": 0.026043,
     "end_time": "2022-02-24T21:29:04.733255",
     "exception": false,
     "start_time": "2022-02-24T21:29:04.707212",
     "status": "completed"
    },
    "tags": []
   },
   "source": [
    "#### Sorting the list of lists\n",
    "- creating an list that equals avg_by_hour but with swapped columns\n",
    "- needed because if we are to sort the columns, it would sort by hour, rather than average comments per hour"
   ]
  },
  {
   "cell_type": "code",
   "execution_count": 22,
   "id": "95d7927f",
   "metadata": {
    "execution": {
     "iopub.execute_input": "2022-02-24T21:29:04.788817Z",
     "iopub.status.busy": "2022-02-24T21:29:04.787895Z",
     "iopub.status.idle": "2022-02-24T21:29:04.789850Z",
     "shell.execute_reply": "2022-02-24T21:29:04.790409Z",
     "shell.execute_reply.started": "2022-02-24T21:20:07.901266Z"
    },
    "papermill": {
     "duration": 0.032029,
     "end_time": "2022-02-24T21:29:04.790572",
     "exception": false,
     "start_time": "2022-02-24T21:29:04.758543",
     "status": "completed"
    },
    "tags": []
   },
   "outputs": [],
   "source": [
    "swap_avg_by_hour = []\n",
    "\n",
    "for row in avg_by_hour:\n",
    "    swap_avg_by_hour.append([row[1], row[0]]) "
   ]
  },
  {
   "cell_type": "code",
   "execution_count": 23,
   "id": "48e0c731",
   "metadata": {
    "execution": {
     "iopub.execute_input": "2022-02-24T21:29:04.845276Z",
     "iopub.status.busy": "2022-02-24T21:29:04.844406Z",
     "iopub.status.idle": "2022-02-24T21:29:04.849365Z",
     "shell.execute_reply": "2022-02-24T21:29:04.849830Z",
     "shell.execute_reply.started": "2022-02-24T21:20:07.910447Z"
    },
    "papermill": {
     "duration": 0.033414,
     "end_time": "2022-02-24T21:29:04.849989",
     "exception": false,
     "start_time": "2022-02-24T21:29:04.816575",
     "status": "completed"
    },
    "tags": []
   },
   "outputs": [
    {
     "name": "stdout",
     "output_type": "stream",
     "text": [
      "[[28.676470588235293, '15'], [16.31756756756757, '13'], [12.380116959064328, '12'], [11.137546468401487, '02'], [10.684397163120567, '10'], [9.7119341563786, '04'], [9.692007797270955, '14'], [9.449744463373083, '17'], [9.190661478599221, '08'], [8.96474358974359, '11'], [8.804177545691905, '22'], [8.794258373205741, '05'], [8.749019607843136, '20'], [8.687258687258687, '21'], [7.948339483394834, '03'], [7.94299674267101, '18'], [7.713298791018998, '16'], [7.5647840531561465, '00'], [7.407801418439717, '01'], [7.163043478260869, '19'], [7.013274336283186, '07'], [6.782051282051282, '06'], [6.696793002915452, '23'], [6.653153153153153, '09']]\n"
     ]
    }
   ],
   "source": [
    "sorted_swap = sorted(swap_avg_by_hour, reverse=True) #reverse argument set to true to print in descending order\n",
    "print(sorted_swap)"
   ]
  },
  {
   "cell_type": "code",
   "execution_count": 24,
   "id": "a827a191",
   "metadata": {
    "execution": {
     "iopub.execute_input": "2022-02-24T21:29:04.905378Z",
     "iopub.status.busy": "2022-02-24T21:29:04.904505Z",
     "iopub.status.idle": "2022-02-24T21:29:04.911555Z",
     "shell.execute_reply": "2022-02-24T21:29:04.912344Z",
     "shell.execute_reply.started": "2022-02-24T21:20:07.922562Z"
    },
    "papermill": {
     "duration": 0.036638,
     "end_time": "2022-02-24T21:29:04.912556",
     "exception": false,
     "start_time": "2022-02-24T21:29:04.875918",
     "status": "completed"
    },
    "tags": []
   },
   "outputs": [
    {
     "name": "stdout",
     "output_type": "stream",
     "text": [
      "Top 5 Hours for Ask Post Comments\n",
      "15:00: 28.68 average comments per post\n",
      "13:00: 16.32 average comments per post\n",
      "12:00: 12.38 average comments per post\n",
      "02:00: 11.14 average comments per post\n",
      "10:00: 10.68 average comments per post\n"
     ]
    }
   ],
   "source": [
    "print(\"Top 5 Hours for Ask Post Comments\")\n",
    "\n",
    "for row in sorted_swap[:5]:\n",
    "    time = row[1]\n",
    "    time = dt.datetime.strptime(time, \"%H\").strftime(\"%H:%M\") #to change to datetime class, then isolate hour\n",
    "    comments = row[0]\n",
    "    template = \"{0}: {1:.2f} average comments per post\"\n",
    "    output = template.format(time, comments) #using str.format and above template to paste in time and comments\n",
    "    print(output)"
   ]
  },
  {
   "cell_type": "code",
   "execution_count": null,
   "id": "5e08c1cb",
   "metadata": {
    "papermill": {
     "duration": 0.025646,
     "end_time": "2022-02-24T21:29:04.965357",
     "exception": false,
     "start_time": "2022-02-24T21:29:04.939711",
     "status": "completed"
    },
    "tags": []
   },
   "outputs": [],
   "source": []
  }
 ],
 "metadata": {
  "kernelspec": {
   "display_name": "Python 3",
   "language": "python",
   "name": "python3"
  },
  "language_info": {
   "codemirror_mode": {
    "name": "ipython",
    "version": 3
   },
   "file_extension": ".py",
   "mimetype": "text/x-python",
   "name": "python",
   "nbconvert_exporter": "python",
   "pygments_lexer": "ipython3",
   "version": "3.7.12"
  },
  "papermill": {
   "default_parameters": {},
   "duration": 12.416301,
   "end_time": "2022-02-24T21:29:05.701013",
   "environment_variables": {},
   "exception": null,
   "input_path": "__notebook__.ipynb",
   "output_path": "__notebook__.ipynb",
   "parameters": {},
   "start_time": "2022-02-24T21:28:53.284712",
   "version": "2.3.3"
  }
 },
 "nbformat": 4,
 "nbformat_minor": 5
}
