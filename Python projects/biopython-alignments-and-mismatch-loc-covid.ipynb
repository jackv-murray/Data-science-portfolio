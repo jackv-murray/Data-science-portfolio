{
 "cells": [
  {
   "cell_type": "markdown",
   "id": "c202fcd4",
   "metadata": {
    "papermill": {
     "duration": 0.032257,
     "end_time": "2022-03-12T17:18:54.744979",
     "exception": false,
     "start_time": "2022-03-12T17:18:54.712722",
     "status": "completed"
    },
    "tags": []
   },
   "source": [
    "# Comparing alignment scores using Biopython\n",
    "\n",
    "#### Using Covid variant RNA sequences\n",
    "\n",
    "Here's a walkthrough for downloading sequences from the NIH, parsing the fasta files and then aligning ref. against test for covid variants. \n",
    "\n",
    "This was transcribed from a biopython tutorial from DataQuest."
   ]
  },
  {
   "cell_type": "code",
   "execution_count": 1,
   "id": "9a9171c1",
   "metadata": {
    "execution": {
     "iopub.execute_input": "2022-03-12T17:18:54.812641Z",
     "iopub.status.busy": "2022-03-12T17:18:54.811491Z",
     "iopub.status.idle": "2022-03-12T17:18:54.826808Z",
     "shell.execute_reply": "2022-03-12T17:18:54.827379Z",
     "shell.execute_reply.started": "2022-03-12T16:31:11.768827Z"
    },
    "papermill": {
     "duration": 0.049971,
     "end_time": "2022-03-12T17:18:54.827694",
     "exception": false,
     "start_time": "2022-03-12T17:18:54.777723",
     "status": "completed"
    },
    "tags": []
   },
   "outputs": [],
   "source": [
    "import pandas as pd\n",
    "from Bio import Entrez #entrez has an esearch function, which searches NIH database for a given sequence"
   ]
  },
  {
   "cell_type": "code",
   "execution_count": 2,
   "id": "06409fb7",
   "metadata": {
    "execution": {
     "iopub.execute_input": "2022-03-12T17:18:54.893506Z",
     "iopub.status.busy": "2022-03-12T17:18:54.892735Z",
     "iopub.status.idle": "2022-03-12T17:18:54.897002Z",
     "shell.execute_reply": "2022-03-12T17:18:54.897597Z",
     "shell.execute_reply.started": "2022-03-12T16:31:11.783244Z"
    },
    "papermill": {
     "duration": 0.03939,
     "end_time": "2022-03-12T17:18:54.897776",
     "exception": false,
     "start_time": "2022-03-12T17:18:54.858386",
     "status": "completed"
    },
    "tags": []
   },
   "outputs": [],
   "source": [
    "Entrez.email = \"None\""
   ]
  },
  {
   "cell_type": "code",
   "execution_count": 3,
   "id": "76718476",
   "metadata": {
    "execution": {
     "iopub.execute_input": "2022-03-12T17:18:54.982180Z",
     "iopub.status.busy": "2022-03-12T17:18:54.981207Z",
     "iopub.status.idle": "2022-03-12T17:18:54.986537Z",
     "shell.execute_reply": "2022-03-12T17:18:54.987070Z",
     "shell.execute_reply.started": "2022-03-12T16:31:11.795163Z"
    },
    "papermill": {
     "duration": 0.047107,
     "end_time": "2022-03-12T17:18:54.987255",
     "exception": false,
     "start_time": "2022-03-12T17:18:54.940148",
     "status": "completed"
    },
    "tags": []
   },
   "outputs": [],
   "source": [
    "def download_sequence(id): #given a nucleotide accession, download sequence\n",
    "    handle = Entrez.esearch(db=\"nucleotide\", term=id, retmax='1') #search database, using the id (accession num.) \n",
    "    record = Entrez.read(handle) #generates a second id, to be used below\n",
    "    handle = Entrez.efetch(db=\"nucleotide\", id=record[\"IdList\"][0], rettype='fasta', retmode='text') #the id from above is passed in from above\n",
    "    return handle.read()"
   ]
  },
  {
   "cell_type": "markdown",
   "id": "4261e7ff",
   "metadata": {
    "papermill": {
     "duration": 0.029795,
     "end_time": "2022-03-12T17:18:55.047298",
     "exception": false,
     "start_time": "2022-03-12T17:18:55.017503",
     "status": "completed"
    },
    "tags": []
   },
   "source": [
    "### **Choosing sequences to test**\n",
    "\n",
    "**Reference:** NC_045512.2 (first isolated and sequenced strain from Wuhan)\n",
    "\n",
    "**Test:** OM061695.1 (Delta, isolated 2021"
   ]
  },
  {
   "cell_type": "code",
   "execution_count": 4,
   "id": "1dec2437",
   "metadata": {
    "execution": {
     "iopub.execute_input": "2022-03-12T17:18:55.113416Z",
     "iopub.status.busy": "2022-03-12T17:18:55.112441Z",
     "iopub.status.idle": "2022-03-12T17:18:55.116076Z",
     "shell.execute_reply": "2022-03-12T17:18:55.116697Z",
     "shell.execute_reply.started": "2022-03-12T16:31:11.807779Z"
    },
    "papermill": {
     "duration": 0.039282,
     "end_time": "2022-03-12T17:18:55.116855",
     "exception": false,
     "start_time": "2022-03-12T17:18:55.077573",
     "status": "completed"
    },
    "tags": []
   },
   "outputs": [],
   "source": [
    "sequences = ['NC_045512.2', 'OM061695.1']"
   ]
  },
  {
   "cell_type": "markdown",
   "id": "6635d5da",
   "metadata": {
    "papermill": {
     "duration": 0.029893,
     "end_time": "2022-03-12T17:18:55.176957",
     "exception": false,
     "start_time": "2022-03-12T17:18:55.147064",
     "status": "completed"
    },
    "tags": []
   },
   "source": [
    "### **Downloading sequences**\n",
    "To loop through all of the sequences in the sequence list, at each iteration download from the NIH the sequences and store within the dictionary"
   ]
  },
  {
   "cell_type": "code",
   "execution_count": 5,
   "id": "59c79d05",
   "metadata": {
    "execution": {
     "iopub.execute_input": "2022-03-12T17:18:55.240782Z",
     "iopub.status.busy": "2022-03-12T17:18:55.239829Z",
     "iopub.status.idle": "2022-03-12T17:18:57.800507Z",
     "shell.execute_reply": "2022-03-12T17:18:57.801080Z",
     "shell.execute_reply.started": "2022-03-12T16:31:11.827281Z"
    },
    "papermill": {
     "duration": 2.594217,
     "end_time": "2022-03-12T17:18:57.801299",
     "exception": false,
     "start_time": "2022-03-12T17:18:55.207082",
     "status": "completed"
    },
    "tags": []
   },
   "outputs": [],
   "source": [
    "sequence_data = {}\n",
    "for sequence in sequences:\n",
    "    sequence_data[sequence] = {\"fasta\": download_sequence(sequence)}"
   ]
  },
  {
   "cell_type": "markdown",
   "id": "17b809ef",
   "metadata": {
    "papermill": {
     "duration": 0.030151,
     "end_time": "2022-03-12T17:18:57.862360",
     "exception": false,
     "start_time": "2022-03-12T17:18:57.832209",
     "status": "completed"
    },
    "tags": []
   },
   "source": [
    "### **Parsing fasta files**\n",
    "Now, the files are in a 'fasta' format. We'll parse it to something easier to work with. "
   ]
  },
  {
   "cell_type": "markdown",
   "id": "e0036552",
   "metadata": {
    "papermill": {
     "duration": 0.030131,
     "end_time": "2022-03-12T17:18:57.923200",
     "exception": false,
     "start_time": "2022-03-12T17:18:57.893069",
     "status": "completed"
    },
    "tags": []
   },
   "source": []
  },
  {
   "cell_type": "code",
   "execution_count": 6,
   "id": "07cdb9c6",
   "metadata": {
    "execution": {
     "iopub.execute_input": "2022-03-12T17:18:57.988800Z",
     "iopub.status.busy": "2022-03-12T17:18:57.987915Z",
     "iopub.status.idle": "2022-03-12T17:18:58.118346Z",
     "shell.execute_reply": "2022-03-12T17:18:58.117750Z",
     "shell.execute_reply.started": "2022-03-12T16:31:14.320603Z"
    },
    "papermill": {
     "duration": 0.164733,
     "end_time": "2022-03-12T17:18:58.118486",
     "exception": false,
     "start_time": "2022-03-12T17:18:57.953753",
     "status": "completed"
    },
    "tags": []
   },
   "outputs": [],
   "source": [
    "from Bio import SeqIO\n",
    "import io\n"
   ]
  },
  {
   "cell_type": "code",
   "execution_count": 7,
   "id": "98653ca8",
   "metadata": {
    "execution": {
     "iopub.execute_input": "2022-03-12T17:18:58.186627Z",
     "iopub.status.busy": "2022-03-12T17:18:58.185767Z",
     "iopub.status.idle": "2022-03-12T17:18:58.210655Z",
     "shell.execute_reply": "2022-03-12T17:18:58.211177Z",
     "shell.execute_reply.started": "2022-03-12T16:31:14.387683Z"
    },
    "papermill": {
     "duration": 0.061499,
     "end_time": "2022-03-12T17:18:58.211366",
     "exception": false,
     "start_time": "2022-03-12T17:18:58.149867",
     "status": "completed"
    },
    "tags": []
   },
   "outputs": [],
   "source": [
    "for k,v in sequence_data.items(): #loop through sequence data dict above. note: key = id, value = sequence (in fasta format)\n",
    "    f = io.StringIO(v['fasta']) #create file object using fasta sequence. necessary to create a file object as biopython only works with files (this is essentially creating a 'fake' file in memory)\n",
    "    sequence_data[k][\"parsed\"] = list(SeqIO.parse(f, \"fasta\"))[0] #parse above using biopython fasta parser. [0] is included as parsing will creating several objects, but we select the first\n",
    "    "
   ]
  },
  {
   "cell_type": "markdown",
   "id": "b0f987b4",
   "metadata": {
    "papermill": {
     "duration": 0.03014,
     "end_time": "2022-03-12T17:18:58.272094",
     "exception": false,
     "start_time": "2022-03-12T17:18:58.241954",
     "status": "completed"
    },
    "tags": []
   },
   "source": [
    "In the sequence data, there will now be a parsed field"
   ]
  },
  {
   "cell_type": "code",
   "execution_count": 8,
   "id": "20cb7d8e",
   "metadata": {
    "execution": {
     "iopub.execute_input": "2022-03-12T17:18:58.336785Z",
     "iopub.status.busy": "2022-03-12T17:18:58.335816Z",
     "iopub.status.idle": "2022-03-12T17:18:58.344198Z",
     "shell.execute_reply": "2022-03-12T17:18:58.344711Z",
     "shell.execute_reply.started": "2022-03-12T16:31:14.403551Z"
    },
    "papermill": {
     "duration": 0.042298,
     "end_time": "2022-03-12T17:18:58.344873",
     "exception": false,
     "start_time": "2022-03-12T17:18:58.302575",
     "status": "completed"
    },
    "tags": []
   },
   "outputs": [
    {
     "data": {
      "text/plain": [
       "SeqRecord(seq=Seq('ATTAAAGGTTTATACCTTCCCAGGTAACAAACCAACCAACTTTCGATCTCTTGT...AAA'), id='NC_045512.2', name='NC_045512.2', description='NC_045512.2 Severe acute respiratory syndrome coronavirus 2 isolate Wuhan-Hu-1, complete genome', dbxrefs=[])"
      ]
     },
     "execution_count": 8,
     "metadata": {},
     "output_type": "execute_result"
    }
   ],
   "source": [
    "sequence_data['NC_045512.2']['parsed']"
   ]
  },
  {
   "cell_type": "code",
   "execution_count": 9,
   "id": "c96db015",
   "metadata": {
    "execution": {
     "iopub.execute_input": "2022-03-12T17:18:58.411573Z",
     "iopub.status.busy": "2022-03-12T17:18:58.410577Z",
     "iopub.status.idle": "2022-03-12T17:18:58.414763Z",
     "shell.execute_reply": "2022-03-12T17:18:58.415435Z",
     "shell.execute_reply.started": "2022-03-12T16:31:14.411969Z"
    },
    "papermill": {
     "duration": 0.039013,
     "end_time": "2022-03-12T17:18:58.415626",
     "exception": false,
     "start_time": "2022-03-12T17:18:58.376613",
     "status": "completed"
    },
    "tags": []
   },
   "outputs": [],
   "source": [
    "from Bio import Align\n",
    "aligner = Align.PairwiseAligner()"
   ]
  },
  {
   "cell_type": "code",
   "execution_count": 10,
   "id": "5fe79abf",
   "metadata": {
    "execution": {
     "iopub.execute_input": "2022-03-12T17:18:58.481866Z",
     "iopub.status.busy": "2022-03-12T17:18:58.480854Z",
     "iopub.status.idle": "2022-03-12T17:19:03.106412Z",
     "shell.execute_reply": "2022-03-12T17:19:03.105433Z",
     "shell.execute_reply.started": "2022-03-12T16:31:14.421607Z"
    },
    "papermill": {
     "duration": 4.659816,
     "end_time": "2022-03-12T17:19:03.106563",
     "exception": false,
     "start_time": "2022-03-12T17:18:58.446747",
     "status": "completed"
    },
    "tags": []
   },
   "outputs": [],
   "source": [
    "score = aligner.score(sequence_data['NC_045512.2']['parsed'].seq, sequence_data['OM061695.1']['parsed'].seq)"
   ]
  },
  {
   "cell_type": "code",
   "execution_count": 11,
   "id": "c175dfe9",
   "metadata": {
    "execution": {
     "iopub.execute_input": "2022-03-12T17:19:03.174084Z",
     "iopub.status.busy": "2022-03-12T17:19:03.173138Z",
     "iopub.status.idle": "2022-03-12T17:19:03.178157Z",
     "shell.execute_reply": "2022-03-12T17:19:03.178753Z",
     "shell.execute_reply.started": "2022-03-12T16:31:19.020934Z"
    },
    "papermill": {
     "duration": 0.040034,
     "end_time": "2022-03-12T17:19:03.178915",
     "exception": false,
     "start_time": "2022-03-12T17:19:03.138881",
     "status": "completed"
    },
    "tags": []
   },
   "outputs": [
    {
     "data": {
      "text/plain": [
       "29818.0"
      ]
     },
     "execution_count": 11,
     "metadata": {},
     "output_type": "execute_result"
    }
   ],
   "source": [
    "score #to tell me how aligned the scores are, in relation to total number of nucleotides"
   ]
  },
  {
   "cell_type": "code",
   "execution_count": 12,
   "id": "fb298803",
   "metadata": {
    "execution": {
     "iopub.execute_input": "2022-03-12T17:19:03.244254Z",
     "iopub.status.busy": "2022-03-12T17:19:03.243610Z",
     "iopub.status.idle": "2022-03-12T17:19:03.248826Z",
     "shell.execute_reply": "2022-03-12T17:19:03.248275Z",
     "shell.execute_reply.started": "2022-03-12T16:31:19.036881Z"
    },
    "papermill": {
     "duration": 0.03898,
     "end_time": "2022-03-12T17:19:03.248960",
     "exception": false,
     "start_time": "2022-03-12T17:19:03.209980",
     "status": "completed"
    },
    "tags": []
   },
   "outputs": [
    {
     "name": "stdout",
     "output_type": "stream",
     "text": [
      "29903\n"
     ]
    }
   ],
   "source": [
    "print(len(sequence_data['NC_045512.2']['parsed'].seq)) #length of the reference strain"
   ]
  },
  {
   "cell_type": "code",
   "execution_count": 13,
   "id": "c1fb2067",
   "metadata": {
    "execution": {
     "iopub.execute_input": "2022-03-12T17:19:03.315286Z",
     "iopub.status.busy": "2022-03-12T17:19:03.314693Z",
     "iopub.status.idle": "2022-03-12T17:19:03.319037Z",
     "shell.execute_reply": "2022-03-12T17:19:03.319601Z",
     "shell.execute_reply.started": "2022-03-12T16:31:19.05126Z"
    },
    "papermill": {
     "duration": 0.039004,
     "end_time": "2022-03-12T17:19:03.319772",
     "exception": false,
     "start_time": "2022-03-12T17:19:03.280768",
     "status": "completed"
    },
    "tags": []
   },
   "outputs": [
    {
     "data": {
      "text/plain": [
       "0.9971574758385446"
      ]
     },
     "execution_count": 13,
     "metadata": {},
     "output_type": "execute_result"
    }
   ],
   "source": [
    "alignment_score = 29818.0 / 29903\n",
    "alignment_score"
   ]
  },
  {
   "cell_type": "markdown",
   "id": "0868612d",
   "metadata": {
    "papermill": {
     "duration": 0.031474,
     "end_time": "2022-03-12T17:19:03.382939",
     "exception": false,
     "start_time": "2022-03-12T17:19:03.351465",
     "status": "completed"
    },
    "tags": []
   },
   "source": [
    "# Sequence mismatches\n",
    "in order to obtain the points of mutations, we'll align the two sequences"
   ]
  },
  {
   "cell_type": "code",
   "execution_count": 14,
   "id": "8b7cc17f",
   "metadata": {
    "execution": {
     "iopub.execute_input": "2022-03-12T17:19:03.449823Z",
     "iopub.status.busy": "2022-03-12T17:19:03.449200Z",
     "iopub.status.idle": "2022-03-12T17:19:03.452677Z",
     "shell.execute_reply": "2022-03-12T17:19:03.453247Z",
     "shell.execute_reply.started": "2022-03-12T16:31:19.064254Z"
    },
    "papermill": {
     "duration": 0.038474,
     "end_time": "2022-03-12T17:19:03.453413",
     "exception": false,
     "start_time": "2022-03-12T17:19:03.414939",
     "status": "completed"
    },
    "tags": []
   },
   "outputs": [],
   "source": [
    "reference = sequence_data['NC_045512.2']['parsed'].seq\n",
    "delta = sequence_data['OM061695.1']['parsed'].seq"
   ]
  },
  {
   "cell_type": "code",
   "execution_count": 15,
   "id": "a9361286",
   "metadata": {
    "execution": {
     "iopub.execute_input": "2022-03-12T17:19:03.521470Z",
     "iopub.status.busy": "2022-03-12T17:19:03.520799Z",
     "iopub.status.idle": "2022-03-12T17:19:11.381373Z",
     "shell.execute_reply": "2022-03-12T17:19:11.381931Z",
     "shell.execute_reply.started": "2022-03-12T16:31:19.077694Z"
    },
    "papermill": {
     "duration": 7.896571,
     "end_time": "2022-03-12T17:19:11.382122",
     "exception": false,
     "start_time": "2022-03-12T17:19:03.485551",
     "status": "completed"
    },
    "tags": []
   },
   "outputs": [],
   "source": [
    "delta_alignments = aligner.align(reference, delta)"
   ]
  },
  {
   "cell_type": "code",
   "execution_count": 16,
   "id": "e5df6268",
   "metadata": {
    "execution": {
     "iopub.execute_input": "2022-03-12T17:19:11.449458Z",
     "iopub.status.busy": "2022-03-12T17:19:11.448768Z",
     "iopub.status.idle": "2022-03-12T17:19:11.454373Z",
     "shell.execute_reply": "2022-03-12T17:19:11.454889Z",
     "shell.execute_reply.started": "2022-03-12T16:31:26.983521Z"
    },
    "papermill": {
     "duration": 0.040743,
     "end_time": "2022-03-12T17:19:11.455059",
     "exception": false,
     "start_time": "2022-03-12T17:19:11.414316",
     "status": "completed"
    },
    "tags": []
   },
   "outputs": [],
   "source": [
    "delta_alignment = delta_alignments[0]"
   ]
  },
  {
   "cell_type": "code",
   "execution_count": 17,
   "id": "232f6d88",
   "metadata": {
    "execution": {
     "iopub.execute_input": "2022-03-12T17:19:11.523110Z",
     "iopub.status.busy": "2022-03-12T17:19:11.522494Z",
     "iopub.status.idle": "2022-03-12T17:19:11.527101Z",
     "shell.execute_reply": "2022-03-12T17:19:11.527636Z",
     "shell.execute_reply.started": "2022-03-12T16:31:38.116786Z"
    },
    "papermill": {
     "duration": 0.040301,
     "end_time": "2022-03-12T17:19:11.527807",
     "exception": false,
     "start_time": "2022-03-12T17:19:11.487506",
     "status": "completed"
    },
    "tags": []
   },
   "outputs": [
    {
     "data": {
      "text/plain": [
       "(2, 29943)"
      ]
     },
     "execution_count": 17,
     "metadata": {},
     "output_type": "execute_result"
    }
   ],
   "source": [
    "delta_alignment.shape #the below output will tell us how many sequences were aligned, and the amount of nucleotides aligned"
   ]
  },
  {
   "cell_type": "markdown",
   "id": "4098c56c",
   "metadata": {
    "papermill": {
     "duration": 0.031992,
     "end_time": "2022-03-12T17:19:11.592299",
     "exception": false,
     "start_time": "2022-03-12T17:19:11.560307",
     "status": "completed"
    },
    "tags": []
   },
   "source": [
    "### How to interpret below output:\n",
    "shows overlaps between sequences, e.g. \n",
    "- first item in first list (reference strain) is (0,209), (210,212)...\n",
    "- second (delta) is (0,209), (209,211)\n",
    "\n"
   ]
  },
  {
   "cell_type": "code",
   "execution_count": 18,
   "id": "2fa55c4e",
   "metadata": {
    "execution": {
     "iopub.execute_input": "2022-03-12T17:19:11.660034Z",
     "iopub.status.busy": "2022-03-12T17:19:11.659444Z",
     "iopub.status.idle": "2022-03-12T17:19:11.673204Z",
     "shell.execute_reply": "2022-03-12T17:19:11.672720Z",
     "shell.execute_reply.started": "2022-03-12T16:32:23.251121Z"
    },
    "papermill": {
     "duration": 0.048661,
     "end_time": "2022-03-12T17:19:11.673365",
     "exception": false,
     "start_time": "2022-03-12T17:19:11.624704",
     "status": "completed"
    },
    "tags": []
   },
   "outputs": [
    {
     "data": {
      "text/plain": [
       "(((0, 209),\n",
       "  (210, 212),\n",
       "  (212, 240),\n",
       "  (241, 1047),\n",
       "  (1048, 1273),\n",
       "  (1274, 1276),\n",
       "  (1276, 3036),\n",
       "  (3037, 3038),\n",
       "  (3038, 4180),\n",
       "  (4181, 6401),\n",
       "  (6402, 7123),\n",
       "  (7123, 7124),\n",
       "  (7125, 8985),\n",
       "  (8986, 8989),\n",
       "  (8989, 9052),\n",
       "  (9053, 9054),\n",
       "  (9054, 10028),\n",
       "  (10028, 10029),\n",
       "  (10030, 10506),\n",
       "  (10507, 11116),\n",
       "  (11117, 11200),\n",
       "  (11201, 11331),\n",
       "  (11332, 11333),\n",
       "  (11333, 14407),\n",
       "  (14408, 14409),\n",
       "  (14409, 15450),\n",
       "  (15450, 15451),\n",
       "  (15452, 16465),\n",
       "  (16466, 19219),\n",
       "  (19220, 19221),\n",
       "  (19221, 21617),\n",
       "  (21618, 21986),\n",
       "  (21987, 22028),\n",
       "  (22029, 22030),\n",
       "  (22033, 22035),\n",
       "  (22037, 22916),\n",
       "  (22917, 22918),\n",
       "  (22918, 22994),\n",
       "  (22995, 22996),\n",
       "  (22996, 23402),\n",
       "  (23403, 23603),\n",
       "  (23604, 24409),\n",
       "  (24410, 24411),\n",
       "  (24411, 25087),\n",
       "  (25088, 25090),\n",
       "  (25090, 25351),\n",
       "  (25352, 25353),\n",
       "  (25353, 25468),\n",
       "  (25469, 26423),\n",
       "  (26424, 26425),\n",
       "  (26425, 26766),\n",
       "  (26767, 26768),\n",
       "  (26768, 27526),\n",
       "  (27527, 27637),\n",
       "  (27637, 27639),\n",
       "  (27640, 27751),\n",
       "  (27752, 27873),\n",
       "  (27874, 27876),\n",
       "  (27876, 28247),\n",
       "  (28248, 28250),\n",
       "  (28252, 28253),\n",
       "  (28254, 28255),\n",
       "  (28257, 28273),\n",
       "  (28274, 28460),\n",
       "  (28461, 28880),\n",
       "  (28880, 28883),\n",
       "  (28884, 28915),\n",
       "  (28915, 28916),\n",
       "  (28917, 29401),\n",
       "  (29402, 29741),\n",
       "  (29742, 29871)),\n",
       " ((0, 209),\n",
       "  (209, 211),\n",
       "  (212, 240),\n",
       "  (241, 1047),\n",
       "  (1048, 1273),\n",
       "  (1273, 1275),\n",
       "  (1276, 3036),\n",
       "  (3036, 3037),\n",
       "  (3038, 4180),\n",
       "  (4181, 6401),\n",
       "  (6402, 7123),\n",
       "  (7124, 7125),\n",
       "  (7125, 8985),\n",
       "  (8985, 8988),\n",
       "  (8989, 9052),\n",
       "  (9052, 9053),\n",
       "  (9054, 10028),\n",
       "  (10029, 10030),\n",
       "  (10030, 10506),\n",
       "  (10507, 11116),\n",
       "  (11117, 11200),\n",
       "  (11201, 11331),\n",
       "  (11331, 11332),\n",
       "  (11333, 14407),\n",
       "  (14407, 14408),\n",
       "  (14409, 15450),\n",
       "  (15451, 15452),\n",
       "  (15452, 16465),\n",
       "  (16466, 19219),\n",
       "  (19219, 19220),\n",
       "  (19221, 21617),\n",
       "  (21618, 21986),\n",
       "  (21987, 22028),\n",
       "  (22028, 22029),\n",
       "  (22029, 22031),\n",
       "  (22031, 22910),\n",
       "  (22910, 22911),\n",
       "  (22912, 22988),\n",
       "  (22988, 22989),\n",
       "  (22990, 23396),\n",
       "  (23397, 23597),\n",
       "  (23598, 24403),\n",
       "  (24403, 24404),\n",
       "  (24405, 25081),\n",
       "  (25081, 25083),\n",
       "  (25084, 25345),\n",
       "  (25345, 25346),\n",
       "  (25347, 25462),\n",
       "  (25463, 26417),\n",
       "  (26417, 26418),\n",
       "  (26419, 26760),\n",
       "  (26760, 26761),\n",
       "  (26762, 27520),\n",
       "  (27521, 27631),\n",
       "  (27632, 27634),\n",
       "  (27634, 27745),\n",
       "  (27746, 27867),\n",
       "  (27867, 27869),\n",
       "  (27870, 28241),\n",
       "  (28241, 28243),\n",
       "  (28243, 28244),\n",
       "  (28244, 28245),\n",
       "  (28245, 28261),\n",
       "  (28261, 28447),\n",
       "  (28448, 28867),\n",
       "  (28868, 28871),\n",
       "  (28871, 28902),\n",
       "  (28903, 28904),\n",
       "  (28904, 29388),\n",
       "  (29389, 29728),\n",
       "  (29729, 29858)))"
      ]
     },
     "execution_count": 18,
     "metadata": {},
     "output_type": "execute_result"
    }
   ],
   "source": [
    "delta_alignment.aligned #this will show the points where sequences were aligned"
   ]
  },
  {
   "cell_type": "code",
   "execution_count": 19,
   "id": "1ba2682e",
   "metadata": {
    "execution": {
     "iopub.execute_input": "2022-03-12T17:19:11.747768Z",
     "iopub.status.busy": "2022-03-12T17:19:11.747127Z",
     "iopub.status.idle": "2022-03-12T17:19:11.769588Z",
     "shell.execute_reply": "2022-03-12T17:19:11.768921Z",
     "shell.execute_reply.started": "2022-03-12T16:43:47.664815Z"
    },
    "papermill": {
     "duration": 0.063093,
     "end_time": "2022-03-12T17:19:11.769745",
     "exception": false,
     "start_time": "2022-03-12T17:19:11.706652",
     "status": "completed"
    },
    "tags": []
   },
   "outputs": [
    {
     "name": "stdout",
     "output_type": "stream",
     "text": [
      "1: G\n",
      "2: \n",
      "1: \n",
      "2: T\n",
      "1: C\n",
      "2: T\n",
      "1: G\n",
      "2: T\n",
      "1: G\n",
      "2: \n",
      "1: \n",
      "2: T\n",
      "1: C\n",
      "2: \n",
      "1: \n",
      "2: T\n",
      "1: G\n",
      "2: T\n",
      "1: C\n",
      "2: T\n",
      "1: \n",
      "2: T\n",
      "1: C\n",
      "2: \n",
      "1: C\n",
      "2: \n",
      "1: \n",
      "2: T\n",
      "1: G\n",
      "2: \n",
      "1: \n",
      "2: T\n",
      "1: \n",
      "2: T\n",
      "1: C\n",
      "2: \n",
      "1: C\n",
      "2: T\n",
      "1: A\n",
      "2: R\n",
      "1: A\n",
      "2: G\n",
      "1: A\n",
      "2: \n",
      "1: \n",
      "2: G\n",
      "1: C\n",
      "2: \n",
      "1: \n",
      "2: T\n",
      "1: \n",
      "2: A\n",
      "1: G\n",
      "2: \n",
      "1: C\n",
      "2: T\n",
      "1: C\n",
      "2: \n",
      "1: \n",
      "2: T\n",
      "1: C\n",
      "2: G\n",
      "1: G\n",
      "2: A\n",
      "1: A\n",
      "2: \n",
      "1: TTC\n",
      "2: \n",
      "1: AG\n",
      "2: \n",
      "1: T\n",
      "2: \n",
      "1: \n",
      "2: G\n",
      "1: C\n",
      "2: \n",
      "1: \n",
      "2: A\n",
      "1: A\n",
      "2: G\n",
      "1: C\n",
      "2: G\n",
      "1: G\n",
      "2: \n",
      "1: \n",
      "2: A\n",
      "1: G\n",
      "2: \n",
      "1: \n",
      "2: T\n",
      "1: G\n",
      "2: \n",
      "1: \n",
      "2: T\n",
      "1: C\n",
      "2: T\n",
      "1: T\n",
      "2: \n",
      "1: \n",
      "2: C\n",
      "1: T\n",
      "2: \n",
      "1: \n",
      "2: C\n",
      "1: C\n",
      "2: T\n",
      "1: \n",
      "2: C\n",
      "1: T\n",
      "2: \n",
      "1: C\n",
      "2: T\n",
      "1: C\n",
      "2: \n",
      "1: \n",
      "2: T\n",
      "1: G\n",
      "2: \n",
      "1: TT\n",
      "2: \n",
      "1: A\n",
      "2: \n",
      "1: CT\n",
      "2: \n",
      "1: A\n",
      "2: \n",
      "1: A\n",
      "2: G\n",
      "1: \n",
      "2: T\n",
      "1: G\n",
      "2: \n",
      "1: \n",
      "2: T\n",
      "1: G\n",
      "2: \n",
      "1: G\n",
      "2: T\n",
      "1: G\n",
      "2: T\n"
     ]
    }
   ],
   "source": [
    "seq1_end = None\n",
    "seq2_end = None\n",
    "for alignments in zip(delta_alignment.aligned[0], delta_alignment.aligned[1]): #to take first element from both above tuple of tuples, and so on\n",
    "    if seq1_end and seq2_end:\n",
    "        seq1_mismatch = reference[seq1_end: alignments[0][0]] #gives us inverse of alignments i.e. all of the misalignments\n",
    "        seq2_mismatch = delta[seq2_end: alignments[1][0]]\n",
    "        print(\"1: {}\".format(seq1_mismatch))\n",
    "        print(\"2: {}\".format(seq2_mismatch))\n",
    "        \n",
    "    seq1_end = alignments[0][1]\n",
    "    seq2_end = alignments[1][1]"
   ]
  },
  {
   "cell_type": "markdown",
   "id": "8a8da0de",
   "metadata": {
    "papermill": {
     "duration": 0.032881,
     "end_time": "2022-03-12T17:19:11.836611",
     "exception": false,
     "start_time": "2022-03-12T17:19:11.803730",
     "status": "completed"
    },
    "tags": []
   },
   "source": [
    "**Above shows what the mismatches are, but not where**"
   ]
  },
  {
   "cell_type": "markdown",
   "id": "1615838c",
   "metadata": {
    "papermill": {
     "duration": 0.033231,
     "end_time": "2022-03-12T17:19:11.903053",
     "exception": false,
     "start_time": "2022-03-12T17:19:11.869822",
     "status": "completed"
    },
    "tags": []
   },
   "source": [
    "# Finding mismatch location\n",
    "logic, by checking lengths of mismatches\n",
    "\n",
    "**Insertion**\n",
    "- reference mismatch = 0, and delta mismatch = several\n",
    "\n",
    "**deletion**\n",
    "- as above, but reversed i.e. reference with mismatches\n",
    "\n",
    "**substitution**\n",
    "- matching in length"
   ]
  },
  {
   "cell_type": "code",
   "execution_count": 20,
   "id": "6ddc6beb",
   "metadata": {
    "execution": {
     "iopub.execute_input": "2022-03-12T17:19:11.974548Z",
     "iopub.status.busy": "2022-03-12T17:19:11.973913Z",
     "iopub.status.idle": "2022-03-12T17:19:11.976893Z",
     "shell.execute_reply": "2022-03-12T17:19:11.976351Z",
     "shell.execute_reply.started": "2022-03-12T16:45:33.028421Z"
    },
    "papermill": {
     "duration": 0.040781,
     "end_time": "2022-03-12T17:19:11.977037",
     "exception": false,
     "start_time": "2022-03-12T17:19:11.936256",
     "status": "completed"
    },
    "tags": []
   },
   "outputs": [],
   "source": [
    "from IPython.display import HTML"
   ]
  },
  {
   "cell_type": "code",
   "execution_count": 21,
   "id": "67bae19b",
   "metadata": {
    "execution": {
     "iopub.execute_input": "2022-03-12T17:19:12.050941Z",
     "iopub.status.busy": "2022-03-12T17:19:12.049949Z",
     "iopub.status.idle": "2022-03-12T17:19:12.053947Z",
     "shell.execute_reply": "2022-03-12T17:19:12.054563Z",
     "shell.execute_reply.started": "2022-03-12T16:47:24.718998Z"
    },
    "papermill": {
     "duration": 0.04311,
     "end_time": "2022-03-12T17:19:12.054739",
     "exception": false,
     "start_time": "2022-03-12T17:19:12.011629",
     "status": "completed"
    },
    "tags": []
   },
   "outputs": [],
   "source": [
    "def color_print(s, color='black'):\n",
    "    return \"<span style='color:{}'>{}</span>\".format(color, s)"
   ]
  },
  {
   "cell_type": "code",
   "execution_count": 22,
   "id": "3fe8b2c1",
   "metadata": {
    "execution": {
     "iopub.execute_input": "2022-03-12T17:19:12.125269Z",
     "iopub.status.busy": "2022-03-12T17:19:12.124287Z",
     "iopub.status.idle": "2022-03-12T17:19:12.257781Z",
     "shell.execute_reply": "2022-03-12T17:19:12.257100Z",
     "shell.execute_reply.started": "2022-03-12T16:55:49.311921Z"
    },
    "papermill": {
     "duration": 0.169645,
     "end_time": "2022-03-12T17:19:12.257922",
     "exception": false,
     "start_time": "2022-03-12T17:19:12.088277",
     "status": "completed"
    },
    "tags": []
   },
   "outputs": [
    {
     "name": "stdout",
     "output_type": "stream",
     "text": [
      "1: G\n",
      "2: \n",
      "1: \n",
      "2: T\n",
      "1: C\n",
      "2: T\n",
      "1: G\n",
      "2: T\n",
      "1: G\n",
      "2: \n",
      "1: \n",
      "2: T\n",
      "1: C\n",
      "2: \n",
      "1: \n",
      "2: T\n",
      "1: G\n",
      "2: T\n",
      "1: C\n",
      "2: T\n",
      "1: \n",
      "2: T\n",
      "1: C\n",
      "2: \n",
      "1: C\n",
      "2: \n",
      "1: \n",
      "2: T\n",
      "1: G\n",
      "2: \n",
      "1: \n",
      "2: T\n",
      "1: \n",
      "2: T\n",
      "1: C\n",
      "2: \n",
      "1: C\n",
      "2: T\n",
      "1: A\n",
      "2: R\n",
      "1: A\n",
      "2: G\n",
      "1: A\n",
      "2: \n",
      "1: \n",
      "2: G\n",
      "1: C\n",
      "2: \n",
      "1: \n",
      "2: T\n",
      "1: \n",
      "2: A\n",
      "1: G\n",
      "2: \n",
      "1: C\n",
      "2: T\n",
      "1: C\n",
      "2: \n",
      "1: \n",
      "2: T\n",
      "1: C\n",
      "2: G\n",
      "1: G\n",
      "2: A\n",
      "1: A\n",
      "2: \n",
      "1: TTC\n",
      "2: \n",
      "1: AG\n",
      "2: \n",
      "1: T\n",
      "2: \n",
      "1: \n",
      "2: G\n",
      "1: C\n",
      "2: \n",
      "1: \n",
      "2: A\n",
      "1: A\n",
      "2: G\n",
      "1: C\n",
      "2: G\n",
      "1: G\n",
      "2: \n",
      "1: \n",
      "2: A\n",
      "1: G\n",
      "2: \n",
      "1: \n",
      "2: T\n",
      "1: G\n",
      "2: \n",
      "1: \n",
      "2: T\n",
      "1: C\n",
      "2: T\n",
      "1: T\n",
      "2: \n",
      "1: \n",
      "2: C\n",
      "1: T\n",
      "2: \n",
      "1: \n",
      "2: C\n",
      "1: C\n",
      "2: T\n",
      "1: \n",
      "2: C\n",
      "1: T\n",
      "2: \n",
      "1: C\n",
      "2: T\n",
      "1: C\n",
      "2: \n",
      "1: \n",
      "2: T\n",
      "1: G\n",
      "2: \n",
      "1: TT\n",
      "2: \n",
      "1: A\n",
      "2: \n",
      "1: CT\n",
      "2: \n",
      "1: A\n",
      "2: \n",
      "1: A\n",
      "2: G\n",
      "1: \n",
      "2: T\n",
      "1: G\n",
      "2: \n",
      "1: \n",
      "2: T\n",
      "1: G\n",
      "2: \n",
      "1: G\n",
      "2: T\n",
      "1: G\n",
      "2: T\n"
     ]
    }
   ],
   "source": [
    "seq1_end = None\n",
    "seq2_end = None\n",
    "display_seq = []\n",
    "\n",
    "for alignments in zip(delta_alignment.aligned[0], delta_alignment.aligned[1]): #to take first element from both above tuple of tuples, and so on\n",
    "    if seq1_end and seq2_end:\n",
    "        \n",
    "        seq1_mismatch = reference[seq1_end: alignments[0][0]] #gives us inverse of alignments i.e. all of the misalignments\n",
    "        seq2_mismatch = delta[seq2_end: alignments[1][0]]\n",
    "        if len(seq2_mismatch) == 0:\n",
    "            display_seq.append(color_print(seq1_mismatch, \"red\"))\n",
    "        elif len(seq1_mismatch) == 0:\n",
    "            display_seq.append(color_print(seq2_mismatch, \"green\"))\n",
    "        else:\n",
    "            display_seq.append(color_print(seq2_mismatch, \"blue\"))\n",
    "        print(\"1: {}\".format(seq1_mismatch))\n",
    "        print(\"2: {}\".format(seq2_mismatch))\n",
    "    \n",
    "    display_seq.append(reference[alignments[0][0]:alignments[0][1]])\n",
    "    \n",
    "    seq1_end = alignments[0][1]\n",
    "    seq2_end = alignments[1][1]"
   ]
  },
  {
   "cell_type": "code",
   "execution_count": 23,
   "id": "c9f29eb9",
   "metadata": {
    "execution": {
     "iopub.execute_input": "2022-03-12T17:19:12.330919Z",
     "iopub.status.busy": "2022-03-12T17:19:12.330269Z",
     "iopub.status.idle": "2022-03-12T17:19:12.333281Z",
     "shell.execute_reply": "2022-03-12T17:19:12.332759Z",
     "shell.execute_reply.started": "2022-03-12T16:56:21.062672Z"
    },
    "papermill": {
     "duration": 0.041198,
     "end_time": "2022-03-12T17:19:12.333424",
     "exception": false,
     "start_time": "2022-03-12T17:19:12.292226",
     "status": "completed"
    },
    "tags": []
   },
   "outputs": [],
   "source": [
    "display_seq = [str(i) for i in display_seq]"
   ]
  },
  {
   "cell_type": "code",
   "execution_count": 24,
   "id": "54f58ae9",
   "metadata": {
    "execution": {
     "iopub.execute_input": "2022-03-12T17:19:12.406744Z",
     "iopub.status.busy": "2022-03-12T17:19:12.405913Z",
     "iopub.status.idle": "2022-03-12T17:19:12.409653Z",
     "shell.execute_reply": "2022-03-12T17:19:12.409079Z",
     "shell.execute_reply.started": "2022-03-12T16:56:57.855184Z"
    },
    "papermill": {
     "duration": 0.042597,
     "end_time": "2022-03-12T17:19:12.409794",
     "exception": false,
     "start_time": "2022-03-12T17:19:12.367197",
     "status": "completed"
    },
    "tags": []
   },
   "outputs": [
    {
     "data": {
      "text/html": [
       "ATTAAAGGTTTATACCTTCCCAGGTAACAAACCAACCAACTTTCGATCTCTTGTAGATCTGTTCTCTAAACGAACTTTAAAATCTGTGTGGCTGTCACTCGGCTGCATGCTTAGTGCACTCACGCAGTATAATTAATAACTAATTACTGTCGTTGACAGGACACGAGTAACTCGTCTATCTTCTGCAGGCTGCTTACGGTTTCGTCCGT<br><span style='color:red'>G</span><br>TT<br><span style='color:green'>T</span><br>GCAGCCGATCATCAGCACATCTAGGTTT<br><span style='color:blue'>T</span><br>GTCCGGGTGTGACCGAAAGGTAAGATGGAGAGCCTTGTCCCTGGTTTCAACGAGAAAACACACGTCCAACTCAGTTTGCCTGTTTTACAGGTTCGCGACGTGCTCGTACGTGGCTTTGGAGACTCCGTGGAGGAGGTCTTATCAGAGGCACGTCAACATCTTAAAGATGGCACTTGTGGCTTAGTAGAAGTTGAAAAAGGCGTTTTGCCTCAACTTGAACAGCCCTATGTGTTCATCAAACGTTCGGATGCTCGAACTGCACCTCATGGTCATGTTATGGTTGAGCTGGTAGCAGAACTCGAAGGCATTCAGTACGGTCGTAGTGGTGAGACACTTGGTGTCCTTGTCCCTCATGTGGGCGAAATACCAGTGGCTTACCGCAAGGTTCTTCTTCGTAAGAACGGTAATAAAGGAGCTGGTGGCCATAGTTACGGCGCCGATCTAAAGTCATTTGACTTAGGCGACGAGCTTGGCACTGATCCTTATGAAGATTTTCAAGAAAACTGGAACACTAAACATAGCAGTGGTGTTACCCGTGAACTCATGCGTGAGCTTAACGGAGGGGCATACACTCGCTATGTCGATAACAACTTCTGTGGCCCTGATGGCTACCCTCTTGAGTGCATTAAAGACCTTCTAGCACGTGCTGGTAAAGCTTCATGCACTTTGTCCGAACAACTGGACTTTATTGACACTAAGAGGGGTGTATACTGCTGCCGTGAACATGAGCATGAAATTGCTTGGTACACGGAACGTTCTGAAAAGAGCTATGAATTGCAGACACCTTTTGAAATTAAATTGGCAAA<br><span style='color:blue'>T</span><br>AAATTTGACACCTTCAATGGGGAATGTCCAAATTTTGTATTTCCCTTAAATTCCATAATCAAGACTATTCAACCAAGGGTTGAAAAGAAAAAGCTTGATGGCTTTATGGGTAGAATTCGATCTGTCTATCCAGTTGCGTCACCAAATGAATGCAACCAAATGTGCCTTTCAACTCTCATGAAGTGTGATCATTGTGGTGAAACTTCATGGCAGACGGGCGATTTT<br><span style='color:red'>G</span><br>TT<br><span style='color:green'>T</span><br>AAAGCCACTTGCGAATTTTGTGGCACTGAGAATTTGACTAAAGAAGGTGCCACTACTTGTGGTTACTTACCCCAAAATGCTGTTGTTAAAATTTATTGTCCAGCATGTCACAATTCAGAAGTAGGACCTGAGCATAGTCTTGCCGAATACCATAATGAATCTGGCTTGAAAACCATTCTTCGTAAGGGTGGTCGCACTATTGCCTTTGGAGGCTGTGTGTTCTCTTATGTTGGTTGCCATAACAAGTGTGCCTATTGGGTTCCACGTGCTAGCGCTAACATAGGTTGTAACCATACAGGTGTTGTTGGAGAAGGTTCCGAAGGTCTTAATGACAACCTTCTTGAAATACTCCAAAAAGAGAAAGTCAACATCAATATTGTTGGTGACTTTAAACTTAATGAAGAGATCGCCATTATTTTGGCATCTTTTTCTGCTTCCACAAGTGCTTTTGTGGAAACTGTGAAAGGTTTGGATTATAAAGCATTCAAACAAATTGTTGAATCCTGTGGTAATTTTAAAGTTACAAAAGGAAAAGCTAAAAAAGGTGCCTGGAATATTGGTGAACAGAAATCAATACTGAGTCCTCTTTATGCATTTGCATCAGAGGCTGCTCGTGTTGTACGATCAATTTTCTCCCGCACTCTTGAAACTGCTCAAAATTCTGTGCGTGTTTTACAGAAGGCCGCTATAACAATACTAGATGGAATTTCACAGTATTCACTGAGACTCATTGATGCTATGATGTTCACATCTGATTTGGCTACTAACAATCTAGTTGTAATGGCCTACATTACAGGTGGTGTTGTTCAGTTGACTTCGCAGTGGCTAACTAACATCTTTGGCACTGTTTATGAAAAACTCAAACCCGTCCTTGATTGGCTTGAAGAGAAGTTTAAGGAAGGTGTAGAGTTTCTTAGAGACGGTTGGGAAATTGTTAAATTTATCTCAACCTGTGCTTGTGAAATTGTCGGTGGACAAATTGTCACCTGTGCAAAGGAAATTAAGGAGAGTGTTCAGACATTCTTTAAGCTTGTAAATAAATTTTTGGCTTTGTGTGCTGACTCTATCATTATTGGTGGAGCTAAACTTAAAGCCTTGAATTTAGGTGAAACATTTGTCACGCACTCAAAGGGATTGTACAGAAAGTGTGTTAAATCCAGAGAAGAAACTGGCCTACTCATGCCTCTAAAAGCCCCAAAAGAAATTATCTTCTTAGAGGGAGAAACACTTCCCACAGAAGTGTTAACAGAGGAAGTTGTCTTGAAAACTGGTGATTTACAACCATTAGAACAACCTACTAGTGAAGCTGTTGAAGCTCCATTGGTTGGTACACCAGTTTGTATTAACGGGCTTATGTTGCTCGAAATCAAAGACACAGAAAAGTACTGTGCCCTTGCACCTAATATGATGGTAACAAACAATACCTTCACACTCAAAGGCGGTGCACCAACAAAGGTTACTTTTGGTGATGACACTGTGATAGAAGTGCAAGGTTACAAGAGTGTGAATATCACTTTTGAACTTGATGAAAGGATTGATAAAGTACTTAATGAGAAGTGCTCTGCCTATACAGTTGAACTCGGTACAGAAGTAAATGAGTTCGCCTGTGTTGTGGCAGATGCTGTCATAAAAACTTTGCAACCAGTATCTGAATTACTTACACCACTGGGCATTGATTTAGATGAGTGGAGTATGGCTACATACTACTTATTTGATGAGTCTGGTGAGTTTAAATTGGCTTCACATATGTATTGTTCTTT<br><span style='color:red'>C</span><br>T<br><span style='color:green'>T</span><br>ACCCTCCAGATGAGGATGAAGAAGAAGGTGATTGTGAAGAAGAAGAGTTTGAGCCATCAACTCAATATGAGTATGGTACTGAAGATGATTACCAAGGTAAACCTTTGGAATTTGGTGCCACTTCTGCTGCTCTTCAACCTGAAGAAGAGCAAGAAGAAGATTGGTTAGATGATGATAGTCAACAAACTGTTGGTCAACAAGACGGCAGTGAGGACAATCAGACAACTACTATTCAAACAATTGTTGAGGTTCAACCTCAATTAGAGATGGAACTTACACCAGTTGTTCAGACTATTGAAGTGAATAGTTTTAGTGGTTATTTAAAACTTACTGACAATGTATACATTAAAAATGCAGACATTGTGGAAGAAGCTAAAAAGGTAAAACCAACAGTGGTTGTTAATGCAGCCAATGTTTACCTTAAACATGGAGGAGGTGTTGCAGGAGCCTTAAATAAGGCTACTAACAATGCCATGCAAGTTGAATCTGATGATTACATAGCTACTAATGGACCACTTAAAGTGGGTGGTAGTTGTGTTTTAAGCGGACACAATCTTGCTAAACACTGTCTTCATGTTGTCGGCCCAAATGTTAACAAAGGTGAAGACATTCAACTTCTTAAGAGTGCTTATGAAAATTTTAATCAGCACGAAGTTCTACTTGCACCATTATTATCAGCTGGTATTTTTGGTGCTGACCCTATACATTCTTTAAGAGTTTGTGTAGATACTGTTCGCACAAATGTCTACTTAGCTGTCTTTGATAAAAATCTCTATGACAAACTTGTTTCAAGCTTTTTGGAAATGAAGAGTGAAAAGCAAGTTGAACAAAAGATCGCTGAGATTCCTAAAGAGGAAGTTAAGCCATTTATAACTGAAAGTAAACCTTCAGTTGAACAGAGAAAACAAGATGATAAGAAAATCAAAGCTTGTGTTGAAGAAGTTACAACAACTCTGGAAGAAACTAAGTTCCTCACAGAAAACTTGTTACTTTATATTGACATTAATGGCAATCTTCATCCAGATTCTGCCACTCTTGTTAGTGACATTGACATCACTTTCTTAAAGAAAGATGCTCCATATATAGTGGGTGATGTTGTTCAAGAGGGTGTTTTAACTGCTGTGGTTATACCTACTAAAAAG<br><span style='color:blue'>T</span><br>CTGGTGGCACTACTGAAATGCTAGCGAAAGCTTTGAGAAAAGTGCCAACAGACAATTATATAACCACTTACCCGGGTCAGGGTTTAAATGGTTACACTGTAGAGGAGGCAAAGACAGTGCTTAAAAAGTGTAAAAGTGCCTTTTACATTCTACCATCTATTATCTCTAATGAGAAGCAAGAAATTCTTGGAACTGTTTCTTGGAATTTGCGAGAAATGCTTGCACATGCAGAAGAAACACGCAAATTAATGCCTGTCTGTGTGGAAACTAAAGCCATAGTTTCAACTATACAGCGTAAATATAAGGGTATTAAAATACAAGAGGGTGTGGTTGATTATGGTGCTAGATTTTACTTTTACACCAGTAAAACAACTGTAGCGTCACTTATCAACACACTTAACGATCTAAATGAAACTCTTGTTACAATGCCACTTGGCTATGTAACACATGGCTTAAATTTGGAAGAAGCTGCTCGGTATATGAGATCTCTCAAAGTGCCAGCTACAGTTTCTGTTTCTTCACCTGATGCTGTTACAGCGTATAATGGTTATCTTACTTCTTCTTCTAAAACACCTGAAGAACATTTTATTGAAACCATCTCACTTGCTGGTTCCTATAAAGATTGGTCCTATTCTGGACAATCTACACAACTAGGTATAGAATTTCTTAAGAGAGGTGATAAAAGTGTATATTACACTAGTAATCCTACCACATTCCACCTAGATGGTGAAGTTATCACCTTTGACAATCTTAAGACACTTCTTTCTTTGAGAGAAGTGAGGACTATTAAGGTGTTTACAACAGTAGACAACATTAACCTCCACACGCAAGTTGTGGACATGTCAATGACATATGGACAACAGTTTGGTCCAACTTATTTGGATGGAGCTGATGTTACTAAAATAAAACCTCATAATTCACATGAAGGTAAAACATTTTATGTTTTACCTAATGATGACACTCTACGTGTTGAGGCTTTTGAGTACTACCACACAACTGATCCTAGTTTTCTGGGTAGGTACATGTCAGCATTAAATCACACTAAAAAGTGGAAATACCCACAAGTTAATGGTTTAACTTCTATTAAATGGGCAGATAACAACTGTTATCTTGCCACTGCATTGTTAACACTCCAACAAATAGAGTTGAAGTTTAATCCACCTGCTCTACAAGATGCTTATTACAGAGCAAGGGCTGGTGAAGCTGCTAACTTTTGTGCACTTATCTTAGCCTACTGTAATAAGACAGTAGGTGAGTTAGGTGATGTTAGAGAAACAATGAGTTACTTGTTTCAACATGCCAATTTAGATTCTTGCAAAAGAGTCTTGAACGTGGTGTGTAAAACTTGTGGACAACAGCAGACAACCCTTAAGGGTGTAGAAGCTGTTATGTACATGGGCACACTTTCTTATGAACAATTTAAGAAAGGTGTTCAGATACCTTGTACGTGTGGTAAACAAGCTACAAAATATCTAGTACAACAGGAGTCACCTTTTGTTATGATGTCAGCACCACCTGCTCAGTATGAACTTAAGCATGGTACATTTACTTGTGCTAGTGAGTACACTGGTAATTACCAGTGTGGTCACTATAAACATATAACTTCTAAAGAAACTTTGTATTGCATAGACGGTGCTTTACTTACAAAGTCCTCAGAATACAAAGGTCCTATTACGGATGTTTTCTACAAAGAAAACAGTTACACAACAACCATAAAACCAGTTACTTATAAATTGGATGGTGTTGTTTGTACAGAAATTGACCCTAAGTTGGACAATTATTATAAGAAAGACAATTCTTATTTCACAGAGCAACCAATTGATCTTGTACCAAACCAACCATATCCAAACGCAAGCTTCGATAATTTTAAGTTTGTATGTGATAATATCAAATTTGCTGATGATTTAAACCAGTTAACTGGTTATAAGAAACCTGCTTCAAGAGAGCTTAAAGTTACATTTTTCCCTGACTTAAATGGTGATGTGGTGGCTATTGATTATAAACACTACACACCCTCTTTTAAGAAAGGAGCTAAATTGTTACATAAACCTATTGTTTGGCATGTTAACAATGCAACTAATAAAGCCACGTATAAACCAAATACCTGGTGTATACGTTGTCTTTGGAGCACAAAACCAGTTGAAACATCAAATTCGTTTGATGTACTGAAGTCAGAGGACGCGCAGGGAATGGATAATCTTGCCTGCGAAGATCTAAAAC<br><span style='color:blue'>T</span><br>AGTCTCTGAAGAAGTAGTGGAAAATCCTACCATACAGAAAGACGTTCTTGAGTGTAATGTGAAAACTACCGAAGTTGTAGGAGACATTATACTTAAACCAGCAAATAATAGTTTAAAAATTACAGAAGAGGTTGGCCACACAGATCTAATGGCTGCTTATGTAGACAATTCTAGTCTTACTATTAAGAAACCTAATGAATTATCTAGAGTATTAGGTTTGAAAACCCTTGCTACTCATGGTTTAGCTGCTGTTAATAGTGTCCCTTGGGATACTATAGCTAATTATGCTAAGCCTTTTCTTAACAAAGTTGTTAGTACAACTACTAACATAGTTACACGGTGTTTAAACCGTGTTTGTACTAATTATATGCCTTATTTCTTTACTTTATTGCTACAATTGTGTACTTTTACTAGAAGTACAAATTCTAGAATTAAAGCATCTATGCCGACTACTATAGCAAAGAATACTGTTAAGAGTGTCGGTAAATTTTGTCTAGAGGCTTCATTTAATTATTTGAAGTCACCTAATTTTTCTAAACTGATAAATATTATAATTTGGTTTTTACTATTAAGTGTTTGCCTAGGTTCTTTAATCTACTCAACCGCTGCTTTAGGTGTTTTAATGTCTAATTTAGGCATGCCTTCTTACTGTACTGGTTACAGAGAAGGCTATTTGAACTCTACTAATGTCACTATTGCAACCTACTGTACTGGTTCTATA<br><span style='color:green'>T</span><br>C<br><span style='color:red'>C</span><br>TTGTAGTGTTTGTCTTAGTGGTTTAGATTCTTTAGACACCTATCCTTCTTTAGAAACTATACAAATTACCATTTCATCTTTTAAATGGGATTTAACTGCTTTTGGCTTAGTTGCAGAGTGGTTTTTGGCATATATTCTTTTCACTAGGTTTTTCTATGTACTTGGATTGGCTGCAATCATGCAATTGTTTTTCAGCTATTTTGCAGTACATTTTATTAGTAATTCTTGGCTTATGTGGTTAATAATTAATCTTGTACAAATGGCCCCGATTTCAGCTATGGTTAGAATGTACATCTTCTTTGCATCATTTTATTATGTATGGAAAAGTTATGTGCATGTTGTAGACGGTTGTAATTCATCAACTTGTATGATGTGTTACAAACGTAATAGAGCAACAAGAGTCGAATGTACAACTATTGTTAATGGTGTTAGAAGGTCCTTTTATGTCTATGCTAATGGAGGTAAAGGCTTTTGCAAACTACACAATTGGAATTGTGTTAATTGTGATACATTCTGTGCTGGTAGTACATTTATTAGTGATGAAGTTGCGAGAGACTTGTCACTACAGTTTAAAAGACCAATAAATCCTACTGACCAGTCTTCTTACATCGTTGATAGTGTTACAGTGAAGAATGGTTCCATCCATCTTTACTTTGATAAAGCTGGTCAAAAGACTTATGAAAGACATTCTCTCTCTCATTTTGTTAACTTAGACAACCTGAGAGCTAATAACACTAAAGGTTCATTGCCTATTAATGTTATAGTTTTTGATGGTAAATCAAAATGTGAAGAATCATCTGCAAAATCAGCGTCTGTTTACTACAGTCAGCTTATGTGTCAACCTATACTGTTACTAGATCAGGCATTAGTGTCTGATGTTGGTGATAGTGCGGAAGTTGCAGTTAAAATGTTTGATGCTTACGTTAATACGTTTTCATCAACTTTTAACGTACCAATGGAAAAACTCAAAACACTAGTTGCAACTGCAGAAGCTGAACTTGCAAAGAATGTGTCCTTAGACAATGTCTTATCTACTTTTATTTCAGCAGCTCGGCAAGGGTTTGTTGATTCAGATGTAGAAACTAAAGATGTTGTTGAATGTCTTAAATTGTCACATCAATCTGACATAGAAGTTACTGGCGATAGTTGTAATAACTATATGCTCACCTATAACAAAGTTGAAAACATGACACCCCGTGACCTTGGTGCTTGTATTGACTGTAGTGCGCGTCATATTAATGCGCAGGTAGCAAAAAGTCACAACATTGCTTTGATATGGAACGTTAAAGATTTCATGTCATTGTCTGAACAACTACGAAAACAAATACGTAGTGCTGCTAAAAAGAATAACTTACCTTTTAAGTTGACATGTGCAACTACTAGACAAGTTGTTAATGTTGTAACAACAAAGATAGCACTTAAGGGTGGTAAAATTGTTAATAATTGGTTGAAGCAGTTAATTAAAGTTACACTTGTGTTCCTTTTTGTTGCTGCTATTTTCTATTTAATAACACCTGTTCATGTCATGTCTAAACATACTGACTTTTCAAGTGAAATCATAGGATACAAGGCTATTGATGGTGGTGTCACTCGTGACATAGCATCTACAGATACTTGTTTTGCTAACAAACATGCTGATTTTGACACATGGTTTAGCCAGCGTGGTGGTAGTTATACTAATGACAAAGCTTGCCCATTGATTGCTGCAGTCATAACAAGAGAAGTGGGTTTTGTCGTGCCTGGTTTGCCTGGCACGATATTACGCACAACTAATGGTGACTTTTTGCATTTCTTACCTAGAGTTTTTAGTGCAGTTGGTAACATCTGTTACACACCATCAAAACTTATAGAGTACACTGA<br><span style='color:red'>C</span><br>TTT<br><span style='color:green'>T</span><br>GCAACATCAGCTTGTGTTTTGGCTGCTGAATGTACAATTTTTAAAGATGCTTCTGGTAAGCCA<br><span style='color:red'>G</span><br>T<br><span style='color:green'>T</span><br>ACCATATTGTTATGATACCAATGTACTAGAAGGTTCTGTTGCTTATGAAAGTTTACGCCCTGACACACGTTATGTGCTCATGGATGGCTCTATTATTCAATTTCCTAACACCTACCTTGAAGGTTCTGTTAGAGTGGTAACAACTTTTGATTCTGAGTACTGTAGGCACGGCACTTGTGAAAGATCAGAAGCTGGTGTTTGTGTATCTACTAGTGGTAGATGGGTACTTAACAATGATTATTACAGATCTTTACCAGGAGTTTTCTGTGGTGTAGATGCTGTAAATTTACTTACTAATATGTTTACACCACTAATTCAACCTATTGGTGCTTTGGACATATCAGCATCTATAGTAGCTGGTGGTATTGTAGCTATCGTAGTAACATGCCTTGCCTACTATTTTATGAGGTTTAGAAGAGCTTTTGGTGAATACAGTCATGTAGTTGCCTTTAATACTTTACTATTCCTTATGTCATTCACTGTACTCTGTTTAACACCAGTTTACTCATTCTTACCTGGTGTTTATTCTGTTATTTACTTGTACTTGACATTTTATCTTACTAATGATGTTTCTTTTTTAGCACATATTCAGTGGATGGTTATGTTCACACCTTTAGTACCTTTCTGGATAACAATTGCTTATATCATTTGTATTTCCACAAAGCATTTCTATTGGTTCTTTAGTAATTACCTAAAGAGACGTGTAGTCTTTAATGGTGTTTCCTTTAGTACTTTTGAAGAAGCTGCGCTGTGCACCTTTTTGTTAAATAAAGAAATGTATCTAAAGTTGCGTAGTGATGTGCTATTACCTCTTACGCAATATAATAGATACTTAGCTCTTTATAATAAGTACAAGTATTTTAGTGGAGCAATGGATACAACTAGCTACAGAGAAGCTGCTTGTTGTCATCTCGCAAAGGCTCTCAATGACTTCAGTAACTCAGGTTCTGATGTTCTTTACCAACCACCACAAA<br><span style='color:green'>T</span><br>C<br><span style='color:red'>C</span><br>TCTATCACCTCAGCTGTTTTGCAGAGTGGTTTTAGAAAAATGGCATTCCCATCTGGTAAAGTTGAGGGTTGTATGGTACAAGTAACTTGTGGTACAACTACACTTAACGGTCTTTGGCTTGATGACGTAGTTTACTGTCCAAGACATGTGATCTGCACCTCTGAAGACATGCTTAACCCTAATTATGAAGATTTACTCATTCGTAAGTCTAATCATAATTTCTTGGTACAGGCTGGTAATGTTCAACTCAGGGTTATTGGACATTCTATGCAAAATTGTGTACTTAAGCTTAAGGTTGATACAGCCAATCCTAAGACACCTAAGTATAAGTTTGTTCGCATTCAACCAGGACAGACTTTTTCAGTGTTAGCTTGTTACAATGGTTCACCATCTGGTGTTTACCAATGTGCTATGAGGCCCAATTTCACTATTAAGGGTTCATTCCTTAATGGTTCATGTGGTAGTGTTGGTTTTAA<br><span style='color:blue'>T</span><br>ATAGATTATGACTGTGTCTCTTTTTGTTACATGCACCATATGGAATTACCAACTGGAGTTCATGCTGGCACAGACTTAGAAGGTAACTTTTATGGACCTTTTGTTGACAGGCAAACAGCACAAGCAGCTGGTACGGACACAACTATTACAGTTAATGTTTTAGCTTGGTTGTACGCTGCTGTTATAAATGGAGACAGGTGGTTTCTCAATCGATTTACCACAACTCTTAATGACTTTAACCTTGTGGCTATGAAGTACAATTATGAACCTCTAACACAAGACCATGTTGACATACTAGGACCTCTTTCTGCTCAAACTGGAATTGCCGTTTTAGATATGTGTGCTTCATTAAAAGAATTACTGCAAAATGGTATGAATGGACGTACCATATTGGGTAGTGCTTTATTAGAAGATGAATTTACACCTTTTGATGTTGTTAGACAATGCTCAGGTGTTACTTTCCAAAGTGCAGTGAAAAGAACAATCAAGGGTACACACCACTGGTTGTTACTCACAATTTTGACTTCACTTTTAGTTTTAGTCCAGAGTACTCAATGGTCTTTGTTCTTTTTTTTGTATGAAAATGCCTTTTTACCTTTTGCTATGGGT<br><span style='color:blue'>R</span><br>TTATTGCTATGTCTGCTTTTGCAATGATGTTTGTCAAACATAAGCATGCATTTCTCTGTTTGTTTTTGTTACCTTCTCTTGCC<br><span style='color:blue'>G</span><br>CTGTAGCTTATTTTAATATGGTCTATATGCCTGCTAGTTGGGTGATGCGTATTATGACATGGTTGGATATGGTTGATACTAGTTTGTCTGGTTTTAAGCTAAAAGACTGTGTTATGTATGCATCAGCTGT<br><span style='color:red'>A</span><br>G<br><span style='color:green'>G</span><br>TGTTACTAATCCTTATGACAGCAAGAACTGTGTATGATGATGGTGCTAGGAGAGTGTGGACACTTATGAATGTCTTGACACTCGTTTATAAAGTTTATTATGGTAATGCTTTAGATCAAGCCATTTCCATGTGGGCTCTTATAATCTCTGTTACTTCTAACTACTCAGGTGTAGTTACAACTGTCATGTTTTTGGCCAGAGGTATTGTTTTTATGTGTGTTGAGTATTGCCCTATTTTCTTCATAACTGGTAATACACTTCAGTGTATAATGCTAGTTTATTGTTTCTTAGGCTATTTTTGTACTTGTTACTTTGGCCTCTTTTGTTTACTCAACCGCTACTTTAGACTGACTCTTGGTGTTTATGATTACTTAGTTTCTACACAGGAGTTTAGATATATGAATTCACAGGGACTACTCCCACCCAAGAATAGCATAGATGCCTTCAAACTCAACATTAAATTGTTGGGTGTTGGTGGCAAACCTTGTATCAAAGTAGCCACTGTACAGTCTAAAATGTCAGATGTAAAGTGCACATCAGTAGTCTTACTCTCAGTTTTGCAACAACTCAGAGTAGAATCATCATCTAAATTGTGGGCTCAATGTGTCCAGTTACACAATGACATTCTCTTAGCTAAAGATACTACTGAAGCCTTTGAAAAAATGGTTTCACTACTTTCTGTTTTGCTTTCCATGCAGGGTGCTGTAGACATAAACAAGCTTTGTGAAGAAATGCTGGACAACAGGGCAACCTTACAAGCTATAGCCTCAGAGTTTAGTTCCCTTCCATCATATGCAGCTTTTGCTACTGCTCAAGAAGCTTATGAGCAGGCTGTTGCTAATGGTGATTCTGAAGTTGTTCTTAAAAAGTTGAAGAAGTCTTTGAATGTGGCTAAATCTGAATTTGACCGTGATGCAGCCATGCAACGTAAGTTGGAAAAGATGGCTGATCAAGCTATGACCCAAATGTATAAACAGGCTAGATCTGAGGACAAGAGGGCAAAAGTTACTAGTGCTATGCAGACAATGCTTTTCACTATGCTTAGAAAGTTGGATAATGATGCACTCAACAACATTATCAACAATGCAAGAGATGGTTGTGTTCCCTTGAACATAATACCTCTTACAACAGCAGCCAAACTAATGGTTGTCATACCAGACTATAACACATATAAAAATACGTGTGATGGTACAACATTTACTTATGCATCAGCATTGTGGGAAATCCAACAGGTTGTAGATGCAGATAGTAAAATTGTTCAACTTAGTGAAATTAGTATGGACAATTCACCTAATTTAGCATGGCCTCTTATTGTAACAGCTTTAAGGGCCAATTCTGCTGTCAAATTACAGAATAATGAGCTTAGTCCTGTTGCACTACGACAGATGTCTTGTGCTGCCGGTACTACACAAACTGCTTGCACTGATGACAATGCGTTAGCTTACTACAACACAACAAAGGGAGGTAGGTTTGTACTTGCACTGTTATCCGATTTACAGGATTTGAAATGGGCTAGATTCCCTAAGAGTGATGGAACTGGTACTATCTATACAGAACTGGAACCACCTTGTAGGTTTGTTACAGACACACCTAAAGGTCCTAAAGTGAAGTATTTATACTTTATTAAAGGATTAAACAACCTAAATAGAGGTATGGTACTTGGTAGTTTAGCTGCCACAGTACGTCTACAAGCTGGTAATGCAACAGAAGTGCCTGCCAATTCAACTGTATTATCTTTCTGTGCTTTTGCTGTAGATGCTGCTAAAGCTTACAAAGATTATCTAGCTAGTGGGGGACAACCAATCACTAATTGTGTTAAGATGTTGTGTACACACACTGGTACTGGTCAGGCAATAACAGTTACACCGGAAGCCAATATGGATCAAGAATCCTTTGGTGGTGCATCGTGTTGTCTGTACTGCCGTTGCCACATAGATCATCCAAATCCTAAAGGATTTTGTGACTTAAAAGGTAAGTATGTACAAATACCTACAACTTGTGCTAATGACCCTGTGGGTTTTACACTTAAAAACACAGTCTGTACCGTCTGCGGTATGTGGAAAGGTTATGGCTGTAGTTGTGATCAACTCCGCGAACCCATGCTTCAGTCAGCTGATGCACAATCGTTTTTAAACGGGTTTGCGGTGTAAGTGCAGCCCGTCTTACACCGTGCGGCACAGGCACTAGTACTGATGTCGTATACAGGGCTTTTGACATCTACAATGATAAAGTAGCTGGTTTTGCTAAATTCCTAAAAACTAATTGTTGTCGCTTCCAAGAAAAGGACGAAGATGACAATTTAATTGATTCTTACTTTGTAGTTAAGAGACACACTTTCTCTAACTACCAACATGAAGAAACAATTTATAATTTACTTAAGGATTGTCCAGCTGTTGCTAAACATGACTTCTTTAAGTTTAGAATAGACGGTGACATGGTACCACATATATCACGTCAACGTCTTACTAAATACACAATGGCAGACCTCGTCTATGCTTTAAGGCATTTTGATGAAGGTAATTGTGACACATTAAAAGAAATACTTGTCACATACAATTGTTGTGATGATGATTATTTCAATAAAAAGGACTGGTATGATTTTGTAGAAAACCCAGATATATTACGCGTATACGCCAACTTAGGTGAACGTGTACGCCAAGCTTTGTTAAAAACAGTACAATTCTGTGATGCCATGCGAAATGCTGGTATTGTTGGTGTACTGACATTAGATAATCAAGATCTCAATGGTAACTGGTATGATTTCGGTGATTTCATACAAACCACGCCAGGTAGTGGAGTTCCTGTTGTAGATTCTTATTATTCATTGTTAATGCCTATATTAACCTTGACCAGGGCTTTAACTGCAGAGTCACATGTTGACACTGACTTAACAAAGCCTTACATTAAGTGGGATTTGTTAAAATATGACTTCACGGAAGAGAGGTTAAAACTCTTTGACCGTTATTTTAAATATTGGGATCAGACATACCACCCAAATTGTGTTAACTGTTTGGATGACAGATGCATTCTGCATTGTGCAAACTTTAATGTTTTATTCTCTACAGTGTTCCCAC<br><span style='color:red'>C</span><br>T<br><span style='color:green'>T</span><br>ACAAGTTTTGGACCACTAGTGAGAAAAATATTTGTTGATGGTGTTCCATTTGTAGTTTCAACTGGATACCACTTCAGAGAGCTAGGTGTTGTACATAATCAGGATGTAAACTTACATAGCTCTAGACTTAGTTTTAAGGAATTACTTGTGTATGCTGCTGACCCTGCTATGCACGCTGCTTCTGGTAATCTATTACTAGATAAACGCACTACGTGCTTTTCAGTAGCTGCACTTACTAACAATGTTGCTTTTCAAACTGTCAAACCCGGTAATTTTAACAAAGACTTCTATGACTTTGCTGTGTCTAAGGGTTTCTTTAAGGAAGGAAGTTCTGTTGAATTAAAACACTTCTTCTTTGCTCAGGATGGTAATGCTGCTATCAGCGATTATGACTACTATCGTTATAATCTACCAACAATGTGTGATATCAGACAACTACTATTTGTAGTTGAAGTTGTTGATAAGTACTTTGATTGTTACGATGGTGGCTGTATTAATGCTAACCAAGTCATCGTCAACAACCTAGACAAATCAGCTGGTTTTCCATTTAATAAATGGGGTAAGGCTAGACTTTATTATGATTCAATGAGTTATGAGGATCAAGATGCACTTTTCGCATATACAAAACGTAATGTCATCCCTACTATAACTCAAATGAATCTTAAGTATGCCATTAGTGCAAAGAATAGAGCTCGCACCGTAGCTGGTGTCTCTATCTGTAGTACTATGACCAATAGACAGTTTCATCAAAAATTATTGAAATCAATAGCCGCCACTAGAGGAGCTACTGTAGTAATTGGAACAAGCAAATTCTATGGTGGTTGGCACAACATGTTAAAAACTGTTTATAGTGATGTAGAAAACCCTCACCTTATGGGTTGGGATTATCCTAAATGTGATAGAGCCATGCCTAACATGCTTAGAATTATGGCCTCACTTGTTCTTGCTCGCAAACATACAACGTGTTGTAGCTTGTCACACCGTTTCTATAGATTAGCTAATGAGTGTGCTCAAGTATTGAGTGAAATGGTCATGTGTGGC<br><span style='color:green'>A</span><br>G<br><span style='color:red'>G</span><br>TTCACTATATGTTAAACCAGGTGGAACCTCATCAGGAGATGCCACAACTGCTTATGCTAATAGTGTTTTTAACATTTGTCAAGCTGTCACGGCCAATGTTAATGCACTTTTATCTACTGATGGTAACAAAATTGCCGATAAGTATGTCCGCAATTTACAACACAGACTTTATGAGTGTCTCTATAGAAATAGAGATGTTGACACAGACTTTGTGAATGAGTTTTACGCATATTTGCGTAAACATTTCTCAATGATGATACTCTCTGACGATGCTGTTGTGTGTTTCAATAGCACTTATGCATCTCAAGGTCTAGTGGCTAGCATAAAGAACTTTAAGTCAGTTCTTTATTATCAAAACAATGTTTTTATGTCTGAAGCAAAATGTTGGACTGAGACTGACCTTACTAAAGGACCTCATGAATTTTGCTCTCAACATACAATGCTAGTTAAACAGGGTGATGATTATGTGTACCTTCCTTACCCAGATCCATCAAGAATCCTAGGGGCCGGCTGTTTTGTAGATGATATCGTAAAAACAGATGGTACACTTATGATTGAACGGTTCGTGTCTTTAGCTATAGATGCTTACCCACTTACTAAACATCCTAATCAGGAGTATGCTGATGTCTTTCATTTGTACTTACAATACATAAGAAAGCTACATGATGAGTTAACAGGACACATGTTAGACATGTATTCTGTTATGCTTACTAATGATAACACTTCAAGGTATTGGGAACCTGAGTTTTATGAGGCTATGTACACACCGCATACAGTCTTACAGGCTGTTGGGGCTTGTGTTCTTTGCAATTCACAGACTTCATTAAGATGTGGTGCTTGCATACGTAGACCATTCTTATGTTGTAAATGCTGTTACGACCATGTCATATCAACATCACATAAATTAGTCTTGTCTGTTAATCCGTATGTTTGCAATGCTCCAGGTTGTGATGTCACAGATGTGACTCAACTTTACTTAGGAGGTATGAGCTATTATTGTAAATCACATAAAC<br><span style='color:blue'>T</span><br>ACCCATTAGTTTTCCATTGTGTGCTAATGGACAAGTTTTTGGTTTATATAAAAATACATGTGTTGGTAGCGATAATGTTACTGACTTTAATGCAATTGCAACATGTGACTGGACAAATGCTGGTGATTACATTTTAGCTAACACCTGTACTGAAAGACTCAAGCTTTTTGCAGCAGAAACGCTCAAAGCTACTGAGGAGACATTTAAACTGTCTTATGGTATTGCTACTGTACGTGAAGTGCTGTCTGACAGAGAATTACATCTTTCATGGGAAGTTGGTAAACCTAGACCACCACTTAACCGAAATTATGTCTTTACTGGTTATCGTGTAACTAAAAACAGTAAAGTACAAATAGGAGAGTACACCTTTGAAAAAGGTGACTATGGTGATGCTGTTGTTTACCGAGGTACAACAACTTACAAATTAAATGTTGGTGATTATTTTGTGCTGACATCACATACAGTAATGCCATTAAGTGCACCTACACTAGTGCCACAAGAGCACTATGTTAGAATTACTGGCTTATACCCAACACTCAATATCTCAGATGAGTTTTCTAGCAATGTTGCAAATTATCAAAAGGTTGGTATGCAAAAGTATTCTACACTCCAGGGACCACCTGGTACTGGTAAGAGTCATTTTGCTATTGGCCTAGCTCTCTACTACCCTTCTGCTCGCATAGTGTATACAGCTTGCTCTCATGCCGCTGTTGATGCACTATGTGAGAAGGCATTAAAATATTTGCCTATAGATAAATGTAGTAGAATTATACCTGCACGTGCTCGTGTAGAGTGTTTTGATAAATTCAAAGTGAATTCAACATTAGAACAGTATGTCTTTTGTACTGTAAATGCATTGCCTGAGACGACAGCAGATATAGTTGTCTTTGATGAAATTTCAATGGCCACAAATTATGATTTGAGTGTTGTCAATGCCAGATTACGTGCTAAGCACTATGTGTACATTGGCGACCCTGCTCAATTACCTGCACCACGCACATTGCTAACTAAGGGCACACTAGAACCAGAATATTTCAATTCAGTGTGTAGACTTATGAAAACTATAGGTCCAGACATGTTCCTCGGAACTTGTCGGCGTTGTCCTGCTGAAATTGTTGACACTGTGAGTGCTTTGGTTTATGATAATAAGCTTAAAGCACATAAAGACAAATCAGCTCAATGCTTTAAAATGTTTTATAAGGGTGTTATCACGCATGATGTTTCATCTGCAATTAACAGGCCACAAATAGGCGTGGTAAGAGAATTCCTTACACGTAACCCTGCTTGGAGAAAAGCTGTCTTTATTTCACCTTATAATTCACAGAATGCTGTAGCCTCAAAGATTTTGGGACTACCAACTCAAACTGTTGATTCATCACAGGGCTCAGAATATGACTATGTCATATTCACTCAAACCACTGAAACAGCTCACTCTTGTAATGTAAACAGATTTAATGTTGCTATTACCAGAGCAAAAGTAGGCATACTTTGCATAATGTCTGATAGAGACCTTTATGACAAGTTGCAATTTACAAGTCTTGAAATTCCACGTAGGAATGTGGCAACTTTACAAGCTGAAAATGTAACAGGACTCTTTAAAGATTGTAGTAAGGTAATCACTGGGTTACATCCTACACAGGCACCTACACACCTCAGTGTTGACACTAAATTCAAAACTGAAGGTTTATGTGTTGACATACCTGGCATACCTAAGGACATGACCTATAGAAGACTCATCTCTATGATGGGTTTTAAAATGAATTATCAAGTTAATGGTTACCCTAACATGTTTATCACCCGCGAAGAAGCTATAAGACATGTACGTGCATGGATTGGCTTCGATGTCGAGGGGTGTCATGCTACTAGAGAAGCTGTTGGTACCAATTTACCTTTACAGCTAGGTTTTTCTACAGGTGTTAACCTAGTTGCTGTACCTACAGGTTATGTTGATACACCTAATAATACAGATTTTTCCAGAGTTAGTGCTAAACCACCGCCTGGAGATCAATTTAAACACCTCATACCACTTATGTACAAAGGACTTCCTTGGAATGTAGTGCGTATAAAGATTGTACAAATGTTAAGTGACACACTTAAAAATCTCTCTGACAGAGTCGTATTTGTCTTATGGGCACATGGCTTTGAGTTGACATCTATGAAGTATTTTGTGAAAATAGGACCTGAGCGCACCTGTTGTCTATGTGATAGACGTGCCACATGCTTTTCCACTGCTTCAGACACTTATGCCTGTTGGCATCATTCTATTGGATTTGATTACGTCTATAATCCGTTTATGATTGATGTTCAACAATGGGGTTTTACAGGTAACCTACAAAGCAACCATGATCTGTATTGTCAAGTCCATGGTAATGCACATGTAGCTAGTTGTGATGCAATCATGACTAGGTGTCTAGCTGTCCACGAGTGCTTTGTTAAGCGTGTTGACTGGACTATTGAATATCCTATAATTGGTGATGAACTGAAGATTAATGCGGCTTGTAGAAAGGTTCAACACATGGTTGTTAAAGCTGCATTATTAGCAGACAAATTCCCAGTTCTTCACGACATTGGTAACCCTAAAGCTATTAAGTGTGTACCTCAAGCTGATGTAGAATGGAAGTTCTATGATGCACAGCCTTGTAGTGACAAAGCTTATAAAATAGAAGAATTATTCTATTCTTATGCCACACATTCTGACAAATTCACAGATGGTGTATGCCTATTTTGGAATTGCAATGTCGATAGATATCCTG<br><span style='color:red'>C</span><br>T<br><span style='color:green'>T</span><br>AATTCCATTGTTTGTAGATTTGACACTAGAGTGCTATCTAACCTTAACTTGCCTGGTTGTGATGGTGGCAGTTTGTATGTAAATAAACATGCATTCCACACACCAGCTTTTGATAAAAGTGCTTTTGTTAATTTAAAACAATTACCATTTTTCTATTACTCTGACAGTCCATGTGAGTCTCATGGAAAACAAGTAGTGTCAGATATAGATTATGTACCACTAAAGTCTGCTACGTGTATAACACGTTGCAATTTAGGTGGTGCTGTCTGTAGACATCATGCTAATGAGTACAGATTGTATCTCGATGCTTATAACATGATGATCTCAGCTGGCTTTAGCTTGTGGGTTTACAAACAATTTGATACTTATAACCTCTGGAACACTTTTACAAGACTTCAGAGTTTAGAAAATGTGGCTTTTAATGTTGTAAATAAGGGACACTTTGATGGACAACAGGGTGAAGTACCAGTTTCTATCATTAATAACACTGTTTACACAAAAGTTGATGGTGTTGATGTAGAATTGTTTGAAAATAAAACAACATTACCTGTTAATGTAGCATTTGAGCTTTGGGCTAAGCGCAACATTAAACCAGTACCAGAGGTGAAAATACTCAATAATTTGGGTGTGGACATTGCTGCTAATACTGTGATCTGGGACTACAAAAGAGATGCTCCAGCACATATATCTACTATTGGTGTTTGTTCTATGACTGACATAGCCAAGAAACCAACTGAAACGATTTGTGCACCACTCACTGTCTTTTTTGATGGTAGAGTTGATGGTCAAGTAGACTTATTTAGAAATGCCCGTAATGGTGTTCTTATTACAGAAGGTAGTGTTAAAGGTTTACAACCATCTGTAGGTCCCAAACAAGCTAGTCTTAATGGAGTCACATTAATTGGAGAAGCCGTAAAAACACAGTTCAATTATTATAAGAAAGTTGATGGTGTTGTCCAACAATTACCTGAAACTTACTTTACTCAGAGTAGAAATTTACAAGAATTTAAACCCAGGAGTCAAATGGAAATTGATTTCTTAGAATTAGCTATGGATGAATTCATTGAACGGTATAAATTAGAAGGCTATGCCTTCGAACATATCGTTTATGGAGATTTTAGTCATAGTCAGTTAGGTGGTTTACATCTACTGATTGGACTAGCTAAACGTTTTAAGGAATCACCTTTTGAATTAGAAGATTTTATTCCTATGGACAGTACAGTTAAAAACTATTTCATAACAGATGCGCAAACAGGTTCATCTAAGTGTGTGTGTTCTGTTATTGATTTATTACTTGATGATTTTGTTGAAATAATAAAATCCCAAGATTTATCTGTAGTTTCTAAGGTTGTCAAAGTGACTATTGACTATACAGAAATTTCATTTATGCTTTGGTGTAAAGATGGCCATGTAGAAACATTTTACCCAAAATTACAATCTAGTCAAGCGTGGCAACCGGGTGTTGCTATGCCTAATCTTTACAAAATGCAAAGAATGCTATTAGAAAAGTGTGACCTTCAAAATTATGGTGATAGTGCAACATTACCTAAAGGCATAATGATGAATGTCGCAAAATATACTCAACTGTGTCAATATTTAAACACATTAACATTAGCTGTACCCTATAATATGAGAGTTATACATTTTGGTGCTGGTTCTGATAAAGGAGTTGCACCAGGTACAGCTGTTTTAAGACAGTGGTTGCCTACGGGTACGCTGCTTGTCGATTCAGATCTTAATGACTTTGTCTCTGATGCAGATTCAACTTTGATTGGTGATTGTGCAACTGTACATACAGCTAATAAATGGGATCTCATTATTAGTGATATGTACGACCCTAAGACTAAAAATGTTACAAAAGAAAATGACTCTAAAGAGGGTTTTTTCACTTACATTTGTGGGTTTATACAACAAAAGCTAGCTCTTGGAGGTTCCGTGGCTATAAAGATAACAGAACATTCTTGGAATGCTGATCTTTATAAGCTCATGGGACACTTCGCATGGTGGACAGCCTTTGTTACTAATGTGAATGCGTCATCATCTGAAGCATTTTTAATTGGATGTAATTATCTTGGCAAACCACGCGAACAAATAGATGGTTATGTCATGCATGCAAATTACATATTTTGGAGGAATACAAATCCAATTCAGTTGTCTTCCTATTCTTTATTTGACATGAGTAAATTTCCCCTTAAATTAAGGGGTACTGCTGTTATGTCTTTAAAAGAAGGTCAAATCAATGATATGATTTTATCTCTTCTTAGTAAAGGTAGACTTATAATTAGAGAAAACAACAGAGTTGTTATTTCTAGTGATGTTCTTGTTAACAACTAAACGAACAATGTTTGTTTTTCTTGTTTTATTGCCACTAGTCTCTAGTCAGTGTGTTAATCTTA<br><span style='color:blue'>G</span><br>AACCAGAACTCAATTACCCCCTGCATACACTAATTCTTTCACACGTGGTGTTTATTACCCTGACAAAGTTTTCAGATCCTCAGTTTTACATTCAACTCAGGACTTGTTCTTACCTTTCTTTTCCAATGTTACTTGGTTCCATGCTATACATGTCTCTGGGACCAATGGTACTAAGAGGTTTGATAACCCTGTCCTACCATTTAATGATGGTGTTTATTTTGCTTCCACTGAGAAGTCTAACATAATAAGAGGCTGGATTTTTGGTACTACTTTAGATTCGAAGACCCAGTCCCTACTTATTGTTAATAACGCTACTAATGTTGTTATTAAAGTCTGTGAATTTCAATTTTGTAATGATCCATTTTTGG<br><span style='color:blue'>A</span><br>TGTTTATTACCACAAAAACAACAAAAGTTGGATGGAAAGTG<br><span style='color:red'>A</span><br>G<br><span style='color:red'>TTC</span><br>AG<br><span style='color:red'>AG</span><br>TTTATTCTAGTGCGAATAATTGCACTTTTGAATATGTCTCTCAGCCTTTTCTTATGGACCTTGAAGGAAAACAGGGTAATTTCAAAAATCTTAGGGAATTTGTGTTTAAGAATATTGATGGTTATTTTAAAATATATTCTAAGCACACGCCTATTAATTTAGTGCGTGATCTCCCTCAGGGTTTTTCGGCTTTAGAACCATTGGTAGATTTGCCAATAGGTATTAACATCACTAGGTTTCAAACTTTACTTGCTTTACATAGAAGTTATTTGACTCCTGGTGATTCTTCTTCAGGTTGGACAGCTGGTGCTGCAGCTTATTATGTGGGTTATCTTCAACCTAGGACTTTTCTATTAAAATATAATGAAAATGGAACCATTACAGATGCTGTAGACTGTGCACTTGACCCTCTCTCAGAAACAAAGTGTACGTTGAAATCCTTCACTGTAGAAAAAGGAATCTATCAAACTTCTAACTTTAGAGTCCAACCAACAGAATCTATTGTTAGATTTCCTAATATTACAAACTTGTGCCCTTTTGGTGAAGTTTTTAACGCCACCAGATTTGCATCTGTTTATGCTTGGAACAGGAAGAGAATCAGCAACTGTGTTGCTGATTATTCTGTCCTATATAATTCCGCATCATTTTCCACTTTTAAGTGTTATGGAGTGTCTCCTACTAAATTAAATGATCTCTGCTTTACTAATGTCTATGCAGATTCATTTGTAATTAGAGGTGATGAAGTCAGACAAATCGCTCCAGGGCAAACTGGAAAGATTGCTGATTATAATTATAAATTACCAGATGATTTTACAGGCTGCGTTATAGCTTGGAATTCTAACAATCTTGATTCTAAGGTTGGTGGTAATTATAATTACC<br><span style='color:red'>T</span><br>G<br><span style='color:green'>G</span><br>TATAGATTGTTTAGGAAGTCTAATCTCAAACCTTTTGAGAGAGATATTTCAACTGAAATCTATCAGGCCGGTAGCA<br><span style='color:red'>C</span><br>A<br><span style='color:green'>A</span><br>CCTTGTAATGGTGTTGAAGGTTTTAATTGTTACTTTCCTTTACAATCATATGGTTTCCAACCCACTAATGGTGTTGGTTACCAACCATACAGAGTAGTAGTACTTTCTTTTGAACTTCTACATGCACCAGCAACTGTTTGTGGACCTAAAAAGTCTACTAATTTGGTTAAAAACAAATGTGTCAATTTCAACTTCAATGGTTTAACAGGCACAGGTGTTCTTACTGAGTCTAACAAAAAGTTTCTGCCTTTCCAACAATTTGGCAGAGACATTGCTGACACTACTGATGCTGTCCGTGATCCACAGACACTTGAGATTCTTGACATTACACCATGTTCTTTTGGTGGTGTCAGTGTTATAACACCAGGAACAAATACTTCTAACCAGGTTGCTGTTCTTTATCAGG<br><span style='color:blue'>G</span><br>TGTTAACTGCACAGAAGTCCCTGTTGCTATTCATGCAGATCAACTTACTCCTACTTGGCGTGTTTATTCTACAGGTTCTAATGTTTTTCAAACACGTGCAGGCTGTTTAATAGGGGCTGAACATGTCAACAACTCATATGAGTGTGACATACCCATTGGTGCAGGTATATGCGCTAGTTATCAGACTCAGACTAATTCTC<br><span style='color:blue'>G</span><br>TCGGCGGGCACGTAGTGTAGCTAGTCAATCCATCATTGCCTACACTATGTCACTTGGTGCAGAAAATTCAGTTGCTTACTCTAATAACTCTATTGCCATACCCACAAATTTTACTATTAGTGTTACCACAGAAATTCTACCAGTGTCTATGACCAAGACATCAGTAGATTGTACAATGTACATTTGTGGTGATTCAACTGAATGCAGCAATCTTTTGTTGCAATATGGCAGTTTTTGTACACAATTAAACCGTGCTTTAACTGGAATAGCTGTTGAACAAGACAAAAACACCCAAGAAGTTTTTGCACAAGTCAAACAAATTTACAAAACACCACCAATTAAAGATTTTGGTGGTTTTAATTTTTCACAAATATTACCAGATCCATCAAAACCAAGCAAGAGGTCATTTATTGAAGATCTACTTTTCAACAAAGTGACACTTGCAGATGCTGGCTTCATCAAACAATATGGTGATTGCCTTGGTGATATTGCTGCTAGAGACCTCATTTGTGCACAAAAGTTTAACGGCCTTACTGTTTTGCCACCTTTGCTCACAGATGAAATGATTGCTCAATACACTTCTGCACTGTTAGCGGGTACAATCACTTCTGGTTGGACCTTTGGTGCAGGTGCTGCATTACAAATACCATTTGCTATGCAAATGGCTTATAGGTTTAATGGTATTGGAGTTACACAGAATGTTCTCTATGAGAACCAAAAATTGATTGCCAACCAATTTAATAGTGCTATTGGCAAAATTCAAGACTCACTTTCTTCCACAGCAAGTGCACTTGGAAAACTTCAA<br><span style='color:red'>G</span><br>A<br><span style='color:green'>A</span><br>TGTGGTCAACCAAAATGCACAAGCTTTAAACACGCTTGTTAAACAACTTAGCTCCAATTTTGGTGCAATTTCAAGTGTTTTAAATGATATCCTTTCACGTCTTGACAAAGTTGAGGCTGAAGTGCAAATTGATAGGTTGATCACAGGCAGACTTCAAAGTTTGCAGACATATGTGACTCAACAATTAATTAGAGCTGCAGAAATCAGAGCTTCTGCTAATCTTGCTGCTACTAAAATGTCAGAGTGTGTACTTGGACAATCAAAAAGAGTTGATTTTTGTGGAAAGGGCTATCATCTTATGTCCTTCCCTCAGTCAGCACCTCATGGTGTAGTCTTCTTGCATGTGACTTATGTCCCTGCACAAGAAAAGAACTTCACAACTGCTCCTGCCATTTGTCATGATGGAAAAGCACACTTTCCTCGTGAAGGTGTCTTTGTTTCAAATGGCACACACTGGTTTGTAACACAAAGGAATTTTTATGAACCACAAATCATTACTACAGACAACACATTTGTGTCTGGTAACTGTGATGTTGTAATAGGAATTGTCAACAACACAGTTTATGATCCTTTGCAACCTGAATTAGACTCATTCAAGGAGGAGTTAGATAAATATTTTAAGAATCATACATCACCAGATGTTGATTTAGGTGACATCTCTGGCATTAATGCTTCA<br><span style='color:red'>G</span><br>TT<br><span style='color:green'>T</span><br>GTAAACATTCAAAAAGAAATTGACCGCCTCAATGAGGTTGCCAAGAATTTAAATGAATCTCTCATCGATCTCCAAGAACTTGGAAAGTATGAGCAGTATATAAAATGGCCATGGTACATTTGGCTAGGTTTTATAGCTGGCTTGATTGCCATAGTAATGGTGACAATTATGCTTTGCTGTATGACCAGTTGCTGTAGTTGTCTCAAGGGCTGTTGTTCTTGTGGATCCTGCTGCAAATTTGATGAAGACGACTCTGAGCCA<br><span style='color:red'>G</span><br>T<br><span style='color:green'>T</span><br>GCTCAAAGGAGTCAAATTACATTACACATAAACGAACTTATGGATTTGTTTATGAGAATCTTCACAATTGGAACTGTAACTTTGAAGCAAGGTGAAATCAAGGATGCTACTCCTT<br><span style='color:blue'>T</span><br>AGATTTTGTTCGCGCTACTGCAACGATACCGATACAAGCCTCACTCCCTTTCGGATGGCTTATTGTTGGCGTTGCACTTCTTGCTGTTTTTCAGAGCGCTTCCAAAATCATAACCCTCAAAAAGAGATGGCAACTAGCACTCTCCAAGGGTGTTCACTTTGTTTGCAACTTGCTGTTGTTGTTTGTAACAGTTTACTCACACCTTTTGCTCGTTGCTGCTGGCCTTGAAGCCCCTTTTCTCTATCTTTATGCTTTAGTCTACTTCTTGCAGAGTATAAACTTTGTAAGAATAATAATGAGGCTTTGGCTTTGCTGGAAATGCCGTTCCAAAAACCCATTACTTTATGATGCCAACTATTTTCTTTGCTGGCATACTAATTGTTACGACTATTGTATACCTTACAATAGTGTAACTTCTTCAATTGTCATTACTTCAGGTGATGGCACAACAAGTCCTATTTCTGAACATGACTACCAGATTGGTGGTTATACTGAAAAATGGGAATCTGGAGTAAAAGACTGTGTTGTATTACACAGTTACTTCACTTCAGACTATTACCAGCTGTACTCAACTCAATTGAGTACAGACACTGGTGTTGAACATGTTACCTTCTTCATCTACAATAAAATTGTTGATGAGCCTGAAGAACATGTCCAAATTCACACAATCGACGGTTCATCCGGAGTTGTTAATCCAGTAATGGAACCAATTTATGATGAACCGACGACGACTACTAGCGTGCCTTTGTAAGCACAAGCTGATGAGTACGAACTTATGTACTCATTCGTTTCGGAAGAGACAGGTACGTTAATAGTTAATAGCGTACTTCTTTTTCTTGCTTTCGTGGTATTCTTGCTAGTTACACTAGCCATCCTTACTGCGCTTCGATTGTGTGCGTACTGCTGCAATATTGTTAACGTGAGTCTTGTAAAACCTTCTTTTTACGTTTACTC<br><span style='color:red'>T</span><br>C<br><span style='color:green'>C</span><br>GTGTTAAAAATCTGAATTCTTCTAGAGTTCCTGATCTTCTGGTCTAAACGAACTAAATATTATATTAGTTTTTCTGTTTGGAACTTTAATTTTAGCCATGGCAGATTCCAACGGTACTATTACCGTTGAAGAGCTTAAAAAGCTCCTTGAACAATGGAACCTAGTAATAGGTTTCCTATTCCTTACATGGATTTGTCTTCTACAATTTGCCTATGCCAACAGGAATAGGTTTTTGTATATAATTAAGTTAATTTTCCTCTGGCTGTTATGGCCAGTAACTTTAGCTTGTTTTGTGCTTGCTGCTGTTTACAGAATAAATTGGATCACCGGTGGAATTGCTA<br><span style='color:red'>T</span><br>C<br><span style='color:green'>C</span><br>GCAATGGCTTGTCTTGTAGGCTTGATGTGGCTCAGCTACTTCATTGCTTCTTTCAGACTGTTTGCGCGTACGCGTTCCATGTGGTCATTCAATCCAGAAACTAACATTCTTCTCAACGTGCCACTCCATGGCACTATTCTGACCAGACCGCTTCTAGAAAGTGAACTCGTAATCGGAGCTGTGATCCTTCGTGGACATCTTCGTATTGCTGGACACCATCTAGGACGCTGTGACATCAAGGACCTGCCTAAAGAAATCACTGTTGCTACATCACGAACGCTTTCTTATTACAAATTGGGAGCTTCGCAGCGTGTAGCAGGTGACTCAGGTTTTGCTGCATACAGTCGCTACAGGATTGGCAACTATAAATTAAACACAGACCATTCCAGTAGCAGTGACAATATTGCTTTGCTTGTACAGTAAGTGACAACAGATGTTTCATCTCGTTGACTTTCAGGTTACTATAGCAGAGATATTACTAATTATTATGAGGACTTTTAAAGTTTCCATTTGGAATCTTGATTACATCATAAACCTCATAATTAAAAATTTATCTAAGTCACTAACTGAGAATAAATATTCTCAATTAGATGAAGAGCAACCAATGGAGATTGATTAAACGAACATGAAAATTATTCTTTTCTTGGCACTGATAACACTCGCTACTTGTGAGCTTTATCACTACCAAGAGTGTGTTAGAGGTACAACAGTACTTTTAAAAGAACCTTGCTCTTCTGGAACATACGAGGGCAATTCAC<br><span style='color:blue'>T</span><br>ATTTCATCCTCTAGCTGATAACAAATTTGCACTGACTTGCTTTAGCACTCAATTTGCTTTTGCTTGTCCTGACGGCGTAAAACACGTCTATCAGTTACGTGCCAGATCAG<br><span style='color:green'>C</span><br>TT<br><span style='color:red'>T</span><br>CACCTAAACTGTTCATCAGACAAGAGGAAGTTCAAGAACTTTACTCTCCAATTTTTCTTATTGTTGCGGCAATAGTGTTTATAACACTTTGCTTCACACTCAAAAGAAAGA<br><span style='color:blue'>T</span><br>AGAATGATTGAACTTTCATTAATTGACTTCTATTTGTGCTTTTTAGCCTTTCTGCTATTCCTTGTTTTAATTATGCTTATTATCTTTTGGTTCTCACTTGAACTGCAAGATCATAATGAAA<br><span style='color:red'>C</span><br>TT<br><span style='color:green'>T</span><br>GTCACGCCTAAACGAACATGAAATTTCTTGTTTTCTTAGGAATCATCACAACTGTAGCTGCATTTCACCAAGAATGTAGTTTACAGTCATGTACTCAACATCAACCATATGTAGTTGATGACCCGTGTCCTATTCACTTCTATTCTAAATGGTATATTAGAGTAGGAGCTAGAAAATCAGCACCTTTAATTGAATTGTGCGTGGATGAGGCTGGTTCTAAATCACCCATTCAGTACATCGATATCGGTAATTATACAGTTTCCTGTTTACCTTTTACAATTAATTGCCAGGAACCTAAATTGGGTAGTCTTGTAGTGCGTTGTTCGTTCTATGAAGACTTTTTAGAGTATCATGACGTTCGTGTTGTTTTA<br><span style='color:red'>G</span><br>AT<br><span style='color:red'>TT</span><br>C<br><span style='color:red'>A</span><br>T<br><span style='color:red'>CT</span><br>AAACGAACAAACTAAA<br><span style='color:red'>A</span><br>TGTCTGATAATGGACCCCAAAATCAGCGAAATGCACCCCGCATTACGTTTGGTGGACCCTCAGATTCAACTGGCAGTAACCAGAATGGAGAACGCAGTGGGGCGCGATCAAAACAACGTCGGCCCCAAGGTTTACCCAATAATACTGCGTCTTGGTTCACCGCTCTCACTCAACATGGCAAGGAAG<br><span style='color:blue'>G</span><br>CCTTAAATTCCCTCGAGGACAAGGCGTTCCAATTAACACCAATAGCAGTCCAGATGACCAAATTGGCTACTACCGAAGAGCTACCAGACGAATTCGTGGTGGTGACGGTAAAATGAAAGATCTCAGTCCAAGATGGTATTTCTACTACCTAGGAACTGGGCCAGAAGCTGGACTTCCCTATGGTGCTAACAAAGACGGCATCATATGGGTTGCAACTGAGGGAGCCTTGAATACACCAAAAGATCACATTGGCACCCGCAATCCTGCTAACAATGCTGCAATCGTGCTACAACTTCCTCAAGGAACAACATTGCCAAAAGGCTTCTACGCAGAAGGGAGCAGAGGCGGCAGTCAAGCCTCTTCTCGTTCCTCATCACGTAGTCGCAACAGTTCAAGAAATTCAACTCCAGGCAGCAGTA<br><span style='color:green'>T</span><br>GGG<br><span style='color:red'>G</span><br>AACTTCTCCTGCTAGAATGGCTGGCAATGGC<br><span style='color:green'>T</span><br>G<br><span style='color:red'>G</span><br>TGATGCTGCTCTTGCTTTGCTGCTGCTTGACAGATTGAACCAGCTTGAGAGCAAAATGTCTGGTAAAGGCCAACAACAACAAGGCCAAACTGTCACTAAGAAATCTGCTGCTGAGGCTTCTAAGAAGCCTCGGCAAAAACGTACTGCCACTAAAGCATACAATGTAACACAAGCTTTCGGCAGACGTGGTCCAGAACAAACCCAAGGAAATTTTGGGGACCAGGAACTAATCAGACAAGGAACTGATTACAAACATTGGCCGCAAATTGCACAATTTGCCCCCAGCGCTTCAGCGTTCTTCGGAATGTCGCGCATTGGCATGGAAGTCACACCTTCGGGAACGTGGTTGACCTACACAGGTGCCATCAAATTGGATGACAAAGATCCAAATTTCAAAGATCAAGTCATTTTGCTGAATAAGCATATTGACGCATACAAAACATTCCCACCAACAGAGCCTAAAAAGGACAAAAAGAAGAAGGCT<br><span style='color:blue'>T</span><br>ATGAAACTCAAGCCTTACCGCAGAGACAGAAGAAACAGCAAACTGTGACTCTTCTTCCTGCTGCAGATTTGGATGATTTCTCCAAACAATTGCAACAATCCATGAGCAGTGCTGACTCAACTCAGGCCTAAACTCATGCAGACCACACAAGGCAGATGGGCTATATAAACGTTTTCGCTTTTCCGTTTACGATATATAGTCTACTCTTGTGCAGAATGAATTCTCGTAACTACATAGCACAAGTAGATGTAGTTAACTTTAATCTCACATAGCAATCTTTAATCAGTGTGTAACATTAGGGAGGACTTGAAAGAGCCACCACATTTTCACCGAGGCCAC<br><span style='color:blue'>T</span><br>CGGAGTACGATCGAGTGTACAGTGAACAATGCTAGGGAGAGCTGCCTATATGGAAGAGCCCTAATGTGTAAAATTAATTTTAGTAGTGCTATCCCCATGTGATTTTAATAGCTTCTTAGGAGAATGACA"
      ],
      "text/plain": [
       "<IPython.core.display.HTML object>"
      ]
     },
     "metadata": {},
     "output_type": "display_data"
    }
   ],
   "source": [
    "display(HTML('<br>'.join(display_seq)))"
   ]
  }
 ],
 "metadata": {
  "kernelspec": {
   "display_name": "Python 3",
   "language": "python",
   "name": "python3"
  },
  "language_info": {
   "codemirror_mode": {
    "name": "ipython",
    "version": 3
   },
   "file_extension": ".py",
   "mimetype": "text/x-python",
   "name": "python",
   "nbconvert_exporter": "python",
   "pygments_lexer": "ipython3",
   "version": "3.7.12"
  },
  "papermill": {
   "default_parameters": {},
   "duration": 28.206045,
   "end_time": "2022-03-12T17:19:13.055367",
   "environment_variables": {},
   "exception": null,
   "input_path": "__notebook__.ipynb",
   "output_path": "__notebook__.ipynb",
   "parameters": {},
   "start_time": "2022-03-12T17:18:44.849322",
   "version": "2.3.3"
  }
 },
 "nbformat": 4,
 "nbformat_minor": 5
}
