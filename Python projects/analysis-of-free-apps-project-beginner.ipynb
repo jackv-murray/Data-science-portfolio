{
 "cells": [
  {
   "cell_type": "markdown",
   "id": "d99b23ff",
   "metadata": {
    "papermill": {
     "duration": 0.08197,
     "end_time": "2022-02-20T17:42:57.861716",
     "exception": false,
     "start_time": "2022-02-20T17:42:57.779746",
     "status": "completed"
    },
    "tags": []
   },
   "source": [
    "# Analysis of user engagement with free apps \n",
    "Data analysis scenario: \"We only build apps that are free to download and install, and our main source of revenue consists of in-app ads. This means that the number of users of our apps determines our revenue for any given app — the more users who see and engage with the ads, the better. Our goal for this project is to analyze data to help our developers understand what type of apps are likely to attract more users.\"\n",
    " -scenario taken from dataquest.io\n",
    "\n",
    "(The purpose of this project is to put into practice and demonstrate the beginner skills I have gained since I started learning python)\n",
    "\n",
    "**datasets used**\n",
    "[App store](https://dq-content.s3.amazonaws.com/350/AppleStore.csv)\n",
    "[Google Play](https://dq-content.s3.amazonaws.com/350/googleplaystore.csv) "
   ]
  },
  {
   "cell_type": "code",
   "execution_count": 1,
   "id": "310dcfae",
   "metadata": {
    "execution": {
     "iopub.execute_input": "2022-02-20T17:42:58.043467Z",
     "iopub.status.busy": "2022-02-20T17:42:58.041659Z",
     "iopub.status.idle": "2022-02-20T17:42:58.053796Z",
     "shell.execute_reply": "2022-02-20T17:42:58.054415Z",
     "shell.execute_reply.started": "2022-02-20T17:20:01.367246Z"
    },
    "papermill": {
     "duration": 0.100398,
     "end_time": "2022-02-20T17:42:58.054701",
     "exception": false,
     "start_time": "2022-02-20T17:42:57.954303",
     "status": "completed"
    },
    "tags": []
   },
   "outputs": [],
   "source": [
    "def explore_data(dataset, start, end, rows_and_columns=False):\n",
    "    dataset_slice = dataset[start:end]    \n",
    "    for row in dataset_slice:\n",
    "        print(row)\n",
    "        print('\\n') # adds a new (empty) line after each row, the \\ will add a new line after printing a row\n",
    "\n",
    "    if rows_and_columns:\n",
    "        print('Number of rows:', len(dataset))\n",
    "        print('Number of columns:', len(dataset[0]))"
   ]
  },
  {
   "cell_type": "markdown",
   "id": "34f0d6a2",
   "metadata": {
    "papermill": {
     "duration": 0.074573,
     "end_time": "2022-02-20T17:42:58.205703",
     "exception": false,
     "start_time": "2022-02-20T17:42:58.131130",
     "status": "completed"
    },
    "tags": []
   },
   "source": [
    "in the above code:\n",
    "- dataset, being the list of lists extracted from the data source\n",
    "- start: start index of slice, end: end index of slice\n",
    "- rows_and_columns bool with a default argument of False\n",
    " \n",
    " how it works:\n",
    "- dataset is sliced with ```dataset[start:end]```\n",
    "- slice is looped through, and for each iteration, print a row and add a new line after it via `print('\\n')`\n",
    "- if `rows_and_columns = True`, then it will print the number of rows and columns \n",
    "  "
   ]
  },
  {
   "cell_type": "code",
   "execution_count": 2,
   "id": "3b9ae052",
   "metadata": {
    "execution": {
     "iopub.execute_input": "2022-02-20T17:42:58.362937Z",
     "iopub.status.busy": "2022-02-20T17:42:58.361892Z",
     "iopub.status.idle": "2022-02-20T17:42:58.363822Z",
     "shell.execute_reply": "2022-02-20T17:42:58.364419Z",
     "shell.execute_reply.started": "2022-02-20T17:20:01.378088Z"
    },
    "papermill": {
     "duration": 0.083685,
     "end_time": "2022-02-20T17:42:58.364580",
     "exception": false,
     "start_time": "2022-02-20T17:42:58.280895",
     "status": "completed"
    },
    "tags": []
   },
   "outputs": [],
   "source": [
    "def open_dataset(dataset='../input/app-store-apple-data-set-10k-apps/AppleStore.csv'):\n",
    "    from csv import reader\n",
    "    opened = open(dataset, encoding='utf-8') #community solution was to add this encoding, as previously returned error\n",
    "    read_file = reader(opened)\n",
    "    data = list(read_file)\n",
    "    return data"
   ]
  },
  {
   "cell_type": "code",
   "execution_count": 3,
   "id": "5835cf73",
   "metadata": {
    "execution": {
     "iopub.execute_input": "2022-02-20T17:42:58.520156Z",
     "iopub.status.busy": "2022-02-20T17:42:58.519078Z",
     "iopub.status.idle": "2022-02-20T17:42:58.583437Z",
     "shell.execute_reply": "2022-02-20T17:42:58.582859Z",
     "shell.execute_reply.started": "2022-02-20T17:20:01.391801Z"
    },
    "papermill": {
     "duration": 0.143821,
     "end_time": "2022-02-20T17:42:58.583601",
     "exception": false,
     "start_time": "2022-02-20T17:42:58.439780",
     "status": "completed"
    },
    "tags": []
   },
   "outputs": [],
   "source": [
    "Apple_data = open_dataset('../input/app-store-apple-data-set-10k-apps/AppleStore.csv')"
   ]
  },
  {
   "cell_type": "code",
   "execution_count": 4,
   "id": "fd3db3d6",
   "metadata": {
    "execution": {
     "iopub.execute_input": "2022-02-20T17:42:58.738507Z",
     "iopub.status.busy": "2022-02-20T17:42:58.737819Z",
     "iopub.status.idle": "2022-02-20T17:42:58.930708Z",
     "shell.execute_reply": "2022-02-20T17:42:58.931219Z",
     "shell.execute_reply.started": "2022-02-20T17:20:01.445744Z"
    },
    "papermill": {
     "duration": 0.272666,
     "end_time": "2022-02-20T17:42:58.931402",
     "exception": false,
     "start_time": "2022-02-20T17:42:58.658736",
     "status": "completed"
    },
    "tags": []
   },
   "outputs": [],
   "source": [
    "Gplay_data = open_dataset('../input/google-play-store-apps/googleplaystore.csv')"
   ]
  },
  {
   "cell_type": "code",
   "execution_count": 5,
   "id": "b1f59086",
   "metadata": {
    "execution": {
     "iopub.execute_input": "2022-02-20T17:42:59.084259Z",
     "iopub.status.busy": "2022-02-20T17:42:59.083604Z",
     "iopub.status.idle": "2022-02-20T17:42:59.089728Z",
     "shell.execute_reply": "2022-02-20T17:42:59.090232Z",
     "shell.execute_reply.started": "2022-02-20T17:20:01.521976Z"
    },
    "papermill": {
     "duration": 0.083899,
     "end_time": "2022-02-20T17:42:59.090396",
     "exception": false,
     "start_time": "2022-02-20T17:42:59.006497",
     "status": "completed"
    },
    "tags": []
   },
   "outputs": [
    {
     "name": "stdout",
     "output_type": "stream",
     "text": [
      "['', 'id', 'track_name', 'size_bytes', 'currency', 'price', 'rating_count_tot', 'rating_count_ver', 'user_rating', 'user_rating_ver', 'ver', 'cont_rating', 'prime_genre', 'sup_devices.num', 'ipadSc_urls.num', 'lang.num', 'vpp_lic']\n",
      "\n",
      "\n",
      "['1', '281656475', 'PAC-MAN Premium', '100788224', 'USD', '3.99', '21292', '26', '4', '4.5', '6.3.5', '4+', 'Games', '38', '5', '10', '1']\n",
      "\n",
      "\n",
      "['2', '281796108', 'Evernote - stay organized', '158578688', 'USD', '0', '161065', '26', '4', '3.5', '8.2.2', '4+', 'Productivity', '37', '5', '23', '1']\n",
      "\n",
      "\n",
      "Number of rows: 7198\n",
      "Number of columns: 17\n"
     ]
    }
   ],
   "source": [
    "explore_data(Apple_data, 0, 3, True) #testing out above function to see if it is working"
   ]
  },
  {
   "cell_type": "code",
   "execution_count": 6,
   "id": "4448c8c3",
   "metadata": {
    "execution": {
     "iopub.execute_input": "2022-02-20T17:42:59.247204Z",
     "iopub.status.busy": "2022-02-20T17:42:59.246154Z",
     "iopub.status.idle": "2022-02-20T17:42:59.250749Z",
     "shell.execute_reply": "2022-02-20T17:42:59.251726Z",
     "shell.execute_reply.started": "2022-02-20T17:20:01.533164Z"
    },
    "papermill": {
     "duration": 0.085857,
     "end_time": "2022-02-20T17:42:59.252076",
     "exception": false,
     "start_time": "2022-02-20T17:42:59.166219",
     "status": "completed"
    },
    "tags": []
   },
   "outputs": [
    {
     "name": "stdout",
     "output_type": "stream",
     "text": [
      "['App', 'Category', 'Rating', 'Reviews', 'Size', 'Installs', 'Type', 'Price', 'Content Rating', 'Genres', 'Last Updated', 'Current Ver', 'Android Ver']\n",
      "\n",
      "\n",
      "['Photo Editor & Candy Camera & Grid & ScrapBook', 'ART_AND_DESIGN', '4.1', '159', '19M', '10,000+', 'Free', '0', 'Everyone', 'Art & Design', 'January 7, 2018', '1.0.0', '4.0.3 and up']\n",
      "\n",
      "\n",
      "['Coloring book moana', 'ART_AND_DESIGN', '3.9', '967', '14M', '500,000+', 'Free', '0', 'Everyone', 'Art & Design;Pretend Play', 'January 15, 2018', '2.0.0', '4.0.3 and up']\n",
      "\n",
      "\n",
      "Number of rows: 10842\n",
      "Number of columns: 13\n"
     ]
    }
   ],
   "source": [
    "explore_data(Gplay_data, 0, 3, True)"
   ]
  },
  {
   "cell_type": "markdown",
   "id": "d210130e",
   "metadata": {
    "papermill": {
     "duration": 0.075604,
     "end_time": "2022-02-20T17:42:59.406131",
     "exception": false,
     "start_time": "2022-02-20T17:42:59.330527",
     "status": "completed"
    },
    "tags": []
   },
   "source": [
    "Now i'll decide which columns are going to help with the analysis\n",
    "\n",
    "**Google Play**\n",
    "Since free apps are trying to capitalise on ad revenue, it would make sense to focus on the 'Installs'[5] column (i.e. amount of people that use it), 'Category'[1] and 'Genres' [9]. \n",
    "\n",
    "**Apple store**\n",
    "The columns are less descriptive, but an app with a high 'User Ratings'[8] or 'rating_count_tot' [6] could translate to more people that have installed or used the app; I'll also use 'prime_genre' [12] as this would help to identify a trend of certain genres having higher amounts of user ratings. "
   ]
  },
  {
   "cell_type": "markdown",
   "id": "174f94b5",
   "metadata": {
    "papermill": {
     "duration": 0.075106,
     "end_time": "2022-02-20T17:42:59.557197",
     "exception": false,
     "start_time": "2022-02-20T17:42:59.482091",
     "status": "completed"
    },
    "tags": []
   },
   "source": [
    "# Data cleaning\n",
    "to:\n",
    "- remove/correct data e.g. non-english apps as the target audience is English-speakers\n",
    "- remove non-free apps\n",
    "\n",
    "more generally: \n",
    "\n",
    "- removing duplicate data\n",
    "- modifying data to fit purpose of analysis\n",
    "- remove/correct wrong data"
   ]
  },
  {
   "cell_type": "markdown",
   "id": "e7220b24",
   "metadata": {
    "papermill": {
     "duration": 0.076152,
     "end_time": "2022-02-20T17:42:59.708929",
     "exception": false,
     "start_time": "2022-02-20T17:42:59.632777",
     "status": "completed"
    },
    "tags": []
   },
   "source": [
    "### Missing entries"
   ]
  },
  {
   "cell_type": "code",
   "execution_count": 7,
   "id": "75fb8109",
   "metadata": {
    "execution": {
     "iopub.execute_input": "2022-02-20T17:42:59.873111Z",
     "iopub.status.busy": "2022-02-20T17:42:59.872073Z",
     "iopub.status.idle": "2022-02-20T17:42:59.877044Z",
     "shell.execute_reply": "2022-02-20T17:42:59.878317Z",
     "shell.execute_reply.started": "2022-02-20T17:20:01.546174Z"
    },
    "papermill": {
     "duration": 0.091906,
     "end_time": "2022-02-20T17:42:59.878546",
     "exception": false,
     "start_time": "2022-02-20T17:42:59.786640",
     "status": "completed"
    },
    "tags": []
   },
   "outputs": [
    {
     "name": "stdout",
     "output_type": "stream",
     "text": [
      "['Life Made WI-Fi Touchscreen Photo Frame', '1.9', '19', '3.0M', '1,000+', 'Free', '0', 'Everyone', '', 'February 11, 2018', '1.0.19', '4.0 and up']\n",
      "\n",
      "\n",
      "10473\n"
     ]
    }
   ],
   "source": [
    "#here this code will iterate through each row in Gplay_data and seeing if it has the same length as the header\n",
    "#(i.e. same amount of entries as there are headers)\n",
    "\n",
    "for row in Gplay_data:\n",
    "    header_length = len(Gplay_data[0]) #header is at index 0 of the data set\n",
    "    row_length = len(row)\n",
    "    if row_length != header_length: \n",
    "        print(row)\n",
    "        print('\\n')\n",
    "        print(Gplay_data.index(row))"
   ]
  },
  {
   "cell_type": "markdown",
   "id": "d2abdbe1",
   "metadata": {
    "papermill": {
     "duration": 0.075477,
     "end_time": "2022-02-20T17:43:00.032285",
     "exception": false,
     "start_time": "2022-02-20T17:42:59.956808",
     "status": "completed"
    },
    "tags": []
   },
   "source": [
    "the above output has returned a missing value at index 9 for the above row, which corresponds to the 'Genres' section"
   ]
  },
  {
   "cell_type": "code",
   "execution_count": 8,
   "id": "7246f7d5",
   "metadata": {
    "execution": {
     "iopub.execute_input": "2022-02-20T17:43:00.193972Z",
     "iopub.status.busy": "2022-02-20T17:43:00.192954Z",
     "iopub.status.idle": "2022-02-20T17:43:00.195795Z",
     "shell.execute_reply": "2022-02-20T17:43:00.195192Z",
     "shell.execute_reply.started": "2022-02-20T17:20:01.561464Z"
    },
    "papermill": {
     "duration": 0.084547,
     "end_time": "2022-02-20T17:43:00.195969",
     "exception": false,
     "start_time": "2022-02-20T17:43:00.111422",
     "status": "completed"
    },
    "tags": []
   },
   "outputs": [],
   "source": [
    "del Gplay_data[10473]"
   ]
  },
  {
   "cell_type": "code",
   "execution_count": 9,
   "id": "a41ec2c2",
   "metadata": {
    "execution": {
     "iopub.execute_input": "2022-02-20T17:43:00.352938Z",
     "iopub.status.busy": "2022-02-20T17:43:00.352179Z",
     "iopub.status.idle": "2022-02-20T17:43:00.357105Z",
     "shell.execute_reply": "2022-02-20T17:43:00.356001Z",
     "shell.execute_reply.started": "2022-02-20T17:20:01.567685Z"
    },
    "papermill": {
     "duration": 0.085219,
     "end_time": "2022-02-20T17:43:00.357358",
     "exception": false,
     "start_time": "2022-02-20T17:43:00.272139",
     "status": "completed"
    },
    "tags": []
   },
   "outputs": [
    {
     "name": "stdout",
     "output_type": "stream",
     "text": [
      "['osmino Wi-Fi: free WiFi', 'TOOLS', '4.2', '134203', '4.1M', '10,000,000+', 'Free', '0', 'Everyone', 'Tools', 'August 7, 2018', '6.06.14', '4.4 and up']\n"
     ]
    }
   ],
   "source": [
    "print(Gplay_data[10473])"
   ]
  },
  {
   "cell_type": "code",
   "execution_count": 10,
   "id": "73a60710",
   "metadata": {
    "execution": {
     "iopub.execute_input": "2022-02-20T17:43:00.521654Z",
     "iopub.status.busy": "2022-02-20T17:43:00.520862Z",
     "iopub.status.idle": "2022-02-20T17:43:00.523812Z",
     "shell.execute_reply": "2022-02-20T17:43:00.523310Z",
     "shell.execute_reply.started": "2022-02-20T17:20:01.581316Z"
    },
    "papermill": {
     "duration": 0.08738,
     "end_time": "2022-02-20T17:43:00.523984",
     "exception": false,
     "start_time": "2022-02-20T17:43:00.436604",
     "status": "completed"
    },
    "tags": []
   },
   "outputs": [],
   "source": [
    "for row in Apple_data:\n",
    "    header_length = len(Apple_data[0]) \n",
    "    row_length = len(row)\n",
    "    if row_length != header_length: \n",
    "        print(row)\n",
    "        print('\\n')\n",
    "        print(Gplay_data.index(row))"
   ]
  },
  {
   "cell_type": "markdown",
   "id": "a3b95f32",
   "metadata": {
    "papermill": {
     "duration": 0.076233,
     "end_time": "2022-02-20T17:43:00.677746",
     "exception": false,
     "start_time": "2022-02-20T17:43:00.601513",
     "status": "completed"
    },
    "tags": []
   },
   "source": [
    "### Duplicate entries"
   ]
  },
  {
   "cell_type": "code",
   "execution_count": 11,
   "id": "4f716c09",
   "metadata": {
    "execution": {
     "iopub.execute_input": "2022-02-20T17:43:00.854965Z",
     "iopub.status.busy": "2022-02-20T17:43:00.853988Z",
     "iopub.status.idle": "2022-02-20T17:43:01.134840Z",
     "shell.execute_reply": "2022-02-20T17:43:01.135396Z",
     "shell.execute_reply.started": "2022-02-20T17:20:01.591178Z"
    },
    "papermill": {
     "duration": 0.379592,
     "end_time": "2022-02-20T17:43:01.135577",
     "exception": false,
     "start_time": "2022-02-20T17:43:00.755985",
     "status": "completed"
    },
    "tags": []
   },
   "outputs": [],
   "source": [
    "#this code will iterate through the apple data and append the list of apps that appear twice or not to the below empty lists\n",
    "\n",
    "apple_unique_apps = [] \n",
    "apple_duplicate_apps = [] \n",
    "\n",
    "for app in Apple_data: \n",
    "    app_name = app[2] #index of the row containing app names 'track_name'\n",
    "\n",
    "    if app_name not in apple_unique_apps:\n",
    "        apple_unique_apps.append(app_name) #this will append all unique entries to this list\n",
    "    else:\n",
    "        apple_duplicate_apps.append(app_name) #all remaining entries i.e. those that appear more than once, appeneded here"
   ]
  },
  {
   "cell_type": "code",
   "execution_count": 12,
   "id": "055d5ad6",
   "metadata": {
    "execution": {
     "iopub.execute_input": "2022-02-20T17:43:01.293867Z",
     "iopub.status.busy": "2022-02-20T17:43:01.292834Z",
     "iopub.status.idle": "2022-02-20T17:43:01.298896Z",
     "shell.execute_reply": "2022-02-20T17:43:01.299810Z",
     "shell.execute_reply.started": "2022-02-20T17:20:01.956354Z"
    },
    "papermill": {
     "duration": 0.087865,
     "end_time": "2022-02-20T17:43:01.300123",
     "exception": false,
     "start_time": "2022-02-20T17:43:01.212258",
     "status": "completed"
    },
    "tags": []
   },
   "outputs": [
    {
     "name": "stdout",
     "output_type": "stream",
     "text": [
      "7196\n",
      "2\n"
     ]
    }
   ],
   "source": [
    "print(len(apple_unique_apps))\n",
    "print(len(apple_duplicate_apps))"
   ]
  },
  {
   "cell_type": "markdown",
   "id": "d0f602f8",
   "metadata": {
    "papermill": {
     "duration": 0.078272,
     "end_time": "2022-02-20T17:43:01.456028",
     "exception": false,
     "start_time": "2022-02-20T17:43:01.377756",
     "status": "completed"
    },
    "tags": []
   },
   "source": [
    "There must be two entries with duplicates in them, according to the above output"
   ]
  },
  {
   "cell_type": "code",
   "execution_count": 13,
   "id": "74915139",
   "metadata": {
    "execution": {
     "iopub.execute_input": "2022-02-20T17:43:01.615628Z",
     "iopub.status.busy": "2022-02-20T17:43:01.614605Z",
     "iopub.status.idle": "2022-02-20T17:43:01.619600Z",
     "shell.execute_reply": "2022-02-20T17:43:01.620421Z",
     "shell.execute_reply.started": "2022-02-20T17:20:01.962973Z"
    },
    "papermill": {
     "duration": 0.087399,
     "end_time": "2022-02-20T17:43:01.620650",
     "exception": false,
     "start_time": "2022-02-20T17:43:01.533251",
     "status": "completed"
    },
    "tags": []
   },
   "outputs": [
    {
     "name": "stdout",
     "output_type": "stream",
     "text": [
      "['VR Roller Coaster', 'Mannequin Challenge']\n"
     ]
    }
   ],
   "source": [
    "print(apple_duplicate_apps) #to identify which are duplicated"
   ]
  },
  {
   "cell_type": "code",
   "execution_count": 14,
   "id": "87e20742",
   "metadata": {
    "execution": {
     "iopub.execute_input": "2022-02-20T17:43:01.784022Z",
     "iopub.status.busy": "2022-02-20T17:43:01.783297Z",
     "iopub.status.idle": "2022-02-20T17:43:01.790315Z",
     "shell.execute_reply": "2022-02-20T17:43:01.790810Z",
     "shell.execute_reply.started": "2022-02-20T17:20:01.974927Z"
    },
    "papermill": {
     "duration": 0.092412,
     "end_time": "2022-02-20T17:43:01.791020",
     "exception": false,
     "start_time": "2022-02-20T17:43:01.698608",
     "status": "completed"
    },
    "tags": []
   },
   "outputs": [
    {
     "name": "stdout",
     "output_type": "stream",
     "text": [
      "Mannequin Challenge is located at index number:\n",
      "7093\n",
      "Mannequin Challenge is located at index number:\n",
      "7129\n"
     ]
    }
   ],
   "source": [
    "for row in Apple_data:\n",
    "    if 'Mannequin Challenge' in row:\n",
    "        print('Mannequin Challenge is located at index number:')\n",
    "        print(Apple_data.index(row))"
   ]
  },
  {
   "cell_type": "code",
   "execution_count": 15,
   "id": "fcf33b61",
   "metadata": {
    "execution": {
     "iopub.execute_input": "2022-02-20T17:43:01.957437Z",
     "iopub.status.busy": "2022-02-20T17:43:01.952070Z",
     "iopub.status.idle": "2022-02-20T17:43:01.960993Z",
     "shell.execute_reply": "2022-02-20T17:43:01.962019Z",
     "shell.execute_reply.started": "2022-02-20T17:20:01.991721Z"
    },
    "papermill": {
     "duration": 0.092204,
     "end_time": "2022-02-20T17:43:01.962338",
     "exception": false,
     "start_time": "2022-02-20T17:43:01.870134",
     "status": "completed"
    },
    "tags": []
   },
   "outputs": [
    {
     "name": "stdout",
     "output_type": "stream",
     "text": [
      "VR Roller Coaster is located at index number:\n",
      "3320\n",
      "VR Roller Coaster is located at index number:\n",
      "5604\n"
     ]
    }
   ],
   "source": [
    "for row in Apple_data:\n",
    "    if 'VR Roller Coaster' in row:\n",
    "        print('VR Roller Coaster is located at index number:')\n",
    "        print(Apple_data.index(row))"
   ]
  },
  {
   "cell_type": "code",
   "execution_count": 16,
   "id": "f048e9ef",
   "metadata": {
    "execution": {
     "iopub.execute_input": "2022-02-20T17:43:02.125837Z",
     "iopub.status.busy": "2022-02-20T17:43:02.125222Z",
     "iopub.status.idle": "2022-02-20T17:43:02.130289Z",
     "shell.execute_reply": "2022-02-20T17:43:02.130765Z",
     "shell.execute_reply.started": "2022-02-20T17:20:02.00409Z"
    },
    "papermill": {
     "duration": 0.087717,
     "end_time": "2022-02-20T17:43:02.130958",
     "exception": false,
     "start_time": "2022-02-20T17:43:02.043241",
     "status": "completed"
    },
    "tags": []
   },
   "outputs": [
    {
     "name": "stdout",
     "output_type": "stream",
     "text": [
      "['10751', '1173990889', 'Mannequin Challenge', '109705216', 'USD', '0', '668', '87', '3', '3', '1.4', '9+', 'Games', '37', '4', '1', '1']\n",
      "['10885', '1178454060', 'Mannequin Challenge', '59572224', 'USD', '0', '105', '58', '4', '4.5', '1.0.1', '4+', 'Games', '38', '5', '1', '1']\n"
     ]
    }
   ],
   "source": [
    "print(Apple_data[7093])\n",
    "print(Apple_data[7129])"
   ]
  },
  {
   "cell_type": "code",
   "execution_count": 17,
   "id": "e7050217",
   "metadata": {
    "execution": {
     "iopub.execute_input": "2022-02-20T17:43:02.291527Z",
     "iopub.status.busy": "2022-02-20T17:43:02.290810Z",
     "iopub.status.idle": "2022-02-20T17:43:02.296099Z",
     "shell.execute_reply": "2022-02-20T17:43:02.296559Z",
     "shell.execute_reply.started": "2022-02-20T17:20:02.013079Z"
    },
    "papermill": {
     "duration": 0.087408,
     "end_time": "2022-02-20T17:43:02.296730",
     "exception": false,
     "start_time": "2022-02-20T17:43:02.209322",
     "status": "completed"
    },
    "tags": []
   },
   "outputs": [
    {
     "name": "stdout",
     "output_type": "stream",
     "text": [
      "['4000', '952877179', 'VR Roller Coaster', '169523200', 'USD', '0', '107', '102', '3.5', '3.5', '2.0.0', '4+', 'Games', '37', '5', '1', '1']\n",
      "['7579', '1089824278', 'VR Roller Coaster', '240964608', 'USD', '0', '67', '44', '3.5', '4', '0.81', '4+', 'Games', '38', '0', '1', '1']\n"
     ]
    }
   ],
   "source": [
    "print(Apple_data[3320])\n",
    "print(Apple_data[5604])"
   ]
  },
  {
   "cell_type": "markdown",
   "id": "b4a38f61",
   "metadata": {
    "papermill": {
     "duration": 0.079327,
     "end_time": "2022-02-20T17:43:02.454645",
     "exception": false,
     "start_time": "2022-02-20T17:43:02.375318",
     "status": "completed"
    },
    "tags": []
   },
   "source": [
    "in the above output, there are a lot of differences between the columns. The difference in 'Size bytes' is quite high, so presumably this is because the two entries represent two different versions, one updated and one old. This is also confirmed at index 10, representing version number.\n",
    "\n",
    "I'll take the column representing total rating numbers (index 6) for my approach to separate them later on. There are only two entries for Apple_data, manually removing them based on their index number is also possible (which i'll do for Apple_data). However, as seen below, manually removing 1181 entries from the Gplay_data would be laborious. \n",
    "\n",
    "I'll apply the same logic to the Gplay data and will separate duplicate apps based on total reviews. The idea being that the more recent, updated app, will contain a high number of reviews as it would have been on the storefront longer (reviews are not reset upon updates, I believe)."
   ]
  },
  {
   "cell_type": "code",
   "execution_count": 18,
   "id": "acc1f610",
   "metadata": {
    "execution": {
     "iopub.execute_input": "2022-02-20T17:43:02.619276Z",
     "iopub.status.busy": "2022-02-20T17:43:02.618614Z",
     "iopub.status.idle": "2022-02-20T17:43:02.620923Z",
     "shell.execute_reply": "2022-02-20T17:43:02.621511Z",
     "shell.execute_reply.started": "2022-02-20T17:20:02.022525Z"
    },
    "papermill": {
     "duration": 0.087096,
     "end_time": "2022-02-20T17:43:02.621675",
     "exception": false,
     "start_time": "2022-02-20T17:43:02.534579",
     "status": "completed"
    },
    "tags": []
   },
   "outputs": [
    {
     "name": "stdout",
     "output_type": "stream",
     "text": [
      "7198\n",
      "7196\n"
     ]
    }
   ],
   "source": [
    "print(len(Apple_data))\n",
    "del Apple_data[7129]\n",
    "del Apple_data[5604]\n",
    "print(len(Apple_data))"
   ]
  },
  {
   "cell_type": "code",
   "execution_count": 19,
   "id": "059f4b3e",
   "metadata": {
    "execution": {
     "iopub.execute_input": "2022-02-20T17:43:02.788307Z",
     "iopub.status.busy": "2022-02-20T17:43:02.787613Z",
     "iopub.status.idle": "2022-02-20T17:43:03.471682Z",
     "shell.execute_reply": "2022-02-20T17:43:03.472174Z",
     "shell.execute_reply.started": "2022-02-20T17:20:02.034524Z"
    },
    "papermill": {
     "duration": 0.771677,
     "end_time": "2022-02-20T17:43:03.472373",
     "exception": false,
     "start_time": "2022-02-20T17:43:02.700696",
     "status": "completed"
    },
    "tags": []
   },
   "outputs": [
    {
     "name": "stdout",
     "output_type": "stream",
     "text": [
      "Number of duplicate apps: 1181\n",
      "\n",
      "\n",
      "Examples of duplicate apps: ['Quick PDF Scanner + OCR FREE', 'Box', 'Google My Business', 'ZOOM Cloud Meetings', 'join.me - Simple Meetings', 'Box', 'Zenefits', 'Google Ads', 'Google My Business', 'Slack', 'FreshBooks Classic', 'Insightly CRM', 'QuickBooks Accounting: Invoicing & Expenses', 'HipChat - Chat Built for Teams', 'Xero Accounting Software']\n"
     ]
    }
   ],
   "source": [
    "duplicate_apps = []\n",
    "unique_apps = []\n",
    "\n",
    "for app in Gplay_data:  \n",
    "    app_name = app[0]\n",
    "    if app_name in unique_apps: #instead of using 'not in' we use in to append to duplicate list first, just an alternative\n",
    "        duplicate_apps.append(app_name)\n",
    "    else:\n",
    "        unique_apps.append(app_name)\n",
    "    \n",
    "print('Number of duplicate apps:', len(duplicate_apps))\n",
    "print('\\n')\n",
    "print('Examples of duplicate apps:', duplicate_apps[:15])"
   ]
  },
  {
   "cell_type": "code",
   "execution_count": 20,
   "id": "17700295",
   "metadata": {
    "execution": {
     "iopub.execute_input": "2022-02-20T17:43:03.645332Z",
     "iopub.status.busy": "2022-02-20T17:43:03.644439Z",
     "iopub.status.idle": "2022-02-20T17:43:03.649862Z",
     "shell.execute_reply": "2022-02-20T17:43:03.650390Z",
     "shell.execute_reply.started": "2022-02-20T17:20:02.803236Z"
    },
    "papermill": {
     "duration": 0.096137,
     "end_time": "2022-02-20T17:43:03.650563",
     "exception": false,
     "start_time": "2022-02-20T17:43:03.554426",
     "status": "completed"
    },
    "tags": []
   },
   "outputs": [
    {
     "name": "stdout",
     "output_type": "stream",
     "text": [
      "Quick PDF Scanner + OCR FREE is located at index number:\n",
      "223\n",
      "Quick PDF Scanner + OCR FREE is located at index number:\n",
      "223\n",
      "Quick PDF Scanner + OCR FREE is located at index number:\n",
      "286\n"
     ]
    }
   ],
   "source": [
    "for row in Gplay_data:\n",
    "    if 'Quick PDF Scanner + OCR FREE' in row:\n",
    "        print('Quick PDF Scanner + OCR FREE is located at index number:') #unsure why two 223s are returned????\n",
    "        print(Gplay_data.index(row))\n"
   ]
  },
  {
   "cell_type": "code",
   "execution_count": 21,
   "id": "9ba6d35a",
   "metadata": {
    "execution": {
     "iopub.execute_input": "2022-02-20T17:43:03.817981Z",
     "iopub.status.busy": "2022-02-20T17:43:03.817330Z",
     "iopub.status.idle": "2022-02-20T17:43:03.820787Z",
     "shell.execute_reply": "2022-02-20T17:43:03.821882Z",
     "shell.execute_reply.started": "2022-02-20T17:20:02.813527Z"
    },
    "papermill": {
     "duration": 0.090931,
     "end_time": "2022-02-20T17:43:03.822210",
     "exception": false,
     "start_time": "2022-02-20T17:43:03.731279",
     "status": "completed"
    },
    "tags": []
   },
   "outputs": [
    {
     "name": "stdout",
     "output_type": "stream",
     "text": [
      "['Quick PDF Scanner + OCR FREE', 'BUSINESS', '4.2', '80805', 'Varies with device', '5,000,000+', 'Free', '0', 'Everyone', 'Business', 'February 26, 2018', 'Varies with device', '4.0.3 and up']\n",
      "['Quick PDF Scanner + OCR FREE', 'BUSINESS', '4.2', '80804', 'Varies with device', '5,000,000+', 'Free', '0', 'Everyone', 'Business', 'February 26, 2018', 'Varies with device', '4.0.3 and up']\n"
     ]
    }
   ],
   "source": [
    "print(Gplay_data[223])\n",
    "print(Gplay_data[286])"
   ]
  },
  {
   "cell_type": "markdown",
   "id": "de59044a",
   "metadata": {
    "papermill": {
     "duration": 0.080667,
     "end_time": "2022-02-20T17:43:03.985006",
     "exception": false,
     "start_time": "2022-02-20T17:43:03.904339",
     "status": "completed"
    },
    "tags": []
   },
   "source": [
    "## Removing duplicate apps"
   ]
  },
  {
   "cell_type": "markdown",
   "id": "6c076d7b",
   "metadata": {
    "papermill": {
     "duration": 0.080019,
     "end_time": "2022-02-20T17:43:04.146812",
     "exception": false,
     "start_time": "2022-02-20T17:43:04.066793",
     "status": "completed"
    },
    "tags": []
   },
   "source": [
    "To remove the duplicates in Google play store dataset, my aim is to create a dictionary where each key will equal a unique app name, and the dictionary value will correspond to (focusing on Gplay_data first) highest review number.  "
   ]
  },
  {
   "cell_type": "code",
   "execution_count": 22,
   "id": "e410b519",
   "metadata": {
    "execution": {
     "iopub.execute_input": "2022-02-20T17:43:04.315449Z",
     "iopub.status.busy": "2022-02-20T17:43:04.314751Z",
     "iopub.status.idle": "2022-02-20T17:43:04.326373Z",
     "shell.execute_reply": "2022-02-20T17:43:04.326889Z",
     "shell.execute_reply.started": "2022-02-20T17:20:02.824614Z"
    },
    "papermill": {
     "duration": 0.100247,
     "end_time": "2022-02-20T17:43:04.327091",
     "exception": false,
     "start_time": "2022-02-20T17:43:04.226844",
     "status": "completed"
    },
    "tags": []
   },
   "outputs": [],
   "source": [
    "reviews_max = {}\n",
    "for row in Gplay_data[1:]:\n",
    "    name = row[0]\n",
    "    n_reviews = float(row[3])\n",
    "    if name in reviews_max and reviews_max[name] < n_reviews: #reviews_max[name] referring to value within key, if it is less than n_reviews (containing all rating values)\n",
    "        reviews_max[name] = n_reviews #this adds values within n_reviews into the value of the dictionary\n",
    "        \n",
    "    elif name not in reviews_max:\n",
    "        reviews_max[name] = n_reviews\n",
    "    \n",
    "    "
   ]
  },
  {
   "cell_type": "code",
   "execution_count": 23,
   "id": "9eee226f",
   "metadata": {
    "execution": {
     "iopub.execute_input": "2022-02-20T17:43:04.493136Z",
     "iopub.status.busy": "2022-02-20T17:43:04.492482Z",
     "iopub.status.idle": "2022-02-20T17:43:04.501454Z",
     "shell.execute_reply": "2022-02-20T17:43:04.501972Z",
     "shell.execute_reply.started": "2022-02-20T17:20:02.845649Z"
    },
    "papermill": {
     "duration": 0.094605,
     "end_time": "2022-02-20T17:43:04.502152",
     "exception": false,
     "start_time": "2022-02-20T17:43:04.407547",
     "status": "completed"
    },
    "tags": []
   },
   "outputs": [
    {
     "name": "stdout",
     "output_type": "stream",
     "text": [
      "Photo Editor & Candy Camera & Grid & ScrapBook 159.0\n",
      "Coloring book moana 974.0\n",
      "U Launcher Lite – FREE Live Cool Themes, Hide Apps 87510.0\n",
      "Sketch - Draw & Paint 215644.0\n",
      "Pixel Draw - Number Art Coloring Book 967.0\n"
     ]
    }
   ],
   "source": [
    "count = 0                 #to confirm if the above worked, printing out the first five entries of reviews_max\n",
    "for key in reviews_max:\n",
    "    if count < 5: #if the value in the variable count < 5, only then will the key, and dict[key] will be printed\n",
    "        print(key, reviews_max[key])\n",
    "    count += 1 #necessary to increment the count variable each loop"
   ]
  },
  {
   "cell_type": "code",
   "execution_count": 24,
   "id": "a348d15e",
   "metadata": {
    "execution": {
     "iopub.execute_input": "2022-02-20T17:43:04.666517Z",
     "iopub.status.busy": "2022-02-20T17:43:04.665903Z",
     "iopub.status.idle": "2022-02-20T17:43:04.671550Z",
     "shell.execute_reply": "2022-02-20T17:43:04.671006Z",
     "shell.execute_reply.started": "2022-02-20T17:20:02.863951Z"
    },
    "papermill": {
     "duration": 0.088625,
     "end_time": "2022-02-20T17:43:04.671697",
     "exception": false,
     "start_time": "2022-02-20T17:43:04.583072",
     "status": "completed"
    },
    "tags": []
   },
   "outputs": [
    {
     "name": "stdout",
     "output_type": "stream",
     "text": [
      "9659\n"
     ]
    }
   ],
   "source": [
    "print (len(reviews_max))"
   ]
  },
  {
   "cell_type": "code",
   "execution_count": 25,
   "id": "ec232d50",
   "metadata": {
    "execution": {
     "iopub.execute_input": "2022-02-20T17:43:04.844956Z",
     "iopub.status.busy": "2022-02-20T17:43:04.844250Z",
     "iopub.status.idle": "2022-02-20T17:43:05.514545Z",
     "shell.execute_reply": "2022-02-20T17:43:05.513932Z",
     "shell.execute_reply.started": "2022-02-20T17:20:02.870126Z"
    },
    "papermill": {
     "duration": 0.760453,
     "end_time": "2022-02-20T17:43:05.514702",
     "exception": false,
     "start_time": "2022-02-20T17:43:04.754249",
     "status": "completed"
    },
    "tags": []
   },
   "outputs": [],
   "source": [
    "android_clean = []\n",
    "already_added = []\n",
    "\n",
    "for row in Gplay_data[1:]:\n",
    "    name = row[0]\n",
    "    n_reviews = float(row[3])\n",
    "    \n",
    "    if reviews_max[name] == n_reviews and name not in already_added: #if values in reviews_max's keys equal number of reviews, and isn't already in already_added\n",
    "        android_clean.append(row)\n",
    "        already_added.append(name)"
   ]
  },
  {
   "cell_type": "markdown",
   "id": "367e0df2",
   "metadata": {
    "papermill": {
     "duration": 0.081075,
     "end_time": "2022-02-20T17:43:05.677340",
     "exception": false,
     "start_time": "2022-02-20T17:43:05.596265",
     "status": "completed"
    },
    "tags": []
   },
   "source": [
    "in the above code:\n",
    "- as before, isolate name of apps and numbers of reviews, assigned to variables\n",
    "- name (index 0 of dataset so current row) is appended to android_clean, and name variable (containing name of apps) only if:\n",
    " - number of reviews (n_reviews) matches number of reviews of that app as found within reviews_max\n",
    " - name of app not already in already_added (required because, for some duplicates, highest number of reviews is the same for more than one entry)"
   ]
  },
  {
   "cell_type": "code",
   "execution_count": 26,
   "id": "35b94880",
   "metadata": {
    "execution": {
     "iopub.execute_input": "2022-02-20T17:43:05.846502Z",
     "iopub.status.busy": "2022-02-20T17:43:05.845758Z",
     "iopub.status.idle": "2022-02-20T17:43:05.848560Z",
     "shell.execute_reply": "2022-02-20T17:43:05.849201Z",
     "shell.execute_reply.started": "2022-02-20T17:20:03.651931Z"
    },
    "papermill": {
     "duration": 0.089983,
     "end_time": "2022-02-20T17:43:05.849380",
     "exception": false,
     "start_time": "2022-02-20T17:43:05.759397",
     "status": "completed"
    },
    "tags": []
   },
   "outputs": [
    {
     "name": "stdout",
     "output_type": "stream",
     "text": [
      "9659\n"
     ]
    }
   ],
   "source": [
    "print(len(android_clean))"
   ]
  },
  {
   "cell_type": "code",
   "execution_count": 27,
   "id": "ba2c0af5",
   "metadata": {
    "execution": {
     "iopub.execute_input": "2022-02-20T17:43:06.020723Z",
     "iopub.status.busy": "2022-02-20T17:43:06.020076Z",
     "iopub.status.idle": "2022-02-20T17:43:06.023242Z",
     "shell.execute_reply": "2022-02-20T17:43:06.023814Z",
     "shell.execute_reply.started": "2022-02-20T17:20:03.662113Z"
    },
    "papermill": {
     "duration": 0.090478,
     "end_time": "2022-02-20T17:43:06.024022",
     "exception": false,
     "start_time": "2022-02-20T17:43:05.933544",
     "status": "completed"
    },
    "tags": []
   },
   "outputs": [
    {
     "name": "stdout",
     "output_type": "stream",
     "text": [
      "9659\n"
     ]
    }
   ],
   "source": [
    "print(len(already_added))"
   ]
  },
  {
   "cell_type": "markdown",
   "id": "1b73d74b",
   "metadata": {
    "papermill": {
     "duration": 0.081559,
     "end_time": "2022-02-20T17:43:06.187804",
     "exception": false,
     "start_time": "2022-02-20T17:43:06.106245",
     "status": "completed"
    },
    "tags": []
   },
   "source": [
    "## Removing Non-English apps\n",
    "The scenario assumes our target audience being English speakers, however in the dataset there are many entries written in various different scripts - which suggests they were designed for a Non-english market. \n",
    "\n",
    "According to the ASCII(American Standard Code for Information Interchange) system, each English text corresponds to a number within the range of 0 to 127, which can be found with the ord() function:"
   ]
  },
  {
   "cell_type": "code",
   "execution_count": 28,
   "id": "59705c3b",
   "metadata": {
    "execution": {
     "iopub.execute_input": "2022-02-20T17:43:06.357187Z",
     "iopub.status.busy": "2022-02-20T17:43:06.356497Z",
     "iopub.status.idle": "2022-02-20T17:43:06.359496Z",
     "shell.execute_reply": "2022-02-20T17:43:06.358992Z",
     "shell.execute_reply.started": "2022-02-20T17:20:03.670081Z"
    },
    "papermill": {
     "duration": 0.089838,
     "end_time": "2022-02-20T17:43:06.359640",
     "exception": false,
     "start_time": "2022-02-20T17:43:06.269802",
     "status": "completed"
    },
    "tags": []
   },
   "outputs": [
    {
     "name": "stdout",
     "output_type": "stream",
     "text": [
      "97\n"
     ]
    }
   ],
   "source": [
    "print(ord('a')) #ord will get the correspond number of each character"
   ]
  },
  {
   "cell_type": "code",
   "execution_count": 29,
   "id": "88da5155",
   "metadata": {
    "execution": {
     "iopub.execute_input": "2022-02-20T17:43:06.530715Z",
     "iopub.status.busy": "2022-02-20T17:43:06.529610Z",
     "iopub.status.idle": "2022-02-20T17:43:06.535417Z",
     "shell.execute_reply": "2022-02-20T17:43:06.536070Z",
     "shell.execute_reply.started": "2022-02-20T17:20:03.681205Z"
    },
    "papermill": {
     "duration": 0.093679,
     "end_time": "2022-02-20T17:43:06.536244",
     "exception": false,
     "start_time": "2022-02-20T17:43:06.442565",
     "status": "completed"
    },
    "tags": []
   },
   "outputs": [
    {
     "name": "stdout",
     "output_type": "stream",
     "text": [
      "29233\n"
     ]
    }
   ],
   "source": [
    "print(ord('爱')) #for example, taking a Chinese character and looking at the number printer, we expect >127"
   ]
  },
  {
   "cell_type": "markdown",
   "id": "4b92e757",
   "metadata": {
    "papermill": {
     "duration": 0.083835,
     "end_time": "2022-02-20T17:43:06.704145",
     "exception": false,
     "start_time": "2022-02-20T17:43:06.620310",
     "status": "completed"
    },
    "tags": []
   },
   "source": [
    "Therefore, any apps with a character greater than 127, i'll remove from the list. "
   ]
  },
  {
   "cell_type": "code",
   "execution_count": 30,
   "id": "323a6162",
   "metadata": {
    "execution": {
     "iopub.execute_input": "2022-02-20T17:43:06.873897Z",
     "iopub.status.busy": "2022-02-20T17:43:06.872830Z",
     "iopub.status.idle": "2022-02-20T17:43:06.877649Z",
     "shell.execute_reply": "2022-02-20T17:43:06.878234Z",
     "shell.execute_reply.started": "2022-02-20T17:20:03.691156Z"
    },
    "papermill": {
     "duration": 0.091502,
     "end_time": "2022-02-20T17:43:06.878408",
     "exception": false,
     "start_time": "2022-02-20T17:43:06.786906",
     "status": "completed"
    },
    "tags": []
   },
   "outputs": [],
   "source": [
    "def isitenglish(x):\n",
    "    x = str(x)\n",
    "    for letter in x: #to interate through each element in the string i.e. each letter\n",
    "        if ord(letter) > 127:\n",
    "            return False #this will return False soon as it detects, so even if it contains English characters it will not return a True \n",
    "        "
   ]
  },
  {
   "cell_type": "code",
   "execution_count": 31,
   "id": "cb461e00",
   "metadata": {
    "execution": {
     "iopub.execute_input": "2022-02-20T17:43:07.052851Z",
     "iopub.status.busy": "2022-02-20T17:43:07.051897Z",
     "iopub.status.idle": "2022-02-20T17:43:07.055664Z",
     "shell.execute_reply": "2022-02-20T17:43:07.056294Z",
     "shell.execute_reply.started": "2022-02-20T17:20:03.700722Z"
    },
    "papermill": {
     "duration": 0.093433,
     "end_time": "2022-02-20T17:43:07.056526",
     "exception": false,
     "start_time": "2022-02-20T17:43:06.963093",
     "status": "completed"
    },
    "tags": []
   },
   "outputs": [],
   "source": [
    "isitenglish('Instagram')"
   ]
  },
  {
   "cell_type": "code",
   "execution_count": 32,
   "id": "156a051b",
   "metadata": {
    "execution": {
     "iopub.execute_input": "2022-02-20T17:43:07.230371Z",
     "iopub.status.busy": "2022-02-20T17:43:07.229383Z",
     "iopub.status.idle": "2022-02-20T17:43:07.233386Z",
     "shell.execute_reply": "2022-02-20T17:43:07.233908Z",
     "shell.execute_reply.started": "2022-02-20T17:20:03.710602Z"
    },
    "papermill": {
     "duration": 0.09409,
     "end_time": "2022-02-20T17:43:07.234079",
     "exception": false,
     "start_time": "2022-02-20T17:43:07.139989",
     "status": "completed"
    },
    "tags": []
   },
   "outputs": [
    {
     "data": {
      "text/plain": [
       "False"
      ]
     },
     "execution_count": 32,
     "metadata": {},
     "output_type": "execute_result"
    }
   ],
   "source": [
    "isitenglish('爱奇艺PPS -《欢乐颂2》test电视剧热播Jack') #it has iterated through th entire list and return false"
   ]
  },
  {
   "cell_type": "code",
   "execution_count": 33,
   "id": "b64bd89e",
   "metadata": {
    "execution": {
     "iopub.execute_input": "2022-02-20T17:43:07.406371Z",
     "iopub.status.busy": "2022-02-20T17:43:07.405429Z",
     "iopub.status.idle": "2022-02-20T17:43:07.409706Z",
     "shell.execute_reply": "2022-02-20T17:43:07.409213Z",
     "shell.execute_reply.started": "2022-02-20T17:20:03.722387Z"
    },
    "papermill": {
     "duration": 0.091786,
     "end_time": "2022-02-20T17:43:07.409849",
     "exception": false,
     "start_time": "2022-02-20T17:43:07.318063",
     "status": "completed"
    },
    "tags": []
   },
   "outputs": [
    {
     "data": {
      "text/plain": [
       "False"
      ]
     },
     "execution_count": 33,
     "metadata": {},
     "output_type": "execute_result"
    }
   ],
   "source": [
    "isitenglish('Instachat 😜')"
   ]
  },
  {
   "cell_type": "markdown",
   "id": "f7dd6fcb",
   "metadata": {
    "papermill": {
     "duration": 0.083797,
     "end_time": "2022-02-20T17:43:07.578080",
     "exception": false,
     "start_time": "2022-02-20T17:43:07.494283",
     "status": "completed"
    },
    "tags": []
   },
   "source": [
    "Here's a new issue - emoji and certain other characters have a code that corresponds outside of the ASCII 0-127 range. This means i'll end up losing many English apps by running this function through the dataset. \n",
    "\n",
    "Workaround: remove apps only if it contains >3 characters outside of the ASCII range. \n",
    "- this still isn't perfect, but it will minimise data loss (unsure if there's any other methods to use here?)"
   ]
  },
  {
   "cell_type": "code",
   "execution_count": 34,
   "id": "dc255684",
   "metadata": {
    "execution": {
     "iopub.execute_input": "2022-02-20T17:43:07.752054Z",
     "iopub.status.busy": "2022-02-20T17:43:07.751334Z",
     "iopub.status.idle": "2022-02-20T17:43:07.753215Z",
     "shell.execute_reply": "2022-02-20T17:43:07.753741Z",
     "shell.execute_reply.started": "2022-02-20T17:20:03.736056Z"
    },
    "papermill": {
     "duration": 0.092323,
     "end_time": "2022-02-20T17:43:07.753941",
     "exception": false,
     "start_time": "2022-02-20T17:43:07.661618",
     "status": "completed"
    },
    "tags": []
   },
   "outputs": [],
   "source": [
    "def isitenglish(word):\n",
    "    count = 0 #initalise a variable with the value of 0\n",
    "    \n",
    "    for letter in word: \n",
    "        if ord(letter) > 127:\n",
    "            count += 1 #count will increment by 1 for each letter that is detected as being outside of the range of ASCII\n",
    "        \n",
    "    if count > 3: #once count reaches 3+, it will return False\n",
    "        return False\n",
    "    else:\n",
    "        return True #otherwise, return True    (edited to fix indentation issue)"
   ]
  },
  {
   "cell_type": "code",
   "execution_count": 35,
   "id": "b54ce56b",
   "metadata": {
    "execution": {
     "iopub.execute_input": "2022-02-20T17:43:07.932227Z",
     "iopub.status.busy": "2022-02-20T17:43:07.931548Z",
     "iopub.status.idle": "2022-02-20T17:43:07.936223Z",
     "shell.execute_reply": "2022-02-20T17:43:07.936837Z",
     "shell.execute_reply.started": "2022-02-20T17:20:03.744184Z"
    },
    "papermill": {
     "duration": 0.094929,
     "end_time": "2022-02-20T17:43:07.937028",
     "exception": false,
     "start_time": "2022-02-20T17:43:07.842099",
     "status": "completed"
    },
    "tags": []
   },
   "outputs": [
    {
     "data": {
      "text/plain": [
       "True"
      ]
     },
     "execution_count": 35,
     "metadata": {},
     "output_type": "execute_result"
    }
   ],
   "source": [
    "isitenglish('Instachat 😜')"
   ]
  },
  {
   "cell_type": "code",
   "execution_count": 36,
   "id": "3989d818",
   "metadata": {
    "execution": {
     "iopub.execute_input": "2022-02-20T17:43:08.114445Z",
     "iopub.status.busy": "2022-02-20T17:43:08.113672Z",
     "iopub.status.idle": "2022-02-20T17:43:08.118395Z",
     "shell.execute_reply": "2022-02-20T17:43:08.119132Z",
     "shell.execute_reply.started": "2022-02-20T17:20:03.759955Z"
    },
    "papermill": {
     "duration": 0.095414,
     "end_time": "2022-02-20T17:43:08.119306",
     "exception": false,
     "start_time": "2022-02-20T17:43:08.023892",
     "status": "completed"
    },
    "tags": []
   },
   "outputs": [
    {
     "data": {
      "text/plain": [
       "True"
      ]
     },
     "execution_count": 36,
     "metadata": {},
     "output_type": "execute_result"
    }
   ],
   "source": [
    "isitenglish('Instachat 😜剧 剧 ')"
   ]
  },
  {
   "cell_type": "code",
   "execution_count": 37,
   "id": "10f6a7de",
   "metadata": {
    "execution": {
     "iopub.execute_input": "2022-02-20T17:43:08.293476Z",
     "iopub.status.busy": "2022-02-20T17:43:08.292789Z",
     "iopub.status.idle": "2022-02-20T17:43:08.298480Z",
     "shell.execute_reply": "2022-02-20T17:43:08.297996Z",
     "shell.execute_reply.started": "2022-02-20T17:20:03.769535Z"
    },
    "papermill": {
     "duration": 0.092814,
     "end_time": "2022-02-20T17:43:08.298620",
     "exception": false,
     "start_time": "2022-02-20T17:43:08.205806",
     "status": "completed"
    },
    "tags": []
   },
   "outputs": [
    {
     "data": {
      "text/plain": [
       "False"
      ]
     },
     "execution_count": 37,
     "metadata": {},
     "output_type": "execute_result"
    }
   ],
   "source": [
    "isitenglish('Instachat 😜😜😜😜')"
   ]
  },
  {
   "cell_type": "code",
   "execution_count": 38,
   "id": "0c595cc8",
   "metadata": {
    "execution": {
     "iopub.execute_input": "2022-02-20T17:43:08.479569Z",
     "iopub.status.busy": "2022-02-20T17:43:08.478854Z",
     "iopub.status.idle": "2022-02-20T17:43:08.482869Z",
     "shell.execute_reply": "2022-02-20T17:43:08.482251Z",
     "shell.execute_reply.started": "2022-02-20T17:20:03.780944Z"
    },
    "papermill": {
     "duration": 0.098112,
     "end_time": "2022-02-20T17:43:08.483031",
     "exception": false,
     "start_time": "2022-02-20T17:43:08.384919",
     "status": "completed"
    },
    "tags": []
   },
   "outputs": [
    {
     "data": {
      "text/plain": [
       "False"
      ]
     },
     "execution_count": 38,
     "metadata": {},
     "output_type": "execute_result"
    }
   ],
   "source": [
    "isitenglish('爱奇艺PPS -《欢乐颂2》电视剧热播')"
   ]
  },
  {
   "cell_type": "markdown",
   "id": "ebdef89f",
   "metadata": {
    "papermill": {
     "duration": 0.08942,
     "end_time": "2022-02-20T17:43:08.664005",
     "exception": false,
     "start_time": "2022-02-20T17:43:08.574585",
     "status": "completed"
    },
    "tags": []
   },
   "source": [
    "**IT'S WORKING :)**\n",
    "\n",
    "Now i'll use this new function to filter the non-English apps from both of the datasets. I'll do this by looping through each and append the row to a separate list."
   ]
  },
  {
   "cell_type": "code",
   "execution_count": 39,
   "id": "e6ef3376",
   "metadata": {
    "execution": {
     "iopub.execute_input": "2022-02-20T17:43:08.852474Z",
     "iopub.status.busy": "2022-02-20T17:43:08.851724Z",
     "iopub.status.idle": "2022-02-20T17:43:08.872490Z",
     "shell.execute_reply": "2022-02-20T17:43:08.871379Z",
     "shell.execute_reply.started": "2022-02-20T17:20:03.791009Z"
    },
    "papermill": {
     "duration": 0.119639,
     "end_time": "2022-02-20T17:43:08.872747",
     "exception": false,
     "start_time": "2022-02-20T17:43:08.753108",
     "status": "completed"
    },
    "tags": []
   },
   "outputs": [],
   "source": [
    "english_apple = []\n",
    "\n",
    "for row in Apple_data[1:]:\n",
    "    app_name = row[2] \n",
    "    if isitenglish(app_name):\n",
    "        english_apple.append(row)"
   ]
  },
  {
   "cell_type": "code",
   "execution_count": 40,
   "id": "93bb20cc",
   "metadata": {
    "execution": {
     "iopub.execute_input": "2022-02-20T17:43:09.078941Z",
     "iopub.status.busy": "2022-02-20T17:43:09.078238Z",
     "iopub.status.idle": "2022-02-20T17:43:09.085593Z",
     "shell.execute_reply": "2022-02-20T17:43:09.084766Z",
     "shell.execute_reply.started": "2022-02-20T17:20:03.824581Z"
    },
    "papermill": {
     "duration": 0.100056,
     "end_time": "2022-02-20T17:43:09.085791",
     "exception": false,
     "start_time": "2022-02-20T17:43:08.985735",
     "status": "completed"
    },
    "tags": []
   },
   "outputs": [
    {
     "name": "stdout",
     "output_type": "stream",
     "text": [
      "['1', '281656475', 'PAC-MAN Premium', '100788224', 'USD', '3.99', '21292', '26', '4', '4.5', '6.3.5', '4+', 'Games', '38', '5', '10', '1']\n",
      "\n",
      "\n",
      "['2', '281796108', 'Evernote - stay organized', '158578688', 'USD', '0', '161065', '26', '4', '3.5', '8.2.2', '4+', 'Productivity', '37', '5', '23', '1']\n",
      "\n",
      "\n",
      "['3', '281940292', 'WeatherBug - Local Weather, Radar, Maps, Alerts', '100524032', 'USD', '0', '188583', '2822', '3.5', '4.5', '5.0.0', '4+', 'Weather', '37', '5', '3', '1']\n",
      "\n",
      "\n",
      "Number of rows: 6181\n",
      "Number of columns: 17\n"
     ]
    }
   ],
   "source": [
    "explore_data(english_apple, 0, 3, True)"
   ]
  },
  {
   "cell_type": "code",
   "execution_count": 41,
   "id": "5a020104",
   "metadata": {
    "execution": {
     "iopub.execute_input": "2022-02-20T17:43:09.264327Z",
     "iopub.status.busy": "2022-02-20T17:43:09.263439Z",
     "iopub.status.idle": "2022-02-20T17:43:09.290325Z",
     "shell.execute_reply": "2022-02-20T17:43:09.290863Z",
     "shell.execute_reply.started": "2022-02-20T17:20:03.838115Z"
    },
    "papermill": {
     "duration": 0.117705,
     "end_time": "2022-02-20T17:43:09.291053",
     "exception": false,
     "start_time": "2022-02-20T17:43:09.173348",
     "status": "completed"
    },
    "tags": []
   },
   "outputs": [],
   "source": [
    "english_google = []\n",
    "\n",
    "for row in android_clean:\n",
    "    app_name = row[0] #\n",
    "    if isitenglish(app_name):\n",
    "        english_google.append(row)"
   ]
  },
  {
   "cell_type": "code",
   "execution_count": 42,
   "id": "d6b4b80a",
   "metadata": {
    "execution": {
     "iopub.execute_input": "2022-02-20T17:43:09.472041Z",
     "iopub.status.busy": "2022-02-20T17:43:09.471308Z",
     "iopub.status.idle": "2022-02-20T17:43:09.476019Z",
     "shell.execute_reply": "2022-02-20T17:43:09.476549Z",
     "shell.execute_reply.started": "2022-02-20T17:20:03.870842Z"
    },
    "papermill": {
     "duration": 0.09806,
     "end_time": "2022-02-20T17:43:09.476724",
     "exception": false,
     "start_time": "2022-02-20T17:43:09.378664",
     "status": "completed"
    },
    "tags": []
   },
   "outputs": [
    {
     "name": "stdout",
     "output_type": "stream",
     "text": [
      "['Photo Editor & Candy Camera & Grid & ScrapBook', 'ART_AND_DESIGN', '4.1', '159', '19M', '10,000+', 'Free', '0', 'Everyone', 'Art & Design', 'January 7, 2018', '1.0.0', '4.0.3 and up']\n",
      "\n",
      "\n",
      "['U Launcher Lite – FREE Live Cool Themes, Hide Apps', 'ART_AND_DESIGN', '4.7', '87510', '8.7M', '5,000,000+', 'Free', '0', 'Everyone', 'Art & Design', 'August 1, 2018', '1.2.4', '4.0.3 and up']\n",
      "\n",
      "\n",
      "['Sketch - Draw & Paint', 'ART_AND_DESIGN', '4.5', '215644', '25M', '50,000,000+', 'Free', '0', 'Teen', 'Art & Design', 'June 8, 2018', 'Varies with device', '4.2 and up']\n",
      "\n",
      "\n",
      "Number of rows: 9614\n",
      "Number of columns: 13\n"
     ]
    }
   ],
   "source": [
    "explore_data(english_google, 0, 3, True)"
   ]
  },
  {
   "cell_type": "markdown",
   "id": "4103e34d",
   "metadata": {
    "papermill": {
     "duration": 0.085252,
     "end_time": "2022-02-20T17:43:09.649636",
     "exception": false,
     "start_time": "2022-02-20T17:43:09.564384",
     "status": "completed"
    },
    "tags": []
   },
   "source": [
    "**As above, we're left with 9614 google apps (from 9659) and 6181 apple apps from 7196**"
   ]
  },
  {
   "cell_type": "markdown",
   "id": "7898a080",
   "metadata": {
    "papermill": {
     "duration": 0.085199,
     "end_time": "2022-02-20T17:43:09.821328",
     "exception": false,
     "start_time": "2022-02-20T17:43:09.736129",
     "status": "completed"
    },
    "tags": []
   },
   "source": [
    "## Isolating free apps\n",
    "#### Recap\n",
    "- inaccurate data has been removed (those with missing categories, etc.)\n",
    "- removed duplicate data\n",
    "- removed non-English apps\n",
    "\n",
    "#### Isolation method\n",
    "Now i'll isolate free apps. I'll do this by looping through each dataset, isolating free apps into a separate list. "
   ]
  },
  {
   "cell_type": "markdown",
   "id": "13fcc25e",
   "metadata": {
    "execution": {
     "iopub.execute_input": "2022-02-20T16:56:40.70183Z",
     "iopub.status.busy": "2022-02-20T16:56:40.701049Z",
     "iopub.status.idle": "2022-02-20T16:56:40.707861Z",
     "shell.execute_reply": "2022-02-20T16:56:40.70669Z",
     "shell.execute_reply.started": "2022-02-20T16:56:40.701785Z"
    },
    "papermill": {
     "duration": 0.089839,
     "end_time": "2022-02-20T17:43:09.998613",
     "exception": false,
     "start_time": "2022-02-20T17:43:09.908774",
     "status": "completed"
    },
    "tags": []
   },
   "source": [
    "I had originally printed the below in Jupyter, which created a scrollable table of the values for me. Here, it prints all outputs on the screen. I've changed to markdown to prevent screen spam \n",
    "\n",
    "`for row in english_google:     \n",
    "    print(row[7])\n",
    "    print(type(row[7]))`"
   ]
  },
  {
   "cell_type": "markdown",
   "id": "071e3e56",
   "metadata": {
    "papermill": {
     "duration": 0.085679,
     "end_time": "2022-02-20T17:43:10.172766",
     "exception": false,
     "start_time": "2022-02-20T17:43:10.087087",
     "status": "completed"
    },
    "tags": []
   },
   "source": [
    "I can see from above that the values in row 7, the price row, are coming up as string values. I therefore need to make sure that in my conditional statements, I am not looking for integer or floats."
   ]
  },
  {
   "cell_type": "code",
   "execution_count": 43,
   "id": "6bf5a3b1",
   "metadata": {
    "execution": {
     "iopub.execute_input": "2022-02-20T17:43:10.348025Z",
     "iopub.status.busy": "2022-02-20T17:43:10.347319Z",
     "iopub.status.idle": "2022-02-20T17:43:10.354498Z",
     "shell.execute_reply": "2022-02-20T17:43:10.355050Z",
     "shell.execute_reply.started": "2022-02-20T17:20:03.879814Z"
    },
    "papermill": {
     "duration": 0.096657,
     "end_time": "2022-02-20T17:43:10.355233",
     "exception": false,
     "start_time": "2022-02-20T17:43:10.258576",
     "status": "completed"
    },
    "tags": []
   },
   "outputs": [],
   "source": [
    "free_english_google = []\n",
    "\n",
    "for row in english_google:\n",
    "    price = row[7]\n",
    "    if price == '0':\n",
    "        free_english_google.append(row)\n",
    "    "
   ]
  },
  {
   "cell_type": "code",
   "execution_count": 44,
   "id": "6200bb62",
   "metadata": {
    "execution": {
     "iopub.execute_input": "2022-02-20T17:43:10.540791Z",
     "iopub.status.busy": "2022-02-20T17:43:10.540119Z",
     "iopub.status.idle": "2022-02-20T17:43:10.544795Z",
     "shell.execute_reply": "2022-02-20T17:43:10.544054Z",
     "shell.execute_reply.started": "2022-02-20T17:20:03.893538Z"
    },
    "papermill": {
     "duration": 0.10259,
     "end_time": "2022-02-20T17:43:10.545022",
     "exception": false,
     "start_time": "2022-02-20T17:43:10.442432",
     "status": "completed"
    },
    "tags": []
   },
   "outputs": [
    {
     "name": "stdout",
     "output_type": "stream",
     "text": [
      "['Photo Editor & Candy Camera & Grid & ScrapBook', 'ART_AND_DESIGN', '4.1', '159', '19M', '10,000+', 'Free', '0', 'Everyone', 'Art & Design', 'January 7, 2018', '1.0.0', '4.0.3 and up']\n",
      "\n",
      "\n",
      "['U Launcher Lite – FREE Live Cool Themes, Hide Apps', 'ART_AND_DESIGN', '4.7', '87510', '8.7M', '5,000,000+', 'Free', '0', 'Everyone', 'Art & Design', 'August 1, 2018', '1.2.4', '4.0.3 and up']\n",
      "\n",
      "\n",
      "['Sketch - Draw & Paint', 'ART_AND_DESIGN', '4.5', '215644', '25M', '50,000,000+', 'Free', '0', 'Teen', 'Art & Design', 'June 8, 2018', 'Varies with device', '4.2 and up']\n",
      "\n",
      "\n",
      "Number of rows: 8864\n",
      "Number of columns: 13\n"
     ]
    }
   ],
   "source": [
    "explore_data(free_english_google, 0, 3, True)"
   ]
  },
  {
   "cell_type": "markdown",
   "id": "87e95c0e",
   "metadata": {
    "execution": {
     "iopub.execute_input": "2022-02-20T16:47:32.622851Z",
     "iopub.status.busy": "2022-02-20T16:47:32.622568Z",
     "iopub.status.idle": "2022-02-20T16:47:34.868458Z",
     "shell.execute_reply": "2022-02-20T16:47:34.854491Z",
     "shell.execute_reply.started": "2022-02-20T16:47:32.622811Z"
    },
    "papermill": {
     "duration": 0.089845,
     "end_time": "2022-02-20T17:43:10.723556",
     "exception": false,
     "start_time": "2022-02-20T17:43:10.633711",
     "status": "completed"
    },
    "tags": []
   },
   "source": [
    "`for row in free_english_google: #to check to see if it has worked - shouldn't see any value other than '0' (string)\n",
    "    print(row[7])\n",
    "    print(type(row[7]))`"
   ]
  },
  {
   "cell_type": "markdown",
   "id": "4b5fccc8",
   "metadata": {
    "papermill": {
     "duration": 0.085631,
     "end_time": "2022-02-20T17:43:10.895607",
     "exception": false,
     "start_time": "2022-02-20T17:43:10.809976",
     "status": "completed"
    },
    "tags": []
   },
   "source": [
    "Now, for the apple dataset."
   ]
  },
  {
   "cell_type": "markdown",
   "id": "0938b286",
   "metadata": {
    "execution": {
     "iopub.execute_input": "2022-02-20T16:47:34.875297Z",
     "iopub.status.busy": "2022-02-20T16:47:34.875075Z",
     "iopub.status.idle": "2022-02-20T16:47:36.466932Z",
     "shell.execute_reply": "2022-02-20T16:47:36.465351Z",
     "shell.execute_reply.started": "2022-02-20T16:47:34.875269Z"
    },
    "papermill": {
     "duration": 0.087071,
     "end_time": "2022-02-20T17:43:11.068741",
     "exception": false,
     "start_time": "2022-02-20T17:43:10.981670",
     "status": "completed"
    },
    "tags": []
   },
   "source": [
    "`for row in english_apple:\n",
    "    print(row[4])\n",
    "    print(type(row[4]))`"
   ]
  },
  {
   "cell_type": "code",
   "execution_count": 45,
   "id": "11019ce8",
   "metadata": {
    "execution": {
     "iopub.execute_input": "2022-02-20T17:43:11.251608Z",
     "iopub.status.busy": "2022-02-20T17:43:11.250941Z",
     "iopub.status.idle": "2022-02-20T17:43:11.253921Z",
     "shell.execute_reply": "2022-02-20T17:43:11.253397Z",
     "shell.execute_reply.started": "2022-02-20T17:20:03.902044Z"
    },
    "papermill": {
     "duration": 0.097919,
     "end_time": "2022-02-20T17:43:11.254075",
     "exception": false,
     "start_time": "2022-02-20T17:43:11.156156",
     "status": "completed"
    },
    "tags": []
   },
   "outputs": [],
   "source": [
    "free_english_apple = []\n",
    "\n",
    "for row in english_apple:\n",
    "    price = row[5]\n",
    "    if price == '0': #this caught me out... price is 0.0 in the apple store, but '0' in google play\n",
    "        free_english_apple.append(row)"
   ]
  },
  {
   "cell_type": "code",
   "execution_count": 46,
   "id": "7fdad13f",
   "metadata": {
    "execution": {
     "iopub.execute_input": "2022-02-20T17:43:11.447993Z",
     "iopub.status.busy": "2022-02-20T17:43:11.446778Z",
     "iopub.status.idle": "2022-02-20T17:43:11.452701Z",
     "shell.execute_reply": "2022-02-20T17:43:11.453393Z",
     "shell.execute_reply.started": "2022-02-20T17:20:03.914887Z"
    },
    "papermill": {
     "duration": 0.111032,
     "end_time": "2022-02-20T17:43:11.453583",
     "exception": false,
     "start_time": "2022-02-20T17:43:11.342551",
     "status": "completed"
    },
    "tags": []
   },
   "outputs": [
    {
     "name": "stdout",
     "output_type": "stream",
     "text": [
      "['2', '281796108', 'Evernote - stay organized', '158578688', 'USD', '0', '161065', '26', '4', '3.5', '8.2.2', '4+', 'Productivity', '37', '5', '23', '1']\n",
      "\n",
      "\n",
      "['3', '281940292', 'WeatherBug - Local Weather, Radar, Maps, Alerts', '100524032', 'USD', '0', '188583', '2822', '3.5', '4.5', '5.0.0', '4+', 'Weather', '37', '5', '3', '1']\n",
      "\n",
      "\n",
      "['4', '282614216', 'eBay: Best App to Buy, Sell, Save! Online Shopping', '128512000', 'USD', '0', '262241', '649', '4', '4.5', '5.10.0', '12+', 'Shopping', '37', '5', '9', '1']\n",
      "\n",
      "\n",
      "Number of rows: 3220\n",
      "Number of columns: 17\n"
     ]
    }
   ],
   "source": [
    "explore_data(free_english_apple, 0, 3, True)"
   ]
  },
  {
   "cell_type": "markdown",
   "id": "47b0ed49",
   "metadata": {
    "papermill": {
     "duration": 0.10053,
     "end_time": "2022-02-20T17:43:11.654364",
     "exception": false,
     "start_time": "2022-02-20T17:43:11.553834",
     "status": "completed"
    },
    "tags": []
   },
   "source": [
    "# Data Analysis\n",
    "Now the data has been cleaned, I need to analyse it. In this scenario, the company wants to create a free app that will become popular to cash-in on the ad revenue (which is dependent on the amount of users engaging with the app). \n",
    "\n",
    "I should look for apps that have some link between category/genre and installs. \n",
    "\n",
    "**Google data**\n",
    "- category at row [1] and genres at [-4]\n",
    "\n",
    "\n",
    "**Apple data**\n",
    "- prime genre at [12]\n"
   ]
  },
  {
   "cell_type": "code",
   "execution_count": 47,
   "id": "fdbe6578",
   "metadata": {
    "execution": {
     "iopub.execute_input": "2022-02-20T17:43:11.857610Z",
     "iopub.status.busy": "2022-02-20T17:43:11.856857Z",
     "iopub.status.idle": "2022-02-20T17:43:11.860148Z",
     "shell.execute_reply": "2022-02-20T17:43:11.859567Z",
     "shell.execute_reply.started": "2022-02-20T17:20:03.928938Z"
    },
    "papermill": {
     "duration": 0.102575,
     "end_time": "2022-02-20T17:43:11.860294",
     "exception": false,
     "start_time": "2022-02-20T17:43:11.757719",
     "status": "completed"
    },
    "tags": []
   },
   "outputs": [],
   "source": [
    "def display_table(dataset, index): \n",
    "    table = freq_table(dataset, index)\n",
    "    table_display = []\n",
    "    for key in table:\n",
    "        key_val_as_tuple = (table[key], key)\n",
    "        table_display.append(key_val_as_tuple)\n",
    "\n",
    "    table_sorted = sorted(table_display, reverse = True)\n",
    "    for entry in table_sorted:\n",
    "        print(entry[1], ':', entry[0])"
   ]
  },
  {
   "cell_type": "markdown",
   "id": "062f9574",
   "metadata": {
    "papermill": {
     "duration": 0.093505,
     "end_time": "2022-02-20T17:43:12.050004",
     "exception": false,
     "start_time": "2022-02-20T17:43:11.956499",
     "status": "completed"
    },
    "tags": []
   },
   "source": [
    "#### Above code\n",
    "This code was provided by the scenario. \n",
    "\n",
    "This is because the scenaro provider follows a learning pathway from beginner onwards, and this project precedes more advanced techniques. They acknowledge that there are simpler ways to achieve the above.\n",
    "\n",
    "but what the code is doing:\n",
    "- Takes in two parameters: dataset and index. dataset will be a list of lists, and index will be an integer\n",
    "- Generates a frequency table using the freq_table() function (which I have to write)\n",
    "- Transforms the frequency table into a list of tuples, then sorts the list in a descending order\n",
    "- Prints the entries of the frequency table in descending order"
   ]
  },
  {
   "cell_type": "markdown",
   "id": "af7014a8",
   "metadata": {
    "papermill": {
     "duration": 0.087827,
     "end_time": "2022-02-20T17:43:12.227493",
     "exception": false,
     "start_time": "2022-02-20T17:43:12.139666",
     "status": "completed"
    },
    "tags": []
   },
   "source": [
    "**My first attempt**\n",
    "\n",
    "`def freq_table(dataset, index):\n",
    "    ftable = {}\n",
    "    for row in dataset:\n",
    "        genre = row[index]\n",
    "        if genre in ftable:\n",
    "            ftable[genre] += 1\n",
    "        else:\n",
    "            ftable[genre] = 1\n",
    "    return ftable\n",
    "`\n",
    "\n",
    "I had originally tried this, but it did not display as a percentage"
   ]
  },
  {
   "cell_type": "markdown",
   "id": "c32df63b",
   "metadata": {
    "papermill": {
     "duration": 0.087162,
     "end_time": "2022-02-20T17:43:12.401806",
     "exception": false,
     "start_time": "2022-02-20T17:43:12.314644",
     "status": "completed"
    },
    "tags": []
   },
   "source": [
    "**This is the function i'll create, to be used alongside the provided 'display_table' function**"
   ]
  },
  {
   "cell_type": "code",
   "execution_count": 48,
   "id": "cf194e6e",
   "metadata": {
    "execution": {
     "iopub.execute_input": "2022-02-20T17:43:12.587779Z",
     "iopub.status.busy": "2022-02-20T17:43:12.586799Z",
     "iopub.status.idle": "2022-02-20T17:43:12.589386Z",
     "shell.execute_reply": "2022-02-20T17:43:12.589846Z",
     "shell.execute_reply.started": "2022-02-20T17:20:03.938456Z"
    },
    "papermill": {
     "duration": 0.100833,
     "end_time": "2022-02-20T17:43:12.590041",
     "exception": false,
     "start_time": "2022-02-20T17:43:12.489208",
     "status": "completed"
    },
    "tags": []
   },
   "outputs": [],
   "source": [
    "def freq_table(dataset, index):\n",
    "    ftable = {}\n",
    "    total = 0\n",
    "    \n",
    "    for row in dataset:\n",
    "        total += 1 #this will increment total by +1 for each row in dataset (per loop) to establish the total genres\n",
    "        genre = row[index] #genre will become the row which i specify in the function argument\n",
    "        if genre in ftable:\n",
    "            ftable[genre] += 1\n",
    "        else:\n",
    "            ftable[genre] = 1 \n",
    "    \n",
    "    ftablepercentages = {}\n",
    "    for key in ftable: \n",
    "        percentage = (ftable[key] / total) * 100 #else will be 0. values\n",
    "        ftablepercentages[key] = percentage #meaning each key will have the values specified above in the variable percentage\n",
    "            \n",
    "    return ftablepercentages"
   ]
  },
  {
   "cell_type": "code",
   "execution_count": 49,
   "id": "9ac67f9b",
   "metadata": {
    "execution": {
     "iopub.execute_input": "2022-02-20T17:43:12.773097Z",
     "iopub.status.busy": "2022-02-20T17:43:12.772429Z",
     "iopub.status.idle": "2022-02-20T17:43:12.775003Z",
     "shell.execute_reply": "2022-02-20T17:43:12.775493Z",
     "shell.execute_reply.started": "2022-02-20T17:20:03.951544Z"
    },
    "papermill": {
     "duration": 0.098625,
     "end_time": "2022-02-20T17:43:12.775662",
     "exception": false,
     "start_time": "2022-02-20T17:43:12.677037",
     "status": "completed"
    },
    "tags": []
   },
   "outputs": [
    {
     "name": "stdout",
     "output_type": "stream",
     "text": [
      "{'Productivity': 1.7391304347826086, 'Weather': 0.8695652173913043, 'Shopping': 2.608695652173913, 'Reference': 0.5590062111801243, 'Finance': 1.1180124223602486, 'Music': 2.049689440993789, 'Utilities': 2.515527950310559, 'Travel': 1.2422360248447204, 'Social Networking': 3.291925465838509, 'Sports': 2.142857142857143, 'Health & Fitness': 2.018633540372671, 'Games': 58.13664596273293, 'Food & Drink': 0.8074534161490683, 'News': 1.3354037267080745, 'Book': 0.43478260869565216, 'Photo & Video': 4.968944099378882, 'Entertainment': 7.888198757763975, 'Business': 0.5279503105590062, 'Lifestyle': 1.5838509316770186, 'Education': 3.6645962732919255, 'Navigation': 0.18633540372670807, 'Medical': 0.18633540372670807, 'Catalogs': 0.12422360248447205}\n"
     ]
    }
   ],
   "source": [
    "print(freq_table(free_english_apple, 12))"
   ]
  },
  {
   "cell_type": "code",
   "execution_count": 50,
   "id": "76c5db11",
   "metadata": {
    "execution": {
     "iopub.execute_input": "2022-02-20T17:43:12.960994Z",
     "iopub.status.busy": "2022-02-20T17:43:12.959806Z",
     "iopub.status.idle": "2022-02-20T17:43:12.976989Z",
     "shell.execute_reply": "2022-02-20T17:43:12.976410Z",
     "shell.execute_reply.started": "2022-02-20T17:20:03.966911Z"
    },
    "papermill": {
     "duration": 0.109362,
     "end_time": "2022-02-20T17:43:12.977129",
     "exception": false,
     "start_time": "2022-02-20T17:43:12.867767",
     "status": "completed"
    },
    "tags": []
   },
   "outputs": [
    {
     "name": "stdout",
     "output_type": "stream",
     "text": [
      "Games : 58.13664596273293\n",
      "Entertainment : 7.888198757763975\n",
      "Photo & Video : 4.968944099378882\n",
      "Education : 3.6645962732919255\n",
      "Social Networking : 3.291925465838509\n",
      "Shopping : 2.608695652173913\n",
      "Utilities : 2.515527950310559\n",
      "Sports : 2.142857142857143\n",
      "Music : 2.049689440993789\n",
      "Health & Fitness : 2.018633540372671\n",
      "Productivity : 1.7391304347826086\n",
      "Lifestyle : 1.5838509316770186\n",
      "News : 1.3354037267080745\n",
      "Travel : 1.2422360248447204\n",
      "Finance : 1.1180124223602486\n",
      "Weather : 0.8695652173913043\n",
      "Food & Drink : 0.8074534161490683\n",
      "Reference : 0.5590062111801243\n",
      "Business : 0.5279503105590062\n",
      "Book : 0.43478260869565216\n",
      "Navigation : 0.18633540372670807\n",
      "Medical : 0.18633540372670807\n",
      "Catalogs : 0.12422360248447205\n"
     ]
    }
   ],
   "source": [
    "display_table(free_english_apple, 12)"
   ]
  },
  {
   "cell_type": "code",
   "execution_count": 51,
   "id": "09a69e76",
   "metadata": {
    "execution": {
     "iopub.execute_input": "2022-02-20T17:43:13.167688Z",
     "iopub.status.busy": "2022-02-20T17:43:13.167047Z",
     "iopub.status.idle": "2022-02-20T17:43:13.178117Z",
     "shell.execute_reply": "2022-02-20T17:43:13.177401Z",
     "shell.execute_reply.started": "2022-02-20T17:20:03.989264Z"
    },
    "papermill": {
     "duration": 0.111591,
     "end_time": "2022-02-20T17:43:13.178260",
     "exception": false,
     "start_time": "2022-02-20T17:43:13.066669",
     "status": "completed"
    },
    "tags": []
   },
   "outputs": [
    {
     "name": "stdout",
     "output_type": "stream",
     "text": [
      "FAMILY : 18.907942238267147\n",
      "GAME : 9.724729241877256\n",
      "TOOLS : 8.461191335740072\n",
      "BUSINESS : 4.591606498194946\n",
      "LIFESTYLE : 3.9034296028880866\n",
      "PRODUCTIVITY : 3.892148014440433\n",
      "FINANCE : 3.7003610108303246\n",
      "MEDICAL : 3.531137184115524\n",
      "SPORTS : 3.395758122743682\n",
      "PERSONALIZATION : 3.3167870036101084\n",
      "COMMUNICATION : 3.2378158844765346\n",
      "HEALTH_AND_FITNESS : 3.0798736462093865\n",
      "PHOTOGRAPHY : 2.944494584837545\n",
      "NEWS_AND_MAGAZINES : 2.7978339350180503\n",
      "SOCIAL : 2.6624548736462095\n",
      "TRAVEL_AND_LOCAL : 2.33528880866426\n",
      "SHOPPING : 2.2450361010830324\n",
      "BOOKS_AND_REFERENCE : 2.1435018050541514\n",
      "DATING : 1.861462093862816\n",
      "VIDEO_PLAYERS : 1.7937725631768955\n",
      "MAPS_AND_NAVIGATION : 1.3989169675090252\n",
      "FOOD_AND_DRINK : 1.2409747292418771\n",
      "EDUCATION : 1.1620036101083033\n",
      "ENTERTAINMENT : 0.9589350180505415\n",
      "LIBRARIES_AND_DEMO : 0.9363718411552346\n",
      "AUTO_AND_VEHICLES : 0.9250902527075812\n",
      "HOUSE_AND_HOME : 0.8235559566787004\n",
      "WEATHER : 0.8009927797833934\n",
      "EVENTS : 0.7107400722021661\n",
      "PARENTING : 0.6543321299638989\n",
      "ART_AND_DESIGN : 0.6430505415162455\n",
      "COMICS : 0.6204873646209386\n",
      "BEAUTY : 0.5979241877256317\n"
     ]
    }
   ],
   "source": [
    "display_table(free_english_google, 1) #categories"
   ]
  },
  {
   "cell_type": "code",
   "execution_count": 52,
   "id": "ecd2aebb",
   "metadata": {
    "execution": {
     "iopub.execute_input": "2022-02-20T17:43:13.370914Z",
     "iopub.status.busy": "2022-02-20T17:43:13.370206Z",
     "iopub.status.idle": "2022-02-20T17:43:13.414298Z",
     "shell.execute_reply": "2022-02-20T17:43:13.415045Z",
     "shell.execute_reply.started": "2022-02-20T17:20:04.015276Z"
    },
    "papermill": {
     "duration": 0.148061,
     "end_time": "2022-02-20T17:43:13.415280",
     "exception": false,
     "start_time": "2022-02-20T17:43:13.267219",
     "status": "completed"
    },
    "tags": []
   },
   "outputs": [
    {
     "name": "stdout",
     "output_type": "stream",
     "text": [
      "Tools : 8.449909747292418\n",
      "Entertainment : 6.069494584837545\n",
      "Education : 5.347472924187725\n",
      "Business : 4.591606498194946\n",
      "Productivity : 3.892148014440433\n",
      "Lifestyle : 3.892148014440433\n",
      "Finance : 3.7003610108303246\n",
      "Medical : 3.531137184115524\n",
      "Sports : 3.463447653429603\n",
      "Personalization : 3.3167870036101084\n",
      "Communication : 3.2378158844765346\n",
      "Action : 3.1024368231046933\n",
      "Health & Fitness : 3.0798736462093865\n",
      "Photography : 2.944494584837545\n",
      "News & Magazines : 2.7978339350180503\n",
      "Social : 2.6624548736462095\n",
      "Travel & Local : 2.3240072202166067\n",
      "Shopping : 2.2450361010830324\n",
      "Books & Reference : 2.1435018050541514\n",
      "Simulation : 2.0419675090252705\n",
      "Dating : 1.861462093862816\n",
      "Arcade : 1.8501805054151623\n",
      "Video Players & Editors : 1.7712093862815883\n",
      "Casual : 1.7599277978339352\n",
      "Maps & Navigation : 1.3989169675090252\n",
      "Food & Drink : 1.2409747292418771\n",
      "Puzzle : 1.128158844765343\n",
      "Racing : 0.9927797833935018\n",
      "Role Playing : 0.9363718411552346\n",
      "Libraries & Demo : 0.9363718411552346\n",
      "Auto & Vehicles : 0.9250902527075812\n",
      "Strategy : 0.9138086642599278\n",
      "House & Home : 0.8235559566787004\n",
      "Weather : 0.8009927797833934\n",
      "Events : 0.7107400722021661\n",
      "Adventure : 0.6768953068592057\n",
      "Comics : 0.6092057761732852\n",
      "Beauty : 0.5979241877256317\n",
      "Art & Design : 0.5979241877256317\n",
      "Parenting : 0.4963898916967509\n",
      "Card : 0.45126353790613716\n",
      "Casino : 0.42870036101083037\n",
      "Trivia : 0.41741877256317694\n",
      "Educational;Education : 0.39485559566787\n",
      "Board : 0.3835740072202166\n",
      "Educational : 0.3722924187725632\n",
      "Education;Education : 0.33844765342960287\n",
      "Word : 0.2594765342960289\n",
      "Casual;Pretend Play : 0.236913357400722\n",
      "Music : 0.2030685920577617\n",
      "Racing;Action & Adventure : 0.16922382671480143\n",
      "Puzzle;Brain Games : 0.16922382671480143\n",
      "Entertainment;Music & Video : 0.16922382671480143\n",
      "Casual;Brain Games : 0.13537906137184114\n",
      "Casual;Action & Adventure : 0.13537906137184114\n",
      "Arcade;Action & Adventure : 0.12409747292418773\n",
      "Action;Action & Adventure : 0.10153429602888085\n",
      "Educational;Pretend Play : 0.09025270758122744\n",
      "Simulation;Action & Adventure : 0.078971119133574\n",
      "Parenting;Education : 0.078971119133574\n",
      "Entertainment;Brain Games : 0.078971119133574\n",
      "Board;Brain Games : 0.078971119133574\n",
      "Parenting;Music & Video : 0.06768953068592057\n",
      "Educational;Brain Games : 0.06768953068592057\n",
      "Casual;Creativity : 0.06768953068592057\n",
      "Art & Design;Creativity : 0.06768953068592057\n",
      "Education;Pretend Play : 0.056407942238267145\n",
      "Role Playing;Pretend Play : 0.04512635379061372\n",
      "Education;Creativity : 0.04512635379061372\n",
      "Role Playing;Action & Adventure : 0.033844765342960284\n",
      "Puzzle;Action & Adventure : 0.033844765342960284\n",
      "Entertainment;Creativity : 0.033844765342960284\n",
      "Entertainment;Action & Adventure : 0.033844765342960284\n",
      "Educational;Creativity : 0.033844765342960284\n",
      "Educational;Action & Adventure : 0.033844765342960284\n",
      "Education;Music & Video : 0.033844765342960284\n",
      "Education;Brain Games : 0.033844765342960284\n",
      "Education;Action & Adventure : 0.033844765342960284\n",
      "Adventure;Action & Adventure : 0.033844765342960284\n",
      "Video Players & Editors;Music & Video : 0.02256317689530686\n",
      "Sports;Action & Adventure : 0.02256317689530686\n",
      "Simulation;Pretend Play : 0.02256317689530686\n",
      "Puzzle;Creativity : 0.02256317689530686\n",
      "Music;Music & Video : 0.02256317689530686\n",
      "Entertainment;Pretend Play : 0.02256317689530686\n",
      "Casual;Education : 0.02256317689530686\n",
      "Board;Action & Adventure : 0.02256317689530686\n",
      "Video Players & Editors;Creativity : 0.01128158844765343\n",
      "Trivia;Education : 0.01128158844765343\n",
      "Travel & Local;Action & Adventure : 0.01128158844765343\n",
      "Tools;Education : 0.01128158844765343\n",
      "Strategy;Education : 0.01128158844765343\n",
      "Strategy;Creativity : 0.01128158844765343\n",
      "Strategy;Action & Adventure : 0.01128158844765343\n",
      "Simulation;Education : 0.01128158844765343\n",
      "Role Playing;Brain Games : 0.01128158844765343\n",
      "Racing;Pretend Play : 0.01128158844765343\n",
      "Puzzle;Education : 0.01128158844765343\n",
      "Parenting;Brain Games : 0.01128158844765343\n",
      "Music & Audio;Music & Video : 0.01128158844765343\n",
      "Lifestyle;Pretend Play : 0.01128158844765343\n",
      "Lifestyle;Education : 0.01128158844765343\n",
      "Health & Fitness;Education : 0.01128158844765343\n",
      "Health & Fitness;Action & Adventure : 0.01128158844765343\n",
      "Entertainment;Education : 0.01128158844765343\n",
      "Communication;Creativity : 0.01128158844765343\n",
      "Comics;Creativity : 0.01128158844765343\n",
      "Casual;Music & Video : 0.01128158844765343\n",
      "Card;Action & Adventure : 0.01128158844765343\n",
      "Books & Reference;Education : 0.01128158844765343\n",
      "Art & Design;Pretend Play : 0.01128158844765343\n",
      "Art & Design;Action & Adventure : 0.01128158844765343\n",
      "Arcade;Pretend Play : 0.01128158844765343\n",
      "Adventure;Education : 0.01128158844765343\n"
     ]
    }
   ],
   "source": [
    "display_table(free_english_google, -4) #genres"
   ]
  },
  {
   "cell_type": "markdown",
   "id": "ba5a8503",
   "metadata": {
    "papermill": {
     "duration": 0.094609,
     "end_time": "2022-02-20T17:43:13.601924",
     "exception": false,
     "start_time": "2022-02-20T17:43:13.507315",
     "status": "completed"
    },
    "tags": []
   },
   "source": [
    "# Analysis of data: trends in free apps\n",
    "\n",
    "**App store**\n",
    "\n",
    "Most common genre: 'Games' with 58.1% share\n",
    "\n",
    "Second most common: 'Entertainment' with 7.9%\n",
    "\n",
    "- there's already a huge divide in % of the most common and second-most\n",
    "- most apps that appear at the bottom of the list tend to be more utility-based e.g. navigation apps, medical, weather, news etc. \n",
    "- the apps that appear towards the top are more leisure-focussed, like gaming, entertainment, photo and videos\n",
    "\n",
    "Based on the above, I would recommend developing a free app that is designed around gaming or related genres - though it would also depend on the number of users of apps within those categories. \n",
    "\n",
    "**Google store**\n",
    "\n",
    "Most common category: 'FAMILY' with 18.9%\n",
    "\n",
    "2nd: 'GAME' with 9.7%\n",
    "\n",
    "3rd: 'TOOLS' with 8.5 %\n",
    "\n",
    "Most common genre: 'Tools' with 8.4%\n",
    "\n",
    "2nd: 'Entertainment' with 6.1%\n",
    "\n",
    "3rd: 'Education' with 5.3 %\n",
    "\n",
    "I've widened the search to include the top 3 as there's less of a discrepancy between the top common genres/categories.\n",
    "- Google play store seems to follow a different app profile, with a wider spread of genres/categories\n",
    "- one thing in common between both genre and category is tools, and leisure (entertainment and 'GAME')\n",
    "\n",
    "Because of the differences in app profiles for free apps, a Google play app centered around an entertainment or utility function. 'FAMILY' ranks highest in category, so something that is inclusive and not age-restricted. \n",
    "\n",
    "This of course, reveals the most frequent app genres, and not necessarily what genres have the most users."
   ]
  },
  {
   "cell_type": "markdown",
   "id": "964631d8",
   "metadata": {
    "papermill": {
     "duration": 0.092694,
     "end_time": "2022-02-20T17:43:13.788818",
     "exception": false,
     "start_time": "2022-02-20T17:43:13.696124",
     "status": "completed"
    },
    "tags": []
   },
   "source": [
    "#### My goal is to calculate the average number of installs for each app genre\n",
    "- for the app store data, i'll use the total user ratings as there's no data column for installs"
   ]
  },
  {
   "cell_type": "code",
   "execution_count": 53,
   "id": "a0eb1d14",
   "metadata": {
    "execution": {
     "iopub.execute_input": "2022-02-20T17:43:13.976044Z",
     "iopub.status.busy": "2022-02-20T17:43:13.975298Z",
     "iopub.status.idle": "2022-02-20T17:43:14.017075Z",
     "shell.execute_reply": "2022-02-20T17:43:14.016140Z",
     "shell.execute_reply.started": "2022-02-20T17:20:04.067981Z"
    },
    "papermill": {
     "duration": 0.135931,
     "end_time": "2022-02-20T17:43:14.017228",
     "exception": false,
     "start_time": "2022-02-20T17:43:13.881297",
     "status": "completed"
    },
    "tags": []
   },
   "outputs": [
    {
     "name": "stdout",
     "output_type": "stream",
     "text": [
      "Productivity : 21028.410714285714\n",
      "Weather : 52279.892857142855\n",
      "Shopping : 26919.690476190477\n",
      "Reference : 74942.11111111111\n",
      "Finance : 31467.944444444445\n",
      "Music : 57326.530303030304\n",
      "Utilities : 18684.456790123455\n",
      "Travel : 28243.8\n",
      "Social Networking : 71548.34905660378\n",
      "Sports : 23008.898550724636\n",
      "Health & Fitness : 23298.015384615384\n",
      "Games : 22812.92467948718\n",
      "Food & Drink : 33333.92307692308\n",
      "News : 21248.023255813954\n",
      "Book : 39758.5\n",
      "Photo & Video : 28441.54375\n",
      "Entertainment : 14029.830708661417\n",
      "Business : 7491.117647058823\n",
      "Lifestyle : 16485.764705882353\n",
      "Education : 7003.983050847458\n",
      "Navigation : 86090.33333333333\n",
      "Medical : 612.0\n",
      "Catalogs : 4004.0\n"
     ]
    }
   ],
   "source": [
    "unique_genres = freq_table(free_english_apple, 12) #i create a freq. table for the unique genres column\n",
    "\n",
    "for genres in unique_genres: #within this freq. table i initialise the following two empty variables\n",
    "    total = 0\n",
    "    len_genre = 0\n",
    "    \n",
    "    for row in free_english_apple: #nested loop, i'm looping through the dataset\n",
    "        genre_app = row[12] #saving the app genre to this variable\n",
    "        if genre_app == genres: #if the above variable is the same as each element within unique_genres (i.e. the genres)\n",
    "            total_ratings = float(row[6]) #i save no. of user ratings of the app as a float\n",
    "            total += total_ratings #the number of user ratings are added to the total (initialised above)\n",
    "            len_genre += 1 #len_genre is incremented by 1 per each genre = total apps corresponding to that genre\n",
    "            \n",
    "    average = total / len_genre #the total number of user ratings for a given genre is divided by the total of apps corresponding to that genre\n",
    "\n",
    "    print(genres, ':', average)\n",
    "            \n",
    "#so, total = total number of user ratings (combined) for those within a genre, len_genre = total number of apps with that genre\n",
    "#so total / len_genre will give average number of user ratings fora given genre"
   ]
  },
  {
   "cell_type": "markdown",
   "id": "c2dc09ef",
   "metadata": {
    "papermill": {
     "duration": 0.090533,
     "end_time": "2022-02-20T17:43:14.198914",
     "exception": false,
     "start_time": "2022-02-20T17:43:14.108381",
     "status": "completed"
    },
    "tags": []
   },
   "source": [
    "According to the above, 'leisure/entertainment' apps have the highest average number of user ratings. If we take that to represent apps that have a higher number of users, then targeting these genres would mean highest users.\n",
    "\n",
    "However, ratings for apps under the genre of social networking are likely to be skewed by certain highly popular apps such as Facebook and Instagram."
   ]
  },
  {
   "cell_type": "code",
   "execution_count": 54,
   "id": "2744725f",
   "metadata": {
    "execution": {
     "iopub.execute_input": "2022-02-20T17:43:14.391457Z",
     "iopub.status.busy": "2022-02-20T17:43:14.390485Z",
     "iopub.status.idle": "2022-02-20T17:43:14.400866Z",
     "shell.execute_reply": "2022-02-20T17:43:14.399599Z",
     "shell.execute_reply.started": "2022-02-20T17:20:04.110578Z"
    },
    "papermill": {
     "duration": 0.111367,
     "end_time": "2022-02-20T17:43:14.401042",
     "exception": false,
     "start_time": "2022-02-20T17:43:14.289675",
     "status": "completed"
    },
    "tags": []
   },
   "outputs": [
    {
     "name": "stdout",
     "output_type": "stream",
     "text": [
      "Facebook:2974676\n",
      "LinkedIn:71856\n",
      "Skype for iPhone:373519\n",
      "Tumblr:334293\n",
      "Match™ - #1 Dating App.:60659\n",
      "WhatsApp Messenger:287589\n",
      "TextNow - Unlimited Text + Calls:164963\n",
      "Grindr - Gay and same sex guys chat, meet and date:23201\n",
      "imo video calls and chat:18841\n",
      "Ameba:269\n",
      "Weibo:7265\n",
      "Badoo - Meet New People, Chat, Socialize.:34428\n",
      "Kik:260965\n",
      "Qzone:1649\n",
      "Fake-A-Location Free ™:354\n",
      "Tango - Free Video Call, Voice and Chat:75412\n",
      "MeetMe - Chat and Meet New People:97072\n",
      "SimSimi:23530\n",
      "Viber Messenger – Text & Call:164249\n",
      "Find My Family, Friends & iPhone - Life360 Locator:43877\n",
      "Weibo HD:16772\n",
      "POF - Best Dating App for Conversations:52642\n",
      "GroupMe:28260\n",
      "Lobi:36\n",
      "WeChat:34584\n",
      "ooVoo – Free Video Call, Text and Voice:177501\n",
      "Pinterest:1061624\n",
      "知乎:397\n",
      "Qzone HD:458\n",
      "Skype for iPad:60163\n",
      "LINE:11437\n",
      "QQ:9109\n",
      "LOVOO - Dating Chat:1985\n",
      "QQ HD:5058\n",
      "Messenger:351466\n",
      "eHarmony™ Dating App - Meet Singles:11124\n",
      "YouNow: Live Stream Video Chat:12079\n",
      "Cougar Dating & Life Style App for Mature Women:213\n",
      "Battlefield™ Companion:689\n",
      "Whisper - Share, Express, Meet:39819\n",
      "We Heart It - Fashion, wallpapers, quotes, tattoos:90414\n",
      "Followers - Social Analytics For Instagram:112778\n",
      "InsTrack for Instagram - Analytics Plus More:85535\n",
      "Followers + for Instagram - Follower Analytics:28633\n",
      "Timehop:49510\n",
      "Repost for Instagram:15185\n",
      "LINE PLAY - Your Avatar World:34677\n",
      "Nextdoor:14402\n",
      "Hangouts:36404\n",
      "FollowMeter for Instagram - Followers Tracking:11976\n",
      "Telegram Messenger:7573\n",
      "Chatous - Chat with new people:1609\n",
      "QQ International:274\n",
      "FireChat:1037\n",
      "Jodel:1193\n",
      "Wishbone - Compare Anything:20649\n",
      "Zenly - Locate your friends in realtime:427\n",
      "Tantan:235\n",
      "Flinch - Video Chat Staring Contest:2134\n",
      "botman - Real time video chat:7\n",
      "豆瓣:407\n",
      "Marco Polo Video Walkie Talkie:27662\n",
      "After School - Funny Anonymous School News:18482\n",
      "Highrise - Your Avatar Community:2011\n",
      "Quick Reposter - Repost, Regram and Reshare Photos:17694\n",
      "Kiwi - Q&A:1538\n",
      "Periscope - Live Video Streaming Around the World:6062\n",
      "Inke—Broadcast an amazing life:147\n",
      "Discord - Chat for Gamers:9152\n",
      "Candid - Speak Your Mind Freely:398\n",
      "Down To Lunch:2535\n",
      "SOMA Messenger:3232\n",
      "Rawr Messenger - Dab your chat:180\n",
      "Popcorn Buzz - Free Group Calls:281\n",
      "Chain: Collaborate On MyVideo Story/Group Video:35\n",
      "BestieBox:0\n",
      "Selfeo:366\n",
      "Followers Analysis Tool For Instagram App Free:4253\n",
      "Hey! VINA - Where Women Meet New Friends:719\n",
      "PlayStation®Messages:1918\n",
      "WhenToPost: Best Time to Post Photos for Instagram:158\n",
      "MATCH ON LINE chat:0\n",
      "Fiesta by Tango - Chat & Meet New People:885\n",
      "Houseparty - Group Video Chat:3991\n",
      "All Devices for WhatsApp - Messenger for iPad:682\n",
      "Peach — share vividly:727\n",
      "bit-tube - Live Stream Video Chat:0\n",
      "Miitomo:23965\n",
      "SoundCloud Pulse: for creators:240\n",
      "IAmNaughty – Dating App to Meet New People Online:463\n",
      "League of Legends Friends:420\n",
      "GhostCodes - a discovery app for Snapchat:1313\n",
      "live.ly - live video streaming:4145\n",
      "Live.me – Live Video Chat & Make Friends Nearby:14724\n",
      "BOO! - Video chat camera with filters & stickers:1805\n",
      "Google Allo — smart messaging:862\n",
      "Google Duo - simple video calling:1033\n",
      "Chat for Whatsapp - iPad Version:5060\n",
      "Chat for Pokemon Go - GoChat:500\n",
      "niconico ch:0\n",
      "Followers Analytics for Instagram - InstaReport:13914\n",
      "Monkey:3060\n",
      "LINE BLOG:0\n",
      "Mustknow - anonymous video Q&A:53\n",
      "CTFxCmoji:39\n",
      "Fam — Group video calling for iMessage:279\n"
     ]
    }
   ],
   "source": [
    "for row in free_english_apple: #code to print app name if it's genre = 'Social Networking' + ':' + row containing app ratings\n",
    "    if row[12] == 'Social Networking':\n",
    "        print(row[2] + ':' + row[6])"
   ]
  },
  {
   "cell_type": "markdown",
   "id": "ce24c741",
   "metadata": {
    "papermill": {
     "duration": 0.091498,
     "end_time": "2022-02-20T17:43:14.585487",
     "exception": false,
     "start_time": "2022-02-20T17:43:14.493989",
     "status": "completed"
    },
    "tags": []
   },
   "source": [
    "As seen above, Facebook, Skype, etc. have huge numbers of user ratings relative to the rest of the list. It would not make sense to develop a free social media app given the market is dominated by a few apps that already have a high user base. Given the resources of Facebook and related companies, it would be difficult to compete."
   ]
  },
  {
   "cell_type": "code",
   "execution_count": 55,
   "id": "4066dcd1",
   "metadata": {
    "execution": {
     "iopub.execute_input": "2022-02-20T17:43:14.836986Z",
     "iopub.status.busy": "2022-02-20T17:43:14.807033Z",
     "iopub.status.idle": "2022-02-20T17:43:14.871352Z",
     "shell.execute_reply": "2022-02-20T17:43:14.870667Z",
     "shell.execute_reply.started": "2022-02-20T17:20:04.1267Z"
    },
    "papermill": {
     "duration": 0.194378,
     "end_time": "2022-02-20T17:43:14.871529",
     "exception": false,
     "start_time": "2022-02-20T17:43:14.677151",
     "status": "completed"
    },
    "tags": []
   },
   "outputs": [
    {
     "name": "stdout",
     "output_type": "stream",
     "text": [
      "ART_AND_DESIGN : 1986335.0877192982\n",
      "AUTO_AND_VEHICLES : 647317.8170731707\n",
      "BEAUTY : 513151.88679245283\n",
      "BOOKS_AND_REFERENCE : 8767811.894736841\n",
      "BUSINESS : 1712290.1474201474\n",
      "COMICS : 817657.2727272727\n",
      "COMMUNICATION : 38456119.167247385\n",
      "DATING : 854028.8303030303\n",
      "EDUCATION : 1833495.145631068\n",
      "ENTERTAINMENT : 11640705.88235294\n",
      "EVENTS : 253542.22222222222\n",
      "FINANCE : 1387692.475609756\n",
      "FOOD_AND_DRINK : 1924897.7363636363\n",
      "HEALTH_AND_FITNESS : 4188821.9853479853\n",
      "HOUSE_AND_HOME : 1331540.5616438356\n",
      "LIBRARIES_AND_DEMO : 638503.734939759\n",
      "LIFESTYLE : 1437816.2687861272\n",
      "GAME : 15588015.603248259\n",
      "FAMILY : 3695641.8198090694\n",
      "MEDICAL : 120550.61980830671\n",
      "SOCIAL : 23253652.127118643\n",
      "SHOPPING : 7036877.311557789\n",
      "PHOTOGRAPHY : 17840110.40229885\n",
      "SPORTS : 3638640.1428571427\n",
      "TRAVEL_AND_LOCAL : 13984077.710144928\n",
      "TOOLS : 10801391.298666667\n",
      "PERSONALIZATION : 5201482.6122448975\n",
      "PRODUCTIVITY : 16787331.344927534\n",
      "PARENTING : 542603.6206896552\n",
      "WEATHER : 5074486.197183099\n",
      "VIDEO_PLAYERS : 24727872.452830188\n",
      "NEWS_AND_MAGAZINES : 9549178.467741935\n",
      "MAPS_AND_NAVIGATION : 4056941.7741935486\n"
     ]
    }
   ],
   "source": [
    "unique_category_google = freq_table(free_english_google, 1)\n",
    "\n",
    "for category in unique_category_google:\n",
    "    total = 0\n",
    "    len_category = 0\n",
    "    \n",
    "    for row in free_english_google:\n",
    "        category_app = row[1]\n",
    "        if category_app == category:\n",
    "            installs = row[5]\n",
    "            installs = installs.replace('+', '') \n",
    "            installs = installs.replace(',', '')\n",
    "            installs = float(installs)\n",
    "            total += installs\n",
    "            len_category += 1\n",
    "    \n",
    "    average = total / len_category\n",
    "    \n",
    "            \n",
    "    print(category, ':', average)        \n"
   ]
  },
  {
   "cell_type": "code",
   "execution_count": 56,
   "id": "36312d70",
   "metadata": {
    "execution": {
     "iopub.execute_input": "2022-02-20T17:43:15.058172Z",
     "iopub.status.busy": "2022-02-20T17:43:15.057467Z",
     "iopub.status.idle": "2022-02-20T17:43:15.101015Z",
     "shell.execute_reply": "2022-02-20T17:43:15.101540Z",
     "shell.execute_reply.started": "2022-02-20T17:20:04.223776Z"
    },
    "papermill": {
     "duration": 0.140235,
     "end_time": "2022-02-20T17:43:15.101716",
     "exception": false,
     "start_time": "2022-02-20T17:43:14.961481",
     "status": "completed"
    },
    "tags": []
   },
   "outputs": [
    {
     "name": "stdout",
     "output_type": "stream",
     "text": [
      "Facebook:1,000,000,000+\n",
      "Facebook Lite:500,000,000+\n",
      "Tumblr:100,000,000+\n",
      "Social network all in one 2018:100,000+\n",
      "Pinterest:100,000,000+\n",
      "TextNow - free text + calls:10,000,000+\n",
      "Google+:1,000,000,000+\n",
      "The Messenger App:1,000,000+\n",
      "Messenger Pro:1,000,000+\n",
      "Free Messages, Video, Chat,Text for Messenger Plus:1,000,000+\n",
      "Telegram X:5,000,000+\n",
      "The Video Messenger App:100,000+\n",
      "Jodel - The Hyperlocal App:1,000,000+\n",
      "Hide Something - Photo, Video:5,000,000+\n",
      "Love Sticker:1,000,000+\n",
      "Web Browser & Fast Explorer:5,000,000+\n",
      "LiveMe - Video chat, new friends, and make money:10,000,000+\n",
      "VidStatus app - Status Videos & Status Downloader:5,000,000+\n",
      "Love Images:1,000,000+\n",
      "Web Browser ( Fast & Secure Web Explorer):500,000+\n",
      "SPARK - Live random video chat & meet new people:5,000,000+\n",
      "Golden telegram:50,000+\n",
      "Facebook Local:1,000,000+\n",
      "Meet – Talk to Strangers Using Random Video Chat:5,000,000+\n",
      "MobilePatrol Public Safety App:1,000,000+\n",
      "💘 WhatsLov: Smileys of love, stickers and GIF:1,000,000+\n",
      "HTC Social Plugin - Facebook:10,000,000+\n",
      "Quora:10,000,000+\n",
      "Kate Mobile for VK:10,000,000+\n",
      "Family GPS tracker KidControl + GPS by SMS Locator:1,000,000+\n",
      "Moment:1,000,000+\n",
      "Text Me: Text Free, Call Free, Second Phone Number:10,000,000+\n",
      "Text Free: WiFi Calling App:5,000,000+\n",
      "Badoo - Free Chat & Dating App:100,000,000+\n",
      "Text free - Free Text + Call:10,000,000+\n",
      "Tango - Live Video Broadcast:100,000,000+\n",
      "ooVoo Video Calls, Messaging & Stories:50,000,000+\n",
      "Whisper:5,000,000+\n",
      "Blogger:5,000,000+\n",
      "Bloglovin':500,000+\n",
      "Blogaway for Android (Blogger):100,000+\n",
      "Instagram:1,000,000,000+\n",
      "TwitCasting Live:1,000,000+\n",
      "Stream - Live Video Community:500,000+\n",
      "YouNow: Live Stream Video Chat:10,000,000+\n",
      "Mirrativ: Live Stream Any App:500,000+\n",
      "Snapchat:500,000,000+\n",
      "Banjo:1,000,000+\n",
      "We Heart It:10,000,000+\n",
      "MeetMe: Chat & Meet New People:50,000,000+\n",
      "Timehop:5,000,000+\n",
      "Frontback - Social Photos:1,000,000+\n",
      "LinkedIn:100,000,000+\n",
      "Path:10,000,000+\n",
      "SayHi Chat, Meet New People:10,000,000+\n",
      "Tapatalk - 100,000+ Forums:10,000,000+\n",
      "Couple - Relationship App:1,000,000+\n",
      "Nextdoor - Local neighborhood news & classifieds:5,000,000+\n",
      "LOVOO:10,000,000+\n",
      "Jaumo Dating, Flirt & Live Video:10,000,000+\n",
      "Patook - make platonic friends:100,000+\n",
      "Zello PTT Walkie Talkie:50,000,000+\n",
      "textPlus: Free Text & Calls:10,000,000+\n",
      "magicApp Calling & Messaging:10,000,000+\n",
      "Dating App, Flirt & Chat : W-Match:10,000,000+\n",
      "uCiC- Videos and Photos on demand:100,000+\n",
      "Meetup:5,000,000+\n",
      "POF Free Dating App:50,000,000+\n",
      "Tagged - Meet, Chat & Dating:10,000,000+\n",
      "SKOUT - Meet, Chat, Go Live:50,000,000+\n",
      "Mico- Stranger Chat Random video Chat, Live, Meet:10,000,000+\n",
      "Waplog - Free Chat, Dating App, Meet Singles:10,000,000+\n",
      "Tik Tok - including musical.ly:100,000,000+\n",
      "B-Messenger Video Chat:1,000,000+\n",
      "BIGO LIVE - Live Stream:100,000,000+\n",
      "Greeting Cards & Wishes:500,000+\n",
      "Share G - Images Sharing - Wallpapers App:10,000+\n",
      "H letter images:1,000+\n",
      "Instachat 😜:5,000,000+\n",
      "Fame Boom for Real Followers, Likes:5,000,000+\n",
      "FollowMeter for Instagram:1,000,000+\n",
      "Mali J:10,000+\n",
      "KDRAMA Amino for K-Drama Fans:100,000+\n",
      "KPOP Amino for K-Pop Entertainment:100,000+\n",
      "EXO-L Amino for EXO Fans:50,000+\n",
      "Verdad o Reto:500,000+\n",
      "pixiv:1,000,000+\n",
      "Join R, Community Engagement:1,000+\n",
      "U LIVE – Video Chat & Stream:1,000,000+\n",
      "See U - Random video chat, video chat:100,000+\n",
      "What U See:100,000+\n",
      "U-Report:10,000+\n",
      "Meet U - Get Friends for Snapchat, Kik & Instagram:100,000+\n",
      "VMate Lite - Funny Short Videos Social Network:1,000,000+\n",
      "V Bucks ProTips New:1,000+\n",
      "i-share AF/KLM (AFKL ishare):100+\n",
      "Eternal Light AG:100+\n",
      "Message AI - Write Better Messages (Free):100+\n",
      "Jamaa Amino for Animal Jam:10,000+\n",
      "Legend - Animate Text in Video:10,000,000+\n",
      "GUYZ - Gay Chat & Gay Dating:1,000,000+\n",
      "eChallan Andhra Pradesh (AP):1,000+\n",
      "Snaappy – 3D fun AR core communication platform:1,000,000+\n",
      "Undertale AU Amino:50,000+\n",
      "Au Pair:10,000+\n",
      "Media Sosial TNI AU:1,000+\n",
      "BA 3 Banjarmasin:10+\n",
      "iCard BD Plus:500+\n",
      "Movement BE:100+\n",
      "YAY - TBH:100,000+\n",
      "Find My Friends:10,000,000+\n",
      "BG LINKED (BGLINKED):1,000+\n",
      "Zdravei.BG:1,000+\n",
      "BGKontakti London BG Kontakti:500+\n",
      "BGKontakti Bayern BG Kontakti:1,000+\n",
      "BGKontakti Vienna BG Kontakti:1,000+\n",
      "Discípulos em BH:100+\n",
      "BH Connect:1+\n",
      "Gayvox - Gay Lesbian Bi Dating:500,000+\n",
      "Grindr - Gay chat:10,000,000+\n",
      "Lesbian Chat & Dating - SPICY:1,000,000+\n",
      "Alumni BJ:100+\n",
      "VK:100,000,000+\n",
      "BK Traffic Control cum Chart:10,000+\n",
      "Daily Murli Saar Widget:10,000+\n",
      "Myjob@BM:100+\n",
      "bm-Events:10+\n",
      "BOO! - Next Generation Messenger:1,000,000+\n",
      "Wishbone - Compare Anything:1,000,000+\n",
      "BR Chat Bot:1,000+\n",
      "Br Browser:500+\n",
      "Dr B R Ambedkar (Jai Bhim):100,000+\n",
      "Dr. B.R.Ambedkar:100,000+\n",
      "Black Social:1,000+\n",
      "BT Communicator:10,000+\n",
      "BT Dating -Find your match, help cupid, be social:50,000+\n",
      "Fiesta by Tango - Find, Meet and Make New Friends:1,000,000+\n",
      "Evasion.bz:100+\n",
      "CB Heroes:5+\n",
      "CG Districts:1,000+\n",
      "Digi-TV.ch:10,000+\n",
      "Students.ch:1,000+\n",
      "CJ Gospel Hour:100+\n",
      "Pekalongan CJ:0+\n",
      "Hashtags For Likes.co:50,000+\n",
      "CP Dialer:50,000+\n",
      "C.P. CERVANTES (TOBARRA):5+\n",
      "Cyprus Police:10,000+\n",
      "Rande.cz:50,000+\n",
      "signály.cz:1,000+\n",
      "DB Event App:5,000+\n",
      "DC Comics Amino:1,000+\n",
      "DF BugMeNot:500+\n",
      "Noticias DF:1,000+\n",
      "Periscope - Live Video:10,000,000+\n",
      "Daddyhunt: Gay Dating:500,000+\n",
      "Free phone calls, free texting SMS on free number:10,000,000+\n",
      "Phone Tracker : Family Locator:10,000,000+\n",
      "HOLLA Live: Meet New People via Random Video Chat:5,000,000+\n",
      "Dating.dk:100,000+\n",
      "DK Murali:500+\n",
      "GirlTalk.dk:100+\n",
      "+Download 4 Instagram Twitter:1,000,000+\n",
      "DM Me - Chat:10,000+\n",
      "DM for IG 😘 - Image & Video Saver for Instagram:5,000+\n",
      "Auto DM for Twitter 🔥:1,000+\n",
      "DM Storage (for twitter):100+\n",
      "Fake Chat (Direct Message):500,000+\n",
      "Otto DM:10+\n",
      "DN Blog:10+\n",
      "DP and Status for WhatsApp 2018:100,000+\n",
      "Dp For Whatsapp:5,000+\n",
      "Profile Pictures and DP for Whatsapp:5,000+\n",
      "Dp for Facebook:5,000+\n",
      "Best DP and Status:10,000+\n",
      "Instant DP Downloader for Instagram:5,000+\n",
      "DP Display Pictures Life Quotes Motivational GM:5,000+\n",
      "Qeek for Instagram - Zoom profile insta DP:500,000+\n",
      "DV Statistics:100+\n",
      "DW Streaming:1,000+\n",
      "News Dz:10+\n",
      "quran-DZ:10+\n",
      "TN e Sevai TN EB Bill Patta Citta EC Birth All Hub:5,000+\n",
      "TNEB Bill Online Payment (Tamil):5,000+\n",
      "UP EB Bill Payment & Details:50+\n",
      "TN EC Online New:1,000+\n",
      "TN Patta /Chitta /EC New:100+\n",
      "EG Way Life:50+\n",
      "Equestria Amino for MLP:50,000+\n",
      "Ek Maratha:10,000+\n",
      "Hum Ek Hain 2.02:10+\n",
      "Sabka Malik Ek Sai:1,000+\n",
      "EO RAIPUR:10+\n",
      "Anime et Manga Amino en Français:50,000+\n",
      "Hornet - Gay Social Network:5,000,000+\n",
      "Amino: Communities and Chats:10,000,000+\n",
      "European Solidarity Corps:1,000+\n",
      "Reisedealz.eu:10+\n",
      "Eddsworld Amino:10,000+\n",
      "Rejoin Your Ex:100+\n",
      "Amleen Ey:1+\n",
      "Coupe Adhémar EY 2017:50+\n",
      "EZ Video Download for Facebook:1,000,000+\n",
      "Messages, Text and Video Chat for Messenger:10,000,000+\n",
      "All Social Networks:1,000,000+\n",
      "Messenger Messenger:10,000,000+\n",
      "Facebook Creator:1,000,000+\n",
      "Swift for Facebook Lite:500,000+\n",
      "Friendly for Facebook:1,000,000+\n",
      "Faster for Facebook Lite:1,000,000+\n",
      "Puffin for Facebook:500,000+\n",
      "Profile Tracker - Who Viewed My Facebook Profile:500,000+\n",
      "Pink Color for Facebook:500,000+\n",
      "Messenger:10,000,000+\n",
      "Stickers for Imo, fb, whatsapp:10,000+\n",
      "Who Viewed My Facebook Profile - Stalkers Visitors:5,000,000+\n",
      "Downloader plus for FB:500+\n",
      "MB Notifications for FB (Free):100,000+\n",
      "Phoenix - Facebook & Messenger:100,000+\n",
      "Faster Social for Facebook:100,000+\n",
      "Check Your Visitors on FB ?:5,000+\n",
      "Stickers for Facebook:1,000,000+\n",
      "Lite Messenger for Facebook Lite:10,000+\n",
      "Mini for Facebook lite:10,000+\n",
      "FB Advanced Search:50+\n",
      "funny Image Comments for FB:5,000+\n",
      "Unlimited Group Links - Whatsapp, FB, Telegram:10,000+\n",
      "FCB Connect - FC Barcelona:50,000+\n",
      "Frases Cristianas de Esperanza y Fe:100+\n",
      "FutureNet your social app:100,000+\n",
      "Alarm.fo – choose your info:1,000+\n",
      "FunForMobile Ringtones & Chat:5,000,000+\n",
      "Chat For Strangers - Video Chat:100,000+\n",
      "Fr Daoud Lamei:100,000+\n",
      "Naruto & Boruto FR:100+\n",
      "Frim: get new friends on local chat rooms:5,000,000+\n"
     ]
    }
   ],
   "source": [
    "for row in free_english_google: \n",
    "    if row[1] == 'SOCIAL':\n",
    "        print(row[0] + ':' + row[5])"
   ]
  },
  {
   "cell_type": "markdown",
   "id": "f6d7e150",
   "metadata": {
    "papermill": {
     "duration": 0.091516,
     "end_time": "2022-02-20T17:43:15.284987",
     "exception": false,
     "start_time": "2022-02-20T17:43:15.193471",
     "status": "completed"
    },
    "tags": []
   },
   "source": [
    "Again, the market for 'communication' apps is represented by a few large players."
   ]
  },
  {
   "cell_type": "code",
   "execution_count": 57,
   "id": "333ef4e0",
   "metadata": {
    "execution": {
     "iopub.execute_input": "2022-02-20T17:43:15.474336Z",
     "iopub.status.busy": "2022-02-20T17:43:15.473403Z",
     "iopub.status.idle": "2022-02-20T17:43:15.578137Z",
     "shell.execute_reply": "2022-02-20T17:43:15.578932Z",
     "shell.execute_reply.started": "2022-02-20T17:20:04.255865Z"
    },
    "papermill": {
     "duration": 0.202532,
     "end_time": "2022-02-20T17:43:15.579187",
     "exception": false,
     "start_time": "2022-02-20T17:43:15.376655",
     "status": "completed"
    },
    "tags": []
   },
   "outputs": [
    {
     "name": "stdout",
     "output_type": "stream",
     "text": [
      "Solitaire:10,000,000+\n",
      "Sonic Dash:100,000,000+\n",
      "PAC-MAN:100,000,000+\n",
      "Bubble Witch 3 Saga:50,000,000+\n",
      "Race the Traffic Moto:10,000,000+\n",
      "Marble - Temple Quest:10,000,000+\n",
      "Shooting King:10,000,000+\n",
      "Geometry Dash World:10,000,000+\n",
      "Jungle Marble Blast:5,000,000+\n",
      "Roll the Ball® - slide puzzle:100,000,000+\n",
      "Block Craft 3D: Building Simulator Games For Free:50,000,000+\n",
      "Farm Fruit Pop: Party Time:1,000,000+\n",
      "Love Balls:50,000,000+\n",
      "Piano Tiles 2™:100,000,000+\n",
      "Pokémon GO:100,000,000+\n",
      "Paint Hit:10,000,000+\n",
      "Snake VS Block:50,000,000+\n",
      "Rolly Vortex:10,000,000+\n",
      "Woody Puzzle:1,000,000+\n",
      "Stack Jump:10,000,000+\n",
      "The Cube:5,000,000+\n",
      "Extreme Car Driving Simulator:100,000,000+\n",
      "Bricks n Balls:1,000,000+\n",
      "The Fish Master!:1,000,000+\n",
      "Color Road:10,000,000+\n",
      "Draw In:10,000,000+\n",
      "PLANK!:500,000+\n",
      "Looper!:1,000,000+\n",
      "Trivia Crack:100,000,000+\n",
      "Will it Crush?:5,000,000+\n",
      "Tomb of the Mask:5,000,000+\n",
      "Baseball Boy!:10,000,000+\n",
      "Hello Stars:10,000,000+\n",
      "Tank Stars:10,000,000+\n",
      "Hole.io:10,000,000+\n",
      "Mini Golf King - Multiplayer Game:5,000,000+\n",
      "Flip the Gun - Simulator Game:10,000,000+\n",
      "Mad Skills BMX 2:1,000,000+\n",
      "MMX Hill Dash 2 – Offroad Truck, Car & Bike Racing:1,000,000+\n",
      "Word Link:10,000,000+\n",
      "Last Day on Earth: Survival:10,000,000+\n",
      "Partymasters - Fun Idle Game:10,000,000+\n",
      "Harry Potter: Hogwarts Mystery:10,000,000+\n",
      "Offroad Outlaws:1,000,000+\n",
      "Grim Soul: Dark Fantasy Survival:5,000,000+\n",
      "Disney Heroes: Battle Mode:5,000,000+\n",
      "New YAHTZEE® With Buddies Dice Game:5,000,000+\n",
      "Word Crossy - A crossword game:5,000,000+\n",
      "MLB TAP SPORTS BASEBALL 2018:1,000,000+\n",
      "Hero Hunters:5,000,000+\n",
      "Cooking Madness - A Chef's Restaurant Games:10,000,000+\n",
      "Ice Crush 2018 - A new Puzzle Matching Adventure:1,000,000+\n",
      "TerraGenesis - Space Colony:1,000,000+\n",
      "SHADOWGUN LEGENDS:1,000,000+\n",
      "RULES OF SURVIVAL:10,000,000+\n",
      "Mafia City:10,000,000+\n",
      "Cash, Inc. Money Clicker Game & Business Adventure:10,000,000+\n",
      "Dino War: Rise of Beasts:1,000,000+\n",
      "Tokyo Ghoul: Dark War:1,000,000+\n",
      "Last Shelter: Survival:5,000,000+\n",
      "Guns of Glory:10,000,000+\n",
      "Lineage 2: Revolution:5,000,000+\n",
      "Final Fantasy XV: A New Empire:10,000,000+\n",
      "Girls' Frontline:100,000+\n",
      "Chapters: Interactive Stories:1,000,000+\n",
      "Honkai Impact 3rd:1,000,000+\n",
      "Master of Eternity(MOE):100,000+\n",
      "Angry Birds 2:100,000,000+\n",
      "PUBG MOBILE:50,000,000+\n",
      "The Sims™ FreePlay:10,000,000+\n",
      "Best Fiends - Free Puzzle Game:10,000,000+\n",
      "Jurassic World™ Alive:5,000,000+\n",
      "Choices: Stories You Play:10,000,000+\n",
      "Solitaire TriPeaks:10,000,000+\n",
      "Merge Dragons!:5,000,000+\n",
      "The Walking Dead: Road to Survival:10,000,000+\n",
      "Hustle Castle: Fantasy Kingdom:10,000,000+\n",
      "Might & Magic: Elemental Guardians:500,000+\n",
      "Game of Thrones: Conquest™:1,000,000+\n",
      "Love Nikki-Dress UP Queen:5,000,000+\n",
      "Summoners War:50,000,000+\n",
      "FINAL FANTASY BRAVE EXVIUS:5,000,000+\n",
      "Fate/Grand Order (English):500,000+\n",
      "Lords Mobile: Battle of the Empires - Strategy RPG:50,000,000+\n",
      "War and Order:5,000,000+\n",
      "Candy Crush Saga:500,000,000+\n",
      "8 Ball Pool:100,000,000+\n",
      "Subway Surfers:1,000,000,000+\n",
      "Candy Crush Soda Saga:100,000,000+\n",
      "Toon Blast:10,000,000+\n",
      "Toy Blast:50,000,000+\n",
      "Clash Royale:100,000,000+\n",
      "Clash of Clans:100,000,000+\n",
      "Plants vs. Zombies FREE:100,000,000+\n",
      "Block Puzzle:5,000,000+\n",
      "Super Jim Jump - pixel 3d:1,000,000+\n",
      "Pou:500,000,000+\n",
      "Flow Free:100,000,000+\n",
      "Homescapes:10,000,000+\n",
      "Wordscapes:10,000,000+\n",
      "My Talking Angela:100,000,000+\n",
      "slither.io:100,000,000+\n",
      "Cooking Fever:100,000,000+\n",
      "Yes day:100,000,000+\n",
      "Gardenscapes:50,000,000+\n",
      "Fishdom:10,000,000+\n",
      "Galaxy Attack: Alien Shooter:10,000,000+\n",
      "Score! Hero:100,000,000+\n",
      "Magic Tiles 3:50,000,000+\n",
      "Jewels Star: OZ adventure:1,000,000+\n",
      "Granny:50,000,000+\n",
      "Dream League Soccer 2018:100,000,000+\n",
      "Sweet Fruit Candy:10,000,000+\n",
      "Fruits Bomb:10,000,000+\n",
      "My Talking Tom:500,000,000+\n",
      "Sniper 3D Gun Shooter: Free Shooting Games - FPS:100,000,000+\n",
      "Shoot Bubble - Fruit Splash:5,000,000+\n",
      "Rider:10,000,000+\n",
      "Zombie Tsunami:100,000,000+\n",
      "Doodle Jump:50,000,000+\n",
      "Helix Jump:100,000,000+\n",
      "Crossy Road:100,000,000+\n",
      "Temple Run 2:500,000,000+\n",
      "Talking Tom Gold Run:100,000,000+\n",
      "Alto's Adventure:10,000,000+\n",
      "DEER HUNTER 2018:10,000,000+\n",
      "Cover Fire: offline shooting games for free:10,000,000+\n",
      "Anger of stick 5 : zombie:50,000,000+\n",
      "CATS: Crash Arena Turbo Stars:50,000,000+\n",
      "Soul Knight:10,000,000+\n",
      "Major Mayhem:10,000,000+\n",
      "DINO HUNTER: DEADLY SHORES:10,000,000+\n",
      "Extreme Match:100,000+\n",
      "Power Rangers Dino Charge:10,000,000+\n",
      "Zombie Hunter: Post Apocalypse Survival Games:10,000,000+\n",
      "Agar.io:100,000,000+\n",
      "Zombie Hunter King:1,000,000+\n",
      "Battlelands Royale:1,000,000+\n",
      "Once Upon a Tower:1,000,000+\n",
      "TEKKEN™:5,000,000+\n",
      "diep.io:10,000,000+\n",
      "Arrow.io:10,000,000+\n",
      "BEYBLADE BURST app:10,000,000+\n",
      "Dragon Hills:10,000,000+\n",
      "Bus Rush: Subway Edition:100,000,000+\n",
      "Tiny Archers:5,000,000+\n",
      "Runner 3d like:100,000+\n",
      "War Robots:50,000,000+\n",
      "Dinosaur Simulator: Dino World:5,000,000+\n",
      "GUNSHIP BATTLE: Helicopter 3D:50,000,000+\n",
      "Quiz: Logo game:10,000,000+\n",
      "Jewels Legend - Match 3 Puzzle:10,000,000+\n",
      "Bubble Shooter:10,000,000+\n",
      "Bubble Shooter Genies:5,000,000+\n",
      "Blossom Blast Saga:10,000,000+\n",
      "Traffic Racer:100,000,000+\n",
      "Hill Climb Racing:100,000,000+\n",
      "Earn to Die 2:50,000,000+\n",
      "Bubble Shooter 2:5,000,000+\n",
      "Candy Bomb:10,000,000+\n",
      "Zombie Catchers:10,000,000+\n",
      "Gems or jewels ?:10,000,000+\n",
      "Angry Birds Rio:100,000,000+\n",
      "Candy Crush Jelly Saga:50,000,000+\n",
      "Cut the Rope FULL FREE:100,000,000+\n",
      "Hungry Shark Evolution:100,000,000+\n",
      "Power Pop Bubbles:10,000,000+\n",
      "Angry Birds Classic:100,000,000+\n",
      "Hill Climb Racing 2:100,000,000+\n",
      "Jewels classic Prince:5,000,000+\n",
      "Fruit Block - Puzzle Legend:10,000,000+\n",
      "Bubble Shooter Space:1,000,000+\n",
      "Swamp Attack:50,000,000+\n",
      "1LINE – One Line with One Touch:10,000,000+\n",
      "Stick War: Legacy:10,000,000+\n",
      "Bowmasters:50,000,000+\n",
      "Block Puzzle Classic Legend !:5,000,000+\n",
      "Marble Woka Woka 2018 - Bubble Shooter Match 3:10,000,000+\n",
      "Pixel Art: Color by Number Game:10,000,000+\n",
      "Super Jabber Jump 3:5,000,000+\n",
      "Rush:10,000,000+\n",
      "Jetpack Joyride:100,000,000+\n",
      "DEAD TARGET: FPS Zombie Apocalypse Survival Games:50,000,000+\n",
      "Word Search:50,000,000+\n",
      "Rope Hero Return of a Legend:1,000,000+\n",
      "Draw a Stickman: EPIC 2 Free:10,000,000+\n",
      "UNO ™ & Friends:50,000,000+\n",
      "4 in a Row:500,000+\n",
      "Super Mario Run:100,000,000+\n",
      "STARDOM: THE A-LIST:1,000,000+\n",
      "Glow Hockey:100,000,000+\n",
      "Asphalt 8: Airborne:100,000,000+\n",
      "Lep's World 2 🍀🍀:100,000,000+\n",
      "Law of Creation: A Playable Manga:500,000+\n",
      "Real City Car Driver:10,000,000+\n",
      "Rolling Sky:50,000,000+\n",
      "4 in a row:5,000,000+\n",
      "Four In A Line Free:5,000,000+\n",
      "Draw A Stickman:1,000,000+\n",
      "Four In A Line:1,000,000+\n",
      "Cardi B Piano Game:10,000+\n",
      "MORTAL KOMBAT X:10,000,000+\n",
      "► MultiCraft ― Free Miner! 👍:50,000,000+\n",
      "Pixel Gun 3D: Survival shooter & Battle Royale:50,000,000+\n",
      "Perfect Piano:50,000,000+\n",
      "Critical Ops:10,000,000+\n",
      "FRONTLINE COMMANDO: D-DAY:10,000,000+\n",
      "Fruit Ninja®:100,000,000+\n",
      "Beach Buggy Blitz:50,000,000+\n",
      "Vector:100,000,000+\n",
      "Dr. Driving:100,000,000+\n",
      "D Day World War II Commando Survival Shooting:100,000+\n",
      "Geometry Dash Meltdown:50,000,000+\n",
      "Bike Race Free - Top Motorcycle Racing Games:100,000,000+\n",
      "Smash Hit:100,000,000+\n",
      "Temple Run:100,000,000+\n",
      "Super Car F. Mod for MCPE:50,000+\n",
      "Gangstar Vegas - mafia game:50,000,000+\n",
      "Rolling G Sky:100,000+\n",
      "G-Switch 2:1,000,000+\n",
      "G-Switch 3:100,000+\n",
      "G-Switch:100,000+\n",
      "Radial-G : Infinity:50,000+\n",
      "Geometry Dash Lite:100,000,000+\n",
      "Car Driving Simulator Drift:1,000,000+\n",
      "RC City Police Heavy Traffic Racer:1,000,000+\n",
      "Motorbike Driving Simulator 3D:10,000,000+\n",
      "Helix:500,000+\n",
      "Solitaire!:10,000,000+\n",
      "iGun Pro -The Original Gun App:10,000,000+\n",
      "NinJump:10,000,000+\n",
      "Fidget Spinner:10,000,000+\n",
      "J Balvin Piano Tiles:500+\n",
      "Guess the song of J Balvin:1,000+\n",
      "J-Stars Victory VS Guide:10,000+\n",
      "KIM KARDASHIAN: HOLLYWOOD:10,000,000+\n",
      "Magic Tiles - TWICE Edition (K-Pop):100,000+\n",
      "Magic Tiles - Blackpink Edition (K-Pop):100,000+\n",
      "Korean Dungeon: K-Word 1000:10,000+\n",
      "Lep's World 🍀:50,000,000+\n",
      "Ant Smasher by Best Cool & Fun Games:100,000,000+\n",
      "Cheating Tom 3 - Genius School:10,000,000+\n",
      "M3-X5-X6-M-İ3-İ8 RACİNG 2018:100,000+\n",
      "M-acceleration 3D Car Racing:100,000+\n",
      "Super Hero M Craft Run:100,000+\n",
      "Don't Hug Me I'm So Scared:50,000+\n",
      "Rope'n'Fly 4:10,000,000+\n",
      "Cops N Robbers - FPS Mini Game:5,000,000+\n",
      "Cops N Robbers 2:1,000,000+\n",
      "Hide N Seek : Mini Game:500,000+\n",
      "Rope'n'Fly 3 - Dusk Till Dawn:10,000,000+\n",
      "Drag'n'Boom:1,000,000+\n",
      "Cops N Robbers:1,000,000+\n",
      "Mopar Drag N Brag:1,000,000+\n",
      "Draw N Guess Multiplayer:1,000,000+\n",
      "Rock N' Cash Casino Slots -Free Vegas Slot Games:100,000+\n",
      "Rock n Roll Music Quiz Game:10,000+\n",
      "Drink-O-Tron The Drinking Game:50,000+\n",
      "The Maze Runner:10,000,000+\n",
      "The Q - Live Trivia Game Network:100,000+\n",
      "Q*bert: Rebooted:1,000,000+\n",
      "Gun Shoot War Q:1,000,000+\n",
      "DJMAX TECHNIKA Q - Music Game:100,000+\n",
      "Stupid Zombies:10,000,000+\n",
      "Crime Wars S. Andreas:500,000+\n",
      "Dino T-Rex:10,000,000+\n",
      "U-48 Submarine Commander Free:500,000+\n",
      "Identity V:1,000,000+\n",
      "V for Voodoo:1,000,000+\n",
      "Sin City Crime Simulator V - Gangster:100,000+\n",
      "The Gang Sniper V. Pocket Edition.:500,000+\n",
      "San Andreas: Gang Crime V:100,000+\n",
      "Grand Stickman Cover V:100,000+\n",
      "Words With Friends Classic:50,000,000+\n",
      "Draw Something Classic:50,000,000+\n",
      "Extreme X Ray Robot Stunts:5,000,000+\n",
      "Casino X - Free Online Slots:1,000,000+\n",
      "X-WOLF:100,000+\n",
      "Hero Fighter X:500,000+\n",
      "Slendrina X:1,000,000+\n",
      "Robocar X Ray:1,000,000+\n",
      "Space X: Sky Wars of Air Force:1,000,000+\n",
      "Real Gangster Crime:10,000,000+\n",
      "Gangster Town:5,000,000+\n",
      "Rope Hero 3:5,000,000+\n",
      "Experiment Z - Zombie:10,000,000+\n",
      "Z Champions:1,000,000+\n",
      "WithstandZ - Zombie Survival!:1,000,000+\n",
      "Zombie War Z : Hero Survival Rules:100,000+\n",
      "DRAGON BALL Z DOKKAN BATTLE:10,000,000+\n",
      "Cube Z (Pixel Zombies):1,000,000+\n",
      "GALAK-Z: Variant Mobile:10,000+\n",
      "Reload: The Z-Team:100,000+\n",
      "Rage Z: Multiplayer Zombie FPS Online Shooter:500,000+\n",
      "Pixel Z Gunner 3D - Battle Survival Fps:1,000,000+\n",
      "Saiyan Z: Super SSJ Ultimate Combat:10,000+\n",
      "Mini DAYZ: Zombie Survival:1,000,000+\n",
      "Route Z:500,000+\n",
      "Dragon X Adventure: Warrior Z:100,000+\n",
      "Ultimate Fighter Z:5,000+\n",
      "Angry Birds Friends:50,000,000+\n",
      "Angry Birds Go!:50,000,000+\n",
      "Angry Birds Star Wars:100,000,000+\n",
      "Solitaire: Decked Out Ad Free:500,000+\n",
      "AE Jewels 2: Island Adventures:10,000+\n",
      "AE Bingo: Offline Bingo Games:500,000+\n",
      "AE Jewels:50,000+\n",
      "AE Spider Solitaire:500,000+\n",
      "AE Coin Mania : Arcade Fun:1,000,000+\n",
      "Mupen64+AE FREE (N64 Emulator):1,000,000+\n",
      "AE Lucky Fishing:1,000,000+\n",
      "AE Video Poker:50,000+\n",
      "AE Solitaire:50,000+\n",
      "AE Blackjack:100,000+\n",
      "AE Gun Ball: arcade ball games:1,000,000+\n",
      "AE 3D MOTOR :Racing Games Free:5,000,000+\n",
      "AE GTO Racing:100,000+\n",
      "AE 3D Moto 3:100,000+\n",
      "AE FreeCell:10,000+\n",
      "AE City Jump:10,000+\n",
      "AE Angry Chef:10,000+\n",
      "AE Master Moto:1,000,000+\n",
      "AE Fishing Hunter:1,000+\n",
      "Gun Strike Shoot:10,000,000+\n",
      "AG Drive 3D:10,000+\n",
      "VR AG Racing for Cardboard:1,000+\n",
      "AH-1 Viper Cobra Ops - helicopter flight simulator:100,000+\n",
      "Ah! Coins:50,000+\n",
      "Baby Game Animal Jam Free:500+\n",
      "Blackjack aj Poker:1,000+\n",
      "Puppy Shooting an AK-47: Platformer Zombie Game:1,000+\n",
      "Crisis Action: 2018 NO.1 FPS:10,000,000+\n",
      "AK-47 3D:10,000+\n",
      "AK-47 Assult Rifle: Gun Shooting Simulator Game:500+\n",
      "Counter Terrorist Attack:10,000,000+\n",
      "AK Blackjack:1,000+\n",
      "GUN ZOMBIE:5,000,000+\n",
      "Shoot Strike War Fire:10,000,000+\n",
      "I Am Innocent:1,000,000+\n",
      "What Am I? - Brain Teasers:100,000+\n",
      "Who am I? (Biblical):500,000+\n",
      "Vikings: an Archer's Journey:1,000,000+\n",
      "Draw a Stickman: EPIC Free:10,000,000+\n",
      "THE KING OF FIGHTERS-A 2012(F):5,000,000+\n",
      "Fast like a Fox:5,000,000+\n",
      "Ao Oni2:1,000,000+\n",
      "Arena of Valor: 5v5 Arena Game:10,000,000+\n",
      "Mobile Legends: Bang Bang:100,000,000+\n",
      "Kill Shot Bravo: Sniper FPS:10,000,000+\n",
      "Carnivores: Dinosaur Hunter:1,000,000+\n",
      "Hopeless Land: Fight for Survival:5,000,000+\n",
      "Heroes Arena:10,000,000+\n",
      "Undead Assault:100,000+\n",
      "Guess the Class 🔥 AQW:1,000+\n",
      "Iron Blade:10,000,000+\n",
      "Evil Apples: A Dirty Card Game:5,000,000+\n",
      "Ghost Snap AR Horror Survival:100,000+\n",
      "The Walking Dead: Our World:1,000,000+\n",
      "Ingress:10,000,000+\n",
      "Flat Pack:100,000+\n",
      "Crayola Color Blaster:1,000+\n",
      "Guns of Boom - Online Shooter:10,000,000+\n",
      "Guns Royale - Multiplayer Blocky Battle Royale:100,000+\n",
      "Stack It AR:100,000+\n",
      "Arcraft - AR Sandbox:10,000+\n",
      "AR Tank Battle:10,000+\n",
      "Sonic the Hedgehog™ Classic:10,000,000+\n",
      "Pacific Navy Fighter C.E. (AS):500,000+\n",
      "My OldBoy! Free - GBC Emulator:5,000,000+\n",
      "My Boy! Free - GBA Emulator:10,000,000+\n",
      "SAMURAI vs ZOMBIES DEFENSE:5,000,000+\n",
      "Five Nights at Freddy's 4 Demo:10,000,000+\n",
      "Five Nights at Freddy's 3 Demo:10,000,000+\n",
      "Nights at Cube Pizzeria 3D – 2:5,000,000+\n",
      "Rivals at War: Firefight:5,000,000+\n",
      "7 Nights at Pixel Pizzeria - 2:1,000,000+\n",
      "Nights at Slender Pizzeria 3D:100,000+\n",
      "One Night at Golden Freddy's:100,000+\n",
      "Nights at Cube Pizzeria 3D – 4:500,000+\n",
      "Five Nights at Neighbor House:100,000+\n",
      "Asylum Night Shift - Five Nights Survival:5,000,000+\n",
      "Two Nights at jumpscare:100,000+\n",
      "Five Nights at Pizzeria:100,000+\n",
      "Block Battles: Heroes at War - Multiplayer PVP:500,000+\n",
      "Five Nights at Flappy's:10,000+\n",
      "5 Nights at Cube Pizzeria City:100,000+\n",
      "Au Mobile: Audition Chính Hiệu:1,000,000+\n",
      "AU Mobile Indonesia:1,000,000+\n",
      "Super Dancer:1,000,000+\n",
      "Au-allstar for KR:100,000+\n",
      "Super Dancer VN:500,000+\n",
      "Love Dance:1,000,000+\n",
      "Avatar Musik:1,000,000+\n",
      "Armored Warfare: Assault:100,000+\n",
      "Auction Wars : Storage King:1,000,000+\n",
      "iSniper 3D Arctic Warfare:1,000,000+\n",
      "Modern Action Commando 3D:100,000+\n",
      "Call of Duty®: Heroes:10,000,000+\n",
      "AXE.IO - Brutal Survival Battleground:500,000+\n",
      "Axe Champ:10,000+\n",
      "Axe Champ Hit:100+\n",
      "Axe Champion:5,000+\n",
      "Vikings Stickman Axe Fighting:100,000+\n",
      "Axetatic - Axe Throwing Game:1,000+\n",
      "Axe Champs! Wars:50+\n",
      "Axe Knight:5,000+\n",
      "The Vikings:1,000,000+\n",
      "Knife&Axe Throwing:50,000+\n",
      "Stickman and Axe:50,000+\n",
      "Axe Throw: Flip Champ Axes Champion Throwing Games:50+\n",
      "Axe Man:1,000+\n",
      "Dead Zombie Evil Killer:Axe:10,000+\n",
      "Zlax.io Zombs Luv Ax:500,000+\n",
      "Clash of Axe: Flippy Lumberjack Action X:1,000+\n",
      "Flippy Axe : Flip The Knife & Axe Simulator:100+\n",
      "Cyborg AX-001:50+\n",
      "Woodman Deluxe:5,000+\n",
      "¡Ay Metro!:10,000+\n",
      "Ay Vamos - PJ. Balvin - Piano:5+\n",
      "San Andreas Crime Stories:10,000,000+\n",
      "Miami crime simulator:10,000,000+\n",
      "Strange Hero: Future Battle:10,000,000+\n",
      "Mad Day - Truck Distance Game:5,000,000+\n",
      "AZ Rockets:10,000+\n",
      "Ba Cristi:10,000+\n",
      "Banana Kong:100,000,000+\n",
      "Space Shooter : Galaxy Attack:10,000,000+\n",
      "BC Slots - The Lost Reels FREE:10,000+\n",
      "Millionaire : Who want to be?:100,000+\n",
      "Beauty Idol: Fashion Queen:1,000,000+\n",
      "Hard Time (Prison Sim):10,000,000+\n",
      "Battlefield™ Companion:10,000,000+\n",
      "BF at Sea Refueled:10,000+\n",
      "Bullet Force:10,000,000+\n",
      "BF Combat: Genesis:100,000+\n",
      "Combat BF: Black Ops 3:500,000+\n",
      "BF Frontline City:1,000,000+\n",
      "Faketalk - Chatbot:1,000,000+\n",
      "Block Gun 3D: Call of Destiny:1,000,000+\n",
      "BLOOD & GLORY: IMMORTALS:1,000,000+\n",
      "Block Gun 3D: Ghost Ops:5,000,000+\n",
      "Rento - Dice Board Game Online:10,000,000+\n",
      "Survival Run with Bear Grylls:5,000,000+\n",
      "VIP Backgammon Free : Play Backgammon Online:10,000+\n",
      "Out of Bounds BH Demo:10+\n",
      "Bi-Tank:50+\n",
      "Bike Rivals:10,000,000+\n",
      "Bingo Party - Free Bingo Games:1,000,000+\n",
      "BJ's Bingo & Gaming Casino:10,000+\n",
      "BJ Bridge Free (2018):10,000+\n",
      "BJ Bridge Acol Beginner 2018:5,000+\n",
      "BJ Bridge Standard American 2018:1,000+\n",
      "BJ Strategy Tester:100+\n",
      "Cards Casino:Video Poker & BJ:10,000+\n",
      "Real Casino:Slot,Keno,BJ,Poker:50,000+\n",
      "Basic Strategy Training BJ 21:500+\n",
      "BJ card game blackjack:500+\n",
      "BLACKJACK!:10,000,000+\n",
      "Blackjack:1,000,000+\n",
      "BlackJack -21 Casino Card Game:100,000+\n",
      "BlackJack 21 Pro:500,000+\n",
      "Ultimate BlackJack 3D FREE:100,000+\n",
      "Blood Domination - BL Game:10,000+\n",
      "Heirs & Graces:5,000+\n",
      "Lust in Terror Manor - The Truth Unveiled | Otome:10,000+\n",
      "BL!TZ - Endless:100+\n",
      "BL-ED: From BLUE to RED:10+\n",
      "Teen Patti by BL Games:100,000+\n",
      "Word Hunt:500+\n",
      "Skip-Bo™ Free:1,000,000+\n",
      "Red Ball 4:50,000,000+\n",
      "Skater Boy:100,000,000+\n",
      "Sic Bo Online! Free Casino:100,000+\n",
      "Hambo:5,000,000+\n",
      "Sic Bo Rave:10,000+\n",
      "Thai Sic Bo:1,000,000+\n",
      "Bounce Classic:10,000,000+\n",
      "Bomber Friends:10,000,000+\n",
      "Sic Bo (Tai Xiu) - Multiplayer Casino:10,000+\n",
      "Hungry Shark World:50,000,000+\n",
      "Carros Rebaixados BR:1,000,000+\n",
      "Texas HoldEm Poker Deluxe (BR):10,000+\n",
      "Brick Breaker BR:5+\n",
      "Black Commando | Special Ops | FPS Shooting:100,000+\n",
      "True Skateboarding Ride Skateboard Game Freestyle:1,000,000+\n",
      "Bullshit! (Free):10,000+\n",
      "Bullshite!:10,000+\n",
      "Block Strike:10,000,000+\n",
      "BombSquad Remote:1,000,000+\n",
      "BS Tractor:100+\n",
      "BS Chopper:100+\n",
      "B@dL!bs Lite:1,000+\n",
      "kick the buddy:10,000+\n",
      "Bu Hangi Ünlü?:10+\n",
      "Bu Nedir ?:50+\n",
      "BU HANGİ ŞARKI ? - 2018:100+\n",
      "Bu Hangi Oyun ?:50+\n",
      "Bu Hangi Youtuber ?:1,000+\n",
      "Nedir Bu ?:10+\n",
      "Kick the Buddy:50,000,000+\n",
      "Bu Hangi Dizi ?:1,000+\n",
      "Smashy Road: Arena:5,000,000+\n",
      "BW-Go Free:10,000+\n",
      "BW-Joseki:10,000+\n",
      "BW-DGS plugin:1,000+\n",
      "BW-GnuGo:5,000+\n",
      "BW Switch:10+\n",
      "C3-C4-PİCASSO-ELYSEE RACİNG:1,000+\n",
      "Driving Cars Simulator Citroen:100+\n",
      "RC Monster Truck - Offroad Driving Simulator:5,000,000+\n",
      "Super Jabber Jump:10,000,000+\n",
      "Commando Adventure Assassin:5,000,000+\n",
      "Roulette Advisor LITE:5,000+\n",
      "Mini Motor Racing WRT:1,000,000+\n",
      "BMX Boy Bike Stunt Rider Game:10,000+\n",
      "World of Warriors: Duel:500,000+\n",
      "Driving Zone:1,000,000+\n",
      "Color by Number – New Coloring Book:5,000,000+\n",
      "Car Race by Fun Games For Free:1,000,000+\n",
      "Slot Machines by IGG:10,000,000+\n",
      "Bingo by IGG: Top Bingo+Slots!:5,000,000+\n",
      "Voxel - 3D Color by Number & Pixel Coloring Book:1,000,000+\n",
      "BZ Zombie VR:1,000+\n",
      "BZ Fingers:50+\n",
      "Sniper Gun Shot 3D: Impossible Missions:100+\n",
      "Elite Commando Shooting War:100+\n",
      "Animal Hunting: Sniper Shooting:50+\n",
      "Creative Destruction:5,000,000+\n",
      "Sonic CD Classic:1,000,000+\n",
      "ARK: Survival Evolved:500,000+\n",
      "Grim Tales: The Wishes CE:100,000+\n",
      "CrossFire: Legends:5,000,000+\n",
      "Special Forces Group 2:10,000,000+\n",
      "Motocross Motorbike Simulator Offroad:5,000,000+\n",
      "Sermon on Proverbs CH Spurgeon:10,000+\n",
      "Chicken Invaders 3:5,000,000+\n",
      "Trovami se ci riesci:10+\n",
      "CJ: Strike Back:1,000,000+\n",
      "The Grand Wars: San Andreas:1,000,000+\n",
      "The Grand Way:500,000+\n",
      "San Andreas City : Auto Theft Car gangster:100,000+\n",
      "Miami Crime Vice Town:10,000,000+\n",
      "CJ Poker Odds Calculator:50,000+\n",
      "Gangster City Auto Theft:50,000+\n",
      "China Town Auto Theft 2:50,000+\n",
      "Grand Gangsters 3D:10,000,000+\n",
      "Gang Wars of San Andreas:1,000,000+\n",
      "Sin City Hero : Crime Simulator of Vegas:100,000+\n",
      "Zombie Death Shooter:1,000,000+\n",
      "Project Grand Auto Town Sandbox Beta:500,000+\n",
      "CONTRACT KILLER: ZOMBIES (NR):5,000,000+\n",
      "CKZ ORIGINS:1,000,000+\n",
      "211:CK Lite:10+\n",
      "CONTRACT KILLER: ZOMBIES:5,000,000+\n",
      "Can Knockdown 3:10,000,000+\n",
      "Sky Streaker - Gumball:5,000,000+\n",
      "Just A Regular Arcade:1,000,000+\n",
      "Dreamland Arcade - Steven Universe:500,000+\n",
      "Adventure Time Run:1,000,000+\n",
      "Glitch Fixers: Powerpuff Girls:5,000,000+\n",
      "StirFry Stunts - We Bare Bears:10,000,000+\n",
      "Angelo Rules - Crazy day:1,000,000+\n",
      "Multicraft Miner Exploration:1,000,000+\n",
      "Alex & Co Quiz:1,000+\n",
      "Them Bombs: co-op board game play with 2-4 friends:100,000+\n",
      "Chinese Chess ( Xiangqi Free ):50,000+\n",
      "Chinese Chess / Co Tuong:500,000+\n",
      "Call of Mini™ Zombies 2:5,000,000+\n",
      "2-Player Co-op Zombie Shoot:1,000+\n",
      "IV Go（get IV for Pokemon）:1,000,000+\n",
      "CP Trivia:100+\n",
      "CQ: Lost In Transmission:10+\n",
      "Palavras la cq:100,000+\n",
      "Gunship Modern Combat 3D:500,000+\n",
      "Sniper Killer Shooter:10,000,000+\n",
      "Snowboard Racing Free Fun Game:100,000+\n",
      "Toughest Game Ever 2:5,000,000+\n",
      "RIDE ZERO:100,000+\n",
      "Critical Strike CS: Counter Terrorist Online FPS:1,000,000+\n",
      "Assault Line CS Online Fps Go:1,000,000+\n",
      "Standoff 2:10,000,000+\n",
      "Counter Online FPS Game:5,000,000+\n",
      "Combat Strike CS 🔫 Counter Terrorist Attack FPS💣:100,000+\n",
      "Ultimate Quiz for CS:GO - Skins | Cases | Players:100,000+\n",
      "Аim Training for CS:100,000+\n",
      "Sniper Traning for CS GO:50,000+\n",
      "Your rank CS:GO:100,000+\n",
      "Mobile CS:GO:100,000+\n",
      "Counter Terrorist Gun Strike CS: Special Forces:10,000+\n",
      "Shooter Sniper CS - FPS Games:1,000,000+\n",
      "CS16Client:500,000+\n",
      "Counter Attack - Multiplayer FPS:1,000,000+\n",
      "What's Your CS:GO rank?:10,000+\n",
      "Map Callouts for CS:GO:50,000+\n",
      "Quiz CS:GO players:50,000+\n",
      "Puzzle for CS:GO:10,000+\n",
      "CT-ART 4.0 (Chess Tactics 1200-2400 ELO):100,000+\n",
      "Moto Rider:10,000,000+\n",
      "Shadow Fight 2:100,000,000+\n",
      "Crazy Wheels:10,000,000+\n",
      "Cartoon Wars: Blade:5,000,000+\n",
      "Racing CX:500+\n",
      "Freecell CY:50,000+\n",
      "Cytus:5,000,000+\n",
      "Shadowverse CCG:1,000,000+\n",
      "SuperBikers 2:500,000+\n",
      "Dan the Man: Action Platformer:10,000,000+\n",
      "Geometry Dash SubZero:10,000,000+\n",
      "Metal Soldiers 2:10,000,000+\n",
      "Quiz TRUE or FALSE:50,000+\n",
      "Run Sausage Run!:10,000,000+\n",
      "Knife Hit:10,000,000+\n",
      "The Visitor:5,000,000+\n",
      "Just Dance Now:10,000,000+\n",
      "DRAGON BALL LEGENDS:5,000,000+\n",
      "DB Ultra Saiyan Battle:1,000+\n",
      "Injustice 2:5,000,000+\n",
      "Injustice: Gods Among Us:10,000,000+\n",
      "Ultimate DC Challenge:10,000+\n",
      "Justice League Action Run:1,000,000+\n",
      "Quiz DC:1,000+\n",
      "MARVEL Contest of Champions:50,000,000+\n",
      "MARVEL Avengers Academy:10,000,000+\n",
      "DC Universe Quiz:500+\n",
      "Power Rangers: Legacy Wars:10,000,000+\n",
      "WDAMAGE: Car Crash Engine:1,000,000+\n",
      "Word Search multilingual:1,000,000+\n",
      "Piano Free - Keyboard with Magic Tiles Music Games:50,000,000+\n",
      "Racing in Car 2:50,000,000+\n",
      "Bike Racing 3D:50,000,000+\n",
      "Truck Driver Cargo:10,000,000+\n",
      "Checkers:10,000,000+\n",
      "Scratch Logo Quiz. Challenging brain puzzle:10,000,000+\n",
      "DF Squid:100+\n",
      "DG Mobile:1,000+\n",
      "Destroy Gunners Σ:1,000,000+\n",
      "DH Texas Poker - Texas Hold'em:10,000,000+\n",
      "DEER HUNTER CLASSIC:50,000,000+\n",
      "DEER HUNTER RELOADED:5,000,000+\n",
      "DH Pineapple Poker OFC:100,000+\n",
      "Call of Mini™ Dino Hunter:10,000,000+\n",
      "Bike Mayhem Free:10,000,000+\n",
      "Car Crash III Beam DH Real Damage Simulator 2018:10,000+\n",
      "DEER HUNTER CHALLENGE:5,000,000+\n",
      "Defender:10,000,000+\n",
      "Texas HoldEm Poker Deluxe:10,000,000+\n",
      "Deck Heroes: Legacy:10,000,000+\n",
      "Shred! Downhill Mountainbiking:1,000,000+\n",
      "Archery Physics Objects Destruction Apple shooter:100,000+\n",
      "Fancy Pants Adventures:1,000,000+\n",
      "Lep's World 3 🍀🍀🍀:50,000,000+\n",
      "Robbery Bob:10,000,000+\n",
      "Nyan Cat: Lost In Space:10,000,000+\n",
      "DK Quiz:50,000+\n",
      "Super DK vs Kong Brother Advanced Free Classic:10,000+\n",
      "DM EVOLUTION:10,000+\n",
      "DM Adventure:10+\n",
      "Destiny Ninja Shall we date otome games love story:500,000+\n",
      "Free Poker Games : Downtown Casino - Texas Holdem:50,000+\n",
      "NARUTO X BORUTO NINJA VOLTAGE:5,000,000+\n",
      "Does not Commute:5,000,000+\n",
      "Kung Fu Do Fighting:10,000,000+\n",
      "How well do you know me?:100,000+\n",
      "Dude Perfect 2:10,000,000+\n",
      "Endless Ducker:500,000+\n",
      "that's lit:100,000+\n",
      "Dash Quest Heroes:500,000+\n",
      "Jungle book-The Great Escape:100,000+\n",
      "Bunny Skater:10,000,000+\n",
      "The Walking Zombie: Dead City:1,000,000+\n",
      "Dr. Parking 4:50,000,000+\n",
      "Dr. Driving 2:10,000,000+\n",
      "Dr. Parker : Parking Simulator:1,000,000+\n",
      "Dr. Parker : Real car parking simulation:1,000,000+\n",
      "Dr. Rocket:1,000,000+\n",
      "Dr. Dominoes:500,000+\n",
      "Dr. Gomoku:5,000,000+\n",
      "Dr. Chess:1,000,000+\n",
      "Dr Dre - Beatmaker:10,000+\n",
      "Dr Driving Racer:10,000+\n",
      "Dr. Shogi:1,000,000+\n",
      "NDS Emulator - For Android 6:1,000,000+\n",
      "Free DS Emulator:1,000,000+\n",
      "nds4droid:10,000,000+\n",
      "MegaNDS (NDS Emulator):500,000+\n",
      "EmuBox - Fast Retro Emulator:50,000+\n",
      "Simple x3DS Emulator - BETA:50,000+\n",
      "DS Tower Defence:100,000+\n",
      "RetroArch:1,000,000+\n",
      "Wheelie Challenge:5,000,000+\n",
      "Sword of Chaos - Lame du Chaos:100,000+\n",
      "Hotel Insanity:100,000+\n",
      "Shoot! DX - lights for FREE:100+\n",
      "American Sniper City Fight Shooting Assassin:50,000+\n",
      "Street Skater 3D:10,000,000+\n",
      "DZ-JOKER:100+\n",
      "Super ball DZ:1,000+\n",
      "Ludo Dz:500+\n",
      "Need for Speed™ No Limits:50,000,000+\n",
      "Peggle Blast:5,000,000+\n",
      "Heroes of Dragon Age:1,000,000+\n",
      "SCRABBLE:5,000,000+\n",
      "Asphalt Xtreme: Rally Racing:10,000,000+\n",
      "Modern Combat 5: eSports FPS:100,000,000+\n",
      "Mass Effect: Andromeda APEX HQ:100,000+\n",
      "Mirror’s Edge™ Companion:100,000+\n",
      "Gear.Club - True Racing:1,000,000+\n",
      "Mental Hospital:EB 2 Lite:100,000+\n",
      "EC Mover:10+\n",
      "EF Jumper:100+\n",
      "E.G. Chess Free:10,000+\n",
      "L.A. Crime Stories 2 Mad City Crime:100,000+\n",
      "LA Stories 4 New Order Sandbox 2018:1,000,000+\n",
      "L.A. Crime Stories Mad City Crime:1,000,000+\n",
      "Miraculous Ladybug & Cat Noir - The Official Game:10,000,000+\n",
      "Betul Ke Bohong Eh?:100,000+\n",
      "Eh Amego!:500,000+\n",
      "MazeMilitia Classic Multiplayer Shooting Game:50,000+\n",
      "ZOMBIE RIPPER:500,000+\n",
      "Horror Hospital:1,000,000+\n",
      "Mad Skills Motocross:1,000,000+\n",
      "Pineapple Pen:10,000,000+\n",
      "Guess The Emoji:5,000,000+\n",
      "Camping RV Caravan Parking 3D:500,000+\n",
      "Grand Bat Superhero Flying Assault Rescue Mission:500,000+\n",
      "Zombie Frontier:10,000,000+\n",
      "RUN JUMP RUN-fun games for free:100,000+\n",
      "Tamago egg:5,000+\n",
      "Let's Poke The Egg:1,000,000+\n",
      "Survival: Prison Escape:10,000,000+\n",
      "TAMAGO Monsters Returns:1,000,000+\n",
      "Traffic Sniper Counter Attack:1,000,000+\n",
      "Rope Superhero Unlimited:1,000,000+\n",
      "Extreme Super Car Driving 3D:1,000,000+\n",
      "Fast Racing Car Simulator:1,000,000+\n",
      "Beach Head Shooting Assault:100,000+\n",
      "Stickman Warriors Heroes 2:1,000,000+\n",
      "Dead Target Zombie Shooting US Sniper Killer Squad:50,000+\n",
      "Dubai Racing:500,000+\n",
      "Robot Fighting Games™ - Real Boxing Champions 3D:5,000+\n",
      "Ghost Hunting camera:500,000+\n",
      "Santa Panda Bubble Christmas:10,000+\n",
      "Racing Moto:50,000,000+\n",
      "Train Racing Games 3D 2 Player:10,000,000+\n",
      "Adivina el cantante de Trap y Reggaeton:100,000+\n",
      "Fernanfloo:10,000,000+\n",
      "Adivina el Emoji:100,000+\n",
      "Red Hands – 2-Player Games:10,000,000+\n",
      "Get 'Em:500,000+\n",
      "Live Hold’em Pro Poker - Free Casino Games:10,000,000+\n",
      "Beach Shoot Em Up: Head Hunter:500,000+\n",
      "Stick 'Em Up 2 Starter Edition:100,000+\n",
      "Shoot`Em Down: Shooting game:500,000+\n",
      "Texas Hold’em Poker + | Social:500,000+\n",
      "PlayTexas Hold'em Poker Free:1,000,000+\n",
      "HAWK – Force of an Arcade Shooter. Shoot 'em up:5,000,000+\n",
      "Texas Hold'em Poker:1,000,000+\n",
      "Poker Live! 3D Texas Hold'em:100,000+\n",
      "Fun Texas Hold'em Poker:500,000+\n",
      "Dragonplay™ Poker Texas Holdem:1,000,000+\n",
      "Punch em:500,000+\n",
      "Zynga Poker – Texas Holdem:50,000,000+\n",
      "Boyaa Poker (En) – Social Texas Hold’em:1,000,000+\n",
      "World Series of Poker – WSOP Free Texas Holdem:10,000,000+\n",
      "Texas Holdem Poker Pro:5,000,000+\n",
      "Rage Fight of Streets - Beat Em Up Game:100,000+\n",
      "HANGAME Casino - Baccarat & Texas Hold'em:500,000+\n",
      "PokerStars Play: Free Texas Holdem Poker Game:500,000+\n",
      "Texas Holdem Poker:10,000,000+\n",
      "Big Fish Casino – Play Slots & Vegas Games:10,000,000+\n",
      "TRANSFORMERS: Forged to Fight:10,000,000+\n",
      "Texas Holdem & Omaha Poker: Pokerist:10,000,000+\n",
      "Governor of Poker 2 - OFFLINE POKER GAME:5,000,000+\n",
      "Squadron - Bullet Hell Shooter:10,000,000+\n",
      "Words With Friends – Play Free:10,000,000+\n",
      "Classic Words Solo:5,000,000+\n",
      "Chess Free:50,000,000+\n",
      "Sports Car Driving Simulator 2018:500,000+\n",
      "The Great Wobo Escape Ep. 1:500,000+\n",
      "The Visitor: Ep.2 - Sleepover Slaughter:1,000,000+\n",
      "The Visitor: Ep.1 - Kitty Cat Carnage:500,000+\n",
      "Dr.Slender Ep 1 Guide (Eng):10,000+\n",
      "Decay: The Mare - Ep.1 (Trial):100,000+\n",
      "EP Gem Hunter:1,000+\n",
      "Gate Of Death Ep: 1:100+\n",
      "Oggy:5,000,000+\n",
      "Invasion: Defend EU:50+\n",
      "R-EU-READY:500+\n",
      "Speed Racing Ultimate 2:1,000,000+\n",
      "Countries of the European Union (Quiz):100+\n",
      "I Know Stuff:5,000,000+\n",
      "Water Surfer Racing In Moto:1,000,000+\n",
      "Ew, the small alien:10+\n",
      "Rescue Robots Survival Games:5,000,000+\n",
      "Bike Race - Bike Blast Rush:10,000,000+\n",
      "ETERNITY WARRIORS 2:5,000,000+\n",
      "Snes9x EX+:5,000,000+\n",
      "Virtual Dice EX:5,000+\n",
      "Eyes - The Scary Horror Game Adventure:10,000,000+\n",
      "Sudoku Master:1,000,000+\n",
      "Jungle Monkey Run:10,000,000+\n",
      "Ez Mirror Match:500,000+\n",
      "CNY Slots : Gong Xi Fa Cai 发财机:5,000+\n",
      "Golden HoYeah Slots - Real Casino Slots:5,000,000+\n",
      "FaFaFa™ Gold Casino: Free slot machines:1,000,000+\n",
      "Heart of Vegas™ Slots – Free Slot Casino Games:10,000,000+\n",
      "Garena Free Fire:100,000,000+\n",
      "FG SPINNER:10+\n",
      "BROTHER IN WARS: GUNNER CITY WARLORDS:1,000,000+\n",
      "Angry Birds Space HD:5,000,000+\n",
      "Police Car Driver:10,000,000+\n",
      "Modern Sniper Strike: Best Commando Action 2k18:10,000+\n",
      "Moto Fighter 3D:10,000,000+\n",
      "BMX Boy:50,000,000+\n",
      "Crazy Bike attack Racing New: motorcycle racing:5,000,000+\n",
      "Fields of Battle:1,000,000+\n",
      "Family Guy The Quest for Stuff:10,000,000+\n",
      "Toy Attack:500,000+\n",
      "SnowMobile Parking Adventure:1,000,000+\n",
      "Zombie Sniper 3D III:500,000+\n",
      "Shoot Hunter-Gun Killer:50,000,000+\n",
      "Fast Motorcycle Driver 2016:1,000,000+\n",
      "Forgotten Hill: Fall:50,000+\n",
      "Forgotten Hill Mementoes:100,000+\n",
      "Forgotten Hill: Surgery:100,000+\n",
      "Forgotten Hill: Puppeteer:100,000+\n",
      "FJ Final Join , Circles Game:1,000+\n",
      "Offroad drive : 4x4 driving game:100,000+\n",
      "Rope Hero: Vice Town:10,000,000+\n",
      "Drive 4x4 Luxury SUV Jeep:500,000+\n",
      "Motocross Mayhem:1,000,000+\n",
      "Dino Defends king 3 – Dinosaur T rex Hunter Games:50,000+\n",
      "Block Gun 3D: Haunted Hollow:1,000,000+\n",
      "Navy Gunner Shoot War 3D:10,000,000+\n",
      "Drift Legends:1,000,000+\n",
      "FK (FlightKid):10+\n",
      "Toy Truck Rally 3D:50,000,000+\n",
      "PRO MX MOTOCROSS 2:5,000,000+\n",
      "FRONTLINE COMMANDO:10,000,000+\n",
      "Gun Builder ELITE:1,000,000+\n",
      "Magnum 3.0 Gun Custom SImulator:1,000,000+\n",
      "Gun Club Armory:1,000,000+\n",
      "Armed Cam Gun Pack:10,000+\n",
      "Fo Fo Fish:50+\n",
      "4x4 Jeep Racer:1,000,000+\n",
      "Frontline Terrorist Battle Shoot: Free FPS Shooter:1,000,000+\n",
      "Mad Dash Fo' Cash:100+\n",
      "Race Manager FP:5,000+\n",
      "FP Runner:1,000+\n",
      "Modern Counter Terrorist FPS Shoot:100,000+\n",
      "Monster Ride Pro:10+\n",
      "BEBONCOOL GAMEPAD V1.0:100,000+\n",
      "Modern Strike Online:10,000,000+\n",
      "Modern Counter Terror Attack – Shooting Game:50,000+\n",
      "Big Hunter:10,000,000+\n",
      "Modern Counter Global Strike 3D:50,000+\n",
      "Modern Counter Global Strike 3D V2:50,000+\n",
      "Winter Wonderland:50,000+\n",
      "Soccer Clubs Logo Quiz:1,000,000+\n",
      "Sid Story:500,000+\n",
      "Fatal Raid - No.1 Mobile FPS:1,000,000+\n",
      "Poker Pro.Fr:100,000+\n"
     ]
    }
   ],
   "source": [
    "for row in free_english_google: \n",
    "    if row[1] == 'GAME':\n",
    "        print(row[0] + ':' + row[5])\n",
    "        \n"
   ]
  },
  {
   "cell_type": "markdown",
   "id": "f7b003e1",
   "metadata": {
    "papermill": {
     "duration": 0.093673,
     "end_time": "2022-02-20T17:43:15.767653",
     "exception": false,
     "start_time": "2022-02-20T17:43:15.673980",
     "status": "completed"
    },
    "tags": []
   },
   "source": [
    "There's a wider spread of data for apps under the category of game. This could be a potential target for a free app."
   ]
  },
  {
   "cell_type": "code",
   "execution_count": null,
   "id": "ad788ffe",
   "metadata": {
    "papermill": {
     "duration": 0.096127,
     "end_time": "2022-02-20T17:43:15.957194",
     "exception": false,
     "start_time": "2022-02-20T17:43:15.861067",
     "status": "completed"
    },
    "tags": []
   },
   "outputs": [],
   "source": []
  }
 ],
 "metadata": {
  "kernelspec": {
   "display_name": "Python 3",
   "language": "python",
   "name": "python3"
  },
  "language_info": {
   "codemirror_mode": {
    "name": "ipython",
    "version": 3
   },
   "file_extension": ".py",
   "mimetype": "text/x-python",
   "name": "python",
   "nbconvert_exporter": "python",
   "pygments_lexer": "ipython3",
   "version": "3.7.12"
  },
  "papermill": {
   "default_parameters": {},
   "duration": 29.062376,
   "end_time": "2022-02-20T17:43:16.760372",
   "environment_variables": {},
   "exception": null,
   "input_path": "__notebook__.ipynb",
   "output_path": "__notebook__.ipynb",
   "parameters": {},
   "start_time": "2022-02-20T17:42:47.697996",
   "version": "2.3.3"
  }
 },
 "nbformat": 4,
 "nbformat_minor": 5
}
