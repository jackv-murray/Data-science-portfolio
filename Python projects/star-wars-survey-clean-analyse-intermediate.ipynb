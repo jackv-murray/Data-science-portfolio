{
 "cells": [
  {
   "cell_type": "markdown",
   "id": "66fc6590",
   "metadata": {
    "papermill": {
     "duration": 0.045556,
     "end_time": "2022-03-28T21:31:41.886392",
     "exception": false,
     "start_time": "2022-03-28T21:31:41.840836",
     "status": "completed"
    },
    "tags": []
   },
   "source": [
    "# Introduction\n",
    "\n",
    "Just a short data cleaning walthrough, based on data collected by the team over at [FiveThirtyEight](http://fivethirtyeight.com/) regarding public opinion on the best Star Wars film. The data was originally collected by a survey. This is a good dataset to work with for data cleaning practice, as multiple answers were allowed for some of the questions. I found this scenario over at dataquest.io, so thanks to them. I'm following their data scientist pathway and having a lot of fun learning python!\n",
    "\n",
    "The data has several columns, including the following:\n",
    "\n",
    "- `RespondentID` — An anonymized ID for the respondent (person taking the survey)\n",
    "- `Gender` — the respondent's gender\n",
    "- `Age` — the respondent's age\n",
    "- `Household Income` — the respondent's income\n",
    "- `Education` — the respondent's education level\n",
    "- `Location (Census Region)` — the respondent's location\n",
    "- `Have you seen any of the 6 films in the Star Wars franchise?` — a Yes or No response\n",
    "- `Do you consider yourself to be a fan of the Star Wars film franchise?` — a Yes or No response\n",
    "\n",
    "**Questions**\n",
    "\n",
    "1. Do respondents prefer the sequels or prequels more?\n",
    "2. From our respondents, is there a demographic that prefers the sequels or prequels more?\n",
    "3. How do characters from the franchise rank in terms of favourability?\n"
   ]
  },
  {
   "cell_type": "markdown",
   "id": "02a590c6",
   "metadata": {
    "papermill": {
     "duration": 0.044601,
     "end_time": "2022-03-28T21:31:41.977913",
     "exception": false,
     "start_time": "2022-03-28T21:31:41.933312",
     "status": "completed"
    },
    "tags": []
   },
   "source": [
    "# Read, import and explore data"
   ]
  },
  {
   "cell_type": "code",
   "execution_count": 1,
   "id": "e9eae43f",
   "metadata": {
    "execution": {
     "iopub.execute_input": "2022-03-28T21:31:42.070199Z",
     "iopub.status.busy": "2022-03-28T21:31:42.069775Z",
     "iopub.status.idle": "2022-03-28T21:31:42.116426Z",
     "shell.execute_reply": "2022-03-28T21:31:42.116846Z",
     "shell.execute_reply.started": "2022-03-28T21:29:34.969840Z"
    },
    "papermill": {
     "duration": 0.094752,
     "end_time": "2022-03-28T21:31:42.117066",
     "exception": false,
     "start_time": "2022-03-28T21:31:42.022314",
     "status": "completed"
    },
    "tags": []
   },
   "outputs": [],
   "source": [
    "import pandas as pd\n",
    "import numpy as np\n",
    "import re\n",
    "import matplotlib.pyplot as plt\n",
    "%matplotlib inline\n",
    "\n",
    "#encoding specified as dataset has some chars not in Python's default encoding\n",
    "star_wars = pd.read_csv(\"../input/star-wars-survey-data/star_wars.csv\", encoding=\"ISO-8859-1\")"
   ]
  },
  {
   "cell_type": "code",
   "execution_count": 2,
   "id": "c6ea2fc9",
   "metadata": {
    "execution": {
     "iopub.execute_input": "2022-03-28T21:31:42.211028Z",
     "iopub.status.busy": "2022-03-28T21:31:42.210549Z",
     "iopub.status.idle": "2022-03-28T21:31:42.240362Z",
     "shell.execute_reply": "2022-03-28T21:31:42.240756Z",
     "shell.execute_reply.started": "2022-03-28T21:29:35.009319Z"
    },
    "papermill": {
     "duration": 0.078723,
     "end_time": "2022-03-28T21:31:42.240881",
     "exception": false,
     "start_time": "2022-03-28T21:31:42.162158",
     "status": "completed"
    },
    "tags": []
   },
   "outputs": [
    {
     "data": {
      "text/html": [
       "<div>\n",
       "<style scoped>\n",
       "    .dataframe tbody tr th:only-of-type {\n",
       "        vertical-align: middle;\n",
       "    }\n",
       "\n",
       "    .dataframe tbody tr th {\n",
       "        vertical-align: top;\n",
       "    }\n",
       "\n",
       "    .dataframe thead th {\n",
       "        text-align: right;\n",
       "    }\n",
       "</style>\n",
       "<table border=\"1\" class=\"dataframe\">\n",
       "  <thead>\n",
       "    <tr style=\"text-align: right;\">\n",
       "      <th></th>\n",
       "      <th>RespondentID</th>\n",
       "      <th>Have you seen any of the 6 films in the Star Wars franchise?</th>\n",
       "      <th>Do you consider yourself to be a fan of the Star Wars film franchise?</th>\n",
       "      <th>Which of the following Star Wars films have you seen? Please select all that apply.</th>\n",
       "      <th>Unnamed: 4</th>\n",
       "      <th>Unnamed: 5</th>\n",
       "      <th>Unnamed: 6</th>\n",
       "      <th>Unnamed: 7</th>\n",
       "      <th>Unnamed: 8</th>\n",
       "      <th>Please rank the Star Wars films in order of preference with 1 being your favorite film in the franchise and 6 being your least favorite film.</th>\n",
       "      <th>...</th>\n",
       "      <th>Unnamed: 28</th>\n",
       "      <th>Which character shot first?</th>\n",
       "      <th>Are you familiar with the Expanded Universe?</th>\n",
       "      <th>Do you consider yourself to be a fan of the Expanded Universe?ÂÃ¦</th>\n",
       "      <th>Do you consider yourself to be a fan of the Star Trek franchise?</th>\n",
       "      <th>Gender</th>\n",
       "      <th>Age</th>\n",
       "      <th>Household Income</th>\n",
       "      <th>Education</th>\n",
       "      <th>Location (Census Region)</th>\n",
       "    </tr>\n",
       "  </thead>\n",
       "  <tbody>\n",
       "    <tr>\n",
       "      <th>0</th>\n",
       "      <td>NaN</td>\n",
       "      <td>Response</td>\n",
       "      <td>Response</td>\n",
       "      <td>Star Wars: Episode I  The Phantom Menace</td>\n",
       "      <td>Star Wars: Episode II  Attack of the Clones</td>\n",
       "      <td>Star Wars: Episode III  Revenge of the Sith</td>\n",
       "      <td>Star Wars: Episode IV  A New Hope</td>\n",
       "      <td>Star Wars: Episode V The Empire Strikes Back</td>\n",
       "      <td>Star Wars: Episode VI Return of the Jedi</td>\n",
       "      <td>Star Wars: Episode I  The Phantom Menace</td>\n",
       "      <td>...</td>\n",
       "      <td>Yoda</td>\n",
       "      <td>Response</td>\n",
       "      <td>Response</td>\n",
       "      <td>Response</td>\n",
       "      <td>Response</td>\n",
       "      <td>Response</td>\n",
       "      <td>Response</td>\n",
       "      <td>Response</td>\n",
       "      <td>Response</td>\n",
       "      <td>Response</td>\n",
       "    </tr>\n",
       "    <tr>\n",
       "      <th>1</th>\n",
       "      <td>3.292880e+09</td>\n",
       "      <td>Yes</td>\n",
       "      <td>Yes</td>\n",
       "      <td>Star Wars: Episode I  The Phantom Menace</td>\n",
       "      <td>Star Wars: Episode II  Attack of the Clones</td>\n",
       "      <td>Star Wars: Episode III  Revenge of the Sith</td>\n",
       "      <td>Star Wars: Episode IV  A New Hope</td>\n",
       "      <td>Star Wars: Episode V The Empire Strikes Back</td>\n",
       "      <td>Star Wars: Episode VI Return of the Jedi</td>\n",
       "      <td>3</td>\n",
       "      <td>...</td>\n",
       "      <td>Very favorably</td>\n",
       "      <td>I don't understand this question</td>\n",
       "      <td>Yes</td>\n",
       "      <td>No</td>\n",
       "      <td>No</td>\n",
       "      <td>Male</td>\n",
       "      <td>18-29</td>\n",
       "      <td>NaN</td>\n",
       "      <td>High school degree</td>\n",
       "      <td>South Atlantic</td>\n",
       "    </tr>\n",
       "    <tr>\n",
       "      <th>2</th>\n",
       "      <td>3.292880e+09</td>\n",
       "      <td>No</td>\n",
       "      <td>NaN</td>\n",
       "      <td>NaN</td>\n",
       "      <td>NaN</td>\n",
       "      <td>NaN</td>\n",
       "      <td>NaN</td>\n",
       "      <td>NaN</td>\n",
       "      <td>NaN</td>\n",
       "      <td>NaN</td>\n",
       "      <td>...</td>\n",
       "      <td>NaN</td>\n",
       "      <td>NaN</td>\n",
       "      <td>NaN</td>\n",
       "      <td>NaN</td>\n",
       "      <td>Yes</td>\n",
       "      <td>Male</td>\n",
       "      <td>18-29</td>\n",
       "      <td>$0 - $24,999</td>\n",
       "      <td>Bachelor degree</td>\n",
       "      <td>West South Central</td>\n",
       "    </tr>\n",
       "    <tr>\n",
       "      <th>3</th>\n",
       "      <td>3.292765e+09</td>\n",
       "      <td>Yes</td>\n",
       "      <td>No</td>\n",
       "      <td>Star Wars: Episode I  The Phantom Menace</td>\n",
       "      <td>Star Wars: Episode II  Attack of the Clones</td>\n",
       "      <td>Star Wars: Episode III  Revenge of the Sith</td>\n",
       "      <td>NaN</td>\n",
       "      <td>NaN</td>\n",
       "      <td>NaN</td>\n",
       "      <td>1</td>\n",
       "      <td>...</td>\n",
       "      <td>Unfamiliar (N/A)</td>\n",
       "      <td>I don't understand this question</td>\n",
       "      <td>No</td>\n",
       "      <td>NaN</td>\n",
       "      <td>No</td>\n",
       "      <td>Male</td>\n",
       "      <td>18-29</td>\n",
       "      <td>$0 - $24,999</td>\n",
       "      <td>High school degree</td>\n",
       "      <td>West North Central</td>\n",
       "    </tr>\n",
       "    <tr>\n",
       "      <th>4</th>\n",
       "      <td>3.292763e+09</td>\n",
       "      <td>Yes</td>\n",
       "      <td>Yes</td>\n",
       "      <td>Star Wars: Episode I  The Phantom Menace</td>\n",
       "      <td>Star Wars: Episode II  Attack of the Clones</td>\n",
       "      <td>Star Wars: Episode III  Revenge of the Sith</td>\n",
       "      <td>Star Wars: Episode IV  A New Hope</td>\n",
       "      <td>Star Wars: Episode V The Empire Strikes Back</td>\n",
       "      <td>Star Wars: Episode VI Return of the Jedi</td>\n",
       "      <td>5</td>\n",
       "      <td>...</td>\n",
       "      <td>Very favorably</td>\n",
       "      <td>I don't understand this question</td>\n",
       "      <td>No</td>\n",
       "      <td>NaN</td>\n",
       "      <td>Yes</td>\n",
       "      <td>Male</td>\n",
       "      <td>18-29</td>\n",
       "      <td>$100,000 - $149,999</td>\n",
       "      <td>Some college or Associate degree</td>\n",
       "      <td>West North Central</td>\n",
       "    </tr>\n",
       "    <tr>\n",
       "      <th>5</th>\n",
       "      <td>3.292731e+09</td>\n",
       "      <td>Yes</td>\n",
       "      <td>Yes</td>\n",
       "      <td>Star Wars: Episode I  The Phantom Menace</td>\n",
       "      <td>Star Wars: Episode II  Attack of the Clones</td>\n",
       "      <td>Star Wars: Episode III  Revenge of the Sith</td>\n",
       "      <td>Star Wars: Episode IV  A New Hope</td>\n",
       "      <td>Star Wars: Episode V The Empire Strikes Back</td>\n",
       "      <td>Star Wars: Episode VI Return of the Jedi</td>\n",
       "      <td>5</td>\n",
       "      <td>...</td>\n",
       "      <td>Somewhat favorably</td>\n",
       "      <td>Greedo</td>\n",
       "      <td>Yes</td>\n",
       "      <td>No</td>\n",
       "      <td>No</td>\n",
       "      <td>Male</td>\n",
       "      <td>18-29</td>\n",
       "      <td>$100,000 - $149,999</td>\n",
       "      <td>Some college or Associate degree</td>\n",
       "      <td>West North Central</td>\n",
       "    </tr>\n",
       "    <tr>\n",
       "      <th>6</th>\n",
       "      <td>3.292719e+09</td>\n",
       "      <td>Yes</td>\n",
       "      <td>Yes</td>\n",
       "      <td>Star Wars: Episode I  The Phantom Menace</td>\n",
       "      <td>Star Wars: Episode II  Attack of the Clones</td>\n",
       "      <td>Star Wars: Episode III  Revenge of the Sith</td>\n",
       "      <td>Star Wars: Episode IV  A New Hope</td>\n",
       "      <td>Star Wars: Episode V The Empire Strikes Back</td>\n",
       "      <td>Star Wars: Episode VI Return of the Jedi</td>\n",
       "      <td>1</td>\n",
       "      <td>...</td>\n",
       "      <td>Very favorably</td>\n",
       "      <td>Han</td>\n",
       "      <td>Yes</td>\n",
       "      <td>No</td>\n",
       "      <td>Yes</td>\n",
       "      <td>Male</td>\n",
       "      <td>18-29</td>\n",
       "      <td>$25,000 - $49,999</td>\n",
       "      <td>Bachelor degree</td>\n",
       "      <td>Middle Atlantic</td>\n",
       "    </tr>\n",
       "    <tr>\n",
       "      <th>7</th>\n",
       "      <td>3.292685e+09</td>\n",
       "      <td>Yes</td>\n",
       "      <td>Yes</td>\n",
       "      <td>Star Wars: Episode I  The Phantom Menace</td>\n",
       "      <td>Star Wars: Episode II  Attack of the Clones</td>\n",
       "      <td>Star Wars: Episode III  Revenge of the Sith</td>\n",
       "      <td>Star Wars: Episode IV  A New Hope</td>\n",
       "      <td>Star Wars: Episode V The Empire Strikes Back</td>\n",
       "      <td>Star Wars: Episode VI Return of the Jedi</td>\n",
       "      <td>6</td>\n",
       "      <td>...</td>\n",
       "      <td>Very favorably</td>\n",
       "      <td>Han</td>\n",
       "      <td>Yes</td>\n",
       "      <td>No</td>\n",
       "      <td>No</td>\n",
       "      <td>Male</td>\n",
       "      <td>18-29</td>\n",
       "      <td>NaN</td>\n",
       "      <td>High school degree</td>\n",
       "      <td>East North Central</td>\n",
       "    </tr>\n",
       "    <tr>\n",
       "      <th>8</th>\n",
       "      <td>3.292664e+09</td>\n",
       "      <td>Yes</td>\n",
       "      <td>Yes</td>\n",
       "      <td>Star Wars: Episode I  The Phantom Menace</td>\n",
       "      <td>Star Wars: Episode II  Attack of the Clones</td>\n",
       "      <td>Star Wars: Episode III  Revenge of the Sith</td>\n",
       "      <td>Star Wars: Episode IV  A New Hope</td>\n",
       "      <td>Star Wars: Episode V The Empire Strikes Back</td>\n",
       "      <td>Star Wars: Episode VI Return of the Jedi</td>\n",
       "      <td>4</td>\n",
       "      <td>...</td>\n",
       "      <td>Very favorably</td>\n",
       "      <td>Han</td>\n",
       "      <td>No</td>\n",
       "      <td>NaN</td>\n",
       "      <td>Yes</td>\n",
       "      <td>Male</td>\n",
       "      <td>18-29</td>\n",
       "      <td>NaN</td>\n",
       "      <td>High school degree</td>\n",
       "      <td>South Atlantic</td>\n",
       "    </tr>\n",
       "    <tr>\n",
       "      <th>9</th>\n",
       "      <td>3.292654e+09</td>\n",
       "      <td>Yes</td>\n",
       "      <td>Yes</td>\n",
       "      <td>Star Wars: Episode I  The Phantom Menace</td>\n",
       "      <td>Star Wars: Episode II  Attack of the Clones</td>\n",
       "      <td>Star Wars: Episode III  Revenge of the Sith</td>\n",
       "      <td>Star Wars: Episode IV  A New Hope</td>\n",
       "      <td>Star Wars: Episode V The Empire Strikes Back</td>\n",
       "      <td>Star Wars: Episode VI Return of the Jedi</td>\n",
       "      <td>5</td>\n",
       "      <td>...</td>\n",
       "      <td>Somewhat favorably</td>\n",
       "      <td>Han</td>\n",
       "      <td>No</td>\n",
       "      <td>NaN</td>\n",
       "      <td>No</td>\n",
       "      <td>Male</td>\n",
       "      <td>18-29</td>\n",
       "      <td>$0 - $24,999</td>\n",
       "      <td>Some college or Associate degree</td>\n",
       "      <td>South Atlantic</td>\n",
       "    </tr>\n",
       "  </tbody>\n",
       "</table>\n",
       "<p>10 rows × 38 columns</p>\n",
       "</div>"
      ],
      "text/plain": [
       "   RespondentID Have you seen any of the 6 films in the Star Wars franchise?  \\\n",
       "0           NaN                                           Response             \n",
       "1  3.292880e+09                                                Yes             \n",
       "2  3.292880e+09                                                 No             \n",
       "3  3.292765e+09                                                Yes             \n",
       "4  3.292763e+09                                                Yes             \n",
       "5  3.292731e+09                                                Yes             \n",
       "6  3.292719e+09                                                Yes             \n",
       "7  3.292685e+09                                                Yes             \n",
       "8  3.292664e+09                                                Yes             \n",
       "9  3.292654e+09                                                Yes             \n",
       "\n",
       "  Do you consider yourself to be a fan of the Star Wars film franchise?  \\\n",
       "0                                           Response                      \n",
       "1                                                Yes                      \n",
       "2                                                NaN                      \n",
       "3                                                 No                      \n",
       "4                                                Yes                      \n",
       "5                                                Yes                      \n",
       "6                                                Yes                      \n",
       "7                                                Yes                      \n",
       "8                                                Yes                      \n",
       "9                                                Yes                      \n",
       "\n",
       "  Which of the following Star Wars films have you seen? Please select all that apply.  \\\n",
       "0           Star Wars: Episode I  The Phantom Menace                                    \n",
       "1           Star Wars: Episode I  The Phantom Menace                                    \n",
       "2                                                NaN                                    \n",
       "3           Star Wars: Episode I  The Phantom Menace                                    \n",
       "4           Star Wars: Episode I  The Phantom Menace                                    \n",
       "5           Star Wars: Episode I  The Phantom Menace                                    \n",
       "6           Star Wars: Episode I  The Phantom Menace                                    \n",
       "7           Star Wars: Episode I  The Phantom Menace                                    \n",
       "8           Star Wars: Episode I  The Phantom Menace                                    \n",
       "9           Star Wars: Episode I  The Phantom Menace                                    \n",
       "\n",
       "                                    Unnamed: 4  \\\n",
       "0  Star Wars: Episode II  Attack of the Clones   \n",
       "1  Star Wars: Episode II  Attack of the Clones   \n",
       "2                                          NaN   \n",
       "3  Star Wars: Episode II  Attack of the Clones   \n",
       "4  Star Wars: Episode II  Attack of the Clones   \n",
       "5  Star Wars: Episode II  Attack of the Clones   \n",
       "6  Star Wars: Episode II  Attack of the Clones   \n",
       "7  Star Wars: Episode II  Attack of the Clones   \n",
       "8  Star Wars: Episode II  Attack of the Clones   \n",
       "9  Star Wars: Episode II  Attack of the Clones   \n",
       "\n",
       "                                    Unnamed: 5  \\\n",
       "0  Star Wars: Episode III  Revenge of the Sith   \n",
       "1  Star Wars: Episode III  Revenge of the Sith   \n",
       "2                                          NaN   \n",
       "3  Star Wars: Episode III  Revenge of the Sith   \n",
       "4  Star Wars: Episode III  Revenge of the Sith   \n",
       "5  Star Wars: Episode III  Revenge of the Sith   \n",
       "6  Star Wars: Episode III  Revenge of the Sith   \n",
       "7  Star Wars: Episode III  Revenge of the Sith   \n",
       "8  Star Wars: Episode III  Revenge of the Sith   \n",
       "9  Star Wars: Episode III  Revenge of the Sith   \n",
       "\n",
       "                          Unnamed: 6  \\\n",
       "0  Star Wars: Episode IV  A New Hope   \n",
       "1  Star Wars: Episode IV  A New Hope   \n",
       "2                                NaN   \n",
       "3                                NaN   \n",
       "4  Star Wars: Episode IV  A New Hope   \n",
       "5  Star Wars: Episode IV  A New Hope   \n",
       "6  Star Wars: Episode IV  A New Hope   \n",
       "7  Star Wars: Episode IV  A New Hope   \n",
       "8  Star Wars: Episode IV  A New Hope   \n",
       "9  Star Wars: Episode IV  A New Hope   \n",
       "\n",
       "                                     Unnamed: 7  \\\n",
       "0  Star Wars: Episode V The Empire Strikes Back   \n",
       "1  Star Wars: Episode V The Empire Strikes Back   \n",
       "2                                           NaN   \n",
       "3                                           NaN   \n",
       "4  Star Wars: Episode V The Empire Strikes Back   \n",
       "5  Star Wars: Episode V The Empire Strikes Back   \n",
       "6  Star Wars: Episode V The Empire Strikes Back   \n",
       "7  Star Wars: Episode V The Empire Strikes Back   \n",
       "8  Star Wars: Episode V The Empire Strikes Back   \n",
       "9  Star Wars: Episode V The Empire Strikes Back   \n",
       "\n",
       "                                 Unnamed: 8  \\\n",
       "0  Star Wars: Episode VI Return of the Jedi   \n",
       "1  Star Wars: Episode VI Return of the Jedi   \n",
       "2                                       NaN   \n",
       "3                                       NaN   \n",
       "4  Star Wars: Episode VI Return of the Jedi   \n",
       "5  Star Wars: Episode VI Return of the Jedi   \n",
       "6  Star Wars: Episode VI Return of the Jedi   \n",
       "7  Star Wars: Episode VI Return of the Jedi   \n",
       "8  Star Wars: Episode VI Return of the Jedi   \n",
       "9  Star Wars: Episode VI Return of the Jedi   \n",
       "\n",
       "  Please rank the Star Wars films in order of preference with 1 being your favorite film in the franchise and 6 being your least favorite film.  \\\n",
       "0           Star Wars: Episode I  The Phantom Menace                                                                                              \n",
       "1                                                  3                                                                                              \n",
       "2                                                NaN                                                                                              \n",
       "3                                                  1                                                                                              \n",
       "4                                                  5                                                                                              \n",
       "5                                                  5                                                                                              \n",
       "6                                                  1                                                                                              \n",
       "7                                                  6                                                                                              \n",
       "8                                                  4                                                                                              \n",
       "9                                                  5                                                                                              \n",
       "\n",
       "   ...         Unnamed: 28       Which character shot first?  \\\n",
       "0  ...                Yoda                          Response   \n",
       "1  ...      Very favorably  I don't understand this question   \n",
       "2  ...                 NaN                               NaN   \n",
       "3  ...    Unfamiliar (N/A)  I don't understand this question   \n",
       "4  ...      Very favorably  I don't understand this question   \n",
       "5  ...  Somewhat favorably                            Greedo   \n",
       "6  ...      Very favorably                               Han   \n",
       "7  ...      Very favorably                               Han   \n",
       "8  ...      Very favorably                               Han   \n",
       "9  ...  Somewhat favorably                               Han   \n",
       "\n",
       "  Are you familiar with the Expanded Universe?  \\\n",
       "0                                     Response   \n",
       "1                                          Yes   \n",
       "2                                          NaN   \n",
       "3                                           No   \n",
       "4                                           No   \n",
       "5                                          Yes   \n",
       "6                                          Yes   \n",
       "7                                          Yes   \n",
       "8                                           No   \n",
       "9                                           No   \n",
       "\n",
       "  Do you consider yourself to be a fan of the Expanded Universe?ÂÃ¦  \\\n",
       "0                                           Response                   \n",
       "1                                                 No                   \n",
       "2                                                NaN                   \n",
       "3                                                NaN                   \n",
       "4                                                NaN                   \n",
       "5                                                 No                   \n",
       "6                                                 No                   \n",
       "7                                                 No                   \n",
       "8                                                NaN                   \n",
       "9                                                NaN                   \n",
       "\n",
       "  Do you consider yourself to be a fan of the Star Trek franchise?    Gender  \\\n",
       "0                                           Response                Response   \n",
       "1                                                 No                    Male   \n",
       "2                                                Yes                    Male   \n",
       "3                                                 No                    Male   \n",
       "4                                                Yes                    Male   \n",
       "5                                                 No                    Male   \n",
       "6                                                Yes                    Male   \n",
       "7                                                 No                    Male   \n",
       "8                                                Yes                    Male   \n",
       "9                                                 No                    Male   \n",
       "\n",
       "        Age     Household Income                         Education  \\\n",
       "0  Response             Response                          Response   \n",
       "1     18-29                  NaN                High school degree   \n",
       "2     18-29         $0 - $24,999                   Bachelor degree   \n",
       "3     18-29         $0 - $24,999                High school degree   \n",
       "4     18-29  $100,000 - $149,999  Some college or Associate degree   \n",
       "5     18-29  $100,000 - $149,999  Some college or Associate degree   \n",
       "6     18-29    $25,000 - $49,999                   Bachelor degree   \n",
       "7     18-29                  NaN                High school degree   \n",
       "8     18-29                  NaN                High school degree   \n",
       "9     18-29         $0 - $24,999  Some college or Associate degree   \n",
       "\n",
       "  Location (Census Region)  \n",
       "0                 Response  \n",
       "1           South Atlantic  \n",
       "2       West South Central  \n",
       "3       West North Central  \n",
       "4       West North Central  \n",
       "5       West North Central  \n",
       "6          Middle Atlantic  \n",
       "7       East North Central  \n",
       "8           South Atlantic  \n",
       "9           South Atlantic  \n",
       "\n",
       "[10 rows x 38 columns]"
      ]
     },
     "execution_count": 2,
     "metadata": {},
     "output_type": "execute_result"
    }
   ],
   "source": [
    "#quick dive into the first 10 values, looking for any unusual entries\n",
    "star_wars.head(10)"
   ]
  },
  {
   "cell_type": "code",
   "execution_count": 3,
   "id": "614c7710",
   "metadata": {
    "execution": {
     "iopub.execute_input": "2022-03-28T21:31:42.336239Z",
     "iopub.status.busy": "2022-03-28T21:31:42.335770Z",
     "iopub.status.idle": "2022-03-28T21:31:42.341138Z",
     "shell.execute_reply": "2022-03-28T21:31:42.341518Z",
     "shell.execute_reply.started": "2022-03-28T21:29:35.041268Z"
    },
    "papermill": {
     "duration": 0.053443,
     "end_time": "2022-03-28T21:31:42.341623",
     "exception": false,
     "start_time": "2022-03-28T21:31:42.288180",
     "status": "completed"
    },
    "tags": []
   },
   "outputs": [
    {
     "data": {
      "text/plain": [
       "Index(['RespondentID',\n",
       "       'Have you seen any of the 6 films in the Star Wars franchise?',\n",
       "       'Do you consider yourself to be a fan of the Star Wars film franchise?',\n",
       "       'Which of the following Star Wars films have you seen? Please select all that apply.',\n",
       "       'Unnamed: 4', 'Unnamed: 5', 'Unnamed: 6', 'Unnamed: 7', 'Unnamed: 8',\n",
       "       'Please rank the Star Wars films in order of preference with 1 being your favorite film in the franchise and 6 being your least favorite film.',\n",
       "       'Unnamed: 10', 'Unnamed: 11', 'Unnamed: 12', 'Unnamed: 13',\n",
       "       'Unnamed: 14',\n",
       "       'Please state whether you view the following characters favorably, unfavorably, or are unfamiliar with him/her.',\n",
       "       'Unnamed: 16', 'Unnamed: 17', 'Unnamed: 18', 'Unnamed: 19',\n",
       "       'Unnamed: 20', 'Unnamed: 21', 'Unnamed: 22', 'Unnamed: 23',\n",
       "       'Unnamed: 24', 'Unnamed: 25', 'Unnamed: 26', 'Unnamed: 27',\n",
       "       'Unnamed: 28', 'Which character shot first?',\n",
       "       'Are you familiar with the Expanded Universe?',\n",
       "       'Do you consider yourself to be a fan of the Expanded Universe?ÂÃ¦',\n",
       "       'Do you consider yourself to be a fan of the Star Trek franchise?',\n",
       "       'Gender', 'Age', 'Household Income', 'Education',\n",
       "       'Location (Census Region)'],\n",
       "      dtype='object')"
      ]
     },
     "execution_count": 3,
     "metadata": {},
     "output_type": "execute_result"
    }
   ],
   "source": [
    "#review of the column names\n",
    "star_wars.columns"
   ]
  },
  {
   "cell_type": "markdown",
   "id": "5b11e860",
   "metadata": {
    "papermill": {
     "duration": 0.046743,
     "end_time": "2022-03-28T21:31:42.435919",
     "exception": false,
     "start_time": "2022-03-28T21:31:42.389176",
     "status": "completed"
    },
    "tags": []
   },
   "source": [
    "### Observations - columns and entries\n",
    "\n",
    "**Problem 1**\n",
    "\n",
    "The columns `Have you seen any of the 6 films in the Star Wars franchise?` and `Do you consider yourself to be a fan of the Star Wars film franchise?` both have Yes/No answers, or NaN (which i'll assume means they did not answer).\n",
    "- these columns, entries currently are strings, will need to be converted to allow for analysis\n",
    "\n",
    "**Problem 2**\n",
    "\n",
    "The answers to the column `Which of the following Star Wars films have you seen? Please select all that apply.` are represented by the following 5 columns:\n",
    "\n",
    "\n",
    "- *(original question)* `Which of the following Star Wars films have you seen? Please select all that apply.` — whether or not the respondent saw Star Wars: Episode I The Phantom Menace.\n",
    "- `Unnamed: 4` — whether or not the respondent saw Star Wars: Episode II Attack of the Clones.\n",
    "- `Unnamed: 5` — whether or not the respondent saw Star Wars: Episode III Revenge of the Sith.\n",
    "- `Unnamed: 6` — whether or not the respondent saw Star Wars: Episode IV A New Hope.\n",
    "- `Unnamed: 7` — whether or not the respondent saw Star Wars: Episode V The Empire Strikes Back.\n",
    "- `Unnamed: 8` — whether or not the respondent saw Star Wars: Episode VI Return of the Jedi.\n",
    "\n",
    "The answer = true if the value is the name of the movie. If it is NaN, it means the respondent either didn't answer the question or didn't see the movie. \n",
    "- again, will need to convert answer to a more appropriate data type (Bool)\n",
    "- rename columns to something more intuitive\n",
    "\n",
    "**Problem 3**\n",
    "\n",
    "for the next set of columns the movies are ranked from 1 to 6, with `Please rank the Star Wars films in order of preference with 1 being your favorite film in the franchise and 6 being your least favorite film.` being how much they liked the first episode, `Unnamed: 10` the second episode, and so on until `Unnamed: 14`, which is episode VI.\n",
    "- as the answers are already numerical, the data does not need a lot of cleaning, just re-assigning to an appropriate data type\n",
    "- then renaming the columns"
   ]
  },
  {
   "cell_type": "markdown",
   "id": "a47450cd",
   "metadata": {
    "papermill": {
     "duration": 0.04602,
     "end_time": "2022-03-28T21:31:42.528663",
     "exception": false,
     "start_time": "2022-03-28T21:31:42.482643",
     "status": "completed"
    },
    "tags": []
   },
   "source": [
    "# Data cleaning - converting column entries to appropriate data types"
   ]
  },
  {
   "cell_type": "markdown",
   "id": "37119b44",
   "metadata": {
    "papermill": {
     "duration": 0.045783,
     "end_time": "2022-03-28T21:31:42.621411",
     "exception": false,
     "start_time": "2022-03-28T21:31:42.575628",
     "status": "completed"
    },
    "tags": []
   },
   "source": [
    "### Problem 1"
   ]
  },
  {
   "cell_type": "code",
   "execution_count": 4,
   "id": "51725566",
   "metadata": {
    "execution": {
     "iopub.execute_input": "2022-03-28T21:31:42.725290Z",
     "iopub.status.busy": "2022-03-28T21:31:42.724775Z",
     "iopub.status.idle": "2022-03-28T21:31:42.729550Z",
     "shell.execute_reply": "2022-03-28T21:31:42.729956Z",
     "shell.execute_reply.started": "2022-03-28T21:29:35.058391Z"
    },
    "papermill": {
     "duration": 0.061314,
     "end_time": "2022-03-28T21:31:42.730099",
     "exception": false,
     "start_time": "2022-03-28T21:31:42.668785",
     "status": "completed"
    },
    "tags": []
   },
   "outputs": [],
   "source": [
    "#dict to define mapping\n",
    "yes_no = {\n",
    "    \"Yes\": True,\n",
    "    \"No\": False\n",
    "}\n",
    "\n",
    "#map each yes/no str value to boolean equivalent\n",
    "star_wars['Have you seen any of the 6 films in the Star Wars franchise?'] = star_wars['Have you seen any of the 6 films in the Star Wars franchise?'].map(yes_no)\n",
    "star_wars['Do you consider yourself to be a fan of the Star Wars film franchise?'] = star_wars['Do you consider yourself to be a fan of the Star Wars film franchise?'].map(yes_no)"
   ]
  },
  {
   "cell_type": "code",
   "execution_count": 5,
   "id": "b8f2a86d",
   "metadata": {
    "execution": {
     "iopub.execute_input": "2022-03-28T21:31:42.830326Z",
     "iopub.status.busy": "2022-03-28T21:31:42.825173Z",
     "iopub.status.idle": "2022-03-28T21:31:42.832288Z",
     "shell.execute_reply": "2022-03-28T21:31:42.832720Z",
     "shell.execute_reply.started": "2022-03-28T21:29:35.085878Z"
    },
    "papermill": {
     "duration": 0.056234,
     "end_time": "2022-03-28T21:31:42.832828",
     "exception": false,
     "start_time": "2022-03-28T21:31:42.776594",
     "status": "completed"
    },
    "scrolled": true,
    "tags": []
   },
   "outputs": [
    {
     "data": {
      "text/plain": [
       "True     936\n",
       "False    250\n",
       "Name: Have you seen any of the 6 films in the Star Wars franchise?, dtype: int64"
      ]
     },
     "execution_count": 5,
     "metadata": {},
     "output_type": "execute_result"
    }
   ],
   "source": [
    "star_wars['Have you seen any of the 6 films in the Star Wars franchise?'].value_counts()"
   ]
  },
  {
   "cell_type": "code",
   "execution_count": 6,
   "id": "10e83fe0",
   "metadata": {
    "execution": {
     "iopub.execute_input": "2022-03-28T21:31:42.929116Z",
     "iopub.status.busy": "2022-03-28T21:31:42.928584Z",
     "iopub.status.idle": "2022-03-28T21:31:42.933853Z",
     "shell.execute_reply": "2022-03-28T21:31:42.934271Z",
     "shell.execute_reply.started": "2022-03-28T21:29:35.107335Z"
    },
    "papermill": {
     "duration": 0.054822,
     "end_time": "2022-03-28T21:31:42.934377",
     "exception": false,
     "start_time": "2022-03-28T21:31:42.879555",
     "status": "completed"
    },
    "tags": []
   },
   "outputs": [
    {
     "data": {
      "text/plain": [
       "True     552\n",
       "False    284\n",
       "Name: Do you consider yourself to be a fan of the Star Wars film franchise?, dtype: int64"
      ]
     },
     "execution_count": 6,
     "metadata": {},
     "output_type": "execute_result"
    }
   ],
   "source": [
    "star_wars['Do you consider yourself to be a fan of the Star Wars film franchise?'].value_counts()"
   ]
  },
  {
   "cell_type": "markdown",
   "id": "5add6a18",
   "metadata": {
    "papermill": {
     "duration": 0.050235,
     "end_time": "2022-03-28T21:31:43.042615",
     "exception": false,
     "start_time": "2022-03-28T21:31:42.992380",
     "status": "completed"
    },
    "tags": []
   },
   "source": [
    "### Problem 2"
   ]
  },
  {
   "cell_type": "code",
   "execution_count": 7,
   "id": "98563463",
   "metadata": {
    "execution": {
     "iopub.execute_input": "2022-03-28T21:31:43.140011Z",
     "iopub.status.busy": "2022-03-28T21:31:43.139493Z",
     "iopub.status.idle": "2022-03-28T21:31:43.142788Z",
     "shell.execute_reply": "2022-03-28T21:31:43.143198Z",
     "shell.execute_reply.started": "2022-03-28T21:29:35.128079Z"
    },
    "papermill": {
     "duration": 0.053115,
     "end_time": "2022-03-28T21:31:43.143308",
     "exception": false,
     "start_time": "2022-03-28T21:31:43.090193",
     "status": "completed"
    },
    "tags": []
   },
   "outputs": [],
   "source": [
    "#similar approach, but map name of movie to True, and NaN to False\n",
    "sw_mapping = {\n",
    "    \"Star Wars: Episode I  The Phantom Menace\": True,\n",
    "    np.nan: False,\n",
    "    \"Star Wars: Episode II  Attack of the Clones\": True,\n",
    "    \"Star Wars: Episode III  Revenge of the Sith\": True,\n",
    "    \"Star Wars: Episode IV  A New Hope\": True,\n",
    "    \"Star Wars: Episode V The Empire Strikes Back\": True,\n",
    "    \"Star Wars: Episode VI Return of the Jedi\": True\n",
    "}"
   ]
  },
  {
   "cell_type": "code",
   "execution_count": 8,
   "id": "4eb39d1c",
   "metadata": {
    "execution": {
     "iopub.execute_input": "2022-03-28T21:31:43.238993Z",
     "iopub.status.busy": "2022-03-28T21:31:43.238498Z",
     "iopub.status.idle": "2022-03-28T21:31:43.252445Z",
     "shell.execute_reply": "2022-03-28T21:31:43.252836Z",
     "shell.execute_reply.started": "2022-03-28T21:29:35.219639Z"
    },
    "papermill": {
     "duration": 0.062949,
     "end_time": "2022-03-28T21:31:43.252974",
     "exception": false,
     "start_time": "2022-03-28T21:31:43.190025",
     "status": "completed"
    },
    "tags": []
   },
   "outputs": [],
   "source": [
    "for col in star_wars.columns[3:9]:\n",
    "    star_wars[col] = star_wars[col].map(sw_mapping)"
   ]
  },
  {
   "cell_type": "code",
   "execution_count": 9,
   "id": "4c62c653",
   "metadata": {
    "execution": {
     "iopub.execute_input": "2022-03-28T21:31:43.400006Z",
     "iopub.status.busy": "2022-03-28T21:31:43.399291Z",
     "iopub.status.idle": "2022-03-28T21:31:43.402858Z",
     "shell.execute_reply": "2022-03-28T21:31:43.403218Z",
     "shell.execute_reply.started": "2022-03-28T21:29:35.238810Z"
    },
    "papermill": {
     "duration": 0.085346,
     "end_time": "2022-03-28T21:31:43.403353",
     "exception": false,
     "start_time": "2022-03-28T21:31:43.318007",
     "status": "completed"
    },
    "tags": []
   },
   "outputs": [],
   "source": [
    "#rename columns\n",
    "sw_names = {\n",
    "    \"Which of the following Star Wars films have you seen? Please select all that apply.\":  \"seen, episode 1\",\n",
    "    \"Unnamed: 4\": \"seen, episode 2\",\n",
    "    \"Unnamed: 5\": \"seen, episode 3\",\n",
    "    \"Unnamed: 6\": \"seen, episode 4\",\n",
    "    \"Unnamed: 7\": \"seen, episode 5\",\n",
    "    \"Unnamed: 8\": \"seen, episode 6\"\n",
    "}\n",
    "\n",
    "\n",
    "star_wars = star_wars.rename(sw_names, axis=1)"
   ]
  },
  {
   "cell_type": "code",
   "execution_count": 10,
   "id": "a0d8bf74",
   "metadata": {
    "execution": {
     "iopub.execute_input": "2022-03-28T21:31:43.503576Z",
     "iopub.status.busy": "2022-03-28T21:31:43.503100Z",
     "iopub.status.idle": "2022-03-28T21:31:43.522312Z",
     "shell.execute_reply": "2022-03-28T21:31:43.522684Z",
     "shell.execute_reply.started": "2022-03-28T21:29:35.249318Z"
    },
    "papermill": {
     "duration": 0.070272,
     "end_time": "2022-03-28T21:31:43.522823",
     "exception": false,
     "start_time": "2022-03-28T21:31:43.452551",
     "status": "completed"
    },
    "tags": []
   },
   "outputs": [
    {
     "data": {
      "text/html": [
       "<div>\n",
       "<style scoped>\n",
       "    .dataframe tbody tr th:only-of-type {\n",
       "        vertical-align: middle;\n",
       "    }\n",
       "\n",
       "    .dataframe tbody tr th {\n",
       "        vertical-align: top;\n",
       "    }\n",
       "\n",
       "    .dataframe thead th {\n",
       "        text-align: right;\n",
       "    }\n",
       "</style>\n",
       "<table border=\"1\" class=\"dataframe\">\n",
       "  <thead>\n",
       "    <tr style=\"text-align: right;\">\n",
       "      <th></th>\n",
       "      <th>RespondentID</th>\n",
       "      <th>Have you seen any of the 6 films in the Star Wars franchise?</th>\n",
       "      <th>Do you consider yourself to be a fan of the Star Wars film franchise?</th>\n",
       "      <th>seen, episode 1</th>\n",
       "      <th>seen, episode 2</th>\n",
       "      <th>seen, episode 3</th>\n",
       "      <th>seen, episode 4</th>\n",
       "      <th>seen, episode 5</th>\n",
       "      <th>seen, episode 6</th>\n",
       "      <th>Please rank the Star Wars films in order of preference with 1 being your favorite film in the franchise and 6 being your least favorite film.</th>\n",
       "      <th>...</th>\n",
       "      <th>Unnamed: 28</th>\n",
       "      <th>Which character shot first?</th>\n",
       "      <th>Are you familiar with the Expanded Universe?</th>\n",
       "      <th>Do you consider yourself to be a fan of the Expanded Universe?ÂÃ¦</th>\n",
       "      <th>Do you consider yourself to be a fan of the Star Trek franchise?</th>\n",
       "      <th>Gender</th>\n",
       "      <th>Age</th>\n",
       "      <th>Household Income</th>\n",
       "      <th>Education</th>\n",
       "      <th>Location (Census Region)</th>\n",
       "    </tr>\n",
       "  </thead>\n",
       "  <tbody>\n",
       "    <tr>\n",
       "      <th>0</th>\n",
       "      <td>NaN</td>\n",
       "      <td>NaN</td>\n",
       "      <td>NaN</td>\n",
       "      <td>True</td>\n",
       "      <td>True</td>\n",
       "      <td>True</td>\n",
       "      <td>True</td>\n",
       "      <td>True</td>\n",
       "      <td>True</td>\n",
       "      <td>Star Wars: Episode I  The Phantom Menace</td>\n",
       "      <td>...</td>\n",
       "      <td>Yoda</td>\n",
       "      <td>Response</td>\n",
       "      <td>Response</td>\n",
       "      <td>Response</td>\n",
       "      <td>Response</td>\n",
       "      <td>Response</td>\n",
       "      <td>Response</td>\n",
       "      <td>Response</td>\n",
       "      <td>Response</td>\n",
       "      <td>Response</td>\n",
       "    </tr>\n",
       "    <tr>\n",
       "      <th>1</th>\n",
       "      <td>3.292880e+09</td>\n",
       "      <td>True</td>\n",
       "      <td>True</td>\n",
       "      <td>True</td>\n",
       "      <td>True</td>\n",
       "      <td>True</td>\n",
       "      <td>True</td>\n",
       "      <td>True</td>\n",
       "      <td>True</td>\n",
       "      <td>3</td>\n",
       "      <td>...</td>\n",
       "      <td>Very favorably</td>\n",
       "      <td>I don't understand this question</td>\n",
       "      <td>Yes</td>\n",
       "      <td>No</td>\n",
       "      <td>No</td>\n",
       "      <td>Male</td>\n",
       "      <td>18-29</td>\n",
       "      <td>NaN</td>\n",
       "      <td>High school degree</td>\n",
       "      <td>South Atlantic</td>\n",
       "    </tr>\n",
       "    <tr>\n",
       "      <th>2</th>\n",
       "      <td>3.292880e+09</td>\n",
       "      <td>False</td>\n",
       "      <td>NaN</td>\n",
       "      <td>False</td>\n",
       "      <td>False</td>\n",
       "      <td>False</td>\n",
       "      <td>False</td>\n",
       "      <td>False</td>\n",
       "      <td>False</td>\n",
       "      <td>NaN</td>\n",
       "      <td>...</td>\n",
       "      <td>NaN</td>\n",
       "      <td>NaN</td>\n",
       "      <td>NaN</td>\n",
       "      <td>NaN</td>\n",
       "      <td>Yes</td>\n",
       "      <td>Male</td>\n",
       "      <td>18-29</td>\n",
       "      <td>$0 - $24,999</td>\n",
       "      <td>Bachelor degree</td>\n",
       "      <td>West South Central</td>\n",
       "    </tr>\n",
       "    <tr>\n",
       "      <th>3</th>\n",
       "      <td>3.292765e+09</td>\n",
       "      <td>True</td>\n",
       "      <td>False</td>\n",
       "      <td>True</td>\n",
       "      <td>True</td>\n",
       "      <td>True</td>\n",
       "      <td>False</td>\n",
       "      <td>False</td>\n",
       "      <td>False</td>\n",
       "      <td>1</td>\n",
       "      <td>...</td>\n",
       "      <td>Unfamiliar (N/A)</td>\n",
       "      <td>I don't understand this question</td>\n",
       "      <td>No</td>\n",
       "      <td>NaN</td>\n",
       "      <td>No</td>\n",
       "      <td>Male</td>\n",
       "      <td>18-29</td>\n",
       "      <td>$0 - $24,999</td>\n",
       "      <td>High school degree</td>\n",
       "      <td>West North Central</td>\n",
       "    </tr>\n",
       "    <tr>\n",
       "      <th>4</th>\n",
       "      <td>3.292763e+09</td>\n",
       "      <td>True</td>\n",
       "      <td>True</td>\n",
       "      <td>True</td>\n",
       "      <td>True</td>\n",
       "      <td>True</td>\n",
       "      <td>True</td>\n",
       "      <td>True</td>\n",
       "      <td>True</td>\n",
       "      <td>5</td>\n",
       "      <td>...</td>\n",
       "      <td>Very favorably</td>\n",
       "      <td>I don't understand this question</td>\n",
       "      <td>No</td>\n",
       "      <td>NaN</td>\n",
       "      <td>Yes</td>\n",
       "      <td>Male</td>\n",
       "      <td>18-29</td>\n",
       "      <td>$100,000 - $149,999</td>\n",
       "      <td>Some college or Associate degree</td>\n",
       "      <td>West North Central</td>\n",
       "    </tr>\n",
       "  </tbody>\n",
       "</table>\n",
       "<p>5 rows × 38 columns</p>\n",
       "</div>"
      ],
      "text/plain": [
       "   RespondentID Have you seen any of the 6 films in the Star Wars franchise?  \\\n",
       "0           NaN                                                NaN             \n",
       "1  3.292880e+09                                               True             \n",
       "2  3.292880e+09                                              False             \n",
       "3  3.292765e+09                                               True             \n",
       "4  3.292763e+09                                               True             \n",
       "\n",
       "  Do you consider yourself to be a fan of the Star Wars film franchise?  \\\n",
       "0                                                NaN                      \n",
       "1                                               True                      \n",
       "2                                                NaN                      \n",
       "3                                              False                      \n",
       "4                                               True                      \n",
       "\n",
       "   seen, episode 1  seen, episode 2  seen, episode 3  seen, episode 4  \\\n",
       "0             True             True             True             True   \n",
       "1             True             True             True             True   \n",
       "2            False            False            False            False   \n",
       "3             True             True             True            False   \n",
       "4             True             True             True             True   \n",
       "\n",
       "   seen, episode 5  seen, episode 6  \\\n",
       "0             True             True   \n",
       "1             True             True   \n",
       "2            False            False   \n",
       "3            False            False   \n",
       "4             True             True   \n",
       "\n",
       "  Please rank the Star Wars films in order of preference with 1 being your favorite film in the franchise and 6 being your least favorite film.  \\\n",
       "0           Star Wars: Episode I  The Phantom Menace                                                                                              \n",
       "1                                                  3                                                                                              \n",
       "2                                                NaN                                                                                              \n",
       "3                                                  1                                                                                              \n",
       "4                                                  5                                                                                              \n",
       "\n",
       "   ...       Unnamed: 28       Which character shot first?  \\\n",
       "0  ...              Yoda                          Response   \n",
       "1  ...    Very favorably  I don't understand this question   \n",
       "2  ...               NaN                               NaN   \n",
       "3  ...  Unfamiliar (N/A)  I don't understand this question   \n",
       "4  ...    Very favorably  I don't understand this question   \n",
       "\n",
       "  Are you familiar with the Expanded Universe?  \\\n",
       "0                                     Response   \n",
       "1                                          Yes   \n",
       "2                                          NaN   \n",
       "3                                           No   \n",
       "4                                           No   \n",
       "\n",
       "  Do you consider yourself to be a fan of the Expanded Universe?ÂÃ¦  \\\n",
       "0                                           Response                   \n",
       "1                                                 No                   \n",
       "2                                                NaN                   \n",
       "3                                                NaN                   \n",
       "4                                                NaN                   \n",
       "\n",
       "  Do you consider yourself to be a fan of the Star Trek franchise?    Gender  \\\n",
       "0                                           Response                Response   \n",
       "1                                                 No                    Male   \n",
       "2                                                Yes                    Male   \n",
       "3                                                 No                    Male   \n",
       "4                                                Yes                    Male   \n",
       "\n",
       "        Age     Household Income                         Education  \\\n",
       "0  Response             Response                          Response   \n",
       "1     18-29                  NaN                High school degree   \n",
       "2     18-29         $0 - $24,999                   Bachelor degree   \n",
       "3     18-29         $0 - $24,999                High school degree   \n",
       "4     18-29  $100,000 - $149,999  Some college or Associate degree   \n",
       "\n",
       "  Location (Census Region)  \n",
       "0                 Response  \n",
       "1           South Atlantic  \n",
       "2       West South Central  \n",
       "3       West North Central  \n",
       "4       West North Central  \n",
       "\n",
       "[5 rows x 38 columns]"
      ]
     },
     "execution_count": 10,
     "metadata": {},
     "output_type": "execute_result"
    }
   ],
   "source": [
    "star_wars.head()"
   ]
  },
  {
   "cell_type": "markdown",
   "id": "23d19206",
   "metadata": {
    "papermill": {
     "duration": 0.053368,
     "end_time": "2022-03-28T21:31:43.625895",
     "exception": false,
     "start_time": "2022-03-28T21:31:43.572527",
     "status": "completed"
    },
    "tags": []
   },
   "source": [
    "### Problem 3"
   ]
  },
  {
   "cell_type": "code",
   "execution_count": 11,
   "id": "e1cbbf7f",
   "metadata": {
    "execution": {
     "iopub.execute_input": "2022-03-28T21:31:43.728771Z",
     "iopub.status.busy": "2022-03-28T21:31:43.728301Z",
     "iopub.status.idle": "2022-03-28T21:31:43.732883Z",
     "shell.execute_reply": "2022-03-28T21:31:43.733228Z",
     "shell.execute_reply.started": "2022-03-28T21:29:35.290946Z"
    },
    "papermill": {
     "duration": 0.05717,
     "end_time": "2022-03-28T21:31:43.733344",
     "exception": false,
     "start_time": "2022-03-28T21:31:43.676174",
     "status": "completed"
    },
    "tags": []
   },
   "outputs": [],
   "source": [
    "#previously, NaN was preventing me from converting the float so had to remove\n",
    "star_wars.drop(star_wars.index[star_wars['Please rank the Star Wars films in order of preference with 1 being your favorite film in the franchise and 6 being your least favorite film.'] == 'Star Wars: Episode I  The Phantom Menace'], inplace=True)"
   ]
  },
  {
   "cell_type": "code",
   "execution_count": 12,
   "id": "c5d7ad15",
   "metadata": {
    "execution": {
     "iopub.execute_input": "2022-03-28T21:31:43.836558Z",
     "iopub.status.busy": "2022-03-28T21:31:43.832311Z",
     "iopub.status.idle": "2022-03-28T21:31:43.840225Z",
     "shell.execute_reply": "2022-03-28T21:31:43.840582Z",
     "shell.execute_reply.started": "2022-03-28T21:29:35.299625Z"
    },
    "papermill": {
     "duration": 0.059163,
     "end_time": "2022-03-28T21:31:43.840732",
     "exception": false,
     "start_time": "2022-03-28T21:31:43.781569",
     "status": "completed"
    },
    "tags": []
   },
   "outputs": [],
   "source": [
    "#converting column entries to  float\n",
    "\n",
    "star_wars[star_wars.columns[9:15]] = star_wars[star_wars.columns[9:15]].astype(float)"
   ]
  },
  {
   "cell_type": "code",
   "execution_count": 13,
   "id": "04796044",
   "metadata": {
    "execution": {
     "iopub.execute_input": "2022-03-28T21:31:43.945486Z",
     "iopub.status.busy": "2022-03-28T21:31:43.945007Z",
     "iopub.status.idle": "2022-03-28T21:31:43.945996Z",
     "shell.execute_reply": "2022-03-28T21:31:43.946341Z",
     "shell.execute_reply.started": "2022-03-28T21:29:35.317133Z"
    },
    "papermill": {
     "duration": 0.056963,
     "end_time": "2022-03-28T21:31:43.946467",
     "exception": false,
     "start_time": "2022-03-28T21:31:43.889504",
     "status": "completed"
    },
    "tags": []
   },
   "outputs": [],
   "source": [
    "#renaming ranking columns\n",
    "sw_ranks = {\n",
    "    \"Please rank the Star Wars films in order of preference with 1 being your favorite film in the franchise and 6 being your least favorite film.\":  \"rank, episode 1\",\n",
    "    \"Unnamed: 10\": \"rank, episode 2\",\n",
    "    \"Unnamed: 11\": \"rank, episode 3\",\n",
    "    \"Unnamed: 12\": \"rank, episode 4\",\n",
    "    \"Unnamed: 13\": \"rank, episode 5\",\n",
    "    \"Unnamed: 14\": \"rank, episode 6\"\n",
    "}\n",
    "\n",
    "star_wars = star_wars.rename(sw_ranks, axis=1)"
   ]
  },
  {
   "cell_type": "code",
   "execution_count": 14,
   "id": "347c2579",
   "metadata": {
    "execution": {
     "iopub.execute_input": "2022-03-28T21:31:44.045692Z",
     "iopub.status.busy": "2022-03-28T21:31:44.045239Z",
     "iopub.status.idle": "2022-03-28T21:31:44.049588Z",
     "shell.execute_reply": "2022-03-28T21:31:44.050005Z",
     "shell.execute_reply.started": "2022-03-28T21:29:35.327891Z"
    },
    "papermill": {
     "duration": 0.055306,
     "end_time": "2022-03-28T21:31:44.050131",
     "exception": false,
     "start_time": "2022-03-28T21:31:43.994825",
     "status": "completed"
    },
    "tags": []
   },
   "outputs": [
    {
     "data": {
      "text/plain": [
       "Index(['RespondentID',\n",
       "       'Have you seen any of the 6 films in the Star Wars franchise?',\n",
       "       'Do you consider yourself to be a fan of the Star Wars film franchise?',\n",
       "       'seen, episode 1', 'seen, episode 2', 'seen, episode 3',\n",
       "       'seen, episode 4', 'seen, episode 5', 'seen, episode 6',\n",
       "       'rank, episode 1', 'rank, episode 2', 'rank, episode 3',\n",
       "       'rank, episode 4', 'rank, episode 5', 'rank, episode 6',\n",
       "       'Please state whether you view the following characters favorably, unfavorably, or are unfamiliar with him/her.',\n",
       "       'Unnamed: 16', 'Unnamed: 17', 'Unnamed: 18', 'Unnamed: 19',\n",
       "       'Unnamed: 20', 'Unnamed: 21', 'Unnamed: 22', 'Unnamed: 23',\n",
       "       'Unnamed: 24', 'Unnamed: 25', 'Unnamed: 26', 'Unnamed: 27',\n",
       "       'Unnamed: 28', 'Which character shot first?',\n",
       "       'Are you familiar with the Expanded Universe?',\n",
       "       'Do you consider yourself to be a fan of the Expanded Universe?ÂÃ¦',\n",
       "       'Do you consider yourself to be a fan of the Star Trek franchise?',\n",
       "       'Gender', 'Age', 'Household Income', 'Education',\n",
       "       'Location (Census Region)'],\n",
       "      dtype='object')"
      ]
     },
     "execution_count": 14,
     "metadata": {},
     "output_type": "execute_result"
    }
   ],
   "source": [
    "star_wars.columns"
   ]
  },
  {
   "cell_type": "markdown",
   "id": "7d1a3065",
   "metadata": {
    "papermill": {
     "duration": 0.047863,
     "end_time": "2022-03-28T21:31:44.146126",
     "exception": false,
     "start_time": "2022-03-28T21:31:44.098263",
     "status": "completed"
    },
    "tags": []
   },
   "source": [
    "# Data analysis - highest-ranked movie"
   ]
  },
  {
   "cell_type": "code",
   "execution_count": 15,
   "id": "23b1fdc0",
   "metadata": {
    "execution": {
     "iopub.execute_input": "2022-03-28T21:31:44.243539Z",
     "iopub.status.busy": "2022-03-28T21:31:44.243053Z",
     "iopub.status.idle": "2022-03-28T21:31:44.251135Z",
     "shell.execute_reply": "2022-03-28T21:31:44.251569Z",
     "shell.execute_reply.started": "2022-03-28T21:29:35.340749Z"
    },
    "papermill": {
     "duration": 0.058095,
     "end_time": "2022-03-28T21:31:44.251726",
     "exception": false,
     "start_time": "2022-03-28T21:31:44.193631",
     "status": "completed"
    },
    "tags": []
   },
   "outputs": [
    {
     "name": "stderr",
     "output_type": "stream",
     "text": [
      "/opt/conda/lib/python3.7/site-packages/ipykernel_launcher.py:2: FutureWarning: Dropping of nuisance columns in DataFrame reductions (with 'numeric_only=None') is deprecated; in a future version this will raise TypeError.  Select only valid columns before calling the reduction.\n",
      "  \n"
     ]
    }
   ],
   "source": [
    "#first calculate means for all columns\n",
    "means = star_wars.mean()"
   ]
  },
  {
   "cell_type": "code",
   "execution_count": 16,
   "id": "d431d12b",
   "metadata": {
    "execution": {
     "iopub.execute_input": "2022-03-28T21:31:44.354678Z",
     "iopub.status.busy": "2022-03-28T21:31:44.354235Z",
     "iopub.status.idle": "2022-03-28T21:31:44.611803Z",
     "shell.execute_reply": "2022-03-28T21:31:44.611239Z",
     "shell.execute_reply.started": "2022-03-28T21:29:35.362317Z"
    },
    "papermill": {
     "duration": 0.308954,
     "end_time": "2022-03-28T21:31:44.611907",
     "exception": false,
     "start_time": "2022-03-28T21:31:44.302953",
     "status": "completed"
    },
    "tags": []
   },
   "outputs": [
    {
     "data": {
      "text/plain": [
       "<AxesSubplot:title={'center':'Each episode, ranked. A lower ranking is better!!'}>"
      ]
     },
     "execution_count": 16,
     "metadata": {},
     "output_type": "execute_result"
    },
    {
     "data": {
      "image/png": "[encoded data removed]",
      "text/plain": [
       "<Figure size 432x288 with 1 Axes>"
      ]
     },
     "metadata": {
      "needs_background": "light"
     },
     "output_type": "display_data"
    }
   ],
   "source": [
    "#then filter to only means for the ranking columns\n",
    "rank_means = means[9:15].astype(float)\n",
    "plt.title('Each episode, ranked. A lower ranking is better!!')\n",
    "\n",
    "rank_means.plot.barh()"
   ]
  },
  {
   "cell_type": "markdown",
   "id": "85947243",
   "metadata": {
    "papermill": {
     "duration": 0.049555,
     "end_time": "2022-03-28T21:31:44.711964",
     "exception": false,
     "start_time": "2022-03-28T21:31:44.662409",
     "status": "completed"
    },
    "tags": []
   },
   "source": [
    "### Observations - average movie rankings\n",
    "Episode 5 was the highest ranked movie, followed by episode 6, then 4. \n",
    "- these relate to the original trilogy of movies, released in order of 4, 5 and 6\n",
    "- these match expectations; common opinion is that the original trilogy was better!"
   ]
  },
  {
   "cell_type": "markdown",
   "id": "645b0848",
   "metadata": {
    "papermill": {
     "duration": 0.049732,
     "end_time": "2022-03-28T21:31:44.812685",
     "exception": false,
     "start_time": "2022-03-28T21:31:44.762953",
     "status": "completed"
    },
    "tags": []
   },
   "source": [
    "# Data analysis - how many people viewed each movie\n",
    "As I cleaned the 'seen' columns, I can use .sum() to treat the boolean values as integers (True = 1, False = 0). Therefore, calculating the total number of views can be done by taking the sum of each 'seen' column."
   ]
  },
  {
   "cell_type": "code",
   "execution_count": 17,
   "id": "e0476cb3",
   "metadata": {
    "execution": {
     "iopub.execute_input": "2022-03-28T21:31:44.920468Z",
     "iopub.status.busy": "2022-03-28T21:31:44.920002Z",
     "iopub.status.idle": "2022-03-28T21:31:44.930956Z",
     "shell.execute_reply": "2022-03-28T21:31:44.931591Z",
     "shell.execute_reply.started": "2022-03-28T21:29:35.620346Z"
    },
    "papermill": {
     "duration": 0.068716,
     "end_time": "2022-03-28T21:31:44.931801",
     "exception": false,
     "start_time": "2022-03-28T21:31:44.863085",
     "status": "completed"
    },
    "tags": []
   },
   "outputs": [
    {
     "name": "stderr",
     "output_type": "stream",
     "text": [
      "/opt/conda/lib/python3.7/site-packages/ipykernel_launcher.py:1: FutureWarning: Dropping of nuisance columns in DataFrame reductions (with 'numeric_only=None') is deprecated; in a future version this will raise TypeError.  Select only valid columns before calling the reduction.\n",
      "  \"\"\"Entry point for launching an IPython kernel.\n"
     ]
    }
   ],
   "source": [
    "totals = star_wars.sum()"
   ]
  },
  {
   "cell_type": "code",
   "execution_count": 18,
   "id": "66c90eb6",
   "metadata": {
    "execution": {
     "iopub.execute_input": "2022-03-28T21:31:45.102617Z",
     "iopub.status.busy": "2022-03-28T21:31:45.101818Z",
     "iopub.status.idle": "2022-03-28T21:31:45.256302Z",
     "shell.execute_reply": "2022-03-28T21:31:45.256678Z",
     "shell.execute_reply.started": "2022-03-28T21:29:35.635302Z"
    },
    "papermill": {
     "duration": 0.235435,
     "end_time": "2022-03-28T21:31:45.256832",
     "exception": false,
     "start_time": "2022-03-28T21:31:45.021397",
     "status": "completed"
    },
    "tags": []
   },
   "outputs": [
    {
     "data": {
      "text/plain": [
       "<AxesSubplot:>"
      ]
     },
     "execution_count": 18,
     "metadata": {},
     "output_type": "execute_result"
    },
    {
     "data": {
      "image/png": "[encoded data removed]",
      "text/plain": [
       "<Figure size 432x288 with 1 Axes>"
      ]
     },
     "metadata": {
      "needs_background": "light"
     },
     "output_type": "display_data"
    }
   ],
   "source": [
    "seen_totals = totals[3:9].astype(float)\n",
    "seen_totals.plot.bar(rot=35)"
   ]
  },
  {
   "cell_type": "markdown",
   "id": "ab47afc1",
   "metadata": {
    "papermill": {
     "duration": 0.051525,
     "end_time": "2022-03-28T21:31:45.358944",
     "exception": false,
     "start_time": "2022-03-28T21:31:45.307419",
     "status": "completed"
    },
    "tags": []
   },
   "source": [
    "### Observations - total views for each movie\n",
    "More respondents have seen the original trilogy than the prequels. They also ranked these movies higher, suggesting a link. Episode 1 was also seen by more respondents than episode 4, and although it wasn't ranked higher than episode 4 - it was the highest ranked prequel movie. "
   ]
  },
  {
   "cell_type": "markdown",
   "id": "0f7631da",
   "metadata": {
    "papermill": {
     "duration": 0.050371,
     "end_time": "2022-03-28T21:31:45.459785",
     "exception": false,
     "start_time": "2022-03-28T21:31:45.409414",
     "status": "completed"
    },
    "tags": []
   },
   "source": [
    "# Data analysis - demographic preference (gender)"
   ]
  },
  {
   "cell_type": "code",
   "execution_count": 19,
   "id": "7b501f72",
   "metadata": {
    "execution": {
     "iopub.execute_input": "2022-03-28T21:31:45.564367Z",
     "iopub.status.busy": "2022-03-28T21:31:45.563904Z",
     "iopub.status.idle": "2022-03-28T21:31:45.586327Z",
     "shell.execute_reply": "2022-03-28T21:31:45.587142Z",
     "shell.execute_reply.started": "2022-03-28T21:29:35.956634Z"
    },
    "papermill": {
     "duration": 0.076887,
     "end_time": "2022-03-28T21:31:45.587343",
     "exception": false,
     "start_time": "2022-03-28T21:31:45.510456",
     "status": "completed"
    },
    "tags": []
   },
   "outputs": [
    {
     "name": "stderr",
     "output_type": "stream",
     "text": [
      "/opt/conda/lib/python3.7/site-packages/ipykernel_launcher.py:4: FutureWarning: Dropping of nuisance columns in DataFrame reductions (with 'numeric_only=None') is deprecated; in a future version this will raise TypeError.  Select only valid columns before calling the reduction.\n",
      "  after removing the cwd from sys.path.\n",
      "/opt/conda/lib/python3.7/site-packages/ipykernel_launcher.py:5: FutureWarning: Dropping of nuisance columns in DataFrame reductions (with 'numeric_only=None') is deprecated; in a future version this will raise TypeError.  Select only valid columns before calling the reduction.\n",
      "  \"\"\"\n",
      "/opt/conda/lib/python3.7/site-packages/ipykernel_launcher.py:7: FutureWarning: Dropping of nuisance columns in DataFrame reductions (with 'numeric_only=None') is deprecated; in a future version this will raise TypeError.  Select only valid columns before calling the reduction.\n",
      "  import sys\n",
      "/opt/conda/lib/python3.7/site-packages/ipykernel_launcher.py:8: FutureWarning: Dropping of nuisance columns in DataFrame reductions (with 'numeric_only=None') is deprecated; in a future version this will raise TypeError.  Select only valid columns before calling the reduction.\n",
      "  \n"
     ]
    }
   ],
   "source": [
    "males = star_wars[star_wars[\"Gender\"] == \"Male\"]\n",
    "females = star_wars[star_wars[\"Gender\"] == \"Female\"]\n",
    "\n",
    "males_means = males.mean()\n",
    "females_means = females.mean()\n",
    "\n",
    "male_totals = males.sum()\n",
    "female_totals = females.sum()"
   ]
  },
  {
   "cell_type": "code",
   "execution_count": 20,
   "id": "285dcf07",
   "metadata": {
    "execution": {
     "iopub.execute_input": "2022-03-28T21:31:45.752741Z",
     "iopub.status.busy": "2022-03-28T21:31:45.752123Z",
     "iopub.status.idle": "2022-03-28T21:31:45.977810Z",
     "shell.execute_reply": "2022-03-28T21:31:45.978306Z",
     "shell.execute_reply.started": "2022-03-28T21:29:35.991389Z"
    },
    "papermill": {
     "duration": 0.311791,
     "end_time": "2022-03-28T21:31:45.978454",
     "exception": false,
     "start_time": "2022-03-28T21:31:45.666663",
     "status": "completed"
    },
    "tags": []
   },
   "outputs": [
    {
     "data": {
      "image/png": "[encoded data removed]",
      "text/plain": [
       "<Figure size 504x720 with 2 Axes>"
      ]
     },
     "metadata": {
      "needs_background": "light"
     },
     "output_type": "display_data"
    }
   ],
   "source": [
    "male_rank_means = males_means[9:15].astype(float)\n",
    "female_rank_means = females_means[9:15].astype(float)\n",
    "\n",
    "plt.figure(figsize=(7, 10))\n",
    "plt.subplot(2, 1, 1)\n",
    "male_rank_means.plot.barh()\n",
    "plt.title('Each episode, ranked by male respondents')\n",
    "\n",
    "plt.subplot(2, 1, 2)\n",
    "\n",
    "female_rank_means.plot.barh()\n",
    "plt.title('Each episode, ranked by female respondents')\n",
    "\n",
    "plt.show()"
   ]
  },
  {
   "cell_type": "code",
   "execution_count": 21,
   "id": "9c02f580",
   "metadata": {
    "execution": {
     "iopub.execute_input": "2022-03-28T21:31:46.138779Z",
     "iopub.status.busy": "2022-03-28T21:31:46.138184Z",
     "iopub.status.idle": "2022-03-28T21:31:46.363682Z",
     "shell.execute_reply": "2022-03-28T21:31:46.364193Z",
     "shell.execute_reply.started": "2022-03-28T21:29:36.321481Z"
    },
    "papermill": {
     "duration": 0.306861,
     "end_time": "2022-03-28T21:31:46.364339",
     "exception": false,
     "start_time": "2022-03-28T21:31:46.057478",
     "status": "completed"
    },
    "tags": []
   },
   "outputs": [
    {
     "data": {
      "image/png": "[encoded data removed]",
      "text/plain": [
       "<Figure size 504x720 with 2 Axes>"
      ]
     },
     "metadata": {
      "needs_background": "light"
     },
     "output_type": "display_data"
    }
   ],
   "source": [
    "male_seen_totals = male_totals[3:9].astype(float)\n",
    "female_seen_totals = female_totals[3:9].astype(float)\n",
    "\n",
    "\n",
    "plt.figure(figsize=(7, 10))\n",
    "plt.subplot(2, 1, 1)\n",
    "male_seen_totals.plot.barh()\n",
    "plt.title('males, seen')\n",
    "\n",
    "plt.subplot(2, 1, 2)\n",
    "female_seen_totals.plot.barh()\n",
    "plt.title('females, seen')\n",
    "plt.show()"
   ]
  },
  {
   "cell_type": "markdown",
   "id": "f5314643",
   "metadata": {
    "papermill": {
     "duration": 0.079097,
     "end_time": "2022-03-28T21:31:46.523438",
     "exception": false,
     "start_time": "2022-03-28T21:31:46.444341",
     "status": "completed"
    },
    "tags": []
   },
   "source": [
    "### Observations\n",
    "\n",
    "**Ranking**\n",
    "\n",
    "In male respondents, rankings are very clear in favour of the original trilogy movies. For the female respondents, episode 1 was actually ranked higher than episode 4 and the difference in rankings between the rest of the original trilogy vs sequels is not as large as it is in male respondents.\n",
    "\n",
    "**Which movies have the respondents seen**\n",
    "\n",
    "For males, more respondents have seen episode 6, 5 and 1 than any other movie. For female respondents, the difference is greater; more have seen the original movies (5 and 6) and then episode 1. \n",
    "- more males have seen all movies than females, where they have mostly seen 5, 6 and 1\n",
    "- despite that more males have watched 1-3 than females, they liked them less than females\n"
   ]
  },
  {
   "cell_type": "markdown",
   "id": "bebd31cf",
   "metadata": {
    "papermill": {
     "duration": 0.079505,
     "end_time": "2022-03-28T21:31:46.682818",
     "exception": false,
     "start_time": "2022-03-28T21:31:46.603313",
     "status": "completed"
    },
    "tags": []
   },
   "source": [
    "# Data analysis - demographic preference (fans vs non fans)"
   ]
  },
  {
   "cell_type": "code",
   "execution_count": 22,
   "id": "a6b077ed",
   "metadata": {
    "execution": {
     "iopub.execute_input": "2022-03-28T21:31:46.848532Z",
     "iopub.status.busy": "2022-03-28T21:31:46.847961Z",
     "iopub.status.idle": "2022-03-28T21:31:46.852672Z",
     "shell.execute_reply": "2022-03-28T21:31:46.853266Z",
     "shell.execute_reply.started": "2022-03-28T21:29:36.649734Z"
    },
    "papermill": {
     "duration": 0.08787,
     "end_time": "2022-03-28T21:31:46.853392",
     "exception": false,
     "start_time": "2022-03-28T21:31:46.765522",
     "status": "completed"
    },
    "tags": []
   },
   "outputs": [],
   "source": [
    "fans = star_wars[star_wars[\"Do you consider yourself to be a fan of the Star Wars film franchise?\"] == True]\n",
    "not_fans = star_wars[star_wars[\"Do you consider yourself to be a fan of the Star Wars film franchise?\"] == False]"
   ]
  },
  {
   "cell_type": "code",
   "execution_count": 23,
   "id": "eb35bf80",
   "metadata": {
    "execution": {
     "iopub.execute_input": "2022-03-28T21:31:47.016564Z",
     "iopub.status.busy": "2022-03-28T21:31:47.016002Z",
     "iopub.status.idle": "2022-03-28T21:31:47.033229Z",
     "shell.execute_reply": "2022-03-28T21:31:47.033677Z",
     "shell.execute_reply.started": "2022-03-28T21:29:36.658032Z"
    },
    "papermill": {
     "duration": 0.100319,
     "end_time": "2022-03-28T21:31:47.033818",
     "exception": false,
     "start_time": "2022-03-28T21:31:46.933499",
     "status": "completed"
    },
    "tags": []
   },
   "outputs": [
    {
     "name": "stderr",
     "output_type": "stream",
     "text": [
      "/opt/conda/lib/python3.7/site-packages/ipykernel_launcher.py:1: FutureWarning: Dropping of nuisance columns in DataFrame reductions (with 'numeric_only=None') is deprecated; in a future version this will raise TypeError.  Select only valid columns before calling the reduction.\n",
      "  \"\"\"Entry point for launching an IPython kernel.\n",
      "/opt/conda/lib/python3.7/site-packages/ipykernel_launcher.py:2: FutureWarning: Dropping of nuisance columns in DataFrame reductions (with 'numeric_only=None') is deprecated; in a future version this will raise TypeError.  Select only valid columns before calling the reduction.\n",
      "  \n",
      "/opt/conda/lib/python3.7/site-packages/ipykernel_launcher.py:4: FutureWarning: Dropping of nuisance columns in DataFrame reductions (with 'numeric_only=None') is deprecated; in a future version this will raise TypeError.  Select only valid columns before calling the reduction.\n",
      "  after removing the cwd from sys.path.\n",
      "/opt/conda/lib/python3.7/site-packages/ipykernel_launcher.py:5: FutureWarning: Dropping of nuisance columns in DataFrame reductions (with 'numeric_only=None') is deprecated; in a future version this will raise TypeError.  Select only valid columns before calling the reduction.\n",
      "  \"\"\"\n"
     ]
    }
   ],
   "source": [
    "fans_means = fans.mean()\n",
    "not_fans_means = not_fans.mean()\n",
    "\n",
    "fans_totals = fans.sum()\n",
    "not_fans_totals = not_fans.sum()"
   ]
  },
  {
   "cell_type": "code",
   "execution_count": 24,
   "id": "7ca743f0",
   "metadata": {
    "execution": {
     "iopub.execute_input": "2022-03-28T21:31:47.142792Z",
     "iopub.status.busy": "2022-03-28T21:31:47.142128Z",
     "iopub.status.idle": "2022-03-28T21:31:47.363733Z",
     "shell.execute_reply": "2022-03-28T21:31:47.364138Z",
     "shell.execute_reply.started": "2022-03-28T21:29:36.696613Z"
    },
    "papermill": {
     "duration": 0.277044,
     "end_time": "2022-03-28T21:31:47.364262",
     "exception": false,
     "start_time": "2022-03-28T21:31:47.087218",
     "status": "completed"
    },
    "tags": []
   },
   "outputs": [
    {
     "data": {
      "image/png": "[encoded data removed]",
      "text/plain": [
       "<Figure size 504x720 with 2 Axes>"
      ]
     },
     "metadata": {
      "needs_background": "light"
     },
     "output_type": "display_data"
    }
   ],
   "source": [
    "fans_rank_means = fans_means[9:15].astype(float)\n",
    "not_fans_rank_means = not_fans_means[9:15].astype(float)\n",
    "\n",
    "plt.figure(figsize=(7, 10))\n",
    "plt.subplot(2, 1, 1)\n",
    "fans_rank_means.plot.barh()\n",
    "plt.title('Each episode, ranked by fans')\n",
    "\n",
    "plt.subplot(2, 1, 2)\n",
    "\n",
    "not_fans_rank_means.plot.barh()\n",
    "plt.title('Each episode, ranked by non fans')\n",
    "\n",
    "plt.show()"
   ]
  },
  {
   "cell_type": "code",
   "execution_count": 25,
   "id": "19fd6487",
   "metadata": {
    "execution": {
     "iopub.execute_input": "2022-03-28T21:31:47.492015Z",
     "iopub.status.busy": "2022-03-28T21:31:47.491323Z",
     "iopub.status.idle": "2022-03-28T21:31:47.691006Z",
     "shell.execute_reply": "2022-03-28T21:31:47.691374Z",
     "shell.execute_reply.started": "2022-03-28T21:29:37.022591Z"
    },
    "papermill": {
     "duration": 0.272399,
     "end_time": "2022-03-28T21:31:47.691511",
     "exception": false,
     "start_time": "2022-03-28T21:31:47.419112",
     "status": "completed"
    },
    "tags": []
   },
   "outputs": [
    {
     "data": {
      "image/png": "[encoded data removed]",
      "text/plain": [
       "<Figure size 504x720 with 2 Axes>"
      ]
     },
     "metadata": {
      "needs_background": "light"
     },
     "output_type": "display_data"
    }
   ],
   "source": [
    "fans_seen_totals = fans_totals[3:9].astype(float)\n",
    "not_fans_seen_totals = not_fans_totals[3:9].astype(float)\n",
    "\n",
    "\n",
    "plt.figure(figsize=(7, 10))\n",
    "plt.subplot(2, 1, 1)\n",
    "fans_seen_totals.plot.barh()\n",
    "plt.title('fans, seen')\n",
    "\n",
    "plt.subplot(2, 1, 2)\n",
    "not_fans_seen_totals.plot.barh()\n",
    "plt.title('non fans, seen')\n",
    "plt.show()"
   ]
  },
  {
   "cell_type": "code",
   "execution_count": 26,
   "id": "d2c18cd6",
   "metadata": {
    "execution": {
     "iopub.execute_input": "2022-03-28T21:31:47.807278Z",
     "iopub.status.busy": "2022-03-28T21:31:47.806604Z",
     "iopub.status.idle": "2022-03-28T21:31:47.812798Z",
     "shell.execute_reply": "2022-03-28T21:31:47.813156Z",
     "shell.execute_reply.started": "2022-03-28T21:29:37.331324Z"
    },
    "papermill": {
     "duration": 0.065799,
     "end_time": "2022-03-28T21:31:47.813276",
     "exception": false,
     "start_time": "2022-03-28T21:31:47.747477",
     "status": "completed"
    },
    "tags": []
   },
   "outputs": [
    {
     "name": "stdout",
     "output_type": "stream",
     "text": [
      "Male      303\n",
      "Female    238\n",
      "Name: Gender, dtype: int64\n",
      "\n",
      "\n",
      "Female    159\n",
      "Male      120\n",
      "Name: Gender, dtype: int64\n"
     ]
    }
   ],
   "source": [
    "#how many fans vs non fans are male/female\n",
    "print(fans['Gender'].value_counts())\n",
    "print('\\n')\n",
    "print(not_fans['Gender'].value_counts())"
   ]
  },
  {
   "cell_type": "markdown",
   "id": "3864b57c",
   "metadata": {
    "papermill": {
     "duration": 0.056202,
     "end_time": "2022-03-28T21:31:47.926055",
     "exception": false,
     "start_time": "2022-03-28T21:31:47.869853",
     "status": "completed"
    },
    "tags": []
   },
   "source": [
    "### Observations - fans vs non fans\n",
    "\n",
    "**Ranking**\n",
    "\n",
    "Fans ranked the movies strictly in favour of the original trilogy - as seen in the male respondents. More male respondents also identified as a fan of the franchise. There is a wider spread of opinion amongst non fans, however it is still in favour of the original triology, apart from episode 1 which ranks second highest.\n",
    "\n",
    "**Which movies have the respondents seen**\n",
    "\n",
    "As expected, those that identified as fans have seen almost all of the movies. Non fans have mostly seen episode 6, 5 and episode 1. The bar chart is very similar to the female respondents; there were also more females that identified as non fans."
   ]
  },
  {
   "cell_type": "markdown",
   "id": "c045b18d",
   "metadata": {
    "papermill": {
     "duration": 0.0561,
     "end_time": "2022-03-28T21:31:48.038738",
     "exception": false,
     "start_time": "2022-03-28T21:31:47.982638",
     "status": "completed"
    },
    "tags": []
   },
   "source": [
    "# Data analysis - demographic preference (Education)\n",
    "\n",
    "I'll sort by education and see if I can find any interesting patterns here."
   ]
  },
  {
   "cell_type": "code",
   "execution_count": 27,
   "id": "71f6425c",
   "metadata": {
    "execution": {
     "iopub.execute_input": "2022-03-28T21:31:48.153519Z",
     "iopub.status.busy": "2022-03-28T21:31:48.152889Z",
     "iopub.status.idle": "2022-03-28T21:31:48.157961Z",
     "shell.execute_reply": "2022-03-28T21:31:48.158324Z",
     "shell.execute_reply.started": "2022-03-28T21:29:37.341440Z"
    },
    "papermill": {
     "duration": 0.063993,
     "end_time": "2022-03-28T21:31:48.158441",
     "exception": false,
     "start_time": "2022-03-28T21:31:48.094448",
     "status": "completed"
    },
    "tags": []
   },
   "outputs": [
    {
     "data": {
      "text/plain": [
       "Some college or Associate degree    328\n",
       "Bachelor degree                     321\n",
       "Graduate degree                     275\n",
       "High school degree                  105\n",
       "Less than high school degree          7\n",
       "Name: Education, dtype: int64"
      ]
     },
     "execution_count": 27,
     "metadata": {},
     "output_type": "execute_result"
    }
   ],
   "source": [
    "star_wars['Education'].value_counts()"
   ]
  },
  {
   "cell_type": "code",
   "execution_count": 28,
   "id": "0ae9bb6e",
   "metadata": {
    "execution": {
     "iopub.execute_input": "2022-03-28T21:31:48.272573Z",
     "iopub.status.busy": "2022-03-28T21:31:48.272142Z",
     "iopub.status.idle": "2022-03-28T21:31:48.279400Z",
     "shell.execute_reply": "2022-03-28T21:31:48.279823Z",
     "shell.execute_reply.started": "2022-03-28T21:29:37.358281Z"
    },
    "papermill": {
     "duration": 0.065916,
     "end_time": "2022-03-28T21:31:48.279959",
     "exception": false,
     "start_time": "2022-03-28T21:31:48.214043",
     "status": "completed"
    },
    "tags": []
   },
   "outputs": [],
   "source": [
    "bachelor = star_wars[star_wars['Education'] == 'Bachelor degree']\n",
    "graduate = star_wars[star_wars['Education'] == 'Graduate degree']\n",
    "high_school_only = star_wars[star_wars['Education'] == 'High school degree']\n",
    "some = star_wars[star_wars['Education'] == 'Some college or Associate degree']"
   ]
  },
  {
   "cell_type": "code",
   "execution_count": 29,
   "id": "efd78b40",
   "metadata": {
    "execution": {
     "iopub.execute_input": "2022-03-28T21:31:48.394745Z",
     "iopub.status.busy": "2022-03-28T21:31:48.394293Z",
     "iopub.status.idle": "2022-03-28T21:31:48.401949Z",
     "shell.execute_reply": "2022-03-28T21:31:48.402338Z",
     "shell.execute_reply.started": "2022-03-28T21:29:37.369780Z"
    },
    "papermill": {
     "duration": 0.066264,
     "end_time": "2022-03-28T21:31:48.402460",
     "exception": false,
     "start_time": "2022-03-28T21:31:48.336196",
     "status": "completed"
    },
    "tags": []
   },
   "outputs": [],
   "source": [
    "#calculating percentage of fans by education\n",
    "\n",
    "bachelor['Do you consider yourself to be a fan of the Star Wars film franchise?'].value_counts()\n",
    "bachelor_pct = 172/ (172+90) * 100\n",
    "\n",
    "graduate['Do you consider yourself to be a fan of the Star Wars film franchise?'].value_counts()\n",
    "graduate_pct = 152/ (152+74) * 100\n",
    "\n",
    "high_school_only['Do you consider yourself to be a fan of the Star Wars film franchise?'].value_counts()\n",
    "high_school_only_pct = 41/ (41+30) * 100\n",
    "\n",
    "some['Do you consider yourself to be a fan of the Star Wars film franchise?'].value_counts()\n",
    "some_pct = 171/(171+83) * 100"
   ]
  },
  {
   "cell_type": "code",
   "execution_count": 30,
   "id": "7652b744",
   "metadata": {
    "execution": {
     "iopub.execute_input": "2022-03-28T21:31:48.518254Z",
     "iopub.status.busy": "2022-03-28T21:31:48.517801Z",
     "iopub.status.idle": "2022-03-28T21:31:48.525084Z",
     "shell.execute_reply": "2022-03-28T21:31:48.524534Z",
     "shell.execute_reply.started": "2022-03-28T21:29:37.388324Z"
    },
    "papermill": {
     "duration": 0.065906,
     "end_time": "2022-03-28T21:31:48.525218",
     "exception": false,
     "start_time": "2022-03-28T21:31:48.459312",
     "status": "completed"
    },
    "tags": []
   },
   "outputs": [
    {
     "data": {
      "text/plain": [
       "True     171\n",
       "False     83\n",
       "Name: Do you consider yourself to be a fan of the Star Wars film franchise?, dtype: int64"
      ]
     },
     "execution_count": 30,
     "metadata": {},
     "output_type": "execute_result"
    }
   ],
   "source": [
    "some['Do you consider yourself to be a fan of the Star Wars film franchise?'].value_counts()"
   ]
  },
  {
   "cell_type": "code",
   "execution_count": 31,
   "id": "b61f801a",
   "metadata": {
    "execution": {
     "iopub.execute_input": "2022-03-28T21:31:48.710085Z",
     "iopub.status.busy": "2022-03-28T21:31:48.709258Z",
     "iopub.status.idle": "2022-03-28T21:31:48.714217Z",
     "shell.execute_reply": "2022-03-28T21:31:48.715361Z",
     "shell.execute_reply.started": "2022-03-28T21:29:37.407565Z"
    },
    "papermill": {
     "duration": 0.104877,
     "end_time": "2022-03-28T21:31:48.715550",
     "exception": false,
     "start_time": "2022-03-28T21:31:48.610673",
     "status": "completed"
    },
    "tags": []
   },
   "outputs": [
    {
     "name": "stdout",
     "output_type": "stream",
     "text": [
      "65.65\n",
      "67.26\n",
      "57.75\n",
      "67.32\n"
     ]
    }
   ],
   "source": [
    "print(round(bachelor_pct, 2))\n",
    "print(round(graduate_pct, 2))\n",
    "print(round(high_school_only_pct, 2))\n",
    "print(round(some_pct, 2))"
   ]
  },
  {
   "cell_type": "code",
   "execution_count": 32,
   "id": "dbcf9ee0",
   "metadata": {
    "execution": {
     "iopub.execute_input": "2022-03-28T21:31:48.848506Z",
     "iopub.status.busy": "2022-03-28T21:31:48.847845Z",
     "iopub.status.idle": "2022-03-28T21:31:49.036222Z",
     "shell.execute_reply": "2022-03-28T21:31:49.035729Z",
     "shell.execute_reply.started": "2022-03-28T21:29:37.423499Z"
    },
    "papermill": {
     "duration": 0.251155,
     "end_time": "2022-03-28T21:31:49.036344",
     "exception": false,
     "start_time": "2022-03-28T21:31:48.785189",
     "status": "completed"
    },
    "tags": []
   },
   "outputs": [
    {
     "data": {
      "text/plain": [
       "Text(0.5, 1.0, 'Percentage of respondents identifying as fans of the franchise, by education')"
      ]
     },
     "execution_count": 32,
     "metadata": {},
     "output_type": "execute_result"
    },
    {
     "data": {
      "image/png": "[encoded data removed]",
      "text/plain": [
       "<Figure size 432x288 with 1 Axes>"
      ]
     },
     "metadata": {
      "needs_background": "light"
     },
     "output_type": "display_data"
    }
   ],
   "source": [
    "percentage_fans = {'Bachelor': 65.65, 'Graduate': 67.26, 'High school only': 57.75, 'Associate or college': 67.32}\n",
    "percentage_df = pd.DataFrame(percentage_fans, index=[0])\n",
    "\n",
    "percentage_df.plot.bar()\n",
    "plt.legend(bbox_to_anchor=(1, 0, 0.5, 1))\n",
    "plt.tick_params(axis='x', bottom=False, labelbottom=False)\n",
    "plt.yticks(ticks=[0, 10, 20, 30, 40, 50, 60, 70, 80, 90, 100])\n",
    "plt.title('Percentage of respondents identifying as fans of the franchise, by education')"
   ]
  },
  {
   "cell_type": "markdown",
   "id": "d42e8299",
   "metadata": {
    "papermill": {
     "duration": 0.058699,
     "end_time": "2022-03-28T21:31:49.154939",
     "exception": false,
     "start_time": "2022-03-28T21:31:49.096240",
     "status": "completed"
    },
    "tags": []
   },
   "source": [
    "### Observations\n",
    "Nothing particularly conclusive from those that responded fan vs non fan, by education."
   ]
  },
  {
   "cell_type": "markdown",
   "id": "17489cfb",
   "metadata": {
    "papermill": {
     "duration": 0.057725,
     "end_time": "2022-03-28T21:31:49.271478",
     "exception": false,
     "start_time": "2022-03-28T21:31:49.213753",
     "status": "completed"
    },
    "tags": []
   },
   "source": [
    "# Data analysis - favourability of Star Wars characters \n",
    "\n",
    "Columns 15 to 29 contain data relating to various iconic characters from the Star Wars franchise and respondents opinions. These columns will require a quick clean before analysis.\n",
    "\n",
    "1. rename columns to the names of each character\n",
    "2. determine how each character was scored in terms of favourability\n",
    "3. make a dataframe containing the counts for each score grading (combining if separated)\n",
    "\n",
    "\n",
    "\n",
    "**note:** column/character names names were taken from the original readme file"
   ]
  },
  {
   "cell_type": "code",
   "execution_count": 33,
   "id": "8c816bd3",
   "metadata": {
    "execution": {
     "iopub.execute_input": "2022-03-28T21:31:49.397190Z",
     "iopub.status.busy": "2022-03-28T21:31:49.396490Z",
     "iopub.status.idle": "2022-03-28T21:31:49.400928Z",
     "shell.execute_reply": "2022-03-28T21:31:49.401318Z",
     "shell.execute_reply.started": "2022-03-28T21:29:37.678715Z"
    },
    "papermill": {
     "duration": 0.067012,
     "end_time": "2022-03-28T21:31:49.401431",
     "exception": false,
     "start_time": "2022-03-28T21:31:49.334419",
     "status": "completed"
    },
    "tags": []
   },
   "outputs": [],
   "source": [
    "#renaming star wars character columns\n",
    "star_wars.rename(columns={'Please state whether you view the following characters favorably, unfavorably, or are unfamiliar with him/her.': 'Luke Skywalker', \\\n",
    "                          'Unnamed: 16': 'Han Solo', \\\n",
    "                          'Unnamed: 17': 'Princess Leia Organa', \\\n",
    "                          'Unnamed: 18': 'Obi Wan Kenobi', \\\n",
    "                          'Unnamed: 19': 'Yoda', \\\n",
    "                          'Unnamed: 20': 'R2-D2', \\\n",
    "                          'Unnamed: 21': 'C-3P0', \\\n",
    "                          'Unnamed: 22': 'Anakin Skywalker', \\\n",
    "                          'Unnamed: 23': 'Darth Vader', \\\n",
    "                          'Unnamed: 24': 'Lando Calrissian', \\\n",
    "                          'Unnamed: 25': 'Padme Amidala', \\\n",
    "                          'Unnamed: 26': 'Boba Fett', \\\n",
    "                          'Unnamed: 27': 'Emperor Palpatine', \\\n",
    "                          'Unnamed: 28': 'Jar Jar Binks'}, inplace=True)"
   ]
  },
  {
   "cell_type": "code",
   "execution_count": 34,
   "id": "4d537ccc",
   "metadata": {
    "execution": {
     "iopub.execute_input": "2022-03-28T21:31:49.519041Z",
     "iopub.status.busy": "2022-03-28T21:31:49.518395Z",
     "iopub.status.idle": "2022-03-28T21:31:49.522478Z",
     "shell.execute_reply": "2022-03-28T21:31:49.522940Z",
     "shell.execute_reply.started": "2022-03-28T21:29:37.687950Z"
    },
    "papermill": {
     "duration": 0.064083,
     "end_time": "2022-03-28T21:31:49.523073",
     "exception": false,
     "start_time": "2022-03-28T21:31:49.458990",
     "status": "completed"
    },
    "tags": []
   },
   "outputs": [],
   "source": [
    "characters = star_wars.iloc[:, 15:29]"
   ]
  },
  {
   "cell_type": "code",
   "execution_count": 35,
   "id": "2ce68686",
   "metadata": {
    "execution": {
     "iopub.execute_input": "2022-03-28T21:31:49.642723Z",
     "iopub.status.busy": "2022-03-28T21:31:49.642057Z",
     "iopub.status.idle": "2022-03-28T21:31:49.647230Z",
     "shell.execute_reply": "2022-03-28T21:31:49.647612Z",
     "shell.execute_reply.started": "2022-03-28T21:29:37.707175Z"
    },
    "papermill": {
     "duration": 0.066483,
     "end_time": "2022-03-28T21:31:49.647762",
     "exception": false,
     "start_time": "2022-03-28T21:31:49.581279",
     "status": "completed"
    },
    "tags": []
   },
   "outputs": [],
   "source": [
    "characters = characters.dropna()"
   ]
  },
  {
   "cell_type": "code",
   "execution_count": 36,
   "id": "f1561117",
   "metadata": {
    "execution": {
     "iopub.execute_input": "2022-03-28T21:31:49.767160Z",
     "iopub.status.busy": "2022-03-28T21:31:49.766448Z",
     "iopub.status.idle": "2022-03-28T21:31:49.772144Z",
     "shell.execute_reply": "2022-03-28T21:31:49.772629Z",
     "shell.execute_reply.started": "2022-03-28T21:29:37.720523Z"
    },
    "papermill": {
     "duration": 0.066471,
     "end_time": "2022-03-28T21:31:49.772847",
     "exception": false,
     "start_time": "2022-03-28T21:31:49.706376",
     "status": "completed"
    },
    "tags": []
   },
   "outputs": [
    {
     "data": {
      "text/plain": [
       "Very favorably                                 561\n",
       "Somewhat favorably                             138\n",
       "Neither favorably nor unfavorably (neutral)     40\n",
       "Unfamiliar (N/A)                                14\n",
       "Somewhat unfavorably                             6\n",
       "Very unfavorably                                 1\n",
       "Name: Luke Skywalker, dtype: int64"
      ]
     },
     "execution_count": 36,
     "metadata": {},
     "output_type": "execute_result"
    }
   ],
   "source": [
    "#determining how the favourability is graded\n",
    "characters['Luke Skywalker'].value_counts()"
   ]
  },
  {
   "cell_type": "markdown",
   "id": "d1ae02ea",
   "metadata": {
    "papermill": {
     "duration": 0.058285,
     "end_time": "2022-03-28T21:31:49.889949",
     "exception": false,
     "start_time": "2022-03-28T21:31:49.831664",
     "status": "completed"
    },
    "tags": []
   },
   "source": [
    "graded as:\n",
    "\n",
    "Very favorably                                 \n",
    "Somewhat favorably                             \n",
    "Neither favorably nor unfavorably (neutral)     \n",
    "Somewhat unfavorably                                                           \n",
    "Very unfavorably \n",
    "Unfamiliar (N/A)"
   ]
  },
  {
   "cell_type": "code",
   "execution_count": 37,
   "id": "2f35d675",
   "metadata": {
    "execution": {
     "iopub.execute_input": "2022-03-28T21:31:50.011864Z",
     "iopub.status.busy": "2022-03-28T21:31:50.011176Z",
     "iopub.status.idle": "2022-03-28T21:31:50.051869Z",
     "shell.execute_reply": "2022-03-28T21:31:50.052253Z",
     "shell.execute_reply.started": "2022-03-28T21:29:37.737342Z"
    },
    "papermill": {
     "duration": 0.103153,
     "end_time": "2022-03-28T21:31:50.052384",
     "exception": false,
     "start_time": "2022-03-28T21:31:49.949231",
     "status": "completed"
    },
    "tags": []
   },
   "outputs": [],
   "source": [
    "#Method - boolean masking to filter dataset based on grading,\n",
    "#then adding to a pre-initialised dictionary\n",
    "# convert dictionary to a df and modify as necessary so character names are columns (easier to index)\n",
    "\n",
    "character_list = ['Luke Skywalker', 'Han Solo', 'Princess Leia Organa', 'Obi Wan Kenobi', 'Yoda', 'R2-D2', 'C-3P0', 'Anakin Skywalker',\n",
    "                 'Darth Vader','Lando Calrissian', 'Padme Amidala', 'Boba Fett', 'Emperor Palpatine', 'Jar Jar Binks']\n",
    "favourable_dict = {}\n",
    "unfavourable_dict = {}\n",
    "neutral_dict = {}\n",
    "unfamiliar_dict = {}\n",
    "\n",
    "for c in character_list:\n",
    "    favourable_bool = (characters[c] == 'Very favorably') | (characters[c] == 'Somewhat favorably')\n",
    "    favourable_dict[c] = characters[c][favourable_bool].value_counts()\n",
    "    \n",
    "    unfavourable_bool = (characters[c] == 'Neither favorably nor unfavorably (neutral)')\n",
    "    unfavourable_dict[c] = characters[c][unfavourable_bool].value_counts()\n",
    "    \n",
    "    neutral_bool = (characters[c] == 'Very unfavorably') | (characters[c] == 'Somewhat unfavorably')\n",
    "    neutral_dict[c] = characters[c][neutral_bool].value_counts()\n",
    "    \n",
    "    unfamiliar_bool = (characters[c] == 'Unfamiliar (N/A)')\n",
    "    unfamiliar_dict[c] = characters[c][unfamiliar_bool].value_counts()\n"
   ]
  },
  {
   "cell_type": "code",
   "execution_count": 38,
   "id": "791629f4",
   "metadata": {
    "execution": {
     "iopub.execute_input": "2022-03-28T21:31:50.171742Z",
     "iopub.status.busy": "2022-03-28T21:31:50.171095Z",
     "iopub.status.idle": "2022-03-28T21:31:50.177004Z",
     "shell.execute_reply": "2022-03-28T21:31:50.177397Z",
     "shell.execute_reply.started": "2022-03-28T21:29:37.803350Z"
    },
    "papermill": {
     "duration": 0.067094,
     "end_time": "2022-03-28T21:31:50.177517",
     "exception": false,
     "start_time": "2022-03-28T21:31:50.110423",
     "status": "completed"
    },
    "tags": []
   },
   "outputs": [],
   "source": [
    "#convert into a dataframe\n",
    "favourable_df = pd.DataFrame.from_dict(favourable_dict, orient='index')\n",
    "unfavourable_df = pd.DataFrame.from_dict(unfavourable_dict, orient='index')\n",
    "neutral_df = pd.DataFrame.from_dict(neutral_dict, orient='index')\n",
    "unfamiliar_df = pd.DataFrame.from_dict(unfamiliar_dict, orient='index')\n",
    "#favourable_df = favourable_df.T"
   ]
  },
  {
   "cell_type": "code",
   "execution_count": 39,
   "id": "ef754640",
   "metadata": {
    "execution": {
     "iopub.execute_input": "2022-03-28T21:31:50.298726Z",
     "iopub.status.busy": "2022-03-28T21:31:50.298087Z",
     "iopub.status.idle": "2022-03-28T21:31:50.304575Z",
     "shell.execute_reply": "2022-03-28T21:31:50.305029Z",
     "shell.execute_reply.started": "2022-03-28T21:29:37.813261Z"
    },
    "papermill": {
     "duration": 0.068188,
     "end_time": "2022-03-28T21:31:50.305149",
     "exception": false,
     "start_time": "2022-03-28T21:31:50.236961",
     "status": "completed"
    },
    "tags": []
   },
   "outputs": [
    {
     "data": {
      "text/html": [
       "<div>\n",
       "<style scoped>\n",
       "    .dataframe tbody tr th:only-of-type {\n",
       "        vertical-align: middle;\n",
       "    }\n",
       "\n",
       "    .dataframe tbody tr th {\n",
       "        vertical-align: top;\n",
       "    }\n",
       "\n",
       "    .dataframe thead th {\n",
       "        text-align: right;\n",
       "    }\n",
       "</style>\n",
       "<table border=\"1\" class=\"dataframe\">\n",
       "  <thead>\n",
       "    <tr style=\"text-align: right;\">\n",
       "      <th></th>\n",
       "      <th>Very favorably</th>\n",
       "      <th>Somewhat favorably</th>\n",
       "    </tr>\n",
       "  </thead>\n",
       "  <tbody>\n",
       "    <tr>\n",
       "      <th>Luke Skywalker</th>\n",
       "      <td>561</td>\n",
       "      <td>138</td>\n",
       "    </tr>\n",
       "    <tr>\n",
       "      <th>Han Solo</th>\n",
       "      <td>504</td>\n",
       "      <td>201</td>\n",
       "    </tr>\n",
       "    <tr>\n",
       "      <th>Princess Leia Organa</th>\n",
       "      <td>505</td>\n",
       "      <td>188</td>\n",
       "    </tr>\n",
       "    <tr>\n",
       "      <th>Obi Wan Kenobi</th>\n",
       "      <td>227</td>\n",
       "      <td>254</td>\n",
       "    </tr>\n",
       "    <tr>\n",
       "      <th>Yoda</th>\n",
       "      <td>551</td>\n",
       "      <td>146</td>\n",
       "    </tr>\n",
       "  </tbody>\n",
       "</table>\n",
       "</div>"
      ],
      "text/plain": [
       "                      Very favorably  Somewhat favorably\n",
       "Luke Skywalker                   561                 138\n",
       "Han Solo                         504                 201\n",
       "Princess Leia Organa             505                 188\n",
       "Obi Wan Kenobi                   227                 254\n",
       "Yoda                             551                 146"
      ]
     },
     "execution_count": 39,
     "metadata": {},
     "output_type": "execute_result"
    }
   ],
   "source": [
    "favourable_df.head()"
   ]
  },
  {
   "cell_type": "code",
   "execution_count": 40,
   "id": "529ee962",
   "metadata": {
    "execution": {
     "iopub.execute_input": "2022-03-28T21:31:50.427099Z",
     "iopub.status.busy": "2022-03-28T21:31:50.426287Z",
     "iopub.status.idle": "2022-03-28T21:31:50.433528Z",
     "shell.execute_reply": "2022-03-28T21:31:50.433997Z",
     "shell.execute_reply.started": "2022-03-28T21:29:37.832934Z"
    },
    "papermill": {
     "duration": 0.06969,
     "end_time": "2022-03-28T21:31:50.434161",
     "exception": false,
     "start_time": "2022-03-28T21:31:50.364471",
     "status": "completed"
    },
    "tags": []
   },
   "outputs": [],
   "source": [
    "#combining separate dataframes\n",
    "combined_favourability = pd.concat([favourable_df, unfavourable_df, neutral_df, unfamiliar_df], axis=1)"
   ]
  },
  {
   "cell_type": "code",
   "execution_count": 41,
   "id": "c2697737",
   "metadata": {
    "execution": {
     "iopub.execute_input": "2022-03-28T21:31:50.554564Z",
     "iopub.status.busy": "2022-03-28T21:31:50.554137Z",
     "iopub.status.idle": "2022-03-28T21:31:50.556336Z",
     "shell.execute_reply": "2022-03-28T21:31:50.556769Z",
     "shell.execute_reply.started": "2022-03-28T21:29:37.852134Z"
    },
    "papermill": {
     "duration": 0.063844,
     "end_time": "2022-03-28T21:31:50.556875",
     "exception": false,
     "start_time": "2022-03-28T21:31:50.493031",
     "status": "completed"
    },
    "tags": []
   },
   "outputs": [],
   "source": [
    "#change rows to columns \n",
    "#just to have an alternate view with character names as columns\n",
    "combined_favourability_columns = combined_favourability.T"
   ]
  },
  {
   "cell_type": "code",
   "execution_count": 42,
   "id": "a19f6f96",
   "metadata": {
    "execution": {
     "iopub.execute_input": "2022-03-28T21:31:50.677888Z",
     "iopub.status.busy": "2022-03-28T21:31:50.677438Z",
     "iopub.status.idle": "2022-03-28T21:31:50.686452Z",
     "shell.execute_reply": "2022-03-28T21:31:50.686037Z",
     "shell.execute_reply.started": "2022-03-28T21:29:37.864173Z"
    },
    "papermill": {
     "duration": 0.070741,
     "end_time": "2022-03-28T21:31:50.686560",
     "exception": false,
     "start_time": "2022-03-28T21:31:50.615819",
     "status": "completed"
    },
    "tags": []
   },
   "outputs": [
    {
     "data": {
      "text/html": [
       "<div>\n",
       "<style scoped>\n",
       "    .dataframe tbody tr th:only-of-type {\n",
       "        vertical-align: middle;\n",
       "    }\n",
       "\n",
       "    .dataframe tbody tr th {\n",
       "        vertical-align: top;\n",
       "    }\n",
       "\n",
       "    .dataframe thead th {\n",
       "        text-align: right;\n",
       "    }\n",
       "</style>\n",
       "<table border=\"1\" class=\"dataframe\">\n",
       "  <thead>\n",
       "    <tr style=\"text-align: right;\">\n",
       "      <th></th>\n",
       "      <th>Very favorably</th>\n",
       "      <th>Somewhat favorably</th>\n",
       "      <th>Neither favorably nor unfavorably (neutral)</th>\n",
       "      <th>Somewhat unfavorably</th>\n",
       "      <th>Very unfavorably</th>\n",
       "      <th>Unfamiliar (N/A)</th>\n",
       "    </tr>\n",
       "  </thead>\n",
       "  <tbody>\n",
       "    <tr>\n",
       "      <th>Luke Skywalker</th>\n",
       "      <td>561</td>\n",
       "      <td>138</td>\n",
       "      <td>40</td>\n",
       "      <td>6</td>\n",
       "      <td>1</td>\n",
       "      <td>14</td>\n",
       "    </tr>\n",
       "    <tr>\n",
       "      <th>Han Solo</th>\n",
       "      <td>504</td>\n",
       "      <td>201</td>\n",
       "      <td>36</td>\n",
       "      <td>11</td>\n",
       "      <td>2</td>\n",
       "      <td>6</td>\n",
       "    </tr>\n",
       "    <tr>\n",
       "      <th>Princess Leia Organa</th>\n",
       "      <td>505</td>\n",
       "      <td>188</td>\n",
       "      <td>45</td>\n",
       "      <td>11</td>\n",
       "      <td>4</td>\n",
       "      <td>7</td>\n",
       "    </tr>\n",
       "    <tr>\n",
       "      <th>Obi Wan Kenobi</th>\n",
       "      <td>227</td>\n",
       "      <td>254</td>\n",
       "      <td>118</td>\n",
       "      <td>79</td>\n",
       "      <td>36</td>\n",
       "      <td>46</td>\n",
       "    </tr>\n",
       "    <tr>\n",
       "      <th>Yoda</th>\n",
       "      <td>551</td>\n",
       "      <td>146</td>\n",
       "      <td>40</td>\n",
       "      <td>6</td>\n",
       "      <td>5</td>\n",
       "      <td>12</td>\n",
       "    </tr>\n",
       "  </tbody>\n",
       "</table>\n",
       "</div>"
      ],
      "text/plain": [
       "                      Very favorably  Somewhat favorably  \\\n",
       "Luke Skywalker                   561                 138   \n",
       "Han Solo                         504                 201   \n",
       "Princess Leia Organa             505                 188   \n",
       "Obi Wan Kenobi                   227                 254   \n",
       "Yoda                             551                 146   \n",
       "\n",
       "                      Neither favorably nor unfavorably (neutral)  \\\n",
       "Luke Skywalker                                                 40   \n",
       "Han Solo                                                       36   \n",
       "Princess Leia Organa                                           45   \n",
       "Obi Wan Kenobi                                                118   \n",
       "Yoda                                                           40   \n",
       "\n",
       "                      Somewhat unfavorably  Very unfavorably  Unfamiliar (N/A)  \n",
       "Luke Skywalker                           6                 1                14  \n",
       "Han Solo                                11                 2                 6  \n",
       "Princess Leia Organa                    11                 4                 7  \n",
       "Obi Wan Kenobi                          79                36                46  \n",
       "Yoda                                     6                 5                12  "
      ]
     },
     "execution_count": 42,
     "metadata": {},
     "output_type": "execute_result"
    }
   ],
   "source": [
    "combined_favourability.head()"
   ]
  },
  {
   "cell_type": "code",
   "execution_count": 43,
   "id": "98b805a4",
   "metadata": {
    "execution": {
     "iopub.execute_input": "2022-03-28T21:31:50.809119Z",
     "iopub.status.busy": "2022-03-28T21:31:50.808458Z",
     "iopub.status.idle": "2022-03-28T21:31:50.819269Z",
     "shell.execute_reply": "2022-03-28T21:31:50.818884Z",
     "shell.execute_reply.started": "2022-03-28T21:29:37.884022Z"
    },
    "papermill": {
     "duration": 0.072718,
     "end_time": "2022-03-28T21:31:50.819366",
     "exception": false,
     "start_time": "2022-03-28T21:31:50.746648",
     "status": "completed"
    },
    "tags": []
   },
   "outputs": [
    {
     "data": {
      "text/html": [
       "<div>\n",
       "<style scoped>\n",
       "    .dataframe tbody tr th:only-of-type {\n",
       "        vertical-align: middle;\n",
       "    }\n",
       "\n",
       "    .dataframe tbody tr th {\n",
       "        vertical-align: top;\n",
       "    }\n",
       "\n",
       "    .dataframe thead th {\n",
       "        text-align: right;\n",
       "    }\n",
       "</style>\n",
       "<table border=\"1\" class=\"dataframe\">\n",
       "  <thead>\n",
       "    <tr style=\"text-align: right;\">\n",
       "      <th></th>\n",
       "      <th>Luke Skywalker</th>\n",
       "      <th>Han Solo</th>\n",
       "      <th>Princess Leia Organa</th>\n",
       "      <th>Obi Wan Kenobi</th>\n",
       "      <th>Yoda</th>\n",
       "      <th>R2-D2</th>\n",
       "      <th>C-3P0</th>\n",
       "      <th>Anakin Skywalker</th>\n",
       "      <th>Darth Vader</th>\n",
       "      <th>Lando Calrissian</th>\n",
       "      <th>Padme Amidala</th>\n",
       "      <th>Boba Fett</th>\n",
       "      <th>Emperor Palpatine</th>\n",
       "      <th>Jar Jar Binks</th>\n",
       "    </tr>\n",
       "  </thead>\n",
       "  <tbody>\n",
       "    <tr>\n",
       "      <th>Very favorably</th>\n",
       "      <td>561</td>\n",
       "      <td>504</td>\n",
       "      <td>505</td>\n",
       "      <td>227</td>\n",
       "      <td>551</td>\n",
       "      <td>106</td>\n",
       "      <td>286</td>\n",
       "      <td>130</td>\n",
       "      <td>133</td>\n",
       "      <td>433</td>\n",
       "      <td>514</td>\n",
       "      <td>101</td>\n",
       "      <td>156</td>\n",
       "      <td>561</td>\n",
       "    </tr>\n",
       "    <tr>\n",
       "      <th>Somewhat favorably</th>\n",
       "      <td>138</td>\n",
       "      <td>201</td>\n",
       "      <td>188</td>\n",
       "      <td>254</td>\n",
       "      <td>146</td>\n",
       "      <td>135</td>\n",
       "      <td>162</td>\n",
       "      <td>215</td>\n",
       "      <td>147</td>\n",
       "      <td>212</td>\n",
       "      <td>170</td>\n",
       "      <td>120</td>\n",
       "      <td>172</td>\n",
       "      <td>130</td>\n",
       "    </tr>\n",
       "    <tr>\n",
       "      <th>Neither favorably nor unfavorably (neutral)</th>\n",
       "      <td>40</td>\n",
       "      <td>36</td>\n",
       "      <td>45</td>\n",
       "      <td>118</td>\n",
       "      <td>40</td>\n",
       "      <td>193</td>\n",
       "      <td>74</td>\n",
       "      <td>219</td>\n",
       "      <td>228</td>\n",
       "      <td>74</td>\n",
       "      <td>54</td>\n",
       "      <td>149</td>\n",
       "      <td>197</td>\n",
       "      <td>48</td>\n",
       "    </tr>\n",
       "    <tr>\n",
       "      <th>Somewhat unfavorably</th>\n",
       "      <td>6</td>\n",
       "      <td>11</td>\n",
       "      <td>11</td>\n",
       "      <td>79</td>\n",
       "      <td>6</td>\n",
       "      <td>61</td>\n",
       "      <td>94</td>\n",
       "      <td>57</td>\n",
       "      <td>86</td>\n",
       "      <td>22</td>\n",
       "      <td>10</td>\n",
       "      <td>96</td>\n",
       "      <td>53</td>\n",
       "      <td>7</td>\n",
       "    </tr>\n",
       "    <tr>\n",
       "      <th>Very unfavorably</th>\n",
       "      <td>1</td>\n",
       "      <td>2</td>\n",
       "      <td>4</td>\n",
       "      <td>36</td>\n",
       "      <td>5</td>\n",
       "      <td>119</td>\n",
       "      <td>135</td>\n",
       "      <td>8</td>\n",
       "      <td>42</td>\n",
       "      <td>6</td>\n",
       "      <td>4</td>\n",
       "      <td>195</td>\n",
       "      <td>31</td>\n",
       "      <td>6</td>\n",
       "    </tr>\n",
       "  </tbody>\n",
       "</table>\n",
       "</div>"
      ],
      "text/plain": [
       "                                             Luke Skywalker  Han Solo  \\\n",
       "Very favorably                                          561       504   \n",
       "Somewhat favorably                                      138       201   \n",
       "Neither favorably nor unfavorably (neutral)              40        36   \n",
       "Somewhat unfavorably                                      6        11   \n",
       "Very unfavorably                                          1         2   \n",
       "\n",
       "                                             Princess Leia Organa  \\\n",
       "Very favorably                                                505   \n",
       "Somewhat favorably                                            188   \n",
       "Neither favorably nor unfavorably (neutral)                    45   \n",
       "Somewhat unfavorably                                           11   \n",
       "Very unfavorably                                                4   \n",
       "\n",
       "                                             Obi Wan Kenobi  Yoda  R2-D2  \\\n",
       "Very favorably                                          227   551    106   \n",
       "Somewhat favorably                                      254   146    135   \n",
       "Neither favorably nor unfavorably (neutral)             118    40    193   \n",
       "Somewhat unfavorably                                     79     6     61   \n",
       "Very unfavorably                                         36     5    119   \n",
       "\n",
       "                                             C-3P0  Anakin Skywalker  \\\n",
       "Very favorably                                 286               130   \n",
       "Somewhat favorably                             162               215   \n",
       "Neither favorably nor unfavorably (neutral)     74               219   \n",
       "Somewhat unfavorably                            94                57   \n",
       "Very unfavorably                               135                 8   \n",
       "\n",
       "                                             Darth Vader  Lando Calrissian  \\\n",
       "Very favorably                                       133               433   \n",
       "Somewhat favorably                                   147               212   \n",
       "Neither favorably nor unfavorably (neutral)          228                74   \n",
       "Somewhat unfavorably                                  86                22   \n",
       "Very unfavorably                                      42                 6   \n",
       "\n",
       "                                             Padme Amidala  Boba Fett  \\\n",
       "Very favorably                                         514        101   \n",
       "Somewhat favorably                                     170        120   \n",
       "Neither favorably nor unfavorably (neutral)             54        149   \n",
       "Somewhat unfavorably                                    10         96   \n",
       "Very unfavorably                                         4        195   \n",
       "\n",
       "                                             Emperor Palpatine  Jar Jar Binks  \n",
       "Very favorably                                             156            561  \n",
       "Somewhat favorably                                         172            130  \n",
       "Neither favorably nor unfavorably (neutral)                197             48  \n",
       "Somewhat unfavorably                                        53              7  \n",
       "Very unfavorably                                            31              6  "
      ]
     },
     "execution_count": 43,
     "metadata": {},
     "output_type": "execute_result"
    }
   ],
   "source": [
    "combined_favourability_columns.head()"
   ]
  },
  {
   "cell_type": "code",
   "execution_count": 44,
   "id": "83f71743",
   "metadata": {
    "execution": {
     "iopub.execute_input": "2022-03-28T21:31:50.946930Z",
     "iopub.status.busy": "2022-03-28T21:31:50.946429Z",
     "iopub.status.idle": "2022-03-28T21:31:50.948837Z",
     "shell.execute_reply": "2022-03-28T21:31:50.949259Z",
     "shell.execute_reply.started": "2022-03-28T21:29:37.901847Z"
    },
    "papermill": {
     "duration": 0.068977,
     "end_time": "2022-03-28T21:31:50.949370",
     "exception": false,
     "start_time": "2022-03-28T21:31:50.880393",
     "status": "completed"
    },
    "tags": []
   },
   "outputs": [
    {
     "data": {
      "text/plain": [
       "Very favorably                                 605\n",
       "Somewhat favorably                             144\n",
       "Neither favorably nor unfavorably (neutral)     51\n",
       "Unfamiliar (N/A)                                10\n",
       "Very unfavorably                                 8\n",
       "Somewhat unfavorably                             8\n",
       "Name: Jar Jar Binks, dtype: int64"
      ]
     },
     "execution_count": 44,
     "metadata": {},
     "output_type": "execute_result"
    }
   ],
   "source": [
    "#checking if values match\n",
    "star_wars['Jar Jar Binks'].value_counts()"
   ]
  },
  {
   "cell_type": "code",
   "execution_count": 45,
   "id": "39094c46",
   "metadata": {
    "execution": {
     "iopub.execute_input": "2022-03-28T21:31:51.073628Z",
     "iopub.status.busy": "2022-03-28T21:31:51.073140Z",
     "iopub.status.idle": "2022-03-28T21:31:51.415576Z",
     "shell.execute_reply": "2022-03-28T21:31:51.416072Z",
     "shell.execute_reply.started": "2022-03-28T21:29:37.911592Z"
    },
    "papermill": {
     "duration": 0.406233,
     "end_time": "2022-03-28T21:31:51.416233",
     "exception": false,
     "start_time": "2022-03-28T21:31:51.010000",
     "status": "completed"
    },
    "tags": []
   },
   "outputs": [
    {
     "data": {
      "image/png": "[encoded data removed]",
      "text/plain": [
       "<Figure size 720x720 with 1 Axes>"
      ]
     },
     "metadata": {
      "needs_background": "light"
     },
     "output_type": "display_data"
    }
   ],
   "source": [
    "#plotting out favourability as a bar chart\n",
    "fig = plt.figure()\n",
    "ax = plt.subplot(111)\n",
    "\n",
    "combined_favourability.plot(kind='barh', stacked=True, figsize=(10,10), ax=ax)\n",
    "\n",
    "\n",
    "ax.legend(loc='upper center', bbox_to_anchor=(0.5, -0.05),\n",
    "          fancybox=True, shadow=True, ncol=5)\n",
    "\n",
    "plt.text(x=1, y=14.5, s='Favourability of Star Wars characters', color='Black', size = 25)\n",
    "plt.text(x=1, y=14, s='By 834 respondents', color='grey', size = 16, style='italic')\n",
    "\n",
    "plt.show()"
   ]
  },
  {
   "cell_type": "markdown",
   "id": "9ec96838",
   "metadata": {
    "papermill": {
     "duration": 0.090321,
     "end_time": "2022-03-28T21:31:51.597653",
     "exception": false,
     "start_time": "2022-03-28T21:31:51.507332",
     "status": "completed"
    },
    "tags": []
   },
   "source": [
    "### Observations - favourability\n",
    "Boba Fett seems to be the most polarising character, according to the survey results! Jar Jar Binks is strangely more popular than I had anticipated..."
   ]
  },
  {
   "cell_type": "code",
   "execution_count": null,
   "id": "4015e06b",
   "metadata": {
    "papermill": {
     "duration": 0.061277,
     "end_time": "2022-03-28T21:31:51.725758",
     "exception": false,
     "start_time": "2022-03-28T21:31:51.664481",
     "status": "completed"
    },
    "tags": []
   },
   "outputs": [],
   "source": []
  }
 ],
 "metadata": {
  "kernelspec": {
   "display_name": "Python 3",
   "language": "python",
   "name": "python3"
  },
  "language_info": {
   "codemirror_mode": {
    "name": "ipython",
    "version": 3
   },
   "file_extension": ".py",
   "mimetype": "text/x-python",
   "name": "python",
   "nbconvert_exporter": "python",
   "pygments_lexer": "ipython3",
   "version": "3.7.12"
  },
  "papermill": {
   "default_parameters": {},
   "duration": 17.89111,
   "end_time": "2022-03-28T21:31:52.297070",
   "environment_variables": {},
   "exception": null,
   "input_path": "__notebook__.ipynb",
   "output_path": "__notebook__.ipynb",
   "parameters": {},
   "start_time": "2022-03-28T21:31:34.405960",
   "version": "2.3.3"
  }
 },
 "nbformat": 4,
 "nbformat_minor": 5
}
