{
 "cells": [
  {
   "cell_type": "markdown",
   "id": "159aaffd",
   "metadata": {
    "papermill": {
     "duration": 0.082215,
     "end_time": "2022-03-17T22:33:10.327558",
     "exception": false,
     "start_time": "2022-03-17T22:33:10.245343",
     "status": "completed"
    },
    "tags": []
   },
   "source": [
    "# Introduction\n",
    "\n",
    "Another dataquest.io scenario. I've tried to add a comment line to each line of code, to help explain and rationalise each step i've taken (something lacking in my previous project practices)\n",
    "\n",
    "**Aim:** clean and analyse dataset using vectorised string methods and other cleaning methods such as apply(), map(), concat(), merge() etc.\n",
    "- clean and normalise string data\n",
    "- transform as necessary using apply, map, applymap\n",
    "- clean or drop missing values\n",
    "- reshape and combine data\n",
    "\n",
    "**Dataset:** exit survey results from employees of the Department of Education, Training and Employment (DETE), and Technical and Further Education (TAFE) institute in Queensland, Australia.\n",
    "\n",
    "\n",
    "https://data.gov.au/dataset/ds-qld-fe96ff30-d157-4a81-851d-215f2a0fe26d/details?q=exit%20survey\n",
    "\n",
    "**Questions looking to answer:**\n",
    "1. Are employees who only worked for the institutes for a short period of time resigning due to some kind of dissatisfaction? What about employees who have been there longer?\n",
    "\n",
    "2. Are younger employees resigning due to some kind of dissatisfaction? What about older employees?\n",
    "\n",
    "**Column Information: DETE**\n",
    "- ID: used to identify the participant of the survey\n",
    "- SeparationType: why their employment ended\n",
    "- Cease Date: year or month employment ended\n",
    "- DETE Start Date: year person began employment\n",
    "\n",
    "**Column Information: TAFE**\n",
    "- Record ID: used to identify the participant of the survey\n",
    "- Reason for ceasing employment: why their employment ended\n",
    "- LengthofServiceOverall. Overall Length of Service at Institute (in years): length of employment (yrs)"
   ]
  },
  {
   "cell_type": "code",
   "execution_count": 1,
   "id": "48155291",
   "metadata": {
    "execution": {
     "iopub.execute_input": "2022-03-17T22:33:10.496361Z",
     "iopub.status.busy": "2022-03-17T22:33:10.495676Z",
     "iopub.status.idle": "2022-03-17T22:33:11.667854Z",
     "shell.execute_reply": "2022-03-17T22:33:11.666982Z",
     "shell.execute_reply.started": "2022-03-17T22:21:11.540047Z"
    },
    "papermill": {
     "duration": 1.260547,
     "end_time": "2022-03-17T22:33:11.668026",
     "exception": false,
     "start_time": "2022-03-17T22:33:10.407479",
     "status": "completed"
    },
    "tags": []
   },
   "outputs": [],
   "source": [
    "#start by importing appropriate libraries\n",
    "import pandas as pd\n",
    "import numpy as np\n",
    "import matplotlib.pyplot as plt\n",
    "%matplotlib inline\n",
    "import seaborn as sns"
   ]
  },
  {
   "cell_type": "code",
   "execution_count": 2,
   "id": "98d5ac2e",
   "metadata": {
    "execution": {
     "iopub.execute_input": "2022-03-17T22:33:11.832176Z",
     "iopub.status.busy": "2022-03-17T22:33:11.831483Z",
     "iopub.status.idle": "2022-03-17T22:33:11.889426Z",
     "shell.execute_reply": "2022-03-17T22:33:11.888625Z",
     "shell.execute_reply.started": "2022-03-17T22:21:11.548193Z"
    },
    "papermill": {
     "duration": 0.140555,
     "end_time": "2022-03-17T22:33:11.889589",
     "exception": false,
     "start_time": "2022-03-17T22:33:11.749034",
     "status": "completed"
    },
    "tags": []
   },
   "outputs": [],
   "source": [
    "#read in datasets\n",
    "\n",
    "dete_survey = pd.read_csv('../input/employee-exit-survey/dete_survey.csv')\n",
    "tafe_survey = pd.read_csv('../input/employee-exit-survey/tafe_survey.csv')"
   ]
  },
  {
   "cell_type": "markdown",
   "id": "70fe1a7a",
   "metadata": {
    "papermill": {
     "duration": 0.083033,
     "end_time": "2022-03-17T22:33:12.054693",
     "exception": false,
     "start_time": "2022-03-17T22:33:11.971660",
     "status": "completed"
    },
    "tags": []
   },
   "source": [
    "# Data Exploration - understanding dataset and how values of different columns are represented"
   ]
  },
  {
   "cell_type": "code",
   "execution_count": 3,
   "id": "14b48291",
   "metadata": {
    "execution": {
     "iopub.execute_input": "2022-03-17T22:33:12.224542Z",
     "iopub.status.busy": "2022-03-17T22:33:12.223813Z",
     "iopub.status.idle": "2022-03-17T22:33:12.225369Z",
     "shell.execute_reply": "2022-03-17T22:33:12.225856Z",
     "shell.execute_reply.started": "2022-03-17T22:21:11.591774Z"
    },
    "papermill": {
     "duration": 0.088536,
     "end_time": "2022-03-17T22:33:12.226024",
     "exception": false,
     "start_time": "2022-03-17T22:33:12.137488",
     "status": "completed"
    },
    "tags": []
   },
   "outputs": [],
   "source": [
    "#to make data exploration easier, condense it down into a few steps and create a function:\n",
    "\n",
    "def explore(dataset):\n",
    "    print(dataset.info())\n",
    "    print(dataset.head())\n",
    "    sns.heatmap(dataset.isnull(),cbar = False)\n"
   ]
  },
  {
   "cell_type": "code",
   "execution_count": 4,
   "id": "c179492b",
   "metadata": {
    "execution": {
     "iopub.execute_input": "2022-03-17T22:33:12.394330Z",
     "iopub.status.busy": "2022-03-17T22:33:12.393661Z",
     "iopub.status.idle": "2022-03-17T22:33:13.036111Z",
     "shell.execute_reply": "2022-03-17T22:33:13.036649Z",
     "shell.execute_reply.started": "2022-03-17T22:21:11.597209Z"
    },
    "papermill": {
     "duration": 0.728076,
     "end_time": "2022-03-17T22:33:13.036827",
     "exception": false,
     "start_time": "2022-03-17T22:33:12.308751",
     "status": "completed"
    },
    "tags": []
   },
   "outputs": [
    {
     "name": "stdout",
     "output_type": "stream",
     "text": [
      "<class 'pandas.core.frame.DataFrame'>\n",
      "RangeIndex: 822 entries, 0 to 821\n",
      "Data columns (total 56 columns):\n",
      " #   Column                               Non-Null Count  Dtype \n",
      "---  ------                               --------------  ----- \n",
      " 0   ID                                   822 non-null    int64 \n",
      " 1   SeparationType                       822 non-null    object\n",
      " 2   Cease Date                           822 non-null    object\n",
      " 3   DETE Start Date                      822 non-null    object\n",
      " 4   Role Start Date                      822 non-null    object\n",
      " 5   Position                             817 non-null    object\n",
      " 6   Classification                       455 non-null    object\n",
      " 7   Region                               822 non-null    object\n",
      " 8   Business Unit                        126 non-null    object\n",
      " 9   Employment Status                    817 non-null    object\n",
      " 10  Career move to public sector         822 non-null    bool  \n",
      " 11  Career move to private sector        822 non-null    bool  \n",
      " 12  Interpersonal conflicts              822 non-null    bool  \n",
      " 13  Job dissatisfaction                  822 non-null    bool  \n",
      " 14  Dissatisfaction with the department  822 non-null    bool  \n",
      " 15  Physical work environment            822 non-null    bool  \n",
      " 16  Lack of recognition                  822 non-null    bool  \n",
      " 17  Lack of job security                 822 non-null    bool  \n",
      " 18  Work location                        822 non-null    bool  \n",
      " 19  Employment conditions                822 non-null    bool  \n",
      " 20  Maternity/family                     822 non-null    bool  \n",
      " 21  Relocation                           822 non-null    bool  \n",
      " 22  Study/Travel                         822 non-null    bool  \n",
      " 23  Ill Health                           822 non-null    bool  \n",
      " 24  Traumatic incident                   822 non-null    bool  \n",
      " 25  Work life balance                    822 non-null    bool  \n",
      " 26  Workload                             822 non-null    bool  \n",
      " 27  None of the above                    822 non-null    bool  \n",
      " 28  Professional Development             808 non-null    object\n",
      " 29  Opportunities for promotion          735 non-null    object\n",
      " 30  Staff morale                         816 non-null    object\n",
      " 31  Workplace issue                      788 non-null    object\n",
      " 32  Physical environment                 817 non-null    object\n",
      " 33  Worklife balance                     815 non-null    object\n",
      " 34  Stress and pressure support          810 non-null    object\n",
      " 35  Performance of supervisor            813 non-null    object\n",
      " 36  Peer support                         812 non-null    object\n",
      " 37  Initiative                           813 non-null    object\n",
      " 38  Skills                               811 non-null    object\n",
      " 39  Coach                                767 non-null    object\n",
      " 40  Career Aspirations                   746 non-null    object\n",
      " 41  Feedback                             792 non-null    object\n",
      " 42  Further PD                           768 non-null    object\n",
      " 43  Communication                        814 non-null    object\n",
      " 44  My say                               812 non-null    object\n",
      " 45  Information                          816 non-null    object\n",
      " 46  Kept informed                        813 non-null    object\n",
      " 47  Wellness programs                    766 non-null    object\n",
      " 48  Health & Safety                      793 non-null    object\n",
      " 49  Gender                               798 non-null    object\n",
      " 50  Age                                  811 non-null    object\n",
      " 51  Aboriginal                           16 non-null     object\n",
      " 52  Torres Strait                        3 non-null      object\n",
      " 53  South Sea                            7 non-null      object\n",
      " 54  Disability                           23 non-null     object\n",
      " 55  NESB                                 32 non-null     object\n",
      "dtypes: bool(18), int64(1), object(37)\n",
      "memory usage: 258.6+ KB\n",
      "None\n",
      "   ID                    SeparationType Cease Date DETE Start Date  \\\n",
      "0   1             Ill Health Retirement    08/2012            1984   \n",
      "1   2  Voluntary Early Retirement (VER)    08/2012      Not Stated   \n",
      "2   3  Voluntary Early Retirement (VER)    05/2012            2011   \n",
      "3   4         Resignation-Other reasons    05/2012            2005   \n",
      "4   5                    Age Retirement    05/2012            1970   \n",
      "\n",
      "  Role Start Date                                      Position  \\\n",
      "0            2004                                Public Servant   \n",
      "1      Not Stated                                Public Servant   \n",
      "2            2011                               Schools Officer   \n",
      "3            2006                                       Teacher   \n",
      "4            1989  Head of Curriculum/Head of Special Education   \n",
      "\n",
      "  Classification              Region                      Business Unit  \\\n",
      "0        A01-A04      Central Office  Corporate Strategy and Peformance   \n",
      "1        AO5-AO7      Central Office  Corporate Strategy and Peformance   \n",
      "2            NaN      Central Office               Education Queensland   \n",
      "3        Primary  Central Queensland                                NaN   \n",
      "4            NaN          South East                                NaN   \n",
      "\n",
      "     Employment Status  ...  Kept informed  Wellness programs  \\\n",
      "0  Permanent Full-time  ...              N                  N   \n",
      "1  Permanent Full-time  ...              N                  N   \n",
      "2  Permanent Full-time  ...              N                  N   \n",
      "3  Permanent Full-time  ...              A                  N   \n",
      "4  Permanent Full-time  ...              N                  A   \n",
      "\n",
      "   Health & Safety  Gender          Age  Aboriginal  Torres Strait  South Sea  \\\n",
      "0                N    Male        56-60         NaN            NaN        NaN   \n",
      "1                N    Male        56-60         NaN            NaN        NaN   \n",
      "2                N    Male  61 or older         NaN            NaN        NaN   \n",
      "3                A  Female        36-40         NaN            NaN        NaN   \n",
      "4                M  Female  61 or older         NaN            NaN        NaN   \n",
      "\n",
      "   Disability  NESB  \n",
      "0         NaN   Yes  \n",
      "1         NaN   NaN  \n",
      "2         NaN   NaN  \n",
      "3         NaN   NaN  \n",
      "4         NaN   NaN  \n",
      "\n",
      "[5 rows x 56 columns]\n"
     ]
    },
    {
     "data": {
      "image/png": "[encoded data removed]",
      "text/plain": [
       "<Figure size 432x288 with 1 Axes>"
      ]
     },
     "metadata": {
      "needs_background": "light"
     },
     "output_type": "display_data"
    }
   ],
   "source": [
    "#some exploratory steps\n",
    "explore(dete_survey)\n"
   ]
  },
  {
   "cell_type": "code",
   "execution_count": 5,
   "id": "c73e9224",
   "metadata": {
    "execution": {
     "iopub.execute_input": "2022-03-17T22:33:13.208407Z",
     "iopub.status.busy": "2022-03-17T22:33:13.207728Z",
     "iopub.status.idle": "2022-03-17T22:33:13.210252Z",
     "shell.execute_reply": "2022-03-17T22:33:13.210744Z",
     "shell.execute_reply.started": "2022-03-17T22:21:12.154038Z"
    },
    "papermill": {
     "duration": 0.091393,
     "end_time": "2022-03-17T22:33:13.210915",
     "exception": false,
     "start_time": "2022-03-17T22:33:13.119522",
     "status": "completed"
    },
    "tags": []
   },
   "outputs": [
    {
     "data": {
      "text/plain": [
       "array(['1984', 'Not Stated', '2011', '2005', '1970', '1994', '1972',\n",
       "       '1988', '2009', '1997', '1999', '1998', '1967', '2007', '1995',\n",
       "       '1996', '2006', '1989', '1982', '1980', '1973', '1981', '1974',\n",
       "       '1975', '1978', '2003', '2000', '1977', '1976', '1985', '2008',\n",
       "       '1963', '1993', '1979', '1990', '1969', '1966', '2010', '1968',\n",
       "       '1991', '1971', '2002', '1986', '2004', '2012', '1983', '2001',\n",
       "       '1987', '1992', '2013', '1965'], dtype=object)"
      ]
     },
     "execution_count": 5,
     "metadata": {},
     "output_type": "execute_result"
    }
   ],
   "source": [
    "dete_survey['DETE Start Date'].unique()"
   ]
  },
  {
   "cell_type": "code",
   "execution_count": 6,
   "id": "34421688",
   "metadata": {
    "execution": {
     "iopub.execute_input": "2022-03-17T22:33:13.378410Z",
     "iopub.status.busy": "2022-03-17T22:33:13.377762Z",
     "iopub.status.idle": "2022-03-17T22:33:13.384303Z",
     "shell.execute_reply": "2022-03-17T22:33:13.384926Z",
     "shell.execute_reply.started": "2022-03-17T22:21:12.165594Z"
    },
    "papermill": {
     "duration": 0.091702,
     "end_time": "2022-03-17T22:33:13.385095",
     "exception": false,
     "start_time": "2022-03-17T22:33:13.293393",
     "status": "completed"
    },
    "tags": []
   },
   "outputs": [
    {
     "data": {
      "text/plain": [
       "A     357\n",
       "N     160\n",
       "SA    115\n",
       "D      77\n",
       "SD     65\n",
       "M      14\n",
       "Name: Workplace issue, dtype: int64"
      ]
     },
     "execution_count": 6,
     "metadata": {},
     "output_type": "execute_result"
    }
   ],
   "source": [
    "dete_survey['Workplace issue'].value_counts()"
   ]
  },
  {
   "cell_type": "markdown",
   "id": "57cbc5af",
   "metadata": {
    "papermill": {
     "duration": 0.083958,
     "end_time": "2022-03-17T22:33:13.552863",
     "exception": false,
     "start_time": "2022-03-17T22:33:13.468905",
     "status": "completed"
    },
    "tags": []
   },
   "source": [
    "### Observations: DETE survey\n",
    "- to score some of the responses to the survey, a matrix has been used of A, N, SA, D, SD and M\n",
    "- some results are True/False booleans, others are strings. only ID stored as integer\n",
    "- many columns, particularly at the end have many null values, e.g. 'Aboriginal', 'Torres Strait'\n",
    "- in the start date and other date columns, there are entries 'Not Stated' (saved as string) which should be na values\n",
    "\n",
    "relevant columns are only those that can help answer questions relating to disatisfaction. Therefore, there are many columns that can be ignore/excluded. "
   ]
  },
  {
   "cell_type": "code",
   "execution_count": 7,
   "id": "6dfb73a7",
   "metadata": {
    "execution": {
     "iopub.execute_input": "2022-03-17T22:33:13.724618Z",
     "iopub.status.busy": "2022-03-17T22:33:13.723932Z",
     "iopub.status.idle": "2022-03-17T22:33:14.529859Z",
     "shell.execute_reply": "2022-03-17T22:33:14.530370Z",
     "shell.execute_reply.started": "2022-03-17T22:21:12.176974Z"
    },
    "papermill": {
     "duration": 0.892094,
     "end_time": "2022-03-17T22:33:14.530539",
     "exception": false,
     "start_time": "2022-03-17T22:33:13.638445",
     "status": "completed"
    },
    "tags": []
   },
   "outputs": [
    {
     "name": "stdout",
     "output_type": "stream",
     "text": [
      "<class 'pandas.core.frame.DataFrame'>\n",
      "RangeIndex: 702 entries, 0 to 701\n",
      "Data columns (total 72 columns):\n",
      " #   Column                                                                                                                                                         Non-Null Count  Dtype  \n",
      "---  ------                                                                                                                                                         --------------  -----  \n",
      " 0   Record ID                                                                                                                                                      702 non-null    float64\n",
      " 1   Institute                                                                                                                                                      702 non-null    object \n",
      " 2   WorkArea                                                                                                                                                       702 non-null    object \n",
      " 3   CESSATION YEAR                                                                                                                                                 695 non-null    float64\n",
      " 4   Reason for ceasing employment                                                                                                                                  701 non-null    object \n",
      " 5   Contributing Factors. Career Move - Public Sector                                                                                                              437 non-null    object \n",
      " 6   Contributing Factors. Career Move - Private Sector                                                                                                             437 non-null    object \n",
      " 7   Contributing Factors. Career Move - Self-employment                                                                                                            437 non-null    object \n",
      " 8   Contributing Factors. Ill Health                                                                                                                               437 non-null    object \n",
      " 9   Contributing Factors. Maternity/Family                                                                                                                         437 non-null    object \n",
      " 10  Contributing Factors. Dissatisfaction                                                                                                                          437 non-null    object \n",
      " 11  Contributing Factors. Job Dissatisfaction                                                                                                                      437 non-null    object \n",
      " 12  Contributing Factors. Interpersonal Conflict                                                                                                                   437 non-null    object \n",
      " 13  Contributing Factors. Study                                                                                                                                    437 non-null    object \n",
      " 14  Contributing Factors. Travel                                                                                                                                   437 non-null    object \n",
      " 15  Contributing Factors. Other                                                                                                                                    437 non-null    object \n",
      " 16  Contributing Factors. NONE                                                                                                                                     437 non-null    object \n",
      " 17  Main Factor. Which of these was the main factor for leaving?                                                                                                   113 non-null    object \n",
      " 18  InstituteViews. Topic:1. I feel the senior leadership had a clear vision and direction                                                                         608 non-null    object \n",
      " 19  InstituteViews. Topic:2. I was given access to skills training to help me do my job better                                                                     613 non-null    object \n",
      " 20  InstituteViews. Topic:3. I was given adequate opportunities for personal development                                                                           610 non-null    object \n",
      " 21  InstituteViews. Topic:4. I was given adequate opportunities for promotion within %Institute]Q25LBL%                                                            608 non-null    object \n",
      " 22  InstituteViews. Topic:5. I felt the salary for the job was right for the responsibilities I had                                                                615 non-null    object \n",
      " 23  InstituteViews. Topic:6. The organisation recognised when staff did good work                                                                                  607 non-null    object \n",
      " 24  InstituteViews. Topic:7. Management was generally supportive of me                                                                                             614 non-null    object \n",
      " 25  InstituteViews. Topic:8. Management was generally supportive of my team                                                                                        608 non-null    object \n",
      " 26  InstituteViews. Topic:9. I was kept informed of the changes in the organisation which would affect me                                                          610 non-null    object \n",
      " 27  InstituteViews. Topic:10. Staff morale was positive within the Institute                                                                                       602 non-null    object \n",
      " 28  InstituteViews. Topic:11. If I had a workplace issue it was dealt with quickly                                                                                 601 non-null    object \n",
      " 29  InstituteViews. Topic:12. If I had a workplace issue it was dealt with efficiently                                                                             597 non-null    object \n",
      " 30  InstituteViews. Topic:13. If I had a workplace issue it was dealt with discreetly                                                                              601 non-null    object \n",
      " 31  WorkUnitViews. Topic:14. I was satisfied with the quality of the management and supervision within my work unit                                                609 non-null    object \n",
      " 32  WorkUnitViews. Topic:15. I worked well with my colleagues                                                                                                      605 non-null    object \n",
      " 33  WorkUnitViews. Topic:16. My job was challenging and interesting                                                                                                607 non-null    object \n",
      " 34  WorkUnitViews. Topic:17. I was encouraged to use my initiative in the course of my work                                                                        610 non-null    object \n",
      " 35  WorkUnitViews. Topic:18. I had sufficient contact with other people in my job                                                                                  613 non-null    object \n",
      " 36  WorkUnitViews. Topic:19. I was given adequate support and co-operation by my peers to enable me to do my job                                                   609 non-null    object \n",
      " 37  WorkUnitViews. Topic:20. I was able to use the full range of my skills in my job                                                                               609 non-null    object \n",
      " 38  WorkUnitViews. Topic:21. I was able to use the full range of my abilities in my job. ; Category:Level of Agreement; Question:YOUR VIEWS ABOUT YOUR WORK UNIT]  608 non-null    object \n",
      " 39  WorkUnitViews. Topic:22. I was able to use the full range of my knowledge in my job                                                                            608 non-null    object \n",
      " 40  WorkUnitViews. Topic:23. My job provided sufficient variety                                                                                                    611 non-null    object \n",
      " 41  WorkUnitViews. Topic:24. I was able to cope with the level of stress and pressure in my job                                                                    610 non-null    object \n",
      " 42  WorkUnitViews. Topic:25. My job allowed me to balance the demands of work and family to my satisfaction                                                        611 non-null    object \n",
      " 43  WorkUnitViews. Topic:26. My supervisor gave me adequate personal recognition and feedback on my performance                                                    606 non-null    object \n",
      " 44  WorkUnitViews. Topic:27. My working environment was satisfactory e.g. sufficient space, good lighting, suitable seating and working area                       610 non-null    object \n",
      " 45  WorkUnitViews. Topic:28. I was given the opportunity to mentor and coach others in order for me to pass on my skills and knowledge prior to my cessation date  609 non-null    object \n",
      " 46  WorkUnitViews. Topic:29. There was adequate communication between staff in my unit                                                                             603 non-null    object \n",
      " 47  WorkUnitViews. Topic:30. Staff morale was positive within my work unit                                                                                         606 non-null    object \n",
      " 48  Induction. Did you undertake Workplace Induction?                                                                                                              619 non-null    object \n",
      " 49  InductionInfo. Topic:Did you undertake a Corporate Induction?                                                                                                  432 non-null    object \n",
      " 50  InductionInfo. Topic:Did you undertake a Institute Induction?                                                                                                  483 non-null    object \n",
      " 51  InductionInfo. Topic: Did you undertake Team Induction?                                                                                                        440 non-null    object \n",
      " 52  InductionInfo. Face to Face Topic:Did you undertake a Corporate Induction; Category:How it was conducted?                                                      555 non-null    object \n",
      " 53  InductionInfo. On-line Topic:Did you undertake a Corporate Induction; Category:How it was conducted?                                                           555 non-null    object \n",
      " 54  InductionInfo. Induction Manual Topic:Did you undertake a Corporate Induction?                                                                                 555 non-null    object \n",
      " 55  InductionInfo. Face to Face Topic:Did you undertake a Institute Induction?                                                                                     530 non-null    object \n",
      " 56  InductionInfo. On-line Topic:Did you undertake a Institute Induction?                                                                                          555 non-null    object \n",
      " 57  InductionInfo. Induction Manual Topic:Did you undertake a Institute Induction?                                                                                 553 non-null    object \n",
      " 58  InductionInfo. Face to Face Topic: Did you undertake Team Induction; Category?                                                                                 555 non-null    object \n",
      " 59  InductionInfo. On-line Topic: Did you undertake Team Induction?process you undertook and how it was conducted.]                                                555 non-null    object \n",
      " 60  InductionInfo. Induction Manual Topic: Did you undertake Team Induction?                                                                                       555 non-null    object \n",
      " 61  Workplace. Topic:Did you and your Manager develop a Performance and Professional Development Plan (PPDP)?                                                      608 non-null    object \n",
      " 62  Workplace. Topic:Does your workplace promote a work culture free from all forms of unlawful discrimination?                                                    594 non-null    object \n",
      " 63  Workplace. Topic:Does your workplace promote and practice the principles of employment equity?                                                                 587 non-null    object \n",
      " 64  Workplace. Topic:Does your workplace value the diversity of its employees?                                                                                     586 non-null    object \n",
      " 65  Workplace. Topic:Would you recommend the Institute as an employer to others?                                                                                   581 non-null    object \n",
      " 66  Gender. What is your Gender?                                                                                                                                   596 non-null    object \n",
      " 67  CurrentAge. Current Age                                                                                                                                        596 non-null    object \n",
      " 68  Employment Type. Employment Type                                                                                                                               596 non-null    object \n",
      " 69  Classification. Classification                                                                                                                                 596 non-null    object \n",
      " 70  LengthofServiceOverall. Overall Length of Service at Institute (in years)                                                                                      596 non-null    object \n",
      " 71  LengthofServiceCurrent. Length of Service at current workplace (in years)                                                                                      596 non-null    object \n",
      "dtypes: float64(2), object(70)\n",
      "memory usage: 395.0+ KB\n",
      "None\n",
      "      Record ID                              Institute  \\\n",
      "0  6.341330e+17  Southern Queensland Institute of TAFE   \n",
      "1  6.341337e+17            Mount Isa Institute of TAFE   \n",
      "2  6.341388e+17            Mount Isa Institute of TAFE   \n",
      "3  6.341399e+17            Mount Isa Institute of TAFE   \n",
      "4  6.341466e+17  Southern Queensland Institute of TAFE   \n",
      "\n",
      "                   WorkArea  CESSATION YEAR Reason for ceasing employment  \\\n",
      "0  Non-Delivery (corporate)          2010.0              Contract Expired   \n",
      "1  Non-Delivery (corporate)          2010.0                    Retirement   \n",
      "2       Delivery (teaching)          2010.0                    Retirement   \n",
      "3  Non-Delivery (corporate)          2010.0                   Resignation   \n",
      "4       Delivery (teaching)          2010.0                   Resignation   \n",
      "\n",
      "  Contributing Factors. Career Move - Public Sector   \\\n",
      "0                                                NaN   \n",
      "1                                                  -   \n",
      "2                                                  -   \n",
      "3                                                  -   \n",
      "4                                                  -   \n",
      "\n",
      "  Contributing Factors. Career Move - Private Sector   \\\n",
      "0                                                NaN    \n",
      "1                                                  -    \n",
      "2                                                  -    \n",
      "3                                                  -    \n",
      "4                       Career Move - Private Sector    \n",
      "\n",
      "  Contributing Factors. Career Move - Self-employment  \\\n",
      "0                                                NaN    \n",
      "1                                                  -    \n",
      "2                                                  -    \n",
      "3                                                  -    \n",
      "4                                                  -    \n",
      "\n",
      "  Contributing Factors. Ill Health Contributing Factors. Maternity/Family  \\\n",
      "0                              NaN                                    NaN   \n",
      "1                                -                                      -   \n",
      "2                                -                                      -   \n",
      "3                                -                                      -   \n",
      "4                                -                                      -   \n",
      "\n",
      "   ...  \\\n",
      "0  ...   \n",
      "1  ...   \n",
      "2  ...   \n",
      "3  ...   \n",
      "4  ...   \n",
      "\n",
      "  Workplace. Topic:Does your workplace promote a work culture free from all forms of unlawful discrimination?  \\\n",
      "0                                                Yes                                                            \n",
      "1                                                Yes                                                            \n",
      "2                                                Yes                                                            \n",
      "3                                                Yes                                                            \n",
      "4                                                Yes                                                            \n",
      "\n",
      "  Workplace. Topic:Does your workplace promote and practice the principles of employment equity?  \\\n",
      "0                                                Yes                                               \n",
      "1                                                Yes                                               \n",
      "2                                                Yes                                               \n",
      "3                                                Yes                                               \n",
      "4                                                Yes                                               \n",
      "\n",
      "  Workplace. Topic:Does your workplace value the diversity of its employees?  \\\n",
      "0                                                Yes                           \n",
      "1                                                Yes                           \n",
      "2                                                Yes                           \n",
      "3                                                Yes                           \n",
      "4                                                Yes                           \n",
      "\n",
      "  Workplace. Topic:Would you recommend the Institute as an employer to others?  \\\n",
      "0                                                Yes                             \n",
      "1                                                Yes                             \n",
      "2                                                Yes                             \n",
      "3                                                Yes                             \n",
      "4                                                Yes                             \n",
      "\n",
      "  Gender. What is your Gender? CurrentAge. Current Age  \\\n",
      "0                       Female                  26  30   \n",
      "1                          NaN                     NaN   \n",
      "2                          NaN                     NaN   \n",
      "3                          NaN                     NaN   \n",
      "4                         Male                  41  45   \n",
      "\n",
      "  Employment Type. Employment Type Classification. Classification  \\\n",
      "0              Temporary Full-time            Administration (AO)   \n",
      "1                              NaN                            NaN   \n",
      "2                              NaN                            NaN   \n",
      "3                              NaN                            NaN   \n",
      "4              Permanent Full-time        Teacher (including LVT)   \n",
      "\n",
      "  LengthofServiceOverall. Overall Length of Service at Institute (in years)  \\\n",
      "0                                                1-2                          \n",
      "1                                                NaN                          \n",
      "2                                                NaN                          \n",
      "3                                                NaN                          \n",
      "4                                                3-4                          \n",
      "\n",
      "  LengthofServiceCurrent. Length of Service at current workplace (in years)  \n",
      "0                                                1-2                         \n",
      "1                                                NaN                         \n",
      "2                                                NaN                         \n",
      "3                                                NaN                         \n",
      "4                                                3-4                         \n",
      "\n",
      "[5 rows x 72 columns]\n"
     ]
    },
    {
     "data": {
      "image/png": "[encoded data removed]",
      "text/plain": [
       "<Figure size 432x288 with 1 Axes>"
      ]
     },
     "metadata": {
      "needs_background": "light"
     },
     "output_type": "display_data"
    }
   ],
   "source": [
    "explore(tafe_survey)"
   ]
  },
  {
   "cell_type": "code",
   "execution_count": 8,
   "id": "b5be9e23",
   "metadata": {
    "execution": {
     "iopub.execute_input": "2022-03-17T22:33:14.711113Z",
     "iopub.status.busy": "2022-03-17T22:33:14.710323Z",
     "iopub.status.idle": "2022-03-17T22:33:14.715726Z",
     "shell.execute_reply": "2022-03-17T22:33:14.716369Z",
     "shell.execute_reply.started": "2022-03-17T22:21:12.952828Z"
    },
    "papermill": {
     "duration": 0.095787,
     "end_time": "2022-03-17T22:33:14.716556",
     "exception": false,
     "start_time": "2022-03-17T22:33:14.620769",
     "status": "completed"
    },
    "tags": []
   },
   "outputs": [
    {
     "data": {
      "text/plain": [
       "array(['26  30', nan, '41  45', '56 or older', '20 or younger', '46  50',\n",
       "       '36  40', '21  25', '51-55', '31  35'], dtype=object)"
      ]
     },
     "execution_count": 8,
     "metadata": {},
     "output_type": "execute_result"
    }
   ],
   "source": [
    "tafe_survey['CurrentAge. Current Age'].unique()"
   ]
  },
  {
   "cell_type": "markdown",
   "id": "2a7ac60f",
   "metadata": {
    "papermill": {
     "duration": 0.089486,
     "end_time": "2022-03-17T22:33:14.894234",
     "exception": false,
     "start_time": "2022-03-17T22:33:14.804748",
     "status": "completed"
    },
    "tags": []
   },
   "source": [
    "### Observations: TAFE survey\n",
    "- 72 total columns, 702 entries. column values relate to answers to questions\n",
    "- column names are very inconsistent, some have repeated names \n",
    "- Again, many columns can be ignored/excluded as do not help to answer our questions"
   ]
  },
  {
   "cell_type": "markdown",
   "id": "ff8993e8",
   "metadata": {
    "papermill": {
     "duration": 0.088233,
     "end_time": "2022-03-17T22:33:15.073143",
     "exception": false,
     "start_time": "2022-03-17T22:33:14.984910",
     "status": "completed"
    },
    "tags": []
   },
   "source": [
    "# Data Cleaning - first steps"
   ]
  },
  {
   "cell_type": "code",
   "execution_count": 9,
   "id": "a34fda86",
   "metadata": {
    "execution": {
     "iopub.execute_input": "2022-03-17T22:33:15.256299Z",
     "iopub.status.busy": "2022-03-17T22:33:15.255646Z",
     "iopub.status.idle": "2022-03-17T22:33:15.277030Z",
     "shell.execute_reply": "2022-03-17T22:33:15.277566Z",
     "shell.execute_reply.started": "2022-03-17T22:21:12.961385Z"
    },
    "papermill": {
     "duration": 0.11466,
     "end_time": "2022-03-17T22:33:15.277754",
     "exception": false,
     "start_time": "2022-03-17T22:33:15.163094",
     "status": "completed"
    },
    "tags": []
   },
   "outputs": [],
   "source": [
    "#read in dete_survey.csv again, but setting na_values to Not Stated (as found in date columns)\n",
    "\n",
    "dete_survey = pd.read_csv('../input/employee-exit-survey/dete_survey.csv', na_values='Not Stated')"
   ]
  },
  {
   "cell_type": "code",
   "execution_count": 10,
   "id": "d5951368",
   "metadata": {
    "execution": {
     "iopub.execute_input": "2022-03-17T22:33:15.459024Z",
     "iopub.status.busy": "2022-03-17T22:33:15.458343Z",
     "iopub.status.idle": "2022-03-17T22:33:15.466661Z",
     "shell.execute_reply": "2022-03-17T22:33:15.467179Z",
     "shell.execute_reply.started": "2022-03-17T22:21:12.988876Z"
    },
    "papermill": {
     "duration": 0.099617,
     "end_time": "2022-03-17T22:33:15.467381",
     "exception": false,
     "start_time": "2022-03-17T22:33:15.367764",
     "status": "completed"
    },
    "tags": []
   },
   "outputs": [],
   "source": [
    "#dropping columns that won't aid in the analysis\n",
    "\n",
    "#dete survey - first 28 or so column names seem to relate strongly to dissatisfaction\n",
    "dete_survey_updated = dete_survey.drop(dete_survey.columns[28:49], axis=1)\n",
    "\n",
    "#tafe_survey - first 16 columns have 'contributing factors' in their titles\n",
    "tafe_survey_updated = tafe_survey.drop(tafe_survey.columns[17:66], axis=1)"
   ]
  },
  {
   "cell_type": "code",
   "execution_count": 11,
   "id": "2433956b",
   "metadata": {
    "execution": {
     "iopub.execute_input": "2022-03-17T22:33:15.649353Z",
     "iopub.status.busy": "2022-03-17T22:33:15.648603Z",
     "iopub.status.idle": "2022-03-17T22:33:15.653852Z",
     "shell.execute_reply": "2022-03-17T22:33:15.654434Z",
     "shell.execute_reply.started": "2022-03-17T22:21:12.99858Z"
    },
    "papermill": {
     "duration": 0.098725,
     "end_time": "2022-03-17T22:33:15.654611",
     "exception": false,
     "start_time": "2022-03-17T22:33:15.555886",
     "status": "completed"
    },
    "tags": []
   },
   "outputs": [
    {
     "data": {
      "text/plain": [
       "Index(['ID', 'SeparationType', 'Cease Date', 'DETE Start Date',\n",
       "       'Role Start Date', 'Position', 'Classification', 'Region',\n",
       "       'Business Unit', 'Employment Status', 'Career move to public sector',\n",
       "       'Career move to private sector', 'Interpersonal conflicts',\n",
       "       'Job dissatisfaction', 'Dissatisfaction with the department',\n",
       "       'Physical work environment', 'Lack of recognition',\n",
       "       'Lack of job security', 'Work location', 'Employment conditions',\n",
       "       'Maternity/family', 'Relocation', 'Study/Travel', 'Ill Health',\n",
       "       'Traumatic incident', 'Work life balance', 'Workload',\n",
       "       'None of the above', 'Gender', 'Age', 'Aboriginal', 'Torres Strait',\n",
       "       'South Sea', 'Disability', 'NESB'],\n",
       "      dtype='object')"
      ]
     },
     "execution_count": 11,
     "metadata": {},
     "output_type": "execute_result"
    }
   ],
   "source": [
    "#confirmatory step - checking columns were dropped\n",
    "\n",
    "dete_survey_updated.columns"
   ]
  },
  {
   "cell_type": "code",
   "execution_count": 12,
   "id": "8ebe041b",
   "metadata": {
    "execution": {
     "iopub.execute_input": "2022-03-17T22:33:15.838671Z",
     "iopub.status.busy": "2022-03-17T22:33:15.837977Z",
     "iopub.status.idle": "2022-03-17T22:33:15.842816Z",
     "shell.execute_reply": "2022-03-17T22:33:15.843391Z",
     "shell.execute_reply.started": "2022-03-17T22:21:13.012838Z"
    },
    "papermill": {
     "duration": 0.09886,
     "end_time": "2022-03-17T22:33:15.843560",
     "exception": false,
     "start_time": "2022-03-17T22:33:15.744700",
     "status": "completed"
    },
    "tags": []
   },
   "outputs": [
    {
     "data": {
      "text/plain": [
       "Index(['Record ID', 'Institute', 'WorkArea', 'CESSATION YEAR',\n",
       "       'Reason for ceasing employment',\n",
       "       'Contributing Factors. Career Move - Public Sector ',\n",
       "       'Contributing Factors. Career Move - Private Sector ',\n",
       "       'Contributing Factors. Career Move - Self-employment',\n",
       "       'Contributing Factors. Ill Health',\n",
       "       'Contributing Factors. Maternity/Family',\n",
       "       'Contributing Factors. Dissatisfaction',\n",
       "       'Contributing Factors. Job Dissatisfaction',\n",
       "       'Contributing Factors. Interpersonal Conflict',\n",
       "       'Contributing Factors. Study', 'Contributing Factors. Travel',\n",
       "       'Contributing Factors. Other', 'Contributing Factors. NONE',\n",
       "       'Gender. What is your Gender?', 'CurrentAge. Current Age',\n",
       "       'Employment Type. Employment Type', 'Classification. Classification',\n",
       "       'LengthofServiceOverall. Overall Length of Service at Institute (in years)',\n",
       "       'LengthofServiceCurrent. Length of Service at current workplace (in years)'],\n",
       "      dtype='object')"
      ]
     },
     "execution_count": 12,
     "metadata": {},
     "output_type": "execute_result"
    }
   ],
   "source": [
    "tafe_survey_updated.columns"
   ]
  },
  {
   "cell_type": "markdown",
   "id": "f5801206",
   "metadata": {
    "papermill": {
     "duration": 0.091057,
     "end_time": "2022-03-17T22:33:16.023752",
     "exception": false,
     "start_time": "2022-03-17T22:33:15.932695",
     "status": "completed"
    },
    "tags": []
   },
   "source": [
    "# Data Cleaning - column names\n",
    "I'll need to combine the data together - there are many columns shared between the dataframes but named differently, e.g.:\n",
    "\n",
    "dete_survey:tafe_survey \n",
    "\n",
    "- ID and Record ID,\n",
    "- SeparationType and Reason for ceasing employment\n",
    "- Cease Date and CESSATION YEAR\n",
    "- Age, CurrentAge. Current Age\n",
    "- Gender, Gender. What is your Gender?\n",
    "\n",
    "Before combining, i'll therefore have to standardise the columns by first renaming them. "
   ]
  },
  {
   "cell_type": "code",
   "execution_count": 13,
   "id": "7b22ec72",
   "metadata": {
    "execution": {
     "iopub.execute_input": "2022-03-17T22:33:16.204883Z",
     "iopub.status.busy": "2022-03-17T22:33:16.204196Z",
     "iopub.status.idle": "2022-03-17T22:33:16.209332Z",
     "shell.execute_reply": "2022-03-17T22:33:16.209876Z",
     "shell.execute_reply.started": "2022-03-17T22:21:13.024584Z"
    },
    "papermill": {
     "duration": 0.096601,
     "end_time": "2022-03-17T22:33:16.210049",
     "exception": false,
     "start_time": "2022-03-17T22:33:16.113448",
     "status": "completed"
    },
    "tags": []
   },
   "outputs": [],
   "source": [
    "#focusing on dete_survey_updated\n",
    "\n",
    "#make all capitalisation lowercase\n",
    "dete_survey_updated.columns = dete_survey_updated.columns.str.replace(' ', '_').str.strip().str.lower()"
   ]
  },
  {
   "cell_type": "code",
   "execution_count": 14,
   "id": "390a45f5",
   "metadata": {
    "execution": {
     "iopub.execute_input": "2022-03-17T22:33:16.396812Z",
     "iopub.status.busy": "2022-03-17T22:33:16.396109Z",
     "iopub.status.idle": "2022-03-17T22:33:16.400845Z",
     "shell.execute_reply": "2022-03-17T22:33:16.401482Z",
     "shell.execute_reply.started": "2022-03-17T22:21:13.038074Z"
    },
    "papermill": {
     "duration": 0.099713,
     "end_time": "2022-03-17T22:33:16.401647",
     "exception": false,
     "start_time": "2022-03-17T22:33:16.301934",
     "status": "completed"
    },
    "tags": []
   },
   "outputs": [
    {
     "data": {
      "text/plain": [
       "Index(['id', 'separationtype', 'cease_date', 'dete_start_date',\n",
       "       'role_start_date', 'position', 'classification', 'region',\n",
       "       'business_unit', 'employment_status', 'career_move_to_public_sector',\n",
       "       'career_move_to_private_sector', 'interpersonal_conflicts',\n",
       "       'job_dissatisfaction', 'dissatisfaction_with_the_department',\n",
       "       'physical_work_environment', 'lack_of_recognition',\n",
       "       'lack_of_job_security', 'work_location', 'employment_conditions',\n",
       "       'maternity/family', 'relocation', 'study/travel', 'ill_health',\n",
       "       'traumatic_incident', 'work_life_balance', 'workload',\n",
       "       'none_of_the_above', 'gender', 'age', 'aboriginal', 'torres_strait',\n",
       "       'south_sea', 'disability', 'nesb'],\n",
       "      dtype='object')"
      ]
     },
     "execution_count": 14,
     "metadata": {},
     "output_type": "execute_result"
    }
   ],
   "source": [
    "#confirmatory step\n",
    "dete_survey_updated.columns"
   ]
  },
  {
   "cell_type": "code",
   "execution_count": 15,
   "id": "4dda1c93",
   "metadata": {
    "execution": {
     "iopub.execute_input": "2022-03-17T22:33:16.590337Z",
     "iopub.status.busy": "2022-03-17T22:33:16.589335Z",
     "iopub.status.idle": "2022-03-17T22:33:16.591320Z",
     "shell.execute_reply": "2022-03-17T22:33:16.592080Z",
     "shell.execute_reply.started": "2022-03-17T22:21:13.047736Z"
    },
    "papermill": {
     "duration": 0.10027,
     "end_time": "2022-03-17T22:33:16.592342",
     "exception": false,
     "start_time": "2022-03-17T22:33:16.492072",
     "status": "completed"
    },
    "tags": []
   },
   "outputs": [],
   "source": [
    "tafe_columns = {'Record ID': 'id', 'CESSATION YEAR':'cease_date','Reason for ceasing employment':'separationtype', 'Gender. What is your Gender?': 'gender','CurrentAge. Current Age': 'age', 'Employment Type. Employment Type':'employment_status','Classification. Classification': 'position', 'LengthofServiceOverall. Overall Length of Service at Institute (in years)': 'institute_service','LengthofServiceCurrent. Length of Service at current workplace (in years)':'role_service'}\n"
   ]
  },
  {
   "cell_type": "code",
   "execution_count": 16,
   "id": "b0e6e14e",
   "metadata": {
    "execution": {
     "iopub.execute_input": "2022-03-17T22:33:16.776177Z",
     "iopub.status.busy": "2022-03-17T22:33:16.775508Z",
     "iopub.status.idle": "2022-03-17T22:33:16.780096Z",
     "shell.execute_reply": "2022-03-17T22:33:16.780652Z",
     "shell.execute_reply.started": "2022-03-17T22:21:13.060352Z"
    },
    "papermill": {
     "duration": 0.096562,
     "end_time": "2022-03-17T22:33:16.780822",
     "exception": false,
     "start_time": "2022-03-17T22:33:16.684260",
     "status": "completed"
    },
    "tags": []
   },
   "outputs": [],
   "source": [
    "#renaming columns in tafe_survey_updated\n",
    "#passing in dict, along column axis\n",
    "tafe_survey_updated = tafe_survey_updated.rename(tafe_columns, axis=1)"
   ]
  },
  {
   "cell_type": "code",
   "execution_count": 17,
   "id": "9fa1a833",
   "metadata": {
    "execution": {
     "iopub.execute_input": "2022-03-17T22:33:16.966338Z",
     "iopub.status.busy": "2022-03-17T22:33:16.965350Z",
     "iopub.status.idle": "2022-03-17T22:33:16.969032Z",
     "shell.execute_reply": "2022-03-17T22:33:16.969678Z",
     "shell.execute_reply.started": "2022-03-17T22:21:13.074874Z"
    },
    "papermill": {
     "duration": 0.098888,
     "end_time": "2022-03-17T22:33:16.969851",
     "exception": false,
     "start_time": "2022-03-17T22:33:16.870963",
     "status": "completed"
    },
    "tags": []
   },
   "outputs": [
    {
     "data": {
      "text/plain": [
       "Index(['id', 'Institute', 'WorkArea', 'cease_date', 'separationtype',\n",
       "       'Contributing Factors. Career Move - Public Sector ',\n",
       "       'Contributing Factors. Career Move - Private Sector ',\n",
       "       'Contributing Factors. Career Move - Self-employment',\n",
       "       'Contributing Factors. Ill Health',\n",
       "       'Contributing Factors. Maternity/Family',\n",
       "       'Contributing Factors. Dissatisfaction',\n",
       "       'Contributing Factors. Job Dissatisfaction',\n",
       "       'Contributing Factors. Interpersonal Conflict',\n",
       "       'Contributing Factors. Study', 'Contributing Factors. Travel',\n",
       "       'Contributing Factors. Other', 'Contributing Factors. NONE', 'gender',\n",
       "       'age', 'employment_status', 'position', 'institute_service',\n",
       "       'role_service'],\n",
       "      dtype='object')"
      ]
     },
     "execution_count": 17,
     "metadata": {},
     "output_type": "execute_result"
    }
   ],
   "source": [
    "#confirmatory step\n",
    "tafe_survey_updated.columns"
   ]
  },
  {
   "cell_type": "markdown",
   "id": "081b325a",
   "metadata": {
    "papermill": {
     "duration": 0.090689,
     "end_time": "2022-03-17T22:33:17.151479",
     "exception": false,
     "start_time": "2022-03-17T22:33:17.060790",
     "status": "completed"
    },
    "tags": []
   },
   "source": [
    "Some general formatting for the dete dataset, and I changed the specific columns of interest for the tafe dataset with .rename()"
   ]
  },
  {
   "cell_type": "markdown",
   "id": "5f287205",
   "metadata": {
    "papermill": {
     "duration": 0.089686,
     "end_time": "2022-03-17T22:33:17.332888",
     "exception": false,
     "start_time": "2022-03-17T22:33:17.243202",
     "status": "completed"
    },
    "tags": []
   },
   "source": [
    "# Data Cleaning - isolating respondents that resigned\n",
    "Next I'll separate the data to include only those that resigned, i.e. separationtype as resignation. "
   ]
  },
  {
   "cell_type": "code",
   "execution_count": 18,
   "id": "22e8b0ee",
   "metadata": {
    "execution": {
     "iopub.execute_input": "2022-03-17T22:33:17.521189Z",
     "iopub.status.busy": "2022-03-17T22:33:17.520441Z",
     "iopub.status.idle": "2022-03-17T22:33:17.527185Z",
     "shell.execute_reply": "2022-03-17T22:33:17.527758Z",
     "shell.execute_reply.started": "2022-03-17T22:21:13.088368Z"
    },
    "papermill": {
     "duration": 0.100682,
     "end_time": "2022-03-17T22:33:17.527939",
     "exception": false,
     "start_time": "2022-03-17T22:33:17.427257",
     "status": "completed"
    },
    "tags": []
   },
   "outputs": [
    {
     "data": {
      "text/plain": [
       "Age Retirement                          285\n",
       "Resignation-Other reasons               150\n",
       "Resignation-Other employer               91\n",
       "Resignation-Move overseas/interstate     70\n",
       "Voluntary Early Retirement (VER)         67\n",
       "Ill Health Retirement                    61\n",
       "Other                                    49\n",
       "Contract Expired                         34\n",
       "Termination                              15\n",
       "Name: separationtype, dtype: int64"
      ]
     },
     "execution_count": 18,
     "metadata": {},
     "output_type": "execute_result"
    }
   ],
   "source": [
    "dete_survey_updated['separationtype'].value_counts()"
   ]
  },
  {
   "cell_type": "code",
   "execution_count": 19,
   "id": "5bd25850",
   "metadata": {
    "execution": {
     "iopub.execute_input": "2022-03-17T22:33:17.714694Z",
     "iopub.status.busy": "2022-03-17T22:33:17.714050Z",
     "iopub.status.idle": "2022-03-17T22:33:17.721344Z",
     "shell.execute_reply": "2022-03-17T22:33:17.721847Z",
     "shell.execute_reply.started": "2022-03-17T22:21:13.104003Z"
    },
    "papermill": {
     "duration": 0.101799,
     "end_time": "2022-03-17T22:33:17.722024",
     "exception": false,
     "start_time": "2022-03-17T22:33:17.620225",
     "status": "completed"
    },
    "tags": []
   },
   "outputs": [
    {
     "data": {
      "text/plain": [
       "Resignation                 340\n",
       "Contract Expired            127\n",
       "Retrenchment/ Redundancy    104\n",
       "Retirement                   82\n",
       "Transfer                     25\n",
       "Termination                  23\n",
       "Name: separationtype, dtype: int64"
      ]
     },
     "execution_count": 19,
     "metadata": {},
     "output_type": "execute_result"
    }
   ],
   "source": [
    "tafe_survey_updated['separationtype'].value_counts()"
   ]
  },
  {
   "cell_type": "code",
   "execution_count": 20,
   "id": "3af67d5d",
   "metadata": {
    "execution": {
     "iopub.execute_input": "2022-03-17T22:33:17.907078Z",
     "iopub.status.busy": "2022-03-17T22:33:17.906421Z",
     "iopub.status.idle": "2022-03-17T22:33:17.912316Z",
     "shell.execute_reply": "2022-03-17T22:33:17.912868Z",
     "shell.execute_reply.started": "2022-03-17T22:21:13.115202Z"
    },
    "papermill": {
     "duration": 0.10027,
     "end_time": "2022-03-17T22:33:17.913047",
     "exception": false,
     "start_time": "2022-03-17T22:33:17.812777",
     "status": "completed"
    },
    "tags": []
   },
   "outputs": [],
   "source": [
    "#I'll use a boolean operation to index the dataframe, to isolate correct entries\n",
    "dete_bool = dete_survey_updated['separationtype'].str.contains(\"Resignation\")\n",
    "dete_resignations = dete_survey_updated[dete_bool]"
   ]
  },
  {
   "cell_type": "code",
   "execution_count": 21,
   "id": "03ad27a9",
   "metadata": {
    "execution": {
     "iopub.execute_input": "2022-03-17T22:33:18.097530Z",
     "iopub.status.busy": "2022-03-17T22:33:18.096832Z",
     "iopub.status.idle": "2022-03-17T22:33:18.104121Z",
     "shell.execute_reply": "2022-03-17T22:33:18.104660Z",
     "shell.execute_reply.started": "2022-03-17T22:21:13.125068Z"
    },
    "papermill": {
     "duration": 0.100478,
     "end_time": "2022-03-17T22:33:18.104844",
     "exception": false,
     "start_time": "2022-03-17T22:33:18.004366",
     "status": "completed"
    },
    "tags": []
   },
   "outputs": [
    {
     "data": {
      "text/plain": [
       "Resignation-Other reasons               150\n",
       "Resignation-Other employer               91\n",
       "Resignation-Move overseas/interstate     70\n",
       "Name: separationtype, dtype: int64"
      ]
     },
     "execution_count": 21,
     "metadata": {},
     "output_type": "execute_result"
    }
   ],
   "source": [
    "dete_resignations['separationtype'].value_counts()"
   ]
  },
  {
   "cell_type": "code",
   "execution_count": 22,
   "id": "5284c79e",
   "metadata": {
    "execution": {
     "iopub.execute_input": "2022-03-17T22:33:18.297942Z",
     "iopub.status.busy": "2022-03-17T22:33:18.297231Z",
     "iopub.status.idle": "2022-03-17T22:33:18.319595Z",
     "shell.execute_reply": "2022-03-17T22:33:18.320048Z",
     "shell.execute_reply.started": "2022-03-17T22:21:13.140285Z"
    },
    "papermill": {
     "duration": 0.122546,
     "end_time": "2022-03-17T22:33:18.320221",
     "exception": false,
     "start_time": "2022-03-17T22:33:18.197675",
     "status": "completed"
    },
    "tags": []
   },
   "outputs": [
    {
     "data": {
      "text/html": [
       "<div>\n",
       "<style scoped>\n",
       "    .dataframe tbody tr th:only-of-type {\n",
       "        vertical-align: middle;\n",
       "    }\n",
       "\n",
       "    .dataframe tbody tr th {\n",
       "        vertical-align: top;\n",
       "    }\n",
       "\n",
       "    .dataframe thead th {\n",
       "        text-align: right;\n",
       "    }\n",
       "</style>\n",
       "<table border=\"1\" class=\"dataframe\">\n",
       "  <thead>\n",
       "    <tr style=\"text-align: right;\">\n",
       "      <th></th>\n",
       "      <th>id</th>\n",
       "      <th>separationtype</th>\n",
       "      <th>cease_date</th>\n",
       "      <th>dete_start_date</th>\n",
       "      <th>role_start_date</th>\n",
       "      <th>position</th>\n",
       "      <th>classification</th>\n",
       "      <th>region</th>\n",
       "      <th>business_unit</th>\n",
       "      <th>employment_status</th>\n",
       "      <th>...</th>\n",
       "      <th>work_life_balance</th>\n",
       "      <th>workload</th>\n",
       "      <th>none_of_the_above</th>\n",
       "      <th>gender</th>\n",
       "      <th>age</th>\n",
       "      <th>aboriginal</th>\n",
       "      <th>torres_strait</th>\n",
       "      <th>south_sea</th>\n",
       "      <th>disability</th>\n",
       "      <th>nesb</th>\n",
       "    </tr>\n",
       "  </thead>\n",
       "  <tbody>\n",
       "    <tr>\n",
       "      <th>3</th>\n",
       "      <td>4</td>\n",
       "      <td>Resignation-Other reasons</td>\n",
       "      <td>05/2012</td>\n",
       "      <td>2005.0</td>\n",
       "      <td>2006.0</td>\n",
       "      <td>Teacher</td>\n",
       "      <td>Primary</td>\n",
       "      <td>Central Queensland</td>\n",
       "      <td>NaN</td>\n",
       "      <td>Permanent Full-time</td>\n",
       "      <td>...</td>\n",
       "      <td>False</td>\n",
       "      <td>False</td>\n",
       "      <td>False</td>\n",
       "      <td>Female</td>\n",
       "      <td>36-40</td>\n",
       "      <td>NaN</td>\n",
       "      <td>NaN</td>\n",
       "      <td>NaN</td>\n",
       "      <td>NaN</td>\n",
       "      <td>NaN</td>\n",
       "    </tr>\n",
       "    <tr>\n",
       "      <th>5</th>\n",
       "      <td>6</td>\n",
       "      <td>Resignation-Other reasons</td>\n",
       "      <td>05/2012</td>\n",
       "      <td>1994.0</td>\n",
       "      <td>1997.0</td>\n",
       "      <td>Guidance Officer</td>\n",
       "      <td>NaN</td>\n",
       "      <td>Central Office</td>\n",
       "      <td>Education Queensland</td>\n",
       "      <td>Permanent Full-time</td>\n",
       "      <td>...</td>\n",
       "      <td>False</td>\n",
       "      <td>False</td>\n",
       "      <td>False</td>\n",
       "      <td>Female</td>\n",
       "      <td>41-45</td>\n",
       "      <td>NaN</td>\n",
       "      <td>NaN</td>\n",
       "      <td>NaN</td>\n",
       "      <td>NaN</td>\n",
       "      <td>NaN</td>\n",
       "    </tr>\n",
       "    <tr>\n",
       "      <th>8</th>\n",
       "      <td>9</td>\n",
       "      <td>Resignation-Other reasons</td>\n",
       "      <td>07/2012</td>\n",
       "      <td>2009.0</td>\n",
       "      <td>2009.0</td>\n",
       "      <td>Teacher</td>\n",
       "      <td>Secondary</td>\n",
       "      <td>North Queensland</td>\n",
       "      <td>NaN</td>\n",
       "      <td>Permanent Full-time</td>\n",
       "      <td>...</td>\n",
       "      <td>False</td>\n",
       "      <td>False</td>\n",
       "      <td>False</td>\n",
       "      <td>Female</td>\n",
       "      <td>31-35</td>\n",
       "      <td>NaN</td>\n",
       "      <td>NaN</td>\n",
       "      <td>NaN</td>\n",
       "      <td>NaN</td>\n",
       "      <td>NaN</td>\n",
       "    </tr>\n",
       "    <tr>\n",
       "      <th>9</th>\n",
       "      <td>10</td>\n",
       "      <td>Resignation-Other employer</td>\n",
       "      <td>2012</td>\n",
       "      <td>1997.0</td>\n",
       "      <td>2008.0</td>\n",
       "      <td>Teacher Aide</td>\n",
       "      <td>NaN</td>\n",
       "      <td>NaN</td>\n",
       "      <td>NaN</td>\n",
       "      <td>Permanent Part-time</td>\n",
       "      <td>...</td>\n",
       "      <td>False</td>\n",
       "      <td>False</td>\n",
       "      <td>False</td>\n",
       "      <td>Female</td>\n",
       "      <td>46-50</td>\n",
       "      <td>NaN</td>\n",
       "      <td>NaN</td>\n",
       "      <td>NaN</td>\n",
       "      <td>NaN</td>\n",
       "      <td>NaN</td>\n",
       "    </tr>\n",
       "    <tr>\n",
       "      <th>11</th>\n",
       "      <td>12</td>\n",
       "      <td>Resignation-Move overseas/interstate</td>\n",
       "      <td>2012</td>\n",
       "      <td>2009.0</td>\n",
       "      <td>2009.0</td>\n",
       "      <td>Teacher</td>\n",
       "      <td>Secondary</td>\n",
       "      <td>Far North Queensland</td>\n",
       "      <td>NaN</td>\n",
       "      <td>Permanent Full-time</td>\n",
       "      <td>...</td>\n",
       "      <td>False</td>\n",
       "      <td>False</td>\n",
       "      <td>False</td>\n",
       "      <td>Male</td>\n",
       "      <td>31-35</td>\n",
       "      <td>NaN</td>\n",
       "      <td>NaN</td>\n",
       "      <td>NaN</td>\n",
       "      <td>NaN</td>\n",
       "      <td>NaN</td>\n",
       "    </tr>\n",
       "  </tbody>\n",
       "</table>\n",
       "<p>5 rows × 35 columns</p>\n",
       "</div>"
      ],
      "text/plain": [
       "    id                        separationtype cease_date  dete_start_date  \\\n",
       "3    4             Resignation-Other reasons    05/2012           2005.0   \n",
       "5    6             Resignation-Other reasons    05/2012           1994.0   \n",
       "8    9             Resignation-Other reasons    07/2012           2009.0   \n",
       "9   10            Resignation-Other employer       2012           1997.0   \n",
       "11  12  Resignation-Move overseas/interstate       2012           2009.0   \n",
       "\n",
       "    role_start_date          position classification                region  \\\n",
       "3            2006.0           Teacher        Primary    Central Queensland   \n",
       "5            1997.0  Guidance Officer            NaN        Central Office   \n",
       "8            2009.0           Teacher      Secondary      North Queensland   \n",
       "9            2008.0      Teacher Aide            NaN                   NaN   \n",
       "11           2009.0           Teacher      Secondary  Far North Queensland   \n",
       "\n",
       "           business_unit    employment_status  ...  work_life_balance  \\\n",
       "3                    NaN  Permanent Full-time  ...              False   \n",
       "5   Education Queensland  Permanent Full-time  ...              False   \n",
       "8                    NaN  Permanent Full-time  ...              False   \n",
       "9                    NaN  Permanent Part-time  ...              False   \n",
       "11                   NaN  Permanent Full-time  ...              False   \n",
       "\n",
       "    workload  none_of_the_above  gender    age  aboriginal  torres_strait  \\\n",
       "3      False              False  Female  36-40         NaN            NaN   \n",
       "5      False              False  Female  41-45         NaN            NaN   \n",
       "8      False              False  Female  31-35         NaN            NaN   \n",
       "9      False              False  Female  46-50         NaN            NaN   \n",
       "11     False              False    Male  31-35         NaN            NaN   \n",
       "\n",
       "    south_sea  disability  nesb  \n",
       "3         NaN         NaN   NaN  \n",
       "5         NaN         NaN   NaN  \n",
       "8         NaN         NaN   NaN  \n",
       "9         NaN         NaN   NaN  \n",
       "11        NaN         NaN   NaN  \n",
       "\n",
       "[5 rows x 35 columns]"
      ]
     },
     "execution_count": 22,
     "metadata": {},
     "output_type": "execute_result"
    }
   ],
   "source": [
    "dete_resignations.head()"
   ]
  },
  {
   "cell_type": "code",
   "execution_count": 23,
   "id": "e2836e44",
   "metadata": {
    "execution": {
     "iopub.execute_input": "2022-03-17T22:33:18.511248Z",
     "iopub.status.busy": "2022-03-17T22:33:18.510417Z",
     "iopub.status.idle": "2022-03-17T22:33:18.512943Z",
     "shell.execute_reply": "2022-03-17T22:33:18.512459Z",
     "shell.execute_reply.started": "2022-03-17T22:21:13.170607Z"
    },
    "papermill": {
     "duration": 0.099431,
     "end_time": "2022-03-17T22:33:18.513083",
     "exception": false,
     "start_time": "2022-03-17T22:33:18.413652",
     "status": "completed"
    },
    "tags": []
   },
   "outputs": [],
   "source": [
    "#There's only one Resignation entry, which makes it easier for this dataset\n",
    "tafe_bool = tafe_survey_updated['separationtype'] == 'Resignation'\n",
    "tafe_resignations = tafe_survey_updated[tafe_bool]"
   ]
  },
  {
   "cell_type": "code",
   "execution_count": 24,
   "id": "5a6bada7",
   "metadata": {
    "execution": {
     "iopub.execute_input": "2022-03-17T22:33:18.703626Z",
     "iopub.status.busy": "2022-03-17T22:33:18.702942Z",
     "iopub.status.idle": "2022-03-17T22:33:18.734647Z",
     "shell.execute_reply": "2022-03-17T22:33:18.735293Z",
     "shell.execute_reply.started": "2022-03-17T22:21:13.178266Z"
    },
    "papermill": {
     "duration": 0.128327,
     "end_time": "2022-03-17T22:33:18.735508",
     "exception": false,
     "start_time": "2022-03-17T22:33:18.607181",
     "status": "completed"
    },
    "tags": []
   },
   "outputs": [
    {
     "data": {
      "text/html": [
       "<div>\n",
       "<style scoped>\n",
       "    .dataframe tbody tr th:only-of-type {\n",
       "        vertical-align: middle;\n",
       "    }\n",
       "\n",
       "    .dataframe tbody tr th {\n",
       "        vertical-align: top;\n",
       "    }\n",
       "\n",
       "    .dataframe thead th {\n",
       "        text-align: right;\n",
       "    }\n",
       "</style>\n",
       "<table border=\"1\" class=\"dataframe\">\n",
       "  <thead>\n",
       "    <tr style=\"text-align: right;\">\n",
       "      <th></th>\n",
       "      <th>id</th>\n",
       "      <th>Institute</th>\n",
       "      <th>WorkArea</th>\n",
       "      <th>cease_date</th>\n",
       "      <th>separationtype</th>\n",
       "      <th>Contributing Factors. Career Move - Public Sector</th>\n",
       "      <th>Contributing Factors. Career Move - Private Sector</th>\n",
       "      <th>Contributing Factors. Career Move - Self-employment</th>\n",
       "      <th>Contributing Factors. Ill Health</th>\n",
       "      <th>Contributing Factors. Maternity/Family</th>\n",
       "      <th>...</th>\n",
       "      <th>Contributing Factors. Study</th>\n",
       "      <th>Contributing Factors. Travel</th>\n",
       "      <th>Contributing Factors. Other</th>\n",
       "      <th>Contributing Factors. NONE</th>\n",
       "      <th>gender</th>\n",
       "      <th>age</th>\n",
       "      <th>employment_status</th>\n",
       "      <th>position</th>\n",
       "      <th>institute_service</th>\n",
       "      <th>role_service</th>\n",
       "    </tr>\n",
       "  </thead>\n",
       "  <tbody>\n",
       "    <tr>\n",
       "      <th>3</th>\n",
       "      <td>6.341399e+17</td>\n",
       "      <td>Mount Isa Institute of TAFE</td>\n",
       "      <td>Non-Delivery (corporate)</td>\n",
       "      <td>2010.0</td>\n",
       "      <td>Resignation</td>\n",
       "      <td>-</td>\n",
       "      <td>-</td>\n",
       "      <td>-</td>\n",
       "      <td>-</td>\n",
       "      <td>-</td>\n",
       "      <td>...</td>\n",
       "      <td>-</td>\n",
       "      <td>Travel</td>\n",
       "      <td>-</td>\n",
       "      <td>-</td>\n",
       "      <td>NaN</td>\n",
       "      <td>NaN</td>\n",
       "      <td>NaN</td>\n",
       "      <td>NaN</td>\n",
       "      <td>NaN</td>\n",
       "      <td>NaN</td>\n",
       "    </tr>\n",
       "    <tr>\n",
       "      <th>4</th>\n",
       "      <td>6.341466e+17</td>\n",
       "      <td>Southern Queensland Institute of TAFE</td>\n",
       "      <td>Delivery (teaching)</td>\n",
       "      <td>2010.0</td>\n",
       "      <td>Resignation</td>\n",
       "      <td>-</td>\n",
       "      <td>Career Move - Private Sector</td>\n",
       "      <td>-</td>\n",
       "      <td>-</td>\n",
       "      <td>-</td>\n",
       "      <td>...</td>\n",
       "      <td>-</td>\n",
       "      <td>-</td>\n",
       "      <td>-</td>\n",
       "      <td>-</td>\n",
       "      <td>Male</td>\n",
       "      <td>41  45</td>\n",
       "      <td>Permanent Full-time</td>\n",
       "      <td>Teacher (including LVT)</td>\n",
       "      <td>3-4</td>\n",
       "      <td>3-4</td>\n",
       "    </tr>\n",
       "    <tr>\n",
       "      <th>5</th>\n",
       "      <td>6.341475e+17</td>\n",
       "      <td>Southern Queensland Institute of TAFE</td>\n",
       "      <td>Delivery (teaching)</td>\n",
       "      <td>2010.0</td>\n",
       "      <td>Resignation</td>\n",
       "      <td>-</td>\n",
       "      <td>-</td>\n",
       "      <td>-</td>\n",
       "      <td>-</td>\n",
       "      <td>-</td>\n",
       "      <td>...</td>\n",
       "      <td>-</td>\n",
       "      <td>-</td>\n",
       "      <td>Other</td>\n",
       "      <td>-</td>\n",
       "      <td>Female</td>\n",
       "      <td>56 or older</td>\n",
       "      <td>Contract/casual</td>\n",
       "      <td>Teacher (including LVT)</td>\n",
       "      <td>7-10</td>\n",
       "      <td>7-10</td>\n",
       "    </tr>\n",
       "    <tr>\n",
       "      <th>6</th>\n",
       "      <td>6.341520e+17</td>\n",
       "      <td>Barrier Reef Institute of TAFE</td>\n",
       "      <td>Non-Delivery (corporate)</td>\n",
       "      <td>2010.0</td>\n",
       "      <td>Resignation</td>\n",
       "      <td>-</td>\n",
       "      <td>Career Move - Private Sector</td>\n",
       "      <td>-</td>\n",
       "      <td>-</td>\n",
       "      <td>Maternity/Family</td>\n",
       "      <td>...</td>\n",
       "      <td>-</td>\n",
       "      <td>-</td>\n",
       "      <td>Other</td>\n",
       "      <td>-</td>\n",
       "      <td>Male</td>\n",
       "      <td>20 or younger</td>\n",
       "      <td>Temporary Full-time</td>\n",
       "      <td>Administration (AO)</td>\n",
       "      <td>3-4</td>\n",
       "      <td>3-4</td>\n",
       "    </tr>\n",
       "    <tr>\n",
       "      <th>7</th>\n",
       "      <td>6.341537e+17</td>\n",
       "      <td>Southern Queensland Institute of TAFE</td>\n",
       "      <td>Delivery (teaching)</td>\n",
       "      <td>2010.0</td>\n",
       "      <td>Resignation</td>\n",
       "      <td>-</td>\n",
       "      <td>-</td>\n",
       "      <td>-</td>\n",
       "      <td>-</td>\n",
       "      <td>-</td>\n",
       "      <td>...</td>\n",
       "      <td>-</td>\n",
       "      <td>-</td>\n",
       "      <td>Other</td>\n",
       "      <td>-</td>\n",
       "      <td>Male</td>\n",
       "      <td>46  50</td>\n",
       "      <td>Permanent Full-time</td>\n",
       "      <td>Teacher (including LVT)</td>\n",
       "      <td>3-4</td>\n",
       "      <td>3-4</td>\n",
       "    </tr>\n",
       "    <tr>\n",
       "      <th>...</th>\n",
       "      <td>...</td>\n",
       "      <td>...</td>\n",
       "      <td>...</td>\n",
       "      <td>...</td>\n",
       "      <td>...</td>\n",
       "      <td>...</td>\n",
       "      <td>...</td>\n",
       "      <td>...</td>\n",
       "      <td>...</td>\n",
       "      <td>...</td>\n",
       "      <td>...</td>\n",
       "      <td>...</td>\n",
       "      <td>...</td>\n",
       "      <td>...</td>\n",
       "      <td>...</td>\n",
       "      <td>...</td>\n",
       "      <td>...</td>\n",
       "      <td>...</td>\n",
       "      <td>...</td>\n",
       "      <td>...</td>\n",
       "      <td>...</td>\n",
       "    </tr>\n",
       "    <tr>\n",
       "      <th>696</th>\n",
       "      <td>6.350660e+17</td>\n",
       "      <td>Southern Queensland Institute of TAFE</td>\n",
       "      <td>Non-Delivery (corporate)</td>\n",
       "      <td>2013.0</td>\n",
       "      <td>Resignation</td>\n",
       "      <td>-</td>\n",
       "      <td>Career Move - Private Sector</td>\n",
       "      <td>-</td>\n",
       "      <td>-</td>\n",
       "      <td>-</td>\n",
       "      <td>...</td>\n",
       "      <td>-</td>\n",
       "      <td>-</td>\n",
       "      <td>-</td>\n",
       "      <td>-</td>\n",
       "      <td>Male</td>\n",
       "      <td>21  25</td>\n",
       "      <td>Temporary Full-time</td>\n",
       "      <td>Operational (OO)</td>\n",
       "      <td>5-6</td>\n",
       "      <td>5-6</td>\n",
       "    </tr>\n",
       "    <tr>\n",
       "      <th>697</th>\n",
       "      <td>6.350668e+17</td>\n",
       "      <td>Barrier Reef Institute of TAFE</td>\n",
       "      <td>Delivery (teaching)</td>\n",
       "      <td>2013.0</td>\n",
       "      <td>Resignation</td>\n",
       "      <td>Career Move - Public Sector</td>\n",
       "      <td>-</td>\n",
       "      <td>-</td>\n",
       "      <td>-</td>\n",
       "      <td>-</td>\n",
       "      <td>...</td>\n",
       "      <td>-</td>\n",
       "      <td>-</td>\n",
       "      <td>-</td>\n",
       "      <td>-</td>\n",
       "      <td>Male</td>\n",
       "      <td>51-55</td>\n",
       "      <td>Temporary Full-time</td>\n",
       "      <td>Teacher (including LVT)</td>\n",
       "      <td>1-2</td>\n",
       "      <td>1-2</td>\n",
       "    </tr>\n",
       "    <tr>\n",
       "      <th>698</th>\n",
       "      <td>6.350677e+17</td>\n",
       "      <td>Southern Queensland Institute of TAFE</td>\n",
       "      <td>Non-Delivery (corporate)</td>\n",
       "      <td>2013.0</td>\n",
       "      <td>Resignation</td>\n",
       "      <td>Career Move - Public Sector</td>\n",
       "      <td>-</td>\n",
       "      <td>-</td>\n",
       "      <td>-</td>\n",
       "      <td>-</td>\n",
       "      <td>...</td>\n",
       "      <td>-</td>\n",
       "      <td>-</td>\n",
       "      <td>-</td>\n",
       "      <td>-</td>\n",
       "      <td>NaN</td>\n",
       "      <td>NaN</td>\n",
       "      <td>NaN</td>\n",
       "      <td>NaN</td>\n",
       "      <td>NaN</td>\n",
       "      <td>NaN</td>\n",
       "    </tr>\n",
       "    <tr>\n",
       "      <th>699</th>\n",
       "      <td>6.350704e+17</td>\n",
       "      <td>Tropical North Institute of TAFE</td>\n",
       "      <td>Delivery (teaching)</td>\n",
       "      <td>2013.0</td>\n",
       "      <td>Resignation</td>\n",
       "      <td>-</td>\n",
       "      <td>-</td>\n",
       "      <td>-</td>\n",
       "      <td>-</td>\n",
       "      <td>-</td>\n",
       "      <td>...</td>\n",
       "      <td>-</td>\n",
       "      <td>-</td>\n",
       "      <td>Other</td>\n",
       "      <td>-</td>\n",
       "      <td>Female</td>\n",
       "      <td>51-55</td>\n",
       "      <td>Permanent Full-time</td>\n",
       "      <td>Teacher (including LVT)</td>\n",
       "      <td>5-6</td>\n",
       "      <td>1-2</td>\n",
       "    </tr>\n",
       "    <tr>\n",
       "      <th>701</th>\n",
       "      <td>6.350730e+17</td>\n",
       "      <td>Tropical North Institute of TAFE</td>\n",
       "      <td>Non-Delivery (corporate)</td>\n",
       "      <td>2013.0</td>\n",
       "      <td>Resignation</td>\n",
       "      <td>-</td>\n",
       "      <td>-</td>\n",
       "      <td>Career Move - Self-employment</td>\n",
       "      <td>-</td>\n",
       "      <td>-</td>\n",
       "      <td>...</td>\n",
       "      <td>-</td>\n",
       "      <td>Travel</td>\n",
       "      <td>-</td>\n",
       "      <td>-</td>\n",
       "      <td>Female</td>\n",
       "      <td>26  30</td>\n",
       "      <td>Contract/casual</td>\n",
       "      <td>Administration (AO)</td>\n",
       "      <td>3-4</td>\n",
       "      <td>1-2</td>\n",
       "    </tr>\n",
       "  </tbody>\n",
       "</table>\n",
       "<p>340 rows × 23 columns</p>\n",
       "</div>"
      ],
      "text/plain": [
       "               id                              Institute  \\\n",
       "3    6.341399e+17            Mount Isa Institute of TAFE   \n",
       "4    6.341466e+17  Southern Queensland Institute of TAFE   \n",
       "5    6.341475e+17  Southern Queensland Institute of TAFE   \n",
       "6    6.341520e+17         Barrier Reef Institute of TAFE   \n",
       "7    6.341537e+17  Southern Queensland Institute of TAFE   \n",
       "..            ...                                    ...   \n",
       "696  6.350660e+17  Southern Queensland Institute of TAFE   \n",
       "697  6.350668e+17         Barrier Reef Institute of TAFE   \n",
       "698  6.350677e+17  Southern Queensland Institute of TAFE   \n",
       "699  6.350704e+17       Tropical North Institute of TAFE   \n",
       "701  6.350730e+17       Tropical North Institute of TAFE   \n",
       "\n",
       "                     WorkArea  cease_date separationtype  \\\n",
       "3    Non-Delivery (corporate)      2010.0    Resignation   \n",
       "4         Delivery (teaching)      2010.0    Resignation   \n",
       "5         Delivery (teaching)      2010.0    Resignation   \n",
       "6    Non-Delivery (corporate)      2010.0    Resignation   \n",
       "7         Delivery (teaching)      2010.0    Resignation   \n",
       "..                        ...         ...            ...   \n",
       "696  Non-Delivery (corporate)      2013.0    Resignation   \n",
       "697       Delivery (teaching)      2013.0    Resignation   \n",
       "698  Non-Delivery (corporate)      2013.0    Resignation   \n",
       "699       Delivery (teaching)      2013.0    Resignation   \n",
       "701  Non-Delivery (corporate)      2013.0    Resignation   \n",
       "\n",
       "    Contributing Factors. Career Move - Public Sector   \\\n",
       "3                                                    -   \n",
       "4                                                    -   \n",
       "5                                                    -   \n",
       "6                                                    -   \n",
       "7                                                    -   \n",
       "..                                                 ...   \n",
       "696                                                  -   \n",
       "697                        Career Move - Public Sector   \n",
       "698                        Career Move - Public Sector   \n",
       "699                                                  -   \n",
       "701                                                  -   \n",
       "\n",
       "    Contributing Factors. Career Move - Private Sector   \\\n",
       "3                                                    -    \n",
       "4                         Career Move - Private Sector    \n",
       "5                                                    -    \n",
       "6                         Career Move - Private Sector    \n",
       "7                                                    -    \n",
       "..                                                 ...    \n",
       "696                       Career Move - Private Sector    \n",
       "697                                                  -    \n",
       "698                                                  -    \n",
       "699                                                  -    \n",
       "701                                                  -    \n",
       "\n",
       "    Contributing Factors. Career Move - Self-employment  \\\n",
       "3                                                    -    \n",
       "4                                                    -    \n",
       "5                                                    -    \n",
       "6                                                    -    \n",
       "7                                                    -    \n",
       "..                                                 ...    \n",
       "696                                                  -    \n",
       "697                                                  -    \n",
       "698                                                  -    \n",
       "699                                                  -    \n",
       "701                      Career Move - Self-employment    \n",
       "\n",
       "    Contributing Factors. Ill Health Contributing Factors. Maternity/Family  \\\n",
       "3                                  -                                      -   \n",
       "4                                  -                                      -   \n",
       "5                                  -                                      -   \n",
       "6                                  -                       Maternity/Family   \n",
       "7                                  -                                      -   \n",
       "..                               ...                                    ...   \n",
       "696                                -                                      -   \n",
       "697                                -                                      -   \n",
       "698                                -                                      -   \n",
       "699                                -                                      -   \n",
       "701                                -                                      -   \n",
       "\n",
       "     ... Contributing Factors. Study Contributing Factors. Travel  \\\n",
       "3    ...                           -                       Travel   \n",
       "4    ...                           -                            -   \n",
       "5    ...                           -                            -   \n",
       "6    ...                           -                            -   \n",
       "7    ...                           -                            -   \n",
       "..   ...                         ...                          ...   \n",
       "696  ...                           -                            -   \n",
       "697  ...                           -                            -   \n",
       "698  ...                           -                            -   \n",
       "699  ...                           -                            -   \n",
       "701  ...                           -                       Travel   \n",
       "\n",
       "    Contributing Factors. Other Contributing Factors. NONE  gender  \\\n",
       "3                             -                          -     NaN   \n",
       "4                             -                          -    Male   \n",
       "5                         Other                          -  Female   \n",
       "6                         Other                          -    Male   \n",
       "7                         Other                          -    Male   \n",
       "..                          ...                        ...     ...   \n",
       "696                           -                          -    Male   \n",
       "697                           -                          -    Male   \n",
       "698                           -                          -     NaN   \n",
       "699                       Other                          -  Female   \n",
       "701                           -                          -  Female   \n",
       "\n",
       "               age    employment_status                 position  \\\n",
       "3              NaN                  NaN                      NaN   \n",
       "4           41  45  Permanent Full-time  Teacher (including LVT)   \n",
       "5      56 or older      Contract/casual  Teacher (including LVT)   \n",
       "6    20 or younger  Temporary Full-time      Administration (AO)   \n",
       "7           46  50  Permanent Full-time  Teacher (including LVT)   \n",
       "..             ...                  ...                      ...   \n",
       "696         21  25  Temporary Full-time         Operational (OO)   \n",
       "697          51-55  Temporary Full-time  Teacher (including LVT)   \n",
       "698            NaN                  NaN                      NaN   \n",
       "699          51-55  Permanent Full-time  Teacher (including LVT)   \n",
       "701         26  30      Contract/casual      Administration (AO)   \n",
       "\n",
       "    institute_service role_service  \n",
       "3                 NaN          NaN  \n",
       "4                 3-4          3-4  \n",
       "5                7-10         7-10  \n",
       "6                 3-4          3-4  \n",
       "7                 3-4          3-4  \n",
       "..                ...          ...  \n",
       "696               5-6          5-6  \n",
       "697               1-2          1-2  \n",
       "698               NaN          NaN  \n",
       "699               5-6          1-2  \n",
       "701               3-4          1-2  \n",
       "\n",
       "[340 rows x 23 columns]"
      ]
     },
     "execution_count": 24,
     "metadata": {},
     "output_type": "execute_result"
    }
   ],
   "source": [
    "tafe_resignations"
   ]
  },
  {
   "cell_type": "markdown",
   "id": "d39718a4",
   "metadata": {
    "papermill": {
     "duration": 0.092704,
     "end_time": "2022-03-17T22:33:18.922521",
     "exception": false,
     "start_time": "2022-03-17T22:33:18.829817",
     "status": "completed"
    },
    "tags": []
   },
   "source": [
    "# Data Cleaning - verifying data\n",
    "Checking for inconsistencies and illogical entries:\n",
    "- cease_date should be > than dete_start_date\n",
    "- dete_start_date should be a realistic number, e.g. 1940~ onwards\n",
    "\n"
   ]
  },
  {
   "cell_type": "code",
   "execution_count": 25,
   "id": "6ea20e90",
   "metadata": {
    "execution": {
     "iopub.execute_input": "2022-03-17T22:33:19.113696Z",
     "iopub.status.busy": "2022-03-17T22:33:19.113028Z",
     "iopub.status.idle": "2022-03-17T22:33:19.119918Z",
     "shell.execute_reply": "2022-03-17T22:33:19.120475Z",
     "shell.execute_reply.started": "2022-03-17T22:21:13.217824Z"
    },
    "papermill": {
     "duration": 0.104307,
     "end_time": "2022-03-17T22:33:19.120649",
     "exception": false,
     "start_time": "2022-03-17T22:33:19.016342",
     "status": "completed"
    },
    "tags": []
   },
   "outputs": [
    {
     "data": {
      "text/plain": [
       "2012       126\n",
       "2013        74\n",
       "01/2014     22\n",
       "12/2013     17\n",
       "06/2013     14\n",
       "09/2013     11\n",
       "07/2013      9\n",
       "11/2013      9\n",
       "10/2013      6\n",
       "08/2013      4\n",
       "05/2012      2\n",
       "05/2013      2\n",
       "07/2012      1\n",
       "2010         1\n",
       "09/2010      1\n",
       "07/2006      1\n",
       "Name: cease_date, dtype: int64"
      ]
     },
     "execution_count": 25,
     "metadata": {},
     "output_type": "execute_result"
    }
   ],
   "source": [
    "dete_resignations['cease_date'].value_counts()"
   ]
  },
  {
   "cell_type": "code",
   "execution_count": 26,
   "id": "e6343dee",
   "metadata": {
    "execution": {
     "iopub.execute_input": "2022-03-17T22:33:19.312767Z",
     "iopub.status.busy": "2022-03-17T22:33:19.312033Z",
     "iopub.status.idle": "2022-03-17T22:33:19.319926Z",
     "shell.execute_reply": "2022-03-17T22:33:19.320544Z",
     "shell.execute_reply.started": "2022-03-17T22:21:13.230215Z"
    },
    "papermill": {
     "duration": 0.105016,
     "end_time": "2022-03-17T22:33:19.320722",
     "exception": false,
     "start_time": "2022-03-17T22:33:19.215706",
     "status": "completed"
    },
    "tags": []
   },
   "outputs": [
    {
     "name": "stderr",
     "output_type": "stream",
     "text": [
      "/opt/conda/lib/python3.7/site-packages/ipykernel_launcher.py:2: SettingWithCopyWarning: \n",
      "A value is trying to be set on a copy of a slice from a DataFrame.\n",
      "Try using .loc[row_indexer,col_indexer] = value instead\n",
      "\n",
      "See the caveats in the documentation: https://pandas.pydata.org/pandas-docs/stable/user_guide/indexing.html#returning-a-view-versus-a-copy\n",
      "  \n",
      "/opt/conda/lib/python3.7/site-packages/ipykernel_launcher.py:5: SettingWithCopyWarning: \n",
      "A value is trying to be set on a copy of a slice from a DataFrame.\n",
      "Try using .loc[row_indexer,col_indexer] = value instead\n",
      "\n",
      "See the caveats in the documentation: https://pandas.pydata.org/pandas-docs/stable/user_guide/indexing.html#returning-a-view-versus-a-copy\n",
      "  \"\"\"\n"
     ]
    }
   ],
   "source": [
    "#vectorised string method to extract the year from above series. I'll split between /, last index\n",
    "dete_resignations['cease_date'] = dete_resignations['cease_date'].str.split('/').str[-1]\n",
    "\n",
    "#convert datatype to float to match dete start date format\n",
    "dete_resignations['cease_date'] = dete_resignations['cease_date'].astype(\"float\")"
   ]
  },
  {
   "cell_type": "code",
   "execution_count": 27,
   "id": "612f7b43",
   "metadata": {
    "execution": {
     "iopub.execute_input": "2022-03-17T22:33:19.515752Z",
     "iopub.status.busy": "2022-03-17T22:33:19.514959Z",
     "iopub.status.idle": "2022-03-17T22:33:19.524748Z",
     "shell.execute_reply": "2022-03-17T22:33:19.525325Z",
     "shell.execute_reply.started": "2022-03-17T22:21:13.240776Z"
    },
    "papermill": {
     "duration": 0.109378,
     "end_time": "2022-03-17T22:33:19.525495",
     "exception": false,
     "start_time": "2022-03-17T22:33:19.416117",
     "status": "completed"
    },
    "tags": []
   },
   "outputs": [
    {
     "data": {
      "text/plain": [
       "2013.0    146\n",
       "2012.0    129\n",
       "2014.0     22\n",
       "2010.0      2\n",
       "2006.0      1\n",
       "Name: cease_date, dtype: int64"
      ]
     },
     "execution_count": 27,
     "metadata": {},
     "output_type": "execute_result"
    }
   ],
   "source": [
    "dete_resignations['cease_date'].value_counts()"
   ]
  },
  {
   "cell_type": "code",
   "execution_count": 28,
   "id": "f34b1acd",
   "metadata": {
    "execution": {
     "iopub.execute_input": "2022-03-17T22:33:19.749749Z",
     "iopub.status.busy": "2022-03-17T22:33:19.748754Z",
     "iopub.status.idle": "2022-03-17T22:33:19.762217Z",
     "shell.execute_reply": "2022-03-17T22:33:19.762859Z",
     "shell.execute_reply.started": "2022-03-17T22:21:13.256478Z"
    },
    "papermill": {
     "duration": 0.134636,
     "end_time": "2022-03-17T22:33:19.763038",
     "exception": false,
     "start_time": "2022-03-17T22:33:19.628402",
     "status": "completed"
    },
    "tags": []
   },
   "outputs": [
    {
     "data": {
      "text/plain": [
       "2013.0    10\n",
       "2012.0    21\n",
       "2011.0    24\n",
       "2010.0    17\n",
       "2009.0    13\n",
       "2008.0    22\n",
       "2007.0    21\n",
       "2006.0    13\n",
       "2005.0    15\n",
       "2004.0    14\n",
       "2003.0     6\n",
       "2002.0     6\n",
       "2001.0     3\n",
       "2000.0     9\n",
       "1999.0     8\n",
       "1998.0     6\n",
       "1997.0     5\n",
       "1996.0     6\n",
       "1995.0     4\n",
       "1994.0     6\n",
       "1993.0     5\n",
       "1992.0     6\n",
       "1991.0     4\n",
       "1990.0     5\n",
       "1989.0     4\n",
       "1988.0     4\n",
       "1987.0     1\n",
       "1986.0     3\n",
       "1985.0     3\n",
       "1984.0     1\n",
       "1983.0     2\n",
       "1982.0     1\n",
       "1980.0     5\n",
       "1977.0     1\n",
       "1976.0     2\n",
       "1975.0     1\n",
       "1974.0     2\n",
       "1973.0     1\n",
       "1972.0     1\n",
       "1971.0     1\n",
       "1963.0     1\n",
       "Name: dete_start_date, dtype: int64"
      ]
     },
     "execution_count": 28,
     "metadata": {},
     "output_type": "execute_result"
    }
   ],
   "source": [
    "dete_resignations['dete_start_date'].value_counts().sort_index(ascending=False)"
   ]
  },
  {
   "cell_type": "code",
   "execution_count": 29,
   "id": "ec1d06bd",
   "metadata": {
    "execution": {
     "iopub.execute_input": "2022-03-17T22:33:19.961871Z",
     "iopub.status.busy": "2022-03-17T22:33:19.961002Z",
     "iopub.status.idle": "2022-03-17T22:33:19.964343Z",
     "shell.execute_reply": "2022-03-17T22:33:19.964824Z",
     "shell.execute_reply.started": "2022-03-17T22:21:13.26992Z"
    },
    "papermill": {
     "duration": 0.104993,
     "end_time": "2022-03-17T22:33:19.964987",
     "exception": false,
     "start_time": "2022-03-17T22:33:19.859994",
     "status": "completed"
    },
    "tags": []
   },
   "outputs": [
    {
     "data": {
      "text/plain": [
       "2011.0    116\n",
       "2012.0     94\n",
       "2010.0     68\n",
       "2013.0     55\n",
       "2009.0      2\n",
       "Name: cease_date, dtype: int64"
      ]
     },
     "execution_count": 29,
     "metadata": {},
     "output_type": "execute_result"
    }
   ],
   "source": [
    "#already in the correct format\n",
    "tafe_resignations['cease_date'].value_counts()"
   ]
  },
  {
   "cell_type": "code",
   "execution_count": 30,
   "id": "66fb4307",
   "metadata": {
    "execution": {
     "iopub.execute_input": "2022-03-17T22:33:20.163708Z",
     "iopub.status.busy": "2022-03-17T22:33:20.162712Z",
     "iopub.status.idle": "2022-03-17T22:33:20.351880Z",
     "shell.execute_reply": "2022-03-17T22:33:20.351206Z",
     "shell.execute_reply.started": "2022-03-17T22:21:13.285247Z"
    },
    "papermill": {
     "duration": 0.287901,
     "end_time": "2022-03-17T22:33:20.352021",
     "exception": false,
     "start_time": "2022-03-17T22:33:20.064120",
     "status": "completed"
    },
    "tags": []
   },
   "outputs": [
    {
     "data": {
      "image/png": "[encoded data removed]",
      "text/plain": [
       "<Figure size 432x288 with 1 Axes>"
      ]
     },
     "metadata": {
      "needs_background": "light"
     },
     "output_type": "display_data"
    }
   ],
   "source": [
    "dete_resignations.boxplot(column=['dete_start_date', 'cease_date'])\n",
    "plt.show()\n",
    "\n"
   ]
  },
  {
   "cell_type": "code",
   "execution_count": 31,
   "id": "7dc20fdf",
   "metadata": {
    "execution": {
     "iopub.execute_input": "2022-03-17T22:33:20.553581Z",
     "iopub.status.busy": "2022-03-17T22:33:20.552578Z",
     "iopub.status.idle": "2022-03-17T22:33:20.728907Z",
     "shell.execute_reply": "2022-03-17T22:33:20.729411Z",
     "shell.execute_reply.started": "2022-03-17T22:21:13.472723Z"
    },
    "papermill": {
     "duration": 0.279263,
     "end_time": "2022-03-17T22:33:20.729594",
     "exception": false,
     "start_time": "2022-03-17T22:33:20.450331",
     "status": "completed"
    },
    "scrolled": true,
    "tags": []
   },
   "outputs": [
    {
     "data": {
      "image/png": "[encoded data removed]",
      "text/plain": [
       "<Figure size 432x288 with 1 Axes>"
      ]
     },
     "metadata": {
      "needs_background": "light"
     },
     "output_type": "display_data"
    }
   ],
   "source": [
    "tafe_resignations.boxplot(column='cease_date')\n",
    "plt.show()"
   ]
  },
  {
   "cell_type": "code",
   "execution_count": 32,
   "id": "6ff82cf9",
   "metadata": {
    "execution": {
     "iopub.execute_input": "2022-03-17T22:33:20.929167Z",
     "iopub.status.busy": "2022-03-17T22:33:20.928517Z",
     "iopub.status.idle": "2022-03-17T22:33:21.178320Z",
     "shell.execute_reply": "2022-03-17T22:33:21.178810Z",
     "shell.execute_reply.started": "2022-03-17T22:21:13.655651Z"
    },
    "papermill": {
     "duration": 0.351998,
     "end_time": "2022-03-17T22:33:21.178995",
     "exception": false,
     "start_time": "2022-03-17T22:33:20.826997",
     "status": "completed"
    },
    "tags": []
   },
   "outputs": [
    {
     "data": {
      "image/png": "[encoded data removed]",
      "text/plain": [
       "<Figure size 432x288 with 1 Axes>"
      ]
     },
     "metadata": {
      "needs_background": "light"
     },
     "output_type": "display_data"
    }
   ],
   "source": [
    "#plotting a histogram to check distribution of both datasets\n",
    "#using np.arange (similar to range()) to step each point by 1, xticks and bins\n",
    "plt.hist(dete_resignations['cease_date'], alpha=0.5, bins=np.arange(2006, 2016, 1), label='dete')\n",
    "plt.hist(tafe_resignations['cease_date'], alpha=0.5, bins=np.arange(2006, 2016, 1), label='tafe')\n",
    "plt.legend()\n",
    "plt.xticks(np.arange(2006, 2016, 1))\n",
    "plt.show()"
   ]
  },
  {
   "cell_type": "markdown",
   "id": "cf45f5d4",
   "metadata": {
    "papermill": {
     "duration": 0.097294,
     "end_time": "2022-03-17T22:33:21.375381",
     "exception": false,
     "start_time": "2022-03-17T22:33:21.278087",
     "status": "completed"
    },
    "tags": []
   },
   "source": [
    "### Observations\n",
    "- outliers in start date and cease date seem realistic\n",
    "- discrepancy between datasets for cease date; either data wasn't recorded for those years/missing, or no resignations during those years\n",
    "\n",
    "I won't drop the years, despite not matching between datasets. To answer the original questions, we don't need to analyse by year as we're more interested in age of the respondent and how long they were employed at the institutes. "
   ]
  },
  {
   "cell_type": "markdown",
   "id": "669c3bc2",
   "metadata": {
    "papermill": {
     "duration": 0.096711,
     "end_time": "2022-03-17T22:33:21.573128",
     "exception": false,
     "start_time": "2022-03-17T22:33:21.476417",
     "status": "completed"
    },
    "tags": []
   },
   "source": [
    "# Data Cleaning - creating columns to help analysis\n",
    "I'll create a new column containing the length of service for all participants, based on their starting and end date. For the TAFE dataset, this information is already contained within a column, which I renamed to 'institute_service'. \n",
    "- allows me to answer the first question, regarding reasons why short-term and long-term employees left\n"
   ]
  },
  {
   "cell_type": "code",
   "execution_count": 33,
   "id": "65e2bab6",
   "metadata": {
    "execution": {
     "iopub.execute_input": "2022-03-17T22:33:21.774113Z",
     "iopub.status.busy": "2022-03-17T22:33:21.773476Z",
     "iopub.status.idle": "2022-03-17T22:33:22.220366Z",
     "shell.execute_reply": "2022-03-17T22:33:22.219588Z",
     "shell.execute_reply.started": "2022-03-17T22:21:13.897814Z"
    },
    "papermill": {
     "duration": 0.54913,
     "end_time": "2022-03-17T22:33:22.220535",
     "exception": false,
     "start_time": "2022-03-17T22:33:21.671405",
     "status": "completed"
    },
    "tags": []
   },
   "outputs": [
    {
     "name": "stdout",
     "output_type": "stream",
     "text": [
      "<class 'pandas.core.frame.DataFrame'>\n",
      "Int64Index: 311 entries, 3 to 821\n",
      "Data columns (total 35 columns):\n",
      " #   Column                               Non-Null Count  Dtype  \n",
      "---  ------                               --------------  -----  \n",
      " 0   id                                   311 non-null    int64  \n",
      " 1   separationtype                       311 non-null    object \n",
      " 2   cease_date                           300 non-null    float64\n",
      " 3   dete_start_date                      283 non-null    float64\n",
      " 4   role_start_date                      271 non-null    float64\n",
      " 5   position                             308 non-null    object \n",
      " 6   classification                       161 non-null    object \n",
      " 7   region                               265 non-null    object \n",
      " 8   business_unit                        32 non-null     object \n",
      " 9   employment_status                    307 non-null    object \n",
      " 10  career_move_to_public_sector         311 non-null    bool   \n",
      " 11  career_move_to_private_sector        311 non-null    bool   \n",
      " 12  interpersonal_conflicts              311 non-null    bool   \n",
      " 13  job_dissatisfaction                  311 non-null    bool   \n",
      " 14  dissatisfaction_with_the_department  311 non-null    bool   \n",
      " 15  physical_work_environment            311 non-null    bool   \n",
      " 16  lack_of_recognition                  311 non-null    bool   \n",
      " 17  lack_of_job_security                 311 non-null    bool   \n",
      " 18  work_location                        311 non-null    bool   \n",
      " 19  employment_conditions                311 non-null    bool   \n",
      " 20  maternity/family                     311 non-null    bool   \n",
      " 21  relocation                           311 non-null    bool   \n",
      " 22  study/travel                         311 non-null    bool   \n",
      " 23  ill_health                           311 non-null    bool   \n",
      " 24  traumatic_incident                   311 non-null    bool   \n",
      " 25  work_life_balance                    311 non-null    bool   \n",
      " 26  workload                             311 non-null    bool   \n",
      " 27  none_of_the_above                    311 non-null    bool   \n",
      " 28  gender                               302 non-null    object \n",
      " 29  age                                  306 non-null    object \n",
      " 30  aboriginal                           7 non-null      object \n",
      " 31  torres_strait                        0 non-null      object \n",
      " 32  south_sea                            3 non-null      object \n",
      " 33  disability                           8 non-null      object \n",
      " 34  nesb                                 9 non-null      object \n",
      "dtypes: bool(18), float64(3), int64(1), object(13)\n",
      "memory usage: 49.2+ KB\n",
      "None\n",
      "    id                        separationtype  cease_date  dete_start_date  \\\n",
      "3    4             Resignation-Other reasons      2012.0           2005.0   \n",
      "5    6             Resignation-Other reasons      2012.0           1994.0   \n",
      "8    9             Resignation-Other reasons      2012.0           2009.0   \n",
      "9   10            Resignation-Other employer      2012.0           1997.0   \n",
      "11  12  Resignation-Move overseas/interstate      2012.0           2009.0   \n",
      "\n",
      "    role_start_date          position classification                region  \\\n",
      "3            2006.0           Teacher        Primary    Central Queensland   \n",
      "5            1997.0  Guidance Officer            NaN        Central Office   \n",
      "8            2009.0           Teacher      Secondary      North Queensland   \n",
      "9            2008.0      Teacher Aide            NaN                   NaN   \n",
      "11           2009.0           Teacher      Secondary  Far North Queensland   \n",
      "\n",
      "           business_unit    employment_status  ...  work_life_balance  \\\n",
      "3                    NaN  Permanent Full-time  ...              False   \n",
      "5   Education Queensland  Permanent Full-time  ...              False   \n",
      "8                    NaN  Permanent Full-time  ...              False   \n",
      "9                    NaN  Permanent Part-time  ...              False   \n",
      "11                   NaN  Permanent Full-time  ...              False   \n",
      "\n",
      "    workload  none_of_the_above  gender    age  aboriginal  torres_strait  \\\n",
      "3      False              False  Female  36-40         NaN            NaN   \n",
      "5      False              False  Female  41-45         NaN            NaN   \n",
      "8      False              False  Female  31-35         NaN            NaN   \n",
      "9      False              False  Female  46-50         NaN            NaN   \n",
      "11     False              False    Male  31-35         NaN            NaN   \n",
      "\n",
      "    south_sea  disability  nesb  \n",
      "3         NaN         NaN   NaN  \n",
      "5         NaN         NaN   NaN  \n",
      "8         NaN         NaN   NaN  \n",
      "9         NaN         NaN   NaN  \n",
      "11        NaN         NaN   NaN  \n",
      "\n",
      "[5 rows x 35 columns]\n"
     ]
    },
    {
     "data": {
      "image/png": "[encoded data removed]",
      "text/plain": [
       "<Figure size 432x288 with 1 Axes>"
      ]
     },
     "metadata": {
      "needs_background": "light"
     },
     "output_type": "display_data"
    }
   ],
   "source": [
    "#quick exploration to confirm which columns to use\n",
    "explore(dete_resignations)"
   ]
  },
  {
   "cell_type": "code",
   "execution_count": 34,
   "id": "d95d44d3",
   "metadata": {
    "execution": {
     "iopub.execute_input": "2022-03-17T22:33:22.426725Z",
     "iopub.status.busy": "2022-03-17T22:33:22.425832Z",
     "iopub.status.idle": "2022-03-17T22:33:22.429105Z",
     "shell.execute_reply": "2022-03-17T22:33:22.429895Z",
     "shell.execute_reply.started": "2022-03-17T22:21:14.330844Z"
    },
    "papermill": {
     "duration": 0.109,
     "end_time": "2022-03-17T22:33:22.430113",
     "exception": false,
     "start_time": "2022-03-17T22:33:22.321113",
     "status": "completed"
    },
    "tags": []
   },
   "outputs": [
    {
     "name": "stderr",
     "output_type": "stream",
     "text": [
      "/opt/conda/lib/python3.7/site-packages/ipykernel_launcher.py:1: SettingWithCopyWarning: \n",
      "A value is trying to be set on a copy of a slice from a DataFrame.\n",
      "Try using .loc[row_indexer,col_indexer] = value instead\n",
      "\n",
      "See the caveats in the documentation: https://pandas.pydata.org/pandas-docs/stable/user_guide/indexing.html#returning-a-view-versus-a-copy\n",
      "  \"\"\"Entry point for launching an IPython kernel.\n"
     ]
    }
   ],
   "source": [
    "dete_resignations['institute_service'] = dete_resignations['cease_date'] - dete_resignations['dete_start_date']"
   ]
  },
  {
   "cell_type": "code",
   "execution_count": 35,
   "id": "91038077",
   "metadata": {
    "execution": {
     "iopub.execute_input": "2022-03-17T22:33:22.657434Z",
     "iopub.status.busy": "2022-03-17T22:33:22.656767Z",
     "iopub.status.idle": "2022-03-17T22:33:23.168833Z",
     "shell.execute_reply": "2022-03-17T22:33:23.169418Z",
     "shell.execute_reply.started": "2022-03-17T22:21:14.339486Z"
    },
    "papermill": {
     "duration": 0.638686,
     "end_time": "2022-03-17T22:33:23.169630",
     "exception": false,
     "start_time": "2022-03-17T22:33:22.530944",
     "status": "completed"
    },
    "tags": []
   },
   "outputs": [
    {
     "name": "stdout",
     "output_type": "stream",
     "text": [
      "<class 'pandas.core.frame.DataFrame'>\n",
      "Int64Index: 340 entries, 3 to 701\n",
      "Data columns (total 23 columns):\n",
      " #   Column                                               Non-Null Count  Dtype  \n",
      "---  ------                                               --------------  -----  \n",
      " 0   id                                                   340 non-null    float64\n",
      " 1   Institute                                            340 non-null    object \n",
      " 2   WorkArea                                             340 non-null    object \n",
      " 3   cease_date                                           335 non-null    float64\n",
      " 4   separationtype                                       340 non-null    object \n",
      " 5   Contributing Factors. Career Move - Public Sector    332 non-null    object \n",
      " 6   Contributing Factors. Career Move - Private Sector   332 non-null    object \n",
      " 7   Contributing Factors. Career Move - Self-employment  332 non-null    object \n",
      " 8   Contributing Factors. Ill Health                     332 non-null    object \n",
      " 9   Contributing Factors. Maternity/Family               332 non-null    object \n",
      " 10  Contributing Factors. Dissatisfaction                332 non-null    object \n",
      " 11  Contributing Factors. Job Dissatisfaction            332 non-null    object \n",
      " 12  Contributing Factors. Interpersonal Conflict         332 non-null    object \n",
      " 13  Contributing Factors. Study                          332 non-null    object \n",
      " 14  Contributing Factors. Travel                         332 non-null    object \n",
      " 15  Contributing Factors. Other                          332 non-null    object \n",
      " 16  Contributing Factors. NONE                           332 non-null    object \n",
      " 17  gender                                               290 non-null    object \n",
      " 18  age                                                  290 non-null    object \n",
      " 19  employment_status                                    290 non-null    object \n",
      " 20  position                                             290 non-null    object \n",
      " 21  institute_service                                    290 non-null    object \n",
      " 22  role_service                                         290 non-null    object \n",
      "dtypes: float64(2), object(21)\n",
      "memory usage: 63.8+ KB\n",
      "None\n",
      "             id                              Institute  \\\n",
      "3  6.341399e+17            Mount Isa Institute of TAFE   \n",
      "4  6.341466e+17  Southern Queensland Institute of TAFE   \n",
      "5  6.341475e+17  Southern Queensland Institute of TAFE   \n",
      "6  6.341520e+17         Barrier Reef Institute of TAFE   \n",
      "7  6.341537e+17  Southern Queensland Institute of TAFE   \n",
      "\n",
      "                   WorkArea  cease_date separationtype  \\\n",
      "3  Non-Delivery (corporate)      2010.0    Resignation   \n",
      "4       Delivery (teaching)      2010.0    Resignation   \n",
      "5       Delivery (teaching)      2010.0    Resignation   \n",
      "6  Non-Delivery (corporate)      2010.0    Resignation   \n",
      "7       Delivery (teaching)      2010.0    Resignation   \n",
      "\n",
      "  Contributing Factors. Career Move - Public Sector   \\\n",
      "3                                                  -   \n",
      "4                                                  -   \n",
      "5                                                  -   \n",
      "6                                                  -   \n",
      "7                                                  -   \n",
      "\n",
      "  Contributing Factors. Career Move - Private Sector   \\\n",
      "3                                                  -    \n",
      "4                       Career Move - Private Sector    \n",
      "5                                                  -    \n",
      "6                       Career Move - Private Sector    \n",
      "7                                                  -    \n",
      "\n",
      "  Contributing Factors. Career Move - Self-employment  \\\n",
      "3                                                  -    \n",
      "4                                                  -    \n",
      "5                                                  -    \n",
      "6                                                  -    \n",
      "7                                                  -    \n",
      "\n",
      "  Contributing Factors. Ill Health Contributing Factors. Maternity/Family  \\\n",
      "3                                -                                      -   \n",
      "4                                -                                      -   \n",
      "5                                -                                      -   \n",
      "6                                -                       Maternity/Family   \n",
      "7                                -                                      -   \n",
      "\n",
      "   ... Contributing Factors. Study Contributing Factors. Travel  \\\n",
      "3  ...                           -                       Travel   \n",
      "4  ...                           -                            -   \n",
      "5  ...                           -                            -   \n",
      "6  ...                           -                            -   \n",
      "7  ...                           -                            -   \n",
      "\n",
      "  Contributing Factors. Other Contributing Factors. NONE  gender  \\\n",
      "3                           -                          -     NaN   \n",
      "4                           -                          -    Male   \n",
      "5                       Other                          -  Female   \n",
      "6                       Other                          -    Male   \n",
      "7                       Other                          -    Male   \n",
      "\n",
      "             age    employment_status                 position  \\\n",
      "3            NaN                  NaN                      NaN   \n",
      "4         41  45  Permanent Full-time  Teacher (including LVT)   \n",
      "5    56 or older      Contract/casual  Teacher (including LVT)   \n",
      "6  20 or younger  Temporary Full-time      Administration (AO)   \n",
      "7         46  50  Permanent Full-time  Teacher (including LVT)   \n",
      "\n",
      "  institute_service role_service  \n",
      "3               NaN          NaN  \n",
      "4               3-4          3-4  \n",
      "5              7-10         7-10  \n",
      "6               3-4          3-4  \n",
      "7               3-4          3-4  \n",
      "\n",
      "[5 rows x 23 columns]\n"
     ]
    },
    {
     "data": {
      "image/png": "[encoded data removed]",
      "text/plain": [
       "<Figure size 432x288 with 1 Axes>"
      ]
     },
     "metadata": {
      "needs_background": "light"
     },
     "output_type": "display_data"
    }
   ],
   "source": [
    "explore(tafe_resignations)"
   ]
  },
  {
   "cell_type": "markdown",
   "id": "d0c7d76d",
   "metadata": {
    "papermill": {
     "duration": 0.106007,
     "end_time": "2022-03-17T22:33:23.378308",
     "exception": false,
     "start_time": "2022-03-17T22:33:23.272301",
     "status": "completed"
    },
    "tags": []
   },
   "source": [
    "### Filtering based on participants' responses\n",
    "\n",
    "I'll focus my analysis on the following columns:\n",
    "\n",
    "**TAFE**\n",
    "- Contributing Factors. Dissatisfaction\n",
    "- Contributing Factors. Job Dissatisfaction\n",
    "\n",
    "**DETE**\n",
    "- job_dissatisfaction\n",
    "- dissatisfaction_with_the_department\n",
    "- physical_work_environment\n",
    "- lack_of_recognition\n",
    "- lack_of_job_security\n",
    "- work_location\n",
    "- employment_conditions\n",
    "- work_life_balance\n",
    "- workload\n",
    "\n",
    "if employee indicates any of the above caused their resignation, I'll mark them as dissatisfied in a new column.\n",
    "\n",
    "**Method**\n",
    "1. convert values in contributing factors (TAFE dataset) to True, False or NaN\n",
    "2. any columns contain True value, add True value to dissatisfied"
   ]
  },
  {
   "cell_type": "code",
   "execution_count": 36,
   "id": "959f5475",
   "metadata": {
    "execution": {
     "iopub.execute_input": "2022-03-17T22:33:23.595292Z",
     "iopub.status.busy": "2022-03-17T22:33:23.594340Z",
     "iopub.status.idle": "2022-03-17T22:33:23.600589Z",
     "shell.execute_reply": "2022-03-17T22:33:23.600047Z",
     "shell.execute_reply.started": "2022-03-17T22:21:14.824327Z"
    },
    "papermill": {
     "duration": 0.116795,
     "end_time": "2022-03-17T22:33:23.600756",
     "exception": false,
     "start_time": "2022-03-17T22:33:23.483961",
     "status": "completed"
    },
    "tags": []
   },
   "outputs": [
    {
     "data": {
      "text/plain": [
       "-                                         277\n",
       "Contributing Factors. Dissatisfaction      55\n",
       "Name: Contributing Factors. Dissatisfaction, dtype: int64"
      ]
     },
     "execution_count": 36,
     "metadata": {},
     "output_type": "execute_result"
    }
   ],
   "source": [
    "tafe_resignations['Contributing Factors. Dissatisfaction'].value_counts()"
   ]
  },
  {
   "cell_type": "code",
   "execution_count": 37,
   "id": "702fc199",
   "metadata": {
    "execution": {
     "iopub.execute_input": "2022-03-17T22:33:23.815591Z",
     "iopub.status.busy": "2022-03-17T22:33:23.814673Z",
     "iopub.status.idle": "2022-03-17T22:33:23.818910Z",
     "shell.execute_reply": "2022-03-17T22:33:23.818383Z",
     "shell.execute_reply.started": "2022-03-17T22:21:14.834532Z"
    },
    "papermill": {
     "duration": 0.114847,
     "end_time": "2022-03-17T22:33:23.819048",
     "exception": false,
     "start_time": "2022-03-17T22:33:23.704201",
     "status": "completed"
    },
    "tags": []
   },
   "outputs": [
    {
     "data": {
      "text/plain": [
       "-                      270\n",
       "Job Dissatisfaction     62\n",
       "Name: Contributing Factors. Job Dissatisfaction, dtype: int64"
      ]
     },
     "execution_count": 37,
     "metadata": {},
     "output_type": "execute_result"
    }
   ],
   "source": [
    "tafe_resignations['Contributing Factors. Job Dissatisfaction'].value_counts()"
   ]
  },
  {
   "cell_type": "code",
   "execution_count": 38,
   "id": "ccdfa17f",
   "metadata": {
    "execution": {
     "iopub.execute_input": "2022-03-17T22:33:24.031811Z",
     "iopub.status.busy": "2022-03-17T22:33:24.030520Z",
     "iopub.status.idle": "2022-03-17T22:33:24.035150Z",
     "shell.execute_reply": "2022-03-17T22:33:24.035702Z",
     "shell.execute_reply.started": "2022-03-17T22:21:14.849208Z"
    },
    "papermill": {
     "duration": 0.113084,
     "end_time": "2022-03-17T22:33:24.035885",
     "exception": false,
     "start_time": "2022-03-17T22:33:23.922801",
     "status": "completed"
    },
    "tags": []
   },
   "outputs": [],
   "source": [
    "#write function to convert values in contributing factors (TAFE dataset) to True, False or NaN\n",
    "\n",
    "def update_vals(value):\n",
    "    if pd.isnull(value):\n",
    "        return np.nan\n",
    "    elif value == '-':\n",
    "        return False\n",
    "    else:\n",
    "        return True"
   ]
  },
  {
   "cell_type": "code",
   "execution_count": 39,
   "id": "ef23764c",
   "metadata": {
    "execution": {
     "iopub.execute_input": "2022-03-17T22:33:24.245776Z",
     "iopub.status.busy": "2022-03-17T22:33:24.245028Z",
     "iopub.status.idle": "2022-03-17T22:33:24.254530Z",
     "shell.execute_reply": "2022-03-17T22:33:24.254992Z",
     "shell.execute_reply.started": "2022-03-17T22:21:14.85705Z"
    },
    "papermill": {
     "duration": 0.114718,
     "end_time": "2022-03-17T22:33:24.255180",
     "exception": false,
     "start_time": "2022-03-17T22:33:24.140462",
     "status": "completed"
    },
    "tags": []
   },
   "outputs": [
    {
     "name": "stderr",
     "output_type": "stream",
     "text": [
      "/opt/conda/lib/python3.7/site-packages/ipykernel_launcher.py:14: SettingWithCopyWarning: \n",
      "A value is trying to be set on a copy of a slice from a DataFrame.\n",
      "Try using .loc[row_indexer,col_indexer] = value instead\n",
      "\n",
      "See the caveats in the documentation: https://pandas.pydata.org/pandas-docs/stable/user_guide/indexing.html#returning-a-view-versus-a-copy\n",
      "  \n"
     ]
    }
   ],
   "source": [
    "#use applymap, passing above function to convert values to True, False, NaN\n",
    "#use df.any() method in a separate column 'Dissatisfied' where if value in those two columns\n",
    "# = True, then returns True, if None are True, returns False, if NaN, return NaN...\n",
    "\n",
    "#this means if the response in any element in those selects rows returns the above, it'll return the equivalent\n",
    "#in the dissatisfied column\n",
    "#e.g. True, False, True == True.  False, False, True = True, False, False, False = False\n",
    "\n",
    "#from the documentation: Return whether any element is True, potentially over an axis.\n",
    "\n",
    "#Returns False unless there is at least one element within a series or along a Dataframe axis that is True or equivalent\n",
    "#(e.g. non-zero or non-empty).\n",
    "\n",
    "tafe_resignations['Dissatisfied'] = tafe_resignations[['Contributing Factors. Dissatisfaction', 'Contributing Factors. Job Dissatisfaction']].applymap(update_vals).any(axis=1, skipna=False)\n",
    "\n",
    "#in order to avoid SettingWithCopy Warning\n",
    "tafe_resignations_up = tafe_resignations.copy()"
   ]
  },
  {
   "cell_type": "code",
   "execution_count": 40,
   "id": "72d66064",
   "metadata": {
    "execution": {
     "iopub.execute_input": "2022-03-17T22:33:24.469647Z",
     "iopub.status.busy": "2022-03-17T22:33:24.468976Z",
     "iopub.status.idle": "2022-03-17T22:33:24.476099Z",
     "shell.execute_reply": "2022-03-17T22:33:24.476658Z",
     "shell.execute_reply.started": "2022-03-17T22:21:14.873769Z"
    },
    "papermill": {
     "duration": 0.115438,
     "end_time": "2022-03-17T22:33:24.476828",
     "exception": false,
     "start_time": "2022-03-17T22:33:24.361390",
     "status": "completed"
    },
    "tags": []
   },
   "outputs": [
    {
     "data": {
      "text/plain": [
       "False    241\n",
       "True      99\n",
       "Name: Dissatisfied, dtype: int64"
      ]
     },
     "execution_count": 40,
     "metadata": {},
     "output_type": "execute_result"
    }
   ],
   "source": [
    "tafe_resignations_up['Dissatisfied'].value_counts()"
   ]
  },
  {
   "cell_type": "code",
   "execution_count": 41,
   "id": "a909b97b",
   "metadata": {
    "execution": {
     "iopub.execute_input": "2022-03-17T22:33:24.687129Z",
     "iopub.status.busy": "2022-03-17T22:33:24.686458Z",
     "iopub.status.idle": "2022-03-17T22:33:24.692685Z",
     "shell.execute_reply": "2022-03-17T22:33:24.693155Z",
     "shell.execute_reply.started": "2022-03-17T22:21:14.891195Z"
    },
    "papermill": {
     "duration": 0.11389,
     "end_time": "2022-03-17T22:33:24.693346",
     "exception": false,
     "start_time": "2022-03-17T22:33:24.579456",
     "status": "completed"
    },
    "tags": []
   },
   "outputs": [
    {
     "data": {
      "text/plain": [
       "False    241\n",
       "True      99\n",
       "Name: Dissatisfied, dtype: int64"
      ]
     },
     "execution_count": 41,
     "metadata": {},
     "output_type": "execute_result"
    }
   ],
   "source": [
    "tafe_resignations['Dissatisfied'].value_counts()"
   ]
  },
  {
   "cell_type": "code",
   "execution_count": 42,
   "id": "5905bcba",
   "metadata": {
    "execution": {
     "iopub.execute_input": "2022-03-17T22:33:24.909287Z",
     "iopub.status.busy": "2022-03-17T22:33:24.908641Z",
     "iopub.status.idle": "2022-03-17T22:33:24.915984Z",
     "shell.execute_reply": "2022-03-17T22:33:24.915477Z",
     "shell.execute_reply.started": "2022-03-17T22:21:14.900916Z"
    },
    "papermill": {
     "duration": 0.117663,
     "end_time": "2022-03-17T22:33:24.916127",
     "exception": false,
     "start_time": "2022-03-17T22:33:24.798464",
     "status": "completed"
    },
    "tags": []
   },
   "outputs": [
    {
     "data": {
      "text/plain": [
       "False    270\n",
       "True      41\n",
       "Name: job_dissatisfaction, dtype: int64"
      ]
     },
     "execution_count": 42,
     "metadata": {},
     "output_type": "execute_result"
    }
   ],
   "source": [
    "dete_resignations['job_dissatisfaction'].value_counts()"
   ]
  },
  {
   "cell_type": "code",
   "execution_count": 43,
   "id": "f580792a",
   "metadata": {
    "execution": {
     "iopub.execute_input": "2022-03-17T22:33:25.130460Z",
     "iopub.status.busy": "2022-03-17T22:33:25.129425Z",
     "iopub.status.idle": "2022-03-17T22:33:25.140515Z",
     "shell.execute_reply": "2022-03-17T22:33:25.139607Z",
     "shell.execute_reply.started": "2022-03-17T22:21:14.913403Z"
    },
    "papermill": {
     "duration": 0.121224,
     "end_time": "2022-03-17T22:33:25.140714",
     "exception": false,
     "start_time": "2022-03-17T22:33:25.019490",
     "status": "completed"
    },
    "tags": []
   },
   "outputs": [
    {
     "name": "stderr",
     "output_type": "stream",
     "text": [
      "/opt/conda/lib/python3.7/site-packages/ipykernel_launcher.py:7: SettingWithCopyWarning: \n",
      "A value is trying to be set on a copy of a slice from a DataFrame.\n",
      "Try using .loc[row_indexer,col_indexer] = value instead\n",
      "\n",
      "See the caveats in the documentation: https://pandas.pydata.org/pandas-docs/stable/user_guide/indexing.html#returning-a-view-versus-a-copy\n",
      "  import sys\n"
     ]
    }
   ],
   "source": [
    "#creating a dissatisfied column in dete dataset now\n",
    "#responses to the indicated columns are already in boolean form\n",
    "dete_resignations['Dissatisfied'] = dete_resignations['dissatisfied'] = dete_resignations[['job_dissatisfaction',\n",
    "       'dissatisfaction_with_the_department', 'physical_work_environment',\n",
    "       'lack_of_recognition', 'lack_of_job_security', 'work_location',\n",
    "       'employment_conditions', 'work_life_balance',\n",
    "       'workload']].any(1, skipna=False)\n",
    "\n",
    "dete_resignations_up = dete_resignations.copy()"
   ]
  },
  {
   "cell_type": "code",
   "execution_count": 44,
   "id": "ccaa312c",
   "metadata": {
    "execution": {
     "iopub.execute_input": "2022-03-17T22:33:25.361991Z",
     "iopub.status.busy": "2022-03-17T22:33:25.361006Z",
     "iopub.status.idle": "2022-03-17T22:33:25.368225Z",
     "shell.execute_reply": "2022-03-17T22:33:25.368765Z",
     "shell.execute_reply.started": "2022-03-17T22:21:14.928366Z"
    },
    "papermill": {
     "duration": 0.118061,
     "end_time": "2022-03-17T22:33:25.368935",
     "exception": false,
     "start_time": "2022-03-17T22:33:25.250874",
     "status": "completed"
    },
    "tags": []
   },
   "outputs": [
    {
     "data": {
      "text/plain": [
       "False    162\n",
       "True     149\n",
       "Name: Dissatisfied, dtype: int64"
      ]
     },
     "execution_count": 44,
     "metadata": {},
     "output_type": "execute_result"
    }
   ],
   "source": [
    "dete_resignations['Dissatisfied'].value_counts()"
   ]
  },
  {
   "cell_type": "markdown",
   "id": "387a3f4a",
   "metadata": {
    "papermill": {
     "duration": 0.109131,
     "end_time": "2022-03-17T22:33:25.586314",
     "exception": false,
     "start_time": "2022-03-17T22:33:25.477183",
     "status": "completed"
    },
    "tags": []
   },
   "source": [
    "# Data Cleaning - combining data\n",
    "Before, I'll add a column to each dataframe with an entry of either 'DETE' or TAFE' to allow me to distinguish between the entry sources."
   ]
  },
  {
   "cell_type": "code",
   "execution_count": 45,
   "id": "fceab731",
   "metadata": {
    "execution": {
     "iopub.execute_input": "2022-03-17T22:33:25.801873Z",
     "iopub.status.busy": "2022-03-17T22:33:25.801157Z",
     "iopub.status.idle": "2022-03-17T22:33:25.805935Z",
     "shell.execute_reply": "2022-03-17T22:33:25.806437Z",
     "shell.execute_reply.started": "2022-03-17T22:21:14.937845Z"
    },
    "papermill": {
     "duration": 0.114445,
     "end_time": "2022-03-17T22:33:25.806617",
     "exception": false,
     "start_time": "2022-03-17T22:33:25.692172",
     "status": "completed"
    },
    "tags": []
   },
   "outputs": [],
   "source": [
    "dete_resignations_up['institute'] = 'DETE'\n",
    "tafe_resignations_up['institute'] = 'TAFE'"
   ]
  },
  {
   "cell_type": "code",
   "execution_count": 46,
   "id": "16dac235",
   "metadata": {
    "execution": {
     "iopub.execute_input": "2022-03-17T22:33:26.023066Z",
     "iopub.status.busy": "2022-03-17T22:33:26.022412Z",
     "iopub.status.idle": "2022-03-17T22:33:26.026023Z",
     "shell.execute_reply": "2022-03-17T22:33:26.025497Z",
     "shell.execute_reply.started": "2022-03-17T22:21:14.947693Z"
    },
    "papermill": {
     "duration": 0.112146,
     "end_time": "2022-03-17T22:33:26.026168",
     "exception": false,
     "start_time": "2022-03-17T22:33:25.914022",
     "status": "completed"
    },
    "tags": []
   },
   "outputs": [],
   "source": [
    "#I first tried a merge, but had to convert institute_service for the TAFE dataset to float, to match DETE\n",
    "# tafe_resignations['institute_service'] = tafe_resignations['institute_service'].astype(float)\n",
    "#however, trying this made me realise values are stored as between numbers e.g. 1-2 years etc.\n",
    "#therefore, I proceed with a pd.concat()"
   ]
  },
  {
   "cell_type": "code",
   "execution_count": 47,
   "id": "eb0db417",
   "metadata": {
    "execution": {
     "iopub.execute_input": "2022-03-17T22:33:26.241664Z",
     "iopub.status.busy": "2022-03-17T22:33:26.240971Z",
     "iopub.status.idle": "2022-03-17T22:33:26.247865Z",
     "shell.execute_reply": "2022-03-17T22:33:26.248376Z",
     "shell.execute_reply.started": "2022-03-17T22:21:14.958188Z"
    },
    "papermill": {
     "duration": 0.116035,
     "end_time": "2022-03-17T22:33:26.248557",
     "exception": false,
     "start_time": "2022-03-17T22:33:26.132522",
     "status": "completed"
    },
    "tags": []
   },
   "outputs": [
    {
     "data": {
      "text/plain": [
       "Less than 1 year      73\n",
       "1-2                   64\n",
       "3-4                   63\n",
       "5-6                   33\n",
       "11-20                 26\n",
       "7-10                  21\n",
       "More than 20 years    10\n",
       "Name: institute_service, dtype: int64"
      ]
     },
     "execution_count": 47,
     "metadata": {},
     "output_type": "execute_result"
    }
   ],
   "source": [
    "tafe_resignations['institute_service'].value_counts()"
   ]
  },
  {
   "cell_type": "code",
   "execution_count": 48,
   "id": "5af1acee",
   "metadata": {
    "execution": {
     "iopub.execute_input": "2022-03-17T22:33:26.469728Z",
     "iopub.status.busy": "2022-03-17T22:33:26.469039Z",
     "iopub.status.idle": "2022-03-17T22:33:26.479133Z",
     "shell.execute_reply": "2022-03-17T22:33:26.478619Z",
     "shell.execute_reply.started": "2022-03-17T22:21:14.975959Z"
    },
    "papermill": {
     "duration": 0.117445,
     "end_time": "2022-03-17T22:33:26.479293",
     "exception": false,
     "start_time": "2022-03-17T22:33:26.361848",
     "status": "completed"
    },
    "tags": []
   },
   "outputs": [],
   "source": [
    "combined_updated = pd.concat([dete_resignations_up, tafe_resignations_up], ignore_index=True)"
   ]
  },
  {
   "cell_type": "code",
   "execution_count": 49,
   "id": "1981f698",
   "metadata": {
    "execution": {
     "iopub.execute_input": "2022-03-17T22:33:26.695950Z",
     "iopub.status.busy": "2022-03-17T22:33:26.694937Z",
     "iopub.status.idle": "2022-03-17T22:33:26.718666Z",
     "shell.execute_reply": "2022-03-17T22:33:26.719186Z",
     "shell.execute_reply.started": "2022-03-17T22:21:14.994319Z"
    },
    "papermill": {
     "duration": 0.134663,
     "end_time": "2022-03-17T22:33:26.719374",
     "exception": false,
     "start_time": "2022-03-17T22:33:26.584711",
     "status": "completed"
    },
    "tags": []
   },
   "outputs": [
    {
     "data": {
      "text/html": [
       "<div>\n",
       "<style scoped>\n",
       "    .dataframe tbody tr th:only-of-type {\n",
       "        vertical-align: middle;\n",
       "    }\n",
       "\n",
       "    .dataframe tbody tr th {\n",
       "        vertical-align: top;\n",
       "    }\n",
       "\n",
       "    .dataframe thead th {\n",
       "        text-align: right;\n",
       "    }\n",
       "</style>\n",
       "<table border=\"1\" class=\"dataframe\">\n",
       "  <thead>\n",
       "    <tr style=\"text-align: right;\">\n",
       "      <th></th>\n",
       "      <th>id</th>\n",
       "      <th>separationtype</th>\n",
       "      <th>cease_date</th>\n",
       "      <th>dete_start_date</th>\n",
       "      <th>role_start_date</th>\n",
       "      <th>position</th>\n",
       "      <th>classification</th>\n",
       "      <th>region</th>\n",
       "      <th>business_unit</th>\n",
       "      <th>employment_status</th>\n",
       "      <th>...</th>\n",
       "      <th>Contributing Factors. Ill Health</th>\n",
       "      <th>Contributing Factors. Maternity/Family</th>\n",
       "      <th>Contributing Factors. Dissatisfaction</th>\n",
       "      <th>Contributing Factors. Job Dissatisfaction</th>\n",
       "      <th>Contributing Factors. Interpersonal Conflict</th>\n",
       "      <th>Contributing Factors. Study</th>\n",
       "      <th>Contributing Factors. Travel</th>\n",
       "      <th>Contributing Factors. Other</th>\n",
       "      <th>Contributing Factors. NONE</th>\n",
       "      <th>role_service</th>\n",
       "    </tr>\n",
       "  </thead>\n",
       "  <tbody>\n",
       "    <tr>\n",
       "      <th>0</th>\n",
       "      <td>4.0</td>\n",
       "      <td>Resignation-Other reasons</td>\n",
       "      <td>2012.0</td>\n",
       "      <td>2005.0</td>\n",
       "      <td>2006.0</td>\n",
       "      <td>Teacher</td>\n",
       "      <td>Primary</td>\n",
       "      <td>Central Queensland</td>\n",
       "      <td>NaN</td>\n",
       "      <td>Permanent Full-time</td>\n",
       "      <td>...</td>\n",
       "      <td>NaN</td>\n",
       "      <td>NaN</td>\n",
       "      <td>NaN</td>\n",
       "      <td>NaN</td>\n",
       "      <td>NaN</td>\n",
       "      <td>NaN</td>\n",
       "      <td>NaN</td>\n",
       "      <td>NaN</td>\n",
       "      <td>NaN</td>\n",
       "      <td>NaN</td>\n",
       "    </tr>\n",
       "    <tr>\n",
       "      <th>1</th>\n",
       "      <td>6.0</td>\n",
       "      <td>Resignation-Other reasons</td>\n",
       "      <td>2012.0</td>\n",
       "      <td>1994.0</td>\n",
       "      <td>1997.0</td>\n",
       "      <td>Guidance Officer</td>\n",
       "      <td>NaN</td>\n",
       "      <td>Central Office</td>\n",
       "      <td>Education Queensland</td>\n",
       "      <td>Permanent Full-time</td>\n",
       "      <td>...</td>\n",
       "      <td>NaN</td>\n",
       "      <td>NaN</td>\n",
       "      <td>NaN</td>\n",
       "      <td>NaN</td>\n",
       "      <td>NaN</td>\n",
       "      <td>NaN</td>\n",
       "      <td>NaN</td>\n",
       "      <td>NaN</td>\n",
       "      <td>NaN</td>\n",
       "      <td>NaN</td>\n",
       "    </tr>\n",
       "    <tr>\n",
       "      <th>2</th>\n",
       "      <td>9.0</td>\n",
       "      <td>Resignation-Other reasons</td>\n",
       "      <td>2012.0</td>\n",
       "      <td>2009.0</td>\n",
       "      <td>2009.0</td>\n",
       "      <td>Teacher</td>\n",
       "      <td>Secondary</td>\n",
       "      <td>North Queensland</td>\n",
       "      <td>NaN</td>\n",
       "      <td>Permanent Full-time</td>\n",
       "      <td>...</td>\n",
       "      <td>NaN</td>\n",
       "      <td>NaN</td>\n",
       "      <td>NaN</td>\n",
       "      <td>NaN</td>\n",
       "      <td>NaN</td>\n",
       "      <td>NaN</td>\n",
       "      <td>NaN</td>\n",
       "      <td>NaN</td>\n",
       "      <td>NaN</td>\n",
       "      <td>NaN</td>\n",
       "    </tr>\n",
       "  </tbody>\n",
       "</table>\n",
       "<p>3 rows × 54 columns</p>\n",
       "</div>"
      ],
      "text/plain": [
       "    id             separationtype  cease_date  dete_start_date  \\\n",
       "0  4.0  Resignation-Other reasons      2012.0           2005.0   \n",
       "1  6.0  Resignation-Other reasons      2012.0           1994.0   \n",
       "2  9.0  Resignation-Other reasons      2012.0           2009.0   \n",
       "\n",
       "   role_start_date          position classification              region  \\\n",
       "0           2006.0           Teacher        Primary  Central Queensland   \n",
       "1           1997.0  Guidance Officer            NaN      Central Office   \n",
       "2           2009.0           Teacher      Secondary    North Queensland   \n",
       "\n",
       "          business_unit    employment_status  ...  \\\n",
       "0                   NaN  Permanent Full-time  ...   \n",
       "1  Education Queensland  Permanent Full-time  ...   \n",
       "2                   NaN  Permanent Full-time  ...   \n",
       "\n",
       "  Contributing Factors. Ill Health Contributing Factors. Maternity/Family  \\\n",
       "0                              NaN                                    NaN   \n",
       "1                              NaN                                    NaN   \n",
       "2                              NaN                                    NaN   \n",
       "\n",
       "  Contributing Factors. Dissatisfaction  \\\n",
       "0                                   NaN   \n",
       "1                                   NaN   \n",
       "2                                   NaN   \n",
       "\n",
       "  Contributing Factors. Job Dissatisfaction  \\\n",
       "0                                       NaN   \n",
       "1                                       NaN   \n",
       "2                                       NaN   \n",
       "\n",
       "  Contributing Factors. Interpersonal Conflict Contributing Factors. Study  \\\n",
       "0                                          NaN                         NaN   \n",
       "1                                          NaN                         NaN   \n",
       "2                                          NaN                         NaN   \n",
       "\n",
       "  Contributing Factors. Travel Contributing Factors. Other  \\\n",
       "0                          NaN                         NaN   \n",
       "1                          NaN                         NaN   \n",
       "2                          NaN                         NaN   \n",
       "\n",
       "  Contributing Factors. NONE role_service  \n",
       "0                        NaN          NaN  \n",
       "1                        NaN          NaN  \n",
       "2                        NaN          NaN  \n",
       "\n",
       "[3 rows x 54 columns]"
      ]
     },
     "execution_count": 49,
     "metadata": {},
     "output_type": "execute_result"
    }
   ],
   "source": [
    "combined_updated.head(3)"
   ]
  },
  {
   "cell_type": "code",
   "execution_count": 50,
   "id": "4aa9fb7d",
   "metadata": {
    "execution": {
     "iopub.execute_input": "2022-03-17T22:33:26.941199Z",
     "iopub.status.busy": "2022-03-17T22:33:26.940295Z",
     "iopub.status.idle": "2022-03-17T22:33:26.951503Z",
     "shell.execute_reply": "2022-03-17T22:33:26.952089Z",
     "shell.execute_reply.started": "2022-03-17T22:21:15.026368Z"
    },
    "papermill": {
     "duration": 0.125255,
     "end_time": "2022-03-17T22:33:26.952259",
     "exception": false,
     "start_time": "2022-03-17T22:33:26.827004",
     "status": "completed"
    },
    "tags": []
   },
   "outputs": [
    {
     "data": {
      "text/plain": [
       "torres_strait                                            0\n",
       "south_sea                                                3\n",
       "aboriginal                                               7\n",
       "disability                                               8\n",
       "nesb                                                     9\n",
       "business_unit                                           32\n",
       "classification                                         161\n",
       "region                                                 265\n",
       "role_start_date                                        271\n",
       "dete_start_date                                        283\n",
       "role_service                                           290\n",
       "dissatisfied                                           311\n",
       "none_of_the_above                                      311\n",
       "work_life_balance                                      311\n",
       "traumatic_incident                                     311\n",
       "ill_health                                             311\n",
       "study/travel                                           311\n",
       "relocation                                             311\n",
       "maternity/family                                       311\n",
       "workload                                               311\n",
       "work_location                                          311\n",
       "lack_of_job_security                                   311\n",
       "lack_of_recognition                                    311\n",
       "physical_work_environment                              311\n",
       "dissatisfaction_with_the_department                    311\n",
       "job_dissatisfaction                                    311\n",
       "interpersonal_conflicts                                311\n",
       "employment_conditions                                  311\n",
       "career_move_to_private_sector                          311\n",
       "career_move_to_public_sector                           311\n",
       "Contributing Factors. Career Move - Public Sector      332\n",
       "Contributing Factors. Career Move - Private Sector     332\n",
       "Contributing Factors. Career Move - Self-employment    332\n",
       "Contributing Factors. Dissatisfaction                  332\n",
       "Contributing Factors. Maternity/Family                 332\n",
       "Contributing Factors. Job Dissatisfaction              332\n",
       "Contributing Factors. Ill Health                       332\n",
       "Contributing Factors. Travel                           332\n",
       "Contributing Factors. Study                            332\n",
       "Contributing Factors. Interpersonal Conflict           332\n",
       "Contributing Factors. NONE                             332\n",
       "Contributing Factors. Other                            332\n",
       "Institute                                              340\n",
       "WorkArea                                               340\n",
       "institute_service                                      563\n",
       "gender                                                 592\n",
       "age                                                    596\n",
       "employment_status                                      597\n",
       "position                                               598\n",
       "cease_date                                             635\n",
       "Dissatisfied                                           651\n",
       "separationtype                                         651\n",
       "institute                                              651\n",
       "id                                                     651\n",
       "dtype: int64"
      ]
     },
     "execution_count": 50,
     "metadata": {},
     "output_type": "execute_result"
    }
   ],
   "source": [
    "#still columns left in df that are not required \n",
    "combined_updated.notnull().sum().sort_values()"
   ]
  },
  {
   "cell_type": "code",
   "execution_count": 51,
   "id": "7611a903",
   "metadata": {
    "execution": {
     "iopub.execute_input": "2022-03-17T22:33:27.188550Z",
     "iopub.status.busy": "2022-03-17T22:33:27.187328Z",
     "iopub.status.idle": "2022-03-17T22:33:27.358935Z",
     "shell.execute_reply": "2022-03-17T22:33:27.358374Z",
     "shell.execute_reply.started": "2022-03-17T22:21:15.041815Z"
    },
    "papermill": {
     "duration": 0.297948,
     "end_time": "2022-03-17T22:33:27.359085",
     "exception": false,
     "start_time": "2022-03-17T22:33:27.061137",
     "status": "completed"
    },
    "tags": []
   },
   "outputs": [],
   "source": [
    "#will drop those with <500 non null values\n",
    "combined_updated = combined_updated.dropna(thresh=499, axis=1)"
   ]
  },
  {
   "cell_type": "code",
   "execution_count": 52,
   "id": "610252bf",
   "metadata": {
    "execution": {
     "iopub.execute_input": "2022-03-17T22:33:27.589554Z",
     "iopub.status.busy": "2022-03-17T22:33:27.588567Z",
     "iopub.status.idle": "2022-03-17T22:33:27.595016Z",
     "shell.execute_reply": "2022-03-17T22:33:27.595851Z",
     "shell.execute_reply.started": "2022-03-17T22:21:15.061691Z"
    },
    "papermill": {
     "duration": 0.120801,
     "end_time": "2022-03-17T22:33:27.596098",
     "exception": false,
     "start_time": "2022-03-17T22:33:27.475297",
     "status": "completed"
    },
    "tags": []
   },
   "outputs": [
    {
     "data": {
      "text/plain": [
       "institute_service    563\n",
       "gender               592\n",
       "age                  596\n",
       "employment_status    597\n",
       "position             598\n",
       "cease_date           635\n",
       "id                   651\n",
       "separationtype       651\n",
       "Dissatisfied         651\n",
       "institute            651\n",
       "dtype: int64"
      ]
     },
     "execution_count": 52,
     "metadata": {},
     "output_type": "execute_result"
    }
   ],
   "source": [
    "combined_updated.notnull().sum().sort_values()"
   ]
  },
  {
   "cell_type": "markdown",
   "id": "34c2ac2f",
   "metadata": {
    "papermill": {
     "duration": 0.107098,
     "end_time": "2022-03-17T22:33:27.813939",
     "exception": false,
     "start_time": "2022-03-17T22:33:27.706841",
     "status": "completed"
    },
    "tags": []
   },
   "source": [
    "# Data Cleaning - Institute_service\n",
    "The final column that needs cleaning in order to perform some analysis on the data. The values, now combined, are represented in a couple of different forms. As a range e.g. 1-2, 11-20, as floats e.g. 5.0, 1.0.\n",
    "\n",
    "These numbers need to be converted into categories. The categories I'll define are based on this article:\n",
    "\n",
    "https://www.businesswire.com/news/home/20171108006002/en/Age-Number-Engage-Employees-Career-Stage\n",
    "\n",
    "\n",
    "    New: Less than 3 years at a company\n",
    "    Experienced: 3-6 years at a company\n",
    "    Established: 7-10 years at a company\n",
    "    Veteran: 11 or more years at a company\n"
   ]
  },
  {
   "cell_type": "code",
   "execution_count": 53,
   "id": "132fe3a9",
   "metadata": {
    "execution": {
     "iopub.execute_input": "2022-03-17T22:33:28.041025Z",
     "iopub.status.busy": "2022-03-17T22:33:28.040341Z",
     "iopub.status.idle": "2022-03-17T22:33:28.042973Z",
     "shell.execute_reply": "2022-03-17T22:33:28.043489Z",
     "shell.execute_reply.started": "2022-03-17T22:21:15.072604Z"
    },
    "papermill": {
     "duration": 0.119349,
     "end_time": "2022-03-17T22:33:28.043663",
     "exception": false,
     "start_time": "2022-03-17T22:33:27.924314",
     "status": "completed"
    },
    "tags": []
   },
   "outputs": [
    {
     "data": {
      "text/plain": [
       "Less than 1 year      73\n",
       "1-2                   64\n",
       "3-4                   63\n",
       "5-6                   33\n",
       "11-20                 26\n",
       "5.0                   23\n",
       "1.0                   22\n",
       "7-10                  21\n",
       "3.0                   20\n",
       "0.0                   20\n",
       "6.0                   17\n",
       "4.0                   16\n",
       "9.0                   14\n",
       "2.0                   14\n",
       "7.0                   13\n",
       "More than 20 years    10\n",
       "13.0                   8\n",
       "8.0                    8\n",
       "15.0                   7\n",
       "20.0                   7\n",
       "10.0                   6\n",
       "14.0                   6\n",
       "12.0                   6\n",
       "17.0                   6\n",
       "22.0                   6\n",
       "18.0                   5\n",
       "16.0                   5\n",
       "11.0                   4\n",
       "23.0                   4\n",
       "24.0                   4\n",
       "32.0                   3\n",
       "39.0                   3\n",
       "19.0                   3\n",
       "21.0                   3\n",
       "36.0                   2\n",
       "25.0                   2\n",
       "30.0                   2\n",
       "26.0                   2\n",
       "28.0                   2\n",
       "49.0                   1\n",
       "41.0                   1\n",
       "27.0                   1\n",
       "42.0                   1\n",
       "29.0                   1\n",
       "34.0                   1\n",
       "31.0                   1\n",
       "33.0                   1\n",
       "35.0                   1\n",
       "38.0                   1\n",
       "Name: institute_service, dtype: int64"
      ]
     },
     "execution_count": 53,
     "metadata": {},
     "output_type": "execute_result"
    }
   ],
   "source": [
    "combined_updated['institute_service'].value_counts()"
   ]
  },
  {
   "cell_type": "code",
   "execution_count": 54,
   "id": "bfd684c9",
   "metadata": {
    "execution": {
     "iopub.execute_input": "2022-03-17T22:33:28.262421Z",
     "iopub.status.busy": "2022-03-17T22:33:28.261778Z",
     "iopub.status.idle": "2022-03-17T22:33:28.266050Z",
     "shell.execute_reply": "2022-03-17T22:33:28.266591Z",
     "shell.execute_reply.started": "2022-03-17T22:21:15.082211Z"
    },
    "papermill": {
     "duration": 0.115406,
     "end_time": "2022-03-17T22:33:28.266776",
     "exception": false,
     "start_time": "2022-03-17T22:33:28.151370",
     "status": "completed"
    },
    "tags": []
   },
   "outputs": [],
   "source": [
    "combined_updated['institute_service'] = combined_updated['institute_service'].astype(str)"
   ]
  },
  {
   "cell_type": "code",
   "execution_count": 55,
   "id": "7e8f3b95",
   "metadata": {
    "execution": {
     "iopub.execute_input": "2022-03-17T22:33:28.488088Z",
     "iopub.status.busy": "2022-03-17T22:33:28.487468Z",
     "iopub.status.idle": "2022-03-17T22:33:28.495641Z",
     "shell.execute_reply": "2022-03-17T22:33:28.496132Z",
     "shell.execute_reply.started": "2022-03-17T22:21:15.093313Z"
    },
    "papermill": {
     "duration": 0.120364,
     "end_time": "2022-03-17T22:33:28.496318",
     "exception": false,
     "start_time": "2022-03-17T22:33:28.375954",
     "status": "completed"
    },
    "tags": []
   },
   "outputs": [],
   "source": [
    "#had to do a bit of stackoverflow on this one...\n",
    "\n",
    "#first, define regex pattern\n",
    "# https://regexr.com/\n",
    "# \\d = match any digit character (0-9), i.e. regex pattern for digit \n",
    "# the + is a quantifier, telling extract to find anything that matches 1 or more of the above token. otherwise\n",
    "# would just add single digits to the list\n",
    "#pattern = r'(\\d+)'\n",
    "\n",
    "#however, managed to get the same result by using:\n",
    "pattern = r'([0-9]+)'\n",
    "#as \\d is any digit, so [0-9], and sticking on a quantifier + at the end is essentially the same as above\n",
    "#unless I am mistaken?\n",
    "\n",
    "\n",
    "combined_updated['institute_service_years'] = combined_updated['institute_service'].str.extract(pattern)\n",
    "combined_updated['institute_service_years'] = combined_updated['institute_service_years'].astype(float)"
   ]
  },
  {
   "cell_type": "code",
   "execution_count": 56,
   "id": "7b158fab",
   "metadata": {
    "execution": {
     "iopub.execute_input": "2022-03-17T22:33:28.713853Z",
     "iopub.status.busy": "2022-03-17T22:33:28.713236Z",
     "iopub.status.idle": "2022-03-17T22:33:28.722411Z",
     "shell.execute_reply": "2022-03-17T22:33:28.722925Z",
     "shell.execute_reply.started": "2022-03-17T22:21:15.108136Z"
    },
    "papermill": {
     "duration": 0.119991,
     "end_time": "2022-03-17T22:33:28.723097",
     "exception": false,
     "start_time": "2022-03-17T22:33:28.603106",
     "status": "completed"
    },
    "tags": []
   },
   "outputs": [
    {
     "data": {
      "text/plain": [
       "1.0     159\n",
       "3.0      83\n",
       "5.0      56\n",
       "7.0      34\n",
       "11.0     30\n",
       "0.0      20\n",
       "20.0     17\n",
       "6.0      17\n",
       "4.0      16\n",
       "9.0      14\n",
       "2.0      14\n",
       "13.0      8\n",
       "8.0       8\n",
       "15.0      7\n",
       "17.0      6\n",
       "10.0      6\n",
       "22.0      6\n",
       "14.0      6\n",
       "12.0      6\n",
       "18.0      5\n",
       "16.0      5\n",
       "24.0      4\n",
       "23.0      4\n",
       "21.0      3\n",
       "19.0      3\n",
       "39.0      3\n",
       "32.0      3\n",
       "25.0      2\n",
       "28.0      2\n",
       "26.0      2\n",
       "36.0      2\n",
       "30.0      2\n",
       "34.0      1\n",
       "27.0      1\n",
       "29.0      1\n",
       "42.0      1\n",
       "33.0      1\n",
       "41.0      1\n",
       "35.0      1\n",
       "49.0      1\n",
       "38.0      1\n",
       "31.0      1\n",
       "Name: institute_service_years, dtype: int64"
      ]
     },
     "execution_count": 56,
     "metadata": {},
     "output_type": "execute_result"
    }
   ],
   "source": [
    "combined_updated['institute_service_years'].value_counts()"
   ]
  },
  {
   "cell_type": "markdown",
   "id": "7d827886",
   "metadata": {
    "papermill": {
     "duration": 0.106961,
     "end_time": "2022-03-17T22:33:28.940965",
     "exception": false,
     "start_time": "2022-03-17T22:33:28.834004",
     "status": "completed"
    },
    "tags": []
   },
   "source": [
    "### Next steps \n",
    "Now the values have been converted into an appropriate single-year format, I'll need to map each value to the years categories mentioned previously:\n",
    "\n",
    "- New: Less than 3 years at a company\n",
    "- Experienced: 3-6 years at a company\n",
    "- Established: 7-10 years at a company\n",
    "- Veteran: 11 or more years at a company\n",
    "\n",
    "**Method**\n",
    "1. create function to map each year value to definitions (above)\n",
    "2. series.apply() to apply created function to institute_service\n",
    "3. assign to new columns, 'service_cat'"
   ]
  },
  {
   "cell_type": "code",
   "execution_count": 57,
   "id": "94a39b90",
   "metadata": {
    "execution": {
     "iopub.execute_input": "2022-03-17T22:33:29.162986Z",
     "iopub.status.busy": "2022-03-17T22:33:29.162262Z",
     "iopub.status.idle": "2022-03-17T22:33:29.167171Z",
     "shell.execute_reply": "2022-03-17T22:33:29.167704Z",
     "shell.execute_reply.started": "2022-03-17T22:21:15.11921Z"
    },
    "papermill": {
     "duration": 0.117874,
     "end_time": "2022-03-17T22:33:29.167886",
     "exception": false,
     "start_time": "2022-03-17T22:33:29.050012",
     "status": "completed"
    },
    "tags": []
   },
   "outputs": [],
   "source": [
    "def year_map(value):\n",
    "    if pd.isnull(value): #required, otherwise would return error of NaN and int unsupported for the operators\n",
    "        return np.nan\n",
    "    elif value < 3:\n",
    "        return 'New (less than 3 years)'\n",
    "    elif value >= 3 and value <= 6:\n",
    "        return 'Experienced (6 years or less)'\n",
    "    elif value > 6 and value <= 10:\n",
    "        return 'Established (10 years or less)'\n",
    "    elif value >= 11:\n",
    "        return 'Veteran (11 years or more)'"
   ]
  },
  {
   "cell_type": "code",
   "execution_count": 58,
   "id": "d17953f9",
   "metadata": {
    "execution": {
     "iopub.execute_input": "2022-03-17T22:33:29.388297Z",
     "iopub.status.busy": "2022-03-17T22:33:29.387622Z",
     "iopub.status.idle": "2022-03-17T22:33:29.394387Z",
     "shell.execute_reply": "2022-03-17T22:33:29.393848Z",
     "shell.execute_reply.started": "2022-03-17T22:21:15.129606Z"
    },
    "papermill": {
     "duration": 0.117727,
     "end_time": "2022-03-17T22:33:29.394537",
     "exception": false,
     "start_time": "2022-03-17T22:33:29.276810",
     "status": "completed"
    },
    "scrolled": true,
    "tags": []
   },
   "outputs": [],
   "source": [
    "combined_updated['service_cat'] = combined_updated['institute_service_years'].apply(year_map)"
   ]
  },
  {
   "cell_type": "code",
   "execution_count": 59,
   "id": "145d2336",
   "metadata": {
    "execution": {
     "iopub.execute_input": "2022-03-17T22:33:29.614768Z",
     "iopub.status.busy": "2022-03-17T22:33:29.614128Z",
     "iopub.status.idle": "2022-03-17T22:33:29.620933Z",
     "shell.execute_reply": "2022-03-17T22:33:29.621535Z",
     "shell.execute_reply.started": "2022-03-17T22:21:15.143274Z"
    },
    "papermill": {
     "duration": 0.119985,
     "end_time": "2022-03-17T22:33:29.621706",
     "exception": false,
     "start_time": "2022-03-17T22:33:29.501721",
     "status": "completed"
    },
    "tags": []
   },
   "outputs": [
    {
     "data": {
      "text/plain": [
       "New (less than 3 years)           193\n",
       "Experienced (6 years or less)     172\n",
       "Veteran (11 years or more)        136\n",
       "Established (10 years or less)     62\n",
       "Name: service_cat, dtype: int64"
      ]
     },
     "execution_count": 59,
     "metadata": {},
     "output_type": "execute_result"
    }
   ],
   "source": [
    "combined_updated['service_cat'].value_counts()"
   ]
  },
  {
   "cell_type": "markdown",
   "id": "0358d012",
   "metadata": {
    "papermill": {
     "duration": 0.109499,
     "end_time": "2022-03-17T22:33:29.839353",
     "exception": false,
     "start_time": "2022-03-17T22:33:29.729854",
     "status": "completed"
    },
    "tags": []
   },
   "source": [
    "# Data Cleaning - age\n",
    "To answer our second question: Are younger employees resigning due to some kind of dissatisfaction? What about older employees?"
   ]
  },
  {
   "cell_type": "code",
   "execution_count": 60,
   "id": "7bd0f31c",
   "metadata": {
    "execution": {
     "iopub.execute_input": "2022-03-17T22:33:30.061956Z",
     "iopub.status.busy": "2022-03-17T22:33:30.061230Z",
     "iopub.status.idle": "2022-03-17T22:33:30.068419Z",
     "shell.execute_reply": "2022-03-17T22:33:30.068938Z",
     "shell.execute_reply.started": "2022-03-17T22:21:15.159697Z"
    },
    "papermill": {
     "duration": 0.121416,
     "end_time": "2022-03-17T22:33:30.069104",
     "exception": false,
     "start_time": "2022-03-17T22:33:29.947688",
     "status": "completed"
    },
    "tags": []
   },
   "outputs": [
    {
     "data": {
      "text/plain": [
       "51-55            71\n",
       "41-45            48\n",
       "41  45           45\n",
       "46-50            42\n",
       "36-40            41\n",
       "46  50           39\n",
       "26-30            35\n",
       "21  25           33\n",
       "36  40           32\n",
       "31  35           32\n",
       "26  30           32\n",
       "21-25            29\n",
       "56 or older      29\n",
       "31-35            29\n",
       "56-60            26\n",
       "61 or older      23\n",
       "20 or younger    10\n",
       "Name: age, dtype: int64"
      ]
     },
     "execution_count": 60,
     "metadata": {},
     "output_type": "execute_result"
    }
   ],
   "source": [
    "#appears to suffer from the same issue as institute_service\n",
    "combined_updated['age'].value_counts()"
   ]
  },
  {
   "cell_type": "code",
   "execution_count": 61,
   "id": "1b6bf997",
   "metadata": {
    "execution": {
     "iopub.execute_input": "2022-03-17T22:33:30.291120Z",
     "iopub.status.busy": "2022-03-17T22:33:30.290477Z",
     "iopub.status.idle": "2022-03-17T22:33:30.299462Z",
     "shell.execute_reply": "2022-03-17T22:33:30.298815Z",
     "shell.execute_reply.started": "2022-03-17T22:21:15.170643Z"
    },
    "papermill": {
     "duration": 0.120668,
     "end_time": "2022-03-17T22:33:30.299610",
     "exception": false,
     "start_time": "2022-03-17T22:33:30.178942",
     "status": "completed"
    },
    "tags": []
   },
   "outputs": [],
   "source": [
    "pattern = r'([0-9]+)'\n",
    "\n",
    "combined_updated['age_years'] = combined_updated['age'].str.extract(pattern)\n",
    "combined_updated['age_years'] = combined_updated['age_years'].astype(float)"
   ]
  },
  {
   "cell_type": "code",
   "execution_count": 62,
   "id": "7de096db",
   "metadata": {
    "execution": {
     "iopub.execute_input": "2022-03-17T22:33:30.520339Z",
     "iopub.status.busy": "2022-03-17T22:33:30.519649Z",
     "iopub.status.idle": "2022-03-17T22:33:30.527694Z",
     "shell.execute_reply": "2022-03-17T22:33:30.528301Z",
     "shell.execute_reply.started": "2022-03-17T22:21:15.181294Z"
    },
    "papermill": {
     "duration": 0.120376,
     "end_time": "2022-03-17T22:33:30.528480",
     "exception": false,
     "start_time": "2022-03-17T22:33:30.408104",
     "status": "completed"
    },
    "tags": []
   },
   "outputs": [
    {
     "data": {
      "text/plain": [
       "41.0    93\n",
       "46.0    81\n",
       "36.0    73\n",
       "51.0    71\n",
       "26.0    67\n",
       "21.0    62\n",
       "31.0    61\n",
       "56.0    55\n",
       "61.0    23\n",
       "20.0    10\n",
       "Name: age_years, dtype: int64"
      ]
     },
     "execution_count": 62,
     "metadata": {},
     "output_type": "execute_result"
    }
   ],
   "source": [
    "#a rough estimation, as we don't have specific years\n",
    "combined_updated['age_years'].value_counts()"
   ]
  },
  {
   "cell_type": "markdown",
   "id": "01621a3a",
   "metadata": {
    "papermill": {
     "duration": 0.122087,
     "end_time": "2022-03-17T22:33:30.782212",
     "exception": false,
     "start_time": "2022-03-17T22:33:30.660125",
     "status": "completed"
    },
    "tags": []
   },
   "source": [
    "### Age bracket proposal\n",
    "\n",
    "- Young adult = >= 20 <= 30\n",
    "- Older adult = > 30 < 40\n",
    "- Middle aged = >= 40 <= 50\n",
    "- Senior = 51+"
   ]
  },
  {
   "cell_type": "code",
   "execution_count": 63,
   "id": "2dc39b3d",
   "metadata": {
    "execution": {
     "iopub.execute_input": "2022-03-17T22:33:31.006752Z",
     "iopub.status.busy": "2022-03-17T22:33:31.006053Z",
     "iopub.status.idle": "2022-03-17T22:33:31.011314Z",
     "shell.execute_reply": "2022-03-17T22:33:31.011909Z",
     "shell.execute_reply.started": "2022-03-17T22:21:15.196856Z"
    },
    "papermill": {
     "duration": 0.11776,
     "end_time": "2022-03-17T22:33:31.012083",
     "exception": false,
     "start_time": "2022-03-17T22:33:30.894323",
     "status": "completed"
    },
    "tags": []
   },
   "outputs": [],
   "source": [
    "def age_map(value):\n",
    "    if pd.isnull(value): #required, otherwise would return error of NaN and int unsupported for the operators\n",
    "        return np.nan\n",
    "    elif value <= 30:\n",
    "        return 'Young adult (less than 30 years old)'\n",
    "    elif value > 30 and value <= 40:\n",
    "        return 'Older adult (40 years old or less)'\n",
    "    elif value >= 40 and value <= 50:\n",
    "        return 'Middle aged (50 years old or less)'\n",
    "    elif value >= 51:\n",
    "        return 'Senior (51 and above)'"
   ]
  },
  {
   "cell_type": "code",
   "execution_count": 64,
   "id": "2e6747c4",
   "metadata": {
    "execution": {
     "iopub.execute_input": "2022-03-17T22:33:31.239543Z",
     "iopub.status.busy": "2022-03-17T22:33:31.238904Z",
     "iopub.status.idle": "2022-03-17T22:33:31.244564Z",
     "shell.execute_reply": "2022-03-17T22:33:31.245068Z",
     "shell.execute_reply.started": "2022-03-17T22:21:15.207255Z"
    },
    "papermill": {
     "duration": 0.121807,
     "end_time": "2022-03-17T22:33:31.245239",
     "exception": false,
     "start_time": "2022-03-17T22:33:31.123432",
     "status": "completed"
    },
    "tags": []
   },
   "outputs": [],
   "source": [
    "combined_updated['age_years_cat'] = combined_updated['age_years'].apply(age_map)"
   ]
  },
  {
   "cell_type": "code",
   "execution_count": 65,
   "id": "549b989d",
   "metadata": {
    "execution": {
     "iopub.execute_input": "2022-03-17T22:33:31.469245Z",
     "iopub.status.busy": "2022-03-17T22:33:31.468616Z",
     "iopub.status.idle": "2022-03-17T22:33:31.475368Z",
     "shell.execute_reply": "2022-03-17T22:33:31.475960Z",
     "shell.execute_reply.started": "2022-03-17T22:21:15.218735Z"
    },
    "papermill": {
     "duration": 0.120848,
     "end_time": "2022-03-17T22:33:31.476128",
     "exception": false,
     "start_time": "2022-03-17T22:33:31.355280",
     "status": "completed"
    },
    "tags": []
   },
   "outputs": [
    {
     "data": {
      "text/plain": [
       "Middle aged (50 years old or less)      174\n",
       "Senior (51 and above)                   149\n",
       "Young adult (less than 30 years old)    139\n",
       "Older adult (40 years old or less)      134\n",
       "Name: age_years_cat, dtype: int64"
      ]
     },
     "execution_count": 65,
     "metadata": {},
     "output_type": "execute_result"
    }
   ],
   "source": [
    "combined_updated['age_years_cat'].value_counts()"
   ]
  },
  {
   "cell_type": "markdown",
   "id": "fe23708b",
   "metadata": {
    "papermill": {
     "duration": 0.110077,
     "end_time": "2022-03-17T22:33:31.696589",
     "exception": false,
     "start_time": "2022-03-17T22:33:31.586512",
     "status": "completed"
    },
    "tags": []
   },
   "source": [
    "# Data Analysis\n",
    "\n",
    "As the dissatisfied column consists of Boolean values (True or False), I can use df.pivot_table(), as the boolean values are treated as integers, i.e. True = 1, False = 0\n",
    "- allows aggregation to calculate num. of people in each group"
   ]
  },
  {
   "cell_type": "code",
   "execution_count": 66,
   "id": "78fe63d2",
   "metadata": {
    "execution": {
     "iopub.execute_input": "2022-03-17T22:33:31.922730Z",
     "iopub.status.busy": "2022-03-17T22:33:31.922065Z",
     "iopub.status.idle": "2022-03-17T22:33:31.928920Z",
     "shell.execute_reply": "2022-03-17T22:33:31.929481Z",
     "shell.execute_reply.started": "2022-03-17T22:21:15.233452Z"
    },
    "papermill": {
     "duration": 0.119938,
     "end_time": "2022-03-17T22:33:31.929649",
     "exception": false,
     "start_time": "2022-03-17T22:33:31.809711",
     "status": "completed"
    },
    "tags": []
   },
   "outputs": [
    {
     "data": {
      "text/plain": [
       "False    403\n",
       "True     248\n",
       "Name: Dissatisfied, dtype: int64"
      ]
     },
     "execution_count": 66,
     "metadata": {},
     "output_type": "execute_result"
    }
   ],
   "source": [
    "#confirming number of boolean values\n",
    "combined_updated['Dissatisfied'].value_counts(dropna=False)"
   ]
  },
  {
   "cell_type": "code",
   "execution_count": 67,
   "id": "097d0c90",
   "metadata": {
    "execution": {
     "iopub.execute_input": "2022-03-17T22:33:32.155957Z",
     "iopub.status.busy": "2022-03-17T22:33:32.155220Z",
     "iopub.status.idle": "2022-03-17T22:33:32.159743Z",
     "shell.execute_reply": "2022-03-17T22:33:32.160252Z",
     "shell.execute_reply.started": "2022-03-17T22:21:15.246346Z"
    },
    "papermill": {
     "duration": 0.119913,
     "end_time": "2022-03-17T22:33:32.160443",
     "exception": false,
     "start_time": "2022-03-17T22:33:32.040530",
     "status": "completed"
    },
    "tags": []
   },
   "outputs": [],
   "source": [
    "#imputation - i'll fill missing values with reasonable estimates\n",
    "#now, i'll replace the NaN values with False values - providing it doesn't affect the overall analysis\n",
    "#otherwise, might be worth dropping. but i'll go ahead with this for now\n",
    "\n",
    "combined_updated['Dissatisfied'] = combined_updated['Dissatisfied'].fillna(value=False)"
   ]
  },
  {
   "cell_type": "code",
   "execution_count": 68,
   "id": "12223eee",
   "metadata": {
    "execution": {
     "iopub.execute_input": "2022-03-17T22:33:32.385467Z",
     "iopub.status.busy": "2022-03-17T22:33:32.384764Z",
     "iopub.status.idle": "2022-03-17T22:33:32.392187Z",
     "shell.execute_reply": "2022-03-17T22:33:32.392743Z",
     "shell.execute_reply.started": "2022-03-17T22:21:15.257021Z"
    },
    "papermill": {
     "duration": 0.122635,
     "end_time": "2022-03-17T22:33:32.392921",
     "exception": false,
     "start_time": "2022-03-17T22:33:32.270286",
     "status": "completed"
    },
    "tags": []
   },
   "outputs": [
    {
     "data": {
      "text/plain": [
       "False    403\n",
       "True     248\n",
       "Name: Dissatisfied, dtype: int64"
      ]
     },
     "execution_count": 68,
     "metadata": {},
     "output_type": "execute_result"
    }
   ],
   "source": [
    "combined_updated['Dissatisfied'].value_counts(dropna=False)"
   ]
  },
  {
   "cell_type": "code",
   "execution_count": 69,
   "id": "012088c0",
   "metadata": {
    "execution": {
     "iopub.execute_input": "2022-03-17T22:33:32.615609Z",
     "iopub.status.busy": "2022-03-17T22:33:32.614962Z",
     "iopub.status.idle": "2022-03-17T22:33:32.828239Z",
     "shell.execute_reply": "2022-03-17T22:33:32.828760Z",
     "shell.execute_reply.started": "2022-03-17T22:21:15.278505Z"
    },
    "papermill": {
     "duration": 0.326247,
     "end_time": "2022-03-17T22:33:32.828923",
     "exception": false,
     "start_time": "2022-03-17T22:33:32.502676",
     "status": "completed"
    },
    "tags": []
   },
   "outputs": [
    {
     "data": {
      "image/png": "[encoded data removed]",
      "text/plain": [
       "<Figure size 432x288 with 1 Axes>"
      ]
     },
     "metadata": {
      "needs_background": "light"
     },
     "output_type": "display_data"
    }
   ],
   "source": [
    "#plotting first the service length\n",
    "dissatisfaction_percent_service = combined_updated.pivot_table(values='Dissatisfied', index='service_cat')\n",
    "                                                       \n",
    "dissatisfaction_percent_service.plot(kind='barh')\n",
    "plt.title('Dissatisfied respondents by service length')\n",
    "plt.show()"
   ]
  },
  {
   "cell_type": "code",
   "execution_count": 70,
   "id": "0f7e88b9",
   "metadata": {
    "execution": {
     "iopub.execute_input": "2022-03-17T22:33:33.081613Z",
     "iopub.status.busy": "2022-03-17T22:33:33.066584Z",
     "iopub.status.idle": "2022-03-17T22:33:33.282070Z",
     "shell.execute_reply": "2022-03-17T22:33:33.281537Z",
     "shell.execute_reply.started": "2022-03-17T22:21:15.488921Z"
    },
    "papermill": {
     "duration": 0.341818,
     "end_time": "2022-03-17T22:33:33.282204",
     "exception": false,
     "start_time": "2022-03-17T22:33:32.940386",
     "status": "completed"
    },
    "tags": []
   },
   "outputs": [
    {
     "data": {
      "image/png": "[encoded data removed]",
      "text/plain": [
       "<Figure size 432x288 with 1 Axes>"
      ]
     },
     "metadata": {
      "needs_background": "light"
     },
     "output_type": "display_data"
    }
   ],
   "source": [
    "#by age\n",
    "dissatisfaction_percent_age = combined_updated.pivot_table(values='Dissatisfied', index='age_years_cat')\n",
    "                                                       \n",
    "dissatisfaction_percent_age.plot(kind='barh')\n",
    "plt.title('Dissatisfied respondents by age group')\n",
    "plt.show()"
   ]
  },
  {
   "cell_type": "markdown",
   "id": "bbee9667",
   "metadata": {
    "papermill": {
     "duration": 0.112505,
     "end_time": "2022-03-17T22:33:33.509121",
     "exception": false,
     "start_time": "2022-03-17T22:33:33.396616",
     "status": "completed"
    },
    "tags": []
   },
   "source": [
    "# Final Observations\n",
    "\n",
    "From the analysis above, we can infer that employees with a service length over 6 years generally have a greater chance of resigning due to job dissatisfaction. Newer employees with a service length of less than 3 years were the least likely to leave due to reasons of job dissatisfaction.\n",
    "\n",
    "In terms of age, those falling within the senior (51+) category were more likely to respond as dissatisfied. However, the discrepancy here is less significant than in the service length. This most likely shows a stronger correlation between job dissatisfaction and service length than with how old the respondent was. "
   ]
  },
  {
   "cell_type": "code",
   "execution_count": null,
   "id": "910923ac",
   "metadata": {
    "papermill": {
     "duration": 0.112766,
     "end_time": "2022-03-17T22:33:33.734721",
     "exception": false,
     "start_time": "2022-03-17T22:33:33.621955",
     "status": "completed"
    },
    "tags": []
   },
   "outputs": [],
   "source": []
  }
 ],
 "metadata": {
  "kernelspec": {
   "display_name": "Python 3",
   "language": "python",
   "name": "python3"
  },
  "language_info": {
   "codemirror_mode": {
    "name": "ipython",
    "version": 3
   },
   "file_extension": ".py",
   "mimetype": "text/x-python",
   "name": "python",
   "nbconvert_exporter": "python",
   "pygments_lexer": "ipython3",
   "version": "3.7.12"
  },
  "papermill": {
   "default_parameters": {},
   "duration": 34.726939,
   "end_time": "2022-03-17T22:33:34.558998",
   "environment_variables": {},
   "exception": null,
   "input_path": "__notebook__.ipynb",
   "output_path": "__notebook__.ipynb",
   "parameters": {},
   "start_time": "2022-03-17T22:32:59.832059",
   "version": "2.3.3"
  }
 },
 "nbformat": 4,
 "nbformat_minor": 5
}
