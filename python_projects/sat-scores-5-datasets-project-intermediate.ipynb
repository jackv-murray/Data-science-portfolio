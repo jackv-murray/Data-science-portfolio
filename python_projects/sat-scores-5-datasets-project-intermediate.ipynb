{
 "cells": [
  {
   "cell_type": "markdown",
   "id": "1dd81bf5",
   "metadata": {
    "papermill": {
     "duration": 0.04481,
     "end_time": "2022-03-26T22:02:04.424000",
     "exception": false,
     "start_time": "2022-03-26T22:02:04.379190",
     "status": "completed"
    },
    "tags": []
   },
   "source": [
    "# Introduction \n",
    "A complete data-cleaning walkthrough for multiple datasets concerning American SAT scores in New York City (NYC). This is an ideal dataset as NYC is a very diverse and economically fractured city, with many impoverished boroughs that you might expect to underperform on SAT tests. I'll continue to filter by gender and race to identify where the inequalities lie.\n",
    "\n",
    "**Aims:** demonstrate data cleaning techniques, combining multiple datasets and analysing/visualising data to draw conclusions.\n",
    "\n",
    "**Dataset link:**  [Main dataset](https://data.cityofnewyork.us/Education/2012-SAT-Results/f9bf-2cp4)\n",
    "- SAT scores for each high school in New York City\n",
    "\n",
    "\n",
    "**Additional dataset links**\n",
    "\n",
    "\n",
    "[School attendance](https://data.cityofnewyork.us/Education/School-Attendance-and-Enrollment-Statistics-by-Dis/7z8d-msnt)\n",
    " - Attendance information for each school in New York City\n",
    " \n",
    "[Class size](https://data.cityofnewyork.us/Education/2010-2011-Class-Size-School-level-detail/urz7-pzb3)\n",
    " - Information on class size for each school\n",
    " \n",
    "[AP test results](https://data.cityofnewyork.us/Education/AP-College-Board-2010-School-Level-Results/itfs-ms3e)\n",
    " - Advanced Placement (AP) exam results for each high school (passing an optional AP exam in a particular subject can earn a student college credit in that subject)\n",
    " \n",
    "[Graduation outcomes](https://data.cityofnewyork.us/Education/Graduation-Outcomes-Classes-Of-2005-2010-School-Le/vh2h-md7a)\n",
    " - The percentage of students who graduated and other outcome information\n",
    " \n",
    "[Demographics](https://data.cityofnewyork.us/Education/School-Demographics-and-Accountability-Snapshot-20/ihfw-zy9j)\n",
    " - Demographic information for each school\n",
    " \n",
    "[School survey](https://data.cityofnewyork.us/Education/NYC-School-Survey-2011/mnz3-dyi8)\n",
    " - Surveys of parents, teachers, and students at each school\n",
    " \n",
    " \n",
    " \n",
    " \n",
    " **Questions to answer:**\n",
    " Is the SAT test unfair and on what basis? race? gender? income? etc..."
   ]
  },
  {
   "cell_type": "markdown",
   "id": "3c9493f8",
   "metadata": {
    "papermill": {
     "duration": 0.053451,
     "end_time": "2022-03-26T22:02:04.526774",
     "exception": false,
     "start_time": "2022-03-26T22:02:04.473323",
     "status": "completed"
    },
    "tags": []
   },
   "source": [
    "# Read and exploring datasets"
   ]
  },
  {
   "cell_type": "code",
   "execution_count": 1,
   "id": "b13fbf0b",
   "metadata": {
    "execution": {
     "iopub.execute_input": "2022-03-26T22:02:04.641170Z",
     "iopub.status.busy": "2022-03-26T22:02:04.640568Z",
     "iopub.status.idle": "2022-03-26T22:02:04.966449Z",
     "shell.execute_reply": "2022-03-26T22:02:04.965368Z",
     "shell.execute_reply.started": "2022-03-26T21:54:44.899439Z"
    },
    "papermill": {
     "duration": 0.387192,
     "end_time": "2022-03-26T22:02:04.966671",
     "exception": false,
     "start_time": "2022-03-26T22:02:04.579479",
     "status": "completed"
    },
    "tags": []
   },
   "outputs": [],
   "source": [
    "import pandas as pd\n",
    "import numpy as np\n",
    "import re\n",
    "import matplotlib.pyplot as plt\n",
    "%matplotlib inline\n",
    "\n",
    "data_files = [\n",
    "    \"ap_2010.csv\",\n",
    "    \"class_size.csv\",\n",
    "    \"demographics.csv\",\n",
    "    \"graduation.csv\",\n",
    "    \"hs_directory.csv\",\n",
    "    \"sat_results.csv\"\n",
    "]\n",
    "\n",
    "data = {}\n",
    "\n",
    "for f in data_files:\n",
    "    d = pd.read_csv(\"../input/nyc-data-set-for-sat-scores-dq/{0}\".format(f))\n",
    "    data[f.replace(\".csv\", \"\")] = d"
   ]
  },
  {
   "cell_type": "code",
   "execution_count": 2,
   "id": "2755f5a9",
   "metadata": {
    "execution": {
     "iopub.execute_input": "2022-03-26T22:02:05.065339Z",
     "iopub.status.busy": "2022-03-26T22:02:05.064733Z",
     "iopub.status.idle": "2022-03-26T22:02:05.881618Z",
     "shell.execute_reply": "2022-03-26T22:02:05.882081Z",
     "shell.execute_reply.started": "2022-03-26T21:54:45.206305Z"
    },
    "papermill": {
     "duration": 0.86268,
     "end_time": "2022-03-26T22:02:05.882256",
     "exception": false,
     "start_time": "2022-03-26T22:02:05.019576",
     "status": "completed"
    },
    "tags": []
   },
   "outputs": [
    {
     "name": "stderr",
     "output_type": "stream",
     "text": [
      "/opt/conda/lib/python3.7/site-packages/ipykernel_launcher.py:6: PerformanceWarning: DataFrame is highly fragmented.  This is usually the result of calling `frame.insert` many times, which has poor performance.  Consider joining all columns at once using pd.concat(axis=1) instead.  To get a de-fragmented frame, use `newframe = frame.copy()`\n",
      "  \n"
     ]
    }
   ],
   "source": [
    "# read in the surveys\n",
    "all_survey = pd.read_csv(\"../input/nyc-data-set-for-sat-scores-dq/survey_all.txt\", delimiter=\"\\t\", encoding='windows-1252')\n",
    "d75_survey = pd.read_csv(\"../input/nyc-data-set-for-sat-scores-dq/survey_d75.txt\", delimiter=\"\\t\", encoding='windows-1252')\n",
    "survey = pd.concat([all_survey, d75_survey], axis=0)\n",
    "\n",
    "survey[\"DBN\"] = survey[\"dbn\"]\n",
    "\n",
    "survey_fields = [\n",
    "    \"DBN\", \n",
    "    \"rr_s\", \n",
    "    \"rr_t\", \n",
    "    \"rr_p\", \n",
    "    \"N_s\", \n",
    "    \"N_t\", \n",
    "    \"N_p\", \n",
    "    \"saf_p_11\", \n",
    "    \"com_p_11\", \n",
    "    \"eng_p_11\", \n",
    "    \"aca_p_11\", \n",
    "    \"saf_t_11\", \n",
    "    \"com_t_11\", \n",
    "    \"eng_t_11\", \n",
    "    \"aca_t_11\", \n",
    "    \"saf_s_11\", \n",
    "    \"com_s_11\", \n",
    "    \"eng_s_11\", \n",
    "    \"aca_s_11\", \n",
    "    \"saf_tot_11\", \n",
    "    \"com_tot_11\", \n",
    "    \"eng_tot_11\", \n",
    "    \"aca_tot_11\",\n",
    "]\n",
    "survey = survey.loc[:,survey_fields]\n",
    "data[\"survey\"] = survey"
   ]
  },
  {
   "cell_type": "markdown",
   "id": "a251b843",
   "metadata": {
    "papermill": {
     "duration": 0.043136,
     "end_time": "2022-03-26T22:02:05.970706",
     "exception": false,
     "start_time": "2022-03-26T22:02:05.927570",
     "status": "completed"
    },
    "tags": []
   },
   "source": [
    "# Data cleaning - adding DBN columns\n",
    "DBN columns appear to be a unique ID for each school - each is unique in the SAT data. For those that are missing a DBN, i'll create one.\n",
    "- each DBN consists of the characters from 'CSD' column and 'SCHOOL CODE'\n",
    "- however, in the DBN column, they should be padded \n",
    "- i'll define a function and appy it to convert and create the unique DBNs for each row"
   ]
  },
  {
   "cell_type": "code",
   "execution_count": 3,
   "id": "dd55166b",
   "metadata": {
    "execution": {
     "iopub.execute_input": "2022-03-26T22:02:06.061503Z",
     "iopub.status.busy": "2022-03-26T22:02:06.060549Z",
     "iopub.status.idle": "2022-03-26T22:02:06.086275Z",
     "shell.execute_reply": "2022-03-26T22:02:06.086845Z",
     "shell.execute_reply.started": "2022-03-26T21:54:46.084311Z"
    },
    "papermill": {
     "duration": 0.072526,
     "end_time": "2022-03-26T22:02:06.087009",
     "exception": false,
     "start_time": "2022-03-26T22:02:06.014483",
     "status": "completed"
    },
    "tags": []
   },
   "outputs": [],
   "source": [
    "data[\"hs_directory\"][\"DBN\"] = data[\"hs_directory\"][\"dbn\"]\n",
    "\n",
    "def pad_csd(csd):\n",
    "    csd = str(csd)\n",
    "    if len(csd) == 1:\n",
    "         csd = csd.zfill(2)\n",
    "         return csd\n",
    "    elif len(csd) == 2:\n",
    "        return csd\n",
    "    \n",
    "data[\"class_size\"][\"padded_csd\"] = data[\"class_size\"][\"CSD\"].apply(pad_csd)\n",
    "data[\"class_size\"][\"DBN\"] = data[\"class_size\"][\"padded_csd\"] + data[\"class_size\"][\"SCHOOL CODE\"]"
   ]
  },
  {
   "cell_type": "markdown",
   "id": "6819c5db",
   "metadata": {
    "papermill": {
     "duration": 0.045186,
     "end_time": "2022-03-26T22:02:06.175869",
     "exception": false,
     "start_time": "2022-03-26T22:02:06.130683",
     "status": "completed"
    },
    "tags": []
   },
   "source": [
    "# Data cleaning - convert columns to numeric, finding geographic location\n",
    "In order to allow numeric calculations for the analysis, will need to convert from strings to numeric datatypes.\n",
    "\n",
    "**Geographic location**\n",
    "Also, I'll parse the lat. and lon. coordinates in order to find locate each school's borough location.\n",
    "\n",
    "At the moment, the location column currently looks like this:\n",
    "\n",
    "```1110 Boston Road\\nBronx, NY 10456\\n(40.8276026690005, -73.90447525699966)```\n",
    "\n",
    "I'll define two functions to extract both the lat. and lon. using regex and str.methods"
   ]
  },
  {
   "cell_type": "code",
   "execution_count": 4,
   "id": "abd7db06",
   "metadata": {
    "execution": {
     "iopub.execute_input": "2022-03-26T22:02:06.272839Z",
     "iopub.status.busy": "2022-03-26T22:02:06.271879Z",
     "iopub.status.idle": "2022-03-26T22:02:06.287395Z",
     "shell.execute_reply": "2022-03-26T22:02:06.287963Z",
     "shell.execute_reply.started": "2022-03-26T21:54:46.128466Z"
    },
    "papermill": {
     "duration": 0.065394,
     "end_time": "2022-03-26T22:02:06.288137",
     "exception": false,
     "start_time": "2022-03-26T22:02:06.222743",
     "status": "completed"
    },
    "tags": []
   },
   "outputs": [],
   "source": [
    "cols = ['SAT Math Avg. Score', 'SAT Critical Reading Avg. Score', 'SAT Writing Avg. Score']\n",
    "for c in cols:\n",
    "    data[\"sat_results\"][c] = pd.to_numeric(data[\"sat_results\"][c], errors=\"coerce\")\n",
    "\n",
    "data['sat_results']['sat_score'] = data['sat_results'][cols[0]] + data['sat_results'][cols[1]] + data['sat_results'][cols[2]]\n",
    "\n",
    "def latfind(x):\n",
    "    coords = re.findall(r\"\\(.+\\)\", x)\n",
    "    lat = coords[0].split(',')[0].replace('(', '') #index [0] as latitude comes first\n",
    "    return lat\n",
    "\n",
    "\n",
    "def lonfind(x):\n",
    "    coords = re.findall(r\"\\(.+\\)\", x)\n",
    "    lon = coords[-1].split(',')[-1].replace(')', '') #index [-1] as longitude comes last, replace ) as that appears at end of str this time\n",
    "    return lon\n",
    "\n",
    "data[\"hs_directory\"][\"lat\"] = data[\"hs_directory\"][\"Location 1\"].apply(latfind)\n",
    "data[\"hs_directory\"][\"lon\"] = data[\"hs_directory\"][\"Location 1\"].apply(lonfind)\n",
    "\n",
    "data[\"hs_directory\"][\"lat\"] = pd.to_numeric(data[\"hs_directory\"][\"lat\"], errors=\"coerce\")\n",
    "data[\"hs_directory\"][\"lon\"] = pd.to_numeric(data[\"hs_directory\"][\"lon\"], errors=\"coerce\")"
   ]
  },
  {
   "cell_type": "markdown",
   "id": "bf836e8b",
   "metadata": {
    "papermill": {
     "duration": 0.04741,
     "end_time": "2022-03-26T22:02:06.383157",
     "exception": false,
     "start_time": "2022-03-26T22:02:06.335747",
     "status": "completed"
    },
    "tags": []
   },
   "source": [
    "# Data cleaning - condense datasets\n",
    "\n",
    "**class_size**\n",
    "\n",
    "Focusing on the class_size dataset, there are many DBN duplicates. Exploring the dataset shows that this is because there are multiple values for the grade, program type, coresubject and core course. Looking at the unique values for grades gives us:\n",
    "\n",
    "```\n",
    "array(['0K', '01', '02', '03', '04', '05', '0K-09', nan, '06', '07', '08', 'MS Core', '09-12', '09'], dtype=object)\n",
    "```\n",
    "As we're exploring high school data, according to [Wiki](https://en.wikipedia.org/wiki/Education_in_the_United_States), grades 9 through 12 are high school grades. Therefore, we only want data related to those grades. I'll also filter the dataset to include only 'GEN ED' program type, as it is the most common program.\n",
    "- filter data by 09 - 12 grades\n",
    "- filter data by GEN ED program type\n",
    "\n",
    "There will still be duplicate DBNS after this, due to ```CORE COURSE (MS CORE and 9-12 ONLY)``` and `CORE SUBJECT (MS CORE and 9-12 ONLY columns`, which have unique values pertaining to different class types e.g. English, Maths, etc.\n",
    "- i'll take the average across every single class using `.agg(np.mean)`, then group by DBN\n",
    "\n",
    "Now, the only thing left to clean is the `schoolyear` column. I'll simply filter by the most current year within the dataset, which is 2011-2012. \n",
    "\n",
    "**graduation dataset**\n",
    "\n",
    "Both `Demographic` and `Cohort` prevent DBN from being unique. Again, i'll take the most current year for `Cohort` and for `Demographic`, i'll filter by total cohort."
   ]
  },
  {
   "cell_type": "code",
   "execution_count": 5,
   "id": "536a69c6",
   "metadata": {
    "execution": {
     "iopub.execute_input": "2022-03-26T22:02:06.496728Z",
     "iopub.status.busy": "2022-03-26T22:02:06.495813Z",
     "iopub.status.idle": "2022-03-26T22:02:06.537181Z",
     "shell.execute_reply": "2022-03-26T22:02:06.536642Z",
     "shell.execute_reply.started": "2022-03-26T21:54:46.153179Z"
    },
    "papermill": {
     "duration": 0.09961,
     "end_time": "2022-03-26T22:02:06.537347",
     "exception": false,
     "start_time": "2022-03-26T22:02:06.437737",
     "status": "completed"
    },
    "tags": []
   },
   "outputs": [],
   "source": [
    "class_size = data[\"class_size\"]\n",
    "class_size = class_size[class_size[\"GRADE \"] == \"09-12\"]\n",
    "class_size = class_size[class_size[\"PROGRAM TYPE\"] == \"GEN ED\"]\n",
    "\n",
    "class_size = class_size.groupby(\"DBN\").agg(np.mean)\n",
    "class_size.reset_index(inplace=True)\n",
    "data[\"class_size\"] = class_size\n",
    "\n",
    "data[\"demographics\"] = data[\"demographics\"][data[\"demographics\"][\"schoolyear\"] == 20112012]\n",
    "\n",
    "data[\"graduation\"] = data[\"graduation\"][data[\"graduation\"][\"Cohort\"] == \"2006\"]\n",
    "data[\"graduation\"] = data[\"graduation\"][data[\"graduation\"][\"Demographic\"] == \"Total Cohort\"]"
   ]
  },
  {
   "cell_type": "code",
   "execution_count": 6,
   "id": "aa73a7d1",
   "metadata": {
    "execution": {
     "iopub.execute_input": "2022-03-26T22:02:06.645028Z",
     "iopub.status.busy": "2022-03-26T22:02:06.644055Z",
     "iopub.status.idle": "2022-03-26T22:02:06.648043Z",
     "shell.execute_reply": "2022-03-26T22:02:06.648637Z",
     "shell.execute_reply.started": "2022-03-26T21:54:46.216021Z"
    },
    "papermill": {
     "duration": 0.056827,
     "end_time": "2022-03-26T22:02:06.648795",
     "exception": false,
     "start_time": "2022-03-26T22:02:06.591968",
     "status": "completed"
    },
    "tags": []
   },
   "outputs": [],
   "source": [
    "#before combining, will need to convert ap scores to numeric in order to allow analysis\n",
    "cols = ['AP Test Takers ', 'Total Exams Taken', 'Number of Exams with scores 3 4 or 5']\n",
    "\n",
    "for col in cols:\n",
    "    data[\"ap_2010\"][col] = pd.to_numeric(data[\"ap_2010\"][col], errors=\"coerce\")"
   ]
  },
  {
   "cell_type": "markdown",
   "id": "1a745ae7",
   "metadata": {
    "papermill": {
     "duration": 0.043369,
     "end_time": "2022-03-26T22:02:06.736822",
     "exception": false,
     "start_time": "2022-03-26T22:02:06.693453",
     "status": "completed"
    },
    "tags": []
   },
   "source": [
    "# Combining the datasets\n",
    "**Merge strategy**\n",
    "- ap_2010 and grauation have missing DBN values\n",
    "- will use a left join, in order to preserve as many rows from sat_results and minimise null values\n",
    "- for `\"class_size\", \"demographics\", \"survey\", \"hs_directory\"`, these contain values required for the analysis, so will use an inner join\n",
    "\n",
    "The inner merge will result in fewer rows for sat_results as some DBN values that existed in sat_results couldn't be found in the other datasets - but will still provide enough data to establish some correlations with.\n",
    "\n",
    "After the merge, they'll be some missing data, which we'll fill with the mean of each column. In cases of non-numeric data, we'll further fill with '0'."
   ]
  },
  {
   "cell_type": "code",
   "execution_count": 7,
   "id": "1210404e",
   "metadata": {
    "execution": {
     "iopub.execute_input": "2022-03-26T22:02:06.828391Z",
     "iopub.status.busy": "2022-03-26T22:02:06.827347Z",
     "iopub.status.idle": "2022-03-26T22:02:06.935350Z",
     "shell.execute_reply": "2022-03-26T22:02:06.936086Z",
     "shell.execute_reply.started": "2022-03-26T21:54:46.226165Z"
    },
    "papermill": {
     "duration": 0.156612,
     "end_time": "2022-03-26T22:02:06.936340",
     "exception": false,
     "start_time": "2022-03-26T22:02:06.779728",
     "status": "completed"
    },
    "tags": []
   },
   "outputs": [
    {
     "name": "stderr",
     "output_type": "stream",
     "text": [
      "/opt/conda/lib/python3.7/site-packages/ipykernel_launcher.py:11: FutureWarning: Dropping of nuisance columns in DataFrame reductions (with 'numeric_only=None') is deprecated; in a future version this will raise TypeError.  Select only valid columns before calling the reduction.\n",
      "  # This is added back by InteractiveShellApp.init_path()\n"
     ]
    }
   ],
   "source": [
    "combined = data[\"sat_results\"]\n",
    "\n",
    "combined = combined.merge(data[\"ap_2010\"], on=\"DBN\", how=\"left\")\n",
    "combined = combined.merge(data[\"graduation\"], on=\"DBN\", how=\"left\")\n",
    "\n",
    "to_merge = [\"class_size\", \"demographics\", \"survey\", \"hs_directory\"]\n",
    "\n",
    "for m in to_merge:\n",
    "    combined = combined.merge(data[m], on=\"DBN\", how=\"inner\")\n",
    "\n",
    "combined = combined.fillna(combined.mean())\n",
    "combined = combined.fillna(0)"
   ]
  },
  {
   "cell_type": "markdown",
   "id": "7fec8b18",
   "metadata": {
    "papermill": {
     "duration": 0.047166,
     "end_time": "2022-03-26T22:02:07.030666",
     "exception": false,
     "start_time": "2022-03-26T22:02:06.983500",
     "status": "completed"
    },
    "tags": []
   },
   "source": [
    "# Data cleaning - adding additional columns to help with analysis\n",
    "\n",
    "**School district**\n",
    "I'll create another column to hold each school district, which is just the first two characters from the `DBN` column. This might help with the analysis as we can see differences across school districts."
   ]
  },
  {
   "cell_type": "code",
   "execution_count": 8,
   "id": "ab2f0e77",
   "metadata": {
    "execution": {
     "iopub.execute_input": "2022-03-26T22:02:07.127967Z",
     "iopub.status.busy": "2022-03-26T22:02:07.127377Z",
     "iopub.status.idle": "2022-03-26T22:02:07.133193Z",
     "shell.execute_reply": "2022-03-26T22:02:07.133696Z",
     "shell.execute_reply.started": "2022-03-26T21:54:46.373708Z"
    },
    "papermill": {
     "duration": 0.056845,
     "end_time": "2022-03-26T22:02:07.133856",
     "exception": false,
     "start_time": "2022-03-26T22:02:07.077011",
     "status": "completed"
    },
    "tags": []
   },
   "outputs": [],
   "source": [
    "def first_two(char):\n",
    "    return char[0:2]\n",
    "\n",
    "combined['school_dist'] = combined['DBN'].apply(first_two)"
   ]
  },
  {
   "cell_type": "markdown",
   "id": "0ab294a1",
   "metadata": {
    "papermill": {
     "duration": 0.04356,
     "end_time": "2022-03-26T22:02:07.222290",
     "exception": false,
     "start_time": "2022-03-26T22:02:07.178730",
     "status": "completed"
    },
    "tags": []
   },
   "source": [
    "# Data analysis - find correlations\n",
    "In order to establish the factors that influence SAT scores, i'll create calculate the correlations with `sat_score` and and plot them out. "
   ]
  },
  {
   "cell_type": "code",
   "execution_count": 9,
   "id": "d70745f1",
   "metadata": {
    "execution": {
     "iopub.execute_input": "2022-03-26T22:02:07.312843Z",
     "iopub.status.busy": "2022-03-26T22:02:07.312208Z",
     "iopub.status.idle": "2022-03-26T22:02:07.324094Z",
     "shell.execute_reply": "2022-03-26T22:02:07.324785Z",
     "shell.execute_reply.started": "2022-03-26T21:54:46.385412Z"
    },
    "papermill": {
     "duration": 0.059103,
     "end_time": "2022-03-26T22:02:07.325052",
     "exception": false,
     "start_time": "2022-03-26T22:02:07.265949",
     "status": "completed"
    },
    "tags": []
   },
   "outputs": [
    {
     "name": "stdout",
     "output_type": "stream",
     "text": [
      "SAT Critical Reading Avg. Score    0.986820\n",
      "SAT Math Avg. Score                0.972643\n",
      "SAT Writing Avg. Score             0.987771\n",
      "sat_score                          1.000000\n",
      "AP Test Takers                     0.523140\n",
      "                                     ...   \n",
      "priority08                              NaN\n",
      "priority09                              NaN\n",
      "priority10                              NaN\n",
      "lat                               -0.121029\n",
      "lon                               -0.132222\n",
      "Name: sat_score, Length: 67, dtype: float64\n"
     ]
    }
   ],
   "source": [
    "correlations = combined.corr()\n",
    "correlations = correlations[\"sat_score\"]\n",
    "print(correlations)"
   ]
  },
  {
   "cell_type": "markdown",
   "id": "95046ecd",
   "metadata": {
    "papermill": {
     "duration": 0.043586,
     "end_time": "2022-03-26T22:02:07.413844",
     "exception": false,
     "start_time": "2022-03-26T22:02:07.370258",
     "status": "completed"
    },
    "tags": []
   },
   "source": [
    "# Plotting survey correlations"
   ]
  },
  {
   "cell_type": "code",
   "execution_count": 10,
   "id": "9fcc3b9c",
   "metadata": {
    "execution": {
     "iopub.execute_input": "2022-03-26T22:02:07.507185Z",
     "iopub.status.busy": "2022-03-26T22:02:07.506631Z",
     "iopub.status.idle": "2022-03-26T22:02:07.509237Z",
     "shell.execute_reply": "2022-03-26T22:02:07.508798Z",
     "shell.execute_reply.started": "2022-03-26T21:54:46.411278Z"
    },
    "papermill": {
     "duration": 0.051263,
     "end_time": "2022-03-26T22:02:07.509407",
     "exception": false,
     "start_time": "2022-03-26T22:02:07.458144",
     "status": "completed"
    },
    "tags": []
   },
   "outputs": [],
   "source": [
    "# Remove DBN since it's a unique identifier, not a useful numerical value for correlation.\n",
    "survey_fields.remove(\"DBN\")"
   ]
  },
  {
   "cell_type": "code",
   "execution_count": 11,
   "id": "3a46336e",
   "metadata": {
    "execution": {
     "iopub.execute_input": "2022-03-26T22:02:07.605766Z",
     "iopub.status.busy": "2022-03-26T22:02:07.605098Z",
     "iopub.status.idle": "2022-03-26T22:02:07.997823Z",
     "shell.execute_reply": "2022-03-26T22:02:07.998268Z",
     "shell.execute_reply.started": "2022-03-26T21:54:46.418963Z"
    },
    "papermill": {
     "duration": 0.443163,
     "end_time": "2022-03-26T22:02:07.998442",
     "exception": false,
     "start_time": "2022-03-26T22:02:07.555279",
     "status": "completed"
    },
    "tags": []
   },
   "outputs": [
    {
     "data": {
      "image/png": "[encoded data removed]",
      "text/plain": [
       "<Figure size 432x288 with 1 Axes>"
      ]
     },
     "metadata": {
      "needs_background": "light"
     },
     "output_type": "display_data"
    }
   ],
   "source": [
    "#checking survey fields - correlations between them and sat_score\n",
    "correlations_survey = combined.corr()['sat_score'] #so correlation is between sat_score only\n",
    "correlations_survey = correlations_survey[survey_fields]\n",
    "\n",
    "\n",
    "#highlighting 'interesting' correlations\n",
    "#highlighting those correlations that are above 0.25 (or below, but can see there are none)\n",
    "colors = [\"red\" if i > 0.25 else \"grey\" for i in correlations_survey]\n",
    "\n",
    "correlations_survey.plot.barh(color=colors)\n",
    "\n",
    "plt.show()"
   ]
  },
  {
   "cell_type": "markdown",
   "id": "66ddbb14",
   "metadata": {
    "papermill": {
     "duration": 0.044738,
     "end_time": "2022-03-26T22:02:08.087935",
     "exception": false,
     "start_time": "2022-03-26T22:02:08.043197",
     "status": "completed"
    },
    "tags": []
   },
   "source": [
    "### Observations - survey correlations\n",
    "**highest correlations with sat score**\n",
    "- saf_tot_10 = Safety and Respect total score\n",
    "- saf_t_11 = Safety and Respect (teacher)\n",
    "- saf_s_11 = Safety and Respect (student)\n",
    "- N_s = Number of student respondents\n",
    "- N_t = Number of teacher respondents\n",
    "- N_p = Number of parent respondents\n",
    "\n",
    "\n",
    "Safety and respect perception are strongly correlated with sat_score, presumably because a safter teaching environment allows students to learn better. \n",
    "\n",
    "Respondents response rates (percentage) also correlate strongly with sat_score, presumably because the more students that respond at a school for these surveys might care more about their studies (if we assume response to survey = interest in their studies).\n"
   ]
  },
  {
   "cell_type": "markdown",
   "id": "0e62b91e",
   "metadata": {
    "papermill": {
     "duration": 0.044783,
     "end_time": "2022-03-26T22:02:08.178592",
     "exception": false,
     "start_time": "2022-03-26T22:02:08.133809",
     "status": "completed"
    },
    "tags": []
   },
   "source": [
    "# Data analysis - safety and respect perception\n",
    "From the above observations, investigating the relationship between safety at school and sat scores seems a logical option."
   ]
  },
  {
   "cell_type": "code",
   "execution_count": 12,
   "id": "cc922add",
   "metadata": {
    "execution": {
     "iopub.execute_input": "2022-03-26T22:02:08.273544Z",
     "iopub.status.busy": "2022-03-26T22:02:08.272967Z",
     "iopub.status.idle": "2022-03-26T22:02:08.489127Z",
     "shell.execute_reply": "2022-03-26T22:02:08.489590Z",
     "shell.execute_reply.started": "2022-03-26T21:54:46.740822Z"
    },
    "papermill": {
     "duration": 0.265877,
     "end_time": "2022-03-26T22:02:08.489760",
     "exception": false,
     "start_time": "2022-03-26T22:02:08.223883",
     "status": "completed"
    },
    "tags": []
   },
   "outputs": [
    {
     "data": {
      "image/png": "[encoded data removed]",
      "text/plain": [
       "<Figure size 432x288 with 1 Axes>"
      ]
     },
     "metadata": {
      "needs_background": "light"
     },
     "output_type": "display_data"
    }
   ],
   "source": [
    "#scatter plot to examine relationship between student safety and sat_score\n",
    "combined.plot.scatter(x='saf_s_11', y='sat_score')\n",
    "plt.show()"
   ]
  },
  {
   "cell_type": "code",
   "execution_count": 13,
   "id": "ae3ca574",
   "metadata": {
    "execution": {
     "iopub.execute_input": "2022-03-26T22:02:08.586274Z",
     "iopub.status.busy": "2022-03-26T22:02:08.585692Z",
     "iopub.status.idle": "2022-03-26T22:02:08.594244Z",
     "shell.execute_reply": "2022-03-26T22:02:08.594752Z",
     "shell.execute_reply.started": "2022-03-26T21:54:46.999790Z"
    },
    "papermill": {
     "duration": 0.058441,
     "end_time": "2022-03-26T22:02:08.594923",
     "exception": false,
     "start_time": "2022-03-26T22:02:08.536482",
     "status": "completed"
    },
    "tags": []
   },
   "outputs": [],
   "source": [
    "#computing average safety scores for each borough - safety by geographic area\n",
    "safety = combined.groupby('boro').agg(np.mean)\n"
   ]
  },
  {
   "cell_type": "code",
   "execution_count": 14,
   "id": "cd6ceef4",
   "metadata": {
    "execution": {
     "iopub.execute_input": "2022-03-26T22:02:08.689464Z",
     "iopub.status.busy": "2022-03-26T22:02:08.688835Z",
     "iopub.status.idle": "2022-03-26T22:02:08.695038Z",
     "shell.execute_reply": "2022-03-26T22:02:08.694476Z",
     "shell.execute_reply.started": "2022-03-26T21:54:47.017503Z"
    },
    "papermill": {
     "duration": 0.054292,
     "end_time": "2022-03-26T22:02:08.695166",
     "exception": false,
     "start_time": "2022-03-26T22:02:08.640874",
     "status": "completed"
    },
    "tags": []
   },
   "outputs": [
    {
     "name": "stdout",
     "output_type": "stream",
     "text": [
      "boro\n",
      "Bronx            6.606577\n",
      "Brooklyn         6.370755\n",
      "Manhattan        6.831370\n",
      "Queens           6.721875\n",
      "Staten Island    6.530000\n",
      "Name: saf_s_11, dtype: float64\n"
     ]
    }
   ],
   "source": [
    "#student perception\n",
    "print(safety['saf_s_11'])"
   ]
  },
  {
   "cell_type": "code",
   "execution_count": 15,
   "id": "d84ace48",
   "metadata": {
    "execution": {
     "iopub.execute_input": "2022-03-26T22:02:08.791276Z",
     "iopub.status.busy": "2022-03-26T22:02:08.790410Z",
     "iopub.status.idle": "2022-03-26T22:02:08.796776Z",
     "shell.execute_reply": "2022-03-26T22:02:08.796277Z",
     "shell.execute_reply.started": "2022-03-26T21:54:47.030690Z"
    },
    "papermill": {
     "duration": 0.055151,
     "end_time": "2022-03-26T22:02:08.796916",
     "exception": false,
     "start_time": "2022-03-26T22:02:08.741765",
     "status": "completed"
    },
    "tags": []
   },
   "outputs": [
    {
     "name": "stdout",
     "output_type": "stream",
     "text": [
      "boro\n",
      "Bronx            7.026882\n",
      "Brooklyn         6.985849\n",
      "Manhattan        7.287778\n",
      "Queens           7.365625\n",
      "Staten Island    7.210000\n",
      "Name: saf_t_11, dtype: float64\n"
     ]
    }
   ],
   "source": [
    "#teacher perception\n",
    "print(safety['saf_t_11'])"
   ]
  },
  {
   "cell_type": "markdown",
   "id": "4073aadf",
   "metadata": {
    "papermill": {
     "duration": 0.045581,
     "end_time": "2022-03-26T22:02:08.889056",
     "exception": false,
     "start_time": "2022-03-26T22:02:08.843475",
     "status": "completed"
    },
    "tags": []
   },
   "source": [
    "### Observations - safety perception\n",
    "- in general, teachers perceive schools in their geographic area as safer than students\n",
    "- Brooklyn is rated lower in safety for both teachers and students\n",
    "- Queens and Manhattan are pereceived as the safety geographic areas, by both students and teachers\n",
    "\n",
    "The correlation as seen in the scatter plot is not strong - some school have high sat scores and average safety perception. This is a general trend seen in the data. However, there are some that have very high safety perception but average and even sub 1200 sat scores."
   ]
  },
  {
   "cell_type": "markdown",
   "id": "7906199f",
   "metadata": {
    "papermill": {
     "duration": 0.047586,
     "end_time": "2022-03-26T22:02:08.982998",
     "exception": false,
     "start_time": "2022-03-26T22:02:08.935412",
     "status": "completed"
    },
    "tags": []
   },
   "source": [
    "# Data analysis - racial inequalities\n",
    "In order to explore any potential racial unfairness in SAT scores, i'll focus on the following columns:\n",
    "- `white_per`\n",
    "- `asian_per`\n",
    "- `black_per`\n",
    "- `hispanic_per`\n",
    "\n",
    "I'll plot the correlations between these columns and `sat_score` to determine any differences."
   ]
  },
  {
   "cell_type": "code",
   "execution_count": 16,
   "id": "8f10dc94",
   "metadata": {
    "execution": {
     "iopub.execute_input": "2022-03-26T22:02:09.078502Z",
     "iopub.status.busy": "2022-03-26T22:02:09.077941Z",
     "iopub.status.idle": "2022-03-26T22:02:09.248378Z",
     "shell.execute_reply": "2022-03-26T22:02:09.247719Z",
     "shell.execute_reply.started": "2022-03-26T21:54:47.054798Z"
    },
    "papermill": {
     "duration": 0.219266,
     "end_time": "2022-03-26T22:02:09.248527",
     "exception": false,
     "start_time": "2022-03-26T22:02:09.029261",
     "status": "completed"
    },
    "tags": []
   },
   "outputs": [
    {
     "data": {
      "image/png": "[encoded data removed]",
      "text/plain": [
       "<Figure size 432x288 with 1 Axes>"
      ]
     },
     "metadata": {
      "needs_background": "light"
     },
     "output_type": "display_data"
    }
   ],
   "source": [
    "racial_cols = ['white_per', 'asian_per', 'black_per', 'hispanic_per']\n",
    "sat_corr = combined.corr()['sat_score']\n",
    "correlations_race = sat_corr[racial_cols]\n",
    "\n",
    "colors = [\"red\" if i < -0.25 else \"grey\" for i in correlations_race]\n",
    "\n",
    "correlations_race.plot.barh(color=colors)\n",
    "\n",
    "plt.show()"
   ]
  },
  {
   "cell_type": "markdown",
   "id": "089e3df4",
   "metadata": {
    "papermill": {
     "duration": 0.046803,
     "end_time": "2022-03-26T22:02:09.343069",
     "exception": false,
     "start_time": "2022-03-26T22:02:09.296266",
     "status": "completed"
    },
    "tags": []
   },
   "source": [
    "### Observations - racial differences\n",
    "From the above data, schools with a high percentage of hispanic or black students have a strong negative correlation with `sat_scores`. The correlation appears the strongest in `hispanic_per`\n",
    "\n",
    "following on from this, i'll explore:\n",
    "1. schools with low SAT scores and high values for `hispanic_per`\n",
    "2. schools with hispanic_per > 95%\n",
    "3. schools with hispanic_per < 10%, and high SAT scores"
   ]
  },
  {
   "cell_type": "code",
   "execution_count": 17,
   "id": "3563d330",
   "metadata": {
    "execution": {
     "iopub.execute_input": "2022-03-26T22:02:09.440914Z",
     "iopub.status.busy": "2022-03-26T22:02:09.440024Z",
     "iopub.status.idle": "2022-03-26T22:02:09.635072Z",
     "shell.execute_reply": "2022-03-26T22:02:09.635547Z",
     "shell.execute_reply.started": "2022-03-26T21:54:47.273214Z"
    },
    "papermill": {
     "duration": 0.245702,
     "end_time": "2022-03-26T22:02:09.635725",
     "exception": false,
     "start_time": "2022-03-26T22:02:09.390023",
     "status": "completed"
    },
    "tags": []
   },
   "outputs": [
    {
     "data": {
      "image/png": "[encoded data removed]",
      "text/plain": [
       "<Figure size 432x288 with 1 Axes>"
      ]
     },
     "metadata": {
      "needs_background": "light"
     },
     "output_type": "display_data"
    }
   ],
   "source": [
    "#scatter plot of hispanic_per vs sat_score\n",
    "combined.plot.scatter(x='hispanic_per', y='sat_score')\n",
    "plt.show()"
   ]
  },
  {
   "cell_type": "markdown",
   "id": "29d40063",
   "metadata": {
    "papermill": {
     "duration": 0.047283,
     "end_time": "2022-03-26T22:02:09.730819",
     "exception": false,
     "start_time": "2022-03-26T22:02:09.683536",
     "status": "completed"
    },
    "tags": []
   },
   "source": [
    "The above plot shows that the higher the percentage of hispanic students, the lower the SAT scores are. The scatter plot results are typical for a negative correlation."
   ]
  },
  {
   "cell_type": "code",
   "execution_count": 18,
   "id": "bd815384",
   "metadata": {
    "execution": {
     "iopub.execute_input": "2022-03-26T22:02:09.829823Z",
     "iopub.status.busy": "2022-03-26T22:02:09.828917Z",
     "iopub.status.idle": "2022-03-26T22:02:10.004688Z",
     "shell.execute_reply": "2022-03-26T22:02:10.005141Z",
     "shell.execute_reply.started": "2022-03-26T21:54:47.510528Z"
    },
    "papermill": {
     "duration": 0.226727,
     "end_time": "2022-03-26T22:02:10.005321",
     "exception": false,
     "start_time": "2022-03-26T22:02:09.778594",
     "status": "completed"
    },
    "tags": []
   },
   "outputs": [
    {
     "data": {
      "image/png": "[encoded data removed]",
      "text/plain": [
       "<Figure size 432x288 with 1 Axes>"
      ]
     },
     "metadata": {
      "needs_background": "light"
     },
     "output_type": "display_data"
    }
   ],
   "source": [
    "#exploring schools with hispanic populations > 95%\n",
    "high_hispanic = combined[combined['hispanic_per'] > 95]\n",
    "high_hispanic['sat_score'].plot.barh()\n",
    "plt.show()\n"
   ]
  },
  {
   "cell_type": "code",
   "execution_count": 19,
   "id": "6ddb50ae",
   "metadata": {
    "execution": {
     "iopub.execute_input": "2022-03-26T22:02:10.106737Z",
     "iopub.status.busy": "2022-03-26T22:02:10.105861Z",
     "iopub.status.idle": "2022-03-26T22:02:10.111243Z",
     "shell.execute_reply": "2022-03-26T22:02:10.111780Z",
     "shell.execute_reply.started": "2022-03-26T21:54:47.738316Z"
    },
    "papermill": {
     "duration": 0.057944,
     "end_time": "2022-03-26T22:02:10.111953",
     "exception": false,
     "start_time": "2022-03-26T22:02:10.054009",
     "status": "completed"
    },
    "tags": []
   },
   "outputs": [
    {
     "name": "stdout",
     "output_type": "stream",
     "text": [
      "44                         MANHATTAN BRIDGES HIGH SCHOOL\n",
      "82      WASHINGTON HEIGHTS EXPEDITIONARY LEARNING SCHOOL\n",
      "89     GREGORIO LUPERON HIGH SCHOOL FOR SCIENCE AND M...\n",
      "125                  ACADEMY FOR LANGUAGE AND TECHNOLOGY\n",
      "141                INTERNATIONAL SCHOOL FOR LIBERAL ARTS\n",
      "176     PAN AMERICAN INTERNATIONAL HIGH SCHOOL AT MONROE\n",
      "253                            MULTICULTURAL HIGH SCHOOL\n",
      "286               PAN AMERICAN INTERNATIONAL HIGH SCHOOL\n",
      "Name: SCHOOL NAME, dtype: object\n"
     ]
    }
   ],
   "source": [
    "#there are only 8 rows, can do a google search for each school and see if there's anything we can find in common\n",
    "print(high_hispanic['SCHOOL NAME'])"
   ]
  },
  {
   "cell_type": "code",
   "execution_count": 20,
   "id": "9b4a4a6c",
   "metadata": {
    "execution": {
     "iopub.execute_input": "2022-03-26T22:02:10.212978Z",
     "iopub.status.busy": "2022-03-26T22:02:10.212363Z",
     "iopub.status.idle": "2022-03-26T22:02:10.220062Z",
     "shell.execute_reply": "2022-03-26T22:02:10.219392Z",
     "shell.execute_reply.started": "2022-03-26T21:54:47.752149Z"
    },
    "papermill": {
     "duration": 0.059081,
     "end_time": "2022-03-26T22:02:10.220231",
     "exception": false,
     "start_time": "2022-03-26T22:02:10.161150",
     "status": "completed"
    },
    "tags": []
   },
   "outputs": [
    {
     "name": "stdout",
     "output_type": "stream",
     "text": [
      "5                         BARD HIGH SCHOOL EARLY COLLEGE\n",
      "37                                STUYVESANT HIGH SCHOOL\n",
      "79     HIGH SCHOOL FOR MATHEMATICS, SCIENCE AND ENGIN...\n",
      "151                         BRONX HIGH SCHOOL OF SCIENCE\n",
      "155    HIGH SCHOOL OF AMERICAN STUDIES AT LEHMAN COLLEGE\n",
      "187                       BROOKLYN TECHNICAL HIGH SCHOOL\n",
      "302                          TOWNSEND HARRIS HIGH SCHOOL\n",
      "327    QUEENS HIGH SCHOOL FOR THE SCIENCES AT YORK CO...\n",
      "356                  STATEN ISLAND TECHNICAL HIGH SCHOOL\n",
      "Name: SCHOOL NAME, dtype: object\n"
     ]
    }
   ],
   "source": [
    "#exploring schools with hispanic populations < 10% and high SAT scores\n",
    "low_hispanic = combined[combined['hispanic_per'] < 10]\n",
    "low_hispanic = combined[combined['sat_score'] > 1800]\n",
    "print(low_hispanic['SCHOOL NAME'])"
   ]
  },
  {
   "cell_type": "markdown",
   "id": "b8d62984",
   "metadata": {
    "papermill": {
     "duration": 0.048701,
     "end_time": "2022-03-26T22:02:10.318679",
     "exception": false,
     "start_time": "2022-03-26T22:02:10.269978",
     "status": "completed"
    },
    "tags": []
   },
   "source": [
    "### Observations - \n",
    "\n",
    "From a Google/Wiki search...\n",
    "\n",
    "**High hispanic population**\n",
    "- most schools located in Manhattan or Bronx, which we have seen before is perceived as being less safe by both students and teachers\n",
    "- many schools cater to immigrants that may not be already fluent in English\n",
    "\n",
    "**Low hispanic, high SAT scores**\n",
    "- most schools located in safer boroughs, with some exceptions\n",
    "- some schools have academic selection processes for admission 'selective schools'\n",
    "- many schools have a technical focus on difficult subjects, mathematics or sciences"
   ]
  },
  {
   "cell_type": "markdown",
   "id": "61b591fd",
   "metadata": {
    "papermill": {
     "duration": 0.049615,
     "end_time": "2022-03-26T22:02:10.417339",
     "exception": false,
     "start_time": "2022-03-26T22:02:10.367724",
     "status": "completed"
    },
    "tags": []
   },
   "source": [
    "# Data analysis - gender differences\n",
    "To investivate gender differences, i'll focus on `male_per` and `female_per`."
   ]
  },
  {
   "cell_type": "code",
   "execution_count": 21,
   "id": "30b0d53c",
   "metadata": {
    "execution": {
     "iopub.execute_input": "2022-03-26T22:02:10.521584Z",
     "iopub.status.busy": "2022-03-26T22:02:10.520642Z",
     "iopub.status.idle": "2022-03-26T22:02:10.522549Z",
     "shell.execute_reply": "2022-03-26T22:02:10.523003Z",
     "shell.execute_reply.started": "2022-03-26T21:54:47.779955Z"
    },
    "papermill": {
     "duration": 0.056629,
     "end_time": "2022-03-26T22:02:10.523151",
     "exception": false,
     "start_time": "2022-03-26T22:02:10.466522",
     "status": "completed"
    },
    "tags": []
   },
   "outputs": [],
   "source": [
    "gender_cols = ['male_per', 'female_per']\n",
    "correlations_gender = sat_corr[gender_cols]"
   ]
  },
  {
   "cell_type": "code",
   "execution_count": 22,
   "id": "652662a4",
   "metadata": {
    "execution": {
     "iopub.execute_input": "2022-03-26T22:02:10.625219Z",
     "iopub.status.busy": "2022-03-26T22:02:10.624364Z",
     "iopub.status.idle": "2022-03-26T22:02:10.630968Z",
     "shell.execute_reply": "2022-03-26T22:02:10.630154Z",
     "shell.execute_reply.started": "2022-03-26T21:54:47.793631Z"
    },
    "papermill": {
     "duration": 0.059617,
     "end_time": "2022-03-26T22:02:10.631159",
     "exception": false,
     "start_time": "2022-03-26T22:02:10.571542",
     "status": "completed"
    },
    "tags": []
   },
   "outputs": [
    {
     "name": "stdout",
     "output_type": "stream",
     "text": [
      "male_per     -0.112062\n",
      "female_per    0.112108\n",
      "Name: sat_score, dtype: float64\n"
     ]
    }
   ],
   "source": [
    "print(correlations_gender)"
   ]
  },
  {
   "cell_type": "code",
   "execution_count": 23,
   "id": "f6eb45fd",
   "metadata": {
    "execution": {
     "iopub.execute_input": "2022-03-26T22:02:10.749795Z",
     "iopub.status.busy": "2022-03-26T22:02:10.748822Z",
     "iopub.status.idle": "2022-03-26T22:02:10.881465Z",
     "shell.execute_reply": "2022-03-26T22:02:10.881908Z",
     "shell.execute_reply.started": "2022-03-26T21:54:47.814720Z"
    },
    "papermill": {
     "duration": 0.200924,
     "end_time": "2022-03-26T22:02:10.882063",
     "exception": false,
     "start_time": "2022-03-26T22:02:10.681139",
     "status": "completed"
    },
    "tags": []
   },
   "outputs": [
    {
     "data": {
      "image/png": "[encoded data removed]",
      "text/plain": [
       "<Figure size 432x288 with 1 Axes>"
      ]
     },
     "metadata": {
      "needs_background": "light"
     },
     "output_type": "display_data"
    }
   ],
   "source": [
    "correlations_gender.plot.barh()\n",
    "plt.show()"
   ]
  },
  {
   "cell_type": "markdown",
   "id": "6961c4ec",
   "metadata": {
    "papermill": {
     "duration": 0.049105,
     "end_time": "2022-03-26T22:02:10.980601",
     "exception": false,
     "start_time": "2022-03-26T22:02:10.931496",
     "status": "completed"
    },
    "tags": []
   },
   "source": [
    "Correlations are not very strong - but does show SAT scores positively correlated with females, and negatively correlated with males."
   ]
  },
  {
   "cell_type": "code",
   "execution_count": 24,
   "id": "b8473f7e",
   "metadata": {
    "execution": {
     "iopub.execute_input": "2022-03-26T22:02:11.084589Z",
     "iopub.status.busy": "2022-03-26T22:02:11.083660Z",
     "iopub.status.idle": "2022-03-26T22:02:11.278944Z",
     "shell.execute_reply": "2022-03-26T22:02:11.279404Z",
     "shell.execute_reply.started": "2022-03-26T21:54:48.009589Z"
    },
    "papermill": {
     "duration": 0.249485,
     "end_time": "2022-03-26T22:02:11.279572",
     "exception": false,
     "start_time": "2022-03-26T22:02:11.030087",
     "status": "completed"
    },
    "tags": []
   },
   "outputs": [
    {
     "data": {
      "image/png": "[encoded data removed]",
      "text/plain": [
       "<Figure size 432x288 with 1 Axes>"
      ]
     },
     "metadata": {
      "needs_background": "light"
     },
     "output_type": "display_data"
    }
   ],
   "source": [
    "#scatter plot of female_per vs sat_score\n",
    "combined.plot.scatter(x='female_per', y='sat_score')\n",
    "plt.show()"
   ]
  },
  {
   "cell_type": "markdown",
   "id": "bad43b3f",
   "metadata": {
    "papermill": {
     "duration": 0.05078,
     "end_time": "2022-03-26T22:02:11.381342",
     "exception": false,
     "start_time": "2022-03-26T22:02:11.330562",
     "status": "completed"
    },
    "tags": []
   },
   "source": [
    "Does not show a strong correlation - However, when > 60% females, sat scores do increase somewhat until 70~% for a number of schools."
   ]
  },
  {
   "cell_type": "code",
   "execution_count": 25,
   "id": "6fbab0e8",
   "metadata": {
    "execution": {
     "iopub.execute_input": "2022-03-26T22:02:11.492000Z",
     "iopub.status.busy": "2022-03-26T22:02:11.491175Z",
     "iopub.status.idle": "2022-03-26T22:02:11.495502Z",
     "shell.execute_reply": "2022-03-26T22:02:11.495036Z",
     "shell.execute_reply.started": "2022-03-26T21:54:48.251988Z"
    },
    "papermill": {
     "duration": 0.062581,
     "end_time": "2022-03-26T22:02:11.495630",
     "exception": false,
     "start_time": "2022-03-26T22:02:11.433049",
     "status": "completed"
    },
    "tags": []
   },
   "outputs": [
    {
     "name": "stdout",
     "output_type": "stream",
     "text": [
      "5                         BARD HIGH SCHOOL EARLY COLLEGE\n",
      "26                         ELEANOR ROOSEVELT HIGH SCHOOL\n",
      "37                                STUYVESANT HIGH SCHOOL\n",
      "60                                    BEACON HIGH SCHOOL\n",
      "61     FIORELLO H. LAGUARDIA HIGH SCHOOL OF MUSIC & A...\n",
      "79     HIGH SCHOOL FOR MATHEMATICS, SCIENCE AND ENGIN...\n",
      "151                         BRONX HIGH SCHOOL OF SCIENCE\n",
      "155    HIGH SCHOOL OF AMERICAN STUDIES AT LEHMAN COLLEGE\n",
      "187                       BROOKLYN TECHNICAL HIGH SCHOOL\n",
      "198                           BROOKLYN LATIN SCHOOL, THE\n",
      "302                          TOWNSEND HARRIS HIGH SCHOOL\n",
      "327    QUEENS HIGH SCHOOL FOR THE SCIENCES AT YORK CO...\n",
      "356                  STATEN ISLAND TECHNICAL HIGH SCHOOL\n",
      "Name: SCHOOL NAME, dtype: object\n"
     ]
    }
   ],
   "source": [
    "#exploring schools with a female percentage >60% and SAT scores > 1700\n",
    "high_female = combined[combined['female_per'] > 60]\n",
    "high_female = combined[combined['sat_score'] > 1700]\n",
    "print(high_female['SCHOOL NAME'])"
   ]
  },
  {
   "cell_type": "markdown",
   "id": "ff4a8423",
   "metadata": {
    "papermill": {
     "duration": 0.051095,
     "end_time": "2022-03-26T22:02:11.598658",
     "exception": false,
     "start_time": "2022-03-26T22:02:11.547563",
     "status": "completed"
    },
    "tags": []
   },
   "source": [
    "### Observations - \n",
    "From a wiki search, many high schools with a higher percentage of female students and high SAT scores are:\n",
    "- selective\n",
    "- located in a safer borough\n",
    "- receive additional funding and are more prestigious\n"
   ]
  },
  {
   "cell_type": "markdown",
   "id": "4a33d1bd",
   "metadata": {
    "papermill": {
     "duration": 0.051366,
     "end_time": "2022-03-26T22:02:11.702404",
     "exception": false,
     "start_time": "2022-03-26T22:02:11.651038",
     "status": "completed"
    },
    "tags": []
   },
   "source": [
    "# Data analysis - Advanced Placement (AP) results\n",
    "AP exams are taken at school in order to earn college credit, which support college applications. It makes sense that the number of students enrolled on AP exams are therefore likely to have high SAT scores and are more academically inclined. This should also be reflected in the overall SAT scores for the school.\n",
    "\n",
    "I'll look into the percentage of students taking at least one AP exam in each school. "
   ]
  },
  {
   "cell_type": "code",
   "execution_count": 26,
   "id": "dadf5ce7",
   "metadata": {
    "execution": {
     "iopub.execute_input": "2022-03-26T22:02:11.809282Z",
     "iopub.status.busy": "2022-03-26T22:02:11.808261Z",
     "iopub.status.idle": "2022-03-26T22:02:11.813027Z",
     "shell.execute_reply": "2022-03-26T22:02:11.813632Z",
     "shell.execute_reply.started": "2022-03-26T21:54:48.264854Z"
    },
    "papermill": {
     "duration": 0.059954,
     "end_time": "2022-03-26T22:02:11.813797",
     "exception": false,
     "start_time": "2022-03-26T22:02:11.753843",
     "status": "completed"
    },
    "tags": []
   },
   "outputs": [],
   "source": [
    "#creating a new column for percentage of AP takers, AP Test Takers / total_enrollment\n",
    "\n",
    "combined['ap_per'] = combined['AP Test Takers '] / combined['total_enrollment']"
   ]
  },
  {
   "cell_type": "code",
   "execution_count": 27,
   "id": "3151f0d3",
   "metadata": {
    "execution": {
     "iopub.execute_input": "2022-03-26T22:02:11.920120Z",
     "iopub.status.busy": "2022-03-26T22:02:11.919200Z",
     "iopub.status.idle": "2022-03-26T22:02:12.113115Z",
     "shell.execute_reply": "2022-03-26T22:02:12.113669Z",
     "shell.execute_reply.started": "2022-03-26T21:54:48.283979Z"
    },
    "papermill": {
     "duration": 0.248571,
     "end_time": "2022-03-26T22:02:12.113832",
     "exception": false,
     "start_time": "2022-03-26T22:02:11.865261",
     "status": "completed"
    },
    "tags": []
   },
   "outputs": [
    {
     "data": {
      "image/png": "[encoded data removed]",
      "text/plain": [
       "<Figure size 432x288 with 1 Axes>"
      ]
     },
     "metadata": {
      "needs_background": "light"
     },
     "output_type": "display_data"
    }
   ],
   "source": [
    "#scatter plot for ap_per vs sat_score\n",
    "combined.plot.scatter(x='ap_per', y='sat_score')\n",
    "plt.show()"
   ]
  },
  {
   "cell_type": "markdown",
   "id": "e92ca31e",
   "metadata": {
    "papermill": {
     "duration": 0.051541,
     "end_time": "2022-03-26T22:02:12.217729",
     "exception": false,
     "start_time": "2022-03-26T22:02:12.166188",
     "status": "completed"
    },
    "tags": []
   },
   "source": [
    "There isn't a very strong, conclusive correlation. Many results are clustered around the 0 to 20% percentage of AP test takers, showing that most high schools don't have a lot of students enrolled on AP tests. \n",
    "\n",
    "As the percentage of AP test takers increase, up until around 60%, SAT scores do increase. "
   ]
  },
  {
   "cell_type": "markdown",
   "id": "7703d86f",
   "metadata": {
    "papermill": {
     "duration": 0.052446,
     "end_time": "2022-03-26T22:02:12.322107",
     "exception": false,
     "start_time": "2022-03-26T22:02:12.269661",
     "status": "completed"
    },
    "tags": []
   },
   "source": [
    "# Data analysis - class size\n",
    "To determine if there is a correlation between class size and SAT scores.\n",
    "\n",
    "I'll focus my analysis on:\n",
    "- `'AVERAGE CLASS SIZE'`\n",
    "\n",
    "\n",
    "The column `'SCHOOLWIDE PUPIL-TEACHER RATIO'` values are all 0 and so will not help with the analysis."
   ]
  },
  {
   "cell_type": "code",
   "execution_count": 28,
   "id": "4c5f4d2c",
   "metadata": {
    "execution": {
     "iopub.execute_input": "2022-03-26T22:02:12.429793Z",
     "iopub.status.busy": "2022-03-26T22:02:12.428891Z",
     "iopub.status.idle": "2022-03-26T22:02:12.434641Z",
     "shell.execute_reply": "2022-03-26T22:02:12.435161Z",
     "shell.execute_reply.started": "2022-03-26T21:54:48.534282Z"
    },
    "papermill": {
     "duration": 0.061273,
     "end_time": "2022-03-26T22:02:12.435332",
     "exception": false,
     "start_time": "2022-03-26T22:02:12.374059",
     "status": "completed"
    },
    "tags": []
   },
   "outputs": [
    {
     "data": {
      "text/plain": [
       "Index(['DBN', 'SCHOOL NAME', 'Num of SAT Test Takers',\n",
       "       'SAT Critical Reading Avg. Score', 'SAT Math Avg. Score',\n",
       "       'SAT Writing Avg. Score', 'sat_score', 'SchoolName', 'AP Test Takers ',\n",
       "       'Total Exams Taken',\n",
       "       ...\n",
       "       'priority06', 'priority07', 'priority08', 'priority09', 'priority10',\n",
       "       'Location 1', 'lat', 'lon', 'school_dist', 'ap_per'],\n",
       "      dtype='object', length=161)"
      ]
     },
     "execution_count": 28,
     "metadata": {},
     "output_type": "execute_result"
    }
   ],
   "source": [
    "combined.columns"
   ]
  },
  {
   "cell_type": "code",
   "execution_count": 29,
   "id": "5746d5a2",
   "metadata": {
    "execution": {
     "iopub.execute_input": "2022-03-26T22:02:12.543354Z",
     "iopub.status.busy": "2022-03-26T22:02:12.542457Z",
     "iopub.status.idle": "2022-03-26T22:02:12.738867Z",
     "shell.execute_reply": "2022-03-26T22:02:12.738382Z",
     "shell.execute_reply.started": "2022-03-26T21:54:48.542797Z"
    },
    "papermill": {
     "duration": 0.251485,
     "end_time": "2022-03-26T22:02:12.738997",
     "exception": false,
     "start_time": "2022-03-26T22:02:12.487512",
     "status": "completed"
    },
    "tags": []
   },
   "outputs": [
    {
     "data": {
      "image/png": "[encoded data removed]",
      "text/plain": [
       "<Figure size 432x288 with 1 Axes>"
      ]
     },
     "metadata": {
      "needs_background": "light"
     },
     "output_type": "display_data"
    }
   ],
   "source": [
    "#plotting average class size and SAT scores\n",
    "combined.plot.scatter(x='AVERAGE CLASS SIZE', y='sat_score')\n",
    "plt.show()"
   ]
  },
  {
   "cell_type": "markdown",
   "id": "87056e5b",
   "metadata": {
    "papermill": {
     "duration": 0.053287,
     "end_time": "2022-03-26T22:02:12.846764",
     "exception": false,
     "start_time": "2022-03-26T22:02:12.793477",
     "status": "completed"
    },
    "tags": []
   },
   "source": [
    "Surprisingly, as the class size increases, we can see a slight increase in SAT scores. This could be for a number of factors; the more students enrolled at a school could mean more funding allocated to that school, too. "
   ]
  },
  {
   "cell_type": "markdown",
   "id": "94cf410f",
   "metadata": {
    "papermill": {
     "duration": 0.055683,
     "end_time": "2022-03-26T22:02:12.956287",
     "exception": false,
     "start_time": "2022-03-26T22:02:12.900604",
     "status": "completed"
    },
    "tags": []
   },
   "source": [
    "# Data analysis - geographic region, (regex)\n",
    "\n",
    "**Note:** I initially try a regex method to show that the location can be extracted from the `Location 1` column, but there is a separate column enitrely with this data already, called `boro`. I use data from `Location 1` for Brooklyn and Bronx schools, and then filter data using `boro` for the rest of the boroughs.\n",
    "\n",
    "I'll attempt to separate the data based on its location data, focusing on the areas highlighted previously that are deemed unsafe by student and teachers.\n",
    "- Brooklyn\n",
    "- Bronx"
   ]
  },
  {
   "cell_type": "code",
   "execution_count": 30,
   "id": "a0a3c2fe",
   "metadata": {
    "execution": {
     "iopub.execute_input": "2022-03-26T22:02:13.067915Z",
     "iopub.status.busy": "2022-03-26T22:02:13.067287Z",
     "iopub.status.idle": "2022-03-26T22:02:13.073247Z",
     "shell.execute_reply": "2022-03-26T22:02:13.073737Z",
     "shell.execute_reply.started": "2022-03-26T21:54:48.803944Z"
    },
    "papermill": {
     "duration": 0.063278,
     "end_time": "2022-03-26T22:02:13.073907",
     "exception": false,
     "start_time": "2022-03-26T22:02:13.010629",
     "status": "completed"
    },
    "tags": []
   },
   "outputs": [],
   "source": [
    "#creating a function to help locate areas within Location 1\n",
    "#I use re.search along with area.group instead of re.findall, as re.findall returns as list instead of str/int\n",
    "#group() returns string matched by RE, group(0) = full match\n",
    "def locate_brooklyn(x):\n",
    "    area = re.search(r\"[bB]rooklyn\", x)\n",
    "    return area.group(0) if area else \"\" #group(0) returns the full string matched by the regex\n",
    "    \n",
    "    \n",
    "combined['brooklyn'] = combined['Location 1'].apply(locate_brooklyn)"
   ]
  },
  {
   "cell_type": "code",
   "execution_count": 31,
   "id": "d94596fa",
   "metadata": {
    "execution": {
     "iopub.execute_input": "2022-03-26T22:02:13.188084Z",
     "iopub.status.busy": "2022-03-26T22:02:13.183972Z",
     "iopub.status.idle": "2022-03-26T22:02:13.190912Z",
     "shell.execute_reply": "2022-03-26T22:02:13.191449Z",
     "shell.execute_reply.started": "2022-03-26T21:54:48.815659Z"
    },
    "papermill": {
     "duration": 0.063438,
     "end_time": "2022-03-26T22:02:13.191618",
     "exception": false,
     "start_time": "2022-03-26T22:02:13.128180",
     "status": "completed"
    },
    "tags": []
   },
   "outputs": [
    {
     "data": {
      "text/plain": [
       "            257\n",
       "Brooklyn    106\n",
       "Name: brooklyn, dtype: int64"
      ]
     },
     "execution_count": 31,
     "metadata": {},
     "output_type": "execute_result"
    }
   ],
   "source": [
    "combined['brooklyn'].value_counts()"
   ]
  },
  {
   "cell_type": "code",
   "execution_count": 32,
   "id": "af7542ed",
   "metadata": {
    "execution": {
     "iopub.execute_input": "2022-03-26T22:02:13.306182Z",
     "iopub.status.busy": "2022-03-26T22:02:13.305254Z",
     "iopub.status.idle": "2022-03-26T22:02:13.308903Z",
     "shell.execute_reply": "2022-03-26T22:02:13.309428Z",
     "shell.execute_reply.started": "2022-03-26T21:54:48.837108Z"
    },
    "papermill": {
     "duration": 0.06343,
     "end_time": "2022-03-26T22:02:13.309599",
     "exception": false,
     "start_time": "2022-03-26T22:02:13.246169",
     "status": "completed"
    },
    "tags": []
   },
   "outputs": [],
   "source": [
    "brooklyn_only = combined[combined['brooklyn'] == 'Brooklyn']"
   ]
  },
  {
   "cell_type": "code",
   "execution_count": 33,
   "id": "3dd9bbe1",
   "metadata": {
    "execution": {
     "iopub.execute_input": "2022-03-26T22:02:13.429499Z",
     "iopub.status.busy": "2022-03-26T22:02:13.428505Z",
     "iopub.status.idle": "2022-03-26T22:02:13.432495Z",
     "shell.execute_reply": "2022-03-26T22:02:13.432972Z",
     "shell.execute_reply.started": "2022-03-26T21:54:48.850638Z"
    },
    "papermill": {
     "duration": 0.069468,
     "end_time": "2022-03-26T22:02:13.433137",
     "exception": false,
     "start_time": "2022-03-26T22:02:13.363669",
     "status": "completed"
    },
    "tags": []
   },
   "outputs": [],
   "source": [
    "def locate_bronx(x):\n",
    "    area = re.search(r\"[bB]ronx\", x)\n",
    "    return area.group(0) if area else \"\" \n",
    "    \n",
    "    \n",
    "combined['bronx'] = combined['Location 1'].apply(locate_bronx)\n",
    "bronx_only = combined[combined['bronx'] == 'Bronx']"
   ]
  },
  {
   "cell_type": "code",
   "execution_count": 34,
   "id": "687adb37",
   "metadata": {
    "execution": {
     "iopub.execute_input": "2022-03-26T22:02:13.544117Z",
     "iopub.status.busy": "2022-03-26T22:02:13.543222Z",
     "iopub.status.idle": "2022-03-26T22:02:13.550055Z",
     "shell.execute_reply": "2022-03-26T22:02:13.550615Z",
     "shell.execute_reply.started": "2022-03-26T21:54:48.870434Z"
    },
    "papermill": {
     "duration": 0.063771,
     "end_time": "2022-03-26T22:02:13.550793",
     "exception": false,
     "start_time": "2022-03-26T22:02:13.487022",
     "status": "completed"
    },
    "tags": []
   },
   "outputs": [
    {
     "data": {
      "text/plain": [
       "         270\n",
       "Bronx     93\n",
       "Name: bronx, dtype: int64"
      ]
     },
     "execution_count": 34,
     "metadata": {},
     "output_type": "execute_result"
    }
   ],
   "source": [
    "combined['bronx'].value_counts()"
   ]
  },
  {
   "cell_type": "code",
   "execution_count": 35,
   "id": "ed210daa",
   "metadata": {
    "execution": {
     "iopub.execute_input": "2022-03-26T22:02:13.662897Z",
     "iopub.status.busy": "2022-03-26T22:02:13.662330Z",
     "iopub.status.idle": "2022-03-26T22:02:13.867059Z",
     "shell.execute_reply": "2022-03-26T22:02:13.867469Z",
     "shell.execute_reply.started": "2022-03-26T21:54:48.894726Z"
    },
    "papermill": {
     "duration": 0.262764,
     "end_time": "2022-03-26T22:02:13.867633",
     "exception": false,
     "start_time": "2022-03-26T22:02:13.604869",
     "status": "completed"
    },
    "tags": []
   },
   "outputs": [
    {
     "data": {
      "image/png": "[encoded data removed]",
      "text/plain": [
       "<Figure size 432x288 with 1 Axes>"
      ]
     },
     "metadata": {
      "needs_background": "light"
     },
     "output_type": "display_data"
    }
   ],
   "source": [
    "#plotting brooklyn and SAT scores\n",
    "brooklyn_only.plot.hist(x='brooklyn', y='sat_score')\n",
    "plt.show()"
   ]
  },
  {
   "cell_type": "code",
   "execution_count": 36,
   "id": "6cd5483a",
   "metadata": {
    "execution": {
     "iopub.execute_input": "2022-03-26T22:02:14.002541Z",
     "iopub.status.busy": "2022-03-26T22:02:13.986878Z",
     "iopub.status.idle": "2022-03-26T22:02:14.193167Z",
     "shell.execute_reply": "2022-03-26T22:02:14.192531Z",
     "shell.execute_reply.started": "2022-03-26T21:54:49.154589Z"
    },
    "papermill": {
     "duration": 0.270831,
     "end_time": "2022-03-26T22:02:14.193345",
     "exception": false,
     "start_time": "2022-03-26T22:02:13.922514",
     "status": "completed"
    },
    "tags": []
   },
   "outputs": [
    {
     "data": {
      "image/png": "[encoded data removed]",
      "text/plain": [
       "<Figure size 432x288 with 1 Axes>"
      ]
     },
     "metadata": {
      "needs_background": "light"
     },
     "output_type": "display_data"
    }
   ],
   "source": [
    "#plotting bronx and SAT scores\n",
    "bronx_only.plot.hist(x='bronx', y='sat_score')\n",
    "plt.show()"
   ]
  },
  {
   "cell_type": "code",
   "execution_count": 37,
   "id": "348ce3f3",
   "metadata": {
    "execution": {
     "iopub.execute_input": "2022-03-26T22:02:14.326882Z",
     "iopub.status.busy": "2022-03-26T22:02:14.323295Z",
     "iopub.status.idle": "2022-03-26T22:02:14.551415Z",
     "shell.execute_reply": "2022-03-26T22:02:14.550810Z",
     "shell.execute_reply.started": "2022-03-26T21:54:49.404343Z"
    },
    "papermill": {
     "duration": 0.300562,
     "end_time": "2022-03-26T22:02:14.551556",
     "exception": false,
     "start_time": "2022-03-26T22:02:14.250994",
     "status": "completed"
    },
    "tags": []
   },
   "outputs": [
    {
     "data": {
      "image/png": "[encoded data removed]",
      "text/plain": [
       "<Figure size 432x288 with 1 Axes>"
      ]
     },
     "metadata": {
      "needs_background": "light"
     },
     "output_type": "display_data"
    }
   ],
   "source": [
    "#comparison - plotting a histogram to check distribution of sat scores for schools in both Brooklyn and Bronx\n",
    "plt.hist(brooklyn_only['sat_score'], alpha=0.5, label='Brooklyn')\n",
    "plt.hist(bronx_only['sat_score'], alpha=0.5, label='Bronx')\n",
    "plt.axvspan(xmin=1400, xmax=1800, alpha=0.05, color='Red')\n",
    "plt.legend()\n",
    "plt.show()"
   ]
  },
  {
   "cell_type": "markdown",
   "id": "9ba64fe6",
   "metadata": {
    "papermill": {
     "duration": 0.061358,
     "end_time": "2022-03-26T22:02:14.669328",
     "exception": false,
     "start_time": "2022-03-26T22:02:14.607970",
     "status": "completed"
    },
    "tags": []
   },
   "source": [
    "### Taking a look at 'safer' boroughs"
   ]
  },
  {
   "cell_type": "code",
   "execution_count": 38,
   "id": "6feca113",
   "metadata": {
    "execution": {
     "iopub.execute_input": "2022-03-26T22:02:14.786936Z",
     "iopub.status.busy": "2022-03-26T22:02:14.786123Z",
     "iopub.status.idle": "2022-03-26T22:02:14.790264Z",
     "shell.execute_reply": "2022-03-26T22:02:14.789723Z",
     "shell.execute_reply.started": "2022-03-26T21:54:49.705103Z"
    },
    "papermill": {
     "duration": 0.065017,
     "end_time": "2022-03-26T22:02:14.790428",
     "exception": false,
     "start_time": "2022-03-26T22:02:14.725411",
     "status": "completed"
    },
    "tags": []
   },
   "outputs": [],
   "source": [
    "#filtering data using 'boro' column \n",
    "manhattan_only = combined[combined['boro'] == 'Manhattan']"
   ]
  },
  {
   "cell_type": "code",
   "execution_count": 39,
   "id": "c82011ca",
   "metadata": {
    "execution": {
     "iopub.execute_input": "2022-03-26T22:02:14.909751Z",
     "iopub.status.busy": "2022-03-26T22:02:14.908882Z",
     "iopub.status.idle": "2022-03-26T22:02:14.911206Z",
     "shell.execute_reply": "2022-03-26T22:02:14.911748Z",
     "shell.execute_reply.started": "2022-03-26T21:54:49.712467Z"
    },
    "papermill": {
     "duration": 0.064848,
     "end_time": "2022-03-26T22:02:14.911905",
     "exception": false,
     "start_time": "2022-03-26T22:02:14.847057",
     "status": "completed"
    },
    "tags": []
   },
   "outputs": [],
   "source": [
    "queens_only = combined[combined['boro'] == 'Queens']"
   ]
  },
  {
   "cell_type": "code",
   "execution_count": 40,
   "id": "54b28ea0",
   "metadata": {
    "execution": {
     "iopub.execute_input": "2022-03-26T22:02:15.031861Z",
     "iopub.status.busy": "2022-03-26T22:02:15.030908Z",
     "iopub.status.idle": "2022-03-26T22:02:15.034010Z",
     "shell.execute_reply": "2022-03-26T22:02:15.033554Z",
     "shell.execute_reply.started": "2022-03-26T21:54:49.732198Z"
    },
    "papermill": {
     "duration": 0.066233,
     "end_time": "2022-03-26T22:02:15.034149",
     "exception": false,
     "start_time": "2022-03-26T22:02:14.967916",
     "status": "completed"
    },
    "tags": []
   },
   "outputs": [],
   "source": [
    "staten_only = combined[combined['boro'] == 'Staten Island']"
   ]
  },
  {
   "cell_type": "code",
   "execution_count": 41,
   "id": "a3aae5ca",
   "metadata": {
    "execution": {
     "iopub.execute_input": "2022-03-26T22:02:15.157342Z",
     "iopub.status.busy": "2022-03-26T22:02:15.156285Z",
     "iopub.status.idle": "2022-03-26T22:02:15.417334Z",
     "shell.execute_reply": "2022-03-26T22:02:15.416751Z",
     "shell.execute_reply.started": "2022-03-26T21:54:49.750808Z"
    },
    "papermill": {
     "duration": 0.325505,
     "end_time": "2022-03-26T22:02:15.417463",
     "exception": false,
     "start_time": "2022-03-26T22:02:15.091958",
     "status": "completed"
    },
    "tags": []
   },
   "outputs": [
    {
     "data": {
      "image/png": "[encoded data removed]",
      "text/plain": [
       "<Figure size 432x288 with 1 Axes>"
      ]
     },
     "metadata": {
      "needs_background": "light"
     },
     "output_type": "display_data"
    }
   ],
   "source": [
    "#Manhattan\n",
    "plt.hist(manhattan_only['sat_score'], alpha=0.5, label='Manhattan')\n",
    "plt.hist(staten_only['sat_score'], alpha=0.5, label='Staten Island')\n",
    "plt.hist(queens_only['sat_score'], alpha=0.5, label='Queens')\n",
    "plt.axvspan(xmin=1400, xmax=1800, alpha=0.05, color='Red')\n",
    "plt.legend()\n",
    "plt.show()"
   ]
  },
  {
   "cell_type": "code",
   "execution_count": 42,
   "id": "1c171e4a",
   "metadata": {
    "execution": {
     "iopub.execute_input": "2022-03-26T22:02:15.538479Z",
     "iopub.status.busy": "2022-03-26T22:02:15.537598Z",
     "iopub.status.idle": "2022-03-26T22:02:15.540126Z",
     "shell.execute_reply": "2022-03-26T22:02:15.539693Z",
     "shell.execute_reply.started": "2022-03-26T21:54:50.083345Z"
    },
    "papermill": {
     "duration": 0.065372,
     "end_time": "2022-03-26T22:02:15.540274",
     "exception": false,
     "start_time": "2022-03-26T22:02:15.474902",
     "status": "completed"
    },
    "tags": []
   },
   "outputs": [],
   "source": [
    "queens_only = combined[combined['boro'] == 'Queens']"
   ]
  },
  {
   "cell_type": "code",
   "execution_count": 43,
   "id": "0e474c2a",
   "metadata": {
    "execution": {
     "iopub.execute_input": "2022-03-26T22:02:15.660881Z",
     "iopub.status.busy": "2022-03-26T22:02:15.660229Z",
     "iopub.status.idle": "2022-03-26T22:02:15.663225Z",
     "shell.execute_reply": "2022-03-26T22:02:15.663666Z",
     "shell.execute_reply.started": "2022-03-26T21:54:50.093182Z"
    },
    "papermill": {
     "duration": 0.066702,
     "end_time": "2022-03-26T22:02:15.663833",
     "exception": false,
     "start_time": "2022-03-26T22:02:15.597131",
     "status": "completed"
    },
    "tags": []
   },
   "outputs": [
    {
     "data": {
      "text/plain": [
       "array(['Manhattan', 'Bronx', 'Brooklyn', 'Queens', 'Staten Island'],\n",
       "      dtype=object)"
      ]
     },
     "execution_count": 43,
     "metadata": {},
     "output_type": "execute_result"
    }
   ],
   "source": [
    "combined['boro'].unique()"
   ]
  },
  {
   "cell_type": "markdown",
   "id": "0ceb4d5c",
   "metadata": {
    "papermill": {
     "duration": 0.056457,
     "end_time": "2022-03-26T22:02:15.776966",
     "exception": false,
     "start_time": "2022-03-26T22:02:15.720509",
     "status": "completed"
    },
    "tags": []
   },
   "source": [
    "### Observations - \n",
    "- schools located in both Bronx and Brooklyn show a similar pattern of underperformance in SAT scores\n",
    "- schools located in safer neighbourhoods have more frequent sat scores > 1400 compared to schools in less safer areas (highlighted)\n",
    "- majority of schools in all areas achieve average sat scores of 1200~\n"
   ]
  },
  {
   "cell_type": "code",
   "execution_count": null,
   "id": "a2e567f3",
   "metadata": {
    "papermill": {
     "duration": 0.057781,
     "end_time": "2022-03-26T22:02:15.892413",
     "exception": false,
     "start_time": "2022-03-26T22:02:15.834632",
     "status": "completed"
    },
    "tags": []
   },
   "outputs": [],
   "source": []
  }
 ],
 "metadata": {
  "kernelspec": {
   "display_name": "Python 3",
   "language": "python",
   "name": "python3"
  },
  "language_info": {
   "codemirror_mode": {
    "name": "ipython",
    "version": 3
   },
   "file_extension": ".py",
   "mimetype": "text/x-python",
   "name": "python",
   "nbconvert_exporter": "python",
   "pygments_lexer": "ipython3",
   "version": "3.7.12"
  },
  "papermill": {
   "default_parameters": {},
   "duration": 20.488939,
   "end_time": "2022-03-26T22:02:16.559596",
   "environment_variables": {},
   "exception": null,
   "input_path": "__notebook__.ipynb",
   "output_path": "__notebook__.ipynb",
   "parameters": {},
   "start_time": "2022-03-26T22:01:56.070657",
   "version": "2.3.3"
  }
 },
 "nbformat": 4,
 "nbformat_minor": 5
}
