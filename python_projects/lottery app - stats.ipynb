{
 "cells": [
  {
   "cell_type": "markdown",
   "metadata": {
    "collapsed": true
   },
   "source": [
    "# Introduction: Mobile App for Lottery Addiction\n",
    "\n",
    "### Scenario\n",
    "\n",
    "There's a fictional medical institute looking to build a mobile app to help lottery addicts, and I have been tasked to devise some of the logic and calculations that will underpin the app. The lottery in this case is a 6/49 model (match 6 out of 49 to win the big prize).\n",
    "\n",
    "Many gamblers develop a habit which in turn escalates into an addiction, causing severe issues within their personal lives. They may not know they have an issue until it is too late, and so this app is designed to better educate lottery addicts on their chances of winning in order to deter them.\n",
    "\n",
    "More gambling information can be found here: https://www.nhs.uk/live-well/addiction-support/gambling-addiction/\n",
    "\n",
    "### Learning objectives\n",
    "\n",
    "Putting into practice theoretical and empirical probability concepts such as combinations and permutations to understand the probability of different lottery scenarios, such as:\n",
    "\n",
    " - Probability of winning with a single ticket\n",
    " - Probability of winning if we play 40 different tickets\n",
    " - Probability of having at least five (or four, three, two) winning numbers on a single ticket\n",
    " \n",
    "### Dataset\n",
    "\n",
    "As part of the analysis stage, I'll use historical (Canadian) lottery data, located here: https://www.kaggle.com/datascienceai/lottery-dataset"
   ]
  },
  {
   "cell_type": "markdown",
   "metadata": {},
   "source": [
    "## Building the core functions\n",
    "\n",
    "Here i'll build two functions, one to calculate factorials and the other to calculate combinations.\n",
    "\n",
    "\n",
    "## <center>  Factorial formula\n",
    "<img src=\"https://www.gstatic.com/education/formulas2/472522532/en/factorial.svg\" alt=\"Factorial\" />\n",
    "\n",
    "\n",
    "<br>\n",
    "\n",
    "## <center>  Combinations formula\n",
    "<img src=\"https://uploads-cdn.omnicalculator.com/images/binomial-coefficient-formula.PNG\" alt=\"Combinations\" />"
   ]
  },
  {
   "cell_type": "code",
   "execution_count": 1,
   "metadata": {
    "collapsed": true
   },
   "outputs": [],
   "source": [
    "#function for factorials\n",
    "\n",
    "def factorial(n):\n",
    "    final_product = 1\n",
    "    for i in range(n, 0, -1):\n",
    "        final_product *= i\n",
    "    return final_product\n",
    "\n",
    "#function for combinations\n",
    "\n",
    "def combinations(n, k):\n",
    "    ff = factorial(n)\n",
    "    kk = factorial(k)\n",
    "    \n",
    "    return ff/(kk * factorial(n - k))"
   ]
  },
  {
   "cell_type": "markdown",
   "metadata": {},
   "source": [
    "## Probability of winning for any given ticket\n",
    "\n",
    "In the first iteration of the app, I will build a function that will calculate the probability for any given ticket. The user experience will be:\n",
    " - they input six different numbers from 1 to 49\n",
    " - these will come as a python list, to serve as a single input to the function\n",
    " - function prints the probability, in a user-friendly and accessible format"
   ]
  },
  {
   "cell_type": "code",
   "execution_count": 2,
   "metadata": {
    "collapsed": false
   },
   "outputs": [],
   "source": [
    "#number of successful outcomes is 1\n",
    "#P(E) = sucessful outcome / total possible outcomes\n",
    "\n",
    "#creating the function\n",
    "def one_ticket_probability(ticket_num):\n",
    "    total_c = combinations(49, 6)\n",
    "    ticket_p = 1/total_c\n",
    "     \n",
    "    print('Your chance of success with your ticket ' + '{}'.format(ticket_num)+ ' is:' + ' '+ '{:,.10%}'.format(ticket_p) + ',' \n",
    "          +' which is a 1 in ' + '' + '{:,}'.format(int(total_c)) + ' ' + 'chance of winning!')\n",
    "    "
   ]
  },
  {
   "cell_type": "code",
   "execution_count": 3,
   "metadata": {
    "collapsed": false
   },
   "outputs": [
    {
     "name": "stdout",
     "output_type": "stream",
     "text": [
      "Your chance of success with your ticket [1, 2, 25, 33, 16, 34] is: 0.0000071511%, which is a 1 in 13,983,816 chance of winning!\n"
     ]
    }
   ],
   "source": [
    "one_ticket_probability([1, 2, 25, 33, 16, 34])"
   ]
  },
  {
   "cell_type": "markdown",
   "metadata": {},
   "source": [
    "## Analysis of historic data to determine past wins\n",
    "\n",
    "Using the Canadian lottery dataset, i'll determine if the numbers that the user inputs has been successful previously. This will allow the user to compare their ticket against historic data to see if their numbers have ever won before. "
   ]
  },
  {
   "cell_type": "code",
   "execution_count": 4,
   "metadata": {
    "collapsed": true
   },
   "outputs": [],
   "source": [
    "#import libraries\n",
    "import pandas as pd"
   ]
  },
  {
   "cell_type": "code",
   "execution_count": 5,
   "metadata": {
    "collapsed": true
   },
   "outputs": [],
   "source": [
    "#load in data\n",
    "lottery = pd.read_csv(\"649.csv\")"
   ]
  },
  {
   "cell_type": "code",
   "execution_count": 6,
   "metadata": {
    "collapsed": false
   },
   "outputs": [
    {
     "name": "stdout",
     "output_type": "stream",
     "text": [
      "<class 'pandas.core.frame.DataFrame'>\n",
      "RangeIndex: 3665 entries, 0 to 3664\n",
      "Data columns (total 11 columns):\n",
      "PRODUCT            3665 non-null int64\n",
      "DRAW NUMBER        3665 non-null int64\n",
      "SEQUENCE NUMBER    3665 non-null int64\n",
      "DRAW DATE          3665 non-null object\n",
      "NUMBER DRAWN 1     3665 non-null int64\n",
      "NUMBER DRAWN 2     3665 non-null int64\n",
      "NUMBER DRAWN 3     3665 non-null int64\n",
      "NUMBER DRAWN 4     3665 non-null int64\n",
      "NUMBER DRAWN 5     3665 non-null int64\n",
      "NUMBER DRAWN 6     3665 non-null int64\n",
      "BONUS NUMBER       3665 non-null int64\n",
      "dtypes: int64(10), object(1)\n",
      "memory usage: 315.0+ KB\n"
     ]
    },
    {
     "data": {
      "text/plain": [
       "count          3665\n",
       "unique         3591\n",
       "top       6/23/2012\n",
       "freq              4\n",
       "Name: DRAW DATE, dtype: object"
      ]
     },
     "execution_count": 6,
     "metadata": {},
     "output_type": "execute_result"
    }
   ],
   "source": [
    "#quick exploratory steps to find out date range and format of data\n",
    "lottery.info()\n",
    "lottery['DRAW DATE'].describe()"
   ]
  },
  {
   "cell_type": "code",
   "execution_count": 7,
   "metadata": {
    "collapsed": false
   },
   "outputs": [
    {
     "data": {
      "text/html": [
       "<div>\n",
       "<style scoped>\n",
       "    .dataframe tbody tr th:only-of-type {\n",
       "        vertical-align: middle;\n",
       "    }\n",
       "\n",
       "    .dataframe tbody tr th {\n",
       "        vertical-align: top;\n",
       "    }\n",
       "\n",
       "    .dataframe thead th {\n",
       "        text-align: right;\n",
       "    }\n",
       "</style>\n",
       "<table border=\"1\" class=\"dataframe\">\n",
       "  <thead>\n",
       "    <tr style=\"text-align: right;\">\n",
       "      <th></th>\n",
       "      <th>PRODUCT</th>\n",
       "      <th>DRAW NUMBER</th>\n",
       "      <th>SEQUENCE NUMBER</th>\n",
       "      <th>DRAW DATE</th>\n",
       "      <th>NUMBER DRAWN 1</th>\n",
       "      <th>NUMBER DRAWN 2</th>\n",
       "      <th>NUMBER DRAWN 3</th>\n",
       "      <th>NUMBER DRAWN 4</th>\n",
       "      <th>NUMBER DRAWN 5</th>\n",
       "      <th>NUMBER DRAWN 6</th>\n",
       "      <th>BONUS NUMBER</th>\n",
       "    </tr>\n",
       "  </thead>\n",
       "  <tbody>\n",
       "    <tr>\n",
       "      <th>0</th>\n",
       "      <td>649</td>\n",
       "      <td>1</td>\n",
       "      <td>0</td>\n",
       "      <td>6/12/1982</td>\n",
       "      <td>3</td>\n",
       "      <td>11</td>\n",
       "      <td>12</td>\n",
       "      <td>14</td>\n",
       "      <td>41</td>\n",
       "      <td>43</td>\n",
       "      <td>13</td>\n",
       "    </tr>\n",
       "    <tr>\n",
       "      <th>1</th>\n",
       "      <td>649</td>\n",
       "      <td>2</td>\n",
       "      <td>0</td>\n",
       "      <td>6/19/1982</td>\n",
       "      <td>8</td>\n",
       "      <td>33</td>\n",
       "      <td>36</td>\n",
       "      <td>37</td>\n",
       "      <td>39</td>\n",
       "      <td>41</td>\n",
       "      <td>9</td>\n",
       "    </tr>\n",
       "    <tr>\n",
       "      <th>2</th>\n",
       "      <td>649</td>\n",
       "      <td>3</td>\n",
       "      <td>0</td>\n",
       "      <td>6/26/1982</td>\n",
       "      <td>1</td>\n",
       "      <td>6</td>\n",
       "      <td>23</td>\n",
       "      <td>24</td>\n",
       "      <td>27</td>\n",
       "      <td>39</td>\n",
       "      <td>34</td>\n",
       "    </tr>\n",
       "    <tr>\n",
       "      <th>3</th>\n",
       "      <td>649</td>\n",
       "      <td>4</td>\n",
       "      <td>0</td>\n",
       "      <td>7/3/1982</td>\n",
       "      <td>3</td>\n",
       "      <td>9</td>\n",
       "      <td>10</td>\n",
       "      <td>13</td>\n",
       "      <td>20</td>\n",
       "      <td>43</td>\n",
       "      <td>34</td>\n",
       "    </tr>\n",
       "    <tr>\n",
       "      <th>4</th>\n",
       "      <td>649</td>\n",
       "      <td>5</td>\n",
       "      <td>0</td>\n",
       "      <td>7/10/1982</td>\n",
       "      <td>5</td>\n",
       "      <td>14</td>\n",
       "      <td>21</td>\n",
       "      <td>31</td>\n",
       "      <td>34</td>\n",
       "      <td>47</td>\n",
       "      <td>45</td>\n",
       "    </tr>\n",
       "  </tbody>\n",
       "</table>\n",
       "</div>"
      ],
      "text/plain": [
       "   PRODUCT  DRAW NUMBER  SEQUENCE NUMBER  DRAW DATE  NUMBER DRAWN 1  \\\n",
       "0      649            1                0  6/12/1982               3   \n",
       "1      649            2                0  6/19/1982               8   \n",
       "2      649            3                0  6/26/1982               1   \n",
       "3      649            4                0   7/3/1982               3   \n",
       "4      649            5                0  7/10/1982               5   \n",
       "\n",
       "   NUMBER DRAWN 2  NUMBER DRAWN 3  NUMBER DRAWN 4  NUMBER DRAWN 5  \\\n",
       "0              11              12              14              41   \n",
       "1              33              36              37              39   \n",
       "2               6              23              24              27   \n",
       "3               9              10              13              20   \n",
       "4              14              21              31              34   \n",
       "\n",
       "   NUMBER DRAWN 6  BONUS NUMBER  \n",
       "0              43            13  \n",
       "1              41             9  \n",
       "2              39            34  \n",
       "3              43            34  \n",
       "4              47            45  "
      ]
     },
     "execution_count": 7,
     "metadata": {},
     "output_type": "execute_result"
    }
   ],
   "source": [
    "lottery.head()"
   ]
  },
  {
   "cell_type": "markdown",
   "metadata": {},
   "source": [
    "## Writing a function for checking the historical data against user's ticket\n",
    "\n",
    "In this function, it will take the user's inputted numbers (six different numbers from 1 to 49) as a list, then prints the number of times the combination has ever won; then print the probability of winning again in the next with the same combination."
   ]
  },
  {
   "cell_type": "code",
   "execution_count": 8,
   "metadata": {
    "collapsed": false
   },
   "outputs": [],
   "source": [
    "#function to take a row of the dataframe (4:10) and return a set of all winning numbers\n",
    "def extract_numbers(row):\n",
    "    row = row[4:10]\n",
    "    row = set(row.values) #create a set from the numbers\n",
    "    return row"
   ]
  },
  {
   "cell_type": "code",
   "execution_count": 9,
   "metadata": {
    "collapsed": false
   },
   "outputs": [],
   "source": [
    "#extract out winners\n",
    "winners = lottery.apply(extract_numbers, axis=1) #apply to all rows    "
   ]
  },
  {
   "cell_type": "code",
   "execution_count": 10,
   "metadata": {
    "collapsed": false
   },
   "outputs": [
    {
     "data": {
      "text/plain": [
       "0    {3, 41, 11, 12, 43, 14}\n",
       "1    {33, 36, 37, 39, 8, 41}\n",
       "2     {1, 6, 39, 23, 24, 27}\n",
       "3     {3, 9, 10, 43, 13, 20}\n",
       "4    {34, 5, 14, 47, 21, 31}\n",
       "dtype: object"
      ]
     },
     "execution_count": 10,
     "metadata": {},
     "output_type": "execute_result"
    }
   ],
   "source": [
    "winners.head()"
   ]
  },
  {
   "cell_type": "code",
   "execution_count": 11,
   "metadata": {
    "collapsed": false
   },
   "outputs": [],
   "source": [
    "#function to take user's numbers (as a list and the sets of winning numbers (as pd series))\n",
    "def check_historical_occurence(user, win):\n",
    "    user_set = set(user)\n",
    "    count = win == user_set\n",
    "    count_sum = count.sum()\n",
    "    \n",
    "    if count_sum == 0:\n",
    "        print('''The combination {} has never occured.\n",
    "This doesn't mean it's more likely to occur now. Your chances to win the big prize in the next drawing using the combination {} are 0.0000072%.\n",
    "In other words, you have a 1 in 13,983,816 chances to win.'''.format(user_set, user))\n",
    "        \n",
    "    else:\n",
    "        print('''The number of times combination {} has occured in the past is {}.\n",
    "Your chances to win the big prize in the next drawing using the combination {} are 0.0000072%.\n",
    "In other words, you have a 1 in 13,983,816 chances to win.'''.format(user_set, count_sum,\n",
    "                                                                            user))    "
   ]
  },
  {
   "cell_type": "code",
   "execution_count": 12,
   "metadata": {
    "collapsed": false
   },
   "outputs": [],
   "source": [
    "#testing\n",
    "example = [1, 2, 25, 33, 16, 34]\n",
    "example2 = [3, 11, 12, 14, 41, 43] #known winner from list"
   ]
  },
  {
   "cell_type": "code",
   "execution_count": 13,
   "metadata": {
    "collapsed": false
   },
   "outputs": [
    {
     "name": "stdout",
     "output_type": "stream",
     "text": [
      "The combination {1, 2, 33, 34, 16, 25} has never occured.\n",
      "This doesn't mean it's more likely to occur now. Your chances to win the big prize in the next drawing using the combination [1, 2, 25, 33, 16, 34] are 0.0000072%.\n",
      "In other words, you have a 1 in 13,983,816 chances to win.\n"
     ]
    }
   ],
   "source": [
    "check_historical_occurence(example, winners)"
   ]
  },
  {
   "cell_type": "code",
   "execution_count": 14,
   "metadata": {
    "collapsed": false
   },
   "outputs": [
    {
     "name": "stdout",
     "output_type": "stream",
     "text": [
      "The number of times combination {3, 41, 11, 12, 43, 14} has occured in the past is 1.\n",
      "Your chances to win the big prize in the next drawing using the combination [3, 11, 12, 14, 41, 43] are 0.0000072%.\n",
      "In other words, you have a 1 in 13,983,816 chances to win.\n"
     ]
    }
   ],
   "source": [
    "check_historical_occurence(example2, winners)"
   ]
  },
  {
   "cell_type": "markdown",
   "metadata": {},
   "source": [
    "## Multi-ticket probability\n",
    "A known behavior of lottery addicts is to buy multiple tickets, in the belief that they are significantly increasing their chances of winning. Here I will create a function which will estimate the probability depending on the amount of tickets a user has purchased."
   ]
  },
  {
   "cell_type": "code",
   "execution_count": 15,
   "metadata": {
    "collapsed": false
   },
   "outputs": [],
   "source": [
    "#function to calculate probability depending on amount of user tickets\n",
    "#based on the logic of number of successful outcomes = number of tickets played\n",
    "def multi_ticket_probability(x):\n",
    "    total_c = combinations(49, 6)\n",
    "    ticket_p = x/total_c\n",
    "    \n",
    "    if x == 1:\n",
    "        print('Your chance of success with one ticket is:' + ' '+ '{:,.7%}'.format(ticket_p) + ',' \n",
    "          +' which is a ''{:,}'.format(x) + ' in '  + '{:,}'.format(int(total_c)) + ' ' + 'chance of winning!')\n",
    "        \n",
    "    else:    \n",
    "        print('Your chance of success with ''{}'.format(x) + ' ' + 'number of tickets is:' + ' '+ '{:,.7%}'.format(ticket_p) + ',' \n",
    "          +' which is a ''{:,}'.format(x) + ' in '  + '{:,}'.format(int(total_c)) + ' ' + 'chance of winning!')"
   ]
  },
  {
   "cell_type": "code",
   "execution_count": 16,
   "metadata": {
    "collapsed": false
   },
   "outputs": [
    {
     "name": "stdout",
     "output_type": "stream",
     "text": [
      "Your chance of success with one ticket is: 0.0000072%, which is a 1 in 13,983,816 chance of winning!\n",
      "Your chance of success with 10 number of tickets is: 0.0000715%, which is a 10 in 13,983,816 chance of winning!\n",
      "Your chance of success with 100 number of tickets is: 0.0007151%, which is a 100 in 13,983,816 chance of winning!\n",
      "Your chance of success with 10000 number of tickets is: 0.0715112%, which is a 10,000 in 13,983,816 chance of winning!\n",
      "Your chance of success with 1000000 number of tickets is: 7.1511238%, which is a 1,000,000 in 13,983,816 chance of winning!\n",
      "Your chance of success with 6991908 number of tickets is: 50.0000000%, which is a 6,991,908 in 13,983,816 chance of winning!\n",
      "Your chance of success with 13983816 number of tickets is: 100.0000000%, which is a 13,983,816 in 13,983,816 chance of winning!\n"
     ]
    }
   ],
   "source": [
    "#testing new function\n",
    "test = [1, 10, 100, 10000, 1000000, 6991908, 13983816]\n",
    "\n",
    "for i in test:\n",
    "    multi_ticket_probability(i)    "
   ]
  },
  {
   "cell_type": "markdown",
   "metadata": {
    "collapsed": true
   },
   "source": [
    "## Probability for less numbers (i.e. smaller prizes)\n",
    "Many lotteries reward players with a smaller prize fund should they obtain two, three, four, or five winning numbers. The users of the app may also be interested in understand the probability of winning one of these lesser prizes. As such, i'll need to consider a user input of their 6 different numbers and an integer between 2-5 to represent the number of winning numbers."
   ]
  },
  {
   "cell_type": "markdown",
   "metadata": {},
   "source": [
    "### Background logic\n",
    "\n",
    "Firstly, i'll need to understand and calculate probability of having exactly 5 winning numbers. \n",
    "\n",
    "As an example, i'll take 6 possible numbers from a lottery ticket. Using the combinations formula, i.e. 6 choose 5 = 6 (total combinations).\n",
    "\n",
    "There are therefore 44 possible successful outcomes; 5 matched numbers out of a possible 49, meaning there are a remaining 44 numbers that can be the unmatched number (as remember, I am looking at the possibility of exactly 5 numbers). \n",
    "\n",
    "For example, if my matched numbers were: 1, 2, 3, 4, 5. there are 44 more numbers that can be the unmatched e.g. 1, 2, 3, 4, 5, **32**.\n",
    "\n",
    "**However**, I need to exclude another number as each lottery ticket has 6 numbers a player has to pick, so the above is true for **at least** 5 numbers, but if we wanted to look at **only 5 matched numbers** we actually have 43 successful outcomes. (**note:** this would be 42 if you account for a bonus ball which allows an extra chance at matching a number **if** you have 5 matched numbers already e.g. 5/6 winning numbers and not the bonus).\n",
    "\n",
    "*(this is the same for 4 or 3, 2 etc. matched numbers, as you're still choosing 6 numbers on the ticket)*\n",
    "\n",
    "Since there is 6 five-number combinations, corresponding to 43 successful outcomes (of 5 matched numbers only), to find the total number of successful outcomes: **6 * 43 = 258** \n",
    "\n",
    "Therefore, the probability of **P(5-winning number)** = 258 / total possible outcomes = 0.00001845"
   ]
  },
  {
   "cell_type": "code",
   "execution_count": 109,
   "metadata": {
    "collapsed": true
   },
   "outputs": [],
   "source": [
    "#function to calculate depending on matched numbers\n",
    "def probability_less_6(k):\n",
    "    \n",
    "    #total combinations for number of matched numbers\n",
    "    ticket_c = combinations(6, k)\n",
    "          \n",
    "\n",
    "    total_c = combinations(49, 6)\n",
    "    \n",
    "    #possible winning tickets = (6 choose K) * (outcomes choose (6-K))\n",
    "    successful_c = ticket_c * combinations(43, 6 - k)\n",
    "    \n",
    "    ticket_p = successful_c / total_c\n",
    "    \n",
    "    #as a percentage\n",
    "    pct = ticket_p * 100\n",
    "    combos = round(total_c/ successful_c)\n",
    "    \n",
    "    print('''You have a {:.6f}% chance to have {} matched numbers with with your ticket. \n",
    "    This is a 1 in {:,} chance to win.'''.format(pct, k, combos)) "
   ]
  },
  {
   "cell_type": "code",
   "execution_count": 110,
   "metadata": {
    "collapsed": false
   },
   "outputs": [
    {
     "name": "stdout",
     "output_type": "stream",
     "text": [
      "You have a 13.237803% chance to have 2 matched numbers with with your ticket. \n",
      "    This is a 1 in 8 chance to win.\n",
      " \n",
      "You have a 1.765040% chance to have 3 matched numbers with with your ticket. \n",
      "    This is a 1 in 57 chance to win.\n",
      " \n",
      "You have a 0.096862% chance to have 4 matched numbers with with your ticket. \n",
      "    This is a 1 in 1,032 chance to win.\n",
      " \n",
      "You have a 0.001845% chance to have 5 matched numbers with with your ticket. \n",
      "    This is a 1 in 54,201 chance to win.\n",
      " \n"
     ]
    }
   ],
   "source": [
    "for i in [2, 3, 4, 5]:\n",
    "    probability_less_6(i)\n",
    "    print (' ')"
   ]
  },
  {
   "cell_type": "markdown",
   "metadata": {},
   "source": [
    "### Modified to account for a bonus ball 5-match"
   ]
  },
  {
   "cell_type": "code",
   "execution_count": 111,
   "metadata": {
    "collapsed": false
   },
   "outputs": [],
   "source": [
    "#function to calculate depending on matched numbers\n",
    "def probability_less_6_bonus(k):\n",
    "    \n",
    "    #total combinations for number of matched numbers\n",
    "    ticket_c = combinations(6, k)\n",
    "    \n",
    "    #if statement to determine how many to remove from total outcomes\n",
    "    #to account for a bonus number\n",
    "    if k == 5:\n",
    "        remove = 1\n",
    "    else:\n",
    "        remove = 0 \n",
    "\n",
    "            \n",
    "    remaining = 43 - remove\n",
    "    total_c = combinations(49, 6)\n",
    "    \n",
    "    #possible winning tickets = (6 choose K) * (outcomes choose (6-K))\n",
    "    successful_c = ticket_c * combinations(remaining, 6 - k)\n",
    "    \n",
    "    ticket_p = successful_c / total_c\n",
    "    \n",
    "    #as a percentage\n",
    "    pct = ticket_p * 100\n",
    "    combos = round(total_c/ successful_c)\n",
    "    \n",
    "    print('''You have a {:.6f}% chance to have {} matched numbers with with your ticket. \n",
    "    This is a 1 in {:,} chance to win.'''.format(pct, k, combos)) "
   ]
  },
  {
   "cell_type": "code",
   "execution_count": 112,
   "metadata": {
    "collapsed": false
   },
   "outputs": [
    {
     "name": "stdout",
     "output_type": "stream",
     "text": [
      "You have a 13.237803% chance to have 2 matched numbers with with your ticket. \n",
      "    This is a 1 in 8 chance to win.\n",
      " \n",
      "You have a 1.765040% chance to have 3 matched numbers with with your ticket. \n",
      "    This is a 1 in 57 chance to win.\n",
      " \n",
      "You have a 0.096862% chance to have 4 matched numbers with with your ticket. \n",
      "    This is a 1 in 1,032 chance to win.\n",
      " \n",
      "You have a 0.001802% chance to have 5 matched numbers with with your ticket. \n",
      "    This is a 1 in 55,491 chance to win.\n",
      " \n"
     ]
    }
   ],
   "source": [
    "for i in [2, 3, 4, 5]:\n",
    "    probability_less_6_bonus(i)\n",
    "    print (' ')"
   ]
  },
  {
   "cell_type": "code",
   "execution_count": null,
   "metadata": {
    "collapsed": true
   },
   "outputs": [],
   "source": []
  }
 ],
 "metadata": {
  "kernelspec": {
   "display_name": "Python 3",
   "language": "python",
   "name": "python3"
  },
  "language_info": {
   "codemirror_mode": {
    "name": "ipython",
    "version": 3
   },
   "file_extension": ".py",
   "mimetype": "text/x-python",
   "name": "python",
   "nbconvert_exporter": "python",
   "pygments_lexer": "ipython3",
   "version": "3.4.3"
  }
 },
 "nbformat": 4,
 "nbformat_minor": 2
}
