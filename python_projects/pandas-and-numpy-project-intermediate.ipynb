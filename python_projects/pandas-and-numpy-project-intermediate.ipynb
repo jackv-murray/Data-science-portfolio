{
 "cells": [
  {
   "cell_type": "markdown",
   "id": "c4f3b0be",
   "metadata": {
    "papermill": {
     "duration": 0.066511,
     "end_time": "2022-03-04T22:28:50.862289",
     "exception": false,
     "start_time": "2022-03-04T22:28:50.795778",
     "status": "completed"
    },
    "tags": []
   },
   "source": [
    "# NumPy and Pandas - project practice\n",
    "### eBay dataset, can be found: https://data.world/data-society/used-cars-data \n",
    "- contains data regarding used car listings\n",
    "- 371528 rows × 20 columns\n",
    "\n",
    "\n",
    "# Aims:\n",
    "- clean data (the data set I was orignally working on with Jupyter was unclean - however the kaggle version has been cleaned slightly. steps I made to clean are highlighted as comments \n",
    "- analyse the used car listing data\n",
    "\n",
    "Most of all, I just wanted to showcase my progress with both pandas and NumPy. I'm using another scenario provided by Dataquest.io as I am currently following their data scientist pathway. "
   ]
  },
  {
   "cell_type": "code",
   "execution_count": 1,
   "id": "c05b2129",
   "metadata": {
    "execution": {
     "iopub.execute_input": "2022-03-04T22:28:51.003881Z",
     "iopub.status.busy": "2022-03-04T22:28:51.003283Z",
     "iopub.status.idle": "2022-03-04T22:28:51.011420Z",
     "shell.execute_reply": "2022-03-04T22:28:51.010768Z",
     "shell.execute_reply.started": "2022-03-04T21:07:06.523367Z"
    },
    "papermill": {
     "duration": 0.081301,
     "end_time": "2022-03-04T22:28:51.011582",
     "exception": false,
     "start_time": "2022-03-04T22:28:50.930281",
     "status": "completed"
    },
    "tags": []
   },
   "outputs": [],
   "source": [
    "import numpy as np\n",
    "import pandas as pd"
   ]
  },
  {
   "cell_type": "code",
   "execution_count": 2,
   "id": "fed55f4e",
   "metadata": {
    "execution": {
     "iopub.execute_input": "2022-03-04T22:28:51.149860Z",
     "iopub.status.busy": "2022-03-04T22:28:51.149180Z",
     "iopub.status.idle": "2022-03-04T22:28:53.473538Z",
     "shell.execute_reply": "2022-03-04T22:28:53.472882Z",
     "shell.execute_reply.started": "2022-03-04T21:07:06.528843Z"
    },
    "papermill": {
     "duration": 2.395863,
     "end_time": "2022-03-04T22:28:53.473692",
     "exception": false,
     "start_time": "2022-03-04T22:28:51.077829",
     "status": "completed"
    },
    "tags": []
   },
   "outputs": [],
   "source": [
    "autos = pd.read_csv(\"../input/autosdataset/autos.csv\", encoding=\"Latin-1\")"
   ]
  },
  {
   "cell_type": "code",
   "execution_count": 3,
   "id": "69507e5f",
   "metadata": {
    "execution": {
     "iopub.execute_input": "2022-03-04T22:28:53.614570Z",
     "iopub.status.busy": "2022-03-04T22:28:53.613686Z",
     "iopub.status.idle": "2022-03-04T22:28:53.648550Z",
     "shell.execute_reply": "2022-03-04T22:28:53.649076Z",
     "shell.execute_reply.started": "2022-03-04T21:07:08.097337Z"
    },
    "papermill": {
     "duration": 0.109235,
     "end_time": "2022-03-04T22:28:53.649247",
     "exception": false,
     "start_time": "2022-03-04T22:28:53.540012",
     "status": "completed"
    },
    "tags": []
   },
   "outputs": [
    {
     "data": {
      "text/html": [
       "<div>\n",
       "<style scoped>\n",
       "    .dataframe tbody tr th:only-of-type {\n",
       "        vertical-align: middle;\n",
       "    }\n",
       "\n",
       "    .dataframe tbody tr th {\n",
       "        vertical-align: top;\n",
       "    }\n",
       "\n",
       "    .dataframe thead th {\n",
       "        text-align: right;\n",
       "    }\n",
       "</style>\n",
       "<table border=\"1\" class=\"dataframe\">\n",
       "  <thead>\n",
       "    <tr style=\"text-align: right;\">\n",
       "      <th></th>\n",
       "      <th>dateCrawled</th>\n",
       "      <th>name</th>\n",
       "      <th>seller</th>\n",
       "      <th>offerType</th>\n",
       "      <th>price</th>\n",
       "      <th>abtest</th>\n",
       "      <th>vehicleType</th>\n",
       "      <th>yearOfRegistration</th>\n",
       "      <th>gearbox</th>\n",
       "      <th>powerPS</th>\n",
       "      <th>model</th>\n",
       "      <th>kilometer</th>\n",
       "      <th>monthOfRegistration</th>\n",
       "      <th>fuelType</th>\n",
       "      <th>brand</th>\n",
       "      <th>notRepairedDamage</th>\n",
       "      <th>dateCreated</th>\n",
       "      <th>nrOfPictures</th>\n",
       "      <th>postalCode</th>\n",
       "      <th>lastSeen</th>\n",
       "    </tr>\n",
       "  </thead>\n",
       "  <tbody>\n",
       "    <tr>\n",
       "      <th>0</th>\n",
       "      <td>2016-03-24 11:52:17</td>\n",
       "      <td>Golf_3_1.6</td>\n",
       "      <td>privat</td>\n",
       "      <td>Angebot</td>\n",
       "      <td>480</td>\n",
       "      <td>test</td>\n",
       "      <td>NaN</td>\n",
       "      <td>1993</td>\n",
       "      <td>manuell</td>\n",
       "      <td>0</td>\n",
       "      <td>golf</td>\n",
       "      <td>150000</td>\n",
       "      <td>0</td>\n",
       "      <td>benzin</td>\n",
       "      <td>volkswagen</td>\n",
       "      <td>NaN</td>\n",
       "      <td>2016-03-24 00:00:00</td>\n",
       "      <td>0</td>\n",
       "      <td>70435</td>\n",
       "      <td>2016-04-07 03:16:57</td>\n",
       "    </tr>\n",
       "    <tr>\n",
       "      <th>1</th>\n",
       "      <td>2016-03-24 10:58:45</td>\n",
       "      <td>A5_Sportback_2.7_Tdi</td>\n",
       "      <td>privat</td>\n",
       "      <td>Angebot</td>\n",
       "      <td>18300</td>\n",
       "      <td>test</td>\n",
       "      <td>coupe</td>\n",
       "      <td>2011</td>\n",
       "      <td>manuell</td>\n",
       "      <td>190</td>\n",
       "      <td>NaN</td>\n",
       "      <td>125000</td>\n",
       "      <td>5</td>\n",
       "      <td>diesel</td>\n",
       "      <td>audi</td>\n",
       "      <td>ja</td>\n",
       "      <td>2016-03-24 00:00:00</td>\n",
       "      <td>0</td>\n",
       "      <td>66954</td>\n",
       "      <td>2016-04-07 01:46:50</td>\n",
       "    </tr>\n",
       "    <tr>\n",
       "      <th>2</th>\n",
       "      <td>2016-03-14 12:52:21</td>\n",
       "      <td>Jeep_Grand_Cherokee_\"Overland\"</td>\n",
       "      <td>privat</td>\n",
       "      <td>Angebot</td>\n",
       "      <td>9800</td>\n",
       "      <td>test</td>\n",
       "      <td>suv</td>\n",
       "      <td>2004</td>\n",
       "      <td>automatik</td>\n",
       "      <td>163</td>\n",
       "      <td>grand</td>\n",
       "      <td>125000</td>\n",
       "      <td>8</td>\n",
       "      <td>diesel</td>\n",
       "      <td>jeep</td>\n",
       "      <td>NaN</td>\n",
       "      <td>2016-03-14 00:00:00</td>\n",
       "      <td>0</td>\n",
       "      <td>90480</td>\n",
       "      <td>2016-04-05 12:47:46</td>\n",
       "    </tr>\n",
       "    <tr>\n",
       "      <th>3</th>\n",
       "      <td>2016-03-17 16:54:04</td>\n",
       "      <td>GOLF_4_1_4__3TÜRER</td>\n",
       "      <td>privat</td>\n",
       "      <td>Angebot</td>\n",
       "      <td>1500</td>\n",
       "      <td>test</td>\n",
       "      <td>kleinwagen</td>\n",
       "      <td>2001</td>\n",
       "      <td>manuell</td>\n",
       "      <td>75</td>\n",
       "      <td>golf</td>\n",
       "      <td>150000</td>\n",
       "      <td>6</td>\n",
       "      <td>benzin</td>\n",
       "      <td>volkswagen</td>\n",
       "      <td>nein</td>\n",
       "      <td>2016-03-17 00:00:00</td>\n",
       "      <td>0</td>\n",
       "      <td>91074</td>\n",
       "      <td>2016-03-17 17:40:17</td>\n",
       "    </tr>\n",
       "    <tr>\n",
       "      <th>4</th>\n",
       "      <td>2016-03-31 17:25:20</td>\n",
       "      <td>Skoda_Fabia_1.4_TDI_PD_Classic</td>\n",
       "      <td>privat</td>\n",
       "      <td>Angebot</td>\n",
       "      <td>3600</td>\n",
       "      <td>test</td>\n",
       "      <td>kleinwagen</td>\n",
       "      <td>2008</td>\n",
       "      <td>manuell</td>\n",
       "      <td>69</td>\n",
       "      <td>fabia</td>\n",
       "      <td>90000</td>\n",
       "      <td>7</td>\n",
       "      <td>diesel</td>\n",
       "      <td>skoda</td>\n",
       "      <td>nein</td>\n",
       "      <td>2016-03-31 00:00:00</td>\n",
       "      <td>0</td>\n",
       "      <td>60437</td>\n",
       "      <td>2016-04-06 10:17:21</td>\n",
       "    </tr>\n",
       "    <tr>\n",
       "      <th>...</th>\n",
       "      <td>...</td>\n",
       "      <td>...</td>\n",
       "      <td>...</td>\n",
       "      <td>...</td>\n",
       "      <td>...</td>\n",
       "      <td>...</td>\n",
       "      <td>...</td>\n",
       "      <td>...</td>\n",
       "      <td>...</td>\n",
       "      <td>...</td>\n",
       "      <td>...</td>\n",
       "      <td>...</td>\n",
       "      <td>...</td>\n",
       "      <td>...</td>\n",
       "      <td>...</td>\n",
       "      <td>...</td>\n",
       "      <td>...</td>\n",
       "      <td>...</td>\n",
       "      <td>...</td>\n",
       "      <td>...</td>\n",
       "    </tr>\n",
       "    <tr>\n",
       "      <th>371523</th>\n",
       "      <td>2016-03-14 17:48:27</td>\n",
       "      <td>Suche_t4___vito_ab_6_sitze</td>\n",
       "      <td>privat</td>\n",
       "      <td>Angebot</td>\n",
       "      <td>2200</td>\n",
       "      <td>test</td>\n",
       "      <td>NaN</td>\n",
       "      <td>2005</td>\n",
       "      <td>NaN</td>\n",
       "      <td>0</td>\n",
       "      <td>NaN</td>\n",
       "      <td>20000</td>\n",
       "      <td>1</td>\n",
       "      <td>NaN</td>\n",
       "      <td>sonstige_autos</td>\n",
       "      <td>NaN</td>\n",
       "      <td>2016-03-14 00:00:00</td>\n",
       "      <td>0</td>\n",
       "      <td>39576</td>\n",
       "      <td>2016-04-06 00:46:52</td>\n",
       "    </tr>\n",
       "    <tr>\n",
       "      <th>371524</th>\n",
       "      <td>2016-03-05 19:56:21</td>\n",
       "      <td>Smart_smart_leistungssteigerung_100ps</td>\n",
       "      <td>privat</td>\n",
       "      <td>Angebot</td>\n",
       "      <td>1199</td>\n",
       "      <td>test</td>\n",
       "      <td>cabrio</td>\n",
       "      <td>2000</td>\n",
       "      <td>automatik</td>\n",
       "      <td>101</td>\n",
       "      <td>fortwo</td>\n",
       "      <td>125000</td>\n",
       "      <td>3</td>\n",
       "      <td>benzin</td>\n",
       "      <td>smart</td>\n",
       "      <td>nein</td>\n",
       "      <td>2016-03-05 00:00:00</td>\n",
       "      <td>0</td>\n",
       "      <td>26135</td>\n",
       "      <td>2016-03-11 18:17:12</td>\n",
       "    </tr>\n",
       "    <tr>\n",
       "      <th>371525</th>\n",
       "      <td>2016-03-19 18:57:12</td>\n",
       "      <td>Volkswagen_Multivan_T4_TDI_7DC_UY2</td>\n",
       "      <td>privat</td>\n",
       "      <td>Angebot</td>\n",
       "      <td>9200</td>\n",
       "      <td>test</td>\n",
       "      <td>bus</td>\n",
       "      <td>1996</td>\n",
       "      <td>manuell</td>\n",
       "      <td>102</td>\n",
       "      <td>transporter</td>\n",
       "      <td>150000</td>\n",
       "      <td>3</td>\n",
       "      <td>diesel</td>\n",
       "      <td>volkswagen</td>\n",
       "      <td>nein</td>\n",
       "      <td>2016-03-19 00:00:00</td>\n",
       "      <td>0</td>\n",
       "      <td>87439</td>\n",
       "      <td>2016-04-07 07:15:26</td>\n",
       "    </tr>\n",
       "    <tr>\n",
       "      <th>371526</th>\n",
       "      <td>2016-03-20 19:41:08</td>\n",
       "      <td>VW_Golf_Kombi_1_9l_TDI</td>\n",
       "      <td>privat</td>\n",
       "      <td>Angebot</td>\n",
       "      <td>3400</td>\n",
       "      <td>test</td>\n",
       "      <td>kombi</td>\n",
       "      <td>2002</td>\n",
       "      <td>manuell</td>\n",
       "      <td>100</td>\n",
       "      <td>golf</td>\n",
       "      <td>150000</td>\n",
       "      <td>6</td>\n",
       "      <td>diesel</td>\n",
       "      <td>volkswagen</td>\n",
       "      <td>NaN</td>\n",
       "      <td>2016-03-20 00:00:00</td>\n",
       "      <td>0</td>\n",
       "      <td>40764</td>\n",
       "      <td>2016-03-24 12:45:21</td>\n",
       "    </tr>\n",
       "    <tr>\n",
       "      <th>371527</th>\n",
       "      <td>2016-03-07 19:39:19</td>\n",
       "      <td>BMW_M135i_vollausgestattet_NP_52.720____Euro</td>\n",
       "      <td>privat</td>\n",
       "      <td>Angebot</td>\n",
       "      <td>28990</td>\n",
       "      <td>control</td>\n",
       "      <td>limousine</td>\n",
       "      <td>2013</td>\n",
       "      <td>manuell</td>\n",
       "      <td>320</td>\n",
       "      <td>m_reihe</td>\n",
       "      <td>50000</td>\n",
       "      <td>8</td>\n",
       "      <td>benzin</td>\n",
       "      <td>bmw</td>\n",
       "      <td>nein</td>\n",
       "      <td>2016-03-07 00:00:00</td>\n",
       "      <td>0</td>\n",
       "      <td>73326</td>\n",
       "      <td>2016-03-22 03:17:10</td>\n",
       "    </tr>\n",
       "  </tbody>\n",
       "</table>\n",
       "<p>371528 rows × 20 columns</p>\n",
       "</div>"
      ],
      "text/plain": [
       "                dateCrawled                                          name  \\\n",
       "0       2016-03-24 11:52:17                                    Golf_3_1.6   \n",
       "1       2016-03-24 10:58:45                          A5_Sportback_2.7_Tdi   \n",
       "2       2016-03-14 12:52:21                Jeep_Grand_Cherokee_\"Overland\"   \n",
       "3       2016-03-17 16:54:04                            GOLF_4_1_4__3TÜRER   \n",
       "4       2016-03-31 17:25:20                Skoda_Fabia_1.4_TDI_PD_Classic   \n",
       "...                     ...                                           ...   \n",
       "371523  2016-03-14 17:48:27                    Suche_t4___vito_ab_6_sitze   \n",
       "371524  2016-03-05 19:56:21         Smart_smart_leistungssteigerung_100ps   \n",
       "371525  2016-03-19 18:57:12            Volkswagen_Multivan_T4_TDI_7DC_UY2   \n",
       "371526  2016-03-20 19:41:08                        VW_Golf_Kombi_1_9l_TDI   \n",
       "371527  2016-03-07 19:39:19  BMW_M135i_vollausgestattet_NP_52.720____Euro   \n",
       "\n",
       "        seller offerType  price   abtest vehicleType  yearOfRegistration  \\\n",
       "0       privat   Angebot    480     test         NaN                1993   \n",
       "1       privat   Angebot  18300     test       coupe                2011   \n",
       "2       privat   Angebot   9800     test         suv                2004   \n",
       "3       privat   Angebot   1500     test  kleinwagen                2001   \n",
       "4       privat   Angebot   3600     test  kleinwagen                2008   \n",
       "...        ...       ...    ...      ...         ...                 ...   \n",
       "371523  privat   Angebot   2200     test         NaN                2005   \n",
       "371524  privat   Angebot   1199     test      cabrio                2000   \n",
       "371525  privat   Angebot   9200     test         bus                1996   \n",
       "371526  privat   Angebot   3400     test       kombi                2002   \n",
       "371527  privat   Angebot  28990  control   limousine                2013   \n",
       "\n",
       "          gearbox  powerPS        model  kilometer  monthOfRegistration  \\\n",
       "0         manuell        0         golf     150000                    0   \n",
       "1         manuell      190          NaN     125000                    5   \n",
       "2       automatik      163        grand     125000                    8   \n",
       "3         manuell       75         golf     150000                    6   \n",
       "4         manuell       69        fabia      90000                    7   \n",
       "...           ...      ...          ...        ...                  ...   \n",
       "371523        NaN        0          NaN      20000                    1   \n",
       "371524  automatik      101       fortwo     125000                    3   \n",
       "371525    manuell      102  transporter     150000                    3   \n",
       "371526    manuell      100         golf     150000                    6   \n",
       "371527    manuell      320      m_reihe      50000                    8   \n",
       "\n",
       "       fuelType           brand notRepairedDamage          dateCreated  \\\n",
       "0        benzin      volkswagen               NaN  2016-03-24 00:00:00   \n",
       "1        diesel            audi                ja  2016-03-24 00:00:00   \n",
       "2        diesel            jeep               NaN  2016-03-14 00:00:00   \n",
       "3        benzin      volkswagen              nein  2016-03-17 00:00:00   \n",
       "4        diesel           skoda              nein  2016-03-31 00:00:00   \n",
       "...         ...             ...               ...                  ...   \n",
       "371523      NaN  sonstige_autos               NaN  2016-03-14 00:00:00   \n",
       "371524   benzin           smart              nein  2016-03-05 00:00:00   \n",
       "371525   diesel      volkswagen              nein  2016-03-19 00:00:00   \n",
       "371526   diesel      volkswagen               NaN  2016-03-20 00:00:00   \n",
       "371527   benzin             bmw              nein  2016-03-07 00:00:00   \n",
       "\n",
       "        nrOfPictures  postalCode             lastSeen  \n",
       "0                  0       70435  2016-04-07 03:16:57  \n",
       "1                  0       66954  2016-04-07 01:46:50  \n",
       "2                  0       90480  2016-04-05 12:47:46  \n",
       "3                  0       91074  2016-03-17 17:40:17  \n",
       "4                  0       60437  2016-04-06 10:17:21  \n",
       "...              ...         ...                  ...  \n",
       "371523             0       39576  2016-04-06 00:46:52  \n",
       "371524             0       26135  2016-03-11 18:17:12  \n",
       "371525             0       87439  2016-04-07 07:15:26  \n",
       "371526             0       40764  2016-03-24 12:45:21  \n",
       "371527             0       73326  2016-03-22 03:17:10  \n",
       "\n",
       "[371528 rows x 20 columns]"
      ]
     },
     "execution_count": 3,
     "metadata": {},
     "output_type": "execute_result"
    }
   ],
   "source": [
    "autos"
   ]
  },
  {
   "cell_type": "code",
   "execution_count": 4,
   "id": "0f195a14",
   "metadata": {
    "execution": {
     "iopub.execute_input": "2022-03-04T22:28:53.790667Z",
     "iopub.status.busy": "2022-03-04T22:28:53.789702Z",
     "iopub.status.idle": "2022-03-04T22:28:54.335686Z",
     "shell.execute_reply": "2022-03-04T22:28:54.336217Z",
     "shell.execute_reply.started": "2022-03-04T21:07:08.126377Z"
    },
    "papermill": {
     "duration": 0.620639,
     "end_time": "2022-03-04T22:28:54.336390",
     "exception": false,
     "start_time": "2022-03-04T22:28:53.715751",
     "status": "completed"
    },
    "tags": []
   },
   "outputs": [
    {
     "name": "stdout",
     "output_type": "stream",
     "text": [
      "<class 'pandas.core.frame.DataFrame'>\n",
      "RangeIndex: 371528 entries, 0 to 371527\n",
      "Data columns (total 20 columns):\n",
      " #   Column               Non-Null Count   Dtype \n",
      "---  ------               --------------   ----- \n",
      " 0   dateCrawled          371528 non-null  object\n",
      " 1   name                 371528 non-null  object\n",
      " 2   seller               371528 non-null  object\n",
      " 3   offerType            371528 non-null  object\n",
      " 4   price                371528 non-null  int64 \n",
      " 5   abtest               371528 non-null  object\n",
      " 6   vehicleType          333659 non-null  object\n",
      " 7   yearOfRegistration   371528 non-null  int64 \n",
      " 8   gearbox              351319 non-null  object\n",
      " 9   powerPS              371528 non-null  int64 \n",
      " 10  model                351044 non-null  object\n",
      " 11  kilometer            371528 non-null  int64 \n",
      " 12  monthOfRegistration  371528 non-null  int64 \n",
      " 13  fuelType             338142 non-null  object\n",
      " 14  brand                371528 non-null  object\n",
      " 15  notRepairedDamage    299468 non-null  object\n",
      " 16  dateCreated          371528 non-null  object\n",
      " 17  nrOfPictures         371528 non-null  int64 \n",
      " 18  postalCode           371528 non-null  int64 \n",
      " 19  lastSeen             371528 non-null  object\n",
      "dtypes: int64(7), object(13)\n",
      "memory usage: 56.7+ MB\n"
     ]
    },
    {
     "data": {
      "text/html": [
       "<div>\n",
       "<style scoped>\n",
       "    .dataframe tbody tr th:only-of-type {\n",
       "        vertical-align: middle;\n",
       "    }\n",
       "\n",
       "    .dataframe tbody tr th {\n",
       "        vertical-align: top;\n",
       "    }\n",
       "\n",
       "    .dataframe thead th {\n",
       "        text-align: right;\n",
       "    }\n",
       "</style>\n",
       "<table border=\"1\" class=\"dataframe\">\n",
       "  <thead>\n",
       "    <tr style=\"text-align: right;\">\n",
       "      <th></th>\n",
       "      <th>dateCrawled</th>\n",
       "      <th>name</th>\n",
       "      <th>seller</th>\n",
       "      <th>offerType</th>\n",
       "      <th>price</th>\n",
       "      <th>abtest</th>\n",
       "      <th>vehicleType</th>\n",
       "      <th>yearOfRegistration</th>\n",
       "      <th>gearbox</th>\n",
       "      <th>powerPS</th>\n",
       "      <th>model</th>\n",
       "      <th>kilometer</th>\n",
       "      <th>monthOfRegistration</th>\n",
       "      <th>fuelType</th>\n",
       "      <th>brand</th>\n",
       "      <th>notRepairedDamage</th>\n",
       "      <th>dateCreated</th>\n",
       "      <th>nrOfPictures</th>\n",
       "      <th>postalCode</th>\n",
       "      <th>lastSeen</th>\n",
       "    </tr>\n",
       "  </thead>\n",
       "  <tbody>\n",
       "    <tr>\n",
       "      <th>0</th>\n",
       "      <td>2016-03-24 11:52:17</td>\n",
       "      <td>Golf_3_1.6</td>\n",
       "      <td>privat</td>\n",
       "      <td>Angebot</td>\n",
       "      <td>480</td>\n",
       "      <td>test</td>\n",
       "      <td>NaN</td>\n",
       "      <td>1993</td>\n",
       "      <td>manuell</td>\n",
       "      <td>0</td>\n",
       "      <td>golf</td>\n",
       "      <td>150000</td>\n",
       "      <td>0</td>\n",
       "      <td>benzin</td>\n",
       "      <td>volkswagen</td>\n",
       "      <td>NaN</td>\n",
       "      <td>2016-03-24 00:00:00</td>\n",
       "      <td>0</td>\n",
       "      <td>70435</td>\n",
       "      <td>2016-04-07 03:16:57</td>\n",
       "    </tr>\n",
       "    <tr>\n",
       "      <th>1</th>\n",
       "      <td>2016-03-24 10:58:45</td>\n",
       "      <td>A5_Sportback_2.7_Tdi</td>\n",
       "      <td>privat</td>\n",
       "      <td>Angebot</td>\n",
       "      <td>18300</td>\n",
       "      <td>test</td>\n",
       "      <td>coupe</td>\n",
       "      <td>2011</td>\n",
       "      <td>manuell</td>\n",
       "      <td>190</td>\n",
       "      <td>NaN</td>\n",
       "      <td>125000</td>\n",
       "      <td>5</td>\n",
       "      <td>diesel</td>\n",
       "      <td>audi</td>\n",
       "      <td>ja</td>\n",
       "      <td>2016-03-24 00:00:00</td>\n",
       "      <td>0</td>\n",
       "      <td>66954</td>\n",
       "      <td>2016-04-07 01:46:50</td>\n",
       "    </tr>\n",
       "    <tr>\n",
       "      <th>2</th>\n",
       "      <td>2016-03-14 12:52:21</td>\n",
       "      <td>Jeep_Grand_Cherokee_\"Overland\"</td>\n",
       "      <td>privat</td>\n",
       "      <td>Angebot</td>\n",
       "      <td>9800</td>\n",
       "      <td>test</td>\n",
       "      <td>suv</td>\n",
       "      <td>2004</td>\n",
       "      <td>automatik</td>\n",
       "      <td>163</td>\n",
       "      <td>grand</td>\n",
       "      <td>125000</td>\n",
       "      <td>8</td>\n",
       "      <td>diesel</td>\n",
       "      <td>jeep</td>\n",
       "      <td>NaN</td>\n",
       "      <td>2016-03-14 00:00:00</td>\n",
       "      <td>0</td>\n",
       "      <td>90480</td>\n",
       "      <td>2016-04-05 12:47:46</td>\n",
       "    </tr>\n",
       "    <tr>\n",
       "      <th>3</th>\n",
       "      <td>2016-03-17 16:54:04</td>\n",
       "      <td>GOLF_4_1_4__3TÜRER</td>\n",
       "      <td>privat</td>\n",
       "      <td>Angebot</td>\n",
       "      <td>1500</td>\n",
       "      <td>test</td>\n",
       "      <td>kleinwagen</td>\n",
       "      <td>2001</td>\n",
       "      <td>manuell</td>\n",
       "      <td>75</td>\n",
       "      <td>golf</td>\n",
       "      <td>150000</td>\n",
       "      <td>6</td>\n",
       "      <td>benzin</td>\n",
       "      <td>volkswagen</td>\n",
       "      <td>nein</td>\n",
       "      <td>2016-03-17 00:00:00</td>\n",
       "      <td>0</td>\n",
       "      <td>91074</td>\n",
       "      <td>2016-03-17 17:40:17</td>\n",
       "    </tr>\n",
       "    <tr>\n",
       "      <th>4</th>\n",
       "      <td>2016-03-31 17:25:20</td>\n",
       "      <td>Skoda_Fabia_1.4_TDI_PD_Classic</td>\n",
       "      <td>privat</td>\n",
       "      <td>Angebot</td>\n",
       "      <td>3600</td>\n",
       "      <td>test</td>\n",
       "      <td>kleinwagen</td>\n",
       "      <td>2008</td>\n",
       "      <td>manuell</td>\n",
       "      <td>69</td>\n",
       "      <td>fabia</td>\n",
       "      <td>90000</td>\n",
       "      <td>7</td>\n",
       "      <td>diesel</td>\n",
       "      <td>skoda</td>\n",
       "      <td>nein</td>\n",
       "      <td>2016-03-31 00:00:00</td>\n",
       "      <td>0</td>\n",
       "      <td>60437</td>\n",
       "      <td>2016-04-06 10:17:21</td>\n",
       "    </tr>\n",
       "  </tbody>\n",
       "</table>\n",
       "</div>"
      ],
      "text/plain": [
       "           dateCrawled                            name  seller offerType  \\\n",
       "0  2016-03-24 11:52:17                      Golf_3_1.6  privat   Angebot   \n",
       "1  2016-03-24 10:58:45            A5_Sportback_2.7_Tdi  privat   Angebot   \n",
       "2  2016-03-14 12:52:21  Jeep_Grand_Cherokee_\"Overland\"  privat   Angebot   \n",
       "3  2016-03-17 16:54:04              GOLF_4_1_4__3TÜRER  privat   Angebot   \n",
       "4  2016-03-31 17:25:20  Skoda_Fabia_1.4_TDI_PD_Classic  privat   Angebot   \n",
       "\n",
       "   price abtest vehicleType  yearOfRegistration    gearbox  powerPS  model  \\\n",
       "0    480   test         NaN                1993    manuell        0   golf   \n",
       "1  18300   test       coupe                2011    manuell      190    NaN   \n",
       "2   9800   test         suv                2004  automatik      163  grand   \n",
       "3   1500   test  kleinwagen                2001    manuell       75   golf   \n",
       "4   3600   test  kleinwagen                2008    manuell       69  fabia   \n",
       "\n",
       "   kilometer  monthOfRegistration fuelType       brand notRepairedDamage  \\\n",
       "0     150000                    0   benzin  volkswagen               NaN   \n",
       "1     125000                    5   diesel        audi                ja   \n",
       "2     125000                    8   diesel        jeep               NaN   \n",
       "3     150000                    6   benzin  volkswagen              nein   \n",
       "4      90000                    7   diesel       skoda              nein   \n",
       "\n",
       "           dateCreated  nrOfPictures  postalCode             lastSeen  \n",
       "0  2016-03-24 00:00:00             0       70435  2016-04-07 03:16:57  \n",
       "1  2016-03-24 00:00:00             0       66954  2016-04-07 01:46:50  \n",
       "2  2016-03-14 00:00:00             0       90480  2016-04-05 12:47:46  \n",
       "3  2016-03-17 00:00:00             0       91074  2016-03-17 17:40:17  \n",
       "4  2016-03-31 00:00:00             0       60437  2016-04-06 10:17:21  "
      ]
     },
     "execution_count": 4,
     "metadata": {},
     "output_type": "execute_result"
    }
   ],
   "source": [
    "autos.info()\n",
    "autos.head()"
   ]
  },
  {
   "cell_type": "markdown",
   "id": "3ceaee2f",
   "metadata": {
    "papermill": {
     "duration": 0.066912,
     "end_time": "2022-03-04T22:28:54.470458",
     "exception": false,
     "start_time": "2022-03-04T22:28:54.403546",
     "status": "completed"
    },
    "tags": []
   },
   "source": [
    "## General observations\n",
    "- inconsistent formating for several columns, most notably 'name' with a mixture of full capitals and uncapitalised text\n",
    "- some values missing for columns, non-null count varied for the 5000 entries\n",
    "- most common datatype is string (object)\n",
    "- column format is in camelcase (would prefer snakecase - more standardised)"
   ]
  },
  {
   "cell_type": "code",
   "execution_count": 5,
   "id": "ed99ccce",
   "metadata": {
    "execution": {
     "iopub.execute_input": "2022-03-04T22:28:54.610651Z",
     "iopub.status.busy": "2022-03-04T22:28:54.609970Z",
     "iopub.status.idle": "2022-03-04T22:28:54.613280Z",
     "shell.execute_reply": "2022-03-04T22:28:54.612727Z",
     "shell.execute_reply.started": "2022-03-04T21:07:08.648523Z"
    },
    "papermill": {
     "duration": 0.075796,
     "end_time": "2022-03-04T22:28:54.613416",
     "exception": false,
     "start_time": "2022-03-04T22:28:54.537620",
     "status": "completed"
    },
    "tags": []
   },
   "outputs": [
    {
     "data": {
      "text/plain": [
       "Index(['dateCrawled', 'name', 'seller', 'offerType', 'price', 'abtest',\n",
       "       'vehicleType', 'yearOfRegistration', 'gearbox', 'powerPS', 'model',\n",
       "       'kilometer', 'monthOfRegistration', 'fuelType', 'brand',\n",
       "       'notRepairedDamage', 'dateCreated', 'nrOfPictures', 'postalCode',\n",
       "       'lastSeen'],\n",
       "      dtype='object')"
      ]
     },
     "execution_count": 5,
     "metadata": {},
     "output_type": "execute_result"
    }
   ],
   "source": [
    "autos.columns"
   ]
  },
  {
   "cell_type": "markdown",
   "id": "ac503443",
   "metadata": {
    "papermill": {
     "duration": 0.067663,
     "end_time": "2022-03-04T22:28:54.750039",
     "exception": false,
     "start_time": "2022-03-04T22:28:54.682376",
     "status": "completed"
    },
    "tags": []
   },
   "source": [
    "editing column names to improve readability:"
   ]
  },
  {
   "cell_type": "code",
   "execution_count": 6,
   "id": "91734f67",
   "metadata": {
    "execution": {
     "iopub.execute_input": "2022-03-04T22:28:54.890619Z",
     "iopub.status.busy": "2022-03-04T22:28:54.889941Z",
     "iopub.status.idle": "2022-03-04T22:28:54.893013Z",
     "shell.execute_reply": "2022-03-04T22:28:54.892472Z",
     "shell.execute_reply.started": "2022-03-04T21:07:08.655254Z"
    },
    "papermill": {
     "duration": 0.076098,
     "end_time": "2022-03-04T22:28:54.893154",
     "exception": false,
     "start_time": "2022-03-04T22:28:54.817056",
     "status": "completed"
    },
    "tags": []
   },
   "outputs": [],
   "source": [
    "autos.columns = ('date_crawled', 'name', 'seller', 'offer_type', 'price', 'abtest',\n",
    "       'vehicle_type', 'registration_year', 'gearbox', 'power_PS', 'model',\n",
    "       'odometer', 'registration_month', 'fuel_type', 'brand',\n",
    "       'unrepaired_damage', 'ad_created', 'nr_of_pictures', 'postal_code',\n",
    "       'last_seen',)"
   ]
  },
  {
   "cell_type": "code",
   "execution_count": 7,
   "id": "b8c344e0",
   "metadata": {
    "execution": {
     "iopub.execute_input": "2022-03-04T22:28:55.031010Z",
     "iopub.status.busy": "2022-03-04T22:28:55.030350Z",
     "iopub.status.idle": "2022-03-04T22:28:55.035375Z",
     "shell.execute_reply": "2022-03-04T22:28:55.035834Z",
     "shell.execute_reply.started": "2022-03-04T21:07:08.663988Z"
    },
    "papermill": {
     "duration": 0.075259,
     "end_time": "2022-03-04T22:28:55.036013",
     "exception": false,
     "start_time": "2022-03-04T22:28:54.960754",
     "status": "completed"
    },
    "tags": []
   },
   "outputs": [
    {
     "data": {
      "text/plain": [
       "Index(['date_crawled', 'name', 'seller', 'offer_type', 'price', 'abtest',\n",
       "       'vehicle_type', 'registration_year', 'gearbox', 'power_PS', 'model',\n",
       "       'odometer', 'registration_month', 'fuel_type', 'brand',\n",
       "       'unrepaired_damage', 'ad_created', 'nr_of_pictures', 'postal_code',\n",
       "       'last_seen'],\n",
       "      dtype='object')"
      ]
     },
     "execution_count": 7,
     "metadata": {},
     "output_type": "execute_result"
    }
   ],
   "source": [
    "autos.columns"
   ]
  },
  {
   "cell_type": "code",
   "execution_count": 8,
   "id": "f44ffb2e",
   "metadata": {
    "execution": {
     "iopub.execute_input": "2022-03-04T22:28:55.174749Z",
     "iopub.status.busy": "2022-03-04T22:28:55.174136Z",
     "iopub.status.idle": "2022-03-04T22:28:55.192352Z",
     "shell.execute_reply": "2022-03-04T22:28:55.192832Z",
     "shell.execute_reply.started": "2022-03-04T21:07:08.67685Z"
    },
    "papermill": {
     "duration": 0.089812,
     "end_time": "2022-03-04T22:28:55.193019",
     "exception": false,
     "start_time": "2022-03-04T22:28:55.103207",
     "status": "completed"
    },
    "tags": []
   },
   "outputs": [
    {
     "data": {
      "text/html": [
       "<div>\n",
       "<style scoped>\n",
       "    .dataframe tbody tr th:only-of-type {\n",
       "        vertical-align: middle;\n",
       "    }\n",
       "\n",
       "    .dataframe tbody tr th {\n",
       "        vertical-align: top;\n",
       "    }\n",
       "\n",
       "    .dataframe thead th {\n",
       "        text-align: right;\n",
       "    }\n",
       "</style>\n",
       "<table border=\"1\" class=\"dataframe\">\n",
       "  <thead>\n",
       "    <tr style=\"text-align: right;\">\n",
       "      <th></th>\n",
       "      <th>date_crawled</th>\n",
       "      <th>name</th>\n",
       "      <th>seller</th>\n",
       "      <th>offer_type</th>\n",
       "      <th>price</th>\n",
       "      <th>abtest</th>\n",
       "      <th>vehicle_type</th>\n",
       "      <th>registration_year</th>\n",
       "      <th>gearbox</th>\n",
       "      <th>power_PS</th>\n",
       "      <th>model</th>\n",
       "      <th>odometer</th>\n",
       "      <th>registration_month</th>\n",
       "      <th>fuel_type</th>\n",
       "      <th>brand</th>\n",
       "      <th>unrepaired_damage</th>\n",
       "      <th>ad_created</th>\n",
       "      <th>nr_of_pictures</th>\n",
       "      <th>postal_code</th>\n",
       "      <th>last_seen</th>\n",
       "    </tr>\n",
       "  </thead>\n",
       "  <tbody>\n",
       "    <tr>\n",
       "      <th>0</th>\n",
       "      <td>2016-03-24 11:52:17</td>\n",
       "      <td>Golf_3_1.6</td>\n",
       "      <td>privat</td>\n",
       "      <td>Angebot</td>\n",
       "      <td>480</td>\n",
       "      <td>test</td>\n",
       "      <td>NaN</td>\n",
       "      <td>1993</td>\n",
       "      <td>manuell</td>\n",
       "      <td>0</td>\n",
       "      <td>golf</td>\n",
       "      <td>150000</td>\n",
       "      <td>0</td>\n",
       "      <td>benzin</td>\n",
       "      <td>volkswagen</td>\n",
       "      <td>NaN</td>\n",
       "      <td>2016-03-24 00:00:00</td>\n",
       "      <td>0</td>\n",
       "      <td>70435</td>\n",
       "      <td>2016-04-07 03:16:57</td>\n",
       "    </tr>\n",
       "    <tr>\n",
       "      <th>1</th>\n",
       "      <td>2016-03-24 10:58:45</td>\n",
       "      <td>A5_Sportback_2.7_Tdi</td>\n",
       "      <td>privat</td>\n",
       "      <td>Angebot</td>\n",
       "      <td>18300</td>\n",
       "      <td>test</td>\n",
       "      <td>coupe</td>\n",
       "      <td>2011</td>\n",
       "      <td>manuell</td>\n",
       "      <td>190</td>\n",
       "      <td>NaN</td>\n",
       "      <td>125000</td>\n",
       "      <td>5</td>\n",
       "      <td>diesel</td>\n",
       "      <td>audi</td>\n",
       "      <td>ja</td>\n",
       "      <td>2016-03-24 00:00:00</td>\n",
       "      <td>0</td>\n",
       "      <td>66954</td>\n",
       "      <td>2016-04-07 01:46:50</td>\n",
       "    </tr>\n",
       "    <tr>\n",
       "      <th>2</th>\n",
       "      <td>2016-03-14 12:52:21</td>\n",
       "      <td>Jeep_Grand_Cherokee_\"Overland\"</td>\n",
       "      <td>privat</td>\n",
       "      <td>Angebot</td>\n",
       "      <td>9800</td>\n",
       "      <td>test</td>\n",
       "      <td>suv</td>\n",
       "      <td>2004</td>\n",
       "      <td>automatik</td>\n",
       "      <td>163</td>\n",
       "      <td>grand</td>\n",
       "      <td>125000</td>\n",
       "      <td>8</td>\n",
       "      <td>diesel</td>\n",
       "      <td>jeep</td>\n",
       "      <td>NaN</td>\n",
       "      <td>2016-03-14 00:00:00</td>\n",
       "      <td>0</td>\n",
       "      <td>90480</td>\n",
       "      <td>2016-04-05 12:47:46</td>\n",
       "    </tr>\n",
       "    <tr>\n",
       "      <th>3</th>\n",
       "      <td>2016-03-17 16:54:04</td>\n",
       "      <td>GOLF_4_1_4__3TÜRER</td>\n",
       "      <td>privat</td>\n",
       "      <td>Angebot</td>\n",
       "      <td>1500</td>\n",
       "      <td>test</td>\n",
       "      <td>kleinwagen</td>\n",
       "      <td>2001</td>\n",
       "      <td>manuell</td>\n",
       "      <td>75</td>\n",
       "      <td>golf</td>\n",
       "      <td>150000</td>\n",
       "      <td>6</td>\n",
       "      <td>benzin</td>\n",
       "      <td>volkswagen</td>\n",
       "      <td>nein</td>\n",
       "      <td>2016-03-17 00:00:00</td>\n",
       "      <td>0</td>\n",
       "      <td>91074</td>\n",
       "      <td>2016-03-17 17:40:17</td>\n",
       "    </tr>\n",
       "    <tr>\n",
       "      <th>4</th>\n",
       "      <td>2016-03-31 17:25:20</td>\n",
       "      <td>Skoda_Fabia_1.4_TDI_PD_Classic</td>\n",
       "      <td>privat</td>\n",
       "      <td>Angebot</td>\n",
       "      <td>3600</td>\n",
       "      <td>test</td>\n",
       "      <td>kleinwagen</td>\n",
       "      <td>2008</td>\n",
       "      <td>manuell</td>\n",
       "      <td>69</td>\n",
       "      <td>fabia</td>\n",
       "      <td>90000</td>\n",
       "      <td>7</td>\n",
       "      <td>diesel</td>\n",
       "      <td>skoda</td>\n",
       "      <td>nein</td>\n",
       "      <td>2016-03-31 00:00:00</td>\n",
       "      <td>0</td>\n",
       "      <td>60437</td>\n",
       "      <td>2016-04-06 10:17:21</td>\n",
       "    </tr>\n",
       "  </tbody>\n",
       "</table>\n",
       "</div>"
      ],
      "text/plain": [
       "          date_crawled                            name  seller offer_type  \\\n",
       "0  2016-03-24 11:52:17                      Golf_3_1.6  privat    Angebot   \n",
       "1  2016-03-24 10:58:45            A5_Sportback_2.7_Tdi  privat    Angebot   \n",
       "2  2016-03-14 12:52:21  Jeep_Grand_Cherokee_\"Overland\"  privat    Angebot   \n",
       "3  2016-03-17 16:54:04              GOLF_4_1_4__3TÜRER  privat    Angebot   \n",
       "4  2016-03-31 17:25:20  Skoda_Fabia_1.4_TDI_PD_Classic  privat    Angebot   \n",
       "\n",
       "   price abtest vehicle_type  registration_year    gearbox  power_PS  model  \\\n",
       "0    480   test          NaN               1993    manuell         0   golf   \n",
       "1  18300   test        coupe               2011    manuell       190    NaN   \n",
       "2   9800   test          suv               2004  automatik       163  grand   \n",
       "3   1500   test   kleinwagen               2001    manuell        75   golf   \n",
       "4   3600   test   kleinwagen               2008    manuell        69  fabia   \n",
       "\n",
       "   odometer  registration_month fuel_type       brand unrepaired_damage  \\\n",
       "0    150000                   0    benzin  volkswagen               NaN   \n",
       "1    125000                   5    diesel        audi                ja   \n",
       "2    125000                   8    diesel        jeep               NaN   \n",
       "3    150000                   6    benzin  volkswagen              nein   \n",
       "4     90000                   7    diesel       skoda              nein   \n",
       "\n",
       "            ad_created  nr_of_pictures  postal_code            last_seen  \n",
       "0  2016-03-24 00:00:00               0        70435  2016-04-07 03:16:57  \n",
       "1  2016-03-24 00:00:00               0        66954  2016-04-07 01:46:50  \n",
       "2  2016-03-14 00:00:00               0        90480  2016-04-05 12:47:46  \n",
       "3  2016-03-17 00:00:00               0        91074  2016-03-17 17:40:17  \n",
       "4  2016-03-31 00:00:00               0        60437  2016-04-06 10:17:21  "
      ]
     },
     "execution_count": 8,
     "metadata": {},
     "output_type": "execute_result"
    }
   ],
   "source": [
    "autos.head()"
   ]
  },
  {
   "cell_type": "markdown",
   "id": "8eeeb87f",
   "metadata": {
    "papermill": {
     "duration": 0.068123,
     "end_time": "2022-03-04T22:28:55.330115",
     "exception": false,
     "start_time": "2022-03-04T22:28:55.261992",
     "status": "completed"
    },
    "tags": []
   },
   "source": [
    "# Data exploration\n",
    "Initially looking for text columns where all or almost all values are the same (lack of information to analyse). Also looking for any data types that should be converted e.g. numeric data stored as strings that may need cleaning before converting. "
   ]
  },
  {
   "cell_type": "code",
   "execution_count": 9,
   "id": "084852cf",
   "metadata": {
    "execution": {
     "iopub.execute_input": "2022-03-04T22:28:55.743102Z",
     "iopub.status.busy": "2022-03-04T22:28:55.742426Z",
     "iopub.status.idle": "2022-03-04T22:28:57.482666Z",
     "shell.execute_reply": "2022-03-04T22:28:57.482012Z",
     "shell.execute_reply.started": "2022-03-04T21:07:08.698395Z"
    },
    "papermill": {
     "duration": 2.084551,
     "end_time": "2022-03-04T22:28:57.482807",
     "exception": false,
     "start_time": "2022-03-04T22:28:55.398256",
     "status": "completed"
    },
    "tags": []
   },
   "outputs": [
    {
     "data": {
      "text/html": [
       "<div>\n",
       "<style scoped>\n",
       "    .dataframe tbody tr th:only-of-type {\n",
       "        vertical-align: middle;\n",
       "    }\n",
       "\n",
       "    .dataframe tbody tr th {\n",
       "        vertical-align: top;\n",
       "    }\n",
       "\n",
       "    .dataframe thead th {\n",
       "        text-align: right;\n",
       "    }\n",
       "</style>\n",
       "<table border=\"1\" class=\"dataframe\">\n",
       "  <thead>\n",
       "    <tr style=\"text-align: right;\">\n",
       "      <th></th>\n",
       "      <th>date_crawled</th>\n",
       "      <th>name</th>\n",
       "      <th>seller</th>\n",
       "      <th>offer_type</th>\n",
       "      <th>price</th>\n",
       "      <th>abtest</th>\n",
       "      <th>vehicle_type</th>\n",
       "      <th>registration_year</th>\n",
       "      <th>gearbox</th>\n",
       "      <th>power_PS</th>\n",
       "      <th>model</th>\n",
       "      <th>odometer</th>\n",
       "      <th>registration_month</th>\n",
       "      <th>fuel_type</th>\n",
       "      <th>brand</th>\n",
       "      <th>unrepaired_damage</th>\n",
       "      <th>ad_created</th>\n",
       "      <th>nr_of_pictures</th>\n",
       "      <th>postal_code</th>\n",
       "      <th>last_seen</th>\n",
       "    </tr>\n",
       "  </thead>\n",
       "  <tbody>\n",
       "    <tr>\n",
       "      <th>count</th>\n",
       "      <td>371528</td>\n",
       "      <td>371528</td>\n",
       "      <td>371528</td>\n",
       "      <td>371528</td>\n",
       "      <td>3.715280e+05</td>\n",
       "      <td>371528</td>\n",
       "      <td>333659</td>\n",
       "      <td>371528.000000</td>\n",
       "      <td>351319</td>\n",
       "      <td>371528.000000</td>\n",
       "      <td>351044</td>\n",
       "      <td>371528.000000</td>\n",
       "      <td>371528.000000</td>\n",
       "      <td>338142</td>\n",
       "      <td>371528</td>\n",
       "      <td>299468</td>\n",
       "      <td>371528</td>\n",
       "      <td>371528.0</td>\n",
       "      <td>371528.00000</td>\n",
       "      <td>371528</td>\n",
       "    </tr>\n",
       "    <tr>\n",
       "      <th>unique</th>\n",
       "      <td>280500</td>\n",
       "      <td>233531</td>\n",
       "      <td>2</td>\n",
       "      <td>2</td>\n",
       "      <td>NaN</td>\n",
       "      <td>2</td>\n",
       "      <td>8</td>\n",
       "      <td>NaN</td>\n",
       "      <td>2</td>\n",
       "      <td>NaN</td>\n",
       "      <td>251</td>\n",
       "      <td>NaN</td>\n",
       "      <td>NaN</td>\n",
       "      <td>7</td>\n",
       "      <td>40</td>\n",
       "      <td>2</td>\n",
       "      <td>114</td>\n",
       "      <td>NaN</td>\n",
       "      <td>NaN</td>\n",
       "      <td>182806</td>\n",
       "    </tr>\n",
       "    <tr>\n",
       "      <th>top</th>\n",
       "      <td>2016-03-24 14:49:47</td>\n",
       "      <td>Ford_Fiesta</td>\n",
       "      <td>privat</td>\n",
       "      <td>Angebot</td>\n",
       "      <td>NaN</td>\n",
       "      <td>test</td>\n",
       "      <td>limousine</td>\n",
       "      <td>NaN</td>\n",
       "      <td>manuell</td>\n",
       "      <td>NaN</td>\n",
       "      <td>golf</td>\n",
       "      <td>NaN</td>\n",
       "      <td>NaN</td>\n",
       "      <td>benzin</td>\n",
       "      <td>volkswagen</td>\n",
       "      <td>nein</td>\n",
       "      <td>2016-04-03 00:00:00</td>\n",
       "      <td>NaN</td>\n",
       "      <td>NaN</td>\n",
       "      <td>2016-04-07 06:45:59</td>\n",
       "    </tr>\n",
       "    <tr>\n",
       "      <th>freq</th>\n",
       "      <td>7</td>\n",
       "      <td>657</td>\n",
       "      <td>371525</td>\n",
       "      <td>371516</td>\n",
       "      <td>NaN</td>\n",
       "      <td>192585</td>\n",
       "      <td>95894</td>\n",
       "      <td>NaN</td>\n",
       "      <td>274214</td>\n",
       "      <td>NaN</td>\n",
       "      <td>30070</td>\n",
       "      <td>NaN</td>\n",
       "      <td>NaN</td>\n",
       "      <td>223857</td>\n",
       "      <td>79640</td>\n",
       "      <td>263182</td>\n",
       "      <td>14450</td>\n",
       "      <td>NaN</td>\n",
       "      <td>NaN</td>\n",
       "      <td>17</td>\n",
       "    </tr>\n",
       "    <tr>\n",
       "      <th>mean</th>\n",
       "      <td>NaN</td>\n",
       "      <td>NaN</td>\n",
       "      <td>NaN</td>\n",
       "      <td>NaN</td>\n",
       "      <td>1.729514e+04</td>\n",
       "      <td>NaN</td>\n",
       "      <td>NaN</td>\n",
       "      <td>2004.577997</td>\n",
       "      <td>NaN</td>\n",
       "      <td>115.549477</td>\n",
       "      <td>NaN</td>\n",
       "      <td>125618.688228</td>\n",
       "      <td>5.734445</td>\n",
       "      <td>NaN</td>\n",
       "      <td>NaN</td>\n",
       "      <td>NaN</td>\n",
       "      <td>NaN</td>\n",
       "      <td>0.0</td>\n",
       "      <td>50820.66764</td>\n",
       "      <td>NaN</td>\n",
       "    </tr>\n",
       "    <tr>\n",
       "      <th>std</th>\n",
       "      <td>NaN</td>\n",
       "      <td>NaN</td>\n",
       "      <td>NaN</td>\n",
       "      <td>NaN</td>\n",
       "      <td>3.587954e+06</td>\n",
       "      <td>NaN</td>\n",
       "      <td>NaN</td>\n",
       "      <td>92.866598</td>\n",
       "      <td>NaN</td>\n",
       "      <td>192.139578</td>\n",
       "      <td>NaN</td>\n",
       "      <td>40112.337051</td>\n",
       "      <td>3.712412</td>\n",
       "      <td>NaN</td>\n",
       "      <td>NaN</td>\n",
       "      <td>NaN</td>\n",
       "      <td>NaN</td>\n",
       "      <td>0.0</td>\n",
       "      <td>25799.08247</td>\n",
       "      <td>NaN</td>\n",
       "    </tr>\n",
       "    <tr>\n",
       "      <th>min</th>\n",
       "      <td>NaN</td>\n",
       "      <td>NaN</td>\n",
       "      <td>NaN</td>\n",
       "      <td>NaN</td>\n",
       "      <td>0.000000e+00</td>\n",
       "      <td>NaN</td>\n",
       "      <td>NaN</td>\n",
       "      <td>1000.000000</td>\n",
       "      <td>NaN</td>\n",
       "      <td>0.000000</td>\n",
       "      <td>NaN</td>\n",
       "      <td>5000.000000</td>\n",
       "      <td>0.000000</td>\n",
       "      <td>NaN</td>\n",
       "      <td>NaN</td>\n",
       "      <td>NaN</td>\n",
       "      <td>NaN</td>\n",
       "      <td>0.0</td>\n",
       "      <td>1067.00000</td>\n",
       "      <td>NaN</td>\n",
       "    </tr>\n",
       "    <tr>\n",
       "      <th>25%</th>\n",
       "      <td>NaN</td>\n",
       "      <td>NaN</td>\n",
       "      <td>NaN</td>\n",
       "      <td>NaN</td>\n",
       "      <td>1.150000e+03</td>\n",
       "      <td>NaN</td>\n",
       "      <td>NaN</td>\n",
       "      <td>1999.000000</td>\n",
       "      <td>NaN</td>\n",
       "      <td>70.000000</td>\n",
       "      <td>NaN</td>\n",
       "      <td>125000.000000</td>\n",
       "      <td>3.000000</td>\n",
       "      <td>NaN</td>\n",
       "      <td>NaN</td>\n",
       "      <td>NaN</td>\n",
       "      <td>NaN</td>\n",
       "      <td>0.0</td>\n",
       "      <td>30459.00000</td>\n",
       "      <td>NaN</td>\n",
       "    </tr>\n",
       "    <tr>\n",
       "      <th>50%</th>\n",
       "      <td>NaN</td>\n",
       "      <td>NaN</td>\n",
       "      <td>NaN</td>\n",
       "      <td>NaN</td>\n",
       "      <td>2.950000e+03</td>\n",
       "      <td>NaN</td>\n",
       "      <td>NaN</td>\n",
       "      <td>2003.000000</td>\n",
       "      <td>NaN</td>\n",
       "      <td>105.000000</td>\n",
       "      <td>NaN</td>\n",
       "      <td>150000.000000</td>\n",
       "      <td>6.000000</td>\n",
       "      <td>NaN</td>\n",
       "      <td>NaN</td>\n",
       "      <td>NaN</td>\n",
       "      <td>NaN</td>\n",
       "      <td>0.0</td>\n",
       "      <td>49610.00000</td>\n",
       "      <td>NaN</td>\n",
       "    </tr>\n",
       "    <tr>\n",
       "      <th>75%</th>\n",
       "      <td>NaN</td>\n",
       "      <td>NaN</td>\n",
       "      <td>NaN</td>\n",
       "      <td>NaN</td>\n",
       "      <td>7.200000e+03</td>\n",
       "      <td>NaN</td>\n",
       "      <td>NaN</td>\n",
       "      <td>2008.000000</td>\n",
       "      <td>NaN</td>\n",
       "      <td>150.000000</td>\n",
       "      <td>NaN</td>\n",
       "      <td>150000.000000</td>\n",
       "      <td>9.000000</td>\n",
       "      <td>NaN</td>\n",
       "      <td>NaN</td>\n",
       "      <td>NaN</td>\n",
       "      <td>NaN</td>\n",
       "      <td>0.0</td>\n",
       "      <td>71546.00000</td>\n",
       "      <td>NaN</td>\n",
       "    </tr>\n",
       "    <tr>\n",
       "      <th>max</th>\n",
       "      <td>NaN</td>\n",
       "      <td>NaN</td>\n",
       "      <td>NaN</td>\n",
       "      <td>NaN</td>\n",
       "      <td>2.147484e+09</td>\n",
       "      <td>NaN</td>\n",
       "      <td>NaN</td>\n",
       "      <td>9999.000000</td>\n",
       "      <td>NaN</td>\n",
       "      <td>20000.000000</td>\n",
       "      <td>NaN</td>\n",
       "      <td>150000.000000</td>\n",
       "      <td>12.000000</td>\n",
       "      <td>NaN</td>\n",
       "      <td>NaN</td>\n",
       "      <td>NaN</td>\n",
       "      <td>NaN</td>\n",
       "      <td>0.0</td>\n",
       "      <td>99998.00000</td>\n",
       "      <td>NaN</td>\n",
       "    </tr>\n",
       "  </tbody>\n",
       "</table>\n",
       "</div>"
      ],
      "text/plain": [
       "               date_crawled         name  seller offer_type         price  \\\n",
       "count                371528       371528  371528     371528  3.715280e+05   \n",
       "unique               280500       233531       2          2           NaN   \n",
       "top     2016-03-24 14:49:47  Ford_Fiesta  privat    Angebot           NaN   \n",
       "freq                      7          657  371525     371516           NaN   \n",
       "mean                    NaN          NaN     NaN        NaN  1.729514e+04   \n",
       "std                     NaN          NaN     NaN        NaN  3.587954e+06   \n",
       "min                     NaN          NaN     NaN        NaN  0.000000e+00   \n",
       "25%                     NaN          NaN     NaN        NaN  1.150000e+03   \n",
       "50%                     NaN          NaN     NaN        NaN  2.950000e+03   \n",
       "75%                     NaN          NaN     NaN        NaN  7.200000e+03   \n",
       "max                     NaN          NaN     NaN        NaN  2.147484e+09   \n",
       "\n",
       "        abtest vehicle_type  registration_year  gearbox       power_PS  \\\n",
       "count   371528       333659      371528.000000   351319  371528.000000   \n",
       "unique       2            8                NaN        2            NaN   \n",
       "top       test    limousine                NaN  manuell            NaN   \n",
       "freq    192585        95894                NaN   274214            NaN   \n",
       "mean       NaN          NaN        2004.577997      NaN     115.549477   \n",
       "std        NaN          NaN          92.866598      NaN     192.139578   \n",
       "min        NaN          NaN        1000.000000      NaN       0.000000   \n",
       "25%        NaN          NaN        1999.000000      NaN      70.000000   \n",
       "50%        NaN          NaN        2003.000000      NaN     105.000000   \n",
       "75%        NaN          NaN        2008.000000      NaN     150.000000   \n",
       "max        NaN          NaN        9999.000000      NaN   20000.000000   \n",
       "\n",
       "         model       odometer  registration_month fuel_type       brand  \\\n",
       "count   351044  371528.000000       371528.000000    338142      371528   \n",
       "unique     251            NaN                 NaN         7          40   \n",
       "top       golf            NaN                 NaN    benzin  volkswagen   \n",
       "freq     30070            NaN                 NaN    223857       79640   \n",
       "mean       NaN  125618.688228            5.734445       NaN         NaN   \n",
       "std        NaN   40112.337051            3.712412       NaN         NaN   \n",
       "min        NaN    5000.000000            0.000000       NaN         NaN   \n",
       "25%        NaN  125000.000000            3.000000       NaN         NaN   \n",
       "50%        NaN  150000.000000            6.000000       NaN         NaN   \n",
       "75%        NaN  150000.000000            9.000000       NaN         NaN   \n",
       "max        NaN  150000.000000           12.000000       NaN         NaN   \n",
       "\n",
       "       unrepaired_damage           ad_created  nr_of_pictures   postal_code  \\\n",
       "count             299468               371528        371528.0  371528.00000   \n",
       "unique                 2                  114             NaN           NaN   \n",
       "top                 nein  2016-04-03 00:00:00             NaN           NaN   \n",
       "freq              263182                14450             NaN           NaN   \n",
       "mean                 NaN                  NaN             0.0   50820.66764   \n",
       "std                  NaN                  NaN             0.0   25799.08247   \n",
       "min                  NaN                  NaN             0.0    1067.00000   \n",
       "25%                  NaN                  NaN             0.0   30459.00000   \n",
       "50%                  NaN                  NaN             0.0   49610.00000   \n",
       "75%                  NaN                  NaN             0.0   71546.00000   \n",
       "max                  NaN                  NaN             0.0   99998.00000   \n",
       "\n",
       "                  last_seen  \n",
       "count                371528  \n",
       "unique               182806  \n",
       "top     2016-04-07 06:45:59  \n",
       "freq                     17  \n",
       "mean                    NaN  \n",
       "std                     NaN  \n",
       "min                     NaN  \n",
       "25%                     NaN  \n",
       "50%                     NaN  \n",
       "75%                     NaN  \n",
       "max                     NaN  "
      ]
     },
     "execution_count": 9,
     "metadata": {},
     "output_type": "execute_result"
    }
   ],
   "source": [
    "autos.describe(include='all')"
   ]
  },
  {
   "cell_type": "markdown",
   "id": "eca47b1e",
   "metadata": {
    "papermill": {
     "duration": 0.069144,
     "end_time": "2022-03-04T22:28:57.621580",
     "exception": false,
     "start_time": "2022-03-04T22:28:57.552436",
     "status": "completed"
    },
    "tags": []
   },
   "source": [
    "From the above:\n",
    "- most sellers are 'privat', with the exception of 1 listing\n",
    "- most offer types are 'Angebot' (German for 'offer')\n",
    "- (potentially) unrepaired_damage, most are nein (35232/40171)\n",
    "\n",
    "datatype issues:\n",
    "- price, odometer are stored as text when they're actually numeric"
   ]
  },
  {
   "cell_type": "code",
   "execution_count": 10,
   "id": "78b7d95c",
   "metadata": {
    "execution": {
     "iopub.execute_input": "2022-03-04T22:28:57.765374Z",
     "iopub.status.busy": "2022-03-04T22:28:57.764439Z",
     "iopub.status.idle": "2022-03-04T22:28:57.771274Z",
     "shell.execute_reply": "2022-03-04T22:28:57.771828Z",
     "shell.execute_reply.started": "2022-03-04T21:07:10.484865Z"
    },
    "papermill": {
     "duration": 0.080221,
     "end_time": "2022-03-04T22:28:57.771995",
     "exception": false,
     "start_time": "2022-03-04T22:28:57.691774",
     "status": "completed"
    },
    "tags": []
   },
   "outputs": [
    {
     "data": {
      "text/plain": [
       "0           480\n",
       "1         18300\n",
       "2          9800\n",
       "3          1500\n",
       "4          3600\n",
       "          ...  \n",
       "371523     2200\n",
       "371524     1199\n",
       "371525     9200\n",
       "371526     3400\n",
       "371527    28990\n",
       "Name: price, Length: 371528, dtype: int64"
      ]
     },
     "execution_count": 10,
     "metadata": {},
     "output_type": "execute_result"
    }
   ],
   "source": [
    "autos[\"price\"]"
   ]
  },
  {
   "cell_type": "markdown",
   "id": "713b174e",
   "metadata": {
    "papermill": {
     "duration": 0.072724,
     "end_time": "2022-03-04T22:28:57.915126",
     "exception": false,
     "start_time": "2022-03-04T22:28:57.842402",
     "status": "completed"
    },
    "tags": []
   },
   "source": [
    "I'll remove the $ and comma:"
   ]
  },
  {
   "cell_type": "code",
   "execution_count": 11,
   "id": "48e6ee33",
   "metadata": {
    "execution": {
     "iopub.execute_input": "2022-03-04T22:28:58.061550Z",
     "iopub.status.busy": "2022-03-04T22:28:58.060598Z",
     "iopub.status.idle": "2022-03-04T22:28:58.063992Z",
     "shell.execute_reply": "2022-03-04T22:28:58.064569Z",
     "shell.execute_reply.started": "2022-03-04T21:07:10.499863Z"
    },
    "papermill": {
     "duration": 0.07833,
     "end_time": "2022-03-04T22:28:58.064730",
     "exception": false,
     "start_time": "2022-03-04T22:28:57.986400",
     "status": "completed"
    },
    "tags": []
   },
   "outputs": [],
   "source": [
    "#the dataset i was originally working on was 'pre-cleaned, in which $ and comma were included' autos[\"price\"] = autos[\"price\"].str.replace(\"$\", \"\").str.replace(\",\", \"\")"
   ]
  },
  {
   "cell_type": "markdown",
   "id": "705a0a30",
   "metadata": {
    "papermill": {
     "duration": 0.068989,
     "end_time": "2022-03-04T22:28:58.203323",
     "exception": false,
     "start_time": "2022-03-04T22:28:58.134334",
     "status": "completed"
    },
    "tags": []
   },
   "source": [
    "change the datatype to int:"
   ]
  },
  {
   "cell_type": "code",
   "execution_count": 12,
   "id": "a2207d5e",
   "metadata": {
    "execution": {
     "iopub.execute_input": "2022-03-04T22:28:58.347629Z",
     "iopub.status.busy": "2022-03-04T22:28:58.346931Z",
     "iopub.status.idle": "2022-03-04T22:28:58.353832Z",
     "shell.execute_reply": "2022-03-04T22:28:58.354402Z",
     "shell.execute_reply.started": "2022-03-04T21:07:10.506242Z"
    },
    "papermill": {
     "duration": 0.081412,
     "end_time": "2022-03-04T22:28:58.354582",
     "exception": false,
     "start_time": "2022-03-04T22:28:58.273170",
     "status": "completed"
    },
    "tags": []
   },
   "outputs": [],
   "source": [
    "autos[\"price\"] = autos[\"price\"].astype(int)"
   ]
  },
  {
   "cell_type": "code",
   "execution_count": 13,
   "id": "0c21288d",
   "metadata": {
    "execution": {
     "iopub.execute_input": "2022-03-04T22:28:58.997923Z",
     "iopub.status.busy": "2022-03-04T22:28:58.500388Z",
     "iopub.status.idle": "2022-03-04T22:28:59.022607Z",
     "shell.execute_reply": "2022-03-04T22:28:59.023117Z",
     "shell.execute_reply.started": "2022-03-04T21:07:10.518889Z"
    },
    "papermill": {
     "duration": 0.598174,
     "end_time": "2022-03-04T22:28:59.023319",
     "exception": false,
     "start_time": "2022-03-04T22:28:58.425145",
     "status": "completed"
    },
    "tags": []
   },
   "outputs": [
    {
     "name": "stdout",
     "output_type": "stream",
     "text": [
      "<class 'pandas.core.frame.DataFrame'>\n",
      "RangeIndex: 371528 entries, 0 to 371527\n",
      "Data columns (total 20 columns):\n",
      " #   Column              Non-Null Count   Dtype \n",
      "---  ------              --------------   ----- \n",
      " 0   date_crawled        371528 non-null  object\n",
      " 1   name                371528 non-null  object\n",
      " 2   seller              371528 non-null  object\n",
      " 3   offer_type          371528 non-null  object\n",
      " 4   price               371528 non-null  int64 \n",
      " 5   abtest              371528 non-null  object\n",
      " 6   vehicle_type        333659 non-null  object\n",
      " 7   registration_year   371528 non-null  int64 \n",
      " 8   gearbox             351319 non-null  object\n",
      " 9   power_PS            371528 non-null  int64 \n",
      " 10  model               351044 non-null  object\n",
      " 11  odometer            371528 non-null  int64 \n",
      " 12  registration_month  371528 non-null  int64 \n",
      " 13  fuel_type           338142 non-null  object\n",
      " 14  brand               371528 non-null  object\n",
      " 15  unrepaired_damage   299468 non-null  object\n",
      " 16  ad_created          371528 non-null  object\n",
      " 17  nr_of_pictures      371528 non-null  int64 \n",
      " 18  postal_code         371528 non-null  int64 \n",
      " 19  last_seen           371528 non-null  object\n",
      "dtypes: int64(7), object(13)\n",
      "memory usage: 56.7+ MB\n"
     ]
    }
   ],
   "source": [
    "autos.info() #to confirm change to int was successful"
   ]
  },
  {
   "cell_type": "markdown",
   "id": "c8db341f",
   "metadata": {
    "papermill": {
     "duration": 0.070234,
     "end_time": "2022-03-04T22:28:59.166331",
     "exception": false,
     "start_time": "2022-03-04T22:28:59.096097",
     "status": "completed"
    },
    "tags": []
   },
   "source": [
    "I'll now clean 'odometer' column:"
   ]
  },
  {
   "cell_type": "code",
   "execution_count": 14,
   "id": "b68380b6",
   "metadata": {
    "execution": {
     "iopub.execute_input": "2022-03-04T22:28:59.311682Z",
     "iopub.status.busy": "2022-03-04T22:28:59.311062Z",
     "iopub.status.idle": "2022-03-04T22:28:59.317091Z",
     "shell.execute_reply": "2022-03-04T22:28:59.317619Z",
     "shell.execute_reply.started": "2022-03-04T21:07:11.017613Z"
    },
    "papermill": {
     "duration": 0.080232,
     "end_time": "2022-03-04T22:28:59.317789",
     "exception": false,
     "start_time": "2022-03-04T22:28:59.237557",
     "status": "completed"
    },
    "tags": []
   },
   "outputs": [
    {
     "data": {
      "text/plain": [
       "0         150000\n",
       "1         125000\n",
       "2         125000\n",
       "3         150000\n",
       "4          90000\n",
       "           ...  \n",
       "371523     20000\n",
       "371524    125000\n",
       "371525    150000\n",
       "371526    150000\n",
       "371527     50000\n",
       "Name: odometer, Length: 371528, dtype: int64"
      ]
     },
     "execution_count": 14,
     "metadata": {},
     "output_type": "execute_result"
    }
   ],
   "source": [
    "autos[\"odometer\"]"
   ]
  },
  {
   "cell_type": "code",
   "execution_count": 15,
   "id": "8e1dfb3c",
   "metadata": {
    "execution": {
     "iopub.execute_input": "2022-03-04T22:28:59.462920Z",
     "iopub.status.busy": "2022-03-04T22:28:59.462283Z",
     "iopub.status.idle": "2022-03-04T22:28:59.465055Z",
     "shell.execute_reply": "2022-03-04T22:28:59.465617Z",
     "shell.execute_reply.started": "2022-03-04T21:07:11.025543Z"
    },
    "papermill": {
     "duration": 0.077291,
     "end_time": "2022-03-04T22:28:59.465772",
     "exception": false,
     "start_time": "2022-03-04T22:28:59.388481",
     "status": "completed"
    },
    "tags": []
   },
   "outputs": [],
   "source": [
    "# autos[\"odometer\"] = autos[\"odometer\"].str.replace(\"km\", \"\").str.replace(\",\", \"\")"
   ]
  },
  {
   "cell_type": "code",
   "execution_count": 16,
   "id": "2aa425f0",
   "metadata": {
    "execution": {
     "iopub.execute_input": "2022-03-04T22:28:59.612040Z",
     "iopub.status.busy": "2022-03-04T22:28:59.611386Z",
     "iopub.status.idle": "2022-03-04T22:28:59.620123Z",
     "shell.execute_reply": "2022-03-04T22:28:59.620676Z",
     "shell.execute_reply.started": "2022-03-04T21:07:11.036827Z"
    },
    "papermill": {
     "duration": 0.084197,
     "end_time": "2022-03-04T22:28:59.620849",
     "exception": false,
     "start_time": "2022-03-04T22:28:59.536652",
     "status": "completed"
    },
    "tags": []
   },
   "outputs": [],
   "source": [
    "autos[\"odometer\"] = autos[\"odometer\"].astype(int)"
   ]
  },
  {
   "cell_type": "code",
   "execution_count": 17,
   "id": "edabf3f0",
   "metadata": {
    "execution": {
     "iopub.execute_input": "2022-03-04T22:28:59.770867Z",
     "iopub.status.busy": "2022-03-04T22:28:59.770259Z",
     "iopub.status.idle": "2022-03-04T22:28:59.772297Z",
     "shell.execute_reply": "2022-03-04T22:28:59.772856Z",
     "shell.execute_reply.started": "2022-03-04T21:07:11.050797Z"
    },
    "papermill": {
     "duration": 0.079421,
     "end_time": "2022-03-04T22:28:59.773074",
     "exception": false,
     "start_time": "2022-03-04T22:28:59.693653",
     "status": "completed"
    },
    "tags": []
   },
   "outputs": [],
   "source": [
    "autos.rename({\"odometer\":\"odometer_km\"}, axis=1, inplace=True)"
   ]
  },
  {
   "cell_type": "code",
   "execution_count": 18,
   "id": "0cd80ae3",
   "metadata": {
    "execution": {
     "iopub.execute_input": "2022-03-04T22:28:59.918749Z",
     "iopub.status.busy": "2022-03-04T22:28:59.918125Z",
     "iopub.status.idle": "2022-03-04T22:29:00.442081Z",
     "shell.execute_reply": "2022-03-04T22:29:00.441568Z",
     "shell.execute_reply.started": "2022-03-04T21:07:11.057837Z"
    },
    "papermill": {
     "duration": 0.597886,
     "end_time": "2022-03-04T22:29:00.442223",
     "exception": false,
     "start_time": "2022-03-04T22:28:59.844337",
     "status": "completed"
    },
    "tags": []
   },
   "outputs": [
    {
     "name": "stdout",
     "output_type": "stream",
     "text": [
      "<class 'pandas.core.frame.DataFrame'>\n",
      "RangeIndex: 371528 entries, 0 to 371527\n",
      "Data columns (total 20 columns):\n",
      " #   Column              Non-Null Count   Dtype \n",
      "---  ------              --------------   ----- \n",
      " 0   date_crawled        371528 non-null  object\n",
      " 1   name                371528 non-null  object\n",
      " 2   seller              371528 non-null  object\n",
      " 3   offer_type          371528 non-null  object\n",
      " 4   price               371528 non-null  int64 \n",
      " 5   abtest              371528 non-null  object\n",
      " 6   vehicle_type        333659 non-null  object\n",
      " 7   registration_year   371528 non-null  int64 \n",
      " 8   gearbox             351319 non-null  object\n",
      " 9   power_PS            371528 non-null  int64 \n",
      " 10  model               351044 non-null  object\n",
      " 11  odometer_km         371528 non-null  int64 \n",
      " 12  registration_month  371528 non-null  int64 \n",
      " 13  fuel_type           338142 non-null  object\n",
      " 14  brand               371528 non-null  object\n",
      " 15  unrepaired_damage   299468 non-null  object\n",
      " 16  ad_created          371528 non-null  object\n",
      " 17  nr_of_pictures      371528 non-null  int64 \n",
      " 18  postal_code         371528 non-null  int64 \n",
      " 19  last_seen           371528 non-null  object\n",
      "dtypes: int64(7), object(13)\n",
      "memory usage: 56.7+ MB\n"
     ]
    }
   ],
   "source": [
    "autos.info()"
   ]
  },
  {
   "cell_type": "code",
   "execution_count": 19,
   "id": "2e637c0f",
   "metadata": {
    "execution": {
     "iopub.execute_input": "2022-03-04T22:29:00.593221Z",
     "iopub.status.busy": "2022-03-04T22:29:00.592567Z",
     "iopub.status.idle": "2022-03-04T22:29:00.595378Z",
     "shell.execute_reply": "2022-03-04T22:29:00.595893Z",
     "shell.execute_reply.started": "2022-03-04T21:07:11.561031Z"
    },
    "papermill": {
     "duration": 0.082049,
     "end_time": "2022-03-04T22:29:00.596072",
     "exception": false,
     "start_time": "2022-03-04T22:29:00.514023",
     "status": "completed"
    },
    "tags": []
   },
   "outputs": [
    {
     "data": {
      "text/plain": [
       "0         150000\n",
       "1         125000\n",
       "2         125000\n",
       "3         150000\n",
       "4          90000\n",
       "           ...  \n",
       "371523     20000\n",
       "371524    125000\n",
       "371525    150000\n",
       "371526    150000\n",
       "371527     50000\n",
       "Name: odometer_km, Length: 371528, dtype: int64"
      ]
     },
     "execution_count": 19,
     "metadata": {},
     "output_type": "execute_result"
    }
   ],
   "source": [
    "autos[\"odometer_km\"]"
   ]
  },
  {
   "cell_type": "markdown",
   "id": "27bfebe9",
   "metadata": {
    "papermill": {
     "duration": 0.071529,
     "end_time": "2022-03-04T22:29:00.741249",
     "exception": false,
     "start_time": "2022-03-04T22:29:00.669720",
     "status": "completed"
    },
    "tags": []
   },
   "source": [
    "## Analysing price and odometer_km\n",
    "- determine how many unique values\n",
    "- min/max values to identify any outliers that might need removal"
   ]
  },
  {
   "cell_type": "code",
   "execution_count": 20,
   "id": "51ca07b9",
   "metadata": {
    "execution": {
     "iopub.execute_input": "2022-03-04T22:29:00.886269Z",
     "iopub.status.busy": "2022-03-04T22:29:00.885641Z",
     "iopub.status.idle": "2022-03-04T22:29:00.892860Z",
     "shell.execute_reply": "2022-03-04T22:29:00.893452Z",
     "shell.execute_reply.started": "2022-03-04T21:07:11.568976Z"
    },
    "papermill": {
     "duration": 0.08124,
     "end_time": "2022-03-04T22:29:00.893625",
     "exception": false,
     "start_time": "2022-03-04T22:29:00.812385",
     "status": "completed"
    },
    "scrolled": true,
    "tags": []
   },
   "outputs": [
    {
     "data": {
      "text/plain": [
       "(13,)"
      ]
     },
     "execution_count": 20,
     "metadata": {},
     "output_type": "execute_result"
    }
   ],
   "source": [
    "autos[\"odometer_km\"].unique().shape #to determine how many unique values"
   ]
  },
  {
   "cell_type": "code",
   "execution_count": 21,
   "id": "93f0b6e6",
   "metadata": {
    "execution": {
     "iopub.execute_input": "2022-03-04T22:29:01.044459Z",
     "iopub.status.busy": "2022-03-04T22:29:01.043752Z",
     "iopub.status.idle": "2022-03-04T22:29:01.061411Z",
     "shell.execute_reply": "2022-03-04T22:29:01.061977Z",
     "shell.execute_reply.started": "2022-03-04T21:07:11.582739Z"
    },
    "papermill": {
     "duration": 0.096644,
     "end_time": "2022-03-04T22:29:01.062145",
     "exception": false,
     "start_time": "2022-03-04T22:29:00.965501",
     "status": "completed"
    },
    "tags": []
   },
   "outputs": [
    {
     "data": {
      "text/plain": [
       "count    371528.000000\n",
       "mean     125618.688228\n",
       "std       40112.337051\n",
       "min        5000.000000\n",
       "25%      125000.000000\n",
       "50%      150000.000000\n",
       "75%      150000.000000\n",
       "max      150000.000000\n",
       "Name: odometer_km, dtype: float64"
      ]
     },
     "execution_count": 21,
     "metadata": {},
     "output_type": "execute_result"
    }
   ],
   "source": [
    "autos[\"odometer_km\"].describe()"
   ]
  },
  {
   "cell_type": "code",
   "execution_count": 22,
   "id": "58def2ec",
   "metadata": {
    "execution": {
     "iopub.execute_input": "2022-03-04T22:29:01.210802Z",
     "iopub.status.busy": "2022-03-04T22:29:01.210220Z",
     "iopub.status.idle": "2022-03-04T22:29:01.218518Z",
     "shell.execute_reply": "2022-03-04T22:29:01.219108Z",
     "shell.execute_reply.started": "2022-03-04T21:07:11.604377Z"
    },
    "papermill": {
     "duration": 0.084225,
     "end_time": "2022-03-04T22:29:01.219273",
     "exception": false,
     "start_time": "2022-03-04T22:29:01.135048",
     "status": "completed"
    },
    "tags": []
   },
   "outputs": [
    {
     "data": {
      "text/plain": [
       "150000    240797\n",
       "125000     38067\n",
       "100000     15920\n",
       "90000      12523\n",
       "80000      11053\n",
       "70000       9773\n",
       "60000       8669\n",
       "50000       7615\n",
       "5000        7069\n",
       "40000       6376\n",
       "30000       6041\n",
       "20000       5676\n",
       "10000       1949\n",
       "Name: odometer_km, dtype: int64"
      ]
     },
     "execution_count": 22,
     "metadata": {},
     "output_type": "execute_result"
    }
   ],
   "source": [
    "autos[\"odometer_km\"].value_counts()"
   ]
  },
  {
   "cell_type": "code",
   "execution_count": 23,
   "id": "8b25df5a",
   "metadata": {
    "execution": {
     "iopub.execute_input": "2022-03-04T22:29:01.369247Z",
     "iopub.status.busy": "2022-03-04T22:29:01.368613Z",
     "iopub.status.idle": "2022-03-04T22:29:01.376296Z",
     "shell.execute_reply": "2022-03-04T22:29:01.376895Z",
     "shell.execute_reply.started": "2022-03-04T21:07:11.622193Z"
    },
    "papermill": {
     "duration": 0.084339,
     "end_time": "2022-03-04T22:29:01.377095",
     "exception": false,
     "start_time": "2022-03-04T22:29:01.292756",
     "status": "completed"
    },
    "tags": []
   },
   "outputs": [
    {
     "data": {
      "text/plain": [
       "(5597,)"
      ]
     },
     "execution_count": 23,
     "metadata": {},
     "output_type": "execute_result"
    }
   ],
   "source": [
    "autos[\"price\"].unique().shape"
   ]
  },
  {
   "cell_type": "code",
   "execution_count": 24,
   "id": "507a4312",
   "metadata": {
    "execution": {
     "iopub.execute_input": "2022-03-04T22:29:01.528497Z",
     "iopub.status.busy": "2022-03-04T22:29:01.527859Z",
     "iopub.status.idle": "2022-03-04T22:29:01.549150Z",
     "shell.execute_reply": "2022-03-04T22:29:01.548612Z",
     "shell.execute_reply.started": "2022-03-04T21:07:11.638053Z"
    },
    "papermill": {
     "duration": 0.097297,
     "end_time": "2022-03-04T22:29:01.549301",
     "exception": false,
     "start_time": "2022-03-04T22:29:01.452004",
     "status": "completed"
    },
    "tags": []
   },
   "outputs": [
    {
     "data": {
      "text/plain": [
       "count    3.715280e+05\n",
       "mean     1.729514e+04\n",
       "std      3.587954e+06\n",
       "min      0.000000e+00\n",
       "25%      1.150000e+03\n",
       "50%      2.950000e+03\n",
       "75%      7.200000e+03\n",
       "max      2.147484e+09\n",
       "Name: price, dtype: float64"
      ]
     },
     "execution_count": 24,
     "metadata": {},
     "output_type": "execute_result"
    }
   ],
   "source": [
    "autos[\"price\"].describe()"
   ]
  },
  {
   "cell_type": "code",
   "execution_count": 25,
   "id": "b1d6ab08",
   "metadata": {
    "execution": {
     "iopub.execute_input": "2022-03-04T22:29:01.705870Z",
     "iopub.status.busy": "2022-03-04T22:29:01.704931Z",
     "iopub.status.idle": "2022-03-04T22:29:01.723803Z",
     "shell.execute_reply": "2022-03-04T22:29:01.724559Z",
     "shell.execute_reply.started": "2022-03-04T21:07:11.666994Z"
    },
    "papermill": {
     "duration": 0.101975,
     "end_time": "2022-03-04T22:29:01.724786",
     "exception": false,
     "start_time": "2022-03-04T22:29:01.622811",
     "status": "completed"
    },
    "tags": []
   },
   "outputs": [
    {
     "data": {
      "text/plain": [
       "0     10778\n",
       "1      1189\n",
       "2        12\n",
       "3         8\n",
       "4         1\n",
       "5        26\n",
       "7         3\n",
       "8         9\n",
       "9         8\n",
       "10       84\n",
       "11        5\n",
       "12        8\n",
       "13        7\n",
       "14        5\n",
       "15       27\n",
       "Name: price, dtype: int64"
      ]
     },
     "execution_count": 25,
     "metadata": {},
     "output_type": "execute_result"
    }
   ],
   "source": [
    "autos[\"price\"].value_counts().sort_index(ascending=True).head(15)\n",
    "#to view lowest values. chained to .head() because of the amount of unique values"
   ]
  },
  {
   "cell_type": "code",
   "execution_count": 26,
   "id": "50c1d8fd",
   "metadata": {
    "execution": {
     "iopub.execute_input": "2022-03-04T22:29:01.896031Z",
     "iopub.status.busy": "2022-03-04T22:29:01.894995Z",
     "iopub.status.idle": "2022-03-04T22:29:01.901654Z",
     "shell.execute_reply": "2022-03-04T22:29:01.902309Z",
     "shell.execute_reply.started": "2022-03-04T21:07:11.683753Z"
    },
    "papermill": {
     "duration": 0.090561,
     "end_time": "2022-03-04T22:29:01.902499",
     "exception": false,
     "start_time": "2022-03-04T22:29:01.811938",
     "status": "completed"
    },
    "tags": []
   },
   "outputs": [
    {
     "data": {
      "text/plain": [
       "2147483647     1\n",
       "99999999      15\n",
       "99000000       1\n",
       "74185296       1\n",
       "32545461       1\n",
       "27322222       1\n",
       "14000500       1\n",
       "12345678       9\n",
       "11111111      10\n",
       "10010011       1\n",
       "10000000       8\n",
       "9999999        3\n",
       "3895000        1\n",
       "3890000        1\n",
       "2995000        1\n",
       "Name: price, dtype: int64"
      ]
     },
     "execution_count": 26,
     "metadata": {},
     "output_type": "execute_result"
    }
   ],
   "source": [
    "autos[\"price\"].value_counts().sort_index(ascending=False).head(15)\n",
    "#to view highest values"
   ]
  },
  {
   "cell_type": "markdown",
   "id": "6815263b",
   "metadata": {
    "papermill": {
     "duration": 0.07583,
     "end_time": "2022-03-04T22:29:02.052863",
     "exception": false,
     "start_time": "2022-03-04T22:29:01.977033",
     "status": "completed"
    },
    "tags": []
   },
   "source": [
    "removing entries "
   ]
  },
  {
   "cell_type": "code",
   "execution_count": 27,
   "id": "a6ff05a2",
   "metadata": {
    "execution": {
     "iopub.execute_input": "2022-03-04T22:29:02.208940Z",
     "iopub.status.busy": "2022-03-04T22:29:02.207938Z",
     "iopub.status.idle": "2022-03-04T22:29:02.281362Z",
     "shell.execute_reply": "2022-03-04T22:29:02.280770Z",
     "shell.execute_reply.started": "2022-03-04T21:07:11.699419Z"
    },
    "papermill": {
     "duration": 0.152246,
     "end_time": "2022-03-04T22:29:02.281517",
     "exception": false,
     "start_time": "2022-03-04T22:29:02.129271",
     "status": "completed"
    },
    "tags": []
   },
   "outputs": [],
   "source": [
    "autos = autos[autos[\"price\"].between(1,350001)] "
   ]
  },
  {
   "cell_type": "code",
   "execution_count": 28,
   "id": "c58d3381",
   "metadata": {
    "execution": {
     "iopub.execute_input": "2022-03-04T22:29:02.435401Z",
     "iopub.status.busy": "2022-03-04T22:29:02.434402Z",
     "iopub.status.idle": "2022-03-04T22:29:02.451646Z",
     "shell.execute_reply": "2022-03-04T22:29:02.452156Z",
     "shell.execute_reply.started": "2022-03-04T21:07:11.757566Z"
    },
    "papermill": {
     "duration": 0.096081,
     "end_time": "2022-03-04T22:29:02.452325",
     "exception": false,
     "start_time": "2022-03-04T22:29:02.356244",
     "status": "completed"
    },
    "tags": []
   },
   "outputs": [
    {
     "data": {
      "text/plain": [
       "350000    4\n",
       "349000    1\n",
       "345000    1\n",
       "323223    1\n",
       "300000    1\n",
       "299000    3\n",
       "295000    1\n",
       "294900    1\n",
       "285000    1\n",
       "284000    1\n",
       "279000    1\n",
       "275000    1\n",
       "270000    1\n",
       "265000    1\n",
       "260000    3\n",
       "Name: price, dtype: int64"
      ]
     },
     "execution_count": 28,
     "metadata": {},
     "output_type": "execute_result"
    }
   ],
   "source": [
    "autos[\"price\"].value_counts().sort_index(ascending=False).head(15)"
   ]
  },
  {
   "cell_type": "markdown",
   "id": "74241c8a",
   "metadata": {
    "papermill": {
     "duration": 0.076376,
     "end_time": "2022-03-04T22:29:02.603753",
     "exception": false,
     "start_time": "2022-03-04T22:29:02.527377",
     "status": "completed"
    },
    "tags": []
   },
   "source": [
    "# Date cleaning\n",
    "- 4 different columns with 'date' information: date_crawled, last_seen, ad_created, registration_year\n",
    "- currently represented as strings, so need to convert to allow quantitative analysis\n"
   ]
  },
  {
   "cell_type": "code",
   "execution_count": 29,
   "id": "cd04ce5e",
   "metadata": {
    "execution": {
     "iopub.execute_input": "2022-03-04T22:29:02.761488Z",
     "iopub.status.busy": "2022-03-04T22:29:02.760554Z",
     "iopub.status.idle": "2022-03-04T22:29:02.785769Z",
     "shell.execute_reply": "2022-03-04T22:29:02.786400Z",
     "shell.execute_reply.started": "2022-03-04T21:07:11.77608Z"
    },
    "papermill": {
     "duration": 0.105048,
     "end_time": "2022-03-04T22:29:02.786566",
     "exception": false,
     "start_time": "2022-03-04T22:29:02.681518",
     "status": "completed"
    },
    "tags": []
   },
   "outputs": [
    {
     "data": {
      "text/html": [
       "<div>\n",
       "<style scoped>\n",
       "    .dataframe tbody tr th:only-of-type {\n",
       "        vertical-align: middle;\n",
       "    }\n",
       "\n",
       "    .dataframe tbody tr th {\n",
       "        vertical-align: top;\n",
       "    }\n",
       "\n",
       "    .dataframe thead th {\n",
       "        text-align: right;\n",
       "    }\n",
       "</style>\n",
       "<table border=\"1\" class=\"dataframe\">\n",
       "  <thead>\n",
       "    <tr style=\"text-align: right;\">\n",
       "      <th></th>\n",
       "      <th>date_crawled</th>\n",
       "      <th>ad_created</th>\n",
       "      <th>last_seen</th>\n",
       "    </tr>\n",
       "  </thead>\n",
       "  <tbody>\n",
       "    <tr>\n",
       "      <th>0</th>\n",
       "      <td>2016-03-24 11:52:17</td>\n",
       "      <td>2016-03-24 00:00:00</td>\n",
       "      <td>2016-04-07 03:16:57</td>\n",
       "    </tr>\n",
       "    <tr>\n",
       "      <th>1</th>\n",
       "      <td>2016-03-24 10:58:45</td>\n",
       "      <td>2016-03-24 00:00:00</td>\n",
       "      <td>2016-04-07 01:46:50</td>\n",
       "    </tr>\n",
       "    <tr>\n",
       "      <th>2</th>\n",
       "      <td>2016-03-14 12:52:21</td>\n",
       "      <td>2016-03-14 00:00:00</td>\n",
       "      <td>2016-04-05 12:47:46</td>\n",
       "    </tr>\n",
       "    <tr>\n",
       "      <th>3</th>\n",
       "      <td>2016-03-17 16:54:04</td>\n",
       "      <td>2016-03-17 00:00:00</td>\n",
       "      <td>2016-03-17 17:40:17</td>\n",
       "    </tr>\n",
       "    <tr>\n",
       "      <th>4</th>\n",
       "      <td>2016-03-31 17:25:20</td>\n",
       "      <td>2016-03-31 00:00:00</td>\n",
       "      <td>2016-04-06 10:17:21</td>\n",
       "    </tr>\n",
       "  </tbody>\n",
       "</table>\n",
       "</div>"
      ],
      "text/plain": [
       "          date_crawled           ad_created            last_seen\n",
       "0  2016-03-24 11:52:17  2016-03-24 00:00:00  2016-04-07 03:16:57\n",
       "1  2016-03-24 10:58:45  2016-03-24 00:00:00  2016-04-07 01:46:50\n",
       "2  2016-03-14 12:52:21  2016-03-14 00:00:00  2016-04-05 12:47:46\n",
       "3  2016-03-17 16:54:04  2016-03-17 00:00:00  2016-03-17 17:40:17\n",
       "4  2016-03-31 17:25:20  2016-03-31 00:00:00  2016-04-06 10:17:21"
      ]
     },
     "execution_count": 29,
     "metadata": {},
     "output_type": "execute_result"
    }
   ],
   "source": [
    "autos[['date_crawled','ad_created','last_seen']][0:5]"
   ]
  },
  {
   "cell_type": "markdown",
   "id": "889101af",
   "metadata": {
    "papermill": {
     "duration": 0.075193,
     "end_time": "2022-03-04T22:29:02.936045",
     "exception": false,
     "start_time": "2022-03-04T22:29:02.860852",
     "status": "completed"
    },
    "tags": []
   },
   "source": [
    "First 10 characters in each column represent the date:"
   ]
  },
  {
   "cell_type": "code",
   "execution_count": 30,
   "id": "e84a0890",
   "metadata": {
    "execution": {
     "iopub.execute_input": "2022-03-04T22:29:03.132458Z",
     "iopub.status.busy": "2022-03-04T22:29:03.131150Z",
     "iopub.status.idle": "2022-03-04T22:29:03.288806Z",
     "shell.execute_reply": "2022-03-04T22:29:03.289670Z",
     "shell.execute_reply.started": "2022-03-04T21:07:11.80102Z"
    },
    "papermill": {
     "duration": 0.277918,
     "end_time": "2022-03-04T22:29:03.289940",
     "exception": false,
     "start_time": "2022-03-04T22:29:03.012022",
     "status": "completed"
    },
    "tags": []
   },
   "outputs": [
    {
     "name": "stdout",
     "output_type": "stream",
     "text": [
      "0         2016-03-24\n",
      "1         2016-03-24\n",
      "2         2016-03-14\n",
      "3         2016-03-17\n",
      "4         2016-03-31\n",
      "             ...    \n",
      "371523    2016-03-14\n",
      "371524    2016-03-05\n",
      "371525    2016-03-19\n",
      "371526    2016-03-20\n",
      "371527    2016-03-07\n",
      "Name: date_crawled, Length: 360635, dtype: object\n"
     ]
    }
   ],
   "source": [
    "print(autos['date_crawled'].str[:10])"
   ]
  },
  {
   "cell_type": "markdown",
   "id": "c408ef36",
   "metadata": {
    "papermill": {
     "duration": 0.075688,
     "end_time": "2022-03-04T22:29:03.442112",
     "exception": false,
     "start_time": "2022-03-04T22:29:03.366424",
     "status": "completed"
    },
    "tags": []
   },
   "source": [
    "To display as percentages instead of counts:\n",
    "- normalize=True\n",
    "\n",
    "to rank by date (ascending order):\n",
    "- chain sort_index()"
   ]
  },
  {
   "cell_type": "code",
   "execution_count": 31,
   "id": "c29017d6",
   "metadata": {
    "execution": {
     "iopub.execute_input": "2022-03-04T22:29:03.596888Z",
     "iopub.status.busy": "2022-03-04T22:29:03.595957Z",
     "iopub.status.idle": "2022-03-04T22:29:03.814351Z",
     "shell.execute_reply": "2022-03-04T22:29:03.813766Z",
     "shell.execute_reply.started": "2022-03-04T21:07:12.002675Z"
    },
    "papermill": {
     "duration": 0.297088,
     "end_time": "2022-03-04T22:29:03.814503",
     "exception": false,
     "start_time": "2022-03-04T22:29:03.517415",
     "status": "completed"
    },
    "tags": []
   },
   "outputs": [
    {
     "data": {
      "text/plain": [
       "2016-04-07    0.001617\n",
       "2016-04-06    0.003128\n",
       "2016-04-05    0.012780\n",
       "2016-04-04    0.037628\n",
       "2016-04-03    0.038812\n",
       "2016-04-02    0.035094\n",
       "2016-04-01    0.034145\n",
       "2016-03-31    0.031872\n",
       "2016-03-30    0.033535\n",
       "2016-03-29    0.034126\n",
       "2016-03-28    0.035063\n",
       "2016-03-27    0.030227\n",
       "2016-03-26    0.031974\n",
       "2016-03-25    0.032800\n",
       "2016-03-24    0.029914\n",
       "2016-03-23    0.032002\n",
       "2016-03-22    0.032493\n",
       "2016-03-21    0.035682\n",
       "2016-03-20    0.036400\n",
       "2016-03-19    0.035271\n",
       "2016-03-18    0.013119\n",
       "2016-03-17    0.031647\n",
       "2016-03-16    0.030205\n",
       "2016-03-15    0.033424\n",
       "2016-03-14    0.036330\n",
       "2016-03-13    0.015783\n",
       "2016-03-12    0.036242\n",
       "2016-03-11    0.032773\n",
       "2016-03-10    0.032645\n",
       "2016-03-09    0.034115\n",
       "2016-03-08    0.033469\n",
       "2016-03-07    0.035657\n",
       "2016-03-06    0.014483\n",
       "2016-03-05    0.025547\n",
       "Name: date_crawled, dtype: float64"
      ]
     },
     "execution_count": 31,
     "metadata": {},
     "output_type": "execute_result"
    }
   ],
   "source": [
    "autos['date_crawled'].str[:10].value_counts(normalize=True, dropna=False).sort_index(ascending=False)"
   ]
  },
  {
   "cell_type": "code",
   "execution_count": 32,
   "id": "f1eb5e0d",
   "metadata": {
    "execution": {
     "iopub.execute_input": "2022-03-04T22:29:03.991091Z",
     "iopub.status.busy": "2022-03-04T22:29:03.990134Z",
     "iopub.status.idle": "2022-03-04T22:29:03.997284Z",
     "shell.execute_reply": "2022-03-04T22:29:03.997853Z",
     "shell.execute_reply.started": "2022-03-04T21:07:12.216255Z"
    },
    "papermill": {
     "duration": 0.107483,
     "end_time": "2022-03-04T22:29:03.998051",
     "exception": false,
     "start_time": "2022-03-04T22:29:03.890568",
     "status": "completed"
    },
    "tags": []
   },
   "outputs": [
    {
     "data": {
      "text/plain": [
       "<bound method NDFrame.describe of 0         2016-03-24 11:52:17\n",
       "1         2016-03-24 10:58:45\n",
       "2         2016-03-14 12:52:21\n",
       "3         2016-03-17 16:54:04\n",
       "4         2016-03-31 17:25:20\n",
       "                 ...         \n",
       "371523    2016-03-14 17:48:27\n",
       "371524    2016-03-05 19:56:21\n",
       "371525    2016-03-19 18:57:12\n",
       "371526    2016-03-20 19:41:08\n",
       "371527    2016-03-07 19:39:19\n",
       "Name: date_crawled, Length: 360635, dtype: object>"
      ]
     },
     "execution_count": 32,
     "metadata": {},
     "output_type": "execute_result"
    }
   ],
   "source": [
    "autos['date_crawled'].describe"
   ]
  },
  {
   "cell_type": "code",
   "execution_count": 33,
   "id": "e38c6fc6",
   "metadata": {
    "execution": {
     "iopub.execute_input": "2022-03-04T22:29:04.195689Z",
     "iopub.status.busy": "2022-03-04T22:29:04.194629Z",
     "iopub.status.idle": "2022-03-04T22:29:04.411515Z",
     "shell.execute_reply": "2022-03-04T22:29:04.412067Z",
     "shell.execute_reply.started": "2022-03-04T21:07:12.224959Z"
    },
    "papermill": {
     "duration": 0.337008,
     "end_time": "2022-03-04T22:29:04.412248",
     "exception": false,
     "start_time": "2022-03-04T22:29:04.075240",
     "status": "completed"
    },
    "tags": []
   },
   "outputs": [
    {
     "data": {
      "text/plain": [
       "2016-04-07    0.001553\n",
       "2016-04-06    0.003119\n",
       "2016-04-05    0.011613\n",
       "2016-04-04    0.037736\n",
       "2016-04-03    0.039001\n",
       "                ...   \n",
       "2015-08-07    0.000003\n",
       "2015-06-18    0.000003\n",
       "2015-06-11    0.000003\n",
       "2015-03-20    0.000003\n",
       "2014-03-10    0.000003\n",
       "Name: ad_created, Length: 114, dtype: float64"
      ]
     },
     "execution_count": 33,
     "metadata": {},
     "output_type": "execute_result"
    }
   ],
   "source": [
    "autos['ad_created'].str[:10].value_counts(normalize=True, dropna=False).sort_index(ascending=False)"
   ]
  },
  {
   "cell_type": "code",
   "execution_count": 34,
   "id": "f04f188c",
   "metadata": {
    "execution": {
     "iopub.execute_input": "2022-03-04T22:29:04.572515Z",
     "iopub.status.busy": "2022-03-04T22:29:04.571484Z",
     "iopub.status.idle": "2022-03-04T22:29:04.840051Z",
     "shell.execute_reply": "2022-03-04T22:29:04.840609Z",
     "shell.execute_reply.started": "2022-03-04T21:07:12.577146Z"
    },
    "papermill": {
     "duration": 0.350945,
     "end_time": "2022-03-04T22:29:04.840780",
     "exception": false,
     "start_time": "2022-03-04T22:29:04.489835",
     "status": "completed"
    },
    "tags": []
   },
   "outputs": [
    {
     "data": {
      "text/plain": [
       "2016-04-07    0.130437\n",
       "2016-04-06    0.218950\n",
       "2016-04-05    0.126962\n",
       "2016-04-04    0.025536\n",
       "2016-04-03    0.025308\n",
       "2016-04-02    0.024967\n",
       "2016-04-01    0.023897\n",
       "2016-03-31    0.024243\n",
       "2016-03-30    0.023725\n",
       "2016-03-29    0.023284\n",
       "2016-03-28    0.022189\n",
       "2016-03-27    0.016721\n",
       "2016-03-26    0.015958\n",
       "2016-03-25    0.019000\n",
       "2016-03-24    0.019163\n",
       "2016-03-23    0.018015\n",
       "2016-03-22    0.020508\n",
       "2016-03-21    0.020026\n",
       "2016-03-20    0.019884\n",
       "2016-03-19    0.016330\n",
       "2016-03-18    0.006888\n",
       "2016-03-17    0.028699\n",
       "2016-03-16    0.016418\n",
       "2016-03-15    0.016324\n",
       "2016-03-14    0.012176\n",
       "2016-03-13    0.008410\n",
       "2016-03-12    0.023240\n",
       "2016-03-11    0.012955\n",
       "2016-03-10    0.011460\n",
       "2016-03-09    0.009824\n",
       "2016-03-08    0.007939\n",
       "2016-03-07    0.005202\n",
       "2016-03-06    0.004098\n",
       "2016-03-05    0.001264\n",
       "Name: last_seen, dtype: float64"
      ]
     },
     "execution_count": 34,
     "metadata": {},
     "output_type": "execute_result"
    }
   ],
   "source": [
    "autos['last_seen'].str[:10].value_counts(normalize=True, dropna=False).sort_index(ascending=False)"
   ]
  },
  {
   "cell_type": "code",
   "execution_count": 35,
   "id": "33af6ebe",
   "metadata": {
    "execution": {
     "iopub.execute_input": "2022-03-04T22:29:05.001470Z",
     "iopub.status.busy": "2022-03-04T22:29:05.000411Z",
     "iopub.status.idle": "2022-03-04T22:29:05.022146Z",
     "shell.execute_reply": "2022-03-04T22:29:05.022685Z",
     "shell.execute_reply.started": "2022-03-04T21:07:12.837169Z"
    },
    "papermill": {
     "duration": 0.10415,
     "end_time": "2022-03-04T22:29:05.022856",
     "exception": false,
     "start_time": "2022-03-04T22:29:04.918706",
     "status": "completed"
    },
    "tags": []
   },
   "outputs": [
    {
     "data": {
      "text/plain": [
       "count    360635.000000\n",
       "mean       2004.433133\n",
       "std          81.016977\n",
       "min        1000.000000\n",
       "25%        1999.000000\n",
       "50%        2004.000000\n",
       "75%        2008.000000\n",
       "max        9999.000000\n",
       "Name: registration_year, dtype: float64"
      ]
     },
     "execution_count": 35,
     "metadata": {},
     "output_type": "execute_result"
    }
   ],
   "source": [
    "autos['registration_year'].describe()"
   ]
  },
  {
   "cell_type": "markdown",
   "id": "f1b541ff",
   "metadata": {
    "papermill": {
     "duration": 0.077579,
     "end_time": "2022-03-04T22:29:05.178300",
     "exception": false,
     "start_time": "2022-03-04T22:29:05.100721",
     "status": "completed"
    },
    "tags": []
   },
   "source": [
    "### Observations \n",
    "- date crawled column suggests the website was crawled between 03/16 to 04/16 \n",
    "- registration year's maximum is year 9999, and minimum as 1000 (way into the future, and a registration year of 1000 long before cars were invented)\n",
    "- listing are of 'used' cars, so registration date must be pre-listing date\n",
    "\n",
    "The ads were created up to 2016, therefore, will restrict data in this column from 1900 - 2016"
   ]
  },
  {
   "cell_type": "code",
   "execution_count": 36,
   "id": "57fa799a",
   "metadata": {
    "execution": {
     "iopub.execute_input": "2022-03-04T22:29:05.340264Z",
     "iopub.status.busy": "2022-03-04T22:29:05.339154Z",
     "iopub.status.idle": "2022-03-04T22:29:05.405239Z",
     "shell.execute_reply": "2022-03-04T22:29:05.404656Z",
     "shell.execute_reply.started": "2022-03-04T21:07:12.858313Z"
    },
    "papermill": {
     "duration": 0.148812,
     "end_time": "2022-03-04T22:29:05.405394",
     "exception": false,
     "start_time": "2022-03-04T22:29:05.256582",
     "status": "completed"
    },
    "tags": []
   },
   "outputs": [],
   "source": [
    "autos = autos[autos[\"registration_year\"].between(1900,2016)] "
   ]
  },
  {
   "cell_type": "code",
   "execution_count": 37,
   "id": "355501a5",
   "metadata": {
    "execution": {
     "iopub.execute_input": "2022-03-04T22:29:05.568114Z",
     "iopub.status.busy": "2022-03-04T22:29:05.567084Z",
     "iopub.status.idle": "2022-03-04T22:29:05.584346Z",
     "shell.execute_reply": "2022-03-04T22:29:05.584888Z",
     "shell.execute_reply.started": "2022-03-04T21:07:12.923841Z"
    },
    "papermill": {
     "duration": 0.102547,
     "end_time": "2022-03-04T22:29:05.585073",
     "exception": false,
     "start_time": "2022-03-04T22:29:05.482526",
     "status": "completed"
    },
    "tags": []
   },
   "outputs": [
    {
     "data": {
      "text/plain": [
       "count    346660.000000\n",
       "mean       2002.896489\n",
       "std           7.244719\n",
       "min        1910.000000\n",
       "25%        1999.000000\n",
       "50%        2003.000000\n",
       "75%        2008.000000\n",
       "max        2016.000000\n",
       "Name: registration_year, dtype: float64"
      ]
     },
     "execution_count": 37,
     "metadata": {},
     "output_type": "execute_result"
    }
   ],
   "source": [
    "autos[\"registration_year\"].describe()"
   ]
  },
  {
   "cell_type": "markdown",
   "id": "8c85b4b0",
   "metadata": {
    "papermill": {
     "duration": 0.079268,
     "end_time": "2022-03-04T22:29:05.742735",
     "exception": false,
     "start_time": "2022-03-04T22:29:05.663467",
     "status": "completed"
    },
    "tags": []
   },
   "source": [
    "# Data cleaning - aggregation\n",
    "- using loops in Pandas for aggregation \n",
    "- i'll use the brand column, and use the values in price, registration year and km\n",
    "- i'll take the top 10 brands"
   ]
  },
  {
   "cell_type": "code",
   "execution_count": 38,
   "id": "d433efa3",
   "metadata": {
    "execution": {
     "iopub.execute_input": "2022-03-04T22:29:05.959625Z",
     "iopub.status.busy": "2022-03-04T22:29:05.958552Z",
     "iopub.status.idle": "2022-03-04T22:29:05.965929Z",
     "shell.execute_reply": "2022-03-04T22:29:05.965379Z",
     "shell.execute_reply.started": "2022-03-04T21:07:12.943811Z"
    },
    "papermill": {
     "duration": 0.145234,
     "end_time": "2022-03-04T22:29:05.966067",
     "exception": false,
     "start_time": "2022-03-04T22:29:05.820833",
     "status": "completed"
    },
    "tags": []
   },
   "outputs": [
    {
     "data": {
      "text/plain": [
       "volkswagen        73388\n",
       "bmw               38088\n",
       "opel              36888\n",
       "mercedes_benz     33571\n",
       "audi              31041\n",
       "ford              23891\n",
       "renault           16472\n",
       "peugeot           10453\n",
       "fiat               8906\n",
       "seat               6469\n",
       "skoda              5438\n",
       "mazda              5333\n",
       "smart              4968\n",
       "citroen            4836\n",
       "nissan             4714\n",
       "toyota             4483\n",
       "hyundai            3457\n",
       "sonstige_autos     3291\n",
       "mini               3253\n",
       "volvo              3171\n",
       "mitsubishi         2855\n",
       "honda              2611\n",
       "kia                2397\n",
       "suzuki             2206\n",
       "alfa_romeo         2187\n",
       "porsche            2153\n",
       "chevrolet          1741\n",
       "chrysler           1339\n",
       "dacia               865\n",
       "jeep                760\n",
       "land_rover          751\n",
       "daihatsu            749\n",
       "subaru              734\n",
       "jaguar              601\n",
       "saab                508\n",
       "daewoo              505\n",
       "trabant             488\n",
       "lancia              451\n",
       "rover               441\n",
       "lada                207\n",
       "Name: brand, dtype: int64"
      ]
     },
     "execution_count": 38,
     "metadata": {},
     "output_type": "execute_result"
    }
   ],
   "source": [
    "autos[\"brand\"].value_counts() #to produce series with index labels, though may use series.index"
   ]
  },
  {
   "cell_type": "code",
   "execution_count": 39,
   "id": "591d879b",
   "metadata": {
    "execution": {
     "iopub.execute_input": "2022-03-04T22:29:06.130207Z",
     "iopub.status.busy": "2022-03-04T22:29:06.129228Z",
     "iopub.status.idle": "2022-03-04T22:29:06.189131Z",
     "shell.execute_reply": "2022-03-04T22:29:06.189613Z",
     "shell.execute_reply.started": "2022-03-04T21:07:13.005445Z"
    },
    "papermill": {
     "duration": 0.143252,
     "end_time": "2022-03-04T22:29:06.189795",
     "exception": false,
     "start_time": "2022-03-04T22:29:06.046543",
     "status": "completed"
    },
    "tags": []
   },
   "outputs": [],
   "source": [
    "avg_price_by_brand = {}\n",
    "avg_year_by_brand = {}\n",
    "avg_km_by_brand = {}\n",
    "\n",
    "brands = autos[\"brand\"].value_counts().index[:11]"
   ]
  },
  {
   "cell_type": "code",
   "execution_count": 40,
   "id": "4fa6b9d0",
   "metadata": {
    "execution": {
     "iopub.execute_input": "2022-03-04T22:29:06.353100Z",
     "iopub.status.busy": "2022-03-04T22:29:06.352195Z",
     "iopub.status.idle": "2022-03-04T22:29:06.355561Z",
     "shell.execute_reply": "2022-03-04T22:29:06.356051Z",
     "shell.execute_reply.started": "2022-03-04T21:07:13.067332Z"
    },
    "papermill": {
     "duration": 0.088106,
     "end_time": "2022-03-04T22:29:06.356222",
     "exception": false,
     "start_time": "2022-03-04T22:29:06.268116",
     "status": "completed"
    },
    "tags": []
   },
   "outputs": [
    {
     "data": {
      "text/plain": [
       "Index(['volkswagen', 'bmw', 'opel', 'mercedes_benz', 'audi', 'ford', 'renault',\n",
       "       'peugeot', 'fiat', 'seat', 'skoda'],\n",
       "      dtype='object')"
      ]
     },
     "execution_count": 40,
     "metadata": {},
     "output_type": "execute_result"
    }
   ],
   "source": [
    "brands"
   ]
  },
  {
   "cell_type": "code",
   "execution_count": 41,
   "id": "ebc11b04",
   "metadata": {
    "execution": {
     "iopub.execute_input": "2022-03-04T22:29:06.571327Z",
     "iopub.status.busy": "2022-03-04T22:29:06.570641Z",
     "iopub.status.idle": "2022-03-04T22:29:07.228540Z",
     "shell.execute_reply": "2022-03-04T22:29:07.227837Z",
     "shell.execute_reply.started": "2022-03-04T21:07:13.079275Z"
    },
    "papermill": {
     "duration": 0.792558,
     "end_time": "2022-03-04T22:29:07.228689",
     "exception": false,
     "start_time": "2022-03-04T22:29:06.436131",
     "status": "completed"
    },
    "tags": []
   },
   "outputs": [],
   "source": [
    "for i in brands:\n",
    "    rows = autos[autos[\"brand\"] == i]\n",
    "    mean = rows[\"price\"].mean()\n",
    "    avg_price_by_brand[i] = mean"
   ]
  },
  {
   "cell_type": "code",
   "execution_count": 42,
   "id": "e69ebe97",
   "metadata": {
    "execution": {
     "iopub.execute_input": "2022-03-04T22:29:07.395314Z",
     "iopub.status.busy": "2022-03-04T22:29:07.394458Z",
     "iopub.status.idle": "2022-03-04T22:29:07.398322Z",
     "shell.execute_reply": "2022-03-04T22:29:07.397761Z",
     "shell.execute_reply.started": "2022-03-04T21:07:13.793027Z"
    },
    "papermill": {
     "duration": 0.088157,
     "end_time": "2022-03-04T22:29:07.398470",
     "exception": false,
     "start_time": "2022-03-04T22:29:07.310313",
     "status": "completed"
    },
    "tags": []
   },
   "outputs": [
    {
     "data": {
      "text/plain": [
       "{'volkswagen': 5400.188763830599,\n",
       " 'bmw': 8449.121823146397,\n",
       " 'opel': 2971.8999132509216,\n",
       " 'mercedes_benz': 8551.650114682316,\n",
       " 'audi': 9086.279597951097,\n",
       " 'ford': 3696.4059687748527,\n",
       " 'renault': 2437.6054516755707,\n",
       " 'peugeot': 3267.612647086961,\n",
       " 'fiat': 2892.9535144846172,\n",
       " 'seat': 4541.999227083012,\n",
       " 'skoda': 6530.51084957705}"
      ]
     },
     "execution_count": 42,
     "metadata": {},
     "output_type": "execute_result"
    }
   ],
   "source": [
    "avg_price_by_brand"
   ]
  },
  {
   "cell_type": "code",
   "execution_count": 43,
   "id": "2855b7a0",
   "metadata": {
    "execution": {
     "iopub.execute_input": "2022-03-04T22:29:07.615850Z",
     "iopub.status.busy": "2022-03-04T22:29:07.614756Z",
     "iopub.status.idle": "2022-03-04T22:29:08.271393Z",
     "shell.execute_reply": "2022-03-04T22:29:08.270780Z",
     "shell.execute_reply.started": "2022-03-04T21:07:13.800096Z"
    },
    "papermill": {
     "duration": 0.792966,
     "end_time": "2022-03-04T22:29:08.271544",
     "exception": false,
     "start_time": "2022-03-04T22:29:07.478578",
     "status": "completed"
    },
    "tags": []
   },
   "outputs": [],
   "source": [
    "for i in brands:\n",
    "    rows = autos[autos[\"brand\"] == i]\n",
    "    mean_year = rows[\"registration_year\"].mean()\n",
    "    avg_year_by_brand[i] = mean_year"
   ]
  },
  {
   "cell_type": "code",
   "execution_count": 44,
   "id": "c72b8e30",
   "metadata": {
    "execution": {
     "iopub.execute_input": "2022-03-04T22:29:08.437134Z",
     "iopub.status.busy": "2022-03-04T22:29:08.436239Z",
     "iopub.status.idle": "2022-03-04T22:29:08.439677Z",
     "shell.execute_reply": "2022-03-04T22:29:08.440200Z",
     "shell.execute_reply.started": "2022-03-04T21:07:14.511512Z"
    },
    "papermill": {
     "duration": 0.089746,
     "end_time": "2022-03-04T22:29:08.440375",
     "exception": false,
     "start_time": "2022-03-04T22:29:08.350629",
     "status": "completed"
    },
    "tags": []
   },
   "outputs": [
    {
     "data": {
      "text/plain": [
       "{'volkswagen': 2002.4872186188477,\n",
       " 'bmw': 2003.0101081705525,\n",
       " 'opel': 2002.1553892864888,\n",
       " 'mercedes_benz': 2002.0495368025975,\n",
       " 'audi': 2003.9399503881962,\n",
       " 'ford': 2002.9697794148424,\n",
       " 'renault': 2002.8629796017485,\n",
       " 'peugeot': 2003.8536305366881,\n",
       " 'fiat': 2002.9440826409163,\n",
       " 'seat': 2004.734734889473,\n",
       " 'skoda': 2006.8254873115116}"
      ]
     },
     "execution_count": 44,
     "metadata": {},
     "output_type": "execute_result"
    }
   ],
   "source": [
    "avg_year_by_brand"
   ]
  },
  {
   "cell_type": "code",
   "execution_count": 45,
   "id": "25163da1",
   "metadata": {
    "execution": {
     "iopub.execute_input": "2022-03-04T22:29:08.605920Z",
     "iopub.status.busy": "2022-03-04T22:29:08.604970Z",
     "iopub.status.idle": "2022-03-04T22:29:09.316083Z",
     "shell.execute_reply": "2022-03-04T22:29:09.316608Z",
     "shell.execute_reply.started": "2022-03-04T21:07:14.518374Z"
    },
    "papermill": {
     "duration": 0.795269,
     "end_time": "2022-03-04T22:29:09.316779",
     "exception": false,
     "start_time": "2022-03-04T22:29:08.521510",
     "status": "completed"
    },
    "tags": []
   },
   "outputs": [],
   "source": [
    "for i in brands:\n",
    "    rows = autos[autos[\"brand\"] == i]\n",
    "    mean_km = rows[\"odometer_km\"].mean()\n",
    "    avg_km_by_brand[i] = mean_km"
   ]
  },
  {
   "cell_type": "code",
   "execution_count": 46,
   "id": "64145d77",
   "metadata": {
    "execution": {
     "iopub.execute_input": "2022-03-04T22:29:09.480383Z",
     "iopub.status.busy": "2022-03-04T22:29:09.479431Z",
     "iopub.status.idle": "2022-03-04T22:29:09.484625Z",
     "shell.execute_reply": "2022-03-04T22:29:09.485154Z",
     "shell.execute_reply.started": "2022-03-04T21:07:15.256654Z"
    },
    "papermill": {
     "duration": 0.088374,
     "end_time": "2022-03-04T22:29:09.485330",
     "exception": false,
     "start_time": "2022-03-04T22:29:09.396956",
     "status": "completed"
    },
    "tags": []
   },
   "outputs": [
    {
     "data": {
      "text/plain": [
       "{'volkswagen': 128386.04403989753,\n",
       " 'bmw': 132800.0945179584,\n",
       " 'opel': 128722.61982216439,\n",
       " 'mercedes_benz': 130572.96476125227,\n",
       " 'audi': 129443.9612125898,\n",
       " 'ford': 123662.25775396593,\n",
       " 'renault': 127885.19912578922,\n",
       " 'peugeot': 124500.62183105329,\n",
       " 'fiat': 116619.69458791826,\n",
       " 'seat': 120608.28567011903,\n",
       " 'skoda': 113593.23280617874}"
      ]
     },
     "execution_count": 46,
     "metadata": {},
     "output_type": "execute_result"
    }
   ],
   "source": [
    "avg_km_by_brand"
   ]
  },
  {
   "cell_type": "markdown",
   "id": "dc235337",
   "metadata": {
    "papermill": {
     "duration": 0.079325,
     "end_time": "2022-03-04T22:29:09.644625",
     "exception": false,
     "start_time": "2022-03-04T22:29:09.565300",
     "status": "completed"
    },
    "tags": []
   },
   "source": [
    "### Observations\n",
    "note: I had originally included the top 20 brands, which skewed my results and put 'sontige_auto' branded cars as the most expensive. however, they account for less than 5% of listings, and so I adjusted to include only the top 10 with a greater share of the overall listings.\n",
    "\n",
    "- audi cars are the most expensive, second to mercendes benz and third to bmw\n",
    "- cheapest cars are ford and opel\n",
    "- most of the registered years are in the early 20's, \n",
    "- average km appears to be fairly consistent (11,000+ km) \n",
    "- just based on the top 10 selection, many are German brands, either reflecting popularity of German cars or (possibly more likely) that the listing were scraped from the German eBay website\n",
    "\n",
    "To make the process of comparing between aggregates more easier:"
   ]
  },
  {
   "cell_type": "code",
   "execution_count": 47,
   "id": "acd8cd83",
   "metadata": {
    "execution": {
     "iopub.execute_input": "2022-03-04T22:29:09.811225Z",
     "iopub.status.busy": "2022-03-04T22:29:09.810222Z",
     "iopub.status.idle": "2022-03-04T22:29:09.814319Z",
     "shell.execute_reply": "2022-03-04T22:29:09.814910Z",
     "shell.execute_reply.started": "2022-03-04T21:07:15.266031Z"
    },
    "papermill": {
     "duration": 0.089073,
     "end_time": "2022-03-04T22:29:09.815106",
     "exception": false,
     "start_time": "2022-03-04T22:29:09.726033",
     "status": "completed"
    },
    "tags": []
   },
   "outputs": [],
   "source": [
    "brand_series = pd.Series(avg_price_by_brand) #keys in dictionary will become the index in the series "
   ]
  },
  {
   "cell_type": "code",
   "execution_count": 48,
   "id": "b7f68c11",
   "metadata": {
    "execution": {
     "iopub.execute_input": "2022-03-04T22:29:10.012809Z",
     "iopub.status.busy": "2022-03-04T22:29:10.012033Z",
     "iopub.status.idle": "2022-03-04T22:29:10.015275Z",
     "shell.execute_reply": "2022-03-04T22:29:10.015759Z",
     "shell.execute_reply.started": "2022-03-04T21:07:15.276273Z"
    },
    "papermill": {
     "duration": 0.120098,
     "end_time": "2022-03-04T22:29:10.015968",
     "exception": false,
     "start_time": "2022-03-04T22:29:09.895870",
     "status": "completed"
    },
    "tags": []
   },
   "outputs": [
    {
     "data": {
      "text/plain": [
       "volkswagen       5400.188764\n",
       "bmw              8449.121823\n",
       "opel             2971.899913\n",
       "mercedes_benz    8551.650115\n",
       "audi             9086.279598\n",
       "ford             3696.405969\n",
       "renault          2437.605452\n",
       "peugeot          3267.612647\n",
       "fiat             2892.953514\n",
       "seat             4541.999227\n",
       "skoda            6530.510850\n",
       "dtype: float64"
      ]
     },
     "execution_count": 48,
     "metadata": {},
     "output_type": "execute_result"
    }
   ],
   "source": [
    "brand_series"
   ]
  },
  {
   "cell_type": "code",
   "execution_count": 49,
   "id": "70c503ce",
   "metadata": {
    "execution": {
     "iopub.execute_input": "2022-03-04T22:29:10.197727Z",
     "iopub.status.busy": "2022-03-04T22:29:10.196731Z",
     "iopub.status.idle": "2022-03-04T22:29:10.200475Z",
     "shell.execute_reply": "2022-03-04T22:29:10.201278Z",
     "shell.execute_reply.started": "2022-03-04T21:07:15.287654Z"
    },
    "papermill": {
     "duration": 0.097602,
     "end_time": "2022-03-04T22:29:10.201462",
     "exception": false,
     "start_time": "2022-03-04T22:29:10.103860",
     "status": "completed"
    },
    "tags": []
   },
   "outputs": [],
   "source": [
    "brand_series_df = pd.DataFrame(brand_series, columns=['avg_price'])"
   ]
  },
  {
   "cell_type": "code",
   "execution_count": 50,
   "id": "7725a32e",
   "metadata": {
    "execution": {
     "iopub.execute_input": "2022-03-04T22:29:10.386551Z",
     "iopub.status.busy": "2022-03-04T22:29:10.385881Z",
     "iopub.status.idle": "2022-03-04T22:29:10.388834Z",
     "shell.execute_reply": "2022-03-04T22:29:10.389401Z",
     "shell.execute_reply.started": "2022-03-04T21:07:15.300512Z"
    },
    "papermill": {
     "duration": 0.094944,
     "end_time": "2022-03-04T22:29:10.389581",
     "exception": false,
     "start_time": "2022-03-04T22:29:10.294637",
     "status": "completed"
    },
    "tags": []
   },
   "outputs": [
    {
     "data": {
      "text/html": [
       "<div>\n",
       "<style scoped>\n",
       "    .dataframe tbody tr th:only-of-type {\n",
       "        vertical-align: middle;\n",
       "    }\n",
       "\n",
       "    .dataframe tbody tr th {\n",
       "        vertical-align: top;\n",
       "    }\n",
       "\n",
       "    .dataframe thead th {\n",
       "        text-align: right;\n",
       "    }\n",
       "</style>\n",
       "<table border=\"1\" class=\"dataframe\">\n",
       "  <thead>\n",
       "    <tr style=\"text-align: right;\">\n",
       "      <th></th>\n",
       "      <th>avg_price</th>\n",
       "    </tr>\n",
       "  </thead>\n",
       "  <tbody>\n",
       "    <tr>\n",
       "      <th>volkswagen</th>\n",
       "      <td>5400.188764</td>\n",
       "    </tr>\n",
       "    <tr>\n",
       "      <th>bmw</th>\n",
       "      <td>8449.121823</td>\n",
       "    </tr>\n",
       "    <tr>\n",
       "      <th>opel</th>\n",
       "      <td>2971.899913</td>\n",
       "    </tr>\n",
       "    <tr>\n",
       "      <th>mercedes_benz</th>\n",
       "      <td>8551.650115</td>\n",
       "    </tr>\n",
       "    <tr>\n",
       "      <th>audi</th>\n",
       "      <td>9086.279598</td>\n",
       "    </tr>\n",
       "    <tr>\n",
       "      <th>ford</th>\n",
       "      <td>3696.405969</td>\n",
       "    </tr>\n",
       "    <tr>\n",
       "      <th>renault</th>\n",
       "      <td>2437.605452</td>\n",
       "    </tr>\n",
       "    <tr>\n",
       "      <th>peugeot</th>\n",
       "      <td>3267.612647</td>\n",
       "    </tr>\n",
       "    <tr>\n",
       "      <th>fiat</th>\n",
       "      <td>2892.953514</td>\n",
       "    </tr>\n",
       "    <tr>\n",
       "      <th>seat</th>\n",
       "      <td>4541.999227</td>\n",
       "    </tr>\n",
       "    <tr>\n",
       "      <th>skoda</th>\n",
       "      <td>6530.510850</td>\n",
       "    </tr>\n",
       "  </tbody>\n",
       "</table>\n",
       "</div>"
      ],
      "text/plain": [
       "                 avg_price\n",
       "volkswagen     5400.188764\n",
       "bmw            8449.121823\n",
       "opel           2971.899913\n",
       "mercedes_benz  8551.650115\n",
       "audi           9086.279598\n",
       "ford           3696.405969\n",
       "renault        2437.605452\n",
       "peugeot        3267.612647\n",
       "fiat           2892.953514\n",
       "seat           4541.999227\n",
       "skoda          6530.510850"
      ]
     },
     "execution_count": 50,
     "metadata": {},
     "output_type": "execute_result"
    }
   ],
   "source": [
    "brand_series_df"
   ]
  },
  {
   "cell_type": "markdown",
   "id": "99e471b4",
   "metadata": {
    "papermill": {
     "duration": 0.082529,
     "end_time": "2022-03-04T22:29:10.555658",
     "exception": false,
     "start_time": "2022-03-04T22:29:10.473129",
     "status": "completed"
    },
    "tags": []
   },
   "source": [
    "now i'll continue with the rest of the dictionaries to:\n",
    "- convert to series\n",
    "- assign the series to column in the dataframe above"
   ]
  },
  {
   "cell_type": "code",
   "execution_count": 51,
   "id": "a49267b3",
   "metadata": {
    "execution": {
     "iopub.execute_input": "2022-03-04T22:29:10.728470Z",
     "iopub.status.busy": "2022-03-04T22:29:10.727781Z",
     "iopub.status.idle": "2022-03-04T22:29:10.731670Z",
     "shell.execute_reply": "2022-03-04T22:29:10.732260Z",
     "shell.execute_reply.started": "2022-03-04T21:07:15.314085Z"
    },
    "papermill": {
     "duration": 0.093601,
     "end_time": "2022-03-04T22:29:10.732455",
     "exception": false,
     "start_time": "2022-03-04T22:29:10.638854",
     "status": "completed"
    },
    "tags": []
   },
   "outputs": [],
   "source": [
    "km_series = pd.Series(avg_km_by_brand)"
   ]
  },
  {
   "cell_type": "code",
   "execution_count": 52,
   "id": "78c66999",
   "metadata": {
    "execution": {
     "iopub.execute_input": "2022-03-04T22:29:10.901000Z",
     "iopub.status.busy": "2022-03-04T22:29:10.900341Z",
     "iopub.status.idle": "2022-03-04T22:29:10.904418Z",
     "shell.execute_reply": "2022-03-04T22:29:10.904925Z",
     "shell.execute_reply.started": "2022-03-04T21:07:15.322692Z"
    },
    "papermill": {
     "duration": 0.09043,
     "end_time": "2022-03-04T22:29:10.905093",
     "exception": false,
     "start_time": "2022-03-04T22:29:10.814663",
     "status": "completed"
    },
    "tags": []
   },
   "outputs": [],
   "source": [
    "brand_series_df[\"avg_km\"] = km_series"
   ]
  },
  {
   "cell_type": "code",
   "execution_count": 53,
   "id": "d6dacda6",
   "metadata": {
    "execution": {
     "iopub.execute_input": "2022-03-04T22:29:11.075695Z",
     "iopub.status.busy": "2022-03-04T22:29:11.074707Z",
     "iopub.status.idle": "2022-03-04T22:29:11.078477Z",
     "shell.execute_reply": "2022-03-04T22:29:11.078993Z",
     "shell.execute_reply.started": "2022-03-04T21:07:15.332553Z"
    },
    "papermill": {
     "duration": 0.090638,
     "end_time": "2022-03-04T22:29:11.079158",
     "exception": false,
     "start_time": "2022-03-04T22:29:10.988520",
     "status": "completed"
    },
    "tags": []
   },
   "outputs": [],
   "source": [
    "year_series = pd.Series(avg_year_by_brand)"
   ]
  },
  {
   "cell_type": "code",
   "execution_count": 54,
   "id": "72aa4489",
   "metadata": {
    "execution": {
     "iopub.execute_input": "2022-03-04T22:29:11.245446Z",
     "iopub.status.busy": "2022-03-04T22:29:11.244493Z",
     "iopub.status.idle": "2022-03-04T22:29:11.248613Z",
     "shell.execute_reply": "2022-03-04T22:29:11.249177Z",
     "shell.execute_reply.started": "2022-03-04T21:07:15.34074Z"
    },
    "papermill": {
     "duration": 0.088998,
     "end_time": "2022-03-04T22:29:11.249347",
     "exception": false,
     "start_time": "2022-03-04T22:29:11.160349",
     "status": "completed"
    },
    "tags": []
   },
   "outputs": [],
   "source": [
    "brand_series_df[\"avg_year\"] = year_series"
   ]
  },
  {
   "cell_type": "code",
   "execution_count": 55,
   "id": "5d15b3c8",
   "metadata": {
    "execution": {
     "iopub.execute_input": "2022-03-04T22:29:11.415514Z",
     "iopub.status.busy": "2022-03-04T22:29:11.414596Z",
     "iopub.status.idle": "2022-03-04T22:29:11.425167Z",
     "shell.execute_reply": "2022-03-04T22:29:11.425619Z",
     "shell.execute_reply.started": "2022-03-04T21:07:15.350291Z"
    },
    "papermill": {
     "duration": 0.094965,
     "end_time": "2022-03-04T22:29:11.425796",
     "exception": false,
     "start_time": "2022-03-04T22:29:11.330831",
     "status": "completed"
    },
    "tags": []
   },
   "outputs": [
    {
     "data": {
      "text/html": [
       "<div>\n",
       "<style scoped>\n",
       "    .dataframe tbody tr th:only-of-type {\n",
       "        vertical-align: middle;\n",
       "    }\n",
       "\n",
       "    .dataframe tbody tr th {\n",
       "        vertical-align: top;\n",
       "    }\n",
       "\n",
       "    .dataframe thead th {\n",
       "        text-align: right;\n",
       "    }\n",
       "</style>\n",
       "<table border=\"1\" class=\"dataframe\">\n",
       "  <thead>\n",
       "    <tr style=\"text-align: right;\">\n",
       "      <th></th>\n",
       "      <th>avg_price</th>\n",
       "      <th>avg_km</th>\n",
       "      <th>avg_year</th>\n",
       "    </tr>\n",
       "  </thead>\n",
       "  <tbody>\n",
       "    <tr>\n",
       "      <th>volkswagen</th>\n",
       "      <td>5400.188764</td>\n",
       "      <td>128386.044040</td>\n",
       "      <td>2002.487219</td>\n",
       "    </tr>\n",
       "    <tr>\n",
       "      <th>bmw</th>\n",
       "      <td>8449.121823</td>\n",
       "      <td>132800.094518</td>\n",
       "      <td>2003.010108</td>\n",
       "    </tr>\n",
       "    <tr>\n",
       "      <th>opel</th>\n",
       "      <td>2971.899913</td>\n",
       "      <td>128722.619822</td>\n",
       "      <td>2002.155389</td>\n",
       "    </tr>\n",
       "    <tr>\n",
       "      <th>mercedes_benz</th>\n",
       "      <td>8551.650115</td>\n",
       "      <td>130572.964761</td>\n",
       "      <td>2002.049537</td>\n",
       "    </tr>\n",
       "    <tr>\n",
       "      <th>audi</th>\n",
       "      <td>9086.279598</td>\n",
       "      <td>129443.961213</td>\n",
       "      <td>2003.939950</td>\n",
       "    </tr>\n",
       "    <tr>\n",
       "      <th>ford</th>\n",
       "      <td>3696.405969</td>\n",
       "      <td>123662.257754</td>\n",
       "      <td>2002.969779</td>\n",
       "    </tr>\n",
       "    <tr>\n",
       "      <th>renault</th>\n",
       "      <td>2437.605452</td>\n",
       "      <td>127885.199126</td>\n",
       "      <td>2002.862980</td>\n",
       "    </tr>\n",
       "    <tr>\n",
       "      <th>peugeot</th>\n",
       "      <td>3267.612647</td>\n",
       "      <td>124500.621831</td>\n",
       "      <td>2003.853631</td>\n",
       "    </tr>\n",
       "    <tr>\n",
       "      <th>fiat</th>\n",
       "      <td>2892.953514</td>\n",
       "      <td>116619.694588</td>\n",
       "      <td>2002.944083</td>\n",
       "    </tr>\n",
       "    <tr>\n",
       "      <th>seat</th>\n",
       "      <td>4541.999227</td>\n",
       "      <td>120608.285670</td>\n",
       "      <td>2004.734735</td>\n",
       "    </tr>\n",
       "    <tr>\n",
       "      <th>skoda</th>\n",
       "      <td>6530.510850</td>\n",
       "      <td>113593.232806</td>\n",
       "      <td>2006.825487</td>\n",
       "    </tr>\n",
       "  </tbody>\n",
       "</table>\n",
       "</div>"
      ],
      "text/plain": [
       "                 avg_price         avg_km     avg_year\n",
       "volkswagen     5400.188764  128386.044040  2002.487219\n",
       "bmw            8449.121823  132800.094518  2003.010108\n",
       "opel           2971.899913  128722.619822  2002.155389\n",
       "mercedes_benz  8551.650115  130572.964761  2002.049537\n",
       "audi           9086.279598  129443.961213  2003.939950\n",
       "ford           3696.405969  123662.257754  2002.969779\n",
       "renault        2437.605452  127885.199126  2002.862980\n",
       "peugeot        3267.612647  124500.621831  2003.853631\n",
       "fiat           2892.953514  116619.694588  2002.944083\n",
       "seat           4541.999227  120608.285670  2004.734735\n",
       "skoda          6530.510850  113593.232806  2006.825487"
      ]
     },
     "execution_count": 55,
     "metadata": {},
     "output_type": "execute_result"
    }
   ],
   "source": [
    "brand_series_df"
   ]
  },
  {
   "cell_type": "code",
   "execution_count": 56,
   "id": "5b96ad05",
   "metadata": {
    "execution": {
     "iopub.execute_input": "2022-03-04T22:29:11.596337Z",
     "iopub.status.busy": "2022-03-04T22:29:11.595673Z",
     "iopub.status.idle": "2022-03-04T22:29:11.606103Z",
     "shell.execute_reply": "2022-03-04T22:29:11.606666Z",
     "shell.execute_reply.started": "2022-03-04T21:07:15.366578Z"
    },
    "papermill": {
     "duration": 0.098578,
     "end_time": "2022-03-04T22:29:11.606828",
     "exception": false,
     "start_time": "2022-03-04T22:29:11.508250",
     "status": "completed"
    },
    "tags": []
   },
   "outputs": [
    {
     "data": {
      "text/html": [
       "<div>\n",
       "<style scoped>\n",
       "    .dataframe tbody tr th:only-of-type {\n",
       "        vertical-align: middle;\n",
       "    }\n",
       "\n",
       "    .dataframe tbody tr th {\n",
       "        vertical-align: top;\n",
       "    }\n",
       "\n",
       "    .dataframe thead th {\n",
       "        text-align: right;\n",
       "    }\n",
       "</style>\n",
       "<table border=\"1\" class=\"dataframe\">\n",
       "  <thead>\n",
       "    <tr style=\"text-align: right;\">\n",
       "      <th></th>\n",
       "      <th>avg_price</th>\n",
       "      <th>avg_km</th>\n",
       "      <th>avg_year</th>\n",
       "    </tr>\n",
       "  </thead>\n",
       "  <tbody>\n",
       "    <tr>\n",
       "      <th>audi</th>\n",
       "      <td>9086.279598</td>\n",
       "      <td>129443.961213</td>\n",
       "      <td>2003.939950</td>\n",
       "    </tr>\n",
       "    <tr>\n",
       "      <th>mercedes_benz</th>\n",
       "      <td>8551.650115</td>\n",
       "      <td>130572.964761</td>\n",
       "      <td>2002.049537</td>\n",
       "    </tr>\n",
       "    <tr>\n",
       "      <th>bmw</th>\n",
       "      <td>8449.121823</td>\n",
       "      <td>132800.094518</td>\n",
       "      <td>2003.010108</td>\n",
       "    </tr>\n",
       "    <tr>\n",
       "      <th>skoda</th>\n",
       "      <td>6530.510850</td>\n",
       "      <td>113593.232806</td>\n",
       "      <td>2006.825487</td>\n",
       "    </tr>\n",
       "    <tr>\n",
       "      <th>volkswagen</th>\n",
       "      <td>5400.188764</td>\n",
       "      <td>128386.044040</td>\n",
       "      <td>2002.487219</td>\n",
       "    </tr>\n",
       "    <tr>\n",
       "      <th>seat</th>\n",
       "      <td>4541.999227</td>\n",
       "      <td>120608.285670</td>\n",
       "      <td>2004.734735</td>\n",
       "    </tr>\n",
       "    <tr>\n",
       "      <th>ford</th>\n",
       "      <td>3696.405969</td>\n",
       "      <td>123662.257754</td>\n",
       "      <td>2002.969779</td>\n",
       "    </tr>\n",
       "    <tr>\n",
       "      <th>peugeot</th>\n",
       "      <td>3267.612647</td>\n",
       "      <td>124500.621831</td>\n",
       "      <td>2003.853631</td>\n",
       "    </tr>\n",
       "    <tr>\n",
       "      <th>opel</th>\n",
       "      <td>2971.899913</td>\n",
       "      <td>128722.619822</td>\n",
       "      <td>2002.155389</td>\n",
       "    </tr>\n",
       "    <tr>\n",
       "      <th>fiat</th>\n",
       "      <td>2892.953514</td>\n",
       "      <td>116619.694588</td>\n",
       "      <td>2002.944083</td>\n",
       "    </tr>\n",
       "    <tr>\n",
       "      <th>renault</th>\n",
       "      <td>2437.605452</td>\n",
       "      <td>127885.199126</td>\n",
       "      <td>2002.862980</td>\n",
       "    </tr>\n",
       "  </tbody>\n",
       "</table>\n",
       "</div>"
      ],
      "text/plain": [
       "                 avg_price         avg_km     avg_year\n",
       "audi           9086.279598  129443.961213  2003.939950\n",
       "mercedes_benz  8551.650115  130572.964761  2002.049537\n",
       "bmw            8449.121823  132800.094518  2003.010108\n",
       "skoda          6530.510850  113593.232806  2006.825487\n",
       "volkswagen     5400.188764  128386.044040  2002.487219\n",
       "seat           4541.999227  120608.285670  2004.734735\n",
       "ford           3696.405969  123662.257754  2002.969779\n",
       "peugeot        3267.612647  124500.621831  2003.853631\n",
       "opel           2971.899913  128722.619822  2002.155389\n",
       "fiat           2892.953514  116619.694588  2002.944083\n",
       "renault        2437.605452  127885.199126  2002.862980"
      ]
     },
     "execution_count": 56,
     "metadata": {},
     "output_type": "execute_result"
    }
   ],
   "source": [
    "brand_series_df.sort_values(by='avg_price', axis=0, ascending=False)"
   ]
  },
  {
   "cell_type": "markdown",
   "id": "ee0d7f6d",
   "metadata": {
    "papermill": {
     "duration": 0.084798,
     "end_time": "2022-03-04T22:29:11.780038",
     "exception": false,
     "start_time": "2022-03-04T22:29:11.695240",
     "status": "completed"
    },
    "tags": []
   },
   "source": [
    "Isn't any significant difference between mileage and price - slight increase in average km with more expensive models. "
   ]
  },
  {
   "cell_type": "code",
   "execution_count": null,
   "id": "2220d00d",
   "metadata": {
    "papermill": {
     "duration": 0.082927,
     "end_time": "2022-03-04T22:29:11.945802",
     "exception": false,
     "start_time": "2022-03-04T22:29:11.862875",
     "status": "completed"
    },
    "tags": []
   },
   "outputs": [],
   "source": []
  }
 ],
 "metadata": {
  "kernelspec": {
   "display_name": "Python 3",
   "language": "python",
   "name": "python3"
  },
  "language_info": {
   "codemirror_mode": {
    "name": "ipython",
    "version": 3
   },
   "file_extension": ".py",
   "mimetype": "text/x-python",
   "name": "python",
   "nbconvert_exporter": "python",
   "pygments_lexer": "ipython3",
   "version": "3.7.12"
  },
  "papermill": {
   "default_parameters": {},
   "duration": 32.084906,
   "end_time": "2022-03-04T22:29:12.741838",
   "environment_variables": {},
   "exception": null,
   "input_path": "__notebook__.ipynb",
   "output_path": "__notebook__.ipynb",
   "parameters": {},
   "start_time": "2022-03-04T22:28:40.656932",
   "version": "2.3.3"
  }
 },
 "nbformat": 4,
 "nbformat_minor": 5
}
